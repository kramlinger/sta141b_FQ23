{
 "cells": [
  {
   "cell_type": "markdown",
   "id": "ff704263",
   "metadata": {
    "slideshow": {
     "slide_type": "slide"
    }
   },
   "source": [
    "# STA 141B Data & Web Technologies for Data Analysis\n",
    "\n",
    "### Lecture 1, 9/28/23, Basics of Python"
   ]
  },
  {
   "cell_type": "markdown",
   "id": "522b9f25",
   "metadata": {
    "slideshow": {
     "slide_type": "slide"
    }
   },
   "source": [
    "### Today's topics\n",
    "\n",
    "<style>\n",
    "    font-size: 40x;\n",
    "</style>\n",
    "\n",
    "- Course Organization\n",
    "- Basics of Python"
   ]
  },
  {
   "cell_type": "markdown",
   "id": "4f4d634f",
   "metadata": {
    "slideshow": {
     "slide_type": "slide"
    }
   },
   "source": [
    "### Course Organization\n",
    "\n",
    "This course covers topics of data acquisition and processing. \n",
    "We will learn how to automatically retrieve information from publicly available sources on the internet. \n",
    "This includes processing these data so that they can then be studied statistically. \n",
    "\n",
    "The course consists of three parts: \n",
    "\n",
    "1. Introduction to Python\n",
    "2. Data acquisition\n",
    "3. Visualisation"
   ]
  },
  {
   "cell_type": "markdown",
   "id": "a01bdbdb",
   "metadata": {
    "slideshow": {
     "slide_type": "slide"
    }
   },
   "source": [
    "The final grade is determined by \n",
    "- six homeworks (40%),\n",
    "- one exam on the basics of Python on October 19th (each 20%),\n",
    "- project due December 15th (35%).\n",
    "\n",
    "For comprehensive and updated information about the course, please consult [Canvas](https://canvas.ucdavis.edu/courses/823714).  "
   ]
  },
  {
   "cell_type": "markdown",
   "id": "a63c282d",
   "metadata": {
    "slideshow": {
     "slide_type": "slide"
    }
   },
   "source": [
    "The project will be collaborative work with two to three group members. You will use the methods learn in this class to procure a data set, preferrably from multiple sources, and process it to make it accessible for further investigation. This involves displaying its properties by visual means, so that statistical hypotheses can be formed. \n",
    "\n",
    "The groups have to be formed by October 20th. A project proposal is due November 4th. "
   ]
  },
  {
   "cell_type": "markdown",
   "id": "7ef85869",
   "metadata": {
    "slideshow": {
     "slide_type": "slide"
    }
   },
   "source": [
    "All material of this course will be made available online [GitHub](https://github.com/kramlinger/sta141b). Use [Piazza](https://piazza.com/class/lmwfo497gbh5xs), for any inquiries regarding organization, homework or lectures. We will monitor this site M-F during business hours. Please do not write emails! Screen recordings and all other class related administrative information will be made available on [Canvas]([Canvas](https://canvas.ucdavis.edu/courses/823714). \n",
    "\n",
    "Office hours: \n",
    "* Peter Kramlinger: R 10:45-11:45 AM, MSB 1143\n",
    "* Xiangbo Mo: T.B.A.\n",
    "* Jingwei Xiong: F 1-2 PM, [Zoom](https://canvas.ucdavis.edu/courses/823714/external_tools/8022)"
   ]
  },
  {
   "cell_type": "markdown",
   "id": "0ef2316b",
   "metadata": {
    "slideshow": {
     "slide_type": "slide"
    }
   },
   "source": [
    "#### Ethics\n",
    "\n",
    "This is a programming class. Using assistance is part of programming and is encouraged. This can be AI based, or from online sources (e.g., [stackoverflow](https://stackoverflow.com/questions)). \n",
    "\n",
    "However, you will be graded by your proficiency in coding. In all assignments, make sure that you display your own contribution. Submitting AI generated code, answers from online sources, or even classmates' solutions will not be enough to pass the course. Furthermore, if you pass off someone else's work as your own, then you are engaging in academic misconduct. \n"
   ]
  },
  {
   "cell_type": "markdown",
   "id": "cc33462d",
   "metadata": {
    "slideshow": {
     "slide_type": "slide"
    }
   },
   "source": [
    "### Basics of Python\n",
    "\n",
    "For this course, we will use Python to retrieve data. Today and next Tuesday we will introduce and review some basic aspects. Due to its simplicity, it is one of the most popular programming languages. "
   ]
  },
  {
   "cell_type": "code",
   "execution_count": null,
   "id": "f341c1af",
   "metadata": {},
   "outputs": [],
   "source": [
    "import this"
   ]
  },
  {
   "cell_type": "markdown",
   "id": "c9d13ebc",
   "metadata": {
    "slideshow": {
     "slide_type": "slide"
    }
   },
   "source": [
    "#### Arithmetic operations\n",
    "\n",
    "Python is a fancy calculator that allows for all basic arithmetic operations. The first notable difference to R is that not every result is printed. "
   ]
  },
  {
   "cell_type": "code",
   "execution_count": null,
   "id": "5e8a0aab",
   "metadata": {},
   "outputs": [],
   "source": [
    "12 + 4\n",
    "20 - 4 \n",
    "2 * 8\n",
    "32 / 2"
   ]
  },
  {
   "cell_type": "code",
   "execution_count": null,
   "id": "023d616e",
   "metadata": {},
   "outputs": [],
   "source": [
    "4 ** 2 # exponentiation"
   ]
  },
  {
   "cell_type": "code",
   "execution_count": null,
   "id": "56041eed",
   "metadata": {},
   "outputs": [],
   "source": [
    "4 ^ 2 # ^ is a binary operator in python, we won't use it here"
   ]
  },
  {
   "cell_type": "code",
   "execution_count": null,
   "id": "036fec22",
   "metadata": {},
   "outputs": [],
   "source": [
    "33 % 17 # modulus"
   ]
  },
  {
   "cell_type": "code",
   "execution_count": null,
   "id": "8c5aa3ff",
   "metadata": {},
   "outputs": [],
   "source": [
    "(1 + 12 / 4) ** (3 + 2) / 8 * * 2"
   ]
  },
  {
   "cell_type": "markdown",
   "id": "0a1d75dd",
   "metadata": {
    "slideshow": {
     "slide_type": "slide"
    }
   },
   "source": [
    "The assignment operator in Python is `=`. "
   ]
  },
  {
   "cell_type": "code",
   "execution_count": null,
   "id": "08207378",
   "metadata": {},
   "outputs": [],
   "source": [
    "x = 4 "
   ]
  },
  {
   "cell_type": "code",
   "execution_count": null,
   "id": "8caf9d26",
   "metadata": {},
   "outputs": [],
   "source": [
    "x"
   ]
  },
  {
   "cell_type": "markdown",
   "id": "eb7f61b6",
   "metadata": {
    "slideshow": {
     "slide_type": "-"
    }
   },
   "source": [
    "Python is all about cleanliness! Very useful are the assignment operators that perform an arithmetic operation and avoid redundant code. "
   ]
  },
  {
   "cell_type": "code",
   "execution_count": null,
   "id": "fed36ded",
   "metadata": {},
   "outputs": [],
   "source": [
    "x += 3\n",
    "x"
   ]
  },
  {
   "cell_type": "code",
   "execution_count": null,
   "id": "885306d6",
   "metadata": {},
   "outputs": [],
   "source": [
    "x -= 2\n",
    "x"
   ]
  },
  {
   "cell_type": "code",
   "execution_count": null,
   "id": "84904706",
   "metadata": {},
   "outputs": [],
   "source": [
    "x *= x + 1\n",
    "x"
   ]
  },
  {
   "cell_type": "code",
   "execution_count": null,
   "id": "2a3fa1b3",
   "metadata": {},
   "outputs": [],
   "source": [
    "x /= 6\n",
    "x **= 2\n",
    "x %= 5\n",
    "x"
   ]
  },
  {
   "cell_type": "markdown",
   "id": "480d3dad",
   "metadata": {
    "slideshow": {
     "slide_type": "slide"
    }
   },
   "source": [
    "Boolean operators are: "
   ]
  },
  {
   "cell_type": "code",
   "execution_count": null,
   "id": "7c97bc4c",
   "metadata": {},
   "outputs": [],
   "source": [
    "4 == 5"
   ]
  },
  {
   "cell_type": "code",
   "execution_count": null,
   "id": "1821778e",
   "metadata": {},
   "outputs": [],
   "source": [
    "4 != 5"
   ]
  },
  {
   "cell_type": "code",
   "execution_count": null,
   "id": "bb5713de",
   "metadata": {},
   "outputs": [],
   "source": [
    "4 >= 5"
   ]
  },
  {
   "cell_type": "code",
   "execution_count": null,
   "id": "27b53d8a",
   "metadata": {},
   "outputs": [],
   "source": [
    "4 >= 5 and True"
   ]
  },
  {
   "cell_type": "code",
   "execution_count": null,
   "id": "b34552a5",
   "metadata": {},
   "outputs": [],
   "source": [
    "4 >= 5 or True"
   ]
  },
  {
   "cell_type": "code",
   "execution_count": null,
   "id": "5f3db3c2",
   "metadata": {},
   "outputs": [],
   "source": [
    "4 <= 5 or not True"
   ]
  },
  {
   "cell_type": "markdown",
   "id": "9f29bfd8",
   "metadata": {
    "slideshow": {
     "slide_type": "slide"
    }
   },
   "source": [
    "Brackets are important to nest statements. "
   ]
  },
  {
   "cell_type": "code",
   "execution_count": null,
   "id": "3014ca33",
   "metadata": {},
   "outputs": [],
   "source": [
    "4 <= 5 == True"
   ]
  },
  {
   "cell_type": "code",
   "execution_count": null,
   "id": "0a2e565d",
   "metadata": {},
   "outputs": [],
   "source": [
    "(4 <= 5) == True "
   ]
  },
  {
   "cell_type": "code",
   "execution_count": null,
   "id": "b9e7e7e0",
   "metadata": {},
   "outputs": [],
   "source": [
    "(4 <= 5) is True"
   ]
  },
  {
   "cell_type": "markdown",
   "id": "a5a651dd",
   "metadata": {
    "slideshow": {
     "slide_type": "slide"
    }
   },
   "source": [
    "The distinction between `==` and `is` is not semantics: "
   ]
  },
  {
   "cell_type": "code",
   "execution_count": null,
   "id": "4a89cbd7",
   "metadata": {},
   "outputs": [],
   "source": [
    "x = 3\n",
    "y = 3.0\n",
    "x == y # equality"
   ]
  },
  {
   "cell_type": "code",
   "execution_count": null,
   "id": "8b5a396a",
   "metadata": {},
   "outputs": [],
   "source": [
    "x is y # identical"
   ]
  },
  {
   "cell_type": "markdown",
   "id": "88fd6f61",
   "metadata": {
    "slideshow": {
     "slide_type": "slide"
    }
   },
   "source": [
    "#### Syntax\n",
    "\n",
    "Python code is user friendly and much cleaner than, e.g., R. We want to keep it that way. Therefore, lets adhere to some principles: \n",
    "\n",
    "Instead of brackets, Python uses indentation. The if clause below enters the indented chunk if the condition is `True`. "
   ]
  },
  {
   "cell_type": "code",
   "execution_count": null,
   "id": "6e87dc56",
   "metadata": {},
   "outputs": [],
   "source": [
    "if 4 > 0: \n",
    "    print('Four is strictly greater than zero.')\n",
    "else: \n",
    "    print('Four is not strictly greater than zero.')\n",
    "print('Indeed.')"
   ]
  },
  {
   "cell_type": "markdown",
   "id": "6f57a531",
   "metadata": {
    "slideshow": {
     "slide_type": "slide"
    }
   },
   "source": [
    "We will learn more about loops and if statement next lecture. Indentation works if at least one space is left, as in the `else` statement above. However, it is advised to use four blank spaces. In any case, be consistent throughout your code. "
   ]
  },
  {
   "cell_type": "code",
   "execution_count": null,
   "id": "6d119d6d",
   "metadata": {
    "scrolled": true
   },
   "outputs": [],
   "source": [
    "k = 0\n",
    "for i in range(1,100):\n",
    "    k = k + i\n",
    "    print(k)"
   ]
  },
  {
   "cell_type": "markdown",
   "id": "90a090fe",
   "metadata": {
    "slideshow": {
     "slide_type": "slide"
    }
   },
   "source": [
    "Indentation really matters in Python!"
   ]
  },
  {
   "cell_type": "code",
   "execution_count": null,
   "id": "ce44d9a6",
   "metadata": {},
   "outputs": [],
   "source": [
    "k = 0\n",
    "for i in range(1, 100): # 1, 2, 3, ..., 99\n",
    "    k = k + i\n",
    "print(k)"
   ]
  },
  {
   "cell_type": "markdown",
   "id": "067c15b5",
   "metadata": {
    "slideshow": {
     "slide_type": "slide"
    }
   },
   "source": [
    "Identation is necessary everywhere where other languages would put curly brackets..."
   ]
  },
  {
   "cell_type": "code",
   "execution_count": null,
   "id": "44c80da1",
   "metadata": {},
   "outputs": [],
   "source": [
    "def square_it(x):\n",
    "    return x ** 2"
   ]
  },
  {
   "cell_type": "code",
   "execution_count": null,
   "id": "ba196c3f",
   "metadata": {},
   "outputs": [],
   "source": [
    "square_it(123)"
   ]
  },
  {
   "cell_type": "markdown",
   "id": "0afbfa8b",
   "metadata": {
    "slideshow": {
     "slide_type": "slide"
    }
   },
   "source": [
    "While statements can be separated using `;` its better to put every statement in a new line. Screen space doesn't cost anything!"
   ]
  },
  {
   "cell_type": "code",
   "execution_count": null,
   "id": "df7b64e4",
   "metadata": {},
   "outputs": [],
   "source": [
    "y = 2; x = y + 1; print(y % x); (y ** 2) == 2 # wrong!"
   ]
  },
  {
   "cell_type": "markdown",
   "id": "6e5618fd",
   "metadata": {
    "slideshow": {
     "slide_type": "slide"
    }
   },
   "source": [
    "If you don't want to break down lengthy formulae in smaller steps, use brackets to use several lines: "
   ]
  },
  {
   "cell_type": "code",
   "execution_count": null,
   "id": "12eb39a6",
   "metadata": {},
   "outputs": [],
   "source": [
    "x = (2 # imagine a full line of code...\n",
    "     + 3 # ...and a second one... \n",
    "     - 4) # .. until you're done"
   ]
  },
  {
   "cell_type": "markdown",
   "id": "c8f100d1",
   "metadata": {
    "slideshow": {
     "slide_type": "-"
    }
   },
   "source": [
    "Keep the operators at the beginning of the line to increase readability. "
   ]
  },
  {
   "cell_type": "markdown",
   "id": "e526c35b",
   "metadata": {
    "slideshow": {
     "slide_type": "slide"
    }
   },
   "source": [
    "Variable names must not contain `.`, as the dot accesses an attribute of the considered object. "
   ]
  },
  {
   "cell_type": "code",
   "execution_count": null,
   "id": "a45ce63e",
   "metadata": {},
   "outputs": [],
   "source": [
    "x.y = 3"
   ]
  },
  {
   "cell_type": "code",
   "execution_count": null,
   "id": "951397ae",
   "metadata": {},
   "outputs": [],
   "source": [
    "x_y = 3"
   ]
  },
  {
   "cell_type": "markdown",
   "id": "970b4ca9",
   "metadata": {
    "slideshow": {
     "slide_type": "-"
    }
   },
   "source": [
    "Cleanliness and convention is very important in Python. Make sure to follow the [style guide (link to external website)](https://peps.python.org/pep-0008/)  in coding. "
   ]
  },
  {
   "cell_type": "markdown",
   "id": "7e1b183f",
   "metadata": {
    "slideshow": {
     "slide_type": "slide"
    }
   },
   "source": [
    "#### Types\n",
    "\n",
    "So far we have used <kbd>int</kbd>, <kbd>floats</kbd> and <kbd>bool</kbd>. We will use the following basic types: \n",
    "- Numeric: <kbd>int</kbd>, <kbd>floats</kbd>, <kbd>complex</kbd>\n",
    "- Boolean: <kbd>bool</kbd>\n",
    "- String: <kbd>str</kbd>\n",
    "- Sequence: <kbd>list</kbd>, <kbd>tuple</kbd>, <kbd>range</kbd>\n",
    "- Mapping: <kbd>dict</kbd>\n",
    "- Set: <kbd>set</kbd>"
   ]
  },
  {
   "cell_type": "markdown",
   "id": "e1f2c798",
   "metadata": {
    "slideshow": {
     "slide_type": "slide"
    }
   },
   "source": [
    "We can check the type by calling `type`. "
   ]
  },
  {
   "cell_type": "code",
   "execution_count": null,
   "id": "2a1e447e",
   "metadata": {},
   "outputs": [],
   "source": [
    "type(1)"
   ]
  },
  {
   "cell_type": "code",
   "execution_count": null,
   "id": "a75b80d7",
   "metadata": {},
   "outputs": [],
   "source": [
    "type(1.0)"
   ]
  },
  {
   "cell_type": "code",
   "execution_count": null,
   "id": "90c06734",
   "metadata": {},
   "outputs": [],
   "source": [
    "type(1 + 1j) # not i, but j! "
   ]
  },
  {
   "cell_type": "code",
   "execution_count": null,
   "id": "cf5dbaa0",
   "metadata": {},
   "outputs": [],
   "source": [
    "type(True) "
   ]
  },
  {
   "cell_type": "code",
   "execution_count": null,
   "id": "3621df15",
   "metadata": {},
   "outputs": [],
   "source": [
    "type('Hello World!')"
   ]
  },
  {
   "cell_type": "markdown",
   "id": "23383db2",
   "metadata": {
    "slideshow": {
     "slide_type": "slide"
    }
   },
   "source": [
    "Types can be casted using the constructors.  "
   ]
  },
  {
   "cell_type": "code",
   "execution_count": null,
   "id": "ee754806",
   "metadata": {},
   "outputs": [],
   "source": [
    "x = 1\n",
    "type(x)"
   ]
  },
  {
   "cell_type": "code",
   "execution_count": null,
   "id": "2cf7bf99",
   "metadata": {},
   "outputs": [],
   "source": [
    "id(x)"
   ]
  },
  {
   "cell_type": "code",
   "execution_count": null,
   "id": "02012c17",
   "metadata": {},
   "outputs": [],
   "source": [
    "x = float(x)\n",
    "type(x)"
   ]
  },
  {
   "cell_type": "code",
   "execution_count": null,
   "id": "7772458e",
   "metadata": {},
   "outputs": [],
   "source": [
    "id(x)"
   ]
  },
  {
   "cell_type": "markdown",
   "id": "3ce8cf91",
   "metadata": {
    "slideshow": {
     "slide_type": "slide"
    }
   },
   "source": [
    "Although recasting makes things easy to work with, always be aware of all the work you require your compiler to do! "
   ]
  },
  {
   "cell_type": "code",
   "execution_count": null,
   "id": "87eb153e",
   "metadata": {},
   "outputs": [],
   "source": [
    "x = bool(x)\n",
    "type(x)"
   ]
  },
  {
   "cell_type": "code",
   "execution_count": null,
   "id": "43709cc0",
   "metadata": {},
   "outputs": [],
   "source": [
    "x "
   ]
  },
  {
   "cell_type": "code",
   "execution_count": null,
   "id": "53895e07",
   "metadata": {},
   "outputs": [],
   "source": [
    "bool(-1)"
   ]
  },
  {
   "cell_type": "code",
   "execution_count": null,
   "id": "8f4fc70f",
   "metadata": {},
   "outputs": [],
   "source": [
    "bool(0)"
   ]
  },
  {
   "cell_type": "code",
   "execution_count": null,
   "id": "cb194910",
   "metadata": {},
   "outputs": [],
   "source": [
    "bool(1)"
   ]
  },
  {
   "cell_type": "code",
   "execution_count": null,
   "id": "9ee621d0",
   "metadata": {},
   "outputs": [],
   "source": [
    "bool(0.1)"
   ]
  },
  {
   "cell_type": "code",
   "execution_count": null,
   "id": "53319b2a",
   "metadata": {},
   "outputs": [],
   "source": [
    "x = str(x)\n",
    "x"
   ]
  },
  {
   "cell_type": "code",
   "execution_count": null,
   "id": "2f3f8de8",
   "metadata": {},
   "outputs": [],
   "source": [
    "x + ' or False?'"
   ]
  },
  {
   "cell_type": "markdown",
   "id": "dddae2ce",
   "metadata": {
    "slideshow": {
     "slide_type": "slide"
    }
   },
   "source": [
    "We can force printing by using `print`. "
   ]
  },
  {
   "cell_type": "code",
   "execution_count": null,
   "id": "5a47aa21",
   "metadata": {},
   "outputs": [],
   "source": [
    "x = bool(x)\n",
    "print(x)\n",
    "complex(x)"
   ]
  },
  {
   "cell_type": "markdown",
   "id": "dcbdd14b",
   "metadata": {
    "slideshow": {
     "slide_type": "slide"
    }
   },
   "source": [
    "You can check what a functions does by running `help`. "
   ]
  },
  {
   "cell_type": "code",
   "execution_count": null,
   "id": "73731e9e",
   "metadata": {},
   "outputs": [],
   "source": [
    "help(print)"
   ]
  },
  {
   "cell_type": "markdown",
   "id": "633efc3c",
   "metadata": {
    "slideshow": {
     "slide_type": "slide"
    }
   },
   "source": [
    "We are using Python because it is industry standard, not because it is superior to, e.g., R. It is industry standard because it is so easy and simple. We should keep it that way. \n",
    "\n",
    "__Adhere to the principles of proper programming!__\n",
    "\n",
    "- K.I.S.S. (Keep It Simple, Stupid): Functions should perform one task, and one task only. \n",
    "- Rule of Three (avoid code duplication): Duplication is a bad programming habit because it makes code harder to maintain. \n",
    "- Clarity before Efficiency: Never sacrifice clarity for some perceived efficiency. Donald Knuth: \"Premature optimization is the root of all evil.\"\n",
    "- Naming: Stick to consistency and conventions. "
   ]
  },
  {
   "cell_type": "markdown",
   "id": "0d4ff389",
   "metadata": {
    "slideshow": {
     "slide_type": "slide"
    }
   },
   "source": [
    "#### Sequence\n",
    "\n",
    "##### Range\n",
    "\n",
    "We have already used a <kbd>range</kbd> object in `for` loops. The function `range(start, stop, step)` creates a <kbd>range</kbd> type object. Note that it starts at `start` and ends at `stop - 1`."
   ]
  },
  {
   "cell_type": "code",
   "execution_count": null,
   "id": "8a01be49",
   "metadata": {},
   "outputs": [],
   "source": [
    "x = range(1, 10) \n",
    "len(x)"
   ]
  },
  {
   "cell_type": "code",
   "execution_count": null,
   "id": "9fddac1e",
   "metadata": {},
   "outputs": [],
   "source": [
    "x = range(1, 10)\n",
    "for n in x:\n",
    "    print(n)"
   ]
  },
  {
   "cell_type": "code",
   "execution_count": null,
   "id": "c23c4f18",
   "metadata": {},
   "outputs": [],
   "source": [
    "type(x)"
   ]
  },
  {
   "cell_type": "markdown",
   "id": "1e40bdd4",
   "metadata": {
    "slideshow": {
     "slide_type": "slide"
    }
   },
   "source": [
    "`range(0, 100)` creates an iterable object and should be used in , e.g., `for` loops to iterate over. It does not instantiate a vector of length $100$, that would take up too much space. "
   ]
  },
  {
   "cell_type": "code",
   "execution_count": null,
   "id": "160153af",
   "metadata": {},
   "outputs": [],
   "source": [
    "x = range(0, 100**100)"
   ]
  },
  {
   "cell_type": "code",
   "execution_count": null,
   "id": "9fe89885",
   "metadata": {},
   "outputs": [],
   "source": [
    "import sys\n",
    "sys.getsizeof(x)"
   ]
  },
  {
   "cell_type": "code",
   "execution_count": null,
   "id": "e40b58bd",
   "metadata": {
    "scrolled": false
   },
   "outputs": [],
   "source": [
    "sys.getsizeof(100**100) # just the largest value of that range..."
   ]
  },
  {
   "cell_type": "markdown",
   "id": "95f6d319",
   "metadata": {
    "slideshow": {
     "slide_type": "slide"
    }
   },
   "source": [
    "##### Tuple\n",
    "\n",
    "A <kbd>tuple</kbd> is an ordered collection of values. Think of coordinates. <kbd>tuple</kbd> is immutable, which means they can't be changed after they're created."
   ]
  },
  {
   "cell_type": "code",
   "execution_count": null,
   "id": "a470c1d5",
   "metadata": {},
   "outputs": [],
   "source": [
    "x = (1, 3.0, \"horse\") # parenthesis are optional, but should be used for clarity \n",
    "x"
   ]
  },
  {
   "cell_type": "code",
   "execution_count": null,
   "id": "d522a348",
   "metadata": {},
   "outputs": [],
   "source": [
    "type(x)"
   ]
  },
  {
   "cell_type": "markdown",
   "id": "b905e3b5",
   "metadata": {
    "slideshow": {
     "slide_type": "slide"
    }
   },
   "source": [
    "There are three ways to get elements from a tuple:\n",
    "- Indexing with `[]` \n",
    "- Slicing with `[a:b]`, a slice a:b gets elements from a to b - 1\n",
    "- Unpacking: assign to a same-shape tuple of variables on the left-hand side\n",
    "\n",
    "Note that that objects in Python are indexed starting with zero!"
   ]
  },
  {
   "cell_type": "code",
   "execution_count": null,
   "id": "7e608ae6",
   "metadata": {},
   "outputs": [],
   "source": [
    "x[0]"
   ]
  },
  {
   "cell_type": "code",
   "execution_count": null,
   "id": "af3b013a",
   "metadata": {},
   "outputs": [],
   "source": [
    "type(x[2])"
   ]
  },
  {
   "cell_type": "code",
   "execution_count": null,
   "id": "52cc6644",
   "metadata": {
    "slideshow": {
     "slide_type": "slide"
    }
   },
   "outputs": [],
   "source": [
    "x"
   ]
  },
  {
   "cell_type": "code",
   "execution_count": null,
   "id": "501b3644",
   "metadata": {
    "slideshow": {
     "slide_type": "-"
    }
   },
   "outputs": [],
   "source": [
    "x[3]"
   ]
  },
  {
   "cell_type": "code",
   "execution_count": null,
   "id": "42145205",
   "metadata": {},
   "outputs": [],
   "source": [
    "x[0:2]"
   ]
  },
  {
   "cell_type": "code",
   "execution_count": null,
   "id": "3e4b461c",
   "metadata": {},
   "outputs": [],
   "source": [
    "x[0:1] "
   ]
  },
  {
   "cell_type": "code",
   "execution_count": null,
   "id": "3452ff59",
   "metadata": {},
   "outputs": [],
   "source": [
    "type(x[:1]) # leaving the a-position blank assumes the first entry at position zero"
   ]
  },
  {
   "cell_type": "markdown",
   "id": "92ac4dad",
   "metadata": {
    "slideshow": {
     "slide_type": "slide"
    }
   },
   "source": [
    "Python has the ability to assign multiple varaiables at once! This is called unpacking. "
   ]
  },
  {
   "cell_type": "code",
   "execution_count": null,
   "id": "74941cd2",
   "metadata": {},
   "outputs": [],
   "source": [
    "u, v, w = x\n",
    "print(u)\n",
    "print(v)\n",
    "print(w)"
   ]
  },
  {
   "cell_type": "code",
   "execution_count": null,
   "id": "c186158a",
   "metadata": {},
   "outputs": [],
   "source": [
    "type(v)"
   ]
  },
  {
   "cell_type": "markdown",
   "id": "f4f9038d",
   "metadata": {
    "slideshow": {
     "slide_type": "slide"
    }
   },
   "source": [
    "For unpacking, there must be enough variables provided. "
   ]
  },
  {
   "cell_type": "code",
   "execution_count": null,
   "id": "35fc4c78",
   "metadata": {},
   "outputs": [],
   "source": [
    "u, v = x\n",
    "print(v)\n",
    "print(w)"
   ]
  },
  {
   "cell_type": "markdown",
   "id": "f717e01c",
   "metadata": {
    "slideshow": {
     "slide_type": "slide"
    }
   },
   "source": [
    "Once created, tuples can't be changed!"
   ]
  },
  {
   "cell_type": "code",
   "execution_count": null,
   "id": "872207c5",
   "metadata": {},
   "outputs": [],
   "source": [
    "x[2] = 'horsies'"
   ]
  },
  {
   "cell_type": "markdown",
   "id": "eea5d34c",
   "metadata": {},
   "source": [
    "This is a feature, not shortcoming of <kbd>tuple</kbd>. Since they cannot be changed nor appended, they are more  economical than <kbd>list</kbd>. "
   ]
  },
  {
   "cell_type": "markdown",
   "id": "29c5a653",
   "metadata": {
    "slideshow": {
     "slide_type": "slide"
    }
   },
   "source": [
    "##### Lists\n",
    "\n",
    "<kbd>list</kbd> is the mutable counterpart of <kbd>tuple</kbd>. They are instantiated with square brackets. "
   ]
  },
  {
   "cell_type": "code",
   "execution_count": null,
   "id": "df3fc575",
   "metadata": {},
   "outputs": [],
   "source": [
    "y = [100, 3.0, \"horse\"]\n",
    "type(y)"
   ]
  },
  {
   "cell_type": "code",
   "execution_count": null,
   "id": "4c76835b",
   "metadata": {},
   "outputs": [],
   "source": [
    "sys.getsizeof(x)"
   ]
  },
  {
   "cell_type": "code",
   "execution_count": null,
   "id": "4e84b219",
   "metadata": {},
   "outputs": [],
   "source": [
    "sys.getsizeof(y)"
   ]
  },
  {
   "cell_type": "markdown",
   "id": "f8e2f67c",
   "metadata": {
    "slideshow": {
     "slide_type": "slide"
    }
   },
   "source": [
    "They are however mutable. "
   ]
  },
  {
   "cell_type": "code",
   "execution_count": null,
   "id": "520d1f7e",
   "metadata": {},
   "outputs": [],
   "source": [
    "y[2] = \"horsies\"\n",
    "y"
   ]
  },
  {
   "cell_type": "markdown",
   "id": "53c756e0",
   "metadata": {
    "slideshow": {
     "slide_type": "slide"
    }
   },
   "source": [
    "Accessing lists works just like for tuples. "
   ]
  },
  {
   "cell_type": "code",
   "execution_count": null,
   "id": "1423e57c",
   "metadata": {},
   "outputs": [],
   "source": [
    "y[0]"
   ]
  },
  {
   "cell_type": "code",
   "execution_count": null,
   "id": "84991c54",
   "metadata": {},
   "outputs": [],
   "source": [
    "y[3]"
   ]
  },
  {
   "cell_type": "code",
   "execution_count": null,
   "id": "17813dfe",
   "metadata": {},
   "outputs": [],
   "source": [
    "y[1:]"
   ]
  },
  {
   "cell_type": "code",
   "execution_count": null,
   "id": "7ba45c76",
   "metadata": {},
   "outputs": [],
   "source": [
    "y[2:] # one-dim list"
   ]
  },
  {
   "cell_type": "code",
   "execution_count": null,
   "id": "e8c311ff",
   "metadata": {},
   "outputs": [],
   "source": [
    "y[2:][0]"
   ]
  },
  {
   "cell_type": "markdown",
   "id": "fdb7fd58",
   "metadata": {
    "slideshow": {
     "slide_type": "slide"
    }
   },
   "source": [
    "There are two ways to read the first and third element in `y`. "
   ]
  },
  {
   "cell_type": "code",
   "execution_count": null,
   "id": "e259a52a",
   "metadata": {},
   "outputs": [],
   "source": [
    "z = [y[i] for i in range(0, 3, 2)] # more on that syntax next lecture! \n",
    "z"
   ]
  },
  {
   "cell_type": "markdown",
   "id": "cfb4d8da",
   "metadata": {
    "slideshow": {
     "slide_type": "slide"
    }
   },
   "source": [
    "Alternatively, we can slice:"
   ]
  },
  {
   "cell_type": "code",
   "execution_count": null,
   "id": "5d24d0b3",
   "metadata": {},
   "outputs": [],
   "source": [
    "z = y[0:3:2] # start at 0, stop at 3 - 1, use step size 2\n",
    "z"
   ]
  },
  {
   "cell_type": "markdown",
   "id": "232d7b2b",
   "metadata": {
    "slideshow": {
     "slide_type": "slide"
    }
   },
   "source": [
    "Just as for tuples, we can use unpacking. "
   ]
  },
  {
   "cell_type": "code",
   "execution_count": null,
   "id": "47f1ab65",
   "metadata": {},
   "outputs": [],
   "source": [
    "u, v, w = y\n",
    "print(u)\n",
    "print(v)\n",
    "print(w)"
   ]
  },
  {
   "cell_type": "code",
   "execution_count": null,
   "id": "f0e268f8",
   "metadata": {},
   "outputs": [],
   "source": [
    "del y[1]\n",
    "y"
   ]
  },
  {
   "cell_type": "markdown",
   "id": "b26a2646",
   "metadata": {
    "slideshow": {
     "slide_type": "slide"
    }
   },
   "source": [
    "Some other important methods for <kbd>list</kbd> are: "
   ]
  },
  {
   "cell_type": "code",
   "execution_count": null,
   "id": "f0a3ee9b",
   "metadata": {},
   "outputs": [],
   "source": [
    "y.append(4) #appends argument to list, does not return anything"
   ]
  },
  {
   "cell_type": "code",
   "execution_count": null,
   "id": "936010bf",
   "metadata": {},
   "outputs": [],
   "source": [
    "y"
   ]
  },
  {
   "cell_type": "code",
   "execution_count": null,
   "id": "ec3b0a8c",
   "metadata": {},
   "outputs": [],
   "source": [
    "y.append([6,7]) #appends list!\n",
    "y"
   ]
  },
  {
   "cell_type": "code",
   "execution_count": null,
   "id": "96388aaa",
   "metadata": {},
   "outputs": [],
   "source": [
    "y.index('horsies') # returns index of argument"
   ]
  },
  {
   "cell_type": "code",
   "execution_count": null,
   "id": "2cf3b560",
   "metadata": {},
   "outputs": [],
   "source": [
    "y.index(4)"
   ]
  },
  {
   "cell_type": "code",
   "execution_count": null,
   "id": "6d7d98aa",
   "metadata": {},
   "outputs": [],
   "source": [
    "y.pop(1) # removes element on argument position and returns it"
   ]
  },
  {
   "cell_type": "code",
   "execution_count": null,
   "id": "48f2cb3c",
   "metadata": {},
   "outputs": [],
   "source": [
    "y"
   ]
  },
  {
   "cell_type": "code",
   "execution_count": null,
   "id": "389da402",
   "metadata": {},
   "outputs": [],
   "source": [
    "y.reverse() # reverses the order of elements, returns nothing\n",
    "y"
   ]
  },
  {
   "cell_type": "markdown",
   "id": "583da118",
   "metadata": {
    "slideshow": {
     "slide_type": "slide"
    }
   },
   "source": [
    "### Mapping\n",
    "\n",
    "<kbd>dict</kbd> type objects are a one-to-one map from keys to values. In other words, you use a key to look up a value. Dictionaries are mutable. They are instantiated with curly brackets `{}` and colons `:`. "
   ]
  },
  {
   "cell_type": "code",
   "execution_count": null,
   "id": "db8cb5b3",
   "metadata": {},
   "outputs": [],
   "source": [
    "x = {\"hello\": 1, 3: 5.0}\n",
    "x"
   ]
  },
  {
   "cell_type": "markdown",
   "id": "a4f338ef",
   "metadata": {
    "slideshow": {
     "slide_type": "slide"
    }
   },
   "source": [
    "We can access dictionaries with indexing or its `get` method. "
   ]
  },
  {
   "cell_type": "code",
   "execution_count": null,
   "id": "4d8c8fc9",
   "metadata": {},
   "outputs": [],
   "source": [
    "x['hello']"
   ]
  },
  {
   "cell_type": "code",
   "execution_count": null,
   "id": "b0675366",
   "metadata": {},
   "outputs": [],
   "source": [
    "x[3]"
   ]
  },
  {
   "cell_type": "code",
   "execution_count": null,
   "id": "a53736e3",
   "metadata": {},
   "outputs": [],
   "source": [
    "x.get('hello')"
   ]
  },
  {
   "cell_type": "code",
   "execution_count": null,
   "id": "55ae6384",
   "metadata": {},
   "outputs": [],
   "source": [
    "x.get('house') # nothing is returned"
   ]
  },
  {
   "cell_type": "code",
   "execution_count": null,
   "id": "84a4e5cc",
   "metadata": {},
   "outputs": [],
   "source": [
    "x.get('house', 'not here') # second argument is returned if first argument is not in dictionary"
   ]
  },
  {
   "cell_type": "markdown",
   "id": "a1608fdf",
   "metadata": {
    "slideshow": {
     "slide_type": "slide"
    }
   },
   "source": [
    "The keys of a dictionary must be unique and of immutable type, i.e., numeric, boolean, string or tuples. "
   ]
  },
  {
   "cell_type": "code",
   "execution_count": null,
   "id": "0138e946",
   "metadata": {},
   "outputs": [],
   "source": [
    "x.keys() #  returns a dict_keys type object"
   ]
  },
  {
   "cell_type": "code",
   "execution_count": null,
   "id": "a940c5b1",
   "metadata": {},
   "outputs": [],
   "source": [
    "x['new key'] = 8\n",
    "x"
   ]
  },
  {
   "cell_type": "code",
   "execution_count": null,
   "id": "dd4964b8",
   "metadata": {},
   "outputs": [],
   "source": [
    "x[[1,2]] = \"lists are mutable and cant be keys\""
   ]
  },
  {
   "cell_type": "markdown",
   "id": "8b9f27b4",
   "metadata": {
    "slideshow": {
     "slide_type": "slide"
    }
   },
   "source": [
    "Therefore, only the value, not the key can be changed. "
   ]
  },
  {
   "cell_type": "code",
   "execution_count": null,
   "id": "4cc54623",
   "metadata": {},
   "outputs": [],
   "source": [
    "x['hello'] = 5.0 ** 0.5\n",
    "x"
   ]
  },
  {
   "cell_type": "markdown",
   "id": "b288fea0",
   "metadata": {},
   "source": [
    "<kbd>dict</kbd> type is useful, since lists be looked up efficiently. "
   ]
  },
  {
   "cell_type": "markdown",
   "id": "39ea22bd",
   "metadata": {
    "slideshow": {
     "slide_type": "slide"
    }
   },
   "source": [
    "#### Set\n",
    "\n",
    "A <kbd>set</kbd> is an unordered collection of unique items. It is instantiated with curly brackets. Since the items are unique, they must be inmutable!"
   ]
  },
  {
   "cell_type": "code",
   "execution_count": null,
   "id": "6101f522",
   "metadata": {},
   "outputs": [],
   "source": [
    "x = {\"apple\", True, 2} # display order changed, they are unordered\n",
    "x"
   ]
  },
  {
   "cell_type": "code",
   "execution_count": null,
   "id": "a09bd6bf",
   "metadata": {},
   "outputs": [],
   "source": [
    "{\"apple\", [2,3], 2}"
   ]
  },
  {
   "cell_type": "markdown",
   "id": "b9e94168",
   "metadata": {
    "slideshow": {
     "slide_type": "slide"
    }
   },
   "source": [
    "Sets are unordered. Hence, they do not support indexing. "
   ]
  },
  {
   "cell_type": "code",
   "execution_count": null,
   "id": "968ca1ce",
   "metadata": {},
   "outputs": [],
   "source": [
    "x[1] "
   ]
  },
  {
   "cell_type": "code",
   "execution_count": null,
   "id": "f63d38c9",
   "metadata": {
    "slideshow": {
     "slide_type": "slide"
    }
   },
   "outputs": [],
   "source": [
    "x.add(\"new item\")\n",
    "x"
   ]
  },
  {
   "cell_type": "code",
   "execution_count": null,
   "id": "32b82355",
   "metadata": {},
   "outputs": [],
   "source": [
    "x.add(\"new item\") # the items are unique\n",
    "x"
   ]
  },
  {
   "cell_type": "code",
   "execution_count": null,
   "id": "747f4113",
   "metadata": {
    "scrolled": true
   },
   "outputs": [],
   "source": [
    "x.remove(\"new item\")\n",
    "x"
   ]
  }
 ],
 "metadata": {
  "celltoolbar": "Slideshow",
  "kernelspec": {
   "display_name": "Python 3 (ipykernel)",
   "language": "python",
   "name": "python3"
  },
  "language_info": {
   "codemirror_mode": {
    "name": "ipython",
    "version": 3
   },
   "file_extension": ".py",
   "mimetype": "text/x-python",
   "name": "python",
   "nbconvert_exporter": "python",
   "pygments_lexer": "ipython3",
   "version": "3.9.12"
  },
  "rise": {
   "progress": true,
   "scroll": true,
   "theme": "white"
  }
 },
 "nbformat": 4,
 "nbformat_minor": 5
}
