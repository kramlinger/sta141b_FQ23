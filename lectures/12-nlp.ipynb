{
 "cells": [
  {
   "cell_type": "markdown",
   "id": "ff704263",
   "metadata": {
    "slideshow": {
     "slide_type": "slide"
    }
   },
   "source": [
    "# STA 141B Data & Web Technologies for Data Analysis\n",
    "\n",
    "### Lecture 12, 11/09/23, Natural language processing\n"
   ]
  },
  {
   "cell_type": "markdown",
   "id": "d720fbd5",
   "metadata": {
    "slideshow": {
     "slide_type": "slide"
    }
   },
   "source": [
    "### Announcements\n",
    "\n",
    " - Homework due tomorrow. "
   ]
  },
  {
   "cell_type": "markdown",
   "id": "f7bb3382",
   "metadata": {
    "slideshow": {
     "slide_type": "slide"
    }
   },
   "source": [
    "### Today's topics\n",
    "- Natural Language Processing\n",
    "     - Standardizing Text\n",
    "     - Feature extraction\n",
    "         - Term frequencies\n",
    "         - One-hot encoding\n",
    "         - Term Frequency-Inverse Document Frequency"
   ]
  },
  {
   "cell_type": "markdown",
   "id": "8190afa7",
   "metadata": {},
   "source": [
    "### Ressources\n",
    "- [Natural Language Processing with Python][nlpp], chapters 1-3. Beware: the print version is for Python 2.\n",
    "- [Scikit-Learn Documentation][skl], especially the section about [Text Feature Extraction](https://scikit-learn.org/stable/modules/feature_extraction.html#text-feature-extraction)\n",
    "\n",
    "\n",
    "[PDSH]: https://jakevdp.github.io/PythonDataScienceHandbook/\n",
    "[ProGit]: https://git-scm.com/book/\n",
    "[nlpp]: https://www.nltk.org/book/\n",
    "[atap]: https://search.library.ucdavis.edu/primo-explore/fulldisplay?docid=01UCD_ALMA51320822340003126&context=L&vid=01UCD_V1&search_scope=everything_scope&tab=default_tab&lang=en_US\n",
    "[skl]: https://scikit-learn.org/stable/documentation.html\n"
   ]
  },
  {
   "cell_type": "code",
   "execution_count": 20,
   "id": "b2032bcc",
   "metadata": {},
   "outputs": [],
   "source": [
    "import nltk.corpus\n",
    "import re"
   ]
  },
  {
   "cell_type": "code",
   "execution_count": 21,
   "id": "f52e2f13",
   "metadata": {},
   "outputs": [],
   "source": [
    "moby = nltk.corpus.gutenberg.raw(\"melville-moby_dick.txt\")"
   ]
  },
  {
   "cell_type": "code",
   "execution_count": 22,
   "id": "073a1e95",
   "metadata": {
    "scrolled": false
   },
   "outputs": [
    {
     "data": {
      "text/plain": [
       "[('ETYMOLOGY', '(Supplied by a Late Consumptive Usher to a Grammar School)'),\n",
       " ('EXTRACTS', '(Supplied by a Sub-Sub-Librarian).'),\n",
       " ('CHAPTER 1', 'Loomings.'),\n",
       " ('CHAPTER 2', 'The Carpet-Bag.'),\n",
       " ('CHAPTER 3', 'The Spouter-Inn.'),\n",
       " ('CHAPTER 4', 'The Counterpane.'),\n",
       " ('CHAPTER 5', 'Breakfast.'),\n",
       " ('CHAPTER 6', 'The Street.'),\n",
       " ('CHAPTER 7', 'The Chapel.'),\n",
       " ('CHAPTER 8', 'The Pulpit.'),\n",
       " ('CHAPTER 9', 'The Sermon.'),\n",
       " ('CHAPTER 10', 'A Bosom Friend.'),\n",
       " ('CHAPTER 11', 'Nightgown.'),\n",
       " ('CHAPTER 12', 'Biographical.'),\n",
       " ('CHAPTER 13', 'Wheelbarrow.'),\n",
       " ('CHAPTER 14', 'Nantucket.'),\n",
       " ('CHAPTER 15', 'Chowder.'),\n",
       " ('CHAPTER 16', 'The Ship.'),\n",
       " ('CHAPTER 17', 'The Ramadan.'),\n",
       " ('CHAPTER 18', 'His Mark.'),\n",
       " ('CHAPTER 19', 'The Prophet.'),\n",
       " ('CHAPTER 20', 'All Astir.'),\n",
       " ('CHAPTER 21', 'Going Aboard.'),\n",
       " ('CHAPTER 22', 'Merry Christmas.'),\n",
       " ('CHAPTER 23', 'The Lee Shore.'),\n",
       " ('CHAPTER 24', 'The Advocate.'),\n",
       " ('CHAPTER 25', 'Postscript.'),\n",
       " ('CHAPTER 26', 'Knights and Squires.'),\n",
       " ('CHAPTER 27', 'Knights and Squires.'),\n",
       " ('CHAPTER 28', 'Ahab.'),\n",
       " ('CHAPTER 29', 'Enter Ahab; to Him, Stubb.'),\n",
       " ('CHAPTER 30', 'The Pipe.'),\n",
       " ('CHAPTER 31', 'Queen Mab.'),\n",
       " ('CHAPTER 32', 'Cetology.'),\n",
       " ('CHAPTER 33', 'The Specksynder.'),\n",
       " ('CHAPTER 34', 'The Cabin-Table.'),\n",
       " ('CHAPTER 35', 'The Mast-Head.'),\n",
       " ('CHAPTER 36', 'The Quarter-Deck.'),\n",
       " ('CHAPTER 37', 'Sunset.'),\n",
       " ('CHAPTER 38', 'Dusk.'),\n",
       " ('CHAPTER 39', 'First Night Watch.'),\n",
       " ('CHAPTER 40', 'Midnight, Forecastle.'),\n",
       " ('CHAPTER 41', 'Moby Dick.'),\n",
       " ('CHAPTER 42', 'The Whiteness of The Whale.'),\n",
       " ('CHAPTER 43', 'Hark!'),\n",
       " ('CHAPTER 44', 'The Chart.'),\n",
       " ('CHAPTER 45', 'The Affidavit.'),\n",
       " ('CHAPTER 46', 'Surmises.'),\n",
       " ('CHAPTER 47', 'The Mat-Maker.'),\n",
       " ('CHAPTER 48', 'The First Lowering.'),\n",
       " ('CHAPTER 49', 'The Hyena.'),\n",
       " ('CHAPTER 50', \"Ahab's Boat and Crew.  Fedallah.\"),\n",
       " ('CHAPTER 51', 'The Spirit-Spout.'),\n",
       " ('CHAPTER 52', 'The Albatross.'),\n",
       " ('CHAPTER 53', 'The Gam.'),\n",
       " ('CHAPTER 54', \"The Town-Ho's Story.\"),\n",
       " ('CHAPTER 55', 'Of the Monstrous Pictures of Whales.'),\n",
       " ('CHAPTER 56',\n",
       "  'Of the Less Erroneous Pictures of Whales, and the True Pictures of\\r\\nWhaling Scenes.'),\n",
       " ('CHAPTER 57',\n",
       "  'Of Whales in Paint; in Teeth; in Wood; in Sheet-Iron; in Stone; in\\r\\nMountains; in Stars.'),\n",
       " ('CHAPTER 58', 'Brit.'),\n",
       " ('CHAPTER 59', 'Squid.'),\n",
       " ('CHAPTER 60', 'The Line.'),\n",
       " ('CHAPTER 61', 'Stubb Kills a Whale.'),\n",
       " ('CHAPTER 62', 'The Dart.'),\n",
       " ('CHAPTER 63', 'The Crotch.'),\n",
       " ('CHAPTER 64', \"Stubb's Supper.\"),\n",
       " ('CHAPTER 65', 'The Whale as a Dish.'),\n",
       " ('CHAPTER 66', 'The Shark Massacre.'),\n",
       " ('CHAPTER 67', 'Cutting In.'),\n",
       " ('CHAPTER 68', 'The Blanket.'),\n",
       " ('CHAPTER 69', 'The Funeral.'),\n",
       " ('CHAPTER 70', 'The Sphynx.'),\n",
       " ('CHAPTER 71', \"The Jeroboam's Story.\"),\n",
       " ('CHAPTER 72', 'The Monkey-Rope.'),\n",
       " ('CHAPTER 73',\n",
       "  'Stubb and Flask Kill a Right Whale; and Then Have a Talk Over Him.'),\n",
       " ('CHAPTER 74', \"The Sperm Whale's Head--Contrasted View.\"),\n",
       " ('CHAPTER 75', \"The Right Whale's Head--Contrasted View.\"),\n",
       " ('CHAPTER 76', 'The Battering-Ram.'),\n",
       " ('CHAPTER 77', 'The Great Heidelburgh Tun.'),\n",
       " ('CHAPTER 78', 'Cistern and Buckets.'),\n",
       " ('CHAPTER 79', 'The Prairie.'),\n",
       " ('CHAPTER 80', 'The Nut.'),\n",
       " ('CHAPTER 81', 'The Pequod Meets The Virgin.'),\n",
       " ('CHAPTER 82', 'The Honour and Glory of Whaling.'),\n",
       " ('CHAPTER 83', 'Jonah Historically Regarded.'),\n",
       " ('CHAPTER 84', 'Pitchpoling.'),\n",
       " ('CHAPTER 85', 'The Fountain.'),\n",
       " ('CHAPTER 86', 'The Tail.'),\n",
       " ('CHAPTER 87', 'The Grand Armada.'),\n",
       " ('CHAPTER 88', 'Schools and Schoolmasters.'),\n",
       " ('CHAPTER 89', 'Fast-Fish and Loose-Fish.'),\n",
       " ('CHAPTER 90', 'Heads or Tails.'),\n",
       " ('CHAPTER 91', 'The Pequod Meets The Rose-Bud.'),\n",
       " ('CHAPTER 92', 'Ambergris.'),\n",
       " ('CHAPTER 93', 'The Castaway.'),\n",
       " ('CHAPTER 94', 'A Squeeze of the Hand.'),\n",
       " ('CHAPTER 95', 'The Cassock.'),\n",
       " ('CHAPTER 96', 'The Try-Works.'),\n",
       " ('CHAPTER 97', 'The Lamp.'),\n",
       " ('CHAPTER 98', 'Stowing Down and Clearing Up.'),\n",
       " ('CHAPTER 99', 'The Doubloon.'),\n",
       " ('CHAPTER 100', 'Leg and Arm.'),\n",
       " ('CHAPTER 101', 'The Decanter.'),\n",
       " ('CHAPTER 102', 'A Bower in the Arsacides.'),\n",
       " ('CHAPTER 103', \"Measurement of The Whale's Skeleton.\"),\n",
       " ('CHAPTER 104', 'The Fossil Whale.'),\n",
       " ('CHAPTER 106', \"Ahab's Leg.\"),\n",
       " ('CHAPTER 107', 'The Carpenter.'),\n",
       " ('CHAPTER 108', 'Ahab and the Carpenter.'),\n",
       " ('CHAPTER 109', 'Ahab and Starbuck in the Cabin.'),\n",
       " ('CHAPTER 110', 'Queequeg in His Coffin.'),\n",
       " ('CHAPTER 111', 'The Pacific.'),\n",
       " ('CHAPTER 112', 'The Blacksmith.'),\n",
       " ('CHAPTER 113', 'The Forge.'),\n",
       " ('CHAPTER 114', 'The Gilder.'),\n",
       " ('CHAPTER 115', 'The Pequod Meets The Bachelor.'),\n",
       " ('CHAPTER 116', 'The Dying Whale.'),\n",
       " ('CHAPTER 117', 'The Whale Watch.'),\n",
       " ('CHAPTER 118', 'The Quadrant.'),\n",
       " ('CHAPTER 119', 'The Candles.'),\n",
       " ('CHAPTER 120', 'The Deck Towards the End of the First Night Watch.'),\n",
       " ('CHAPTER 121', 'Midnight.--The Forecastle Bulwarks.'),\n",
       " ('CHAPTER 122', 'Midnight Aloft.--Thunder and Lightning.'),\n",
       " ('CHAPTER 123', 'The Musket.'),\n",
       " ('CHAPTER 124', 'The Needle.'),\n",
       " ('CHAPTER 125', 'The Log and Line.'),\n",
       " ('CHAPTER 126', 'The Life-Buoy.'),\n",
       " ('CHAPTER 127', 'The Deck.'),\n",
       " ('CHAPTER 128', 'The Pequod Meets The Rachel.'),\n",
       " ('CHAPTER 129', 'The Cabin.'),\n",
       " ('CHAPTER 130', 'The Hat.'),\n",
       " ('CHAPTER 131', 'The Pequod Meets The Delight.'),\n",
       " ('CHAPTER 132', 'The Symphony.'),\n",
       " ('CHAPTER 133', 'The Chase--First Day.'),\n",
       " ('CHAPTER 134', 'The Chase--Second Day.'),\n",
       " ('CHAPTER 135', 'The Chase.--Third Day.'),\n",
       " ('Epilogue', '\"AND I ONLY AM ESCAPED ALONE TO TELL THEE\"\\r\\nJob.')]"
      ]
     },
     "execution_count": 22,
     "metadata": {},
     "output_type": "execute_result"
    }
   ],
   "source": [
    "re.findall(r\"(?<!,\\s{1})(ETYMOLOGY|CHAPTER\\s{1}\\d+|Epilogue|EXTRACTS(?=\\s*\\())\\.*\\s*(.+?\\s*.*[\\.{1}|!{1}|\\){1}])\", moby)"
   ]
  },
  {
   "cell_type": "markdown",
   "id": "7fd5e3cd",
   "metadata": {},
   "source": [
    "Perfect! But what if we want to match the chapters that follow after his matched string? "
   ]
  },
  {
   "cell_type": "code",
   "execution_count": 23,
   "id": "25a6a9a0",
   "metadata": {},
   "outputs": [
    {
     "data": {
      "text/plain": [
       "['ETYMOLOGY.\\r\\n\\r\\n(Supplied by a Late Consumptive Usher to a Grammar School)',\n",
       " 'EXTRACTS (Supplied by a Sub-Sub-Librarian).',\n",
       " 'CHAPTER 1\\r\\n\\r\\nLoomings.',\n",
       " 'CHAPTER 2\\r\\n\\r\\nThe Carpet-Bag.',\n",
       " 'CHAPTER 3\\r\\n\\r\\nThe Spouter-Inn.',\n",
       " 'CHAPTER 4\\r\\n\\r\\nThe Counterpane.',\n",
       " 'CHAPTER 5\\r\\n\\r\\nBreakfast.',\n",
       " 'CHAPTER 6\\r\\n\\r\\nThe Street.',\n",
       " 'CHAPTER 7\\r\\n\\r\\nThe Chapel.',\n",
       " 'CHAPTER 8\\r\\n\\r\\nThe Pulpit.',\n",
       " 'CHAPTER 9\\r\\n\\r\\nThe Sermon.',\n",
       " 'CHAPTER 10\\r\\n\\r\\nA Bosom Friend.',\n",
       " 'CHAPTER 11\\r\\n\\r\\nNightgown.',\n",
       " 'CHAPTER 12\\r\\n\\r\\nBiographical.',\n",
       " 'CHAPTER 13\\r\\n\\r\\nWheelbarrow.',\n",
       " 'CHAPTER 14\\r\\n\\r\\nNantucket.',\n",
       " 'CHAPTER 15\\r\\n\\r\\nChowder.',\n",
       " 'CHAPTER 16\\r\\n\\r\\nThe Ship.',\n",
       " 'CHAPTER 17\\r\\n\\r\\nThe Ramadan.',\n",
       " 'CHAPTER 18\\r\\n\\r\\nHis Mark.',\n",
       " 'CHAPTER 19\\r\\n\\r\\nThe Prophet.',\n",
       " 'CHAPTER 20\\r\\n\\r\\nAll Astir.',\n",
       " 'CHAPTER 21\\r\\n\\r\\nGoing Aboard.',\n",
       " 'CHAPTER 22\\r\\n\\r\\nMerry Christmas.',\n",
       " 'CHAPTER 23\\r\\n\\r\\nThe Lee Shore.',\n",
       " 'CHAPTER 24\\r\\n\\r\\nThe Advocate.',\n",
       " 'CHAPTER 25\\r\\n\\r\\nPostscript.',\n",
       " 'CHAPTER 26\\r\\n\\r\\nKnights and Squires.',\n",
       " 'CHAPTER 27\\r\\n\\r\\nKnights and Squires.',\n",
       " 'CHAPTER 28\\r\\n\\r\\nAhab.',\n",
       " 'CHAPTER 29\\r\\n\\r\\nEnter Ahab; to Him, Stubb.',\n",
       " 'CHAPTER 30\\r\\n\\r\\nThe Pipe.',\n",
       " 'CHAPTER 31\\r\\n\\r\\nQueen Mab.',\n",
       " 'CHAPTER 32\\r\\n\\r\\nCetology.',\n",
       " 'CHAPTER 33\\r\\n\\r\\nThe Specksynder.',\n",
       " 'CHAPTER 34\\r\\n\\r\\nThe Cabin-Table.',\n",
       " 'CHAPTER 35\\r\\n\\r\\nThe Mast-Head.',\n",
       " 'CHAPTER 36\\r\\n\\r\\nThe Quarter-Deck.',\n",
       " 'CHAPTER 37\\r\\n\\r\\nSunset.',\n",
       " 'CHAPTER 38\\r\\n\\r\\nDusk.',\n",
       " 'CHAPTER 39\\r\\n\\r\\nFirst Night Watch.',\n",
       " 'CHAPTER 40\\r\\n\\r\\nMidnight, Forecastle.',\n",
       " 'CHAPTER 41\\r\\n\\r\\nMoby Dick.',\n",
       " 'CHAPTER 42\\r\\n\\r\\nThe Whiteness of The Whale.',\n",
       " 'CHAPTER 43\\r\\n\\r\\nHark!',\n",
       " 'CHAPTER 44\\r\\n\\r\\nThe Chart.',\n",
       " 'CHAPTER 45\\r\\n\\r\\nThe Affidavit.',\n",
       " 'CHAPTER 46\\r\\n\\r\\nSurmises.',\n",
       " 'CHAPTER 47\\r\\n\\r\\nThe Mat-Maker.',\n",
       " 'CHAPTER 48\\r\\n\\r\\nThe First Lowering.',\n",
       " 'CHAPTER 49\\r\\n\\r\\nThe Hyena.',\n",
       " \"CHAPTER 50\\r\\n\\r\\nAhab's Boat and Crew.  Fedallah.\",\n",
       " 'CHAPTER 51\\r\\n\\r\\nThe Spirit-Spout.',\n",
       " 'CHAPTER 52\\r\\n\\r\\nThe Albatross.',\n",
       " 'CHAPTER 53\\r\\n\\r\\nThe Gam.',\n",
       " \"CHAPTER 54\\r\\n\\r\\nThe Town-Ho's Story.\",\n",
       " 'CHAPTER 55\\r\\n\\r\\nOf the Monstrous Pictures of Whales.',\n",
       " 'CHAPTER 56\\r\\n\\r\\nOf the Less Erroneous Pictures of Whales, and the True Pictures of\\r\\nWhaling Scenes.',\n",
       " 'CHAPTER 57\\r\\n\\r\\nOf Whales in Paint; in Teeth; in Wood; in Sheet-Iron; in Stone; in\\r\\nMountains; in Stars.',\n",
       " 'CHAPTER 58\\r\\n\\r\\nBrit.',\n",
       " 'CHAPTER 59\\r\\n\\r\\nSquid.',\n",
       " 'CHAPTER 60\\r\\n\\r\\nThe Line.',\n",
       " 'CHAPTER 61\\r\\n\\r\\nStubb Kills a Whale.',\n",
       " 'CHAPTER 62\\r\\n\\r\\nThe Dart.',\n",
       " 'CHAPTER 63\\r\\n\\r\\nThe Crotch.',\n",
       " \"CHAPTER 64\\r\\n\\r\\nStubb's Supper.\",\n",
       " 'CHAPTER 65\\r\\n\\r\\nThe Whale as a Dish.',\n",
       " 'CHAPTER 66\\r\\n\\r\\nThe Shark Massacre.',\n",
       " 'CHAPTER 67\\r\\n\\r\\nCutting In.',\n",
       " 'CHAPTER 68\\r\\n\\r\\nThe Blanket.',\n",
       " 'CHAPTER 69\\r\\n\\r\\nThe Funeral.',\n",
       " 'CHAPTER 70\\r\\n\\r\\nThe Sphynx.',\n",
       " \"CHAPTER 71\\r\\n\\r\\nThe Jeroboam's Story.\",\n",
       " 'CHAPTER 72\\r\\n\\r\\nThe Monkey-Rope.',\n",
       " 'CHAPTER 73\\r\\n\\r\\nStubb and Flask Kill a Right Whale; and Then Have a Talk Over Him.',\n",
       " \"CHAPTER 74\\r\\n\\r\\nThe Sperm Whale's Head--Contrasted View.\",\n",
       " \"CHAPTER 75\\r\\n\\r\\nThe Right Whale's Head--Contrasted View.\",\n",
       " 'CHAPTER 76\\r\\n\\r\\nThe Battering-Ram.',\n",
       " 'CHAPTER 77\\r\\n\\r\\nThe Great Heidelburgh Tun.',\n",
       " 'CHAPTER 78\\r\\n\\r\\nCistern and Buckets.',\n",
       " 'CHAPTER 79\\r\\n\\r\\nThe Prairie.',\n",
       " 'CHAPTER 80\\r\\n\\r\\nThe Nut.',\n",
       " 'CHAPTER 81\\r\\n\\r\\nThe Pequod Meets The Virgin.',\n",
       " 'CHAPTER 82\\r\\n\\r\\nThe Honour and Glory of Whaling.',\n",
       " 'CHAPTER 83\\r\\n\\r\\nJonah Historically Regarded.',\n",
       " 'CHAPTER 84\\r\\n\\r\\nPitchpoling.',\n",
       " 'CHAPTER 85\\r\\n\\r\\nThe Fountain.',\n",
       " 'CHAPTER 86\\r\\n\\r\\nThe Tail.',\n",
       " 'CHAPTER 87\\r\\n\\r\\nThe Grand Armada.',\n",
       " 'CHAPTER 88\\r\\n\\r\\nSchools and Schoolmasters.',\n",
       " 'CHAPTER 89\\r\\n\\r\\nFast-Fish and Loose-Fish.',\n",
       " 'CHAPTER 90\\r\\n\\r\\nHeads or Tails.',\n",
       " 'CHAPTER 91\\r\\n\\r\\nThe Pequod Meets The Rose-Bud.',\n",
       " 'CHAPTER 92\\r\\n\\r\\nAmbergris.',\n",
       " 'CHAPTER 93\\r\\n\\r\\nThe Castaway.',\n",
       " 'CHAPTER 94\\r\\n\\r\\nA Squeeze of the Hand.',\n",
       " 'CHAPTER 95\\r\\n\\r\\nThe Cassock.',\n",
       " 'CHAPTER 96\\r\\n\\r\\nThe Try-Works.',\n",
       " 'CHAPTER 97\\r\\n\\r\\nThe Lamp.',\n",
       " 'CHAPTER 98\\r\\n\\r\\nStowing Down and Clearing Up.',\n",
       " 'CHAPTER 99\\r\\n\\r\\nThe Doubloon.',\n",
       " 'CHAPTER 100\\r\\n\\r\\nLeg and Arm.',\n",
       " 'CHAPTER 101\\r\\n\\r\\nThe Decanter.',\n",
       " 'CHAPTER 102\\r\\n\\r\\nA Bower in the Arsacides.',\n",
       " \"CHAPTER 103\\r\\n\\r\\nMeasurement of The Whale's Skeleton.\",\n",
       " 'CHAPTER 104\\r\\n\\r\\nThe Fossil Whale.',\n",
       " \"CHAPTER 106\\r\\n\\r\\nAhab's Leg.\",\n",
       " 'CHAPTER 107\\r\\n\\r\\nThe Carpenter.',\n",
       " 'CHAPTER 108\\r\\n\\r\\nAhab and the Carpenter.',\n",
       " 'CHAPTER 109\\r\\n\\r\\nAhab and Starbuck in the Cabin.',\n",
       " 'CHAPTER 110\\r\\n\\r\\nQueequeg in His Coffin.',\n",
       " 'CHAPTER 111\\r\\n\\r\\nThe Pacific.',\n",
       " 'CHAPTER 112\\r\\n\\r\\nThe Blacksmith.',\n",
       " 'CHAPTER 113\\r\\n\\r\\nThe Forge.',\n",
       " 'CHAPTER 114\\r\\n\\r\\nThe Gilder.',\n",
       " 'CHAPTER 115\\r\\n\\r\\nThe Pequod Meets The Bachelor.',\n",
       " 'CHAPTER 116\\r\\n\\r\\nThe Dying Whale.',\n",
       " 'CHAPTER 117\\r\\n\\r\\nThe Whale Watch.',\n",
       " 'CHAPTER 118\\r\\n\\r\\nThe Quadrant.',\n",
       " 'CHAPTER 119\\r\\n\\r\\nThe Candles.',\n",
       " 'CHAPTER 120\\r\\n\\r\\nThe Deck Towards the End of the First Night Watch.',\n",
       " 'CHAPTER 121\\r\\n\\r\\nMidnight.--The Forecastle Bulwarks.',\n",
       " 'CHAPTER 122\\r\\n\\r\\nMidnight Aloft.--Thunder and Lightning.',\n",
       " 'CHAPTER 123\\r\\n\\r\\nThe Musket.',\n",
       " 'CHAPTER 124\\r\\n\\r\\nThe Needle.',\n",
       " 'CHAPTER 125\\r\\n\\r\\nThe Log and Line.',\n",
       " 'CHAPTER 126\\r\\n\\r\\nThe Life-Buoy.',\n",
       " 'CHAPTER 127\\r\\n\\r\\nThe Deck.',\n",
       " 'CHAPTER 128\\r\\n\\r\\nThe Pequod Meets The Rachel.',\n",
       " 'CHAPTER 129\\r\\n\\r\\nThe Cabin.',\n",
       " 'CHAPTER 130\\r\\n\\r\\nThe Hat.',\n",
       " 'CHAPTER 131\\r\\n\\r\\nThe Pequod Meets The Delight.',\n",
       " 'CHAPTER 132\\r\\n\\r\\nThe Symphony.',\n",
       " 'CHAPTER 133\\r\\n\\r\\nThe Chase--First Day.',\n",
       " 'CHAPTER 134\\r\\n\\r\\nThe Chase--Second Day.',\n",
       " 'CHAPTER 135\\r\\n\\r\\nThe Chase.--Third Day.',\n",
       " 'Epilogue\\r\\n\\r\\n\"AND I ONLY AM ESCAPED ALONE TO TELL THEE\"\\r\\nJob.']"
      ]
     },
     "execution_count": 23,
     "metadata": {},
     "output_type": "execute_result"
    }
   ],
   "source": [
    "re.findall(r\"((?<!,\\s{1})(?:ETYMOLOGY|CHAPTER\\s{1}\\d+|Epilogue|EXTRACTS(?=\\s*\\())(?:\\.*\\s*).+?\\s*.*[\\.{1}|!{1}|\\){1}])\", moby)"
   ]
  },
  {
   "cell_type": "markdown",
   "id": "64843203",
   "metadata": {},
   "source": [
    "Check the [docs](https://docs.python.org/3/library/re.html#re.split). Remove the capturing group when splitting! "
   ]
  },
  {
   "cell_type": "code",
   "execution_count": 24,
   "id": "7fbeb7a3",
   "metadata": {},
   "outputs": [],
   "source": [
    "chapters = re.split(r\"(?<!,\\s{1})(?:ETYMOLOGY|CHAPTER\\s{1}\\d+|Epilogue|EXTRACTS(?=\\s*\\())(?:\\.*\\s*).+?\\s*.*[\\.{1}|!{1}|\\){1}]\", moby)"
   ]
  },
  {
   "cell_type": "code",
   "execution_count": 25,
   "id": "d8c146dc",
   "metadata": {},
   "outputs": [
    {
     "data": {
      "text/plain": [
       "['[Moby Dick by Herman Melville 1851] ',\n",
       " ' The pale Usher--threadbare in coat, heart, body, and brain; I see him now. He was ever dusting his old lexicons and grammars, with a queer handkerchief, mockingly embellished with all the gay flags of all the known nations of the world. He loved to dust his old grammars; it somehow mildly reminded him of his mortality. \"While you take in hand to school others, and to teach them by what name a whale-fish is to be called in our tongue leaving out, through ignorance, the letter H, which almost alone maketh the signification of the word, you deliver that which is not true.\" --HACKLUYT \"WHALE. ... Sw. and Dan. HVAL. This animal is named from roundness or rolling; for in Dan. HVALT is arched or vaulted.\" --WEBSTER\\'S DICTIONARY \"WHALE. ... It is more immediately from the Dut. and Ger. WALLEN; A.S. WALW-IAN, to roll, to wallow.\" --RICHARDSON\\'S DICTIONARY KETOS, GREEK. CETUS, LATIN. WHOEL, ANGLO-SAXON. HVALT, DANISH. WAL, DUTCH. HWAL, SWEDISH. WHALE, ICELANDIC. WHALE, ENGLISH. BALEINE, FRENCH. BALLENA, SPANISH. PEKEE-NUEE-NUEE, FEGEE. PEKEE-NUEE-NUEE, ERROMANGOAN. ']"
      ]
     },
     "execution_count": 25,
     "metadata": {},
     "output_type": "execute_result"
    }
   ],
   "source": [
    "chapters = [re.sub(r\"\\s+\", \" \", chapter) for chapter in chapters]\n",
    "chapters[0:2]"
   ]
  },
  {
   "cell_type": "code",
   "execution_count": 26,
   "id": "b50a2acf",
   "metadata": {},
   "outputs": [
    {
     "data": {
      "text/plain": [
       "\" Call me Ishmael. Some years ago--never mind how long precisely--having little or no money in my purse, and nothing particular to interest me on shore, I thought I would sail about a little and see the watery part of the world. It is a way I have of driving off the spleen and regulating the circulation. Whenever I find myself growing grim about the mouth; whenever it is a damp, drizzly November in my soul; whenever I find myself involuntarily pausing before coffin warehouses, and bringing up the rear of every funeral I meet; and especially whenever my hypos get such an upper hand of me, that it requires a strong moral principle to prevent me from deliberately stepping into the street, and methodically knocking people's hats off--then, I account it high time to get to sea as soon as I can. This is my substitute for pistol and ball. With a philosophical flourish Cato throws himself upon his sword; I quietly take to the ship. There is nothing surprising in this. If they but knew it, almost all men in their degree, some time or other, cherish very nearly the same feelings towards the ocean with me. There now is your insular city of the Manhattoes, belted round by wharves as Indian isles by coral reefs--commerce surrounds it with her surf. Right and left, the streets take you waterward. Its extreme downtown is the battery, where that noble mole is washed by waves, and cooled by breezes, which a few hours previous were out of sight of land. Look at the crowds of water-gazers there. Circumambulate the city of a dreamy Sabbath afternoon. Go from Corlears Hook to Coenties Slip, and from thence, by Whitehall, northward. What do you see?--Posted like silent sentinels all around the town, stand thousands upon thousands of mortal men fixed in ocean reveries. Some leaning against the spiles; some seated upon the pier-heads; some looking over the bulwarks of ships from China; some high aloft in the rigging, as if striving to get a still better seaward peep. But these are all lands\""
      ]
     },
     "execution_count": 26,
     "metadata": {},
     "output_type": "execute_result"
    }
   ],
   "source": [
    "chapter = chapters[3]\n",
    "chapter[0:2000]"
   ]
  },
  {
   "cell_type": "markdown",
   "id": "000f94d8",
   "metadata": {},
   "source": [
    "### Standardizing Text\n",
    "\n",
    "We standardize numerical data in order to make fair comparisons, comparisons that are not influenced by the location and scale of the data. Similarly, you can standardize text (tokens) to make sure comparisons are fair and accurate.\n",
    "\n",
    "For example, `\"Cat\"` and `\"cat\"` are the same word even though they're different tokens. Converting all characters to lowercase is one way to standardize a document.\n",
    "\n",
    "Some common standardization techniques for text are:\n",
    "\n",
    "* Lowercasing\n",
    "* Stemming: Use patterns to remove prefixes and suffixes from words.\n",
    "* Lemmatiziation: Look up each token in a dictionary and replace it with a root word. Similar to stemming, but more accurate.\n",
    "* Stopword Removal: Remove tokens that don't contribute meaning. For example, \"the\" is meaningless on its own.\n",
    "* Identifying Outliers: Identify and possibly remove non-standard \"words\" like numbers, mispellings, code, etc...\n",
    "\n",
    "How and whether you should standardize a document or corpus depends on what kind of analysis you want to do. There is no formula; you must think carefully and experiment to determine which standardization techniques work best for your problem."
   ]
  },
  {
   "cell_type": "markdown",
   "id": "92498eb3",
   "metadata": {},
   "source": [
    "#### Lowercasing\n",
    "\n",
    "You can use Python's string methods for simple text transformations."
   ]
  },
  {
   "cell_type": "code",
   "execution_count": 27,
   "id": "5bc71198",
   "metadata": {},
   "outputs": [
    {
     "data": {
      "text/plain": [
       "' Call me Ishmael. Some years ago--never mind how long precisely--having little or no money in my pur'"
      ]
     },
     "execution_count": 27,
     "metadata": {},
     "output_type": "execute_result"
    }
   ],
   "source": [
    "chapter[:100]"
   ]
  },
  {
   "cell_type": "code",
   "execution_count": 28,
   "id": "41ed1482",
   "metadata": {},
   "outputs": [
    {
     "data": {
      "text/plain": [
       "' call me ishmael. some years ago--never mind how long precisely--having little or no money in my pur'"
      ]
     },
     "execution_count": 28,
     "metadata": {},
     "output_type": "execute_result"
    }
   ],
   "source": [
    "chapter.lower()[:100]"
   ]
  },
  {
   "cell_type": "code",
   "execution_count": 29,
   "id": "57f02f1a",
   "metadata": {},
   "outputs": [
    {
     "data": {
      "text/plain": [
       "' CALL ME ISHMAEL. SOME YEARS AGO--NEVER MIND HOW LONG PRECISELY--HAVING LITTLE OR NO MONEY IN MY PUR'"
      ]
     },
     "execution_count": 29,
     "metadata": {},
     "output_type": "execute_result"
    }
   ],
   "source": [
    "chapter.upper()[:100]"
   ]
  },
  {
   "cell_type": "code",
   "execution_count": 30,
   "id": "7b650aa4",
   "metadata": {},
   "outputs": [],
   "source": [
    "words = re.findall(r\"\\w+\", chapter)"
   ]
  },
  {
   "cell_type": "code",
   "execution_count": 31,
   "id": "9bb972c3",
   "metadata": {},
   "outputs": [
    {
     "data": {
      "text/plain": [
       "['me', 'Ishmael', 'Some', 'years', 'ago', 'never', 'mind', 'how', 'long']"
      ]
     },
     "execution_count": 31,
     "metadata": {},
     "output_type": "execute_result"
    }
   ],
   "source": [
    "words[1:10]"
   ]
  },
  {
   "cell_type": "code",
   "execution_count": 32,
   "id": "0109fd44",
   "metadata": {},
   "outputs": [
    {
     "data": {
      "text/plain": [
       "['call',\n",
       " 'me',\n",
       " 'ishmael',\n",
       " 'some',\n",
       " 'years',\n",
       " 'ago',\n",
       " 'never',\n",
       " 'mind',\n",
       " 'how',\n",
       " 'long']"
      ]
     },
     "execution_count": 32,
     "metadata": {},
     "output_type": "execute_result"
    }
   ],
   "source": [
    "lower = [w.lower() for w in words] # lower and upper\n",
    "lower[:10]"
   ]
  },
  {
   "cell_type": "markdown",
   "id": "4f85ffc3",
   "metadata": {},
   "source": [
    "#### Stemming\n",
    "\n",
    "_Stemming_ runs an algorithm on each token to remove affixes (prefixes and suffixes). The result is called a _stem_.\n",
    "\n",
    "Stemming is useful if you want to ignore affixes.\n",
    "\n",
    "For example, most English verbs use suffixes to mark the tense. We write \"They fish\" (present) and \"They fished\" (past). Without any standardization, the tokens \"fish\" and \"fished\" would be treated as separate words. Stemming converts both tokens to the common stem \"fish\":"
   ]
  },
  {
   "cell_type": "code",
   "execution_count": 33,
   "id": "06e5fb85",
   "metadata": {
    "scrolled": true
   },
   "outputs": [
    {
     "data": {
      "text/plain": [
       "['call',\n",
       " 'me',\n",
       " 'ishmael',\n",
       " 'some',\n",
       " 'year',\n",
       " 'ago',\n",
       " 'never',\n",
       " 'mind',\n",
       " 'how',\n",
       " 'long']"
      ]
     },
     "execution_count": 33,
     "metadata": {},
     "output_type": "execute_result"
    }
   ],
   "source": [
    "[nltk.PorterStemmer().stem(w) for w in words][0:10]"
   ]
  },
  {
   "cell_type": "code",
   "execution_count": 34,
   "id": "78092c62",
   "metadata": {},
   "outputs": [
    {
     "name": "stdout",
     "output_type": "stream",
     "text": [
      "whale\n",
      "whale\n",
      "whalebon\n",
      "narwhal\n"
     ]
    }
   ],
   "source": [
    "print(nltk.PorterStemmer().stem(\"whales\"))\n",
    "print(nltk.PorterStemmer().stem(\"whaling\"))\n",
    "print(nltk.PorterStemmer().stem(\"whalebone\"))\n",
    "print(nltk.PorterStemmer().stem(\"narwhales\"))"
   ]
  },
  {
   "cell_type": "markdown",
   "id": "db74f0e6",
   "metadata": {},
   "source": [
    "Stemmers use a sequence of rules to determine the stem for each token, but natural languages are full of special cases and exceptions. So as you can see in the example above, some stems are not words , and sometimes tokens that seem like they should have the same stem don't.\n",
    "\n",
    "Several different stemmers are provided in the `nltk.stem` submodule."
   ]
  },
  {
   "cell_type": "markdown",
   "id": "efbc949c",
   "metadata": {},
   "source": [
    "#### Lemmatization\n",
    "\n",
    "_Lemmatization_ looks up each token in a dictionary to find a root word, or _lemma_.\n",
    "\n",
    "Lemmatization serves the same purpose as stemming. Lemmatization is more accurate, but requires a dictionary and usually takes longer."
   ]
  },
  {
   "cell_type": "code",
   "execution_count": 35,
   "id": "30e0b441",
   "metadata": {},
   "outputs": [
    {
     "name": "stderr",
     "output_type": "stream",
     "text": [
      "[nltk_data] Downloading package wordnet to /Users/peter/nltk_data...\n",
      "[nltk_data]   Package wordnet is already up-to-date!\n"
     ]
    },
    {
     "data": {
      "text/plain": [
       "True"
      ]
     },
     "execution_count": 35,
     "metadata": {},
     "output_type": "execute_result"
    }
   ],
   "source": [
    "nltk.download('wordnet')"
   ]
  },
  {
   "cell_type": "code",
   "execution_count": 36,
   "id": "02ad88c5",
   "metadata": {},
   "outputs": [
    {
     "data": {
      "text/plain": [
       "'whale'"
      ]
     },
     "execution_count": 36,
     "metadata": {},
     "output_type": "execute_result"
    }
   ],
   "source": [
    "nltk.WordNetLemmatizer().lemmatize(\"whales\")"
   ]
  },
  {
   "cell_type": "code",
   "execution_count": 37,
   "id": "5e3e6d59",
   "metadata": {},
   "outputs": [
    {
     "data": {
      "text/plain": [
       "'whaling'"
      ]
     },
     "execution_count": 37,
     "metadata": {},
     "output_type": "execute_result"
    }
   ],
   "source": [
    "nltk.WordNetLemmatizer().lemmatize(\"whaling\")"
   ]
  },
  {
   "cell_type": "code",
   "execution_count": 38,
   "id": "e17885c1",
   "metadata": {},
   "outputs": [
    {
     "data": {
      "text/plain": [
       "'whale'"
      ]
     },
     "execution_count": 38,
     "metadata": {},
     "output_type": "execute_result"
    }
   ],
   "source": [
    "nltk.WordNetLemmatizer().lemmatize(\"whaling\", \"v\") #this is a verb - it should be lemmatized to 'whale'"
   ]
  },
  {
   "cell_type": "code",
   "execution_count": 39,
   "id": "a73e638d",
   "metadata": {},
   "outputs": [
    {
     "data": {
      "text/plain": [
       "'whalebone'"
      ]
     },
     "execution_count": 39,
     "metadata": {},
     "output_type": "execute_result"
    }
   ],
   "source": [
    "nltk.WordNetLemmatizer().lemmatize(\"whalebone\")"
   ]
  },
  {
   "cell_type": "code",
   "execution_count": 40,
   "id": "8dc390be",
   "metadata": {},
   "outputs": [
    {
     "data": {
      "text/plain": [
       "'narwhale'"
      ]
     },
     "execution_count": 40,
     "metadata": {},
     "output_type": "execute_result"
    }
   ],
   "source": [
    "nltk.WordNetLemmatizer().lemmatize(\"narwhale\")"
   ]
  },
  {
   "cell_type": "markdown",
   "id": "ae28eced",
   "metadata": {},
   "source": [
    "The WordNet lemmatizer requires part of speech information in order to lemmatize words. You can get approximate part of speech information with __nltk__'s `pos_tag()` function."
   ]
  },
  {
   "cell_type": "code",
   "execution_count": 41,
   "id": "638b7c25",
   "metadata": {},
   "outputs": [
    {
     "name": "stderr",
     "output_type": "stream",
     "text": [
      "[nltk_data] Downloading package averaged_perceptron_tagger to\n",
      "[nltk_data]     /Users/peter/nltk_data...\n",
      "[nltk_data]   Package averaged_perceptron_tagger is already up-to-\n",
      "[nltk_data]       date!\n"
     ]
    },
    {
     "data": {
      "text/plain": [
       "True"
      ]
     },
     "execution_count": 41,
     "metadata": {},
     "output_type": "execute_result"
    }
   ],
   "source": [
    "nltk.download('averaged_perceptron_tagger')"
   ]
  },
  {
   "cell_type": "code",
   "execution_count": 42,
   "id": "b0997f7f",
   "metadata": {},
   "outputs": [
    {
     "data": {
      "text/plain": [
       "[('whaling', 'VBG')]"
      ]
     },
     "execution_count": 42,
     "metadata": {},
     "output_type": "execute_result"
    }
   ],
   "source": [
    "nltk.pos_tag([\"whaling\"])"
   ]
  },
  {
   "cell_type": "code",
   "execution_count": 43,
   "id": "8ae88f91",
   "metadata": {},
   "outputs": [
    {
     "data": {
      "text/plain": [
       "[('whale', 'NN')]"
      ]
     },
     "execution_count": 43,
     "metadata": {},
     "output_type": "execute_result"
    }
   ],
   "source": [
    "nltk.pos_tag([\"whale\"])"
   ]
  },
  {
   "cell_type": "markdown",
   "id": "9abdce05",
   "metadata": {},
   "source": [
    "NLTK POS Tags are [Brown POS tags][brown]\n",
    "\n",
    "[brown]: https://en.wikipedia.org/wiki/Brown_Corpus#Part-of-speech_tags_used"
   ]
  },
  {
   "cell_type": "markdown",
   "id": "b82a6f9d",
   "metadata": {},
   "source": [
    "#### Foreign language"
   ]
  },
  {
   "cell_type": "code",
   "execution_count": 44,
   "id": "6a21d840",
   "metadata": {},
   "outputs": [],
   "source": [
    "from nltk.stem.snowball import SnowballStemmer"
   ]
  },
  {
   "cell_type": "code",
   "execution_count": 45,
   "id": "e43d88d8",
   "metadata": {},
   "outputs": [
    {
     "data": {
      "text/plain": [
       "[('en', 'JJ'),\n",
       " ('mathémat', 'NN'),\n",
       " (',', ','),\n",
       " ('une', 'JJ'),\n",
       " ('fonction', 'NN'),\n",
       " ('càdlàg', 'NN'),\n",
       " ('(', '('),\n",
       " ('continu', 'JJ'),\n",
       " ('à', 'NNP'),\n",
       " ('droit', 'NN'),\n",
       " (',', ','),\n",
       " ('limit', 'NN'),\n",
       " ('à', 'NNP'),\n",
       " ('gauch', 'NN'),\n",
       " (')', ')'),\n",
       " ('est', 'NN'),\n",
       " ('...', ':')]"
      ]
     },
     "execution_count": 45,
     "metadata": {},
     "output_type": "execute_result"
    }
   ],
   "source": [
    "fr = SnowballStemmer('french')\n",
    "\n",
    "sent = \"En mathématiques, une fonction càdlàg (continue à droite, limite à gauche) est ...\"\n",
    "nltk.word_tokenize(sent)\n",
    "\n",
    "nltk.pos_tag([fr.stem(word) for word in nltk.word_tokenize(sent)])"
   ]
  },
  {
   "cell_type": "code",
   "execution_count": 46,
   "id": "4be58789",
   "metadata": {},
   "outputs": [
    {
     "data": {
      "text/plain": [
       "[('Call', 'VB'),\n",
       " ('me', 'PRP'),\n",
       " ('Ishmael', 'NNP'),\n",
       " ('Some', 'DT'),\n",
       " ('years', 'NNS'),\n",
       " ('ago', 'RB'),\n",
       " ('never', 'RB'),\n",
       " ('mind', 'VB'),\n",
       " ('how', 'WRB'),\n",
       " ('long', 'JJ')]"
      ]
     },
     "execution_count": 46,
     "metadata": {},
     "output_type": "execute_result"
    }
   ],
   "source": [
    "moby_tags = nltk.pos_tag(words)\n",
    "moby_tags[0:10]"
   ]
  },
  {
   "cell_type": "markdown",
   "id": "5ebd0c9f",
   "metadata": {},
   "source": [
    "The `nltk.stem` submodule also provides several different lemmatizers."
   ]
  },
  {
   "cell_type": "markdown",
   "id": "62368977",
   "metadata": {},
   "source": [
    "### Stopword Removal\n",
    "\n",
    "_Stopwords_ are words that appear frequently but don't add meaning.\n",
    "\n",
    "In English, \"the\", \"a\", and \"at\" are examples. However, exactly which words are stopwords depends on your analysis. Words that are meaningless in one analysis might be very important in others.\n",
    "\n",
    "You can filter out stopwords with a list comprehension:"
   ]
  },
  {
   "cell_type": "code",
   "execution_count": 47,
   "id": "f994bd6f",
   "metadata": {},
   "outputs": [
    {
     "data": {
      "text/plain": [
       "['Call',\n",
       " 'me',\n",
       " 'Ishmael',\n",
       " 'Some',\n",
       " 'years',\n",
       " 'ago',\n",
       " 'never',\n",
       " 'mind',\n",
       " 'how',\n",
       " 'long']"
      ]
     },
     "execution_count": 47,
     "metadata": {},
     "output_type": "execute_result"
    }
   ],
   "source": [
    "stopwords = [\"the\", \"a\", \"and\", \"or\", \"in\", \"by\"]\n",
    "[w for w in words if w not in stopwords][0:10]"
   ]
  },
  {
   "cell_type": "markdown",
   "id": "d8f8ef17",
   "metadata": {},
   "source": [
    "__nltk__ also provides a stopwords corpus that contains common stopwords for several languages."
   ]
  },
  {
   "cell_type": "code",
   "execution_count": 48,
   "id": "eed6940c",
   "metadata": {},
   "outputs": [
    {
     "name": "stderr",
     "output_type": "stream",
     "text": [
      "[nltk_data] Downloading package stopwords to /Users/peter/nltk_data...\n",
      "[nltk_data]   Package stopwords is already up-to-date!\n"
     ]
    },
    {
     "data": {
      "text/plain": [
       "True"
      ]
     },
     "execution_count": 48,
     "metadata": {},
     "output_type": "execute_result"
    }
   ],
   "source": [
    "nltk.download(\"stopwords\")"
   ]
  },
  {
   "cell_type": "code",
   "execution_count": 49,
   "id": "f0de326d",
   "metadata": {},
   "outputs": [
    {
     "data": {
      "text/plain": [
       "['Call',\n",
       " 'Ishmael',\n",
       " 'Some',\n",
       " 'years',\n",
       " 'ago',\n",
       " 'never',\n",
       " 'mind',\n",
       " 'long',\n",
       " 'precisely',\n",
       " 'little']"
      ]
     },
     "execution_count": 49,
     "metadata": {},
     "output_type": "execute_result"
    }
   ],
   "source": [
    "stopwords = nltk.corpus.stopwords.words(\"english\")\n",
    "[w for w in words if w not in stopwords][0:10]"
   ]
  },
  {
   "cell_type": "markdown",
   "id": "40ecc095",
   "metadata": {},
   "source": [
    "### Feature Engineering for Natural Language Data\n",
    "\n",
    "Most statistical techniques take numbers as input. You may have already noticed this when working with categorical data. We can't compute the mean, median, standard deviation, or z-score if the observations aren't numbers. While we can fit linear models, it takes extra work because we have to create, or _engineer_, indicator variables.\n",
    "\n",
    "We face the same problem with natural language data. We need to _quantify_ documents, or turn them into numbers, so that we can use a wider variety of statistical techniques. We can do this by engineering features from our documents.\n",
    "\n",
    "So: what kinds of features can we create for language data?"
   ]
  },
  {
   "cell_type": "code",
   "execution_count": 50,
   "id": "242cfd10",
   "metadata": {},
   "outputs": [],
   "source": [
    "import numpy as np\n",
    "import pandas as pd\n",
    "import nltk, nltk.corpus"
   ]
  },
  {
   "cell_type": "markdown",
   "id": "0d20e25d",
   "metadata": {},
   "source": [
    "#### Term Frequencies\n",
    "\n",
    "One solution is to extend the idea of frequency analysis. We used frequency analysis to study individual documents, but what if we compute the word frequencies for every document in our corpus, and use those frequencies as features?\n",
    "\n",
    "Let's try this for a small corpus:"
   ]
  },
  {
   "cell_type": "code",
   "execution_count": 51,
   "id": "31581b6f",
   "metadata": {},
   "outputs": [],
   "source": [
    "corpus = [\"The cat saw the dog was angry at the other cat.\", \n",
    "          \"The dog saw the cat was angry at the other cat.\", \n",
    "          \"The canary saw the iguana was sad.\"]\n",
    "\n",
    "def get_freq_doc(doc):\n",
    "    words = (w.lower() for w in nltk.word_tokenize(doc))\n",
    "    #words = (w for w in words if w not in [\"the\", \"a\", \"an\", \"at\", 'other'] and w.isalnum())\n",
    "    return nltk.FreqDist(words)"
   ]
  },
  {
   "cell_type": "code",
   "execution_count": 52,
   "id": "1521f4d8",
   "metadata": {},
   "outputs": [],
   "source": [
    "# use the function to get frequency for each word\n",
    "df = pd.DataFrame([get_freq_doc(doc) for doc in corpus])"
   ]
  },
  {
   "cell_type": "code",
   "execution_count": 53,
   "id": "5b48139f",
   "metadata": {},
   "outputs": [
    {
     "data": {
      "text/html": [
       "<div>\n",
       "<style scoped>\n",
       "    .dataframe tbody tr th:only-of-type {\n",
       "        vertical-align: middle;\n",
       "    }\n",
       "\n",
       "    .dataframe tbody tr th {\n",
       "        vertical-align: top;\n",
       "    }\n",
       "\n",
       "    .dataframe thead th {\n",
       "        text-align: right;\n",
       "    }\n",
       "</style>\n",
       "<table border=\"1\" class=\"dataframe\">\n",
       "  <thead>\n",
       "    <tr style=\"text-align: right;\">\n",
       "      <th></th>\n",
       "      <th>the</th>\n",
       "      <th>cat</th>\n",
       "      <th>saw</th>\n",
       "      <th>dog</th>\n",
       "      <th>was</th>\n",
       "      <th>angry</th>\n",
       "      <th>at</th>\n",
       "      <th>other</th>\n",
       "      <th>.</th>\n",
       "      <th>canary</th>\n",
       "      <th>iguana</th>\n",
       "      <th>sad</th>\n",
       "    </tr>\n",
       "  </thead>\n",
       "  <tbody>\n",
       "    <tr>\n",
       "      <th>0</th>\n",
       "      <td>3</td>\n",
       "      <td>2</td>\n",
       "      <td>1</td>\n",
       "      <td>1</td>\n",
       "      <td>1</td>\n",
       "      <td>1</td>\n",
       "      <td>1</td>\n",
       "      <td>1</td>\n",
       "      <td>1</td>\n",
       "      <td>0</td>\n",
       "      <td>0</td>\n",
       "      <td>0</td>\n",
       "    </tr>\n",
       "    <tr>\n",
       "      <th>1</th>\n",
       "      <td>3</td>\n",
       "      <td>2</td>\n",
       "      <td>1</td>\n",
       "      <td>1</td>\n",
       "      <td>1</td>\n",
       "      <td>1</td>\n",
       "      <td>1</td>\n",
       "      <td>1</td>\n",
       "      <td>1</td>\n",
       "      <td>0</td>\n",
       "      <td>0</td>\n",
       "      <td>0</td>\n",
       "    </tr>\n",
       "    <tr>\n",
       "      <th>2</th>\n",
       "      <td>2</td>\n",
       "      <td>0</td>\n",
       "      <td>1</td>\n",
       "      <td>0</td>\n",
       "      <td>1</td>\n",
       "      <td>0</td>\n",
       "      <td>0</td>\n",
       "      <td>0</td>\n",
       "      <td>1</td>\n",
       "      <td>1</td>\n",
       "      <td>1</td>\n",
       "      <td>1</td>\n",
       "    </tr>\n",
       "  </tbody>\n",
       "</table>\n",
       "</div>"
      ],
      "text/plain": [
       "   the  cat  saw  dog  was  angry  at  other  .  canary  iguana  sad\n",
       "0    3    2    1    1    1      1   1      1  1       0       0    0\n",
       "1    3    2    1    1    1      1   1      1  1       0       0    0\n",
       "2    2    0    1    0    1      0   0      0  1       1       1    1"
      ]
     },
     "execution_count": 53,
     "metadata": {},
     "output_type": "execute_result"
    }
   ],
   "source": [
    "df = df.fillna(0)\n",
    "df = df.astype(int)\n",
    "df"
   ]
  },
  {
   "cell_type": "code",
   "execution_count": 54,
   "id": "92a888a4",
   "metadata": {},
   "outputs": [
    {
     "data": {
      "text/plain": [
       "False"
      ]
     },
     "execution_count": 54,
     "metadata": {},
     "output_type": "execute_result"
    }
   ],
   "source": [
    "# The isalnum() method returns True if all characters in the string are alphanumeric\n",
    "\"dog?2\".isalnum()"
   ]
  },
  {
   "cell_type": "code",
   "execution_count": 55,
   "id": "ca06ae33",
   "metadata": {},
   "outputs": [],
   "source": [
    "words = [re.findall(r\"\\w+\", chapter) for chapter in chapters]\n",
    "words.pop(0)\n",
    "words = [w for l in words for w in l] "
   ]
  },
  {
   "cell_type": "code",
   "execution_count": 56,
   "id": "9a1ff74b",
   "metadata": {},
   "outputs": [
    {
     "data": {
      "text/plain": [
       "['The',\n",
       " 'pale',\n",
       " 'Usher',\n",
       " 'threadbare',\n",
       " 'in',\n",
       " 'coat',\n",
       " 'heart',\n",
       " 'body',\n",
       " 'and',\n",
       " 'brain']"
      ]
     },
     "execution_count": 56,
     "metadata": {},
     "output_type": "execute_result"
    }
   ],
   "source": [
    "words[0:10]"
   ]
  },
  {
   "cell_type": "code",
   "execution_count": 57,
   "id": "d8912835",
   "metadata": {},
   "outputs": [
    {
     "data": {
      "text/plain": [
       "['the',\n",
       " 'pale',\n",
       " 'usher',\n",
       " 'threadbare',\n",
       " 'in',\n",
       " 'coat',\n",
       " 'heart',\n",
       " 'body',\n",
       " 'and',\n",
       " 'brain']"
      ]
     },
     "execution_count": 57,
     "metadata": {},
     "output_type": "execute_result"
    }
   ],
   "source": [
    "words = [w.lower() for w in words]\n",
    "#words = [w for w in words if w.isalnum()]\n",
    "words[0:10]"
   ]
  },
  {
   "cell_type": "code",
   "execution_count": 58,
   "id": "fd66160c",
   "metadata": {},
   "outputs": [
    {
     "data": {
      "text/plain": [
       "17003"
      ]
     },
     "execution_count": 58,
     "metadata": {},
     "output_type": "execute_result"
    }
   ],
   "source": [
    "len(set(words))"
   ]
  },
  {
   "cell_type": "markdown",
   "id": "2e93886e",
   "metadata": {},
   "source": [
    "`fq` will give the frequencies for each word, see [here](https://tedboy.github.io/nlps/generated/generated/nltk.FreqDist.html). "
   ]
  },
  {
   "cell_type": "code",
   "execution_count": 59,
   "id": "c258a88d",
   "metadata": {},
   "outputs": [],
   "source": [
    "fq = nltk.FreqDist(words)"
   ]
  },
  {
   "cell_type": "code",
   "execution_count": 60,
   "id": "4c660767",
   "metadata": {},
   "outputs": [
    {
     "data": {
      "text/plain": [
       "FreqDist({'the': 14334, 'of': 6598, 'and': 6413, 'a': 4726, 'to': 4622, 'in': 4161, 'that': 3085, 'his': 2528, 'it': 2522, 'i': 2126, ...})"
      ]
     },
     "execution_count": 60,
     "metadata": {},
     "output_type": "execute_result"
    }
   ],
   "source": [
    "fq"
   ]
  },
  {
   "cell_type": "markdown",
   "id": "e53fca11",
   "metadata": {},
   "source": [
    "Frequency distribution objects have a few methods to provide summary information.\n",
    "\n",
    "The `.most_common()` method returns the most common tokens and their frequencies:"
   ]
  },
  {
   "cell_type": "code",
   "execution_count": 61,
   "id": "5aaa6385",
   "metadata": {},
   "outputs": [
    {
     "data": {
      "text/plain": [
       "[('the', 14334),\n",
       " ('of', 6598),\n",
       " ('and', 6413),\n",
       " ('a', 4726),\n",
       " ('to', 4622),\n",
       " ('in', 4161),\n",
       " ('that', 3085),\n",
       " ('his', 2528),\n",
       " ('it', 2522),\n",
       " ('i', 2126)]"
      ]
     },
     "execution_count": 61,
     "metadata": {},
     "output_type": "execute_result"
    }
   ],
   "source": [
    "fq.most_common(10)"
   ]
  },
  {
   "cell_type": "markdown",
   "id": "6bfb40bf",
   "metadata": {},
   "source": [
    "A _hapax_ is a token that only occurs once within a document. The `.hapaxes()` method returns the hapaxes:"
   ]
  },
  {
   "cell_type": "code",
   "execution_count": 62,
   "id": "6c5ad4c1",
   "metadata": {},
   "outputs": [
    {
     "data": {
      "text/plain": [
       "7425"
      ]
     },
     "execution_count": 62,
     "metadata": {},
     "output_type": "execute_result"
    }
   ],
   "source": [
    "len(fq.hapaxes())"
   ]
  },
  {
   "cell_type": "markdown",
   "id": "d3562449",
   "metadata": {},
   "source": [
    "The `.plot()` method displays a plot of word frequencies, sorted from most to least frequent word.\n",
    "\n",
    "The first parameter controls how many words to display. The second parameter controls whether the plot is cummulative."
   ]
  },
  {
   "cell_type": "code",
   "execution_count": 63,
   "id": "0c122b8d",
   "metadata": {},
   "outputs": [],
   "source": [
    "%matplotlib inline"
   ]
  },
  {
   "cell_type": "code",
   "execution_count": 64,
   "id": "d9e55de4",
   "metadata": {
    "scrolled": false
   },
   "outputs": [
    {
     "data": {
      "image/png": "[encoded data removed]",
      "text/plain": [
       "<Figure size 640x480 with 1 Axes>"
      ]
     },
     "metadata": {},
     "output_type": "display_data"
    },
    {
     "data": {
      "text/plain": [
       "<AxesSubplot: xlabel='Samples', ylabel='Cumulative Counts'>"
      ]
     },
     "execution_count": 64,
     "metadata": {},
     "output_type": "execute_result"
    }
   ],
   "source": [
    "fq.plot(40, cumulative = True)"
   ]
  },
  {
   "cell_type": "code",
   "execution_count": 65,
   "id": "efad1c66",
   "metadata": {
    "scrolled": false
   },
   "outputs": [
    {
     "data": {
      "image/png": "[encoded data removed]",
      "text/plain": [
       "<Figure size 640x480 with 1 Axes>"
      ]
     },
     "metadata": {},
     "output_type": "display_data"
    },
    {
     "data": {
      "text/plain": [
       "<AxesSubplot: xlabel='Samples', ylabel='Counts'>"
      ]
     },
     "execution_count": 65,
     "metadata": {},
     "output_type": "execute_result"
    }
   ],
   "source": [
    "fq.plot(40)"
   ]
  },
  {
   "cell_type": "markdown",
   "id": "bcf5c722",
   "metadata": {},
   "source": [
    "Consider [Zipf's law](https://en.wikipedia.org/wiki/Zipf%27s_law): When the elements of a set - for example, the words of a text - are ordered by their frequency, the probability $p$ of their occurrence is inversely proportional to the place $n$ on the frequency list. "
   ]
  },
  {
   "cell_type": "code",
   "execution_count": 66,
   "id": "dd8885eb",
   "metadata": {},
   "outputs": [],
   "source": [
    "logFreq = [np.log(i[1]) for i in fq.most_common(2000)]\n",
    "logRank = [np.log(1 + i) for i in range(0,2000)]"
   ]
  },
  {
   "cell_type": "code",
   "execution_count": 67,
   "id": "fdd56439",
   "metadata": {},
   "outputs": [],
   "source": [
    "logTheo = [np.log(1/(1 + i)) for i in range(0,2000)] + logFreq[0]"
   ]
  },
  {
   "cell_type": "code",
   "execution_count": 68,
   "id": "9b86726b",
   "metadata": {},
   "outputs": [],
   "source": [
    "import plotnine as p9"
   ]
  },
  {
   "cell_type": "code",
   "execution_count": 69,
   "id": "1ac80864",
   "metadata": {
    "scrolled": false
   },
   "outputs": [
    {
     "data": {
      "image/png": "[encoded data removed]",
      "text/plain": [
       "<Figure size 640x480 with 1 Axes>"
      ]
     },
     "metadata": {
      "needs_background": "light"
     },
     "output_type": "display_data"
    },
    {
     "data": {
      "text/plain": [
       "<ggplot: (8787227219059)>"
      ]
     },
     "execution_count": 69,
     "metadata": {},
     "output_type": "execute_result"
    }
   ],
   "source": [
    "(\n",
    "p9.ggplot() + p9.theme_minimal() + \n",
    "    p9.geom_line(p9.aes(x='logRank', y='logFreq')) + \n",
    "    p9.geom_line(p9.aes(x='logRank', y='logTheo'), color = 'red') \n",
    ")"
   ]
  },
  {
   "cell_type": "markdown",
   "id": "0276e6d2",
   "metadata": {},
   "source": [
    "Notice that when we use term frequencies as features, we lose information about the order of the words in each document.\n",
    "\n",
    "The first and second document contain the same words, but in different orders. The word frequency features for these two documents are identical.\n",
    "\n",
    "The __scikit-learn__ package provides functions to help with feature engineering. The `sklearn.feature_extraction.text` submodule is specifically for extracting features from text documents."
   ]
  },
  {
   "cell_type": "code",
   "execution_count": 70,
   "id": "ff9aacb3",
   "metadata": {},
   "outputs": [],
   "source": [
    "from sklearn.feature_extraction.text import CountVectorizer"
   ]
  },
  {
   "cell_type": "code",
   "execution_count": 71,
   "id": "3e568068",
   "metadata": {},
   "outputs": [
    {
     "name": "stdout",
     "output_type": "stream",
     "text": [
      "Help on class CountVectorizer in module sklearn.feature_extraction.text:\n",
      "\n",
      "class CountVectorizer(_VectorizerMixin, sklearn.base.BaseEstimator)\n",
      " |  CountVectorizer(*, input='content', encoding='utf-8', decode_error='strict', strip_accents=None, lowercase=True, preprocessor=None, tokenizer=None, stop_words=None, token_pattern='(?u)\\\\b\\\\w\\\\w+\\\\b', ngram_range=(1, 1), analyzer='word', max_df=1.0, min_df=1, max_features=None, vocabulary=None, binary=False, dtype=<class 'numpy.int64'>)\n",
      " |  \n",
      " |  Convert a collection of text documents to a matrix of token counts.\n",
      " |  \n",
      " |  This implementation produces a sparse representation of the counts using\n",
      " |  scipy.sparse.csr_matrix.\n",
      " |  \n",
      " |  If you do not provide an a-priori dictionary and you do not use an analyzer\n",
      " |  that does some kind of feature selection then the number of features will\n",
      " |  be equal to the vocabulary size found by analyzing the data.\n",
      " |  \n",
      " |  Read more in the :ref:`User Guide <text_feature_extraction>`.\n",
      " |  \n",
      " |  Parameters\n",
      " |  ----------\n",
      " |  input : {'filename', 'file', 'content'}, default='content'\n",
      " |      - If `'filename'`, the sequence passed as an argument to fit is\n",
      " |        expected to be a list of filenames that need reading to fetch\n",
      " |        the raw content to analyze.\n",
      " |  \n",
      " |      - If `'file'`, the sequence items must have a 'read' method (file-like\n",
      " |        object) that is called to fetch the bytes in memory.\n",
      " |  \n",
      " |      - If `'content'`, the input is expected to be a sequence of items that\n",
      " |        can be of type string or byte.\n",
      " |  \n",
      " |  encoding : str, default='utf-8'\n",
      " |      If bytes or files are given to analyze, this encoding is used to\n",
      " |      decode.\n",
      " |  \n",
      " |  decode_error : {'strict', 'ignore', 'replace'}, default='strict'\n",
      " |      Instruction on what to do if a byte sequence is given to analyze that\n",
      " |      contains characters not of the given `encoding`. By default, it is\n",
      " |      'strict', meaning that a UnicodeDecodeError will be raised. Other\n",
      " |      values are 'ignore' and 'replace'.\n",
      " |  \n",
      " |  strip_accents : {'ascii', 'unicode'}, default=None\n",
      " |      Remove accents and perform other character normalization\n",
      " |      during the preprocessing step.\n",
      " |      'ascii' is a fast method that only works on characters that have\n",
      " |      an direct ASCII mapping.\n",
      " |      'unicode' is a slightly slower method that works on any characters.\n",
      " |      None (default) does nothing.\n",
      " |  \n",
      " |      Both 'ascii' and 'unicode' use NFKD normalization from\n",
      " |      :func:`unicodedata.normalize`.\n",
      " |  \n",
      " |  lowercase : bool, default=True\n",
      " |      Convert all characters to lowercase before tokenizing.\n",
      " |  \n",
      " |  preprocessor : callable, default=None\n",
      " |      Override the preprocessing (strip_accents and lowercase) stage while\n",
      " |      preserving the tokenizing and n-grams generation steps.\n",
      " |      Only applies if ``analyzer`` is not callable.\n",
      " |  \n",
      " |  tokenizer : callable, default=None\n",
      " |      Override the string tokenization step while preserving the\n",
      " |      preprocessing and n-grams generation steps.\n",
      " |      Only applies if ``analyzer == 'word'``.\n",
      " |  \n",
      " |  stop_words : {'english'}, list, default=None\n",
      " |      If 'english', a built-in stop word list for English is used.\n",
      " |      There are several known issues with 'english' and you should\n",
      " |      consider an alternative (see :ref:`stop_words`).\n",
      " |  \n",
      " |      If a list, that list is assumed to contain stop words, all of which\n",
      " |      will be removed from the resulting tokens.\n",
      " |      Only applies if ``analyzer == 'word'``.\n",
      " |  \n",
      " |      If None, no stop words will be used. max_df can be set to a value\n",
      " |      in the range [0.7, 1.0) to automatically detect and filter stop\n",
      " |      words based on intra corpus document frequency of terms.\n",
      " |  \n",
      " |  token_pattern : str, default=r\"(?u)\\\\b\\\\w\\\\w+\\\\b\"\n",
      " |      Regular expression denoting what constitutes a \"token\", only used\n",
      " |      if ``analyzer == 'word'``. The default regexp select tokens of 2\n",
      " |      or more alphanumeric characters (punctuation is completely ignored\n",
      " |      and always treated as a token separator).\n",
      " |  \n",
      " |      If there is a capturing group in token_pattern then the\n",
      " |      captured group content, not the entire match, becomes the token.\n",
      " |      At most one capturing group is permitted.\n",
      " |  \n",
      " |  ngram_range : tuple (min_n, max_n), default=(1, 1)\n",
      " |      The lower and upper boundary of the range of n-values for different\n",
      " |      word n-grams or char n-grams to be extracted. All values of n such\n",
      " |      such that min_n <= n <= max_n will be used. For example an\n",
      " |      ``ngram_range`` of ``(1, 1)`` means only unigrams, ``(1, 2)`` means\n",
      " |      unigrams and bigrams, and ``(2, 2)`` means only bigrams.\n",
      " |      Only applies if ``analyzer`` is not callable.\n",
      " |  \n",
      " |  analyzer : {'word', 'char', 'char_wb'} or callable, default='word'\n",
      " |      Whether the feature should be made of word n-gram or character\n",
      " |      n-grams.\n",
      " |      Option 'char_wb' creates character n-grams only from text inside\n",
      " |      word boundaries; n-grams at the edges of words are padded with space.\n",
      " |  \n",
      " |      If a callable is passed it is used to extract the sequence of features\n",
      " |      out of the raw, unprocessed input.\n",
      " |  \n",
      " |      .. versionchanged:: 0.21\n",
      " |  \n",
      " |      Since v0.21, if ``input`` is ``filename`` or ``file``, the data is\n",
      " |      first read from the file and then passed to the given callable\n",
      " |      analyzer.\n",
      " |  \n",
      " |  max_df : float in range [0.0, 1.0] or int, default=1.0\n",
      " |      When building the vocabulary ignore terms that have a document\n",
      " |      frequency strictly higher than the given threshold (corpus-specific\n",
      " |      stop words).\n",
      " |      If float, the parameter represents a proportion of documents, integer\n",
      " |      absolute counts.\n",
      " |      This parameter is ignored if vocabulary is not None.\n",
      " |  \n",
      " |  min_df : float in range [0.0, 1.0] or int, default=1\n",
      " |      When building the vocabulary ignore terms that have a document\n",
      " |      frequency strictly lower than the given threshold. This value is also\n",
      " |      called cut-off in the literature.\n",
      " |      If float, the parameter represents a proportion of documents, integer\n",
      " |      absolute counts.\n",
      " |      This parameter is ignored if vocabulary is not None.\n",
      " |  \n",
      " |  max_features : int, default=None\n",
      " |      If not None, build a vocabulary that only consider the top\n",
      " |      max_features ordered by term frequency across the corpus.\n",
      " |  \n",
      " |      This parameter is ignored if vocabulary is not None.\n",
      " |  \n",
      " |  vocabulary : Mapping or iterable, default=None\n",
      " |      Either a Mapping (e.g., a dict) where keys are terms and values are\n",
      " |      indices in the feature matrix, or an iterable over terms. If not\n",
      " |      given, a vocabulary is determined from the input documents. Indices\n",
      " |      in the mapping should not be repeated and should not have any gap\n",
      " |      between 0 and the largest index.\n",
      " |  \n",
      " |  binary : bool, default=False\n",
      " |      If True, all non zero counts are set to 1. This is useful for discrete\n",
      " |      probabilistic models that model binary events rather than integer\n",
      " |      counts.\n",
      " |  \n",
      " |  dtype : type, default=np.int64\n",
      " |      Type of the matrix returned by fit_transform() or transform().\n",
      " |  \n",
      " |  Attributes\n",
      " |  ----------\n",
      " |  vocabulary_ : dict\n",
      " |      A mapping of terms to feature indices.\n",
      " |  \n",
      " |  fixed_vocabulary_ : bool\n",
      " |      True if a fixed vocabulary of term to indices mapping\n",
      " |      is provided by the user.\n",
      " |  \n",
      " |  stop_words_ : set\n",
      " |      Terms that were ignored because they either:\n",
      " |  \n",
      " |        - occurred in too many documents (`max_df`)\n",
      " |        - occurred in too few documents (`min_df`)\n",
      " |        - were cut off by feature selection (`max_features`).\n",
      " |  \n",
      " |      This is only available if no vocabulary was given.\n",
      " |  \n",
      " |  See Also\n",
      " |  --------\n",
      " |  HashingVectorizer : Convert a collection of text documents to a\n",
      " |      matrix of token counts.\n",
      " |  \n",
      " |  TfidfVectorizer : Convert a collection of raw documents to a matrix\n",
      " |      of TF-IDF features.\n",
      " |  \n",
      " |  Notes\n",
      " |  -----\n",
      " |  The ``stop_words_`` attribute can get large and increase the model size\n",
      " |  when pickling. This attribute is provided only for introspection and can\n",
      " |  be safely removed using delattr or set to None before pickling.\n",
      " |  \n",
      " |  Examples\n",
      " |  --------\n",
      " |  >>> from sklearn.feature_extraction.text import CountVectorizer\n",
      " |  >>> corpus = [\n",
      " |  ...     'This is the first document.',\n",
      " |  ...     'This document is the second document.',\n",
      " |  ...     'And this is the third one.',\n",
      " |  ...     'Is this the first document?',\n",
      " |  ... ]\n",
      " |  >>> vectorizer = CountVectorizer()\n",
      " |  >>> X = vectorizer.fit_transform(corpus)\n",
      " |  >>> vectorizer.get_feature_names_out()\n",
      " |  array(['and', 'document', 'first', 'is', 'one', 'second', 'the', 'third',\n",
      " |         'this'], ...)\n",
      " |  >>> print(X.toarray())\n",
      " |  [[0 1 1 1 0 0 1 0 1]\n",
      " |   [0 2 0 1 0 1 1 0 1]\n",
      " |   [1 0 0 1 1 0 1 1 1]\n",
      " |   [0 1 1 1 0 0 1 0 1]]\n",
      " |  >>> vectorizer2 = CountVectorizer(analyzer='word', ngram_range=(2, 2))\n",
      " |  >>> X2 = vectorizer2.fit_transform(corpus)\n",
      " |  >>> vectorizer2.get_feature_names_out()\n",
      " |  array(['and this', 'document is', 'first document', 'is the', 'is this',\n",
      " |         'second document', 'the first', 'the second', 'the third', 'third one',\n",
      " |         'this document', 'this is', 'this the'], ...)\n",
      " |   >>> print(X2.toarray())\n",
      " |   [[0 0 1 1 0 0 1 0 0 0 0 1 0]\n",
      " |   [0 1 0 1 0 1 0 1 0 0 1 0 0]\n",
      " |   [1 0 0 1 0 0 0 0 1 1 0 1 0]\n",
      " |   [0 0 1 0 1 0 1 0 0 0 0 0 1]]\n",
      " |  \n",
      " |  Method resolution order:\n",
      " |      CountVectorizer\n",
      " |      _VectorizerMixin\n",
      " |      sklearn.base.BaseEstimator\n",
      " |      builtins.object\n",
      " |  \n",
      " |  Methods defined here:\n",
      " |  \n",
      " |  __init__(self, *, input='content', encoding='utf-8', decode_error='strict', strip_accents=None, lowercase=True, preprocessor=None, tokenizer=None, stop_words=None, token_pattern='(?u)\\\\b\\\\w\\\\w+\\\\b', ngram_range=(1, 1), analyzer='word', max_df=1.0, min_df=1, max_features=None, vocabulary=None, binary=False, dtype=<class 'numpy.int64'>)\n",
      " |      Initialize self.  See help(type(self)) for accurate signature.\n",
      " |  \n",
      " |  fit(self, raw_documents, y=None)\n",
      " |      Learn a vocabulary dictionary of all tokens in the raw documents.\n",
      " |      \n",
      " |      Parameters\n",
      " |      ----------\n",
      " |      raw_documents : iterable\n",
      " |          An iterable which generates either str, unicode or file objects.\n",
      " |      \n",
      " |      y : None\n",
      " |          This parameter is ignored.\n",
      " |      \n",
      " |      Returns\n",
      " |      -------\n",
      " |      self : object\n",
      " |          Fitted vectorizer.\n",
      " |  \n",
      " |  fit_transform(self, raw_documents, y=None)\n",
      " |      Learn the vocabulary dictionary and return document-term matrix.\n",
      " |      \n",
      " |      This is equivalent to fit followed by transform, but more efficiently\n",
      " |      implemented.\n",
      " |      \n",
      " |      Parameters\n",
      " |      ----------\n",
      " |      raw_documents : iterable\n",
      " |          An iterable which generates either str, unicode or file objects.\n",
      " |      \n",
      " |      y : None\n",
      " |          This parameter is ignored.\n",
      " |      \n",
      " |      Returns\n",
      " |      -------\n",
      " |      X : array of shape (n_samples, n_features)\n",
      " |          Document-term matrix.\n",
      " |  \n",
      " |  get_feature_names(self)\n",
      " |      DEPRECATED: get_feature_names is deprecated in 1.0 and will be removed in 1.2. Please use get_feature_names_out instead.\n",
      " |      \n",
      " |      Array mapping from feature integer indices to feature name.\n",
      " |      \n",
      " |          Returns\n",
      " |          -------\n",
      " |          feature_names : list\n",
      " |              A list of feature names.\n",
      " |  \n",
      " |  get_feature_names_out(self, input_features=None)\n",
      " |      Get output feature names for transformation.\n",
      " |      \n",
      " |      Parameters\n",
      " |      ----------\n",
      " |      input_features : array-like of str or None, default=None\n",
      " |          Not used, present here for API consistency by convention.\n",
      " |      \n",
      " |      Returns\n",
      " |      -------\n",
      " |      feature_names_out : ndarray of str objects\n",
      " |          Transformed feature names.\n",
      " |  \n",
      " |  inverse_transform(self, X)\n",
      " |      Return terms per document with nonzero entries in X.\n",
      " |      \n",
      " |      Parameters\n",
      " |      ----------\n",
      " |      X : {array-like, sparse matrix} of shape (n_samples, n_features)\n",
      " |          Document-term matrix.\n",
      " |      \n",
      " |      Returns\n",
      " |      -------\n",
      " |      X_inv : list of arrays of shape (n_samples,)\n",
      " |          List of arrays of terms.\n",
      " |  \n",
      " |  transform(self, raw_documents)\n",
      " |      Transform documents to document-term matrix.\n",
      " |      \n",
      " |      Extract token counts out of raw text documents using the vocabulary\n",
      " |      fitted with fit or the one provided to the constructor.\n",
      " |      \n",
      " |      Parameters\n",
      " |      ----------\n",
      " |      raw_documents : iterable\n",
      " |          An iterable which generates either str, unicode or file objects.\n",
      " |      \n",
      " |      Returns\n",
      " |      -------\n",
      " |      X : sparse matrix of shape (n_samples, n_features)\n",
      " |          Document-term matrix.\n",
      " |  \n",
      " |  ----------------------------------------------------------------------\n",
      " |  Methods inherited from _VectorizerMixin:\n",
      " |  \n",
      " |  build_analyzer(self)\n",
      " |      Return a callable to process input data.\n",
      " |      \n",
      " |      The callable handles that handles preprocessing, tokenization, and\n",
      " |      n-grams generation.\n",
      " |      \n",
      " |      Returns\n",
      " |      -------\n",
      " |      analyzer: callable\n",
      " |          A function to handle preprocessing, tokenization\n",
      " |          and n-grams generation.\n",
      " |  \n",
      " |  build_preprocessor(self)\n",
      " |      Return a function to preprocess the text before tokenization.\n",
      " |      \n",
      " |      Returns\n",
      " |      -------\n",
      " |      preprocessor: callable\n",
      " |            A function to preprocess the text before tokenization.\n",
      " |  \n",
      " |  build_tokenizer(self)\n",
      " |      Return a function that splits a string into a sequence of tokens.\n",
      " |      \n",
      " |      Returns\n",
      " |      -------\n",
      " |      tokenizer: callable\n",
      " |            A function to split a string into a sequence of tokens.\n",
      " |  \n",
      " |  decode(self, doc)\n",
      " |      Decode the input into a string of unicode symbols.\n",
      " |      \n",
      " |      The decoding strategy depends on the vectorizer parameters.\n",
      " |      \n",
      " |      Parameters\n",
      " |      ----------\n",
      " |      doc : bytes or str\n",
      " |          The string to decode.\n",
      " |      \n",
      " |      Returns\n",
      " |      -------\n",
      " |      doc: str\n",
      " |          A string of unicode symbols.\n",
      " |  \n",
      " |  get_stop_words(self)\n",
      " |      Build or fetch the effective stop words list.\n",
      " |      \n",
      " |      Returns\n",
      " |      -------\n",
      " |      stop_words: list or None\n",
      " |              A list of stop words.\n",
      " |  \n",
      " |  ----------------------------------------------------------------------\n",
      " |  Data descriptors inherited from _VectorizerMixin:\n",
      " |  \n",
      " |  __dict__\n",
      " |      dictionary for instance variables (if defined)\n",
      " |  \n",
      " |  __weakref__\n",
      " |      list of weak references to the object (if defined)\n",
      " |  \n",
      " |  ----------------------------------------------------------------------\n",
      " |  Methods inherited from sklearn.base.BaseEstimator:\n",
      " |  \n",
      " |  __getstate__(self)\n",
      " |  \n",
      " |  __repr__(self, N_CHAR_MAX=700)\n",
      " |      Return repr(self).\n",
      " |  \n",
      " |  __setstate__(self, state)\n",
      " |  \n",
      " |  get_params(self, deep=True)\n",
      " |      Get parameters for this estimator.\n",
      " |      \n",
      " |      Parameters\n",
      " |      ----------\n",
      " |      deep : bool, default=True\n",
      " |          If True, will return the parameters for this estimator and\n",
      " |          contained subobjects that are estimators.\n",
      " |      \n",
      " |      Returns\n",
      " |      -------\n",
      " |      params : dict\n",
      " |          Parameter names mapped to their values.\n",
      " |  \n",
      " |  set_params(self, **params)\n",
      " |      Set the parameters of this estimator.\n",
      " |      \n",
      " |      The method works on simple estimators as well as on nested objects\n",
      " |      (such as :class:`~sklearn.pipeline.Pipeline`). The latter have\n",
      " |      parameters of the form ``<component>__<parameter>`` so that it's\n",
      " |      possible to update each component of a nested object.\n",
      " |      \n",
      " |      Parameters\n",
      " |      ----------\n",
      " |      **params : dict\n",
      " |          Estimator parameters.\n",
      " |      \n",
      " |      Returns\n",
      " |      -------\n",
      " |      self : estimator instance\n",
      " |          Estimator instance.\n",
      "\n"
     ]
    }
   ],
   "source": [
    "help(CountVectorizer)"
   ]
  },
  {
   "cell_type": "code",
   "execution_count": 72,
   "id": "d487bb6f",
   "metadata": {},
   "outputs": [],
   "source": [
    "vec = CountVectorizer(tokenizer = nltk.word_tokenize)\n",
    "freq = vec.fit_transform(corpus)"
   ]
  },
  {
   "cell_type": "code",
   "execution_count": 73,
   "id": "3ea8a739",
   "metadata": {},
   "outputs": [
    {
     "data": {
      "text/plain": [
       "<3x12 sparse matrix of type '<class 'numpy.int64'>'\n",
       "\twith 25 stored elements in Compressed Sparse Row format>"
      ]
     },
     "execution_count": 73,
     "metadata": {},
     "output_type": "execute_result"
    }
   ],
   "source": [
    "freq"
   ]
  },
  {
   "cell_type": "code",
   "execution_count": 74,
   "id": "b07d8903",
   "metadata": {},
   "outputs": [
    {
     "data": {
      "text/plain": [
       "matrix([[1, 1, 1, 0, 2, 1, 0, 1, 0, 1, 3, 1],\n",
       "        [1, 1, 1, 0, 2, 1, 0, 1, 0, 1, 3, 1],\n",
       "        [1, 0, 0, 1, 0, 0, 1, 0, 1, 1, 2, 1]])"
      ]
     },
     "execution_count": 74,
     "metadata": {},
     "output_type": "execute_result"
    }
   ],
   "source": [
    "# .todense() convert sparse matrix to a dense matrix\n",
    "# Don't do this for a really large matrix!\n",
    "freq.todense()"
   ]
  },
  {
   "cell_type": "code",
   "execution_count": 75,
   "id": "f7da9a31",
   "metadata": {},
   "outputs": [
    {
     "data": {
      "text/html": [
       "<div>\n",
       "<style scoped>\n",
       "    .dataframe tbody tr th:only-of-type {\n",
       "        vertical-align: middle;\n",
       "    }\n",
       "\n",
       "    .dataframe tbody tr th {\n",
       "        vertical-align: top;\n",
       "    }\n",
       "\n",
       "    .dataframe thead th {\n",
       "        text-align: right;\n",
       "    }\n",
       "</style>\n",
       "<table border=\"1\" class=\"dataframe\">\n",
       "  <thead>\n",
       "    <tr style=\"text-align: right;\">\n",
       "      <th></th>\n",
       "      <th>the</th>\n",
       "      <th>cat</th>\n",
       "      <th>saw</th>\n",
       "      <th>dog</th>\n",
       "      <th>was</th>\n",
       "      <th>angry</th>\n",
       "      <th>at</th>\n",
       "      <th>other</th>\n",
       "      <th>.</th>\n",
       "      <th>canary</th>\n",
       "      <th>iguana</th>\n",
       "      <th>sad</th>\n",
       "    </tr>\n",
       "  </thead>\n",
       "  <tbody>\n",
       "    <tr>\n",
       "      <th>0</th>\n",
       "      <td>3</td>\n",
       "      <td>2</td>\n",
       "      <td>1</td>\n",
       "      <td>1</td>\n",
       "      <td>1</td>\n",
       "      <td>1</td>\n",
       "      <td>1</td>\n",
       "      <td>1</td>\n",
       "      <td>1</td>\n",
       "      <td>0</td>\n",
       "      <td>0</td>\n",
       "      <td>0</td>\n",
       "    </tr>\n",
       "    <tr>\n",
       "      <th>1</th>\n",
       "      <td>3</td>\n",
       "      <td>2</td>\n",
       "      <td>1</td>\n",
       "      <td>1</td>\n",
       "      <td>1</td>\n",
       "      <td>1</td>\n",
       "      <td>1</td>\n",
       "      <td>1</td>\n",
       "      <td>1</td>\n",
       "      <td>0</td>\n",
       "      <td>0</td>\n",
       "      <td>0</td>\n",
       "    </tr>\n",
       "    <tr>\n",
       "      <th>2</th>\n",
       "      <td>2</td>\n",
       "      <td>0</td>\n",
       "      <td>1</td>\n",
       "      <td>0</td>\n",
       "      <td>1</td>\n",
       "      <td>0</td>\n",
       "      <td>0</td>\n",
       "      <td>0</td>\n",
       "      <td>1</td>\n",
       "      <td>1</td>\n",
       "      <td>1</td>\n",
       "      <td>1</td>\n",
       "    </tr>\n",
       "  </tbody>\n",
       "</table>\n",
       "</div>"
      ],
      "text/plain": [
       "   the  cat  saw  dog  was  angry  at  other  .  canary  iguana  sad\n",
       "0    3    2    1    1    1      1   1      1  1       0       0    0\n",
       "1    3    2    1    1    1      1   1      1  1       0       0    0\n",
       "2    2    0    1    0    1      0   0      0  1       1       1    1"
      ]
     },
     "execution_count": 75,
     "metadata": {},
     "output_type": "execute_result"
    }
   ],
   "source": [
    "df"
   ]
  },
  {
   "cell_type": "markdown",
   "id": "e146dbd6",
   "metadata": {},
   "source": [
    "Use the `.get_feature_names_out()` method to see which term each column corresponds to:"
   ]
  },
  {
   "cell_type": "code",
   "execution_count": 76,
   "id": "11ce7988",
   "metadata": {},
   "outputs": [
    {
     "data": {
      "text/plain": [
       "array(['.', 'angry', 'at', 'canary', 'cat', 'dog', 'iguana', 'other',\n",
       "       'sad', 'saw', 'the', 'was'], dtype=object)"
      ]
     },
     "execution_count": 76,
     "metadata": {},
     "output_type": "execute_result"
    }
   ],
   "source": [
    "vec.get_feature_names_out()"
   ]
  },
  {
   "cell_type": "code",
   "execution_count": 77,
   "id": "f02d9802",
   "metadata": {},
   "outputs": [
    {
     "data": {
      "text/html": [
       "<style>#sk-container-id-1 {color: black;background-color: white;}#sk-container-id-1 pre{padding: 0;}#sk-container-id-1 div.sk-toggleable {background-color: white;}#sk-container-id-1 label.sk-toggleable__label {cursor: pointer;display: block;width: 100%;margin-bottom: 0;padding: 0.3em;box-sizing: border-box;text-align: center;}#sk-container-id-1 label.sk-toggleable__label-arrow:before {content: \"▸\";float: left;margin-right: 0.25em;color: #696969;}#sk-container-id-1 label.sk-toggleable__label-arrow:hover:before {color: black;}#sk-container-id-1 div.sk-estimator:hover label.sk-toggleable__label-arrow:before {color: black;}#sk-container-id-1 div.sk-toggleable__content {max-height: 0;max-width: 0;overflow: hidden;text-align: left;background-color: #f0f8ff;}#sk-container-id-1 div.sk-toggleable__content pre {margin: 0.2em;color: black;border-radius: 0.25em;background-color: #f0f8ff;}#sk-container-id-1 input.sk-toggleable__control:checked~div.sk-toggleable__content {max-height: 200px;max-width: 100%;overflow: auto;}#sk-container-id-1 input.sk-toggleable__control:checked~label.sk-toggleable__label-arrow:before {content: \"▾\";}#sk-container-id-1 div.sk-estimator input.sk-toggleable__control:checked~label.sk-toggleable__label {background-color: #d4ebff;}#sk-container-id-1 div.sk-label input.sk-toggleable__control:checked~label.sk-toggleable__label {background-color: #d4ebff;}#sk-container-id-1 input.sk-hidden--visually {border: 0;clip: rect(1px 1px 1px 1px);clip: rect(1px, 1px, 1px, 1px);height: 1px;margin: -1px;overflow: hidden;padding: 0;position: absolute;width: 1px;}#sk-container-id-1 div.sk-estimator {font-family: monospace;background-color: #f0f8ff;border: 1px dotted black;border-radius: 0.25em;box-sizing: border-box;margin-bottom: 0.5em;}#sk-container-id-1 div.sk-estimator:hover {background-color: #d4ebff;}#sk-container-id-1 div.sk-parallel-item::after {content: \"\";width: 100%;border-bottom: 1px solid gray;flex-grow: 1;}#sk-container-id-1 div.sk-label:hover label.sk-toggleable__label {background-color: #d4ebff;}#sk-container-id-1 div.sk-serial::before {content: \"\";position: absolute;border-left: 1px solid gray;box-sizing: border-box;top: 0;bottom: 0;left: 50%;z-index: 0;}#sk-container-id-1 div.sk-serial {display: flex;flex-direction: column;align-items: center;background-color: white;padding-right: 0.2em;padding-left: 0.2em;position: relative;}#sk-container-id-1 div.sk-item {position: relative;z-index: 1;}#sk-container-id-1 div.sk-parallel {display: flex;align-items: stretch;justify-content: center;background-color: white;position: relative;}#sk-container-id-1 div.sk-item::before, #sk-container-id-1 div.sk-parallel-item::before {content: \"\";position: absolute;border-left: 1px solid gray;box-sizing: border-box;top: 0;bottom: 0;left: 50%;z-index: -1;}#sk-container-id-1 div.sk-parallel-item {display: flex;flex-direction: column;z-index: 1;position: relative;background-color: white;}#sk-container-id-1 div.sk-parallel-item:first-child::after {align-self: flex-end;width: 50%;}#sk-container-id-1 div.sk-parallel-item:last-child::after {align-self: flex-start;width: 50%;}#sk-container-id-1 div.sk-parallel-item:only-child::after {width: 0;}#sk-container-id-1 div.sk-dashed-wrapped {border: 1px dashed gray;margin: 0 0.4em 0.5em 0.4em;box-sizing: border-box;padding-bottom: 0.4em;background-color: white;}#sk-container-id-1 div.sk-label label {font-family: monospace;font-weight: bold;display: inline-block;line-height: 1.2em;}#sk-container-id-1 div.sk-label-container {text-align: center;}#sk-container-id-1 div.sk-container {/* jupyter's `normalize.less` sets `[hidden] { display: none; }` but bootstrap.min.css set `[hidden] { display: none !important; }` so we also need the `!important` here to be able to override the default hidden behavior on the sphinx rendered scikit-learn.org. See: https://github.com/scikit-learn/scikit-learn/issues/21755 */display: inline-block !important;position: relative;}#sk-container-id-1 div.sk-text-repr-fallback {display: none;}</style><div id=\"sk-container-id-1\" class=\"sk-top-container\"><div class=\"sk-text-repr-fallback\"><pre>CountVectorizer(tokenizer=&lt;function word_tokenize at 0x7fdf18d85280&gt;)</pre><b>In a Jupyter environment, please rerun this cell to show the HTML representation or trust the notebook. <br />On GitHub, the HTML representation is unable to render, please try loading this page with nbviewer.org.</b></div><div class=\"sk-container\" hidden><div class=\"sk-item\"><div class=\"sk-estimator sk-toggleable\"><input class=\"sk-toggleable__control sk-hidden--visually\" id=\"sk-estimator-id-1\" type=\"checkbox\" checked><label for=\"sk-estimator-id-1\" class=\"sk-toggleable__label sk-toggleable__label-arrow\">CountVectorizer</label><div class=\"sk-toggleable__content\"><pre>CountVectorizer(tokenizer=&lt;function word_tokenize at 0x7fdf18d85280&gt;)</pre></div></div></div></div></div>"
      ],
      "text/plain": [
       "CountVectorizer(tokenizer=<function word_tokenize at 0x7fdf18d85280>)"
      ]
     },
     "execution_count": 77,
     "metadata": {},
     "output_type": "execute_result"
    }
   ],
   "source": [
    "vec"
   ]
  },
  {
   "cell_type": "markdown",
   "id": "ea08b21a",
   "metadata": {},
   "source": [
    "One problem with term frequencies is that some terms have high frequencies simply because they appear frequently in the language. These terms can cause documents to appear similar even if they are otherwise different.\n",
    "\n",
    "While removing stopwords takes care of some high-frequency words, there may also be high-frequency words that have meaning and need to be kept."
   ]
  },
  {
   "cell_type": "markdown",
   "id": "de61d696",
   "metadata": {},
   "source": [
    "### One-hot Encoding\n",
    "\n",
    "We can avoid emphasis on high-frequency words by ignoring frequency altogether. Instead, we can create indicator variables for individual words. The indicator is 1 if the word appears in the document, and 0 otherwise.\n",
    "\n",
    "In machine learning, an indicator variable is also called a _one-hot encoding_.\n",
    "\n",
    "The `sklearn.preprocessing` submodule of __scikit-learn__ provides a function for one-hot encoding."
   ]
  },
  {
   "cell_type": "code",
   "execution_count": 78,
   "id": "5f914d35",
   "metadata": {},
   "outputs": [
    {
     "name": "stdout",
     "output_type": "stream",
     "text": [
      "Help on class Binarizer in module sklearn.preprocessing._data:\n",
      "\n",
      "class Binarizer(sklearn.base._OneToOneFeatureMixin, sklearn.base.TransformerMixin, sklearn.base.BaseEstimator)\n",
      " |  Binarizer(*, threshold=0.0, copy=True)\n",
      " |  \n",
      " |  Binarize data (set feature values to 0 or 1) according to a threshold.\n",
      " |  \n",
      " |  Values greater than the threshold map to 1, while values less than\n",
      " |  or equal to the threshold map to 0. With the default threshold of 0,\n",
      " |  only positive values map to 1.\n",
      " |  \n",
      " |  Binarization is a common operation on text count data where the\n",
      " |  analyst can decide to only consider the presence or absence of a\n",
      " |  feature rather than a quantified number of occurrences for instance.\n",
      " |  \n",
      " |  It can also be used as a pre-processing step for estimators that\n",
      " |  consider boolean random variables (e.g. modelled using the Bernoulli\n",
      " |  distribution in a Bayesian setting).\n",
      " |  \n",
      " |  Read more in the :ref:`User Guide <preprocessing_binarization>`.\n",
      " |  \n",
      " |  Parameters\n",
      " |  ----------\n",
      " |  threshold : float, default=0.0\n",
      " |      Feature values below or equal to this are replaced by 0, above it by 1.\n",
      " |      Threshold may not be less than 0 for operations on sparse matrices.\n",
      " |  \n",
      " |  copy : bool, default=True\n",
      " |      Set to False to perform inplace binarization and avoid a copy (if\n",
      " |      the input is already a numpy array or a scipy.sparse CSR matrix).\n",
      " |  \n",
      " |  Attributes\n",
      " |  ----------\n",
      " |  n_features_in_ : int\n",
      " |      Number of features seen during :term:`fit`.\n",
      " |  \n",
      " |      .. versionadded:: 0.24\n",
      " |  \n",
      " |  feature_names_in_ : ndarray of shape (`n_features_in_`,)\n",
      " |      Names of features seen during :term:`fit`. Defined only when `X`\n",
      " |      has feature names that are all strings.\n",
      " |  \n",
      " |      .. versionadded:: 1.0\n",
      " |  \n",
      " |  See Also\n",
      " |  --------\n",
      " |  binarize : Equivalent function without the estimator API.\n",
      " |  KBinsDiscretizer : Bin continuous data into intervals.\n",
      " |  OneHotEncoder : Encode categorical features as a one-hot numeric array.\n",
      " |  \n",
      " |  Notes\n",
      " |  -----\n",
      " |  If the input is a sparse matrix, only the non-zero values are subject\n",
      " |  to update by the Binarizer class.\n",
      " |  \n",
      " |  This estimator is stateless (besides constructor parameters), the\n",
      " |  fit method does nothing but is useful when used in a pipeline.\n",
      " |  \n",
      " |  Examples\n",
      " |  --------\n",
      " |  >>> from sklearn.preprocessing import Binarizer\n",
      " |  >>> X = [[ 1., -1.,  2.],\n",
      " |  ...      [ 2.,  0.,  0.],\n",
      " |  ...      [ 0.,  1., -1.]]\n",
      " |  >>> transformer = Binarizer().fit(X)  # fit does nothing.\n",
      " |  >>> transformer\n",
      " |  Binarizer()\n",
      " |  >>> transformer.transform(X)\n",
      " |  array([[1., 0., 1.],\n",
      " |         [1., 0., 0.],\n",
      " |         [0., 1., 0.]])\n",
      " |  \n",
      " |  Method resolution order:\n",
      " |      Binarizer\n",
      " |      sklearn.base._OneToOneFeatureMixin\n",
      " |      sklearn.base.TransformerMixin\n",
      " |      sklearn.base.BaseEstimator\n",
      " |      builtins.object\n",
      " |  \n",
      " |  Methods defined here:\n",
      " |  \n",
      " |  __init__(self, *, threshold=0.0, copy=True)\n",
      " |      Initialize self.  See help(type(self)) for accurate signature.\n",
      " |  \n",
      " |  fit(self, X, y=None)\n",
      " |      Do nothing and return the estimator unchanged.\n",
      " |      \n",
      " |      This method is just there to implement the usual API and hence\n",
      " |      work in pipelines.\n",
      " |      \n",
      " |      Parameters\n",
      " |      ----------\n",
      " |      X : {array-like, sparse matrix} of shape (n_samples, n_features)\n",
      " |          The data.\n",
      " |      \n",
      " |      y : None\n",
      " |          Ignored.\n",
      " |      \n",
      " |      Returns\n",
      " |      -------\n",
      " |      self : object\n",
      " |          Fitted transformer.\n",
      " |  \n",
      " |  transform(self, X, copy=None)\n",
      " |      Binarize each element of X.\n",
      " |      \n",
      " |      Parameters\n",
      " |      ----------\n",
      " |      X : {array-like, sparse matrix} of shape (n_samples, n_features)\n",
      " |          The data to binarize, element by element.\n",
      " |          scipy.sparse matrices should be in CSR format to avoid an\n",
      " |          un-necessary copy.\n",
      " |      \n",
      " |      copy : bool\n",
      " |          Copy the input X or not.\n",
      " |      \n",
      " |      Returns\n",
      " |      -------\n",
      " |      X_tr : {ndarray, sparse matrix} of shape (n_samples, n_features)\n",
      " |          Transformed array.\n",
      " |  \n",
      " |  ----------------------------------------------------------------------\n",
      " |  Methods inherited from sklearn.base._OneToOneFeatureMixin:\n",
      " |  \n",
      " |  get_feature_names_out(self, input_features=None)\n",
      " |      Get output feature names for transformation.\n",
      " |      \n",
      " |      Parameters\n",
      " |      ----------\n",
      " |      input_features : array-like of str or None, default=None\n",
      " |          Input features.\n",
      " |      \n",
      " |          - If `input_features` is `None`, then `feature_names_in_` is\n",
      " |            used as feature names in. If `feature_names_in_` is not defined,\n",
      " |            then the following input feature names are generated:\n",
      " |            `[\"x0\", \"x1\", ..., \"x(n_features_in_ - 1)\"]`.\n",
      " |          - If `input_features` is an array-like, then `input_features` must\n",
      " |            match `feature_names_in_` if `feature_names_in_` is defined.\n",
      " |      \n",
      " |      Returns\n",
      " |      -------\n",
      " |      feature_names_out : ndarray of str objects\n",
      " |          Same as input features.\n",
      " |  \n",
      " |  ----------------------------------------------------------------------\n",
      " |  Data descriptors inherited from sklearn.base._OneToOneFeatureMixin:\n",
      " |  \n",
      " |  __dict__\n",
      " |      dictionary for instance variables (if defined)\n",
      " |  \n",
      " |  __weakref__\n",
      " |      list of weak references to the object (if defined)\n",
      " |  \n",
      " |  ----------------------------------------------------------------------\n",
      " |  Methods inherited from sklearn.base.TransformerMixin:\n",
      " |  \n",
      " |  fit_transform(self, X, y=None, **fit_params)\n",
      " |      Fit to data, then transform it.\n",
      " |      \n",
      " |      Fits transformer to `X` and `y` with optional parameters `fit_params`\n",
      " |      and returns a transformed version of `X`.\n",
      " |      \n",
      " |      Parameters\n",
      " |      ----------\n",
      " |      X : array-like of shape (n_samples, n_features)\n",
      " |          Input samples.\n",
      " |      \n",
      " |      y :  array-like of shape (n_samples,) or (n_samples, n_outputs),                 default=None\n",
      " |          Target values (None for unsupervised transformations).\n",
      " |      \n",
      " |      **fit_params : dict\n",
      " |          Additional fit parameters.\n",
      " |      \n",
      " |      Returns\n",
      " |      -------\n",
      " |      X_new : ndarray array of shape (n_samples, n_features_new)\n",
      " |          Transformed array.\n",
      " |  \n",
      " |  ----------------------------------------------------------------------\n",
      " |  Methods inherited from sklearn.base.BaseEstimator:\n",
      " |  \n",
      " |  __getstate__(self)\n",
      " |  \n",
      " |  __repr__(self, N_CHAR_MAX=700)\n",
      " |      Return repr(self).\n",
      " |  \n",
      " |  __setstate__(self, state)\n",
      " |  \n",
      " |  get_params(self, deep=True)\n",
      " |      Get parameters for this estimator.\n",
      " |      \n",
      " |      Parameters\n",
      " |      ----------\n",
      " |      deep : bool, default=True\n",
      " |          If True, will return the parameters for this estimator and\n",
      " |          contained subobjects that are estimators.\n",
      " |      \n",
      " |      Returns\n",
      " |      -------\n",
      " |      params : dict\n",
      " |          Parameter names mapped to their values.\n",
      " |  \n",
      " |  set_params(self, **params)\n",
      " |      Set the parameters of this estimator.\n",
      " |      \n",
      " |      The method works on simple estimators as well as on nested objects\n",
      " |      (such as :class:`~sklearn.pipeline.Pipeline`). The latter have\n",
      " |      parameters of the form ``<component>__<parameter>`` so that it's\n",
      " |      possible to update each component of a nested object.\n",
      " |      \n",
      " |      Parameters\n",
      " |      ----------\n",
      " |      **params : dict\n",
      " |          Estimator parameters.\n",
      " |      \n",
      " |      Returns\n",
      " |      -------\n",
      " |      self : estimator instance\n",
      " |          Estimator instance.\n",
      "\n"
     ]
    }
   ],
   "source": [
    "from sklearn.preprocessing import Binarizer\n",
    "help(Binarizer)"
   ]
  },
  {
   "cell_type": "code",
   "execution_count": 79,
   "id": "c0617495",
   "metadata": {},
   "outputs": [
    {
     "data": {
      "text/plain": [
       "<3x12 sparse matrix of type '<class 'numpy.int64'>'\n",
       "\twith 25 stored elements in Compressed Sparse Row format>"
      ]
     },
     "execution_count": 79,
     "metadata": {},
     "output_type": "execute_result"
    }
   ],
   "source": [
    "freq"
   ]
  },
  {
   "cell_type": "code",
   "execution_count": 80,
   "id": "3a3c942e",
   "metadata": {},
   "outputs": [
    {
     "data": {
      "text/plain": [
       "matrix([[ True,  True,  True, False,  True,  True, False,  True, False,\n",
       "          True,  True,  True],\n",
       "        [ True,  True,  True, False,  True,  True, False,  True, False,\n",
       "          True,  True,  True],\n",
       "        [ True, False, False,  True, False, False,  True, False,  True,\n",
       "          True,  True,  True]])"
      ]
     },
     "execution_count": 80,
     "metadata": {},
     "output_type": "execute_result"
    }
   ],
   "source": [
    "(freq > 0).todense()"
   ]
  },
  {
   "cell_type": "code",
   "execution_count": 81,
   "id": "b168daa7",
   "metadata": {},
   "outputs": [
    {
     "data": {
      "text/plain": [
       "matrix([[1, 1, 1, 0, 1, 1, 0, 1, 0, 1, 1, 1],\n",
       "        [1, 1, 1, 0, 1, 1, 0, 1, 0, 1, 1, 1],\n",
       "        [1, 0, 0, 1, 0, 0, 1, 0, 1, 1, 1, 1]])"
      ]
     },
     "execution_count": 81,
     "metadata": {},
     "output_type": "execute_result"
    }
   ],
   "source": [
    "binarizer = Binarizer()\n",
    "ohot = binarizer.fit_transform(freq)\n",
    "ohot.todense()"
   ]
  },
  {
   "cell_type": "code",
   "execution_count": 82,
   "id": "e4c65d1d",
   "metadata": {},
   "outputs": [
    {
     "data": {
      "text/plain": [
       "matrix([[1, 1, 1, 0, 2, 1, 0, 1, 0, 1, 3, 1],\n",
       "        [1, 1, 1, 0, 2, 1, 0, 1, 0, 1, 3, 1],\n",
       "        [1, 0, 0, 1, 0, 0, 1, 0, 1, 1, 2, 1]])"
      ]
     },
     "execution_count": 82,
     "metadata": {},
     "output_type": "execute_result"
    }
   ],
   "source": [
    "freq.todense()"
   ]
  },
  {
   "cell_type": "code",
   "execution_count": 83,
   "id": "18a65f04",
   "metadata": {},
   "outputs": [
    {
     "data": {
      "text/plain": [
       "['The cat saw the dog was angry at the other cat.',\n",
       " 'The dog saw the cat was angry at the other cat.',\n",
       " 'The canary saw the iguana was sad.']"
      ]
     },
     "execution_count": 83,
     "metadata": {},
     "output_type": "execute_result"
    }
   ],
   "source": [
    "corpus"
   ]
  },
  {
   "cell_type": "code",
   "execution_count": 84,
   "id": "b0582acf",
   "metadata": {},
   "outputs": [
    {
     "data": {
      "text/plain": [
       "array(['.', 'angry', 'at', 'canary', 'cat', 'dog', 'iguana', 'other',\n",
       "       'sad', 'saw', 'the', 'was'], dtype=object)"
      ]
     },
     "execution_count": 84,
     "metadata": {},
     "output_type": "execute_result"
    }
   ],
   "source": [
    "vec.get_feature_names_out()"
   ]
  },
  {
   "cell_type": "markdown",
   "id": "a0af9470",
   "metadata": {},
   "source": [
    "As with term frequencies, we lose information about the order of the words in the document.\n",
    "\n",
    "One-hot encoding as an extreme transformation: every term is equally important. This means terms that are relatively rare or unique still might be underemphasized (this is also a problem for term frequencies)."
   ]
  },
  {
   "cell_type": "markdown",
   "id": "ec3b2639",
   "metadata": {},
   "source": [
    "### Term Frequency-Inverse Document Frequency"
   ]
  },
  {
   "cell_type": "markdown",
   "id": "35cff98d",
   "metadata": {},
   "source": [
    "_Term frequency-inverse document frequency_ (tf-idf) statistics put terms on approximately the same scale while also emphasizing relatively rare terms. There are [several different tf-idf statistics](https://en.wikipedia.org/wiki/Tf%E2%80%93idf).\n",
    "\n",
    "The _smoothed tf-idf_, for a term $t$ and document $d$, is given by:\n",
    "\n",
    "$$\n",
    "\\operatorname{tf-idf}(t, d) = \\operatorname{tf}(t, d) \\cdot \\log \\left( \\frac{N}{1 + n_t} \\right)\n",
    "$$\n",
    "\n",
    "where $N$ is the total number of documents and $n_t$ is the number of documents that contain $t$.\n",
    "\n",
    "The `sklearn.feature_extraction.text` submodule of __scikit-learn__ provides a function for computing tf-idf:"
   ]
  },
  {
   "cell_type": "code",
   "execution_count": 85,
   "id": "ebfa40bb",
   "metadata": {},
   "outputs": [
    {
     "name": "stdout",
     "output_type": "stream",
     "text": [
      "Help on class TfidfVectorizer in module sklearn.feature_extraction.text:\n",
      "\n",
      "class TfidfVectorizer(CountVectorizer)\n",
      " |  TfidfVectorizer(*, input='content', encoding='utf-8', decode_error='strict', strip_accents=None, lowercase=True, preprocessor=None, tokenizer=None, analyzer='word', stop_words=None, token_pattern='(?u)\\\\b\\\\w\\\\w+\\\\b', ngram_range=(1, 1), max_df=1.0, min_df=1, max_features=None, vocabulary=None, binary=False, dtype=<class 'numpy.float64'>, norm='l2', use_idf=True, smooth_idf=True, sublinear_tf=False)\n",
      " |  \n",
      " |  Convert a collection of raw documents to a matrix of TF-IDF features.\n",
      " |  \n",
      " |  Equivalent to :class:`CountVectorizer` followed by\n",
      " |  :class:`TfidfTransformer`.\n",
      " |  \n",
      " |  Read more in the :ref:`User Guide <text_feature_extraction>`.\n",
      " |  \n",
      " |  Parameters\n",
      " |  ----------\n",
      " |  input : {'filename', 'file', 'content'}, default='content'\n",
      " |      - If `'filename'`, the sequence passed as an argument to fit is\n",
      " |        expected to be a list of filenames that need reading to fetch\n",
      " |        the raw content to analyze.\n",
      " |  \n",
      " |      - If `'file'`, the sequence items must have a 'read' method (file-like\n",
      " |        object) that is called to fetch the bytes in memory.\n",
      " |  \n",
      " |      - If `'content'`, the input is expected to be a sequence of items that\n",
      " |        can be of type string or byte.\n",
      " |  \n",
      " |  encoding : str, default='utf-8'\n",
      " |      If bytes or files are given to analyze, this encoding is used to\n",
      " |      decode.\n",
      " |  \n",
      " |  decode_error : {'strict', 'ignore', 'replace'}, default='strict'\n",
      " |      Instruction on what to do if a byte sequence is given to analyze that\n",
      " |      contains characters not of the given `encoding`. By default, it is\n",
      " |      'strict', meaning that a UnicodeDecodeError will be raised. Other\n",
      " |      values are 'ignore' and 'replace'.\n",
      " |  \n",
      " |  strip_accents : {'ascii', 'unicode'}, default=None\n",
      " |      Remove accents and perform other character normalization\n",
      " |      during the preprocessing step.\n",
      " |      'ascii' is a fast method that only works on characters that have\n",
      " |      an direct ASCII mapping.\n",
      " |      'unicode' is a slightly slower method that works on any characters.\n",
      " |      None (default) does nothing.\n",
      " |  \n",
      " |      Both 'ascii' and 'unicode' use NFKD normalization from\n",
      " |      :func:`unicodedata.normalize`.\n",
      " |  \n",
      " |  lowercase : bool, default=True\n",
      " |      Convert all characters to lowercase before tokenizing.\n",
      " |  \n",
      " |  preprocessor : callable, default=None\n",
      " |      Override the preprocessing (string transformation) stage while\n",
      " |      preserving the tokenizing and n-grams generation steps.\n",
      " |      Only applies if ``analyzer`` is not callable.\n",
      " |  \n",
      " |  tokenizer : callable, default=None\n",
      " |      Override the string tokenization step while preserving the\n",
      " |      preprocessing and n-grams generation steps.\n",
      " |      Only applies if ``analyzer == 'word'``.\n",
      " |  \n",
      " |  analyzer : {'word', 'char', 'char_wb'} or callable, default='word'\n",
      " |      Whether the feature should be made of word or character n-grams.\n",
      " |      Option 'char_wb' creates character n-grams only from text inside\n",
      " |      word boundaries; n-grams at the edges of words are padded with space.\n",
      " |  \n",
      " |      If a callable is passed it is used to extract the sequence of features\n",
      " |      out of the raw, unprocessed input.\n",
      " |  \n",
      " |      .. versionchanged:: 0.21\n",
      " |          Since v0.21, if ``input`` is ``'filename'`` or ``'file'``, the data\n",
      " |          is first read from the file and then passed to the given callable\n",
      " |          analyzer.\n",
      " |  \n",
      " |  stop_words : {'english'}, list, default=None\n",
      " |      If a string, it is passed to _check_stop_list and the appropriate stop\n",
      " |      list is returned. 'english' is currently the only supported string\n",
      " |      value.\n",
      " |      There are several known issues with 'english' and you should\n",
      " |      consider an alternative (see :ref:`stop_words`).\n",
      " |  \n",
      " |      If a list, that list is assumed to contain stop words, all of which\n",
      " |      will be removed from the resulting tokens.\n",
      " |      Only applies if ``analyzer == 'word'``.\n",
      " |  \n",
      " |      If None, no stop words will be used. max_df can be set to a value\n",
      " |      in the range [0.7, 1.0) to automatically detect and filter stop\n",
      " |      words based on intra corpus document frequency of terms.\n",
      " |  \n",
      " |  token_pattern : str, default=r\"(?u)\\\\b\\\\w\\\\w+\\\\b\"\n",
      " |      Regular expression denoting what constitutes a \"token\", only used\n",
      " |      if ``analyzer == 'word'``. The default regexp selects tokens of 2\n",
      " |      or more alphanumeric characters (punctuation is completely ignored\n",
      " |      and always treated as a token separator).\n",
      " |  \n",
      " |      If there is a capturing group in token_pattern then the\n",
      " |      captured group content, not the entire match, becomes the token.\n",
      " |      At most one capturing group is permitted.\n",
      " |  \n",
      " |  ngram_range : tuple (min_n, max_n), default=(1, 1)\n",
      " |      The lower and upper boundary of the range of n-values for different\n",
      " |      n-grams to be extracted. All values of n such that min_n <= n <= max_n\n",
      " |      will be used. For example an ``ngram_range`` of ``(1, 1)`` means only\n",
      " |      unigrams, ``(1, 2)`` means unigrams and bigrams, and ``(2, 2)`` means\n",
      " |      only bigrams.\n",
      " |      Only applies if ``analyzer`` is not callable.\n",
      " |  \n",
      " |  max_df : float or int, default=1.0\n",
      " |      When building the vocabulary ignore terms that have a document\n",
      " |      frequency strictly higher than the given threshold (corpus-specific\n",
      " |      stop words).\n",
      " |      If float in range [0.0, 1.0], the parameter represents a proportion of\n",
      " |      documents, integer absolute counts.\n",
      " |      This parameter is ignored if vocabulary is not None.\n",
      " |  \n",
      " |  min_df : float or int, default=1\n",
      " |      When building the vocabulary ignore terms that have a document\n",
      " |      frequency strictly lower than the given threshold. This value is also\n",
      " |      called cut-off in the literature.\n",
      " |      If float in range of [0.0, 1.0], the parameter represents a proportion\n",
      " |      of documents, integer absolute counts.\n",
      " |      This parameter is ignored if vocabulary is not None.\n",
      " |  \n",
      " |  max_features : int, default=None\n",
      " |      If not None, build a vocabulary that only consider the top\n",
      " |      max_features ordered by term frequency across the corpus.\n",
      " |  \n",
      " |      This parameter is ignored if vocabulary is not None.\n",
      " |  \n",
      " |  vocabulary : Mapping or iterable, default=None\n",
      " |      Either a Mapping (e.g., a dict) where keys are terms and values are\n",
      " |      indices in the feature matrix, or an iterable over terms. If not\n",
      " |      given, a vocabulary is determined from the input documents.\n",
      " |  \n",
      " |  binary : bool, default=False\n",
      " |      If True, all non-zero term counts are set to 1. This does not mean\n",
      " |      outputs will have only 0/1 values, only that the tf term in tf-idf\n",
      " |      is binary. (Set idf and normalization to False to get 0/1 outputs).\n",
      " |  \n",
      " |  dtype : dtype, default=float64\n",
      " |      Type of the matrix returned by fit_transform() or transform().\n",
      " |  \n",
      " |  norm : {'l1', 'l2'}, default='l2'\n",
      " |      Each output row will have unit norm, either:\n",
      " |  \n",
      " |      - 'l2': Sum of squares of vector elements is 1. The cosine\n",
      " |        similarity between two vectors is their dot product when l2 norm has\n",
      " |        been applied.\n",
      " |      - 'l1': Sum of absolute values of vector elements is 1.\n",
      " |        See :func:`preprocessing.normalize`.\n",
      " |  \n",
      " |  use_idf : bool, default=True\n",
      " |      Enable inverse-document-frequency reweighting. If False, idf(t) = 1.\n",
      " |  \n",
      " |  smooth_idf : bool, default=True\n",
      " |      Smooth idf weights by adding one to document frequencies, as if an\n",
      " |      extra document was seen containing every term in the collection\n",
      " |      exactly once. Prevents zero divisions.\n",
      " |  \n",
      " |  sublinear_tf : bool, default=False\n",
      " |      Apply sublinear tf scaling, i.e. replace tf with 1 + log(tf).\n",
      " |  \n",
      " |  Attributes\n",
      " |  ----------\n",
      " |  vocabulary_ : dict\n",
      " |      A mapping of terms to feature indices.\n",
      " |  \n",
      " |  fixed_vocabulary_ : bool\n",
      " |      True if a fixed vocabulary of term to indices mapping\n",
      " |      is provided by the user.\n",
      " |  \n",
      " |  idf_ : array of shape (n_features,)\n",
      " |      The inverse document frequency (IDF) vector; only defined\n",
      " |      if ``use_idf`` is True.\n",
      " |  \n",
      " |  stop_words_ : set\n",
      " |      Terms that were ignored because they either:\n",
      " |  \n",
      " |        - occurred in too many documents (`max_df`)\n",
      " |        - occurred in too few documents (`min_df`)\n",
      " |        - were cut off by feature selection (`max_features`).\n",
      " |  \n",
      " |      This is only available if no vocabulary was given.\n",
      " |  \n",
      " |  See Also\n",
      " |  --------\n",
      " |  CountVectorizer : Transforms text into a sparse matrix of n-gram counts.\n",
      " |  \n",
      " |  TfidfTransformer : Performs the TF-IDF transformation from a provided\n",
      " |      matrix of counts.\n",
      " |  \n",
      " |  Notes\n",
      " |  -----\n",
      " |  The ``stop_words_`` attribute can get large and increase the model size\n",
      " |  when pickling. This attribute is provided only for introspection and can\n",
      " |  be safely removed using delattr or set to None before pickling.\n",
      " |  \n",
      " |  Examples\n",
      " |  --------\n",
      " |  >>> from sklearn.feature_extraction.text import TfidfVectorizer\n",
      " |  >>> corpus = [\n",
      " |  ...     'This is the first document.',\n",
      " |  ...     'This document is the second document.',\n",
      " |  ...     'And this is the third one.',\n",
      " |  ...     'Is this the first document?',\n",
      " |  ... ]\n",
      " |  >>> vectorizer = TfidfVectorizer()\n",
      " |  >>> X = vectorizer.fit_transform(corpus)\n",
      " |  >>> vectorizer.get_feature_names_out()\n",
      " |  array(['and', 'document', 'first', 'is', 'one', 'second', 'the', 'third',\n",
      " |         'this'], ...)\n",
      " |  >>> print(X.shape)\n",
      " |  (4, 9)\n",
      " |  \n",
      " |  Method resolution order:\n",
      " |      TfidfVectorizer\n",
      " |      CountVectorizer\n",
      " |      _VectorizerMixin\n",
      " |      sklearn.base.BaseEstimator\n",
      " |      builtins.object\n",
      " |  \n",
      " |  Methods defined here:\n",
      " |  \n",
      " |  __init__(self, *, input='content', encoding='utf-8', decode_error='strict', strip_accents=None, lowercase=True, preprocessor=None, tokenizer=None, analyzer='word', stop_words=None, token_pattern='(?u)\\\\b\\\\w\\\\w+\\\\b', ngram_range=(1, 1), max_df=1.0, min_df=1, max_features=None, vocabulary=None, binary=False, dtype=<class 'numpy.float64'>, norm='l2', use_idf=True, smooth_idf=True, sublinear_tf=False)\n",
      " |      Initialize self.  See help(type(self)) for accurate signature.\n",
      " |  \n",
      " |  fit(self, raw_documents, y=None)\n",
      " |      Learn vocabulary and idf from training set.\n",
      " |      \n",
      " |      Parameters\n",
      " |      ----------\n",
      " |      raw_documents : iterable\n",
      " |          An iterable which generates either str, unicode or file objects.\n",
      " |      \n",
      " |      y : None\n",
      " |          This parameter is not needed to compute tfidf.\n",
      " |      \n",
      " |      Returns\n",
      " |      -------\n",
      " |      self : object\n",
      " |          Fitted vectorizer.\n",
      " |  \n",
      " |  fit_transform(self, raw_documents, y=None)\n",
      " |      Learn vocabulary and idf, return document-term matrix.\n",
      " |      \n",
      " |      This is equivalent to fit followed by transform, but more efficiently\n",
      " |      implemented.\n",
      " |      \n",
      " |      Parameters\n",
      " |      ----------\n",
      " |      raw_documents : iterable\n",
      " |          An iterable which generates either str, unicode or file objects.\n",
      " |      \n",
      " |      y : None\n",
      " |          This parameter is ignored.\n",
      " |      \n",
      " |      Returns\n",
      " |      -------\n",
      " |      X : sparse matrix of (n_samples, n_features)\n",
      " |          Tf-idf-weighted document-term matrix.\n",
      " |  \n",
      " |  transform(self, raw_documents)\n",
      " |      Transform documents to document-term matrix.\n",
      " |      \n",
      " |      Uses the vocabulary and document frequencies (df) learned by fit (or\n",
      " |      fit_transform).\n",
      " |      \n",
      " |      Parameters\n",
      " |      ----------\n",
      " |      raw_documents : iterable\n",
      " |          An iterable which generates either str, unicode or file objects.\n",
      " |      \n",
      " |      Returns\n",
      " |      -------\n",
      " |      X : sparse matrix of (n_samples, n_features)\n",
      " |          Tf-idf-weighted document-term matrix.\n",
      " |  \n",
      " |  ----------------------------------------------------------------------\n",
      " |  Data descriptors defined here:\n",
      " |  \n",
      " |  idf_\n",
      " |      Inverse document frequency vector, only defined if `use_idf=True`.\n",
      " |      \n",
      " |      Returns\n",
      " |      -------\n",
      " |      ndarray of shape (n_features,)\n",
      " |  \n",
      " |  ----------------------------------------------------------------------\n",
      " |  Methods inherited from CountVectorizer:\n",
      " |  \n",
      " |  get_feature_names(self)\n",
      " |      DEPRECATED: get_feature_names is deprecated in 1.0 and will be removed in 1.2. Please use get_feature_names_out instead.\n",
      " |      \n",
      " |      Array mapping from feature integer indices to feature name.\n",
      " |      \n",
      " |          Returns\n",
      " |          -------\n",
      " |          feature_names : list\n",
      " |              A list of feature names.\n",
      " |  \n",
      " |  get_feature_names_out(self, input_features=None)\n",
      " |      Get output feature names for transformation.\n",
      " |      \n",
      " |      Parameters\n",
      " |      ----------\n",
      " |      input_features : array-like of str or None, default=None\n",
      " |          Not used, present here for API consistency by convention.\n",
      " |      \n",
      " |      Returns\n",
      " |      -------\n",
      " |      feature_names_out : ndarray of str objects\n",
      " |          Transformed feature names.\n",
      " |  \n",
      " |  inverse_transform(self, X)\n",
      " |      Return terms per document with nonzero entries in X.\n",
      " |      \n",
      " |      Parameters\n",
      " |      ----------\n",
      " |      X : {array-like, sparse matrix} of shape (n_samples, n_features)\n",
      " |          Document-term matrix.\n",
      " |      \n",
      " |      Returns\n",
      " |      -------\n",
      " |      X_inv : list of arrays of shape (n_samples,)\n",
      " |          List of arrays of terms.\n",
      " |  \n",
      " |  ----------------------------------------------------------------------\n",
      " |  Methods inherited from _VectorizerMixin:\n",
      " |  \n",
      " |  build_analyzer(self)\n",
      " |      Return a callable to process input data.\n",
      " |      \n",
      " |      The callable handles that handles preprocessing, tokenization, and\n",
      " |      n-grams generation.\n",
      " |      \n",
      " |      Returns\n",
      " |      -------\n",
      " |      analyzer: callable\n",
      " |          A function to handle preprocessing, tokenization\n",
      " |          and n-grams generation.\n",
      " |  \n",
      " |  build_preprocessor(self)\n",
      " |      Return a function to preprocess the text before tokenization.\n",
      " |      \n",
      " |      Returns\n",
      " |      -------\n",
      " |      preprocessor: callable\n",
      " |            A function to preprocess the text before tokenization.\n",
      " |  \n",
      " |  build_tokenizer(self)\n",
      " |      Return a function that splits a string into a sequence of tokens.\n",
      " |      \n",
      " |      Returns\n",
      " |      -------\n",
      " |      tokenizer: callable\n",
      " |            A function to split a string into a sequence of tokens.\n",
      " |  \n",
      " |  decode(self, doc)\n",
      " |      Decode the input into a string of unicode symbols.\n",
      " |      \n",
      " |      The decoding strategy depends on the vectorizer parameters.\n",
      " |      \n",
      " |      Parameters\n",
      " |      ----------\n",
      " |      doc : bytes or str\n",
      " |          The string to decode.\n",
      " |      \n",
      " |      Returns\n",
      " |      -------\n",
      " |      doc: str\n",
      " |          A string of unicode symbols.\n",
      " |  \n",
      " |  get_stop_words(self)\n",
      " |      Build or fetch the effective stop words list.\n",
      " |      \n",
      " |      Returns\n",
      " |      -------\n",
      " |      stop_words: list or None\n",
      " |              A list of stop words.\n",
      " |  \n",
      " |  ----------------------------------------------------------------------\n",
      " |  Data descriptors inherited from _VectorizerMixin:\n",
      " |  \n",
      " |  __dict__\n",
      " |      dictionary for instance variables (if defined)\n",
      " |  \n",
      " |  __weakref__\n",
      " |      list of weak references to the object (if defined)\n",
      " |  \n",
      " |  ----------------------------------------------------------------------\n",
      " |  Methods inherited from sklearn.base.BaseEstimator:\n",
      " |  \n",
      " |  __getstate__(self)\n",
      " |  \n",
      " |  __repr__(self, N_CHAR_MAX=700)\n",
      " |      Return repr(self).\n",
      " |  \n",
      " |  __setstate__(self, state)\n",
      " |  \n",
      " |  get_params(self, deep=True)\n",
      " |      Get parameters for this estimator.\n",
      " |      \n",
      " |      Parameters\n",
      " |      ----------\n",
      " |      deep : bool, default=True\n",
      " |          If True, will return the parameters for this estimator and\n",
      " |          contained subobjects that are estimators.\n",
      " |      \n",
      " |      Returns\n",
      " |      -------\n",
      " |      params : dict\n",
      " |          Parameter names mapped to their values.\n",
      " |  \n",
      " |  set_params(self, **params)\n",
      " |      Set the parameters of this estimator.\n",
      " |      \n",
      " |      The method works on simple estimators as well as on nested objects\n",
      " |      (such as :class:`~sklearn.pipeline.Pipeline`). The latter have\n",
      " |      parameters of the form ``<component>__<parameter>`` so that it's\n",
      " |      possible to update each component of a nested object.\n",
      " |      \n",
      " |      Parameters\n",
      " |      ----------\n",
      " |      **params : dict\n",
      " |          Estimator parameters.\n",
      " |      \n",
      " |      Returns\n",
      " |      -------\n",
      " |      self : estimator instance\n",
      " |          Estimator instance.\n",
      "\n"
     ]
    }
   ],
   "source": [
    "from sklearn.feature_extraction.text import TfidfVectorizer\n",
    "help(TfidfVectorizer)"
   ]
  },
  {
   "cell_type": "code",
   "execution_count": 86,
   "id": "8873431a",
   "metadata": {},
   "outputs": [],
   "source": [
    "vec = TfidfVectorizer(tokenizer = nltk.word_tokenize) \n",
    "tfidf = vec.fit_transform(corpus)"
   ]
  },
  {
   "cell_type": "code",
   "execution_count": 87,
   "id": "8d83c977",
   "metadata": {},
   "outputs": [
    {
     "data": {
      "text/plain": [
       "array(['.', 'angry', 'at', 'canary', 'cat', 'dog', 'iguana', 'other',\n",
       "       'sad', 'saw', 'the', 'was'], dtype=object)"
      ]
     },
     "execution_count": 87,
     "metadata": {},
     "output_type": "execute_result"
    }
   ],
   "source": [
    "vec.get_feature_names_out()"
   ]
  },
  {
   "cell_type": "code",
   "execution_count": 88,
   "id": "656b2f91",
   "metadata": {},
   "outputs": [
    {
     "data": {
      "text/plain": [
       "matrix([[0.19894835, 0.25618222, 0.25618222, 0.        , 0.51236445,\n",
       "         0.25618222, 0.        , 0.25618222, 0.        , 0.19894835,\n",
       "         0.59684505, 0.19894835],\n",
       "        [0.19894835, 0.25618222, 0.25618222, 0.        , 0.51236445,\n",
       "         0.25618222, 0.        , 0.25618222, 0.        , 0.19894835,\n",
       "         0.59684505, 0.19894835],\n",
       "        [0.25318288, 0.        , 0.        , 0.42867587, 0.        ,\n",
       "         0.        , 0.42867587, 0.        , 0.42867587, 0.25318288,\n",
       "         0.50636575, 0.25318288]])"
      ]
     },
     "execution_count": 88,
     "metadata": {},
     "output_type": "execute_result"
    }
   ],
   "source": [
    "tfidf.todense()"
   ]
  },
  {
   "cell_type": "code",
   "execution_count": 89,
   "id": "8a00ead6",
   "metadata": {},
   "outputs": [
    {
     "data": {
      "text/plain": [
       "-0.023973506037648407"
      ]
     },
     "execution_count": 89,
     "metadata": {},
     "output_type": "execute_result"
    }
   ],
   "source": [
    "(1 / 12) * np.log(3 / ( 1 + 3)) # '.' appears once in all 12 words,"
   ]
  },
  {
   "cell_type": "code",
   "execution_count": 90,
   "id": "5cdd1305",
   "metadata": {},
   "outputs": [
    {
     "data": {
      "text/plain": [
       "['The cat saw the dog was angry at the other cat.',\n",
       " 'The dog saw the cat was angry at the other cat.',\n",
       " 'The canary saw the iguana was sad.']"
      ]
     },
     "execution_count": 90,
     "metadata": {},
     "output_type": "execute_result"
    }
   ],
   "source": [
    "corpus"
   ]
  },
  {
   "cell_type": "markdown",
   "id": "b595ce82",
   "metadata": {},
   "source": [
    "In long documents or documents with many high-frequency terms, we can further reduce the emphasis on these terms by taking the logarithm of the term frequency. To do this, set `sublinear_tf = True` in the `TfidfVectorizer()` function."
   ]
  },
  {
   "cell_type": "markdown",
   "id": "67ea08f8",
   "metadata": {},
   "source": [
    "## The Bag-of-words Model\n",
    "\n",
    "The one-hot encoding, term frequencies, and TF-IDF scores all ignore word order.\n",
    "\n",
    "The _bag-of-words model_ assumes that the order of words in a document doesn't matter. Imagine taking the words in each document and dumping them into a bag, where they get all mixed up. Note that in this case \"model\" means a way of thinking about a problem, not a statistical model.\n",
    "\n",
    "While the order of words in a document might seem important, the bag-of-words model is surprisingly useful. The bag-of-words model is a good place to start if you want to use statistical methods on language data."
   ]
  },
  {
   "cell_type": "markdown",
   "id": "f5742107",
   "metadata": {},
   "source": [
    "## Measuring Similarity\n",
    "\n",
    "We can measure the _similarity_ of two documents by computing the distance between their term frequency vectors. There are many different ways we can measure distance and similarity:\n",
    "\n",
    "* Minkowski distance, a family of distances that includes Euclidean distance ($\\ell_2$-norm) and Manhattan distance ($\\ell_1$-norm). \n",
    " * $\\ell_2$-norm, $\\|a - b \\|_2 = \\sqrt{\\sum_{i=1}^n (a_i - b_i)^2}$\n",
    " * $\\ell_1$-norm, $\\|a -b\\|_1 = \\sum_{i=1}^n |a_i - b_i|$\n",
    "\n",
    "* $\\ell_\\infty$-norm, $\\|a-b\\|_\\infty = \\max_{1\\leq i\\leq n} |a_i - b_i|$\n",
    "\n",
    "    * Relation between those norms: $\\|\\cdot\\|_1$ $\\geq$ $\\|\\cdot\\|_2$ $\\geq$ $\\cdots$ $\\geq$ $\\|\\cdot\\|_\\infty$\n",
    "\n",
    "* Mahalanobis distance, the Euclidean distance between z-scores.\n",
    "* Cosine similarity, the cosine of the angle between two vectors. See [here](https://stats.stackexchange.com/a/235676/29695) for an explanation of how cosine similarity is related to correlation. Note that the range of cosine is $[-1, 1]$ and $\\cos(0) = 1$, so vectors that are close together will have a cosine similarity close to 1, not 0.\n",
    "* And others...\n",
    "\n",
    "Cosine similarity often works well for language data. The cosine similarity between two vectors $a$ and $b$ is defined as:\n",
    "\n",
    "$$\n",
    "\\frac{a'b}{\\Vert a \\Vert_2 \\Vert b \\Vert_2}.\n",
    "$$\n",
    "\n",
    "The `TfidfVectorizer()` function already divides the returned tf-idf vectors by their Euclidean norms, so we can compute cosine similarity as a simple dot product:"
   ]
  },
  {
   "cell_type": "code",
   "execution_count": 91,
   "id": "fb09596d",
   "metadata": {},
   "outputs": [
    {
     "data": {
      "text/html": [
       "<div>\n",
       "<style scoped>\n",
       "    .dataframe tbody tr th:only-of-type {\n",
       "        vertical-align: middle;\n",
       "    }\n",
       "\n",
       "    .dataframe tbody tr th {\n",
       "        vertical-align: top;\n",
       "    }\n",
       "\n",
       "    .dataframe thead th {\n",
       "        text-align: right;\n",
       "    }\n",
       "</style>\n",
       "<table border=\"1\" class=\"dataframe\">\n",
       "  <thead>\n",
       "    <tr style=\"text-align: right;\">\n",
       "      <th></th>\n",
       "      <th>0</th>\n",
       "      <th>1</th>\n",
       "      <th>2</th>\n",
       "      <th>3</th>\n",
       "      <th>4</th>\n",
       "      <th>5</th>\n",
       "      <th>6</th>\n",
       "      <th>7</th>\n",
       "      <th>8</th>\n",
       "      <th>9</th>\n",
       "      <th>10</th>\n",
       "      <th>11</th>\n",
       "    </tr>\n",
       "  </thead>\n",
       "  <tbody>\n",
       "    <tr>\n",
       "      <th>0</th>\n",
       "      <td>0.198948</td>\n",
       "      <td>0.256182</td>\n",
       "      <td>0.256182</td>\n",
       "      <td>0.000000</td>\n",
       "      <td>0.512364</td>\n",
       "      <td>0.256182</td>\n",
       "      <td>0.000000</td>\n",
       "      <td>0.256182</td>\n",
       "      <td>0.000000</td>\n",
       "      <td>0.198948</td>\n",
       "      <td>0.596845</td>\n",
       "      <td>0.198948</td>\n",
       "    </tr>\n",
       "    <tr>\n",
       "      <th>1</th>\n",
       "      <td>0.198948</td>\n",
       "      <td>0.256182</td>\n",
       "      <td>0.256182</td>\n",
       "      <td>0.000000</td>\n",
       "      <td>0.512364</td>\n",
       "      <td>0.256182</td>\n",
       "      <td>0.000000</td>\n",
       "      <td>0.256182</td>\n",
       "      <td>0.000000</td>\n",
       "      <td>0.198948</td>\n",
       "      <td>0.596845</td>\n",
       "      <td>0.198948</td>\n",
       "    </tr>\n",
       "    <tr>\n",
       "      <th>2</th>\n",
       "      <td>0.253183</td>\n",
       "      <td>0.000000</td>\n",
       "      <td>0.000000</td>\n",
       "      <td>0.428676</td>\n",
       "      <td>0.000000</td>\n",
       "      <td>0.000000</td>\n",
       "      <td>0.428676</td>\n",
       "      <td>0.000000</td>\n",
       "      <td>0.428676</td>\n",
       "      <td>0.253183</td>\n",
       "      <td>0.506366</td>\n",
       "      <td>0.253183</td>\n",
       "    </tr>\n",
       "  </tbody>\n",
       "</table>\n",
       "</div>"
      ],
      "text/plain": [
       "         0         1         2         3         4         5         6   \\\n",
       "0  0.198948  0.256182  0.256182  0.000000  0.512364  0.256182  0.000000   \n",
       "1  0.198948  0.256182  0.256182  0.000000  0.512364  0.256182  0.000000   \n",
       "2  0.253183  0.000000  0.000000  0.428676  0.000000  0.000000  0.428676   \n",
       "\n",
       "         7         8         9         10        11  \n",
       "0  0.256182  0.000000  0.198948  0.596845  0.198948  \n",
       "1  0.256182  0.000000  0.198948  0.596845  0.198948  \n",
       "2  0.000000  0.428676  0.253183  0.506366  0.253183  "
      ]
     },
     "execution_count": 91,
     "metadata": {},
     "output_type": "execute_result"
    }
   ],
   "source": [
    "pd.DataFrame(tfidf.todense())"
   ]
  },
  {
   "cell_type": "code",
   "execution_count": 92,
   "id": "d02574cb",
   "metadata": {
    "scrolled": true
   },
   "outputs": [
    {
     "data": {
      "text/plain": [
       "matrix([[1.        , 1.        , 0.45333284],\n",
       "        [1.        , 1.        , 0.45333284],\n",
       "        [0.45333284, 0.45333284, 1.        ]])"
      ]
     },
     "execution_count": 92,
     "metadata": {},
     "output_type": "execute_result"
    }
   ],
   "source": [
    "(tfidf @ tfidf.T).todense()"
   ]
  },
  {
   "cell_type": "markdown",
   "id": "cec286e9",
   "metadata": {},
   "source": [
    "Part of the reason that cosine similarity is a good measure in NLP is that cosine similarity, like correlation, is not affected by the scale of the vector elements. For vectors that contain term frequencies (or functions of term frequencies), this means that the length of the original documents will not affect whether or not they are similar -- only their word content will."
   ]
  },
  {
   "cell_type": "markdown",
   "id": "45e3e878",
   "metadata": {},
   "source": [
    "### Summary \n",
    "\n",
    "- Standardize text first\n",
    "- Engineer features depending on priorities"
   ]
  }
 ],
 "metadata": {
  "kernelspec": {
   "display_name": "Python 3 (ipykernel)",
   "language": "python",
   "name": "python3"
  },
  "language_info": {
   "codemirror_mode": {
    "name": "ipython",
    "version": 3
   },
   "file_extension": ".py",
   "mimetype": "text/x-python",
   "name": "python",
   "nbconvert_exporter": "python",
   "pygments_lexer": "ipython3",
   "version": "3.9.12"
  },
  "vscode": {
   "interpreter": {
    "hash": "b2b12ec50b0a525a62abe739e766b0c808eccd181e3f804cedbbca00f4d5b392"
   }
  }
 },
 "nbformat": 4,
 "nbformat_minor": 5
}
