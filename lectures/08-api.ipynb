{
 "cells": [
  {
   "cell_type": "markdown",
   "id": "ff704263",
   "metadata": {
    "slideshow": {
     "slide_type": "slide"
    }
   },
   "source": [
    "# STA 141B Data & Web Technologies for Data Analysis\n",
    "\n",
    "### Lecture 8, 10/26/23, APIs\n"
   ]
  },
  {
   "cell_type": "markdown",
   "id": "d720fbd5",
   "metadata": {
    "slideshow": {
     "slide_type": "slide"
    }
   },
   "source": [
    "### Announcements\n",
    "\n",
    " - HW 2 due tomorrow"
   ]
  },
  {
   "cell_type": "markdown",
   "id": "d6d6f0bf",
   "metadata": {
    "slideshow": {
     "slide_type": "slide"
    }
   },
   "source": [
    "### Today's topics\n",
    "\n",
    "- Undocumented APIs\n",
    "\n",
    "### Ressources\n",
    " - [Yolo County Health Inspections](https://yoloeco.envisionconnect.com/)"
   ]
  },
  {
   "cell_type": "markdown",
   "id": "c6932e32",
   "metadata": {},
   "source": [
    "### Recap: HTTP\n",
    "\n",
    "A response to an HTTP request always includes a status code that summarizes whether the request was successful. Wikipedia has a full [list of HTTP status codes](https://en.wikipedia.org/wiki/List_of_HTTP_status_codes). Generally,\n",
    "\n",
    "* 200-299: Your request succeeded.\n",
    "* 300-399: You need to take further action to complete the request.\n",
    "* 400-499: Your request wasn't valid (you made a mistake). You've probably seen 404 before!\n",
    "* 500-599: Your request failed (the server made a mistake)."
   ]
  },
  {
   "cell_type": "markdown",
   "id": "0c23e597",
   "metadata": {},
   "source": [
    "### Undocumented Web APIs\n",
    "\n",
    "Many websites use undocumented web APIs to get data. For example:\n",
    "\n",
    " - [University of California Compensation](https://ucannualwage.ucop.edu/wage/)\n",
    " - [Yolo County Health Inspections](https://yoloeco.envisionconnect.com/)\n",
    "\n",
    "You can identify these websites by looking at requests in your browser's developer tools. For Firefox and Chrome these can be accessed (Windows: <kbd>Ctrl</kbd> + <kbd>i</kbd>; MacOS: <kbd>&#8984;</kbd> + <kbd>&#8997;</kbd> + <kbd>i</kbd>).\n",
    "\n",
    "Requests to web APIs almost always return JSON or XML data. By examining the browser requests, you can work out the endpoints and parameters, allowing you to use the API.\n",
    "\n",
    "**CAUTION:** Web APIs that are undocumented are often undocumented for a reason. Using an undocumented API may make someone angry or get you into legal trouble! Government and quasi-government websites (like the examples above) are probably okay, as long as you cache and rate-limit your requests. For everything else, find for an alternative or get permission first."
   ]
  },
  {
   "cell_type": "markdown",
   "id": "bd9e07a4",
   "metadata": {},
   "source": [
    "Let's reverse engineer the Yolo County Health Inspections web API so that we can get data about local restaurants."
   ]
  },
  {
   "cell_type": "code",
   "execution_count": 1,
   "id": "c53ee900",
   "metadata": {},
   "outputs": [],
   "source": [
    "import numpy as np\n",
    "import pandas as pd\n",
    "import requests\n",
    "import requests_cache\n",
    "requests_cache.install_cache(\"mycache\")"
   ]
  },
  {
   "cell_type": "code",
   "execution_count": 2,
   "id": "f7baad16",
   "metadata": {},
   "outputs": [],
   "source": [
    "url = 'https://yoloeco.envisionconnect.com/api/pressAgentClient/searchFacilities'"
   ]
  },
  {
   "cell_type": "code",
   "execution_count": 8,
   "id": "1be876d9",
   "metadata": {},
   "outputs": [],
   "source": [
    "result = requests.post(url, params = {\n",
    "    'PressAgentOid': 'c08cb189-894c-4c8c-b595-a5ef010226b4'\n",
    "}, \n",
    "                       data = {\n",
    "    'FacilityName': \"Ali Baba\"\n",
    "})\n",
    "result.raise_for_status()"
   ]
  },
  {
   "cell_type": "markdown",
   "id": "e3030b02",
   "metadata": {},
   "source": [
    "Check the [docs](https://requests.readthedocs.io/en/latest/api/?highlight=post#requests.post) for `requests`!"
   ]
  },
  {
   "cell_type": "code",
   "execution_count": 9,
   "id": "53f2d940",
   "metadata": {},
   "outputs": [
    {
     "data": {
      "text/plain": [
       "'https://yoloeco.envisionconnect.com/api/pressAgentClient/searchFacilities?PressAgentOid=c08cb189-894c-4c8c-b595-a5ef010226b4'"
      ]
     },
     "execution_count": 9,
     "metadata": {},
     "output_type": "execute_result"
    }
   ],
   "source": [
    "result.url"
   ]
  },
  {
   "cell_type": "code",
   "execution_count": 10,
   "id": "9aaf314f",
   "metadata": {},
   "outputs": [
    {
     "data": {
      "text/plain": [
       "[{'FacilityId': 'FA0001973',\n",
       "  'FacilityName': 'ALI BABA RESTAURANT',\n",
       "  'Address': '220 3RD ST ',\n",
       "  'CityStateZip': 'DAVIS CA 95616 ',\n",
       "  'LastScore': 100.0,\n",
       "  'attachmentId': '1ed0446f-d8a7-4a72-8557-afb800bb6fac'}]"
      ]
     },
     "execution_count": 10,
     "metadata": {},
     "output_type": "execute_result"
    }
   ],
   "source": [
    "result.json()"
   ]
  },
  {
   "cell_type": "markdown",
   "id": "a86b821d",
   "metadata": {},
   "source": [
    "Lets investigate this further. The second request uses the `FacilityID` as parameter. "
   ]
  },
  {
   "cell_type": "code",
   "execution_count": 12,
   "id": "eef507a6",
   "metadata": {},
   "outputs": [
    {
     "data": {
      "text/plain": [
       "[{'ProgramId': 'PR0000674',\n",
       "  'ProgramIdentifier': None,\n",
       "  'ProgramCategory': 'FOOD INSPECTION',\n",
       "  'LastScore': 100.0,\n",
       "  'attachmentId': '1ed0446f-d8a7-4a72-8557-afb800bb6fac'}]"
      ]
     },
     "execution_count": 12,
     "metadata": {},
     "output_type": "execute_result"
    }
   ],
   "source": [
    "url = 'https://yoloeco.envisionconnect.com/api/pressAgentClient/programs'\n",
    "result = requests.get(url, params = {\n",
    "    'FacilityId': 'FA0001973', \n",
    "    'PressAgentOid': 'c08cb189-894c-4c8c-b595-a5ef010226b4'\n",
    "})\n",
    "result.raise_for_status()\n",
    "result.json()"
   ]
  },
  {
   "cell_type": "code",
   "execution_count": 13,
   "id": "0593c260",
   "metadata": {},
   "outputs": [
    {
     "data": {
      "text/plain": [
       "'https://yoloeco.envisionconnect.com/api/pressAgentClient/programs?FacilityId=FA0001973&PressAgentOid=c08cb189-894c-4c8c-b595-a5ef010226b4'"
      ]
     },
     "execution_count": 13,
     "metadata": {},
     "output_type": "execute_result"
    }
   ],
   "source": [
    "result.url"
   ]
  },
  {
   "cell_type": "markdown",
   "id": "27615fde",
   "metadata": {},
   "source": [
    "We are interested in the inspections text, for which we have to provide the `ProgramID` parameter. "
   ]
  },
  {
   "cell_type": "code",
   "execution_count": 14,
   "id": "58f30f55",
   "metadata": {},
   "outputs": [],
   "source": [
    "url = 'https://yoloeco.envisionconnect.com/api/pressAgentClient/inspections'"
   ]
  },
  {
   "cell_type": "code",
   "execution_count": 15,
   "id": "18d899cd",
   "metadata": {},
   "outputs": [],
   "source": [
    "result = requests.get(url, params = {\n",
    "    'PressAgentOid': 'c08cb189-894c-4c8c-b595-a5ef010226b4', \n",
    "    'ProgramId': 'PR0000674'\n",
    "})\n",
    "result.raise_for_status()"
   ]
  },
  {
   "cell_type": "code",
   "execution_count": 16,
   "id": "ba6f9609",
   "metadata": {},
   "outputs": [
    {
     "data": {
      "text/plain": [
       "[{'activity_date': '2023-02-28T00:00:00',\n",
       "  'service': 'ROUTINE-INSPECTION',\n",
       "  'Oid': '722bd292-ad66-46ad-a16b-afb7011a322e',\n",
       "  'FacilityOid': 'a4602905-d0f7-4fbe-8388-7de1163c420e',\n",
       "  'score': 100.0,\n",
       "  'attachmentId': '5323c79d-03c4-418f-bb06-afb800b42912',\n",
       "  'color': 'Green',\n",
       "  'violations': [{'violation_description': 'K045 - Floors, walls and ceilings: built, maintained, and clean',\n",
       "    'v_memo': 'California Retail Food Code §114271. Observed the following surfaces needing to be cleaned: \\r\\n- walls around the hood and the hood system \\r\\n- ceiling in food prep area and at the ventilation system. Cardboard and tape must be removed from ventilation system. \\r\\n- floors under the three compartment sink must be cleaned\\r\\nAll walls, floors, and ceiling surfaces within a facility shall be clean and in good repair, as well as durable, smooth, and non-absorbent at all times. Correct within 1 week.\\r\\n',\n",
       "    'violation_text': 'The walls / ceilings shall have durable, smooth, nonabsorbent, light-colored, and washable surfaces.  All floor surfaces, other than the customer service areas, shall be approved, smooth, durable and made of nonabsorbent material that is easily cleanable. Approved base coving shall be provided in all areas, except customer service areas and where food is stored in original unopened containers.  Food facilities shall be fully enclosed.  All food facilities shall be kept clean and in good repair.  (114143 (d), 114266, 114268, 114268.1, 114271, 114272)',\n",
       "    'DailyOid': '722bd292-ad66-46ad-a16b-afb7011a322e',\n",
       "    'violation_degree': None,\n",
       "    'Oid': 'bb49cc44-4666-447c-bf35-afb7011a47e6'}]},\n",
       " {'activity_date': '2022-05-09T00:00:00',\n",
       "  'service': 'ROUTINE-INSPECTION',\n",
       "  'Oid': '2ff09bcd-9a36-4b8d-ada1-ae90011ebb4d',\n",
       "  'FacilityOid': 'a4602905-d0f7-4fbe-8388-7de1163c420e',\n",
       "  'score': 100.0,\n",
       "  'attachmentId': '3fccdc38-5271-4669-bccc-ae9100aa99ee',\n",
       "  'color': 'Green',\n",
       "  'violations': [{'violation_description': 'K006 - Adequate handwashing facilities supplied & accessible',\n",
       "    'v_memo': 'California Retail Food Code §113953.2. Observed facility to be lacking handwash soap and papertowles. Handwash dispensers shall be fully stocked with soap and sanitary single-use towels or a heated-air hand drying device at all times. Correct Immediately.\\r\\nThis is a repeat violation, Operator may submit a picture via email showing correction to this violation to : Catalina.Ibarra@yolocounty.org\\r\\n\\r\\nA follow up inspection has been set for 5/12/22',\n",
       "    'violation_text': 'Liquid handwashing soap and towels in dispensers, or a drying device, shall be provided. Dispensers shall be maintained in good repair. (113953.2)  Adequate facilities shall be provided for hand washing. (113953, 113953.1, 114067(f))',\n",
       "    'DailyOid': '2ff09bcd-9a36-4b8d-ada1-ae90011ebb4d',\n",
       "    'violation_degree': None,\n",
       "    'Oid': '1af9443c-d3d8-41f8-97a1-ae90011ed9b3'},\n",
       "   {'violation_description': 'K011 - Proper reheating procedures for hot holding',\n",
       "    'v_memo': 'California Retail Food Code §114016. Observed vegetable breakfast burritos being stored on to have a temperature of 100 degrees F.  Potentially hazardous food that is cooked, cooled, and reheated for hot holding shall be reheated so that all parts of the food reach a temperature of at least 165 degrees F for 15 seconds. Operator stated that the burritos had been placed there 30 minutes prior. Burritos were rapidly heated so as to maintain a holding temperature of 135 degrees F minimum. \\r\\n',\n",
       "    'violation_text': 'Any potentially hazardous foods cooked, cooled and subsequently reheated for hot holding or serving shall be brought to a temperature of 165øF. (114014, 114016)',\n",
       "    'DailyOid': '2ff09bcd-9a36-4b8d-ada1-ae90011ebb4d',\n",
       "    'violation_degree': None,\n",
       "    'Oid': '3ae3e5d6-9daf-488e-97b2-ae90011edabf'},\n",
       "   {'violation_description': 'K030 - Food storage food storage containers identified',\n",
       "    'v_memo': 'California Retail Food Code §114047(b). Observed food in the walk in to be stored on the ground making the walk in difficult to clean and food could become contaminated. Food shall be protected from contamination by storing the food in a clean, dry location, where it is not exposed to splash, dust, vermin, or other forms of contamination or adulteration, and at least six inches above the floor. Correct immediately.\\r\\n',\n",
       "    'violation_text': 'Food shall be stored in approved containers and labeled as to contents.  Food shall be stored at least 6\" above the floor on approved shelving. (114047, 114049, 114051, 114053, 114055, 114067(h),       114069 (b))',\n",
       "    'DailyOid': '2ff09bcd-9a36-4b8d-ada1-ae90011ebb4d',\n",
       "    'violation_degree': None,\n",
       "    'Oid': 'd1d04741-2ebc-452b-9339-ae90011ed90c'},\n",
       "   {'violation_description': 'K044 - Premises personal/cleaning items vermin-proofing',\n",
       "    'v_memo': 'California Retail Food Code §114259. Observed back door to contain a gap greater than a 1/4 inch. Facility shall not have open doors and/or windows or gaps greater than a ¼ inch around doors and/or windows in which vermin may enter. A food facility shall at all times be constructed, equipped, maintained, and operated as to prevent the entrance and harborage of animals, birds, and vermin, including, but not limited to, rodents and insects. Correct immediately.\\r\\n',\n",
       "    'violation_text': 'The premises of each food facility shall be kept clean and free of litter and rubbish all clean and soiled linen shall be properly stored non-food items shall be stored and displayed separate from food and food-contact surfaces the facility shall be kept vermin proof. (114067 (j), 114123, 114143 (a) & (b), 114256, 114256.1, 114256.2, 114256.4, 114257, 114257.1, 114259, 114259.2, 114259.3, 114279, 114281, 114282)',\n",
       "    'DailyOid': '2ff09bcd-9a36-4b8d-ada1-ae90011ebb4d',\n",
       "    'violation_degree': None,\n",
       "    'Oid': '3d80c228-31a6-4d70-9cbb-ae90011eda82'}]},\n",
       " {'activity_date': '2021-03-12T00:00:00',\n",
       "  'service': 'ROUTINE-INSPECTION',\n",
       "  'Oid': 'dd11952d-7c82-4410-b030-ace901237a04',\n",
       "  'FacilityOid': 'a4602905-d0f7-4fbe-8388-7de1163c420e',\n",
       "  'score': 100.0,\n",
       "  'attachmentId': '43e9d9ea-f28d-45e7-963e-ace901277735',\n",
       "  'color': 'Green',\n",
       "  'violations': [{'violation_description': 'K005 - Hands clean and properly washed gloves used properly',\n",
       "    'v_memo': 'California Retail Food Code §113953.3. Observed employee come back from the back outdoor area and washed his hands using the soap mixture used for utensil washing.  Employees shall wash their hands properly by using hand soap and warm running water before handling any food or food related items and after any task that which may cause potential cross contamination. Correct Immediately.\\r\\n',\n",
       "    'violation_text': 'Employees are required to wash their hands: before beginning work before handling food / equipment / utensils as often as necessary, during food preparation, to remove soil and contamination when switching from working with raw to ready to eat foods, after touching body parts after using toilet room or any time when contamination may occur. (113952, 113953.3, 113953.4, 113961, 113968, 113973 (b-f))',\n",
       "    'DailyOid': 'dd11952d-7c82-4410-b030-ace901237a04',\n",
       "    'violation_degree': '3',\n",
       "    'Oid': 'ea02abf7-9fa9-48f6-90c2-ace9012765be'},\n",
       "   {'violation_description': 'K006 - Adequate handwashing facilities supplied & accessible',\n",
       "    'v_memo': 'California Retail Food Code §113953.2. Facility lacks a separate hand wash sink and employees use the 3 compartment sink for hand washing. No pump style hand soap was observed at the 3 comp sink. Paper towels were stored on rack near the 3 compartment sink. Hand wash dispensers shall be fully stocked with soap and available and sanitary single-use towels or a heated-air hand drying device at all times. Correct Immediately.\\r\\nThis is a repeat violation. Employees are unable to wash their hands properly due to lack of hand wash sink. IF this continues to be an issue then facility will be required to install a separate hand wash sink in the kitchen area. \\r\\n',\n",
       "    'violation_text': 'Liquid handwashing soap and towels in dispensers, or a drying device, shall be provided. Dispensers shall be maintained in good repair. (113953.2)  Adequate facilities shall be provided for hand washing. (113953, 113953.1, 114067(f))',\n",
       "    'DailyOid': 'dd11952d-7c82-4410-b030-ace901237a04',\n",
       "    'violation_degree': None,\n",
       "    'Oid': 'c74ce2eb-5482-4eac-9980-ace90127665b'},\n",
       "   {'violation_description': 'K040 - Wiping cloths: properly used and stored',\n",
       "    'v_memo': 'California Retail Food Code §114185.1(b). Observed linen cloth stored on top of the prep unit. All wiping cloths used repeatedly prior to laundering shall be stored in an approved sanitizing solution when not in use. Correct Immediately by providing approved sanitizer for the linen cloths.  \\r\\n',\n",
       "    'violation_text': 'Wiping cloths used to wipe service counters, scales or other surfaces that may come into contact with food shall be used only once unless kept in clean water with sanitizer at proper concentration. (114135, 114185.1  114185.3 (d-e))',\n",
       "    'DailyOid': 'dd11952d-7c82-4410-b030-ace901237a04',\n",
       "    'violation_degree': None,\n",
       "    'Oid': '0ff5ec57-7a58-450d-b276-ace901276706'}]}]"
      ]
     },
     "execution_count": 16,
     "metadata": {},
     "output_type": "execute_result"
    }
   ],
   "source": [
    "results = result.json()\n",
    "results"
   ]
  },
  {
   "cell_type": "code",
   "execution_count": 17,
   "id": "d5b811ce",
   "metadata": {},
   "outputs": [
    {
     "data": {
      "text/html": [
       "<div>\n",
       "<style scoped>\n",
       "    .dataframe tbody tr th:only-of-type {\n",
       "        vertical-align: middle;\n",
       "    }\n",
       "\n",
       "    .dataframe tbody tr th {\n",
       "        vertical-align: top;\n",
       "    }\n",
       "\n",
       "    .dataframe thead th {\n",
       "        text-align: right;\n",
       "    }\n",
       "</style>\n",
       "<table border=\"1\" class=\"dataframe\">\n",
       "  <thead>\n",
       "    <tr style=\"text-align: right;\">\n",
       "      <th></th>\n",
       "      <th>activity_date</th>\n",
       "      <th>service</th>\n",
       "      <th>Oid</th>\n",
       "      <th>FacilityOid</th>\n",
       "      <th>score</th>\n",
       "      <th>attachmentId</th>\n",
       "      <th>color</th>\n",
       "      <th>violations</th>\n",
       "    </tr>\n",
       "  </thead>\n",
       "  <tbody>\n",
       "    <tr>\n",
       "      <th>0</th>\n",
       "      <td>2023-02-28T00:00:00</td>\n",
       "      <td>ROUTINE-INSPECTION</td>\n",
       "      <td>722bd292-ad66-46ad-a16b-afb7011a322e</td>\n",
       "      <td>a4602905-d0f7-4fbe-8388-7de1163c420e</td>\n",
       "      <td>100.0</td>\n",
       "      <td>5323c79d-03c4-418f-bb06-afb800b42912</td>\n",
       "      <td>Green</td>\n",
       "      <td>[{'violation_description': 'K045 - Floors, wal...</td>\n",
       "    </tr>\n",
       "    <tr>\n",
       "      <th>1</th>\n",
       "      <td>2022-05-09T00:00:00</td>\n",
       "      <td>ROUTINE-INSPECTION</td>\n",
       "      <td>2ff09bcd-9a36-4b8d-ada1-ae90011ebb4d</td>\n",
       "      <td>a4602905-d0f7-4fbe-8388-7de1163c420e</td>\n",
       "      <td>100.0</td>\n",
       "      <td>3fccdc38-5271-4669-bccc-ae9100aa99ee</td>\n",
       "      <td>Green</td>\n",
       "      <td>[{'violation_description': 'K006 - Adequate ha...</td>\n",
       "    </tr>\n",
       "    <tr>\n",
       "      <th>2</th>\n",
       "      <td>2021-03-12T00:00:00</td>\n",
       "      <td>ROUTINE-INSPECTION</td>\n",
       "      <td>dd11952d-7c82-4410-b030-ace901237a04</td>\n",
       "      <td>a4602905-d0f7-4fbe-8388-7de1163c420e</td>\n",
       "      <td>100.0</td>\n",
       "      <td>43e9d9ea-f28d-45e7-963e-ace901277735</td>\n",
       "      <td>Green</td>\n",
       "      <td>[{'violation_description': 'K005 - Hands clean...</td>\n",
       "    </tr>\n",
       "  </tbody>\n",
       "</table>\n",
       "</div>"
      ],
      "text/plain": [
       "         activity_date             service  \\\n",
       "0  2023-02-28T00:00:00  ROUTINE-INSPECTION   \n",
       "1  2022-05-09T00:00:00  ROUTINE-INSPECTION   \n",
       "2  2021-03-12T00:00:00  ROUTINE-INSPECTION   \n",
       "\n",
       "                                    Oid                           FacilityOid  \\\n",
       "0  722bd292-ad66-46ad-a16b-afb7011a322e  a4602905-d0f7-4fbe-8388-7de1163c420e   \n",
       "1  2ff09bcd-9a36-4b8d-ada1-ae90011ebb4d  a4602905-d0f7-4fbe-8388-7de1163c420e   \n",
       "2  dd11952d-7c82-4410-b030-ace901237a04  a4602905-d0f7-4fbe-8388-7de1163c420e   \n",
       "\n",
       "   score                          attachmentId  color  \\\n",
       "0  100.0  5323c79d-03c4-418f-bb06-afb800b42912  Green   \n",
       "1  100.0  3fccdc38-5271-4669-bccc-ae9100aa99ee  Green   \n",
       "2  100.0  43e9d9ea-f28d-45e7-963e-ace901277735  Green   \n",
       "\n",
       "                                          violations  \n",
       "0  [{'violation_description': 'K045 - Floors, wal...  \n",
       "1  [{'violation_description': 'K006 - Adequate ha...  \n",
       "2  [{'violation_description': 'K005 - Hands clean...  "
      ]
     },
     "execution_count": 17,
     "metadata": {},
     "output_type": "execute_result"
    }
   ],
   "source": [
    "results_df = pd.DataFrame(results)\n",
    "results_df"
   ]
  },
  {
   "cell_type": "code",
   "execution_count": 20,
   "id": "217a7df1",
   "metadata": {},
   "outputs": [
    {
     "data": {
      "text/plain": [
       "[{'violation_description': 'K045 - Floors, walls and ceilings: built, maintained, and clean',\n",
       "  'v_memo': 'California Retail Food Code §114271. Observed the following surfaces needing to be cleaned: \\r\\n- walls around the hood and the hood system \\r\\n- ceiling in food prep area and at the ventilation system. Cardboard and tape must be removed from ventilation system. \\r\\n- floors under the three compartment sink must be cleaned\\r\\nAll walls, floors, and ceiling surfaces within a facility shall be clean and in good repair, as well as durable, smooth, and non-absorbent at all times. Correct within 1 week.\\r\\n',\n",
       "  'violation_text': 'The walls / ceilings shall have durable, smooth, nonabsorbent, light-colored, and washable surfaces.  All floor surfaces, other than the customer service areas, shall be approved, smooth, durable and made of nonabsorbent material that is easily cleanable. Approved base coving shall be provided in all areas, except customer service areas and where food is stored in original unopened containers.  Food facilities shall be fully enclosed.  All food facilities shall be kept clean and in good repair.  (114143 (d), 114266, 114268, 114268.1, 114271, 114272)',\n",
       "  'DailyOid': '722bd292-ad66-46ad-a16b-afb7011a322e',\n",
       "  'violation_degree': None,\n",
       "  'Oid': 'bb49cc44-4666-447c-bf35-afb7011a47e6'}]"
      ]
     },
     "execution_count": 20,
     "metadata": {},
     "output_type": "execute_result"
    }
   ],
   "source": [
    "results_df['violations'][0]"
   ]
  },
  {
   "cell_type": "code",
   "execution_count": 21,
   "id": "e5ef9d22",
   "metadata": {},
   "outputs": [
    {
     "data": {
      "text/plain": [
       "'California Retail Food Code §114271. Observed the following surfaces needing to be cleaned: \\r\\n- walls around the hood and the hood system \\r\\n- ceiling in food prep area and at the ventilation system. Cardboard and tape must be removed from ventilation system. \\r\\n- floors under the three compartment sink must be cleaned\\r\\nAll walls, floors, and ceiling surfaces within a facility shall be clean and in good repair, as well as durable, smooth, and non-absorbent at all times. Correct within 1 week.\\r\\n'"
      ]
     },
     "execution_count": 21,
     "metadata": {},
     "output_type": "execute_result"
    }
   ],
   "source": [
    "results_df['violations'][0][0]['v_memo']"
   ]
  },
  {
   "cell_type": "code",
   "execution_count": 22,
   "id": "570a09a4",
   "metadata": {},
   "outputs": [
    {
     "data": {
      "text/plain": [
       "1"
      ]
     },
     "execution_count": 22,
     "metadata": {},
     "output_type": "execute_result"
    }
   ],
   "source": [
    "len(results_df['violations'][0])"
   ]
  },
  {
   "cell_type": "code",
   "execution_count": 23,
   "id": "3f75e57a",
   "metadata": {},
   "outputs": [
    {
     "data": {
      "text/plain": [
       "['K045 - Floors, walls and ceilings: built, maintained, and clean']"
      ]
     },
     "execution_count": 23,
     "metadata": {},
     "output_type": "execute_result"
    }
   ],
   "source": [
    "violations = [\n",
    "    results_df['violations'][0][i]['violation_description'] for i in range(len(results_df['violations'][0]))\n",
    "]\n",
    "violations"
   ]
  },
  {
   "cell_type": "code",
   "execution_count": 24,
   "id": "89b732fe",
   "metadata": {},
   "outputs": [
    {
     "data": {
      "text/plain": [
       "{'Ali Baba': ['K045 - Floors, walls and ceilings: built, maintained, and clean']}"
      ]
     },
     "execution_count": 24,
     "metadata": {},
     "output_type": "execute_result"
    }
   ],
   "source": [
    "{'Ali Baba': violations}"
   ]
  },
  {
   "cell_type": "markdown",
   "id": "aabee068",
   "metadata": {},
   "source": [
    "How can we generalize this procedure? "
   ]
  },
  {
   "cell_type": "code",
   "execution_count": 25,
   "id": "246f49d9",
   "metadata": {},
   "outputs": [],
   "source": [
    "url = 'https://yoloeco.envisionconnect.com/api/pressAgentClient/searchFacilities'"
   ]
  },
  {
   "cell_type": "code",
   "execution_count": 26,
   "id": "d79d5228",
   "metadata": {},
   "outputs": [],
   "source": [
    "result=requests.post(url, params  = {\n",
    "    \"PressAgentOid\": \"c08cb189-894c-4c8c-b595-a5ef010226b4\"}, \n",
    "                     data = {\n",
    "    \"FacilityName\": \"Ali Baba\", \n",
    "})\n",
    "result.raise_for_status()"
   ]
  },
  {
   "cell_type": "code",
   "execution_count": 27,
   "id": "3f832408",
   "metadata": {},
   "outputs": [
    {
     "data": {
      "text/plain": [
       "[{'FacilityId': 'FA0001973',\n",
       "  'FacilityName': 'ALI BABA RESTAURANT',\n",
       "  'Address': '220 3RD ST ',\n",
       "  'CityStateZip': 'DAVIS CA 95616 ',\n",
       "  'LastScore': 100.0,\n",
       "  'attachmentId': '1ed0446f-d8a7-4a72-8557-afb800bb6fac'}]"
      ]
     },
     "execution_count": 27,
     "metadata": {},
     "output_type": "execute_result"
    }
   ],
   "source": [
    "result.json()"
   ]
  },
  {
   "cell_type": "code",
   "execution_count": 28,
   "id": "48e87ebe",
   "metadata": {
    "scrolled": true
   },
   "outputs": [
    {
     "data": {
      "text/plain": [
       "[{'FacilityId': 'FA0001345',\n",
       "  'FacilityName': 'A&B LIQUOR',\n",
       "  'Address': '2328 W CAPITOL AVE ',\n",
       "  'CityStateZip': 'WEST SACRAMENTO CA 95691 ',\n",
       "  'LastScore': 100.0,\n",
       "  'attachmentId': '778c1323-b5bd-4910-bd4a-af6d00f13489'},\n",
       " {'FacilityId': 'FA0022329',\n",
       "  'FacilityName': 'ACE SUSHI @SAVE MART 604',\n",
       "  'Address': '1900 ANDERSON RD ',\n",
       "  'CityStateZip': 'DAVIS CA 95616 ',\n",
       "  'LastScore': 100.0,\n",
       "  'attachmentId': '12f56aac-cff0-4266-804e-b01c00fb05c4'},\n",
       " {'FacilityId': 'FA0019474',\n",
       "  'FacilityName': 'ACOUSTIC EVENTS',\n",
       "  'Address': '4467 D ST ',\n",
       "  'CityStateZip': 'SACRAMENTO CA 95819 ',\n",
       "  'LastScore': 100.0,\n",
       "  'attachmentId': '6ad8b394-103b-4f88-8e1c-ae2b01015500'},\n",
       " {'FacilityId': 'FA0014014',\n",
       "  'FacilityName': 'AFC SUSHI / HOT WOK @ BEL AIR #526',\n",
       "  'Address': '1885 E GIBSON RD ',\n",
       "  'CityStateZip': 'WOODLAND CA 95776 ',\n",
       "  'LastScore': 100.0,\n",
       "  'attachmentId': 'b935b8cb-815a-4c30-8a00-b05701044f13'},\n",
       " {'FacilityId': 'FA0014013',\n",
       "  'FacilityName': \"AFC SUSHI / HOT WOK @ RALEY'S #206\",\n",
       "  'Address': '367 W MAIN ST ',\n",
       "  'CityStateZip': 'WOODLAND CA 95695 ',\n",
       "  'LastScore': 100.0,\n",
       "  'attachmentId': '389c36bc-45e3-47ef-a36e-b03e010a4c95'},\n",
       " {'FacilityId': 'FA0014015',\n",
       "  'FacilityName': \"AFC SUSHI / HOT WOK @ RALEY'S #448\",\n",
       "  'Address': '1601 W CAPITOL AVE ',\n",
       "  'CityStateZip': 'WEST SACRAMENTO CA 95691 ',\n",
       "  'LastScore': 100.0,\n",
       "  'attachmentId': '54ab2356-9d16-40fa-a278-b0900101971d'},\n",
       " {'FacilityId': 'FA0010191',\n",
       "  'FacilityName': 'AFC SUSHI @ SAFEWAY #1205',\n",
       "  'Address': '1451 W COVELL BLVD ',\n",
       "  'CityStateZip': 'DAVIS CA 95616 ',\n",
       "  'LastScore': 100.0,\n",
       "  'attachmentId': '5258bb8c-f65d-4f7f-8e93-b03e008d93a8'},\n",
       " {'FacilityId': 'FA0010190',\n",
       "  'FacilityName': 'AFC SUSHI @ SAFEWAY #1561',\n",
       "  'Address': '2121 COWELL BLVD ',\n",
       "  'CityStateZip': 'DAVIS CA 95616 ',\n",
       "  'LastScore': 100.0,\n",
       "  'attachmentId': '9c5a9061-4b83-4ccb-a3d8-b04c0105c1e2'},\n",
       " {'FacilityId': 'FA0018619',\n",
       "  'FacilityName': 'AFC TIK TOK WOK @ SAFEWAY #1205',\n",
       "  'Address': '1451 W COVELL BLVD ',\n",
       "  'CityStateZip': 'DAVIS CA 95616 ',\n",
       "  'LastScore': 100.0,\n",
       "  'attachmentId': 'ce5f0c41-1c7a-46a4-aad1-b03e008bcad3'},\n",
       " {'FacilityId': 'FA0012949',\n",
       "  'FacilityName': 'AFRIDI FOOD COMPANY',\n",
       "  'Address': '1250 CHURCHILL DOWNS AVE D STE ',\n",
       "  'CityStateZip': 'WOODLAND CA 95776 ',\n",
       "  'LastScore': 100.0,\n",
       "  'attachmentId': 'b55fd798-09fb-4bbb-9c4d-aff1010b75ae'},\n",
       " {'FacilityId': 'FA0022047',\n",
       "  'FacilityName': 'AFTER HOURS BOBA & TEA',\n",
       "  'Address': '800 MAIN ST ',\n",
       "  'CityStateZip': 'WOODLAND CA 95695 ',\n",
       "  'LastScore': 100.0,\n",
       "  'attachmentId': '677b6ce9-9171-4dd9-bdb2-b0830092204c'},\n",
       " {'FacilityId': 'FA0001050',\n",
       "  'FacilityName': 'AGGIE LIQUOR',\n",
       "  'Address': '507 L ST ',\n",
       "  'CityStateZip': 'DAVIS CA 95616 ',\n",
       "  'LastScore': 100.0,\n",
       "  'attachmentId': '8517fbde-01c5-4270-9fef-b070010c09a3'},\n",
       " {'FacilityId': 'FA0021027',\n",
       "  'FacilityName': 'AGTECH INNOVATION ALLIANCE',\n",
       "  'Address': '1100 MAIN ST 300 STE ',\n",
       "  'CityStateZip': 'WOODLAND CA 95695 ',\n",
       "  'LastScore': 100.0,\n",
       "  'attachmentId': 'c4c60ba9-1caf-4010-8c49-afa1010503bd'},\n",
       " {'FacilityId': 'FA0005895',\n",
       "  'FacilityName': 'AISLE 1 #2576',\n",
       "  'Address': '1813 E GIBSON RD ',\n",
       "  'CityStateZip': 'WOODLAND CA 95776 ',\n",
       "  'LastScore': 100.0,\n",
       "  'attachmentId': '4b29a4dd-54d9-4a3d-80bf-afb6010a6ad5'},\n",
       " {'FacilityId': 'FA0017313',\n",
       "  'FacilityName': 'AJ HUNDAL MART',\n",
       "  'Address': '2434 W CAPITOL AVE ',\n",
       "  'CityStateZip': 'WEST SACRAMENTO CA 95691 ',\n",
       "  'LastScore': 100.0,\n",
       "  'attachmentId': 'da4ee042-8d52-44a7-a8ab-b07b00f1fecc'},\n",
       " {'FacilityId': 'FA0020303',\n",
       "  'FacilityName': 'AKIRA COFFEE & TEA',\n",
       "  'Address': '620 W COVELL BLVD A STE ',\n",
       "  'CityStateZip': 'DAVIS CA 95616 ',\n",
       "  'LastScore': 100.0,\n",
       "  'attachmentId': 'e0fad909-03cb-4447-a05e-b02900c6c252'},\n",
       " {'FacilityId': 'FA0001973',\n",
       "  'FacilityName': 'ALI BABA RESTAURANT',\n",
       "  'Address': '220 3RD ST ',\n",
       "  'CityStateZip': 'DAVIS CA 95616 ',\n",
       "  'LastScore': 100.0,\n",
       "  'attachmentId': '1ed0446f-d8a7-4a72-8557-afb800bb6fac'},\n",
       " {'FacilityId': 'FA0015993',\n",
       "  'FacilityName': 'ALL SEASONS ALL REASONS CATERING',\n",
       "  'Address': '2135 DALE AVE ',\n",
       "  'CityStateZip': 'SACRAMENTO CA 95815 ',\n",
       "  'LastScore': 100.0,\n",
       "  'attachmentId': '4efcf21c-46f5-45db-8691-afeb00f38f51'},\n",
       " {'FacilityId': 'FA0019796',\n",
       "  'FacilityName': 'ALOHA POKEE & RAMEN',\n",
       "  'Address': '2055 TOWN CENTER PLZ 110 STE ',\n",
       "  'CityStateZip': 'WEST SACRAMENTO CA 95691 ',\n",
       "  'LastScore': 100.0,\n",
       "  'attachmentId': '6e9e6301-fb77-4396-be77-afd30113e9ee'},\n",
       " {'FacilityId': 'FA0002033',\n",
       "  'FacilityName': 'ALYCE NORMAN SCHOOL',\n",
       "  'Address': '1200 ANNA ST ',\n",
       "  'CityStateZip': 'WEST SACRAMENTO CA 95605 ',\n",
       "  'LastScore': 100.0,\n",
       "  'attachmentId': 'fa2cfbbb-a9e4-45e3-a4b9-b00400b870f2'},\n",
       " {'FacilityId': 'FA0002270',\n",
       "  'FacilityName': 'AM/PM MINI MARKET #5731- FOOD',\n",
       "  'Address': '805 REED AVE ',\n",
       "  'CityStateZip': 'WEST SACRAMENTO CA 95605 ',\n",
       "  'LastScore': 100.0,\n",
       "  'attachmentId': '1d3b3993-4175-475d-ad4a-afa300d216b9'},\n",
       " {'FacilityId': 'FA0020398',\n",
       "  'FacilityName': 'AMY LOVES MUSTARD',\n",
       "  'Address': '2407 VAN GOGH ST ',\n",
       "  'CityStateZip': 'DAVIS CA 95618 ',\n",
       "  'LastScore': 100.0,\n",
       "  'attachmentId': '5a9838b3-59a5-47f6-a12e-ad2b00fa81fc'},\n",
       " {'FacilityId': 'FA0021707',\n",
       "  'FacilityName': 'ANAR PERSIAN KITCHEN',\n",
       "  'Address': '1259 MERKLEY AVE ',\n",
       "  'CityStateZip': 'WEST SACRAMENTO CA 95961 ',\n",
       "  'LastScore': 100.0,\n",
       "  'attachmentId': '84b42bc9-2a71-4472-83fa-af8e00f974b0'},\n",
       " {'FacilityId': 'FA0012414',\n",
       "  'FacilityName': 'ANDERSON FAMILY CATERING BBQ',\n",
       "  'Address': '1286 CALLEN ST ',\n",
       "  'CityStateZip': 'VACAVILLE CA 95687 ',\n",
       "  'LastScore': 100.0,\n",
       "  'attachmentId': 'e88ff142-4938-41a2-a139-aff500d650e8'},\n",
       " {'FacilityId': 'FA0009436',\n",
       "  'FacilityName': 'ANDERSON GAS & MINI MART - FOOD',\n",
       "  'Address': '1935 ANDERSON RD ',\n",
       "  'CityStateZip': 'DAVIS CA 95616 ',\n",
       "  'LastScore': 100.0,\n",
       "  'attachmentId': '3d24787f-3f99-404e-80f4-b09e00f46596'},\n",
       " {'FacilityId': 'FA0002159',\n",
       "  'FacilityName': 'ANDERSON ROAD SHELL - FOOD',\n",
       "  'Address': '1944 ANDERSON RD ',\n",
       "  'CityStateZip': 'DAVIS CA 95616 ',\n",
       "  'LastScore': 100.0,\n",
       "  'attachmentId': 'b6b8640a-33cc-430f-8c11-b014010048fb'},\n",
       " {'FacilityId': 'FA0002192',\n",
       "  'FacilityName': \"ANDY'S ARCO - FOOD\",\n",
       "  'Address': '313 W MAIN ST ',\n",
       "  'CityStateZip': 'WOODLAND CA 95695 ',\n",
       "  'LastScore': 100.0,\n",
       "  'attachmentId': 'e822b207-07c2-460f-900a-b038010c5fe5'},\n",
       " {'FacilityId': 'FA0020747',\n",
       "  'FacilityName': 'ANTOJITOS JAIMITO #4TB1720',\n",
       "  'Address': '117 W MAIN ST ',\n",
       "  'CityStateZip': 'WOODLAND CA 95695 ',\n",
       "  'LastScore': 100.0,\n",
       "  'attachmentId': '9f50ecaa-1264-4f60-971e-afb000fbc834'},\n",
       " {'FacilityId': 'FA0020438',\n",
       "  'FacilityName': 'APNA BAZAAR',\n",
       "  'Address': '2 W COURT ST C STE ',\n",
       "  'CityStateZip': 'WOODLAND CA 95696 ',\n",
       "  'LastScore': 100.0,\n",
       "  'attachmentId': '635b5305-2d86-4dc1-a8ba-b06c00eb61fb'},\n",
       " {'FacilityId': 'FA0005596',\n",
       "  'FacilityName': \"APPLEBEE'S - WOODLAND\",\n",
       "  'Address': '1790 E MAIN ST ',\n",
       "  'CityStateZip': 'WOODLAND CA 95776 ',\n",
       "  'LastScore': 100.0,\n",
       "  'attachmentId': 'e6e0f24a-ca72-4524-8466-b01b0104ad50'},\n",
       " {'FacilityId': 'FA0016070',\n",
       "  'FacilityName': 'ARCO AMPM GAS STATION',\n",
       "  'Address': '4480 CHILES RD ',\n",
       "  'CityStateZip': 'DAVIS CA 95618 ',\n",
       "  'LastScore': 100.0,\n",
       "  'attachmentId': 'cfb7a687-2280-49b8-9ad4-afcc008ce6a9'},\n",
       " {'FacilityId': 'FA0001104',\n",
       "  'FacilityName': 'ARIANA FOOD MARKET',\n",
       "  'Address': '1638 W CAPITOL AVE A STE ',\n",
       "  'CityStateZip': 'WEST SACRAMENTO CA 95691 ',\n",
       "  'LastScore': 100.0,\n",
       "  'attachmentId': '2ab9fec5-aea9-4224-93de-b03d00e61396'},\n",
       " {'FacilityId': 'FA0020258',\n",
       "  'FacilityName': 'ARMADILLO MUSIC INC.',\n",
       "  'Address': '207 F ST ',\n",
       "  'CityStateZip': 'DAVIS CA 95618 ',\n",
       "  'LastScore': 100.0,\n",
       "  'attachmentId': None},\n",
       " {'FacilityId': 'FA0021921',\n",
       "  'FacilityName': 'ASOCIACION LOS CAPORALES - ARENA CONCESSION',\n",
       "  'Address': '1250 E GUM AVE ',\n",
       "  'CityStateZip': 'WOODLAND CA 95776 ',\n",
       "  'LastScore': 100.0,\n",
       "  'attachmentId': '25ed5576-3b3b-4c25-bb82-b0620085356d'},\n",
       " {'FacilityId': 'FA0022508',\n",
       "  'FacilityName': 'ATLAS CRAFT COFFEE',\n",
       "  'Address': '1188 35TH AVE ',\n",
       "  'CityStateZip': 'WITHIN YOLO COUNTY CA 95695 ',\n",
       "  'LastScore': 100.0,\n",
       "  'attachmentId': '31ef86ba-763d-4ee0-b97e-b06200bdd69a'},\n",
       " {'FacilityId': 'FA0020819',\n",
       "  'FacilityName': \"AUNTIE YASY'S GLUTEN-FREE GOODIES & MEAL DELIVERY LLC\",\n",
       "  'Address': '40162 BEST RANCH RD ',\n",
       "  'CityStateZip': 'WOODLAND CA 95776 ',\n",
       "  'LastScore': 100.0,\n",
       "  'attachmentId': '2c804cf8-6349-4b1c-91e8-afb100d5eaf4'},\n",
       " {'FacilityId': 'FA0022104',\n",
       "  'FacilityName': 'AUTHENTIC INDIA',\n",
       "  'Address': 'WINTERS TRACTOR PARADE ',\n",
       "  'CityStateZip': 'WINTERS CA 95694 ',\n",
       "  'LastScore': 100.0,\n",
       "  'attachmentId': 'c9ad6174-a630-4b0e-a433-af6300a0df75'},\n",
       " {'FacilityId': 'FA0021320',\n",
       "  'FacilityName': 'AVOCADO TOAST',\n",
       "  'Address': '730 3RD ST ',\n",
       "  'CityStateZip': 'DAVIS CA 95616 ',\n",
       "  'LastScore': 100.0,\n",
       "  'attachmentId': '99edc041-5660-425d-8efb-ad3b0102be03'},\n",
       " {'FacilityId': 'FA0001628',\n",
       "  'FacilityName': 'AY! JALISCO TAQUERIA #1',\n",
       "  'Address': '966 SACRAMENTO Ave ',\n",
       "  'CityStateZip': 'WEST SACRAMENTO CA 95691 ',\n",
       "  'LastScore': 100.0,\n",
       "  'attachmentId': '90a1078d-9753-4bee-bdf1-b04300af19ab'}]"
      ]
     },
     "execution_count": 28,
     "metadata": {},
     "output_type": "execute_result"
    }
   ],
   "source": [
    "result=requests.post(url, params  = {\n",
    "    \"PressAgentOid\": \"c08cb189-894c-4c8c-b595-a5ef010226b4\"}, \n",
    "              data = {\n",
    "    \"FacilityName\": \"a\", \n",
    "})\n",
    "result.json()"
   ]
  },
  {
   "cell_type": "code",
   "execution_count": 29,
   "id": "eca94fc2",
   "metadata": {
    "scrolled": true
   },
   "outputs": [
    {
     "data": {
      "text/html": [
       "<div>\n",
       "<style scoped>\n",
       "    .dataframe tbody tr th:only-of-type {\n",
       "        vertical-align: middle;\n",
       "    }\n",
       "\n",
       "    .dataframe tbody tr th {\n",
       "        vertical-align: top;\n",
       "    }\n",
       "\n",
       "    .dataframe thead th {\n",
       "        text-align: right;\n",
       "    }\n",
       "</style>\n",
       "<table border=\"1\" class=\"dataframe\">\n",
       "  <thead>\n",
       "    <tr style=\"text-align: right;\">\n",
       "      <th></th>\n",
       "      <th>FacilityId</th>\n",
       "      <th>FacilityName</th>\n",
       "      <th>Address</th>\n",
       "      <th>CityStateZip</th>\n",
       "      <th>LastScore</th>\n",
       "      <th>attachmentId</th>\n",
       "    </tr>\n",
       "  </thead>\n",
       "  <tbody>\n",
       "    <tr>\n",
       "      <th>0</th>\n",
       "      <td>FA0001345</td>\n",
       "      <td>A&amp;B LIQUOR</td>\n",
       "      <td>2328 W CAPITOL AVE</td>\n",
       "      <td>WEST SACRAMENTO CA 95691</td>\n",
       "      <td>100.0</td>\n",
       "      <td>778c1323-b5bd-4910-bd4a-af6d00f13489</td>\n",
       "    </tr>\n",
       "    <tr>\n",
       "      <th>1</th>\n",
       "      <td>FA0022329</td>\n",
       "      <td>ACE SUSHI @SAVE MART 604</td>\n",
       "      <td>1900 ANDERSON RD</td>\n",
       "      <td>DAVIS CA 95616</td>\n",
       "      <td>100.0</td>\n",
       "      <td>12f56aac-cff0-4266-804e-b01c00fb05c4</td>\n",
       "    </tr>\n",
       "    <tr>\n",
       "      <th>2</th>\n",
       "      <td>FA0019474</td>\n",
       "      <td>ACOUSTIC EVENTS</td>\n",
       "      <td>4467 D ST</td>\n",
       "      <td>SACRAMENTO CA 95819</td>\n",
       "      <td>100.0</td>\n",
       "      <td>6ad8b394-103b-4f88-8e1c-ae2b01015500</td>\n",
       "    </tr>\n",
       "    <tr>\n",
       "      <th>3</th>\n",
       "      <td>FA0014014</td>\n",
       "      <td>AFC SUSHI / HOT WOK @ BEL AIR #526</td>\n",
       "      <td>1885 E GIBSON RD</td>\n",
       "      <td>WOODLAND CA 95776</td>\n",
       "      <td>100.0</td>\n",
       "      <td>b935b8cb-815a-4c30-8a00-b05701044f13</td>\n",
       "    </tr>\n",
       "    <tr>\n",
       "      <th>4</th>\n",
       "      <td>FA0014013</td>\n",
       "      <td>AFC SUSHI / HOT WOK @ RALEY'S #206</td>\n",
       "      <td>367 W MAIN ST</td>\n",
       "      <td>WOODLAND CA 95695</td>\n",
       "      <td>100.0</td>\n",
       "      <td>389c36bc-45e3-47ef-a36e-b03e010a4c95</td>\n",
       "    </tr>\n",
       "    <tr>\n",
       "      <th>5</th>\n",
       "      <td>FA0014015</td>\n",
       "      <td>AFC SUSHI / HOT WOK @ RALEY'S #448</td>\n",
       "      <td>1601 W CAPITOL AVE</td>\n",
       "      <td>WEST SACRAMENTO CA 95691</td>\n",
       "      <td>100.0</td>\n",
       "      <td>54ab2356-9d16-40fa-a278-b0900101971d</td>\n",
       "    </tr>\n",
       "    <tr>\n",
       "      <th>6</th>\n",
       "      <td>FA0010191</td>\n",
       "      <td>AFC SUSHI @ SAFEWAY #1205</td>\n",
       "      <td>1451 W COVELL BLVD</td>\n",
       "      <td>DAVIS CA 95616</td>\n",
       "      <td>100.0</td>\n",
       "      <td>5258bb8c-f65d-4f7f-8e93-b03e008d93a8</td>\n",
       "    </tr>\n",
       "    <tr>\n",
       "      <th>7</th>\n",
       "      <td>FA0010190</td>\n",
       "      <td>AFC SUSHI @ SAFEWAY #1561</td>\n",
       "      <td>2121 COWELL BLVD</td>\n",
       "      <td>DAVIS CA 95616</td>\n",
       "      <td>100.0</td>\n",
       "      <td>9c5a9061-4b83-4ccb-a3d8-b04c0105c1e2</td>\n",
       "    </tr>\n",
       "    <tr>\n",
       "      <th>8</th>\n",
       "      <td>FA0018619</td>\n",
       "      <td>AFC TIK TOK WOK @ SAFEWAY #1205</td>\n",
       "      <td>1451 W COVELL BLVD</td>\n",
       "      <td>DAVIS CA 95616</td>\n",
       "      <td>100.0</td>\n",
       "      <td>ce5f0c41-1c7a-46a4-aad1-b03e008bcad3</td>\n",
       "    </tr>\n",
       "    <tr>\n",
       "      <th>9</th>\n",
       "      <td>FA0012949</td>\n",
       "      <td>AFRIDI FOOD COMPANY</td>\n",
       "      <td>1250 CHURCHILL DOWNS AVE D STE</td>\n",
       "      <td>WOODLAND CA 95776</td>\n",
       "      <td>100.0</td>\n",
       "      <td>b55fd798-09fb-4bbb-9c4d-aff1010b75ae</td>\n",
       "    </tr>\n",
       "    <tr>\n",
       "      <th>10</th>\n",
       "      <td>FA0022047</td>\n",
       "      <td>AFTER HOURS BOBA &amp; TEA</td>\n",
       "      <td>800 MAIN ST</td>\n",
       "      <td>WOODLAND CA 95695</td>\n",
       "      <td>100.0</td>\n",
       "      <td>677b6ce9-9171-4dd9-bdb2-b0830092204c</td>\n",
       "    </tr>\n",
       "    <tr>\n",
       "      <th>11</th>\n",
       "      <td>FA0001050</td>\n",
       "      <td>AGGIE LIQUOR</td>\n",
       "      <td>507 L ST</td>\n",
       "      <td>DAVIS CA 95616</td>\n",
       "      <td>100.0</td>\n",
       "      <td>8517fbde-01c5-4270-9fef-b070010c09a3</td>\n",
       "    </tr>\n",
       "    <tr>\n",
       "      <th>12</th>\n",
       "      <td>FA0021027</td>\n",
       "      <td>AGTECH INNOVATION ALLIANCE</td>\n",
       "      <td>1100 MAIN ST 300 STE</td>\n",
       "      <td>WOODLAND CA 95695</td>\n",
       "      <td>100.0</td>\n",
       "      <td>c4c60ba9-1caf-4010-8c49-afa1010503bd</td>\n",
       "    </tr>\n",
       "    <tr>\n",
       "      <th>13</th>\n",
       "      <td>FA0005895</td>\n",
       "      <td>AISLE 1 #2576</td>\n",
       "      <td>1813 E GIBSON RD</td>\n",
       "      <td>WOODLAND CA 95776</td>\n",
       "      <td>100.0</td>\n",
       "      <td>4b29a4dd-54d9-4a3d-80bf-afb6010a6ad5</td>\n",
       "    </tr>\n",
       "    <tr>\n",
       "      <th>14</th>\n",
       "      <td>FA0017313</td>\n",
       "      <td>AJ HUNDAL MART</td>\n",
       "      <td>2434 W CAPITOL AVE</td>\n",
       "      <td>WEST SACRAMENTO CA 95691</td>\n",
       "      <td>100.0</td>\n",
       "      <td>da4ee042-8d52-44a7-a8ab-b07b00f1fecc</td>\n",
       "    </tr>\n",
       "    <tr>\n",
       "      <th>15</th>\n",
       "      <td>FA0020303</td>\n",
       "      <td>AKIRA COFFEE &amp; TEA</td>\n",
       "      <td>620 W COVELL BLVD A STE</td>\n",
       "      <td>DAVIS CA 95616</td>\n",
       "      <td>100.0</td>\n",
       "      <td>e0fad909-03cb-4447-a05e-b02900c6c252</td>\n",
       "    </tr>\n",
       "    <tr>\n",
       "      <th>16</th>\n",
       "      <td>FA0001973</td>\n",
       "      <td>ALI BABA RESTAURANT</td>\n",
       "      <td>220 3RD ST</td>\n",
       "      <td>DAVIS CA 95616</td>\n",
       "      <td>100.0</td>\n",
       "      <td>1ed0446f-d8a7-4a72-8557-afb800bb6fac</td>\n",
       "    </tr>\n",
       "    <tr>\n",
       "      <th>17</th>\n",
       "      <td>FA0015993</td>\n",
       "      <td>ALL SEASONS ALL REASONS CATERING</td>\n",
       "      <td>2135 DALE AVE</td>\n",
       "      <td>SACRAMENTO CA 95815</td>\n",
       "      <td>100.0</td>\n",
       "      <td>4efcf21c-46f5-45db-8691-afeb00f38f51</td>\n",
       "    </tr>\n",
       "    <tr>\n",
       "      <th>18</th>\n",
       "      <td>FA0019796</td>\n",
       "      <td>ALOHA POKEE &amp; RAMEN</td>\n",
       "      <td>2055 TOWN CENTER PLZ 110 STE</td>\n",
       "      <td>WEST SACRAMENTO CA 95691</td>\n",
       "      <td>100.0</td>\n",
       "      <td>6e9e6301-fb77-4396-be77-afd30113e9ee</td>\n",
       "    </tr>\n",
       "    <tr>\n",
       "      <th>19</th>\n",
       "      <td>FA0002033</td>\n",
       "      <td>ALYCE NORMAN SCHOOL</td>\n",
       "      <td>1200 ANNA ST</td>\n",
       "      <td>WEST SACRAMENTO CA 95605</td>\n",
       "      <td>100.0</td>\n",
       "      <td>fa2cfbbb-a9e4-45e3-a4b9-b00400b870f2</td>\n",
       "    </tr>\n",
       "    <tr>\n",
       "      <th>20</th>\n",
       "      <td>FA0002270</td>\n",
       "      <td>AM/PM MINI MARKET #5731- FOOD</td>\n",
       "      <td>805 REED AVE</td>\n",
       "      <td>WEST SACRAMENTO CA 95605</td>\n",
       "      <td>100.0</td>\n",
       "      <td>1d3b3993-4175-475d-ad4a-afa300d216b9</td>\n",
       "    </tr>\n",
       "    <tr>\n",
       "      <th>21</th>\n",
       "      <td>FA0020398</td>\n",
       "      <td>AMY LOVES MUSTARD</td>\n",
       "      <td>2407 VAN GOGH ST</td>\n",
       "      <td>DAVIS CA 95618</td>\n",
       "      <td>100.0</td>\n",
       "      <td>5a9838b3-59a5-47f6-a12e-ad2b00fa81fc</td>\n",
       "    </tr>\n",
       "    <tr>\n",
       "      <th>22</th>\n",
       "      <td>FA0021707</td>\n",
       "      <td>ANAR PERSIAN KITCHEN</td>\n",
       "      <td>1259 MERKLEY AVE</td>\n",
       "      <td>WEST SACRAMENTO CA 95961</td>\n",
       "      <td>100.0</td>\n",
       "      <td>84b42bc9-2a71-4472-83fa-af8e00f974b0</td>\n",
       "    </tr>\n",
       "    <tr>\n",
       "      <th>23</th>\n",
       "      <td>FA0012414</td>\n",
       "      <td>ANDERSON FAMILY CATERING BBQ</td>\n",
       "      <td>1286 CALLEN ST</td>\n",
       "      <td>VACAVILLE CA 95687</td>\n",
       "      <td>100.0</td>\n",
       "      <td>e88ff142-4938-41a2-a139-aff500d650e8</td>\n",
       "    </tr>\n",
       "    <tr>\n",
       "      <th>24</th>\n",
       "      <td>FA0009436</td>\n",
       "      <td>ANDERSON GAS &amp; MINI MART - FOOD</td>\n",
       "      <td>1935 ANDERSON RD</td>\n",
       "      <td>DAVIS CA 95616</td>\n",
       "      <td>100.0</td>\n",
       "      <td>3d24787f-3f99-404e-80f4-b09e00f46596</td>\n",
       "    </tr>\n",
       "    <tr>\n",
       "      <th>25</th>\n",
       "      <td>FA0002159</td>\n",
       "      <td>ANDERSON ROAD SHELL - FOOD</td>\n",
       "      <td>1944 ANDERSON RD</td>\n",
       "      <td>DAVIS CA 95616</td>\n",
       "      <td>100.0</td>\n",
       "      <td>b6b8640a-33cc-430f-8c11-b014010048fb</td>\n",
       "    </tr>\n",
       "    <tr>\n",
       "      <th>26</th>\n",
       "      <td>FA0002192</td>\n",
       "      <td>ANDY'S ARCO - FOOD</td>\n",
       "      <td>313 W MAIN ST</td>\n",
       "      <td>WOODLAND CA 95695</td>\n",
       "      <td>100.0</td>\n",
       "      <td>e822b207-07c2-460f-900a-b038010c5fe5</td>\n",
       "    </tr>\n",
       "    <tr>\n",
       "      <th>27</th>\n",
       "      <td>FA0020747</td>\n",
       "      <td>ANTOJITOS JAIMITO #4TB1720</td>\n",
       "      <td>117 W MAIN ST</td>\n",
       "      <td>WOODLAND CA 95695</td>\n",
       "      <td>100.0</td>\n",
       "      <td>9f50ecaa-1264-4f60-971e-afb000fbc834</td>\n",
       "    </tr>\n",
       "    <tr>\n",
       "      <th>28</th>\n",
       "      <td>FA0020438</td>\n",
       "      <td>APNA BAZAAR</td>\n",
       "      <td>2 W COURT ST C STE</td>\n",
       "      <td>WOODLAND CA 95696</td>\n",
       "      <td>100.0</td>\n",
       "      <td>635b5305-2d86-4dc1-a8ba-b06c00eb61fb</td>\n",
       "    </tr>\n",
       "    <tr>\n",
       "      <th>29</th>\n",
       "      <td>FA0005596</td>\n",
       "      <td>APPLEBEE'S - WOODLAND</td>\n",
       "      <td>1790 E MAIN ST</td>\n",
       "      <td>WOODLAND CA 95776</td>\n",
       "      <td>100.0</td>\n",
       "      <td>e6e0f24a-ca72-4524-8466-b01b0104ad50</td>\n",
       "    </tr>\n",
       "    <tr>\n",
       "      <th>30</th>\n",
       "      <td>FA0016070</td>\n",
       "      <td>ARCO AMPM GAS STATION</td>\n",
       "      <td>4480 CHILES RD</td>\n",
       "      <td>DAVIS CA 95618</td>\n",
       "      <td>100.0</td>\n",
       "      <td>cfb7a687-2280-49b8-9ad4-afcc008ce6a9</td>\n",
       "    </tr>\n",
       "    <tr>\n",
       "      <th>31</th>\n",
       "      <td>FA0001104</td>\n",
       "      <td>ARIANA FOOD MARKET</td>\n",
       "      <td>1638 W CAPITOL AVE A STE</td>\n",
       "      <td>WEST SACRAMENTO CA 95691</td>\n",
       "      <td>100.0</td>\n",
       "      <td>2ab9fec5-aea9-4224-93de-b03d00e61396</td>\n",
       "    </tr>\n",
       "    <tr>\n",
       "      <th>32</th>\n",
       "      <td>FA0020258</td>\n",
       "      <td>ARMADILLO MUSIC INC.</td>\n",
       "      <td>207 F ST</td>\n",
       "      <td>DAVIS CA 95618</td>\n",
       "      <td>100.0</td>\n",
       "      <td>None</td>\n",
       "    </tr>\n",
       "    <tr>\n",
       "      <th>33</th>\n",
       "      <td>FA0021921</td>\n",
       "      <td>ASOCIACION LOS CAPORALES - ARENA CONCESSION</td>\n",
       "      <td>1250 E GUM AVE</td>\n",
       "      <td>WOODLAND CA 95776</td>\n",
       "      <td>100.0</td>\n",
       "      <td>25ed5576-3b3b-4c25-bb82-b0620085356d</td>\n",
       "    </tr>\n",
       "    <tr>\n",
       "      <th>34</th>\n",
       "      <td>FA0022508</td>\n",
       "      <td>ATLAS CRAFT COFFEE</td>\n",
       "      <td>1188 35TH AVE</td>\n",
       "      <td>WITHIN YOLO COUNTY CA 95695</td>\n",
       "      <td>100.0</td>\n",
       "      <td>31ef86ba-763d-4ee0-b97e-b06200bdd69a</td>\n",
       "    </tr>\n",
       "    <tr>\n",
       "      <th>35</th>\n",
       "      <td>FA0020819</td>\n",
       "      <td>AUNTIE YASY'S GLUTEN-FREE GOODIES &amp; MEAL DELIV...</td>\n",
       "      <td>40162 BEST RANCH RD</td>\n",
       "      <td>WOODLAND CA 95776</td>\n",
       "      <td>100.0</td>\n",
       "      <td>2c804cf8-6349-4b1c-91e8-afb100d5eaf4</td>\n",
       "    </tr>\n",
       "    <tr>\n",
       "      <th>36</th>\n",
       "      <td>FA0022104</td>\n",
       "      <td>AUTHENTIC INDIA</td>\n",
       "      <td>WINTERS TRACTOR PARADE</td>\n",
       "      <td>WINTERS CA 95694</td>\n",
       "      <td>100.0</td>\n",
       "      <td>c9ad6174-a630-4b0e-a433-af6300a0df75</td>\n",
       "    </tr>\n",
       "    <tr>\n",
       "      <th>37</th>\n",
       "      <td>FA0021320</td>\n",
       "      <td>AVOCADO TOAST</td>\n",
       "      <td>730 3RD ST</td>\n",
       "      <td>DAVIS CA 95616</td>\n",
       "      <td>100.0</td>\n",
       "      <td>99edc041-5660-425d-8efb-ad3b0102be03</td>\n",
       "    </tr>\n",
       "    <tr>\n",
       "      <th>38</th>\n",
       "      <td>FA0001628</td>\n",
       "      <td>AY! JALISCO TAQUERIA #1</td>\n",
       "      <td>966 SACRAMENTO Ave</td>\n",
       "      <td>WEST SACRAMENTO CA 95691</td>\n",
       "      <td>100.0</td>\n",
       "      <td>90a1078d-9753-4bee-bdf1-b04300af19ab</td>\n",
       "    </tr>\n",
       "  </tbody>\n",
       "</table>\n",
       "</div>"
      ],
      "text/plain": [
       "   FacilityId                                       FacilityName  \\\n",
       "0   FA0001345                                         A&B LIQUOR   \n",
       "1   FA0022329                           ACE SUSHI @SAVE MART 604   \n",
       "2   FA0019474                                    ACOUSTIC EVENTS   \n",
       "3   FA0014014                 AFC SUSHI / HOT WOK @ BEL AIR #526   \n",
       "4   FA0014013                 AFC SUSHI / HOT WOK @ RALEY'S #206   \n",
       "5   FA0014015                 AFC SUSHI / HOT WOK @ RALEY'S #448   \n",
       "6   FA0010191                          AFC SUSHI @ SAFEWAY #1205   \n",
       "7   FA0010190                          AFC SUSHI @ SAFEWAY #1561   \n",
       "8   FA0018619                    AFC TIK TOK WOK @ SAFEWAY #1205   \n",
       "9   FA0012949                                AFRIDI FOOD COMPANY   \n",
       "10  FA0022047                             AFTER HOURS BOBA & TEA   \n",
       "11  FA0001050                                       AGGIE LIQUOR   \n",
       "12  FA0021027                         AGTECH INNOVATION ALLIANCE   \n",
       "13  FA0005895                                      AISLE 1 #2576   \n",
       "14  FA0017313                                     AJ HUNDAL MART   \n",
       "15  FA0020303                                 AKIRA COFFEE & TEA   \n",
       "16  FA0001973                                ALI BABA RESTAURANT   \n",
       "17  FA0015993                   ALL SEASONS ALL REASONS CATERING   \n",
       "18  FA0019796                                ALOHA POKEE & RAMEN   \n",
       "19  FA0002033                                ALYCE NORMAN SCHOOL   \n",
       "20  FA0002270                      AM/PM MINI MARKET #5731- FOOD   \n",
       "21  FA0020398                                  AMY LOVES MUSTARD   \n",
       "22  FA0021707                               ANAR PERSIAN KITCHEN   \n",
       "23  FA0012414                       ANDERSON FAMILY CATERING BBQ   \n",
       "24  FA0009436                    ANDERSON GAS & MINI MART - FOOD   \n",
       "25  FA0002159                         ANDERSON ROAD SHELL - FOOD   \n",
       "26  FA0002192                                 ANDY'S ARCO - FOOD   \n",
       "27  FA0020747                         ANTOJITOS JAIMITO #4TB1720   \n",
       "28  FA0020438                                        APNA BAZAAR   \n",
       "29  FA0005596                              APPLEBEE'S - WOODLAND   \n",
       "30  FA0016070                              ARCO AMPM GAS STATION   \n",
       "31  FA0001104                                 ARIANA FOOD MARKET   \n",
       "32  FA0020258                               ARMADILLO MUSIC INC.   \n",
       "33  FA0021921        ASOCIACION LOS CAPORALES - ARENA CONCESSION   \n",
       "34  FA0022508                                 ATLAS CRAFT COFFEE   \n",
       "35  FA0020819  AUNTIE YASY'S GLUTEN-FREE GOODIES & MEAL DELIV...   \n",
       "36  FA0022104                                    AUTHENTIC INDIA   \n",
       "37  FA0021320                                      AVOCADO TOAST   \n",
       "38  FA0001628                            AY! JALISCO TAQUERIA #1   \n",
       "\n",
       "                            Address                  CityStateZip  LastScore  \\\n",
       "0               2328 W CAPITOL AVE      WEST SACRAMENTO CA 95691       100.0   \n",
       "1                 1900 ANDERSON RD                DAVIS CA 95616       100.0   \n",
       "2                        4467 D ST           SACRAMENTO CA 95819       100.0   \n",
       "3                 1885 E GIBSON RD             WOODLAND CA 95776       100.0   \n",
       "4                    367 W MAIN ST             WOODLAND CA 95695       100.0   \n",
       "5               1601 W CAPITOL AVE      WEST SACRAMENTO CA 95691       100.0   \n",
       "6               1451 W COVELL BLVD                DAVIS CA 95616       100.0   \n",
       "7                 2121 COWELL BLVD                DAVIS CA 95616       100.0   \n",
       "8               1451 W COVELL BLVD                DAVIS CA 95616       100.0   \n",
       "9   1250 CHURCHILL DOWNS AVE D STE             WOODLAND CA 95776       100.0   \n",
       "10                     800 MAIN ST             WOODLAND CA 95695       100.0   \n",
       "11                        507 L ST                DAVIS CA 95616       100.0   \n",
       "12            1100 MAIN ST 300 STE             WOODLAND CA 95695       100.0   \n",
       "13                1813 E GIBSON RD             WOODLAND CA 95776       100.0   \n",
       "14              2434 W CAPITOL AVE      WEST SACRAMENTO CA 95691       100.0   \n",
       "15         620 W COVELL BLVD A STE                DAVIS CA 95616       100.0   \n",
       "16                      220 3RD ST                DAVIS CA 95616       100.0   \n",
       "17                   2135 DALE AVE           SACRAMENTO CA 95815       100.0   \n",
       "18    2055 TOWN CENTER PLZ 110 STE      WEST SACRAMENTO CA 95691       100.0   \n",
       "19                    1200 ANNA ST      WEST SACRAMENTO CA 95605       100.0   \n",
       "20                    805 REED AVE      WEST SACRAMENTO CA 95605       100.0   \n",
       "21                2407 VAN GOGH ST                DAVIS CA 95618       100.0   \n",
       "22                1259 MERKLEY AVE      WEST SACRAMENTO CA 95961       100.0   \n",
       "23                  1286 CALLEN ST            VACAVILLE CA 95687       100.0   \n",
       "24                1935 ANDERSON RD                DAVIS CA 95616       100.0   \n",
       "25                1944 ANDERSON RD                DAVIS CA 95616       100.0   \n",
       "26                   313 W MAIN ST             WOODLAND CA 95695       100.0   \n",
       "27                   117 W MAIN ST             WOODLAND CA 95695       100.0   \n",
       "28              2 W COURT ST C STE             WOODLAND CA 95696       100.0   \n",
       "29                  1790 E MAIN ST             WOODLAND CA 95776       100.0   \n",
       "30                  4480 CHILES RD                DAVIS CA 95618       100.0   \n",
       "31        1638 W CAPITOL AVE A STE      WEST SACRAMENTO CA 95691       100.0   \n",
       "32                        207 F ST                DAVIS CA 95618       100.0   \n",
       "33                  1250 E GUM AVE             WOODLAND CA 95776       100.0   \n",
       "34                   1188 35TH AVE   WITHIN YOLO COUNTY CA 95695       100.0   \n",
       "35             40162 BEST RANCH RD             WOODLAND CA 95776       100.0   \n",
       "36          WINTERS TRACTOR PARADE              WINTERS CA 95694       100.0   \n",
       "37                      730 3RD ST                DAVIS CA 95616       100.0   \n",
       "38              966 SACRAMENTO Ave      WEST SACRAMENTO CA 95691       100.0   \n",
       "\n",
       "                            attachmentId  \n",
       "0   778c1323-b5bd-4910-bd4a-af6d00f13489  \n",
       "1   12f56aac-cff0-4266-804e-b01c00fb05c4  \n",
       "2   6ad8b394-103b-4f88-8e1c-ae2b01015500  \n",
       "3   b935b8cb-815a-4c30-8a00-b05701044f13  \n",
       "4   389c36bc-45e3-47ef-a36e-b03e010a4c95  \n",
       "5   54ab2356-9d16-40fa-a278-b0900101971d  \n",
       "6   5258bb8c-f65d-4f7f-8e93-b03e008d93a8  \n",
       "7   9c5a9061-4b83-4ccb-a3d8-b04c0105c1e2  \n",
       "8   ce5f0c41-1c7a-46a4-aad1-b03e008bcad3  \n",
       "9   b55fd798-09fb-4bbb-9c4d-aff1010b75ae  \n",
       "10  677b6ce9-9171-4dd9-bdb2-b0830092204c  \n",
       "11  8517fbde-01c5-4270-9fef-b070010c09a3  \n",
       "12  c4c60ba9-1caf-4010-8c49-afa1010503bd  \n",
       "13  4b29a4dd-54d9-4a3d-80bf-afb6010a6ad5  \n",
       "14  da4ee042-8d52-44a7-a8ab-b07b00f1fecc  \n",
       "15  e0fad909-03cb-4447-a05e-b02900c6c252  \n",
       "16  1ed0446f-d8a7-4a72-8557-afb800bb6fac  \n",
       "17  4efcf21c-46f5-45db-8691-afeb00f38f51  \n",
       "18  6e9e6301-fb77-4396-be77-afd30113e9ee  \n",
       "19  fa2cfbbb-a9e4-45e3-a4b9-b00400b870f2  \n",
       "20  1d3b3993-4175-475d-ad4a-afa300d216b9  \n",
       "21  5a9838b3-59a5-47f6-a12e-ad2b00fa81fc  \n",
       "22  84b42bc9-2a71-4472-83fa-af8e00f974b0  \n",
       "23  e88ff142-4938-41a2-a139-aff500d650e8  \n",
       "24  3d24787f-3f99-404e-80f4-b09e00f46596  \n",
       "25  b6b8640a-33cc-430f-8c11-b014010048fb  \n",
       "26  e822b207-07c2-460f-900a-b038010c5fe5  \n",
       "27  9f50ecaa-1264-4f60-971e-afb000fbc834  \n",
       "28  635b5305-2d86-4dc1-a8ba-b06c00eb61fb  \n",
       "29  e6e0f24a-ca72-4524-8466-b01b0104ad50  \n",
       "30  cfb7a687-2280-49b8-9ad4-afcc008ce6a9  \n",
       "31  2ab9fec5-aea9-4224-93de-b03d00e61396  \n",
       "32                                  None  \n",
       "33  25ed5576-3b3b-4c25-bb82-b0620085356d  \n",
       "34  31ef86ba-763d-4ee0-b97e-b06200bdd69a  \n",
       "35  2c804cf8-6349-4b1c-91e8-afb100d5eaf4  \n",
       "36  c9ad6174-a630-4b0e-a433-af6300a0df75  \n",
       "37  99edc041-5660-425d-8efb-ad3b0102be03  \n",
       "38  90a1078d-9753-4bee-bdf1-b04300af19ab  "
      ]
     },
     "execution_count": 29,
     "metadata": {},
     "output_type": "execute_result"
    }
   ],
   "source": [
    "pd.DataFrame(result.json())"
   ]
  },
  {
   "cell_type": "markdown",
   "id": "ff745e1d",
   "metadata": {},
   "source": [
    "Lets write a pipeline. "
   ]
  },
  {
   "cell_type": "code",
   "execution_count": 30,
   "id": "127afbfe",
   "metadata": {},
   "outputs": [],
   "source": [
    "def fetch_violations(ProgramId):\n",
    "    result = requests.get('https://yoloeco.envisionconnect.com/api/pressAgentClient/inspections', \n",
    "                          params = {\n",
    "        'PressAgentOid': 'c08cb189-894c-4c8c-b595-a5ef010226b4', \n",
    "        'ProgramId': ProgramId\n",
    "    })\n",
    "    result.raise_for_status()\n",
    "    results = result.json()\n",
    "    results_df = pd.DataFrame(results)\n",
    "    violations = [\n",
    "        results_df['violations'][0][i]['violation_description'] for i in range(len(results_df['violations'][0]))\n",
    "    ]\n",
    "    return(violations)"
   ]
  },
  {
   "cell_type": "code",
   "execution_count": 38,
   "id": "39844aee",
   "metadata": {},
   "outputs": [
    {
     "data": {
      "text/plain": [
       "['K005 - Hands clean and properly washed gloves used properly']"
      ]
     },
     "execution_count": 38,
     "metadata": {},
     "output_type": "execute_result"
    }
   ],
   "source": [
    "fetch_violations('PR0067418') # for mamma"
   ]
  },
  {
   "cell_type": "code",
   "execution_count": null,
   "id": "e060079a",
   "metadata": {},
   "outputs": [],
   "source": [
    "result = requests.get('https://yoloeco.envisionconnect.com/api/pressAgentClient/inspections', \n",
    "                          params = {\n",
    "        'PressAgentOid': 'c08cb189-894c-4c8c-b595-a5ef010226b4', \n",
    "        'ProgramId': 'PR0043924'\n",
    "    })"
   ]
  },
  {
   "cell_type": "code",
   "execution_count": 37,
   "id": "622fe76f",
   "metadata": {},
   "outputs": [
    {
     "data": {
      "text/plain": [
       "'[]'"
      ]
     },
     "execution_count": 37,
     "metadata": {},
     "output_type": "execute_result"
    }
   ],
   "source": [
    "result.text"
   ]
  },
  {
   "cell_type": "code",
   "execution_count": 39,
   "id": "d1c73fbd",
   "metadata": {},
   "outputs": [],
   "source": [
    "def fetch_ProgramId(FacilityID):\n",
    "    result = requests.get('https://yoloeco.envisionconnect.com/api/pressAgentClient/programs', \n",
    "                          params = {\n",
    "        'PressAgentOid': 'c08cb189-894c-4c8c-b595-a5ef010226b4', \n",
    "        'FacilityID': FacilityID\n",
    "    })\n",
    "    result.raise_for_status()\n",
    "    ProgramId = result.json()[0]['ProgramId']\n",
    "    return(ProgramId)"
   ]
  },
  {
   "cell_type": "code",
   "execution_count": 40,
   "id": "cdfcb312",
   "metadata": {},
   "outputs": [
    {
     "data": {
      "text/plain": [
       "'PR0000674'"
      ]
     },
     "execution_count": 40,
     "metadata": {},
     "output_type": "execute_result"
    }
   ],
   "source": [
    "fetch_ProgramId('FA0001973')"
   ]
  },
  {
   "cell_type": "code",
   "execution_count": 41,
   "id": "ccccc840",
   "metadata": {},
   "outputs": [],
   "source": [
    "def fetch_FacilityID(letter):\n",
    "    result = requests.post('https://yoloeco.envisionconnect.com/api/pressAgentClient/searchFacilities?', \n",
    "                           params  = {\n",
    "    \"PressAgentOid\": \"c08cb189-894c-4c8c-b595-a5ef010226b4\"}, \n",
    "                           data = {\n",
    "    \"FacilityName\": letter, \n",
    "    })\n",
    "    facility_table = pd.DataFrame(result.json())[['FacilityId', 'FacilityName']]\n",
    "    return(facility_table)"
   ]
  },
  {
   "cell_type": "code",
   "execution_count": 42,
   "id": "63370b98",
   "metadata": {
    "scrolled": true
   },
   "outputs": [
    {
     "data": {
      "text/html": [
       "<div>\n",
       "<style scoped>\n",
       "    .dataframe tbody tr th:only-of-type {\n",
       "        vertical-align: middle;\n",
       "    }\n",
       "\n",
       "    .dataframe tbody tr th {\n",
       "        vertical-align: top;\n",
       "    }\n",
       "\n",
       "    .dataframe thead th {\n",
       "        text-align: right;\n",
       "    }\n",
       "</style>\n",
       "<table border=\"1\" class=\"dataframe\">\n",
       "  <thead>\n",
       "    <tr style=\"text-align: right;\">\n",
       "      <th></th>\n",
       "      <th>FacilityId</th>\n",
       "      <th>FacilityName</th>\n",
       "    </tr>\n",
       "  </thead>\n",
       "  <tbody>\n",
       "    <tr>\n",
       "      <th>0</th>\n",
       "      <td>FA0001345</td>\n",
       "      <td>A&amp;B LIQUOR</td>\n",
       "    </tr>\n",
       "    <tr>\n",
       "      <th>1</th>\n",
       "      <td>FA0022329</td>\n",
       "      <td>ACE SUSHI @SAVE MART 604</td>\n",
       "    </tr>\n",
       "    <tr>\n",
       "      <th>2</th>\n",
       "      <td>FA0019474</td>\n",
       "      <td>ACOUSTIC EVENTS</td>\n",
       "    </tr>\n",
       "    <tr>\n",
       "      <th>3</th>\n",
       "      <td>FA0014014</td>\n",
       "      <td>AFC SUSHI / HOT WOK @ BEL AIR #526</td>\n",
       "    </tr>\n",
       "    <tr>\n",
       "      <th>4</th>\n",
       "      <td>FA0014013</td>\n",
       "      <td>AFC SUSHI / HOT WOK @ RALEY'S #206</td>\n",
       "    </tr>\n",
       "    <tr>\n",
       "      <th>5</th>\n",
       "      <td>FA0014015</td>\n",
       "      <td>AFC SUSHI / HOT WOK @ RALEY'S #448</td>\n",
       "    </tr>\n",
       "    <tr>\n",
       "      <th>6</th>\n",
       "      <td>FA0010191</td>\n",
       "      <td>AFC SUSHI @ SAFEWAY #1205</td>\n",
       "    </tr>\n",
       "    <tr>\n",
       "      <th>7</th>\n",
       "      <td>FA0010190</td>\n",
       "      <td>AFC SUSHI @ SAFEWAY #1561</td>\n",
       "    </tr>\n",
       "    <tr>\n",
       "      <th>8</th>\n",
       "      <td>FA0018619</td>\n",
       "      <td>AFC TIK TOK WOK @ SAFEWAY #1205</td>\n",
       "    </tr>\n",
       "    <tr>\n",
       "      <th>9</th>\n",
       "      <td>FA0012949</td>\n",
       "      <td>AFRIDI FOOD COMPANY</td>\n",
       "    </tr>\n",
       "    <tr>\n",
       "      <th>10</th>\n",
       "      <td>FA0022047</td>\n",
       "      <td>AFTER HOURS BOBA &amp; TEA</td>\n",
       "    </tr>\n",
       "    <tr>\n",
       "      <th>11</th>\n",
       "      <td>FA0001050</td>\n",
       "      <td>AGGIE LIQUOR</td>\n",
       "    </tr>\n",
       "    <tr>\n",
       "      <th>12</th>\n",
       "      <td>FA0021027</td>\n",
       "      <td>AGTECH INNOVATION ALLIANCE</td>\n",
       "    </tr>\n",
       "    <tr>\n",
       "      <th>13</th>\n",
       "      <td>FA0005895</td>\n",
       "      <td>AISLE 1 #2576</td>\n",
       "    </tr>\n",
       "    <tr>\n",
       "      <th>14</th>\n",
       "      <td>FA0017313</td>\n",
       "      <td>AJ HUNDAL MART</td>\n",
       "    </tr>\n",
       "    <tr>\n",
       "      <th>15</th>\n",
       "      <td>FA0020303</td>\n",
       "      <td>AKIRA COFFEE &amp; TEA</td>\n",
       "    </tr>\n",
       "    <tr>\n",
       "      <th>16</th>\n",
       "      <td>FA0001973</td>\n",
       "      <td>ALI BABA RESTAURANT</td>\n",
       "    </tr>\n",
       "    <tr>\n",
       "      <th>17</th>\n",
       "      <td>FA0015993</td>\n",
       "      <td>ALL SEASONS ALL REASONS CATERING</td>\n",
       "    </tr>\n",
       "    <tr>\n",
       "      <th>18</th>\n",
       "      <td>FA0019796</td>\n",
       "      <td>ALOHA POKEE &amp; RAMEN</td>\n",
       "    </tr>\n",
       "    <tr>\n",
       "      <th>19</th>\n",
       "      <td>FA0002033</td>\n",
       "      <td>ALYCE NORMAN SCHOOL</td>\n",
       "    </tr>\n",
       "    <tr>\n",
       "      <th>20</th>\n",
       "      <td>FA0002270</td>\n",
       "      <td>AM/PM MINI MARKET #5731- FOOD</td>\n",
       "    </tr>\n",
       "    <tr>\n",
       "      <th>21</th>\n",
       "      <td>FA0020398</td>\n",
       "      <td>AMY LOVES MUSTARD</td>\n",
       "    </tr>\n",
       "    <tr>\n",
       "      <th>22</th>\n",
       "      <td>FA0021707</td>\n",
       "      <td>ANAR PERSIAN KITCHEN</td>\n",
       "    </tr>\n",
       "    <tr>\n",
       "      <th>23</th>\n",
       "      <td>FA0012414</td>\n",
       "      <td>ANDERSON FAMILY CATERING BBQ</td>\n",
       "    </tr>\n",
       "    <tr>\n",
       "      <th>24</th>\n",
       "      <td>FA0009436</td>\n",
       "      <td>ANDERSON GAS &amp; MINI MART - FOOD</td>\n",
       "    </tr>\n",
       "    <tr>\n",
       "      <th>25</th>\n",
       "      <td>FA0002159</td>\n",
       "      <td>ANDERSON ROAD SHELL - FOOD</td>\n",
       "    </tr>\n",
       "    <tr>\n",
       "      <th>26</th>\n",
       "      <td>FA0002192</td>\n",
       "      <td>ANDY'S ARCO - FOOD</td>\n",
       "    </tr>\n",
       "    <tr>\n",
       "      <th>27</th>\n",
       "      <td>FA0020747</td>\n",
       "      <td>ANTOJITOS JAIMITO #4TB1720</td>\n",
       "    </tr>\n",
       "    <tr>\n",
       "      <th>28</th>\n",
       "      <td>FA0020438</td>\n",
       "      <td>APNA BAZAAR</td>\n",
       "    </tr>\n",
       "    <tr>\n",
       "      <th>29</th>\n",
       "      <td>FA0005596</td>\n",
       "      <td>APPLEBEE'S - WOODLAND</td>\n",
       "    </tr>\n",
       "    <tr>\n",
       "      <th>30</th>\n",
       "      <td>FA0016070</td>\n",
       "      <td>ARCO AMPM GAS STATION</td>\n",
       "    </tr>\n",
       "    <tr>\n",
       "      <th>31</th>\n",
       "      <td>FA0001104</td>\n",
       "      <td>ARIANA FOOD MARKET</td>\n",
       "    </tr>\n",
       "    <tr>\n",
       "      <th>32</th>\n",
       "      <td>FA0020258</td>\n",
       "      <td>ARMADILLO MUSIC INC.</td>\n",
       "    </tr>\n",
       "    <tr>\n",
       "      <th>33</th>\n",
       "      <td>FA0021921</td>\n",
       "      <td>ASOCIACION LOS CAPORALES - ARENA CONCESSION</td>\n",
       "    </tr>\n",
       "    <tr>\n",
       "      <th>34</th>\n",
       "      <td>FA0022508</td>\n",
       "      <td>ATLAS CRAFT COFFEE</td>\n",
       "    </tr>\n",
       "    <tr>\n",
       "      <th>35</th>\n",
       "      <td>FA0020819</td>\n",
       "      <td>AUNTIE YASY'S GLUTEN-FREE GOODIES &amp; MEAL DELIV...</td>\n",
       "    </tr>\n",
       "    <tr>\n",
       "      <th>36</th>\n",
       "      <td>FA0022104</td>\n",
       "      <td>AUTHENTIC INDIA</td>\n",
       "    </tr>\n",
       "    <tr>\n",
       "      <th>37</th>\n",
       "      <td>FA0021320</td>\n",
       "      <td>AVOCADO TOAST</td>\n",
       "    </tr>\n",
       "    <tr>\n",
       "      <th>38</th>\n",
       "      <td>FA0001628</td>\n",
       "      <td>AY! JALISCO TAQUERIA #1</td>\n",
       "    </tr>\n",
       "  </tbody>\n",
       "</table>\n",
       "</div>"
      ],
      "text/plain": [
       "   FacilityId                                       FacilityName\n",
       "0   FA0001345                                         A&B LIQUOR\n",
       "1   FA0022329                           ACE SUSHI @SAVE MART 604\n",
       "2   FA0019474                                    ACOUSTIC EVENTS\n",
       "3   FA0014014                 AFC SUSHI / HOT WOK @ BEL AIR #526\n",
       "4   FA0014013                 AFC SUSHI / HOT WOK @ RALEY'S #206\n",
       "5   FA0014015                 AFC SUSHI / HOT WOK @ RALEY'S #448\n",
       "6   FA0010191                          AFC SUSHI @ SAFEWAY #1205\n",
       "7   FA0010190                          AFC SUSHI @ SAFEWAY #1561\n",
       "8   FA0018619                    AFC TIK TOK WOK @ SAFEWAY #1205\n",
       "9   FA0012949                                AFRIDI FOOD COMPANY\n",
       "10  FA0022047                             AFTER HOURS BOBA & TEA\n",
       "11  FA0001050                                       AGGIE LIQUOR\n",
       "12  FA0021027                         AGTECH INNOVATION ALLIANCE\n",
       "13  FA0005895                                      AISLE 1 #2576\n",
       "14  FA0017313                                     AJ HUNDAL MART\n",
       "15  FA0020303                                 AKIRA COFFEE & TEA\n",
       "16  FA0001973                                ALI BABA RESTAURANT\n",
       "17  FA0015993                   ALL SEASONS ALL REASONS CATERING\n",
       "18  FA0019796                                ALOHA POKEE & RAMEN\n",
       "19  FA0002033                                ALYCE NORMAN SCHOOL\n",
       "20  FA0002270                      AM/PM MINI MARKET #5731- FOOD\n",
       "21  FA0020398                                  AMY LOVES MUSTARD\n",
       "22  FA0021707                               ANAR PERSIAN KITCHEN\n",
       "23  FA0012414                       ANDERSON FAMILY CATERING BBQ\n",
       "24  FA0009436                    ANDERSON GAS & MINI MART - FOOD\n",
       "25  FA0002159                         ANDERSON ROAD SHELL - FOOD\n",
       "26  FA0002192                                 ANDY'S ARCO - FOOD\n",
       "27  FA0020747                         ANTOJITOS JAIMITO #4TB1720\n",
       "28  FA0020438                                        APNA BAZAAR\n",
       "29  FA0005596                              APPLEBEE'S - WOODLAND\n",
       "30  FA0016070                              ARCO AMPM GAS STATION\n",
       "31  FA0001104                                 ARIANA FOOD MARKET\n",
       "32  FA0020258                               ARMADILLO MUSIC INC.\n",
       "33  FA0021921        ASOCIACION LOS CAPORALES - ARENA CONCESSION\n",
       "34  FA0022508                                 ATLAS CRAFT COFFEE\n",
       "35  FA0020819  AUNTIE YASY'S GLUTEN-FREE GOODIES & MEAL DELIV...\n",
       "36  FA0022104                                    AUTHENTIC INDIA\n",
       "37  FA0021320                                      AVOCADO TOAST\n",
       "38  FA0001628                            AY! JALISCO TAQUERIA #1"
      ]
     },
     "execution_count": 42,
     "metadata": {},
     "output_type": "execute_result"
    }
   ],
   "source": [
    "fetch_FacilityID('a')"
   ]
  },
  {
   "cell_type": "code",
   "execution_count": null,
   "id": "77e829ac",
   "metadata": {},
   "outputs": [],
   "source": [
    "import time"
   ]
  },
  {
   "cell_type": "code",
   "execution_count": 47,
   "id": "da42b735",
   "metadata": {},
   "outputs": [
    {
     "data": {
      "text/plain": [
       "['a', 'b']"
      ]
     },
     "execution_count": 47,
     "metadata": {},
     "output_type": "execute_result"
    }
   ],
   "source": [
    "[letter for letter in map(chr, range(97, 99))]"
   ]
  },
  {
   "cell_type": "code",
   "execution_count": 48,
   "id": "594f93e0",
   "metadata": {},
   "outputs": [],
   "source": [
    "def get_violations(): \n",
    "    violations = {}\n",
    "    for letter in map(chr, range(97, 99)): # map(chr, range(97, 123)) takes too long\n",
    "        time.sleep(0.05) # sleep until making a request for each letter\n",
    "        facility_table = fetch_FacilityID(letter)\n",
    "        for index in range(facility_table.shape[0]): # for all facilities returned for this letter\n",
    "            FacilityId, FacilityName = facility_table.iloc[index]\n",
    "            time.sleep(0.1) # sleep again for each individual request\n",
    "            ProgramId = fetch_ProgramId(FacilityId)\n",
    "            print(FacilityName)\n",
    "            violations[FacilityName] = fetch_violations(ProgramId)\n",
    "    return(violations)"
   ]
  },
  {
   "cell_type": "code",
   "execution_count": 49,
   "id": "e0b74727",
   "metadata": {},
   "outputs": [
    {
     "name": "stdout",
     "output_type": "stream",
     "text": [
      "A&B LIQUOR\n"
     ]
    },
    {
     "ename": "KeyError",
     "evalue": "'violations'",
     "output_type": "error",
     "traceback": [
      "\u001b[0;31m---------------------------------------------------------------------------\u001b[0m",
      "\u001b[0;31mKeyError\u001b[0m                                  Traceback (most recent call last)",
      "\u001b[0;32m~/opt/anaconda3/lib/python3.9/site-packages/pandas/core/indexes/base.py\u001b[0m in \u001b[0;36mget_loc\u001b[0;34m(self, key, method, tolerance)\u001b[0m\n\u001b[1;32m   3799\u001b[0m             \u001b[0;32mtry\u001b[0m\u001b[0;34m:\u001b[0m\u001b[0;34m\u001b[0m\u001b[0;34m\u001b[0m\u001b[0m\n\u001b[0;32m-> 3800\u001b[0;31m                 \u001b[0;32mreturn\u001b[0m \u001b[0mself\u001b[0m\u001b[0;34m.\u001b[0m\u001b[0m_engine\u001b[0m\u001b[0;34m.\u001b[0m\u001b[0mget_loc\u001b[0m\u001b[0;34m(\u001b[0m\u001b[0mcasted_key\u001b[0m\u001b[0;34m)\u001b[0m\u001b[0;34m\u001b[0m\u001b[0;34m\u001b[0m\u001b[0m\n\u001b[0m\u001b[1;32m   3801\u001b[0m             \u001b[0;32mexcept\u001b[0m \u001b[0mKeyError\u001b[0m \u001b[0;32mas\u001b[0m \u001b[0merr\u001b[0m\u001b[0;34m:\u001b[0m\u001b[0;34m\u001b[0m\u001b[0;34m\u001b[0m\u001b[0m\n",
      "\u001b[0;32m~/opt/anaconda3/lib/python3.9/site-packages/pandas/_libs/index.pyx\u001b[0m in \u001b[0;36mpandas._libs.index.IndexEngine.get_loc\u001b[0;34m()\u001b[0m\n",
      "\u001b[0;32m~/opt/anaconda3/lib/python3.9/site-packages/pandas/_libs/index.pyx\u001b[0m in \u001b[0;36mpandas._libs.index.IndexEngine.get_loc\u001b[0;34m()\u001b[0m\n",
      "\u001b[0;32mpandas/_libs/hashtable_class_helper.pxi\u001b[0m in \u001b[0;36mpandas._libs.hashtable.PyObjectHashTable.get_item\u001b[0;34m()\u001b[0m\n",
      "\u001b[0;32mpandas/_libs/hashtable_class_helper.pxi\u001b[0m in \u001b[0;36mpandas._libs.hashtable.PyObjectHashTable.get_item\u001b[0;34m()\u001b[0m\n",
      "\u001b[0;31mKeyError\u001b[0m: 'violations'",
      "\nThe above exception was the direct cause of the following exception:\n",
      "\u001b[0;31mKeyError\u001b[0m                                  Traceback (most recent call last)",
      "\u001b[0;32m/var/folders/fh/hvkm2z9n7631q5058px_kqg80000gr/T/ipykernel_77845/1089846247.py\u001b[0m in \u001b[0;36m<module>\u001b[0;34m\u001b[0m\n\u001b[0;32m----> 1\u001b[0;31m \u001b[0mviolations\u001b[0m \u001b[0;34m=\u001b[0m \u001b[0mget_violations\u001b[0m\u001b[0;34m(\u001b[0m\u001b[0;34m)\u001b[0m\u001b[0;34m\u001b[0m\u001b[0;34m\u001b[0m\u001b[0m\n\u001b[0m",
      "\u001b[0;32m/var/folders/fh/hvkm2z9n7631q5058px_kqg80000gr/T/ipykernel_77845/3576045064.py\u001b[0m in \u001b[0;36mget_violations\u001b[0;34m()\u001b[0m\n\u001b[1;32m      9\u001b[0m             \u001b[0mProgramId\u001b[0m \u001b[0;34m=\u001b[0m \u001b[0mfetch_ProgramId\u001b[0m\u001b[0;34m(\u001b[0m\u001b[0mFacilityId\u001b[0m\u001b[0;34m)\u001b[0m\u001b[0;34m\u001b[0m\u001b[0;34m\u001b[0m\u001b[0m\n\u001b[1;32m     10\u001b[0m             \u001b[0mprint\u001b[0m\u001b[0;34m(\u001b[0m\u001b[0mFacilityName\u001b[0m\u001b[0;34m)\u001b[0m\u001b[0;34m\u001b[0m\u001b[0;34m\u001b[0m\u001b[0m\n\u001b[0;32m---> 11\u001b[0;31m             \u001b[0mviolations\u001b[0m\u001b[0;34m[\u001b[0m\u001b[0mFacilityName\u001b[0m\u001b[0;34m]\u001b[0m \u001b[0;34m=\u001b[0m \u001b[0mfetch_violations\u001b[0m\u001b[0;34m(\u001b[0m\u001b[0mProgramId\u001b[0m\u001b[0;34m)\u001b[0m\u001b[0;34m\u001b[0m\u001b[0;34m\u001b[0m\u001b[0m\n\u001b[0m\u001b[1;32m     12\u001b[0m     \u001b[0;32mreturn\u001b[0m\u001b[0;34m(\u001b[0m\u001b[0mviolations\u001b[0m\u001b[0;34m)\u001b[0m\u001b[0;34m\u001b[0m\u001b[0;34m\u001b[0m\u001b[0m\n",
      "\u001b[0;32m/var/folders/fh/hvkm2z9n7631q5058px_kqg80000gr/T/ipykernel_77845/1645051990.py\u001b[0m in \u001b[0;36mfetch_violations\u001b[0;34m(ProgramId)\u001b[0m\n\u001b[1;32m      9\u001b[0m     \u001b[0mresults_df\u001b[0m \u001b[0;34m=\u001b[0m \u001b[0mpd\u001b[0m\u001b[0;34m.\u001b[0m\u001b[0mDataFrame\u001b[0m\u001b[0;34m(\u001b[0m\u001b[0mresults\u001b[0m\u001b[0;34m)\u001b[0m\u001b[0;34m\u001b[0m\u001b[0;34m\u001b[0m\u001b[0m\n\u001b[1;32m     10\u001b[0m     violations = [\n\u001b[0;32m---> 11\u001b[0;31m         \u001b[0mresults_df\u001b[0m\u001b[0;34m[\u001b[0m\u001b[0;34m'violations'\u001b[0m\u001b[0;34m]\u001b[0m\u001b[0;34m[\u001b[0m\u001b[0;36m0\u001b[0m\u001b[0;34m]\u001b[0m\u001b[0;34m[\u001b[0m\u001b[0mi\u001b[0m\u001b[0;34m]\u001b[0m\u001b[0;34m[\u001b[0m\u001b[0;34m'violation_description'\u001b[0m\u001b[0;34m]\u001b[0m \u001b[0;32mfor\u001b[0m \u001b[0mi\u001b[0m \u001b[0;32min\u001b[0m \u001b[0mrange\u001b[0m\u001b[0;34m(\u001b[0m\u001b[0mlen\u001b[0m\u001b[0;34m(\u001b[0m\u001b[0mresults_df\u001b[0m\u001b[0;34m[\u001b[0m\u001b[0;34m'violations'\u001b[0m\u001b[0;34m]\u001b[0m\u001b[0;34m[\u001b[0m\u001b[0;36m0\u001b[0m\u001b[0;34m]\u001b[0m\u001b[0;34m)\u001b[0m\u001b[0;34m)\u001b[0m\u001b[0;34m\u001b[0m\u001b[0;34m\u001b[0m\u001b[0m\n\u001b[0m\u001b[1;32m     12\u001b[0m     ]\n\u001b[1;32m     13\u001b[0m     \u001b[0;32mreturn\u001b[0m\u001b[0;34m(\u001b[0m\u001b[0mviolations\u001b[0m\u001b[0;34m)\u001b[0m\u001b[0;34m\u001b[0m\u001b[0;34m\u001b[0m\u001b[0m\n",
      "\u001b[0;32m~/opt/anaconda3/lib/python3.9/site-packages/pandas/core/frame.py\u001b[0m in \u001b[0;36m__getitem__\u001b[0;34m(self, key)\u001b[0m\n\u001b[1;32m   3803\u001b[0m             \u001b[0;32mif\u001b[0m \u001b[0mself\u001b[0m\u001b[0;34m.\u001b[0m\u001b[0mcolumns\u001b[0m\u001b[0;34m.\u001b[0m\u001b[0mnlevels\u001b[0m \u001b[0;34m>\u001b[0m \u001b[0;36m1\u001b[0m\u001b[0;34m:\u001b[0m\u001b[0;34m\u001b[0m\u001b[0;34m\u001b[0m\u001b[0m\n\u001b[1;32m   3804\u001b[0m                 \u001b[0;32mreturn\u001b[0m \u001b[0mself\u001b[0m\u001b[0;34m.\u001b[0m\u001b[0m_getitem_multilevel\u001b[0m\u001b[0;34m(\u001b[0m\u001b[0mkey\u001b[0m\u001b[0;34m)\u001b[0m\u001b[0;34m\u001b[0m\u001b[0;34m\u001b[0m\u001b[0m\n\u001b[0;32m-> 3805\u001b[0;31m             \u001b[0mindexer\u001b[0m \u001b[0;34m=\u001b[0m \u001b[0mself\u001b[0m\u001b[0;34m.\u001b[0m\u001b[0mcolumns\u001b[0m\u001b[0;34m.\u001b[0m\u001b[0mget_loc\u001b[0m\u001b[0;34m(\u001b[0m\u001b[0mkey\u001b[0m\u001b[0;34m)\u001b[0m\u001b[0;34m\u001b[0m\u001b[0;34m\u001b[0m\u001b[0m\n\u001b[0m\u001b[1;32m   3806\u001b[0m             \u001b[0;32mif\u001b[0m \u001b[0mis_integer\u001b[0m\u001b[0;34m(\u001b[0m\u001b[0mindexer\u001b[0m\u001b[0;34m)\u001b[0m\u001b[0;34m:\u001b[0m\u001b[0;34m\u001b[0m\u001b[0;34m\u001b[0m\u001b[0m\n\u001b[1;32m   3807\u001b[0m                 \u001b[0mindexer\u001b[0m \u001b[0;34m=\u001b[0m \u001b[0;34m[\u001b[0m\u001b[0mindexer\u001b[0m\u001b[0;34m]\u001b[0m\u001b[0;34m\u001b[0m\u001b[0;34m\u001b[0m\u001b[0m\n",
      "\u001b[0;32m~/opt/anaconda3/lib/python3.9/site-packages/pandas/core/indexes/base.py\u001b[0m in \u001b[0;36mget_loc\u001b[0;34m(self, key, method, tolerance)\u001b[0m\n\u001b[1;32m   3800\u001b[0m                 \u001b[0;32mreturn\u001b[0m \u001b[0mself\u001b[0m\u001b[0;34m.\u001b[0m\u001b[0m_engine\u001b[0m\u001b[0;34m.\u001b[0m\u001b[0mget_loc\u001b[0m\u001b[0;34m(\u001b[0m\u001b[0mcasted_key\u001b[0m\u001b[0;34m)\u001b[0m\u001b[0;34m\u001b[0m\u001b[0;34m\u001b[0m\u001b[0m\n\u001b[1;32m   3801\u001b[0m             \u001b[0;32mexcept\u001b[0m \u001b[0mKeyError\u001b[0m \u001b[0;32mas\u001b[0m \u001b[0merr\u001b[0m\u001b[0;34m:\u001b[0m\u001b[0;34m\u001b[0m\u001b[0;34m\u001b[0m\u001b[0m\n\u001b[0;32m-> 3802\u001b[0;31m                 \u001b[0;32mraise\u001b[0m \u001b[0mKeyError\u001b[0m\u001b[0;34m(\u001b[0m\u001b[0mkey\u001b[0m\u001b[0;34m)\u001b[0m \u001b[0;32mfrom\u001b[0m \u001b[0merr\u001b[0m\u001b[0;34m\u001b[0m\u001b[0;34m\u001b[0m\u001b[0m\n\u001b[0m\u001b[1;32m   3803\u001b[0m             \u001b[0;32mexcept\u001b[0m \u001b[0mTypeError\u001b[0m\u001b[0;34m:\u001b[0m\u001b[0;34m\u001b[0m\u001b[0;34m\u001b[0m\u001b[0m\n\u001b[1;32m   3804\u001b[0m                 \u001b[0;31m# If we have a listlike key, _check_indexing_error will raise\u001b[0m\u001b[0;34m\u001b[0m\u001b[0;34m\u001b[0m\u001b[0m\n",
      "\u001b[0;31mKeyError\u001b[0m: 'violations'"
     ]
    }
   ],
   "source": [
    "violations = get_violations()"
   ]
  },
  {
   "cell_type": "code",
   "execution_count": 50,
   "id": "14c15c81",
   "metadata": {},
   "outputs": [
    {
     "data": {
      "text/plain": [
       "'PR0000623'"
      ]
     },
     "execution_count": 50,
     "metadata": {},
     "output_type": "execute_result"
    }
   ],
   "source": [
    "ProgramId = fetch_ProgramId('FA0001345')            \n",
    "ProgramId"
   ]
  },
  {
   "cell_type": "code",
   "execution_count": 51,
   "id": "1396c86e",
   "metadata": {},
   "outputs": [
    {
     "ename": "KeyError",
     "evalue": "'violations'",
     "output_type": "error",
     "traceback": [
      "\u001b[0;31m---------------------------------------------------------------------------\u001b[0m",
      "\u001b[0;31mKeyError\u001b[0m                                  Traceback (most recent call last)",
      "\u001b[0;32m~/opt/anaconda3/lib/python3.9/site-packages/pandas/core/indexes/base.py\u001b[0m in \u001b[0;36mget_loc\u001b[0;34m(self, key, method, tolerance)\u001b[0m\n\u001b[1;32m   3799\u001b[0m             \u001b[0;32mtry\u001b[0m\u001b[0;34m:\u001b[0m\u001b[0;34m\u001b[0m\u001b[0;34m\u001b[0m\u001b[0m\n\u001b[0;32m-> 3800\u001b[0;31m                 \u001b[0;32mreturn\u001b[0m \u001b[0mself\u001b[0m\u001b[0;34m.\u001b[0m\u001b[0m_engine\u001b[0m\u001b[0;34m.\u001b[0m\u001b[0mget_loc\u001b[0m\u001b[0;34m(\u001b[0m\u001b[0mcasted_key\u001b[0m\u001b[0;34m)\u001b[0m\u001b[0;34m\u001b[0m\u001b[0;34m\u001b[0m\u001b[0m\n\u001b[0m\u001b[1;32m   3801\u001b[0m             \u001b[0;32mexcept\u001b[0m \u001b[0mKeyError\u001b[0m \u001b[0;32mas\u001b[0m \u001b[0merr\u001b[0m\u001b[0;34m:\u001b[0m\u001b[0;34m\u001b[0m\u001b[0;34m\u001b[0m\u001b[0m\n",
      "\u001b[0;32m~/opt/anaconda3/lib/python3.9/site-packages/pandas/_libs/index.pyx\u001b[0m in \u001b[0;36mpandas._libs.index.IndexEngine.get_loc\u001b[0;34m()\u001b[0m\n",
      "\u001b[0;32m~/opt/anaconda3/lib/python3.9/site-packages/pandas/_libs/index.pyx\u001b[0m in \u001b[0;36mpandas._libs.index.IndexEngine.get_loc\u001b[0;34m()\u001b[0m\n",
      "\u001b[0;32mpandas/_libs/hashtable_class_helper.pxi\u001b[0m in \u001b[0;36mpandas._libs.hashtable.PyObjectHashTable.get_item\u001b[0;34m()\u001b[0m\n",
      "\u001b[0;32mpandas/_libs/hashtable_class_helper.pxi\u001b[0m in \u001b[0;36mpandas._libs.hashtable.PyObjectHashTable.get_item\u001b[0;34m()\u001b[0m\n",
      "\u001b[0;31mKeyError\u001b[0m: 'violations'",
      "\nThe above exception was the direct cause of the following exception:\n",
      "\u001b[0;31mKeyError\u001b[0m                                  Traceback (most recent call last)",
      "\u001b[0;32m/var/folders/fh/hvkm2z9n7631q5058px_kqg80000gr/T/ipykernel_77845/899255379.py\u001b[0m in \u001b[0;36m<module>\u001b[0;34m\u001b[0m\n\u001b[0;32m----> 1\u001b[0;31m \u001b[0mfetch_violations\u001b[0m\u001b[0;34m(\u001b[0m\u001b[0;34m'PR0000623'\u001b[0m\u001b[0;34m)\u001b[0m\u001b[0;34m\u001b[0m\u001b[0;34m\u001b[0m\u001b[0m\n\u001b[0m",
      "\u001b[0;32m/var/folders/fh/hvkm2z9n7631q5058px_kqg80000gr/T/ipykernel_77845/1645051990.py\u001b[0m in \u001b[0;36mfetch_violations\u001b[0;34m(ProgramId)\u001b[0m\n\u001b[1;32m      9\u001b[0m     \u001b[0mresults_df\u001b[0m \u001b[0;34m=\u001b[0m \u001b[0mpd\u001b[0m\u001b[0;34m.\u001b[0m\u001b[0mDataFrame\u001b[0m\u001b[0;34m(\u001b[0m\u001b[0mresults\u001b[0m\u001b[0;34m)\u001b[0m\u001b[0;34m\u001b[0m\u001b[0;34m\u001b[0m\u001b[0m\n\u001b[1;32m     10\u001b[0m     violations = [\n\u001b[0;32m---> 11\u001b[0;31m         \u001b[0mresults_df\u001b[0m\u001b[0;34m[\u001b[0m\u001b[0;34m'violations'\u001b[0m\u001b[0;34m]\u001b[0m\u001b[0;34m[\u001b[0m\u001b[0;36m0\u001b[0m\u001b[0;34m]\u001b[0m\u001b[0;34m[\u001b[0m\u001b[0mi\u001b[0m\u001b[0;34m]\u001b[0m\u001b[0;34m[\u001b[0m\u001b[0;34m'violation_description'\u001b[0m\u001b[0;34m]\u001b[0m \u001b[0;32mfor\u001b[0m \u001b[0mi\u001b[0m \u001b[0;32min\u001b[0m \u001b[0mrange\u001b[0m\u001b[0;34m(\u001b[0m\u001b[0mlen\u001b[0m\u001b[0;34m(\u001b[0m\u001b[0mresults_df\u001b[0m\u001b[0;34m[\u001b[0m\u001b[0;34m'violations'\u001b[0m\u001b[0;34m]\u001b[0m\u001b[0;34m[\u001b[0m\u001b[0;36m0\u001b[0m\u001b[0;34m]\u001b[0m\u001b[0;34m)\u001b[0m\u001b[0;34m)\u001b[0m\u001b[0;34m\u001b[0m\u001b[0;34m\u001b[0m\u001b[0m\n\u001b[0m\u001b[1;32m     12\u001b[0m     ]\n\u001b[1;32m     13\u001b[0m     \u001b[0;32mreturn\u001b[0m\u001b[0;34m(\u001b[0m\u001b[0mviolations\u001b[0m\u001b[0;34m)\u001b[0m\u001b[0;34m\u001b[0m\u001b[0;34m\u001b[0m\u001b[0m\n",
      "\u001b[0;32m~/opt/anaconda3/lib/python3.9/site-packages/pandas/core/frame.py\u001b[0m in \u001b[0;36m__getitem__\u001b[0;34m(self, key)\u001b[0m\n\u001b[1;32m   3803\u001b[0m             \u001b[0;32mif\u001b[0m \u001b[0mself\u001b[0m\u001b[0;34m.\u001b[0m\u001b[0mcolumns\u001b[0m\u001b[0;34m.\u001b[0m\u001b[0mnlevels\u001b[0m \u001b[0;34m>\u001b[0m \u001b[0;36m1\u001b[0m\u001b[0;34m:\u001b[0m\u001b[0;34m\u001b[0m\u001b[0;34m\u001b[0m\u001b[0m\n\u001b[1;32m   3804\u001b[0m                 \u001b[0;32mreturn\u001b[0m \u001b[0mself\u001b[0m\u001b[0;34m.\u001b[0m\u001b[0m_getitem_multilevel\u001b[0m\u001b[0;34m(\u001b[0m\u001b[0mkey\u001b[0m\u001b[0;34m)\u001b[0m\u001b[0;34m\u001b[0m\u001b[0;34m\u001b[0m\u001b[0m\n\u001b[0;32m-> 3805\u001b[0;31m             \u001b[0mindexer\u001b[0m \u001b[0;34m=\u001b[0m \u001b[0mself\u001b[0m\u001b[0;34m.\u001b[0m\u001b[0mcolumns\u001b[0m\u001b[0;34m.\u001b[0m\u001b[0mget_loc\u001b[0m\u001b[0;34m(\u001b[0m\u001b[0mkey\u001b[0m\u001b[0;34m)\u001b[0m\u001b[0;34m\u001b[0m\u001b[0;34m\u001b[0m\u001b[0m\n\u001b[0m\u001b[1;32m   3806\u001b[0m             \u001b[0;32mif\u001b[0m \u001b[0mis_integer\u001b[0m\u001b[0;34m(\u001b[0m\u001b[0mindexer\u001b[0m\u001b[0;34m)\u001b[0m\u001b[0;34m:\u001b[0m\u001b[0;34m\u001b[0m\u001b[0;34m\u001b[0m\u001b[0m\n\u001b[1;32m   3807\u001b[0m                 \u001b[0mindexer\u001b[0m \u001b[0;34m=\u001b[0m \u001b[0;34m[\u001b[0m\u001b[0mindexer\u001b[0m\u001b[0;34m]\u001b[0m\u001b[0;34m\u001b[0m\u001b[0;34m\u001b[0m\u001b[0m\n",
      "\u001b[0;32m~/opt/anaconda3/lib/python3.9/site-packages/pandas/core/indexes/base.py\u001b[0m in \u001b[0;36mget_loc\u001b[0;34m(self, key, method, tolerance)\u001b[0m\n\u001b[1;32m   3800\u001b[0m                 \u001b[0;32mreturn\u001b[0m \u001b[0mself\u001b[0m\u001b[0;34m.\u001b[0m\u001b[0m_engine\u001b[0m\u001b[0;34m.\u001b[0m\u001b[0mget_loc\u001b[0m\u001b[0;34m(\u001b[0m\u001b[0mcasted_key\u001b[0m\u001b[0;34m)\u001b[0m\u001b[0;34m\u001b[0m\u001b[0;34m\u001b[0m\u001b[0m\n\u001b[1;32m   3801\u001b[0m             \u001b[0;32mexcept\u001b[0m \u001b[0mKeyError\u001b[0m \u001b[0;32mas\u001b[0m \u001b[0merr\u001b[0m\u001b[0;34m:\u001b[0m\u001b[0;34m\u001b[0m\u001b[0;34m\u001b[0m\u001b[0m\n\u001b[0;32m-> 3802\u001b[0;31m                 \u001b[0;32mraise\u001b[0m \u001b[0mKeyError\u001b[0m\u001b[0;34m(\u001b[0m\u001b[0mkey\u001b[0m\u001b[0;34m)\u001b[0m \u001b[0;32mfrom\u001b[0m \u001b[0merr\u001b[0m\u001b[0;34m\u001b[0m\u001b[0;34m\u001b[0m\u001b[0m\n\u001b[0m\u001b[1;32m   3803\u001b[0m             \u001b[0;32mexcept\u001b[0m \u001b[0mTypeError\u001b[0m\u001b[0;34m:\u001b[0m\u001b[0;34m\u001b[0m\u001b[0;34m\u001b[0m\u001b[0m\n\u001b[1;32m   3804\u001b[0m                 \u001b[0;31m# If we have a listlike key, _check_indexing_error will raise\u001b[0m\u001b[0;34m\u001b[0m\u001b[0;34m\u001b[0m\u001b[0m\n",
      "\u001b[0;31mKeyError\u001b[0m: 'violations'"
     ]
    }
   ],
   "source": [
    "fetch_violations('PR0000623')"
   ]
  },
  {
   "cell_type": "code",
   "execution_count": 52,
   "id": "f9cb86a0",
   "metadata": {},
   "outputs": [],
   "source": [
    "result = requests.get('https://yoloeco.envisionconnect.com/api/pressAgentClient/inspections', params = {\n",
    "        'PressAgentOid': 'c08cb189-894c-4c8c-b595-a5ef010226b4', \n",
    "        'ProgramId': 'PR0000623'\n",
    "})\n",
    "result.raise_for_status()"
   ]
  },
  {
   "cell_type": "code",
   "execution_count": 53,
   "id": "39ba4674",
   "metadata": {},
   "outputs": [
    {
     "data": {
      "text/plain": [
       "[]"
      ]
     },
     "execution_count": 53,
     "metadata": {},
     "output_type": "execute_result"
    }
   ],
   "source": [
    "results = result.json()\n",
    "results"
   ]
  },
  {
   "cell_type": "markdown",
   "id": "61c29782",
   "metadata": {},
   "source": [
    "Lets check this in the browser! "
   ]
  },
  {
   "cell_type": "code",
   "execution_count": 54,
   "id": "0d8fe75e",
   "metadata": {},
   "outputs": [
    {
     "data": {
      "text/plain": [
       "['PR0000623', 'PR0069422']"
      ]
     },
     "execution_count": 54,
     "metadata": {},
     "output_type": "execute_result"
    }
   ],
   "source": [
    "result = requests.get('https://yoloeco.envisionconnect.com/api/pressAgentClient/programs', params = {\n",
    "        'PressAgentOid': 'c08cb189-894c-4c8c-b595-a5ef010226b4', \n",
    "        'FacilityID': 'FA0001345'\n",
    "    }).json()\n",
    "[result[i]['ProgramId'] for i in range(len(result))]"
   ]
  },
  {
   "cell_type": "code",
   "execution_count": 55,
   "id": "738cf605",
   "metadata": {},
   "outputs": [],
   "source": [
    "def fetch_ProgramId(FacilityID):\n",
    "    result = requests.get('https://yoloeco.envisionconnect.com/api/pressAgentClient/programs', params = {\n",
    "        'PressAgentOid': 'c08cb189-894c-4c8c-b595-a5ef010226b4', \n",
    "        'FacilityID': FacilityID\n",
    "    }).json()\n",
    "    ProgramId = [result[i]['ProgramId'] for i in range(len(result))]\n",
    "    return(ProgramId)"
   ]
  },
  {
   "cell_type": "code",
   "execution_count": 56,
   "id": "2a890753",
   "metadata": {},
   "outputs": [],
   "source": [
    "def fetch_violations(ProgramId_list):\n",
    "    violations = []\n",
    "    for ProgramId in ProgramId_list: \n",
    "        result = requests.get('https://yoloeco.envisionconnect.com/api/pressAgentClient/inspections', params = {\n",
    "            'PressAgentOid': 'c08cb189-894c-4c8c-b595-a5ef010226b4', \n",
    "            'ProgramId': ProgramId\n",
    "        }).json()\n",
    "        results_df = pd.DataFrame(result)\n",
    "        if not results_df.empty: # only append violations if there are any\n",
    "            violations.extend(\n",
    "                [results_df['violations'][0][i]['violation_description'] for i in range(len(results_df['violations'][0]))]\n",
    "            )\n",
    "    return(violations)"
   ]
  },
  {
   "cell_type": "code",
   "execution_count": 57,
   "id": "89b607ad",
   "metadata": {},
   "outputs": [
    {
     "data": {
      "text/plain": [
       "['K021 - Hot and cold water available',\n",
       " 'K039 - Thermometers provided and accurate']"
      ]
     },
     "execution_count": 57,
     "metadata": {},
     "output_type": "execute_result"
    }
   ],
   "source": [
    "fetch_violations(['PR0000623', 'PR0069422'])"
   ]
  },
  {
   "cell_type": "code",
   "execution_count": 58,
   "id": "fcf041ba",
   "metadata": {},
   "outputs": [
    {
     "name": "stdout",
     "output_type": "stream",
     "text": [
      "A&B LIQUOR\n",
      "ACE SUSHI @SAVE MART 604\n",
      "ACOUSTIC EVENTS\n",
      "AFC SUSHI / HOT WOK @ BEL AIR #526\n",
      "AFC SUSHI / HOT WOK @ RALEY'S #206\n",
      "AFC SUSHI / HOT WOK @ RALEY'S #448\n",
      "AFC SUSHI @ SAFEWAY #1205\n",
      "AFC SUSHI @ SAFEWAY #1561\n",
      "AFC TIK TOK WOK @ SAFEWAY #1205\n",
      "AFRIDI FOOD COMPANY\n",
      "AFTER HOURS BOBA & TEA\n",
      "AGGIE LIQUOR\n",
      "AGTECH INNOVATION ALLIANCE\n",
      "AISLE 1 #2576\n",
      "AJ HUNDAL MART\n",
      "AKIRA COFFEE & TEA\n",
      "ALI BABA RESTAURANT\n",
      "ALL SEASONS ALL REASONS CATERING\n",
      "ALOHA POKEE & RAMEN\n",
      "ALYCE NORMAN SCHOOL\n",
      "AM/PM MINI MARKET #5731- FOOD\n",
      "AMY LOVES MUSTARD\n",
      "ANAR PERSIAN KITCHEN\n",
      "ANDERSON FAMILY CATERING BBQ\n",
      "ANDERSON GAS & MINI MART - FOOD\n",
      "ANDERSON ROAD SHELL - FOOD\n",
      "ANDY'S ARCO - FOOD\n",
      "ANTOJITOS JAIMITO #4TB1720\n",
      "APNA BAZAAR\n",
      "APPLEBEE'S - WOODLAND\n",
      "ARCO AMPM GAS STATION\n",
      "ARIANA FOOD MARKET\n",
      "ARMADILLO MUSIC INC.\n",
      "ASOCIACION LOS CAPORALES - ARENA CONCESSION\n",
      "ATLAS CRAFT COFFEE\n",
      "AUNTIE YASY'S GLUTEN-FREE GOODIES & MEAL DELIVERY LLC\n",
      "AUTHENTIC INDIA\n",
      "AVOCADO TOAST\n",
      "AY! JALISCO TAQUERIA #1\n",
      "BABES.BUBBLES.BOARDS\n",
      "BABY O'S DONUTS\n",
      "BAKLAVA AND COFFEE\n",
      "BALLAST POINT PORTABLE #121\n",
      "BALLAST POINT PORTABLES #107\n",
      "BANGKOK CUISINE\n",
      "BARAJAS DELI\n",
      "BARE JUICES\n",
      "BASKIN-ROBBINS - DAVIS\n",
      "BASKIN-ROBBINS - WOODLAND\n",
      "BATTLE OF THE BADGES- TEMP FOOD\n",
      "BEACH HUT DELI\n",
      "BEACH HUT DELI\n",
      "BEAMER ELEMENTARY SCHOOL\n",
      "BEBER ALMONDMILK\n",
      "BEER BOX #103\n",
      "BEER GARDEN BAR\n",
      "BEL AIR #526\n",
      "BELLA BRU CAFE\n",
      "BENITO'S TACOS\n",
      "BEREZKA MARKET\n",
      "BERRYESSA GAP WINERY\n",
      "BERRYESSA SPORTING GOODS/MINI MART\n",
      "BEST WESTERN SHADOW INN\n",
      "BEST WESTERN UNIVERSITY LODGE - FOOD\n",
      "BIG KAHUNA YOGURT\n",
      "BIG LOTS #1934\n",
      "BIG WEST CATERING\n",
      "BIRCH LANE ELEM\n",
      "BIRRIERIA MOOOOY #1NG3263\n",
      "BK FOODMART 76 STORE\n",
      "BLACK BEAR DINER\n",
      "BLACK BEAR DINER\n",
      "BLACK FROG COFFEE\n",
      "BLAZE FAST FIRE'D PIZZA\n",
      "BOB'S LIQUOR -WOODLAND\n",
      "BOBBY DAZZLER'S PUMPKIN PATCH\n",
      "BOBER TEA & COFFEE\n",
      "BOGLE VINEYARDS TASTING ROOM\n",
      "BOGLE WINE CART #115\n",
      "BOSS CAFE - TEMP\n",
      "BOY SCOUT TROOP #111\n",
      "BRIDGES GRILLE\n",
      "BRIDGEWAY ISLAND ELEM SCHOOL\n",
      "BROCK ENTERPRISES DIPPIN DOTS\n",
      "BROS LIQUOR\n",
      "BROS LIQUOR\n",
      "BROS LIQUOR 1\n",
      "BRYERTON'S ROASTED ALMONDS\n",
      "BRYTE CULINARY SCHOOL\n"
     ]
    }
   ],
   "source": [
    "violations = get_violations()"
   ]
  },
  {
   "cell_type": "code",
   "execution_count": 59,
   "id": "b439fcc2",
   "metadata": {},
   "outputs": [
    {
     "data": {
      "text/plain": [
       "{'A&B LIQUOR': ['K021 - Hot and cold water available',\n",
       "  'K039 - Thermometers provided and accurate'],\n",
       " 'ACE SUSHI @SAVE MART 604': [],\n",
       " 'ACOUSTIC EVENTS': [],\n",
       " 'AFC SUSHI / HOT WOK @ BEL AIR #526': ['K022 - Sewage and wastewater properly disposed'],\n",
       " \"AFC SUSHI / HOT WOK @ RALEY'S #206\": [],\n",
       " \"AFC SUSHI / HOT WOK @ RALEY'S #448\": ['K045 - Floors, walls and ceilings: built, maintained, and clean'],\n",
       " 'AFC SUSHI @ SAFEWAY #1205': [],\n",
       " 'AFC SUSHI @ SAFEWAY #1561': ['K035 - Equipment/Utensils - approved installed clean good repair, capacity'],\n",
       " 'AFC TIK TOK WOK @ SAFEWAY #1205': ['K027 - Food separated and protected'],\n",
       " 'AFRIDI FOOD COMPANY': ['K009 - Proper cooling methods',\n",
       "  'K014 - Food contact surfaces: clean and sanitized'],\n",
       " 'AFTER HOURS BOBA & TEA': ['K006 - Adequate handwashing facilities supplied & accessible',\n",
       "  'K033 - Nonfood-contact surfaces clean'],\n",
       " 'AGGIE LIQUOR': ['K045 - Floors, walls and ceilings: built, maintained, and clean'],\n",
       " 'AGTECH INNOVATION ALLIANCE': [],\n",
       " 'AISLE 1 #2576': ['K044 - Premises personal/cleaning items vermin-proofing'],\n",
       " 'AJ HUNDAL MART': ['K001 - Demonstration of knowledge food manager certification',\n",
       "  'K014 - Food contact surfaces: clean and sanitized',\n",
       "  'K034 - Warewashing facilities: installed, maintained, used; test strips',\n",
       "  'K039 - Thermometers provided and accurate'],\n",
       " 'AKIRA COFFEE & TEA': ['K007 - Proper hot and cold holding temperatures',\n",
       "  'K008 - Time as a public health control procedures & records',\n",
       "  'K040 - Wiping cloths: properly used and stored'],\n",
       " 'ALI BABA RESTAURANT': ['K045 - Floors, walls and ceilings: built, maintained, and clean'],\n",
       " 'ALL SEASONS ALL REASONS CATERING': [],\n",
       " 'ALOHA POKEE & RAMEN': ['K006 - Adequate handwashing facilities supplied & accessible',\n",
       "  'K014 - Food contact surfaces: clean and sanitized',\n",
       "  'K018 - Compliance with variance, specialized process, & HACCP Plan'],\n",
       " 'ALYCE NORMAN SCHOOL': ['K045 - Floors, walls and ceilings: built, maintained, and clean'],\n",
       " 'AM/PM MINI MARKET #5731- FOOD': ['K029 - Toxic substances properly identified, stored, used',\n",
       "  'K039 - Thermometers provided and accurate',\n",
       "  'K040 - Wiping cloths: properly used and stored',\n",
       "  'K045 - Floors, walls and ceilings: built, maintained, and clean'],\n",
       " 'AMY LOVES MUSTARD': [],\n",
       " 'ANAR PERSIAN KITCHEN': ['K001 - Demonstration of knowledge food manager certification',\n",
       "  'K006 - Adequate handwashing facilities supplied & accessible',\n",
       "  'K027 - Food separated and protected',\n",
       "  'K030 - Food storage food storage containers identified',\n",
       "  'K032 - Food properly labeled & honestly presented',\n",
       "  'K038 - Adequate ventilation and lighting designated area, use'],\n",
       " 'ANDERSON FAMILY CATERING BBQ': [],\n",
       " 'ANDERSON GAS & MINI MART - FOOD': ['K001 - Demonstration of knowledge food manager certification',\n",
       "  'K006 - Adequate handwashing facilities supplied & accessible',\n",
       "  'K014 - Food contact surfaces: clean and sanitized',\n",
       "  'K023 - No rodents, insects, birds, or animals',\n",
       "  'K030 - Food storage food storage containers identified',\n",
       "  'K035 - Equipment/Utensils - approved installed clean good repair, capacity',\n",
       "  'K041 - Plumbing proper backflow devices',\n",
       "  'K044 - Premises personal/cleaning items vermin-proofing'],\n",
       " 'ANDERSON ROAD SHELL - FOOD': ['K007 - Proper hot and cold holding temperatures',\n",
       "  'K036 - Equipment, utensils and linens: storage and use',\n",
       "  'K044 - Premises personal/cleaning items vermin-proofing'],\n",
       " \"ANDY'S ARCO - FOOD\": ['K014 - Food contact surfaces: clean and sanitized',\n",
       "  'K033 - Nonfood-contact surfaces clean',\n",
       "  'K035 - Equipment/Utensils - approved installed clean good repair, capacity',\n",
       "  'K041 - Plumbing proper backflow devices'],\n",
       " 'ANTOJITOS JAIMITO #4TB1720': ['K006 - Adequate handwashing facilities supplied & accessible',\n",
       "  'K007 - Proper hot and cold holding temperatures',\n",
       "  'K035 - Equipment/Utensils - approved installed clean good repair, capacity',\n",
       "  'K039 - Thermometers provided and accurate'],\n",
       " 'APNA BAZAAR': ['K001 - Demonstration of knowledge food manager certification',\n",
       "  'K014 - Food contact surfaces: clean and sanitized',\n",
       "  'K019 - Consumer advisory provided for raw or undercooked foods',\n",
       "  'K026 - Approved thawing methods used, frozen food'],\n",
       " \"APPLEBEE'S - WOODLAND\": ['K023 - No rodents, insects, birds, or animals',\n",
       "  'K041 - Plumbing proper backflow devices'],\n",
       " 'ARCO AMPM GAS STATION': ['K021 - Hot and cold water available',\n",
       "  'K043 - Toilet facilities: properly constructed, supplied, cleaned'],\n",
       " 'ARIANA FOOD MARKET': [],\n",
       " 'ARMADILLO MUSIC INC.': ['K006 - Adequate handwashing facilities supplied & accessible'],\n",
       " 'ASOCIACION LOS CAPORALES - ARENA CONCESSION': ['K094 - Equipment'],\n",
       " 'ATLAS CRAFT COFFEE': [],\n",
       " \"AUNTIE YASY'S GLUTEN-FREE GOODIES & MEAL DELIVERY LLC\": [],\n",
       " 'AUTHENTIC INDIA': ['K007 - Proper hot and cold holding temperatures',\n",
       "  'K094 - Equipment'],\n",
       " 'AVOCADO TOAST': [],\n",
       " 'AY! JALISCO TAQUERIA #1': ['K005 - Hands clean and properly washed gloves used properly',\n",
       "  'K009 - Proper cooling methods'],\n",
       " 'BABES.BUBBLES.BOARDS': [],\n",
       " \"BABY O'S DONUTS\": ['K032 - Food properly labeled & honestly presented',\n",
       "  'K096 - Identification of facility'],\n",
       " 'BAKLAVA AND COFFEE': ['K006 - Adequate handwashing facilities supplied & accessible',\n",
       "  'K040 - Wiping cloths: properly used and stored',\n",
       "  'K085 - Demonstration of Knowledge'],\n",
       " 'BALLAST POINT PORTABLE #121': [],\n",
       " 'BALLAST POINT PORTABLES #107': [],\n",
       " 'BANGKOK CUISINE': ['K004 - Proper eating, tasting, drinking or tobacco use',\n",
       "  'K007 - Proper hot and cold holding temperatures',\n",
       "  'K027 - Food separated and protected',\n",
       "  'K033 - Nonfood-contact surfaces clean',\n",
       "  'K035 - Equipment/Utensils - approved installed clean good repair, capacity',\n",
       "  'K039 - Thermometers provided and accurate'],\n",
       " 'BARAJAS DELI': ['K014 - Food contact surfaces: clean and sanitized',\n",
       "  'K022 - Sewage and wastewater properly disposed',\n",
       "  'K038 - Adequate ventilation and lighting designated area, use'],\n",
       " 'BARE JUICES': ['K097 - Construction Requirements'],\n",
       " 'BASKIN-ROBBINS - DAVIS': [],\n",
       " 'BASKIN-ROBBINS - WOODLAND': ['K006 - Adequate handwashing facilities supplied & accessible',\n",
       "  'K034 - Warewashing facilities: installed, maintained, used; test strips',\n",
       "  'K035 - Equipment/Utensils - approved installed clean good repair, capacity',\n",
       "  'K041 - Plumbing proper backflow devices',\n",
       "  'K045 - Floors, walls and ceilings: built, maintained, and clean'],\n",
       " 'BATTLE OF THE BADGES- TEMP FOOD': ['K096 - Identification of facility'],\n",
       " 'BEACH HUT DELI': ['K001 - Demonstration of knowledge food manager certification',\n",
       "  'K007 - Proper hot and cold holding temperatures',\n",
       "  'K014 - Food contact surfaces: clean and sanitized'],\n",
       " 'BEAMER ELEMENTARY SCHOOL': ['K001 - Demonstration of knowledge food manager certification',\n",
       "  'K006 - Adequate handwashing facilities supplied & accessible',\n",
       "  'K014 - Food contact surfaces: clean and sanitized',\n",
       "  'K034 - Warewashing facilities: installed, maintained, used; test strips'],\n",
       " 'BEBER ALMONDMILK': ['K040 - Wiping cloths: properly used and stored'],\n",
       " 'BEER BOX #103': [],\n",
       " 'BEER GARDEN BAR': [],\n",
       " 'BEL AIR #526': ['K006 - Adequate handwashing facilities supplied & accessible',\n",
       "  'K038 - Adequate ventilation and lighting designated area, use'],\n",
       " 'BELLA BRU CAFE': [],\n",
       " \"BENITO'S TACOS\": ['K007 - Proper hot and cold holding temperatures'],\n",
       " 'BEREZKA MARKET': [],\n",
       " 'BERRYESSA GAP WINERY': ['K001 - Demonstration of knowledge food manager certification',\n",
       "  'K006 - Adequate handwashing facilities supplied & accessible',\n",
       "  'K034 - Warewashing facilities: installed, maintained, used; test strips',\n",
       "  'K045 - Floors, walls and ceilings: built, maintained, and clean'],\n",
       " 'BERRYESSA SPORTING GOODS/MINI MART': ['K006 - Adequate handwashing facilities supplied & accessible',\n",
       "  'K014 - Food contact surfaces: clean and sanitized',\n",
       "  'K034 - Warewashing facilities: installed, maintained, used; test strips',\n",
       "  'K038 - Adequate ventilation and lighting designated area, use',\n",
       "  'K039 - Thermometers provided and accurate',\n",
       "  'K040 - Wiping cloths: properly used and stored',\n",
       "  'K041 - Plumbing proper backflow devices'],\n",
       " 'BEST WESTERN SHADOW INN': ['K006 - Adequate handwashing facilities supplied & accessible',\n",
       "  'K035 - Equipment/Utensils - approved installed clean good repair, capacity'],\n",
       " 'BEST WESTERN UNIVERSITY LODGE - FOOD': ['K026 - Approved thawing methods used, frozen food'],\n",
       " 'BIG KAHUNA YOGURT': ['K001 - Demonstration of knowledge food manager certification',\n",
       "  'K022 - Sewage and wastewater properly disposed',\n",
       "  'K033 - Nonfood-contact surfaces clean'],\n",
       " 'BIG LOTS #1934': [],\n",
       " 'BIG WEST CATERING': [],\n",
       " 'BIRCH LANE ELEM': [],\n",
       " 'BIRRIERIA MOOOOY #1NG3263': [],\n",
       " 'BK FOODMART 76 STORE': [],\n",
       " 'BLACK BEAR DINER': [],\n",
       " 'BLACK FROG COFFEE': [],\n",
       " \"BLAZE FAST FIRE'D PIZZA\": ['K014 - Food contact surfaces: clean and sanitized',\n",
       "  'K033 - Nonfood-contact surfaces clean',\n",
       "  'K038 - Adequate ventilation and lighting designated area, use'],\n",
       " \"BOB'S LIQUOR -WOODLAND\": ['K007 - Proper hot and cold holding temperatures',\n",
       "  'K014 - Food contact surfaces: clean and sanitized',\n",
       "  'K023 - No rodents, insects, birds, or animals',\n",
       "  'K036 - Equipment, utensils and linens: storage and use',\n",
       "  'K041 - Plumbing proper backflow devices'],\n",
       " \"BOBBY DAZZLER'S PUMPKIN PATCH\": [],\n",
       " 'BOBER TEA & COFFEE': [],\n",
       " 'BOGLE VINEYARDS TASTING ROOM': [],\n",
       " 'BOGLE WINE CART #115': ['K006 - Adequate handwashing facilities supplied & accessible',\n",
       "  'K035 - Equipment/Utensils - approved installed clean good repair, capacity',\n",
       "  'K038 - Adequate ventilation and lighting designated area, use'],\n",
       " 'BOSS CAFE - TEMP': ['K021 - Hot and cold water available',\n",
       "  'K040 - Wiping cloths: properly used and stored'],\n",
       " 'BOY SCOUT TROOP #111': ['K021 - Hot and cold water available'],\n",
       " 'BRIDGES GRILLE': ['K014 - Food contact surfaces: clean and sanitized'],\n",
       " 'BRIDGEWAY ISLAND ELEM SCHOOL': ['K030 - Food storage food storage containers identified',\n",
       "  'K038 - Adequate ventilation and lighting designated area, use'],\n",
       " 'BROCK ENTERPRISES DIPPIN DOTS': [],\n",
       " 'BROS LIQUOR': [],\n",
       " 'BROS LIQUOR 1': ['K044 - Premises personal/cleaning items vermin-proofing'],\n",
       " \"BRYERTON'S ROASTED ALMONDS\": ['K094 - Equipment'],\n",
       " 'BRYTE CULINARY SCHOOL': []}"
      ]
     },
     "execution_count": 59,
     "metadata": {},
     "output_type": "execute_result"
    }
   ],
   "source": [
    "violations"
   ]
  },
  {
   "cell_type": "markdown",
   "id": "f30cd5ab",
   "metadata": {},
   "source": [
    "#### Safeway\n",
    "\n",
    "Check the [docs](https://requests.readthedocs.io/en/latest/api/?requests.get)!"
   ]
  },
  {
   "cell_type": "code",
   "execution_count": 63,
   "id": "8f9d64f2",
   "metadata": {},
   "outputs": [],
   "source": [
    "url = 'https://www.safeway.com/abs/pub/xapi/pgmsearch/v1/search/products'\n",
    "params = {\n",
    "    'request-id': 4581698350530987505,\n",
    "    'q': 'eggs',\n",
    "    'rows': 30,\n",
    "    'start': 0,\n",
    "    'search-type': 'keyword',\n",
    "    'storeid': 3132,\n",
    "    'featured': 'true',\n",
    "    'url': 'https://www.safeway.com',\n",
    "    'pageurl': 'https://www.safeway.com', \n",
    "    'search-uid': 'uid%3D3640904575678%3Av%3D12.0%3Ats%3D1674581210532%3Ahc%3D3', \n",
    "    'pagename': 'search',\n",
    "    'dvid': 'web-4.1search',\n",
    "}\n",
    "header = {\n",
    "    'Ocp-Apim-Subscription-Key': '5e790236c84e46338f4290aa1050cdd4', \n",
    "}"
   ]
  },
  {
   "cell_type": "code",
   "execution_count": 61,
   "id": "22eae60e",
   "metadata": {},
   "outputs": [
    {
     "data": {
      "text/plain": [
       "{'statusCode': 401,\n",
       " 'message': 'Access denied due to missing subscription key. Make sure to include subscription key when making requests to an API.'}"
      ]
     },
     "execution_count": 61,
     "metadata": {},
     "output_type": "execute_result"
    }
   ],
   "source": [
    "results = requests.get(url, params=params)\n",
    "results.json()"
   ]
  },
  {
   "cell_type": "code",
   "execution_count": 64,
   "id": "839bc0a5",
   "metadata": {},
   "outputs": [
    {
     "data": {
      "text/plain": [
       "{'statusCode': 404, 'message': 'Resource not found'}"
      ]
     },
     "execution_count": 64,
     "metadata": {},
     "output_type": "execute_result"
    }
   ],
   "source": [
    "results = requests.get(url, params=params, headers=header)\n",
    "results.json()"
   ]
  },
  {
   "cell_type": "code",
   "execution_count": null,
   "id": "05a86f10",
   "metadata": {},
   "outputs": [],
   "source": [
    "results.raise_for_status"
   ]
  },
  {
   "cell_type": "markdown",
   "id": "c6ef778a",
   "metadata": {},
   "source": [
    "### Summary \n",
    "\n",
    "- Check the query type, header and params using the developer tools \n",
    "- Often, multiple API queries are made to display one result "
   ]
  }
 ],
 "metadata": {
  "kernelspec": {
   "display_name": "Python 3 (ipykernel)",
   "language": "python",
   "name": "python3"
  },
  "language_info": {
   "codemirror_mode": {
    "name": "ipython",
    "version": 3
   },
   "file_extension": ".py",
   "mimetype": "text/x-python",
   "name": "python",
   "nbconvert_exporter": "python",
   "pygments_lexer": "ipython3",
   "version": "3.9.12"
  }
 },
 "nbformat": 4,
 "nbformat_minor": 5
}
