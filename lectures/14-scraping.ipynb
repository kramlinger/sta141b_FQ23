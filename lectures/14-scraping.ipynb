{
 "cells": [
  {
   "cell_type": "markdown",
   "id": "ff704263",
   "metadata": {
    "slideshow": {
     "slide_type": "slide"
    }
   },
   "source": [
    "# STA 141B Data & Web Technologies for Data Analysis\n",
    "\n",
    "### Lecture 12, 11/16/23, Scraping"
   ]
  },
  {
   "cell_type": "markdown",
   "id": "d720fbd5",
   "metadata": {
    "slideshow": {
     "slide_type": "slide"
    }
   },
   "source": [
    "### Announcements\n",
    "\n",
    " - \n"
   ]
  },
  {
   "cell_type": "markdown",
   "id": "7b683b1a",
   "metadata": {},
   "source": [
    "### Today's topics\n",
    "- Scraping with Java Script\n",
    "- GraphQL\n",
    "    \n",
    "### Ressources\n",
    "- Mitchell: Scraping with Python, Chapters 9 and 10\n",
    "- [GraphQL](https://www.mobilelive.ca/blog/graphql-vs-rest-what-you-didnt-know) (Attention: This is infotainment!)"
   ]
  },
  {
   "cell_type": "markdown",
   "id": "e1c4f5b2",
   "metadata": {},
   "source": [
    "### Scraping from `ratemyprofesors.com`\n",
    "\n",
    "We are interested in retrieving information from the webpage `ratemyprofesors.com`. By navigating with our browser, we find that all professors at UCD can be retrieved as follows. "
   ]
  },
  {
   "cell_type": "code",
   "execution_count": 1,
   "id": "995f4c92",
   "metadata": {},
   "outputs": [],
   "source": [
    "import requests"
   ]
  },
  {
   "cell_type": "code",
   "execution_count": 2,
   "id": "c2fcfe4a",
   "metadata": {},
   "outputs": [],
   "source": [
    "endpoint = 'https://www.ratemyprofessors.com/search/professors/1073?'\n",
    "params = {'q':'*'}"
   ]
  },
  {
   "cell_type": "code",
   "execution_count": 3,
   "id": "62a14c8a",
   "metadata": {},
   "outputs": [
    {
     "data": {
      "text/plain": [
       "<bound method Response.raise_for_status of <Response [200]>>"
      ]
     },
     "execution_count": 3,
     "metadata": {},
     "output_type": "execute_result"
    }
   ],
   "source": [
    "result=requests.get(endpoint, params)\n",
    "result.raise_for_status"
   ]
  },
  {
   "cell_type": "code",
   "execution_count": 4,
   "id": "08fc97aa",
   "metadata": {},
   "outputs": [],
   "source": [
    "import lxml\n",
    "from bs4 import BeautifulSoup"
   ]
  },
  {
   "cell_type": "code",
   "execution_count": 5,
   "id": "5a54647c",
   "metadata": {},
   "outputs": [
    {
     "name": "stdout",
     "output_type": "stream",
     "text": [
      "<!DOCTYPE html>\n",
      "<!-- SSR -->\n",
      "<html>\n",
      " <head>\n",
      "  <meta content=\"width=device-width, initial-scale=1\" name=\"viewport\"/>\n",
      "  <meta content=\"#000000\" name=\"theme-color\"/>\n",
      "  <meta content=\"https://www.ratemyprofessors.com/build/thumbnail.svg\" name=\"thumbnail\"/>\n",
      "  <link href=\"/build/manifest.json\" rel=\"manifest\"/>\n",
      "  <link href=\"/static/css/main.1773c5b7.css\" rel=\"stylesheet\" type=\"text/css\"/>\n",
      "  <!-- Google Optimize Anti-flicker snippet -->\n",
      "  <style>\n",
      "   .async-hide { opacity: 0 !important}\n",
      "  </style>\n",
      "  <script>\n",
      "   (function(a,s,y,n,c,h,i,d,e){s.className+=' '+y;h.start=1*new Date;\n",
      "        h.end=i=function(){s.className=s.className.replace(RegExp(' ?'+y),'')};\n",
      "        (a[n]=a[n]||[]).hide=h;setTimeout(function(){i();h.end=null},c);h.timeout=c;\n",
      "        })(window,document.documentElement,'async-hide','dataLayer',4000,\n",
      "        {'OPT-MLW3VTZ':true});\n",
      "  </script>\n",
      "  <!-- Google Optimize -->\n",
      "  <script async=\"\" src=\"https://www.googleoptimize.com/optimize.js?id=OPT-MLW3VTZ\">\n",
      "  </script>\n",
      "  <script async=\"\" data-pubkey=\"alticermp\" data-sitekey=\"rmp1\" id=\"browsi-tag\" src=\"https://cdn.browsiprod.com/bootstrap/bootstrap.js\">\n",
      "  </script>\n",
      "  <script src=\"//ads.ratemyprofessors.com/adBundle.js?v=5\">\n",
      "  </script>\n",
      "  <link data-react-helmet=\"true\" href=\"/favicons/favicon-16.png\" rel=\"icon\" sizes=\"\"/>\n",
      "  <link data-react-helmet=\"true\" href=\"/favicons/favicon-32.png\" rel=\"icon\" sizes=\"32×32\"/>\n",
      "  <link data-react-helmet=\"true\" href=\"/favicons/favicon-57.png\" rel=\"apple-touch-icon\" sizes=\"\"/>\n",
      "  <link data-react-helmet=\"true\" href=\"/favicons/favicon-48.png\" rel=\"apple-touch-icon\" sizes=\"48×48\"/>\n",
      "  <link data-react-helmet=\"true\" href=\"/favicons/favicon-72.png\" rel=\"apple-touch-icon\" sizes=\"72×72\"/>\n",
      "  <link data-react-helmet=\"true\" href=\"/favicons/favicon-114.png\" rel=\"apple-touch-icon\" sizes=\"114×114\"/>\n",
      "  <link data-react-helmet=\"true\" href=\"/favicons/favicon-152.png\" rel=\"apple-touch-icon\" sizes=\"152×152\"/>\n",
      "  <link data-react-helmet=\"true\" href=\"/favicons/favicon-196.png\" rel=\"apple-touch-icon-precomposed\" sizes=\"\"/>\n",
      "  <title data-react-helmet=\"true\">\n",
      "   Rate My Professors\n",
      "  </title>\n",
      "  <meta content=\"Find and rate your professor or school\" data-react-helmet=\"true\" name=\"description\"/>\n",
      "  <meta content=\"Rate My Professors | Find and rate your professor or school\" data-react-helmet=\"true\" property=\"og:title\"/>\n",
      "  <meta content=\"Find and rate your professor or school\" data-react-helmet=\"true\" property=\"og:description\"/>\n",
      "  <meta content=\"https://www.ratemyprofessors.com/static/media/meta-no-thumbs.16c7cf81.png\" data-react-helmet=\"true\" property=\"og:image\"/>\n",
      "  <meta content=\"website\" data-react-helmet=\"true\" property=\"og:type\"/>\n",
      "  <meta content=\"summary_large_image\" data-react-helmet=\"true\" name=\"twitter:card\"/>\n",
      "  <style data-styled=\"kaBGnN  bhyGpW ducGvC enzK hNQJBj hsMvnW eLUjyu kjTgMJ vWase ecMUyP cdrVhb bFAPID bFqXne fiaAxo jBOPiI gmfVsA kljOpt itGGhm bLpdSv gMZkZH eNOUuy eJRnwy irUZwm kvtmLs koGnqT fwqnjW bIxMQe hYCCSW fnJGVv dZykPc eydgty gMXENl fHlqte fsOMKN ftqFWl khahiz bLuxdV bKRBLv ftqzfB fJTAhq kSkwHC kOfENd fkoCRH bUQIwd cdQllN lbcxyT jGMSsa btrqJr cxMWcu dzQHgc bxfSRZ bBRjeX kACzTK drLSaz eiPJLZ cAWnKB mvKHB dxsWZe iUNNGZ\" data-styled-version=\"4.4.1\">\n",
      "   /* sc-component-id: Tooltip__StyledTooltip-znwb87-0 */\n",
      ".kSkwHC{background:#151515;border-radius:6px;box-shadow:0px 4px 4px rgba(126,126,126,0.25);color:white;display:block;font-family:HelveticaNeue,arial;font-size:13px;-webkit-letter-spacing:0.5px;-moz-letter-spacing:0.5px;-ms-letter-spacing:0.5px;letter-spacing:0.5px;line-height:15px;margin-top:15px;opacity:0.9;padding:12px 16px;}\n",
      "/* sc-component-id: TaboolaAd__StyledTaboolaAd-sc-16lajh5-0 */\n",
      "@media screen and (min-width:1225px){.fkoCRH{max-width:calc( 1280px - 354px );}}\n",
      "/* sc-component-id: RenderForBreakpoints__StyledRenderForBreakPoints-sc-1vjlbtd-0 */\n",
      ".btrqJr{display:block;position:relative;}\n",
      "/* sc-component-id: HeaderLeaderboard__StyledHeaderLeaderboard-nduhbl-0 */\n",
      ".ftqzfB{display:block;margin:27px auto;max-width:1280px;text-align:left;width:100%;z-index:210000;} @media screen and (max-width:1280px){.ftqzfB{margin:27px 24px;}} @media screen and (max-width:1224px){.ftqzfB{text-align:center;}}\n",
      "/* sc-component-id: HeaderLeaderboard__AdWrapper-nduhbl-1 */\n",
      ".fJTAhq{display:inline-block;position:relative;}\n",
      "/* sc-component-id: Search__SearchInputContainer-sc-10lefvq-0 */\n",
      ".koGnqT{position:relative;}\n",
      "/* sc-component-id: NewSearch__StyledSearchWrapper-pkxwmu-0 */\n",
      ".eJRnwy{position:relative;width:100%;} .eJRnwy .SearchTypeahead__StyledSearchTypeaheadDropdown-sc-1i57108-0{box-shadow:0px 4px 4px rgba(151,151,151,0.3);top:50px;} .eJRnwy .Search__SearchInputContainer-sc-10lefvq-0{max-width:545px;width:100%;}\n",
      "/* sc-component-id: NewSearch__StyledSearch-pkxwmu-1 */\n",
      ".kvtmLs .Search__DebouncedSearchInput-sc-10lefvq-1{border:0;border-radius:43px;font-size:20px;max-width:none;outline:none;width:100%;} .kvtmLs .Search__DebouncedSearchInput-sc-10lefvq-1::-webkit-input-placeholder{color:#9e9e9e;} .kvtmLs .Search__DebouncedSearchInput-sc-10lefvq-1::-moz-placeholder{color:#9e9e9e;} .kvtmLs .Search__DebouncedSearchInput-sc-10lefvq-1:-ms-input-placeholder{color:#9e9e9e;} .kvtmLs .Search__DebouncedSearchInput-sc-10lefvq-1::placeholder{color:#9e9e9e;} .kvtmLs .Search__DebouncedSearchInput-sc-10lefvq-1 .SearchTypeahead__StyledSearchTypeaheadDropdown-sc-1i57108-0{max-width:none;width:100%;}\n",
      "/* sc-component-id: NewSearch__SearchIconWrapper-pkxwmu-2 */\n",
      ".irUZwm{left:27px;position:absolute;top:17px;width:-webkit-fit-content;width:-moz-fit-content;width:fit-content;z-index:2;}\n",
      "/* sc-component-id: TeacherSearchPagination__StyledBlankPage-sc-10aofob-0 */\n",
      ".kOfENd{min-height:100vh;}\n",
      "/* sc-component-id: ModalButtonLink__StyledButton-sc-1soj3zs-0 */\n",
      ".khahiz{background:none;border:0;font-size:inherit;margin:0;outline:none;padding:0;} .khahiz:hover{cursor:pointer;}\n",
      "/* sc-component-id: TeacherSchoolToggleButton__StyledToggleButton-sc-15dbb0q-0 */\n",
      ".gmfVsA{-webkit-align-items:center;-webkit-box-align:center;-ms-flex-align:center;align-items:center;background:none;border:0;color:white;cursor:pointer;display:-webkit-box;display:-webkit-flex;display:-ms-flexbox;display:flex;margin-right:14px;outline:none;position:relative;} @media screen and (max-width:768px){.gmfVsA{display:-webkit-box;display:-webkit-flex;display:-ms-flexbox;display:flex;margin-right:0;}} .gmfVsA svg{margin-right:5px;} @media screen and (max-width:768px){.gmfVsA svg{margin-right:11px;}}\n",
      "/* sc-component-id: TeacherSchoolToggleButton__ToggleButtonText-sc-15dbb0q-2 */\n",
      ".itGGhm{color:white;font-size:18px;line-height:21px;padding-right:10px;} @media screen and (max-width:768px){.itGGhm{display:none;}}\n",
      "/* sc-component-id: TeacherSchoolToggleButton__IconWrapper-sc-15dbb0q-4 */\n",
      "@media screen and (max-width:1024px){.kljOpt{display:none;}} @media screen and (max-width:768px){.kljOpt{display:block;}}\n",
      "/* sc-component-id: sc-global-4155672083 */\n",
      "@font-face{font-family:'Poppins';font-style:normal;font-weight:400;src:url('../fonts/poppins-v8-latin-regular.eot');src:local('Poppins Regular'),local('Poppins-Regular'),url('../fonts/poppins-v8-latin-regular.eot?#iefix') format('embedded-opentype'),url('../fonts/poppins-v8-latin-regular.woff2') format('woff2'),url('../fonts/poppins-v8-latin-regular.woff') format('woff'),url('../fonts/poppins-v8-latin-regular.ttf') format('truetype'),url('../fonts/poppins-v8-latin-regular.svg#Poppins') format('svg');} @font-face{font-family:'Poppins';font-style:italic;font-weight:400;src:url('../fonts/poppins-v8-latin-italic.eot');src:local('Poppins Italic'),local('Poppins-Italic'),url('../fonts/poppins-v8-latin-italic.eot?#iefix') format('embedded-opentype'),url('../fonts/poppins-v8-latin-italic.woff2') format('woff2'),url('../fonts/poppins-v8-latin-italic.woff') format('woff'),url('../fonts/poppins-v8-latin-italic.ttf') format('truetype'),url('../fonts/poppins-v8-latin-italic.svg#Poppins') format('svg');} @font-face{font-family:'Poppins';font-style:normal;font-weight:700;src:url('../fonts/poppins-v8-latin-700.eot');src:local('Poppins Bold'),local('Poppins-Bold'),url('../fonts/poppins-v8-latin-700.eot?#iefix') format('embedded-opentype'),url('../fonts/poppins-v8-latin-700.woff2') format('woff2'),url('../fonts/poppins-v8-latin-700.woff') format('woff'),url('../fonts/poppins-v8-latin-700.ttf') format('truetype'),url('../fonts/poppins-v8-latin-700.svg#Poppins') format('svg');} @font-face{font-family:'Poppins';font-style:italic;font-weight:700;src:url('../fonts/poppins-v8-latin-700italic.eot');src:local('Poppins Bold Italic'),local('Poppins-BoldItalic'),url('../fonts/poppins-v8-latin-700italic.eot?#iefix') format('embedded-opentype'),url('../fonts/poppins-v8-latin-700italic.woff2') format('woff2'),url('../fonts/poppins-v8-latin-700italic.woff') format('woff'),url('../fonts/poppins-v8-latin-700italic.ttf') format('truetype'),url('../fonts/poppins-v8-latin-700italic.svg#Poppins') format('svg');} @font-face{font-family:'Poppins';font-style:normal;font-weight:900;src:url('../fonts/poppins-v8-latin-900.eot');src:local('Poppins Black'),local('Poppins-Black'),url('../fonts/poppins-v8-latin-900.eot?#iefix') format('embedded-opentype'),url('../fonts/poppins-v8-latin-900.woff2') format('woff2'),url('../fonts/poppins-v8-latin-900.woff') format('woff'),url('../fonts/poppins-v8-latin-900.ttf') format('truetype'),url('../fonts/poppins-v8-latin-900.svg#Poppins') format('svg');} @font-face{font-family:'Poppins';font-style:italic;font-weight:900;src:url('../fonts/poppins-v8-latin-900italic.eot');src:local('Poppins Black Italic'),local('Poppins-BlackItalic'),url('../fonts/poppins-v8-latin-900italic.eot?#iefix') format('embedded-opentype'),url('../fonts/poppins-v8-latin-900italic.woff2') format('woff2'),url('../fonts/poppins-v8-latin-900italic.woff') format('woff'),url('../fonts/poppins-v8-latin-900italic.ttf') format('truetype'),url('../fonts/poppins-v8-latin-900italic.svg#Poppins') format('svg');} html,body,div,span,applet,object,iframe,h1,h2,h3,h4,h5,h6,p,blockquote,pre,a,abbr,acronym,address,big,cite,code,del,dfn,em,img,ins,kbd,q,s,samp,small,strike,strong,sub,sup,tt,var,b,u,i,center,dl,dt,dd,ol,ul,li,fieldset,form,label,legend,table,caption,tbody,tfoot,thead,tr,th,td,article,aside,canvas,details,embed,figure,figcaption,footer,header,hgroup,main,menu,nav,output,ruby,section,summary,time,mark,audio,video{margin:0;padding:0;border:0;font-size:100%;font:inherit;vertical-align:baseline;} article,aside,details,figcaption,figure,footer,header,hgroup,main,menu,nav,section{display:block;} *[hidden]{display:none;} body{line-height:1;} ol,ul{list-style:none;} blockquote,q{quotes:none;} blockquote:before,blockquote:after,q:before,q:after{content:'';content:none;} table{border-collapse:collapse;border-spacing:0;} @media screen and (max-width:984px){#beacon-container .BeaconFabButtonFrame{display:none;}} #beacon-container .BeaconFabButtonFrame{bottom:105px;left:15px;} #beacon-container .BeaconFabButtonFrame,#beacon-container .BeaconContainer{z-index:2147483637 !important;} #beacon-container .BeaconContainer.BeaconContainer.is-configDisplayLeft{bottom:105px;left:90px;} body,div,a,button{color:#151515;font-family:HelveticaNeue,arial;font-size:14px;} b{font-weight:700;} *{box-sizing:border-box;} body{background:black;} .__react_component_tooltip{display:none;}\n",
      "/* sc-component-id: SocialIconLink__SocialIcon-sc-1iq78in-0 */\n",
      ".dxsWZe{box-sizing:content-box;height:18px;padding-left:20px;width:18px;} @media screen and (max-width:768px){.dxsWZe{padding:0 10px !important;}}\n",
      "/* sc-component-id: SocialIconLink__StyledSocialIconLink-sc-1iq78in-1 */\n",
      ".mvKHB:first-child .SocialIconLink__SocialIcon-sc-1iq78in-0{padding-left:0;}\n",
      "/* sc-component-id: ToastContainer__StyledToastContainer-sc-1csk9fr-0 */\n",
      ".hsMvnW .toast{margin-bottom:0.25rem;}\n",
      "/* sc-component-id: UserMenu__LoginLink-sc-1rv45rg-0 */\n",
      ".ftqFWl{background:transparent;color:white;display:block;font-weight:700;height:100%;-webkit-text-decoration:none;text-decoration:none;border-radius:20px;cursor:pointer;margin-left:16px;padding:8px 16px;white-space:nowrap;} .ftqFWl:hover{background:#313131;} .ftqFWl:last-of-type{border:1px solid white;margin:0;} .ftqFWl:last-of-type:hover{border:1px solid transparent;} .ftqFWl:last-of-type{margin-left:16px;}\n",
      "/* sc-component-id: UserMenu__SignUpLink-sc-1rv45rg-1 */\n",
      ".bLuxdV{color:white;display:block;font-weight:700;height:100%;-webkit-text-decoration:none;text-decoration:none;border-radius:20px;cursor:pointer;margin-left:16px;padding:8px 16px;white-space:nowrap;} .bLuxdV:hover{background:#313131;} .bLuxdV:last-of-type{border:1px solid white;margin:0;} .bLuxdV:last-of-type:hover{border:1px solid transparent;}\n",
      "/* sc-component-id: UserMenu__UserMenuWrapper-sc-1rv45rg-2 */\n",
      ".fsOMKN{display:-webkit-box;display:-webkit-flex;display:-ms-flexbox;display:flex;}\n",
      "/* sc-component-id: MobileMenu__MobileMenuWrapper-mf2apz-0 */\n",
      ".ecMUyP{display:none;}\n",
      "/* sc-component-id: MobileMenu__MenuButton-mf2apz-2 */\n",
      ".cdrVhb{background:none;background-image:url(/static/media/hamburger-icon-light.e395d28a.svg);background-repeat:no-repeat;background-size:contain;border:0;-webkit-flex:0 0 auto;-ms-flex:0 0 auto;flex:0 0 auto;height:14px;margin:8px;outline:none;width:19px;}\n",
      "/* sc-component-id: TeacherSchoolSelectorInput__StyledSchoolSelectorInput-npx66c-0 */\n",
      ".fnJGVv .Search__DebouncedSearchInput-sc-10lefvq-1{font-size:16px;line-height:24px;margin-left:0;max-width:350px;padding:8px 20px;width:100%;} .fnJGVv .SearchTypeahead__StyledSearchTypeaheadDropdown-sc-1i57108-0{margin:0 auto;max-width:738px;position:absolute;top:34px;width:100%;} @media screen and (max-width:1224px){.fnJGVv .SearchTypeahead__StyledSearchTypeaheadDropdown-sc-1i57108-0 .MenuItem__StyledLink-h6a87s-7{padding:13px 16px;}} @media screen and (max-width:1024px){.fnJGVv .SearchTypeahead__StyledSearchTypeaheadDropdown-sc-1i57108-0{max-width:262px;}} @media screen and (max-width:768px){.fnJGVv .SearchTypeahead__StyledSearchTypeaheadDropdown-sc-1i57108-0{max-width:738px;}} .fnJGVv .SearchTypeahead__StyledSearchTypeaheadDropdown-sc-1i57108-0 .MenuItem__NewSearchSchoolName-h6a87s-5{display:none;} .fnJGVv .SearchTypeahead__StyledSearchTypeaheadDropdown-sc-1i57108-0 .SearchTypeahead__StyledScrollContainer-sc-1i57108-1{max-width:738px;width:100%;} .fnJGVv .SearchTypeahead__StyledSearchTypeaheadDropdown-sc-1i57108-0 svg{display:none;}\n",
      "/* sc-component-id: HeaderSearchInput__TeacherInput-j8q5if-1 */\n",
      ".eNOUuy .SearchTypeahead__StyledSearchTypeaheadDropdown-sc-1i57108-0{margin:0 auto;max-width:738px;position:absolute;top:34px;width:100%;} .eNOUuy .SearchTypeahead__StyledSearchTypeaheadDropdown-sc-1i57108-0 .MenuItem__NewSearchSchoolName-h6a87s-5{max-width:unset;} .eNOUuy .SearchTypeahead__StyledSearchTypeaheadDropdown-sc-1i57108-0 svg{display:none;} .eNOUuy .Search__DebouncedSearchInput-sc-10lefvq-1{font-size:16px;line-height:24px;padding:8px 20px;max-width:350px;width:100%;} @media screen and (max-width:768px){.eNOUuy .Search__DebouncedSearchInput-sc-10lefvq-1{margin:0 15px;max-width:unset;}} .eNOUuy .SearchTypeahead__StyledSearchTypeaheadDropdown-sc-1i57108-0{max-width:350px;} @media screen and (max-width:1224px){.eNOUuy .SearchTypeahead__StyledSearchTypeaheadDropdown-sc-1i57108-0 .MenuItem__NewSearchSchoolName-h6a87s-5{max-width:200px;}.eNOUuy .SearchTypeahead__StyledSearchTypeaheadDropdown-sc-1i57108-0 .MenuItem__StyledLink-h6a87s-7{padding:13px 16px;}} @media screen and (max-width:768px){.eNOUuy .SearchTypeahead__StyledSearchTypeaheadDropdown-sc-1i57108-0{max-width:738px;}} .eNOUuy .SearchTypeahead__StyledSearchTypeaheadDropdown-sc-1i57108-0 .SearchTypeahead__StyledScrollContainer-sc-1i57108-1{max-width:738px;width:100%;}\n",
      "/* sc-component-id: HeaderSearchInput__TeacherInputWrapper-j8q5if-3 */\n",
      ".gMZkZH{-webkit-align-items:center;-webkit-box-align:center;-ms-flex-align:center;align-items:center;display:-webkit-box;display:-webkit-flex;display:-ms-flexbox;display:flex;margin:0 auto;max-width:746px;} @media screen and (max-width:768px){.gMZkZH{-webkit-flex-flow:column;-ms-flex-flow:column;flex-flow:column;max-width:unset;}.gMZkZH .TeacherSchoolSelectorInput__StyledSchoolSelectorInput-npx66c-0{display:none;}}\n",
      "/* sc-component-id: HeaderSearchInput__SelectorInputContainer-j8q5if-5 */\n",
      ".bIxMQe{display:-webkit-box;display:-webkit-flex;display:-ms-flexbox;display:flex;width:100%;} @media screen and (max-width:768px){.bIxMQe{display:none;}@media screen and (max-width:768px){.bIxMQe .HeaderSearchInput__TeacherWrapperAt-j8q5if-2{display:block;left:21px;padding:0;position:absolute;top:75px;}}}\n",
      "/* sc-component-id: HeaderSearchInput__SelectorInputWrapper-j8q5if-6 */\n",
      ".hYCCSW{text-align:left;width:100%;} @media screen and (max-width:768px){.hYCCSW{display:none;}} .hYCCSW .NewSearch__CloseIconWrapper-pkxwmu-3{right:14px;} .hYCCSW .Search__SearchInputContainer-sc-10lefvq-0{max-width:unset;}\n",
      "/* sc-component-id: HeaderSearchMainInput__MainInputWrapper-nft009-0 */\n",
      ".jBOPiI{-webkit-align-items:center;-webkit-box-align:center;-ms-flex-align:center;align-items:center;display:-webkit-box;display:-webkit-flex;display:-ms-flexbox;display:flex;margin:0 auto;width:100%;} @media screen and (max-width:768px){.jBOPiI{-webkit-box-pack:justify;-webkit-justify-content:space-between;-ms-flex-pack:justify;justify-content:space-between;}}\n",
      "/* sc-component-id: HeaderSearchMainInput__NewSearchWrapper-nft009-1 */\n",
      ".bLpdSv{max-width:795px;width:100%;} .bLpdSv .Search__SearchInputContainer-sc-10lefvq-0{display:-webkit-box;display:-webkit-flex;display:-ms-flexbox;display:flex;-webkit-box-pack:center;-webkit-justify-content:center;-ms-flex-pack:center;justify-content:center;position:relative;width:100%;} @media screen and (max-width:768px){.bLpdSv .Search__SearchInputContainer-sc-10lefvq-0{max-width:unset;}}\n",
      "/* sc-component-id: HeaderSearchMainInput__InputCancelButton-nft009-2 */\n",
      ".dZykPc{background:none;border:0;cursor:pointer;display:inline-block;font-weight:700;outline:none;padding:none;color:#ffffff;display:none;font-size:16px;font-weight:500;} @media screen and (max-width:768px){.dZykPc{display:block;}}\n",
      "/* sc-component-id: HeaderSearch__StyledNewSearch-zmx6ds-0 */\n",
      ".fiaAxo{width:100%;} @media screen and (max-width:768px){.fiaAxo{display:none;}} .fiaAxo .Search__SearchInputContainer-sc-10lefvq-0{max-width:350px;} @media screen and (max-width:768px){.fiaAxo .Search__SearchInputContainer-sc-10lefvq-0{max-width:unset;}} .fiaAxo .NewSearch__SearchIconWrapper-pkxwmu-2{left:22px;top:9px;}\n",
      "/* sc-component-id: HeaderSearch__SchoolSelectorWrapper-zmx6ds-1 */\n",
      ".eydgty{-webkit-align-items:center;-webkit-box-align:center;-ms-flex-align:center;align-items:center;display:none;-webkit-box-pack:center;-webkit-justify-content:center;-ms-flex-pack:center;justify-content:center;margin-top:12px;} @media screen and (max-width:768px){.eydgty{display:-webkit-box;display:-webkit-flex;display:-ms-flexbox;display:flex;}.eydgty .Search__DebouncedSearchInput-sc-10lefvq-1{max-width:unset;}}\n",
      "/* sc-component-id: HeaderSearch__SchoolSelectorWrapperAt-zmx6ds-2 */\n",
      ".gMXENl{color:#ffffff;font-size:16px;margin-right:8px;}\n",
      "/* sc-component-id: HeaderLogo__RMPLogo-sc-1ehuz2f-1 */\n",
      ".bFAPID{padding-right:41px;} @media screen and (max-width:1024px){.bFAPID{padding-right:17px;}} @media screen and (max-width:768px){.bFAPID{padding-right:0;}}\n",
      "/* sc-component-id: HeaderLogo__StyledHeaderLogo-sc-1ehuz2f-2 */\n",
      ".vWase{-webkit-align-items:center;-webkit-box-align:center;-ms-flex-align:center;align-items:center;display:-webkit-box;display:-webkit-flex;display:-ms-flexbox;display:flex;-webkit-box-pack:justify;-webkit-justify-content:space-between;-ms-flex-pack:justify;justify-content:space-between;width:-webkit-fit-content;width:-moz-fit-content;width:fit-content;} @media screen and (max-width:768px){.vWase{width:100%;}} .vWase .MobileMenu__MobileMenuWrapper-mf2apz-0,.vWase .HeaderLogo__SearchIcon-sc-1ehuz2f-0{border:0;display:none;outline:none;} @media screen and (max-width:768px){.vWase .MobileMenu__MobileMenuWrapper-mf2apz-0,.vWase .HeaderLogo__SearchIcon-sc-1ehuz2f-0{display:block;}} .vWase .HeaderLogo__SearchIcon-sc-1ehuz2f-0{background:none;}\n",
      "/* sc-component-id: Header__HeaderMobileMenuWrapper-sc-1oduwjk-0 */\n",
      ".bKRBLv{margin-left:10px;-webkit-order:1;-ms-flex-order:1;order:1;} .bKRBLv .MobileMenu__MobileMenuWrapper-mf2apz-0{display:none;} @media screen and (max-width:1024px){.bKRBLv .MobileMenu__MobileMenuWrapper-mf2apz-0{display:block;}} @media screen and (max-width:768px){.bKRBLv .MobileMenu__MobileMenuWrapper-mf2apz-0{display:none;-webkit-order:3;-ms-flex-order:3;order:3;}}\n",
      "/* sc-component-id: Header__StyledHeader-sc-1oduwjk-1 */\n",
      ".hNQJBj{-webkit-align-items:center;-webkit-box-align:center;-ms-flex-align:center;align-items:center;background:black;color:white;display:-webkit-box;display:-webkit-flex;display:-ms-flexbox;display:flex;margin:0 auto;padding:12px 24px;width:100%;} @media screen and (max-width:768px){.hNQJBj{padding:12px 16px;}}\n",
      "/* sc-component-id: Header__UserMenuWrapper-sc-1oduwjk-2 */\n",
      ".fHlqte{position:relative;} @media screen and (max-width:1024px){.fHlqte{display:none;}}\n",
      "/* sc-component-id: Header__StyledDummyElement-sc-1oduwjk-3 */\n",
      ".kjTgMJ{-webkit-order:3;-ms-flex-order:3;order:3;} @media screen and (max-width:768px){.kjTgMJ{-webkit-order:1;-ms-flex-order:1;order:1;}}\n",
      "/* sc-component-id: Header__HeaderWrapper-sc-1oduwjk-4 */\n",
      ".eLUjyu{-webkit-align-items:center;-webkit-box-align:center;-ms-flex-align:center;align-items:center;box-sizing:border-box;display:-webkit-box;display:-webkit-flex;display:-ms-flexbox;display:flex;-webkit-flex-direction:row;-ms-flex-direction:row;flex-direction:row;-webkit-box-pack:justify;-webkit-justify-content:space-between;-ms-flex-pack:justify;justify-content:space-between;width:100%;} @media screen and (min-width:1225px){.eLUjyu{margin:0 auto;max-width:1280px;width:100%;}}\n",
      "/* sc-component-id: Header__HeaderBannerWrapper-sc-1oduwjk-5 */\n",
      ".enzK{display:-webkit-box;display:-webkit-flex;display:-ms-flexbox;display:flex;-webkit-flex-direction:column;-ms-flex-direction:column;flex-direction:column;}\n",
      "/* sc-component-id: HeaderContainer__StyledHeaderContainer-sc-1eya4wu-0 */\n",
      ".ducGvC{background-color:#ffffff;position:-webkit-sticky;position:sticky;top:0;width:100%;z-index:250000;}\n",
      "/* sc-component-id: FooterLinkList__StyledFooterLinkList-sc-1ti814v-0 */\n",
      ".bBRjeX{font-family:Poppins,sans-serif;margin-right:80px;overflow:hidden;text-align:left;} @media screen and (max-width:984px){.bBRjeX{margin-right:48px;}} .bBRjeX a{color:white;font-family:Poppins,sans-serif;font-weight:500;line-height:2;overflow:hidden;-webkit-text-decoration:none;text-decoration:none;white-space:nowrap;}\n",
      "/* sc-component-id: FooterLinkList__FooterLinkListHeader-sc-1ti814v-1 */\n",
      ".kACzTK{color:white;font-size:16px;font-weight:900;line-height:2.25;text-transform:uppercase;}\n",
      "/* sc-component-id: FooterLinksWrapper__StyledFooterLinksWrapper-pnn6ig-0 */\n",
      ".bxfSRZ{display:-webkit-box;display:-webkit-flex;display:-ms-flexbox;display:flex;max-height:0;max-width:0;overflow:hidden;-webkit-transition:all 0.25s ease-in-out;transition:all 0.25s ease-in-out;} @media screen and (max-width:768px){.bxfSRZ{-webkit-flex-direction:column;-ms-flex-direction:column;flex-direction:column;padding-left:0;}} @media screen and (max-width:768px){.bxfSRZ .FooterLinkList__StyledFooterLinkList-sc-1ti814v-0{margin-bottom:33px;}} .bxfSRZ .FooterLinkList__StyledFooterLinkList-sc-1ti814v-0:last-of-type{margin-bottom:0;}\n",
      "/* sc-component-id: FooterLogo__StyledLogo-sc-162o9sw-0 */\n",
      ".cxMWcu{background-repeat:no-repeat;background-size:contain;display:none;-webkit-flex-direction:row-reverse;-ms-flex-direction:row-reverse;flex-direction:row-reverse;z-index:300001;} @media screen and (max-width:768px){.cxMWcu{display:-webkit-box;display:-webkit-flex;display:-ms-flexbox;display:flex;margin-top:21px;-webkit-box-pack:center;-webkit-justify-content:center;-ms-flex-pack:center;justify-content:center;}} .cxMWcu img{height:45.6px;width:80px;}.dzQHgc{background-repeat:no-repeat;background-size:contain;display:-webkit-box;display:-webkit-flex;display:-ms-flexbox;display:flex;-webkit-flex-direction:row-reverse;-ms-flex-direction:row-reverse;flex-direction:row-reverse;z-index:300001;} @media screen and (max-width:768px){.dzQHgc{display:none;margin-top:0;-webkit-box-pack:center;-webkit-justify-content:center;-ms-flex-pack:center;justify-content:center;}} .dzQHgc img{height:45.6px;width:80px;}\n",
      "/* sc-component-id: AnimatedFlexContainer__StyledAnimatedFlexContainer-sc-1uw0dlp-0 */\n",
      ".eiPJLZ{display:-webkit-box;display:-webkit-flex;display:-ms-flexbox;display:flex;-webkit-transition:all;transition:all;}\n",
      "/* sc-component-id: FooterCopyright__StyledCopyright-sc-1g3eanm-0 */\n",
      ".drLSaz{-webkit-align-items:center;-webkit-box-align:center;-ms-flex-align:center;align-items:center;-webkit-flex-direction:row-reverse;-ms-flex-direction:row-reverse;flex-direction:row-reverse;min-width:100%;} @media screen and (max-width:768px){.drLSaz{display:-webkit-box;display:-webkit-flex;display:-ms-flexbox;display:flex;-webkit-flex-direction:column;-ms-flex-direction:column;flex-direction:column;-webkit-align-items:center;-webkit-box-align:center;-ms-flex-align:center;align-items:center;}} .drLSaz .SocialLinks__StyledSocialLinks-bn65ay-0{-webkit-align-items:center;-webkit-box-align:center;-ms-flex-align:center;align-items:center;display:-webkit-box;display:-webkit-flex;display:-ms-flexbox;display:flex;-webkit-flex-direction:row;-ms-flex-direction:row;flex-direction:row;-webkit-box-pack:end;-webkit-justify-content:flex-end;-ms-flex-pack:end;justify-content:flex-end;} @media screen and (max-width:768px){.drLSaz .SocialLinks__StyledSocialLinks-bn65ay-0{-webkit-box-pack:center;-webkit-justify-content:center;-ms-flex-pack:center;justify-content:center;}} .drLSaz .SocialLinks__StyledSocialLinks-bn65ay-0 .SocialIconLink__SocialIcon-sc-1iq78in-0{height:20px;padding:22px 18px 22px 0;-webkit-transition:all 0.25s ease-in-out;transition:all 0.25s ease-in-out;} @media screen and (max-width:768px){.drLSaz .SocialLinks__StyledSocialLinks-bn65ay-0 .SocialIconLink__SocialIcon-sc-1iq78in-0{-webkit-box-pack:center;-webkit-justify-content:center;-ms-flex-pack:center;justify-content:center;padding:22px 9px;}}\n",
      "/* sc-component-id: FooterCopyright__CopyrightText-sc-1g3eanm-1 */\n",
      ".iUNNGZ{color:white;-webkit-box-flex:1;-webkit-flex-grow:1;-ms-flex-positive:1;flex-grow:1;text-align:left;} @media screen and (max-width:768px){.iUNNGZ{text-align:center;}}\n",
      "/* sc-component-id: FooterToggle__StyledFooterToggle-sc-1eaqcx0-0 */\n",
      ".lbcxyT{background:none;border:0;display:block;left:calc(50% - 24px / 2);outline:none;padding:0;position:absolute;top:10px;} .lbcxyT img{height:7px;-webkit-transform:scale(1,1);-ms-transform:scale(1,1);transform:scale(1,1);-webkit-transition:all 0.25s ease-in-out;transition:all 0.25s ease-in-out;width:24px;}\n",
      "/* sc-component-id: Footer__StyledFooter-ftcicx-0 */\n",
      ".bUQIwd{background:black;bottom:0;color:white;display:block;margin-top:15px;padding:6px 64px 6px 64px;position:relative;-webkit-transition:all 0.25s ease-in-out;transition:all 0.25s ease-in-out;width:100%;z-index:50000;} @media screen and (max-width:768px){.bUQIwd{max-height:100vh;height:unset;padding:0;overflow-y:scroll;}} @media screen and (max-width:768px){.bUQIwd .FooterToggle__StyledFooterToggle-sc-1eaqcx0-0{display:block;}}\n",
      "/* sc-component-id: Footer__FooterContainer-ftcicx-1 */\n",
      "@media screen and (min-width:1225px){.cdQllN{margin:0 auto;max-width:1280px;width:100%;}}\n",
      "/* sc-component-id: Footer__StyledFooterWrapper-ftcicx-2 */\n",
      ".jGMSsa{display:-webkit-box;display:-webkit-flex;display:-ms-flexbox;display:flex;-webkit-box-pack:justify;-webkit-justify-content:space-between;-ms-flex-pack:justify;justify-content:space-between;} @media screen and (max-width:768px){.jGMSsa{-webkit-flex-direction:column;-ms-flex-direction:column;flex-direction:column;padding:20px;}}\n",
      "/* sc-component-id: App__StyledApp-aq7j9t-0 */\n",
      ".kaBGnN{background-color:white;position:relative;text-align:center;}\n",
      "/* sc-component-id: App__Body-aq7j9t-1 */\n",
      ".bhyGpW{background:white;color:black;display:-webkit-box;display:-webkit-flex;display:-ms-flexbox;display:flex;-webkit-flex-direction:column;-ms-flex-direction:column;flex-direction:column;} .bhyGpW h1{margin-bottom:2rem;} .bhyGpW .Toastify__toast{background:transparent;box-shadow:none;} .bhyGpW .Toastify__toast-container{top:62px;width:-webkit-fit-content;width:-moz-fit-content;width:fit-content;} .bhyGpW .Toastify__toast-container--top-right{right:70px;} .bhyGpW .Toastify__toast-container--top-center{left:50%;-webkit-transform:translateX(-50%);-ms-transform:translateX(-50%);transform:translateX(-50%);}\n",
      "  </style>\n",
      "  <script async=\"\" src=\"//cheddar-com.videoplayerhub.com/galleryloader.js\">\n",
      "  </script>\n",
      "  <script>\n",
      "   (function(w,d,s,l,i){w[l]=w[l]||[];w[l].push({'gtm.start':\n",
      "          new Date().getTime(),event:'gtm.js'});var f=d.getElementsByTagName(s)[0],\n",
      "          j=d.createElement(s),dl=l!='dataLayer'?'&l='+l:'';j.async=true;j.src=\n",
      "          'https://www.googletagmanager.com/gtm.js?id='+i+dl;f.parentNode.insertBefore(j,f);\n",
      "          })(window,document,'script','dataLayer','GTM-5HVQ56V');\n",
      "  </script>\n",
      "  <!-- BounceX -->\n",
      "  <script>\n",
      "   window.googletag = window.googletag || { cmd: [] }\n",
      "          googletag.cmd.push(function() {\n",
      "            googletag\n",
      "              .defineSlot('/21667365449/bounce_x', [1, 1], 'div-gpt-ad-1579103811294-0')\n",
      "              .addService(googletag.pubads())\n",
      "            googletag.pubads().enableSingleRequest()\n",
      "            googletag.enableServices()\n",
      "          })\n",
      "  </script>\n",
      "  <!-- /21667365449/bounce_x -->\n",
      " </head>\n",
      " <body>\n",
      "  <div id=\"div-gpt-ad-1579103811294-0\" style=\"width: 1px; height: 1px;\">\n",
      "   <script>\n",
      "    googletag.cmd.push(function() {\n",
      "              googletag.display('div-gpt-ad-1579103811294-0')\n",
      "            })\n",
      "   </script>\n",
      "  </div>\n",
      "  <script charset=\"utf-8\" data-website-id=\"3905\" id=\"bx-tag\" src=\"//assets.bounceexchange.com/assets/bounce/iframebuster.js\">\n",
      "  </script>\n",
      "  <!-- Ad Lightning -->\n",
      "  <script src=\"https://tagan.adlightning.com/cheddartv/op.js\" type=\"text/javascript\">\n",
      "  </script>\n",
      "  <!-- Google Tag Manager (noscript) -->\n",
      "  <noscript>\n",
      "   <iframe height=\"0\" src=\"https://www.googletagmanager.com/ns.html?id=GTM-5HVQ56V\" style=\"display:none;visibility:hidden\" width=\"0\">\n",
      "   </iframe>\n",
      "  </noscript>\n",
      "  <!-- End Google Tag Manager (noscript) -->\n",
      "  <div id=\"root\">\n",
      "   <div class=\"App__StyledApp-aq7j9t-0 kaBGnN\">\n",
      "    <div class=\"App__Body-aq7j9t-1 bhyGpW\">\n",
      "     <div class=\"HeaderContainer__StyledHeaderContainer-sc-1eya4wu-0 ducGvC\" data-testid=\"StyledHeaderContainer\">\n",
      "      <div class=\"Header__HeaderBannerWrapper-sc-1oduwjk-5 enzK\">\n",
      "       <header class=\"Header__StyledHeader-sc-1oduwjk-1 hNQJBj\" role=\"banner\">\n",
      "        <div class=\"Toastify\">\n",
      "        </div>\n",
      "        <div class=\"Header__HeaderWrapper-sc-1oduwjk-4 eLUjyu\">\n",
      "         <div class=\"Header__StyledDummyElement-sc-1oduwjk-3 kjTgMJ\">\n",
      "         </div>\n",
      "         <div class=\"HeaderLogo__StyledHeaderLogo-sc-1ehuz2f-2 vWase\">\n",
      "          <div class=\"MobileMenu__MobileMenuWrapper-mf2apz-0 ecMUyP\">\n",
      "           <button class=\"MobileMenu__MenuButton-mf2apz-2 cdrVhb\" title=\"Mobile Menu Button\">\n",
      "           </button>\n",
      "          </div>\n",
      "          <a href=\"/\">\n",
      "           <img alt=\"Logo\" class=\"HeaderLogo__RMPLogo-sc-1ehuz2f-1 bFAPID\" src=\"/static/media/small_rmp_logo_white.4d5ff7fa.svg\"/>\n",
      "          </a>\n",
      "          <button class=\"HeaderLogo__SearchIcon-sc-1ehuz2f-0 bFqXne\" title=\"Open search menu\" type=\"button\">\n",
      "           <img alt=\"Search Icon\" src=\"/static/media/search-white.7b02d8be.svg\"/>\n",
      "          </button>\n",
      "         </div>\n",
      "         <div class=\"HeaderSearch__StyledNewSearch-zmx6ds-0 fiaAxo\">\n",
      "          <div class=\"HeaderSearchMainInput__MainInputWrapper-nft009-0 jBOPiI\">\n",
      "           <div>\n",
      "            <button class=\"TeacherSchoolToggleButton__StyledToggleButton-sc-15dbb0q-0 gmfVsA\" role=\"button\" title=\"Header Type Toggle Button\" type=\"button\">\n",
      "             <span class=\"TeacherSchoolToggleButton__IconWrapper-sc-15dbb0q-4 kljOpt\">\n",
      "              <svg fill=\"none\" height=\"21\" viewbox=\"0 0 18 21\" width=\"18\" xmlns=\"http://www.w3.org/2000/svg\">\n",
      "               <path clip-rule=\"evenodd\" d=\"M9.67889 4.14964C10.078 2.0159 11.9509 0.400024 14.2004 0.400024C14.7527 0.400024 15.2004 0.84774 15.2004 1.40002C15.2004 3.03165 14.3507 4.46501 13.0696 5.28168C15.6839 5.77973 17.6004 8.4971 17.6004 11.8C17.6004 15.7456 14.7573 20.8 11.8004 20.8C10.5678 20.8 9.8655 20.6127 9.3257 20.1809C9.2611 20.1292 9.20071 20.076 9.13303 20.0151C9.12474 20.0078 9.12021 20.0028 9.11718 19.9994L9.11717 19.9994C9.11505 19.9971 9.11367 19.9955 9.11225 19.9946L9.00039 20C8.94042 20 8.91449 19.9963 8.90181 19.9944C8.89392 19.9933 8.89116 19.9929 8.88853 19.9946L8.86775 20.0151C8.80008 20.076 8.73968 20.1292 8.67509 20.1809C8.13528 20.6127 7.43296 20.8 6.20039 20.8C3.24351 20.8 0.400391 15.7456 0.400391 11.8C0.400391 8.14065 2.75289 5.20002 5.80039 5.20002C6.73116 5.20002 7.4215 5.30554 8.00039 5.5141V5.40002C8.00039 5.10508 7.77984 4.85504 7.49683 4.80798L7.40039 4.80002H5.80039C5.24811 4.80002 4.80039 4.35231 4.80039 3.80002C4.80039 3.28719 5.18643 2.86452 5.68377 2.80675L5.80039 2.80002H7.40039C8.37994 2.80002 9.23574 3.3462 9.67889 4.14964ZM8.05318 7.76945C8.35477 7.92025 8.65108 8.00002 9.00039 8.00002C9.3497 8.00002 9.64601 7.92025 9.9476 7.76945L10.4476 7.49445C10.8269 7.30481 11.3159 7.20002 12.2004 7.20002C14.0329 7.20002 15.6004 9.1594 15.6004 11.8C15.6004 14.7878 13.3435 18.8 11.8004 18.8L11.4603 18.795C10.953 18.7785 10.731 18.7223 10.6089 18.6435L10.5253 18.5768L10.4535 18.513C10.0557 18.1632 9.6465 18 9.00039 18C8.35428 18 7.94506 18.1632 7.54724 18.513L7.4257 18.6192C7.2905 18.7273 7.01782 18.8 6.20039 18.8C4.65727 18.8 2.40039 14.7878 2.40039 11.8C2.40039 9.1594 3.96789 7.20002 5.80039 7.20002C6.68489 7.20002 7.17389 7.30481 7.55318 7.49445L8.05318 7.76945Z\" data-testid=\"APPLE_PATH_TESTID\" fill=\"#ffffff\" fill-rule=\"evenodd\">\n",
      "               </path>\n",
      "              </svg>\n",
      "             </span>\n",
      "             <div class=\"TeacherSchoolToggleButton__ToggleButtonText-sc-15dbb0q-2 itGGhm\">\n",
      "              Professors\n",
      "             </div>\n",
      "             <img alt=\"Caret Down\" src=\"/static/media/caret-down.a8eae91f.svg\"/>\n",
      "            </button>\n",
      "           </div>\n",
      "           <div class=\"HeaderSearchMainInput__NewSearchWrapper-nft009-1 bLpdSv\">\n",
      "            <div class=\"HeaderSearchInput__TeacherInputWrapper-j8q5if-3 gMZkZH\">\n",
      "             <div class=\"NewSearch__StyledSearchWrapper-pkxwmu-0 eJRnwy\">\n",
      "              <div class=\"NewSearch__SearchIconWrapper-pkxwmu-2 irUZwm\">\n",
      "              </div>\n",
      "              <div class=\"Search__SearchInputContainer-sc-10lefvq-0 koGnqT NewSearch__StyledSearch-pkxwmu-1 kvtmLs HeaderSearchInput__TeacherInput-j8q5if-1 eNOUuy\">\n",
      "               <input aria-label=\"search\" class=\"Search__DebouncedSearchInput-sc-10lefvq-1 fwqnjW\" placeholder=\"Professor name\" type=\"text\" value=\"\"/>\n",
      "              </div>\n",
      "             </div>\n",
      "             <div class=\"HeaderSearchInput__SelectorInputContainer-j8q5if-5 bIxMQe\">\n",
      "              <div class=\"HeaderSearchInput__SelectorInputWrapper-j8q5if-6 hYCCSW\">\n",
      "               <div class=\"NewSearch__StyledSearchWrapper-pkxwmu-0 eJRnwy\">\n",
      "                <div class=\"NewSearch__SearchIconWrapper-pkxwmu-2 irUZwm\">\n",
      "                </div>\n",
      "                <div class=\"Search__SearchInputContainer-sc-10lefvq-0 koGnqT NewSearch__StyledSearch-pkxwmu-1 kvtmLs TeacherSchoolSelectorInput__StyledSchoolSelectorInput-npx66c-0 fnJGVv\">\n",
      "                 <input aria-label=\"search\" class=\"Search__DebouncedSearchInput-sc-10lefvq-1 fwqnjW\" placeholder=\"Your school\" type=\"text\" value=\"\"/>\n",
      "                </div>\n",
      "               </div>\n",
      "              </div>\n",
      "             </div>\n",
      "            </div>\n",
      "           </div>\n",
      "           <button class=\"Buttons__TextButton-sc-19xdot-0 HeaderSearchMainInput__InputCancelButton-nft009-2 dZykPc\" type=\"button\">\n",
      "            cancel\n",
      "           </button>\n",
      "          </div>\n",
      "          <div class=\"HeaderSearch__SchoolSelectorWrapper-zmx6ds-1 eydgty\">\n",
      "           <div class=\"HeaderSearch__SchoolSelectorWrapperAt-zmx6ds-2 gMXENl\">\n",
      "            at\n",
      "           </div>\n",
      "           <div class=\"NewSearch__StyledSearchWrapper-pkxwmu-0 eJRnwy\">\n",
      "            <div class=\"NewSearch__SearchIconWrapper-pkxwmu-2 irUZwm\">\n",
      "            </div>\n",
      "            <div class=\"Search__SearchInputContainer-sc-10lefvq-0 koGnqT NewSearch__StyledSearch-pkxwmu-1 kvtmLs TeacherSchoolSelectorInput__StyledSchoolSelectorInput-npx66c-0 fnJGVv\">\n",
      "             <input aria-label=\"search\" class=\"Search__DebouncedSearchInput-sc-10lefvq-1 fwqnjW\" placeholder=\"Your school\" type=\"text\" value=\"\"/>\n",
      "            </div>\n",
      "           </div>\n",
      "          </div>\n",
      "         </div>\n",
      "         <div class=\"Header__UserMenuWrapper-sc-1oduwjk-2 fHlqte\">\n",
      "          <div class=\"UserMenu__UserMenuWrapper-sc-1rv45rg-2 fsOMKN\" data-testid=\"LoginSignupButtons\">\n",
      "           <button class=\"ModalButtonLink__StyledButton-sc-1soj3zs-0 khahiz UserMenu__LoginLink-sc-1rv45rg-0 ftqFWl\" data-testid=\"modal-button-link\" role=\"button\" type=\"button\">\n",
      "            Log In\n",
      "           </button>\n",
      "           <button class=\"ModalButtonLink__StyledButton-sc-1soj3zs-0 khahiz UserMenu__SignUpLink-sc-1rv45rg-1 bLuxdV\" data-testid=\"modal-button-link\" role=\"button\" type=\"button\">\n",
      "            Sign Up\n",
      "           </button>\n",
      "          </div>\n",
      "         </div>\n",
      "         <div class=\"Header__HeaderMobileMenuWrapper-sc-1oduwjk-0 bKRBLv\">\n",
      "          <div class=\"MobileMenu__MobileMenuWrapper-mf2apz-0 ecMUyP\">\n",
      "           <button class=\"MobileMenu__MenuButton-mf2apz-2 cdrVhb\" title=\"Mobile Menu Button\">\n",
      "           </button>\n",
      "          </div>\n",
      "         </div>\n",
      "        </div>\n",
      "       </header>\n",
      "      </div>\n",
      "     </div>\n",
      "     <div alt=\"advertisement leaderboard\" aria-label=\"advertisement leaderboard\" class=\"HeaderLeaderboard__StyledHeaderLeaderboard-nduhbl-0 ftqzfB\" role=\"complementary\">\n",
      "      <div class=\"HeaderLeaderboard__AdWrapper-nduhbl-1 fJTAhq\">\n",
      "       <div id=\"ad_lb_top\">\n",
      "       </div>\n",
      "      </div>\n",
      "     </div>\n",
      "     <div class=\"__react_component_tooltip tfda6e0ae-b1ce-4837-aabe-31608b8fd36b place-bottom type-dark\" data-id=\"tooltip\" id=\"GLOBAL_TOOLTIP\">\n",
      "      <style>\n",
      "       .tfda6e0ae-b1ce-4837-aabe-31608b8fd36b {\n",
      "\t    color: #fff;\n",
      "\t    background: #222;\n",
      "\t    border: 1px solid transparent;\n",
      "  \t}\n",
      "\n",
      "  \t.tfda6e0ae-b1ce-4837-aabe-31608b8fd36b.place-top {\n",
      "        margin-top: -10px;\n",
      "    }\n",
      "    .tfda6e0ae-b1ce-4837-aabe-31608b8fd36b.place-top::before {\n",
      "        border-top: 8px solid transparent;\n",
      "    }\n",
      "    .tfda6e0ae-b1ce-4837-aabe-31608b8fd36b.place-top::after {\n",
      "        border-left: 8px solid transparent;\n",
      "        border-right: 8px solid transparent;\n",
      "        bottom: -6px;\n",
      "        left: 50%;\n",
      "        margin-left: -8px;\n",
      "        border-top-color: #222;\n",
      "        border-top-style: solid;\n",
      "        border-top-width: 6px;\n",
      "    }\n",
      "\n",
      "    .tfda6e0ae-b1ce-4837-aabe-31608b8fd36b.place-bottom {\n",
      "        margin-top: 10px;\n",
      "    }\n",
      "    .tfda6e0ae-b1ce-4837-aabe-31608b8fd36b.place-bottom::before {\n",
      "        border-bottom: 8px solid transparent;\n",
      "    }\n",
      "    .tfda6e0ae-b1ce-4837-aabe-31608b8fd36b.place-bottom::after {\n",
      "        border-left: 8px solid transparent;\n",
      "        border-right: 8px solid transparent;\n",
      "        top: -6px;\n",
      "        left: 50%;\n",
      "        margin-left: -8px;\n",
      "        border-bottom-color: #222;\n",
      "        border-bottom-style: solid;\n",
      "        border-bottom-width: 6px;\n",
      "    }\n",
      "\n",
      "    .tfda6e0ae-b1ce-4837-aabe-31608b8fd36b.place-left {\n",
      "        margin-left: -10px;\n",
      "    }\n",
      "    .tfda6e0ae-b1ce-4837-aabe-31608b8fd36b.place-left::before {\n",
      "        border-left: 8px solid transparent;\n",
      "    }\n",
      "    .tfda6e0ae-b1ce-4837-aabe-31608b8fd36b.place-left::after {\n",
      "        border-top: 5px solid transparent;\n",
      "        border-bottom: 5px solid transparent;\n",
      "        right: -6px;\n",
      "        top: 50%;\n",
      "        margin-top: -4px;\n",
      "        border-left-color: #222;\n",
      "        border-left-style: solid;\n",
      "        border-left-width: 6px;\n",
      "    }\n",
      "\n",
      "    .tfda6e0ae-b1ce-4837-aabe-31608b8fd36b.place-right {\n",
      "        margin-left: 10px;\n",
      "    }\n",
      "    .tfda6e0ae-b1ce-4837-aabe-31608b8fd36b.place-right::before {\n",
      "        border-right: 8px solid transparent;\n",
      "    }\n",
      "    .tfda6e0ae-b1ce-4837-aabe-31608b8fd36b.place-right::after {\n",
      "        border-top: 5px solid transparent;\n",
      "        border-bottom: 5px solid transparent;\n",
      "        left: -6px;\n",
      "        top: 50%;\n",
      "        margin-top: -4px;\n",
      "        border-right-color: #222;\n",
      "        border-right-style: solid;\n",
      "        border-right-width: 6px;\n",
      "    }\n",
      "      </style>\n",
      "     </div>\n",
      "     <div>\n",
      "      <div class=\"TeacherSearchPagination__StyledBlankPage-sc-10aofob-0 kOfENd\">\n",
      "       Loading...\n",
      "      </div>\n",
      "      <div class=\"TaboolaAd__StyledTaboolaAd-sc-16lajh5-0 fkoCRH\" data-testid=\"test-id-taboola-ad\" id=\"taboola-below-article-thumbnails\">\n",
      "      </div>\n",
      "     </div>\n",
      "     <div class=\"Footer__StyledFooter-ftcicx-0 bUQIwd\">\n",
      "      <div class=\"Footer__FooterContainer-ftcicx-1 cdQllN\">\n",
      "       <button class=\"FooterToggle__StyledFooterToggle-sc-1eaqcx0-0 lbcxyT\" type=\"button\">\n",
      "        <img alt=\"Show Footer\" src=\"/static/media/controls-arrow-expand.a220a440.svg\"/>\n",
      "       </button>\n",
      "       <div class=\"Footer__StyledFooterWrapper-ftcicx-2 jGMSsa\">\n",
      "        <div class=\"RenderForBreakpoints__StyledRenderForBreakPoints-sc-1vjlbtd-0 btrqJr\">\n",
      "         <a class=\"FooterLogo__StyledLogo-sc-162o9sw-0 cxMWcu\" href=\"/\" mobile=\"true\">\n",
      "          <img alt=\"Logo\" src=\"/static/media/small_rmp_logo_white.4d5ff7fa.svg\"/>\n",
      "         </a>\n",
      "        </div>\n",
      "        <div class=\"FooterLinksWrapper__StyledFooterLinksWrapper-pnn6ig-0 bxfSRZ\">\n",
      "         <div class=\"FooterLinkList__StyledFooterLinkList-sc-1ti814v-0 bBRjeX\">\n",
      "          <div class=\"FooterLinkList__FooterLinkListHeader-sc-1ti814v-1 kACzTK\">\n",
      "           Site\n",
      "          </div>\n",
      "          <ul>\n",
      "           <li>\n",
      "            <a href=\"https://www.ratemyprofessors.com/About.jsp\">\n",
      "             About\n",
      "            </a>\n",
      "           </li>\n",
      "           <li>\n",
      "            <a href=\"https://help.ratemyprofessors.com/\">\n",
      "             Help\n",
      "            </a>\n",
      "           </li>\n",
      "           <li>\n",
      "            <a href=\"/guidelines\">\n",
      "             Site Guidelines\n",
      "            </a>\n",
      "           </li>\n",
      "          </ul>\n",
      "         </div>\n",
      "         <div class=\"FooterLinkList__StyledFooterLinkList-sc-1ti814v-0 bBRjeX\">\n",
      "          <div class=\"FooterLinkList__FooterLinkListHeader-sc-1ti814v-1 kACzTK\">\n",
      "           Legal\n",
      "          </div>\n",
      "          <ul>\n",
      "           <li>\n",
      "            <a href=\"/terms-of-use\">\n",
      "             Terms &amp; Conditions\n",
      "            </a>\n",
      "           </li>\n",
      "           <li>\n",
      "            <a href=\"/privacy\">\n",
      "             Privacy Policy\n",
      "            </a>\n",
      "           </li>\n",
      "           <li>\n",
      "            <a href=\"/copyright\">\n",
      "             Copyright Compliance Policy\n",
      "            </a>\n",
      "           </li>\n",
      "           <li>\n",
      "            <a href=\"/privacy#sectionp10\">\n",
      "             CA Notice at Collection\n",
      "            </a>\n",
      "           </li>\n",
      "           <li>\n",
      "            <a href=\"/ccpa\">\n",
      "             CA Do Not Sell or Share My Personal Information\n",
      "            </a>\n",
      "           </li>\n",
      "          </ul>\n",
      "         </div>\n",
      "         <div class=\"FooterLinkList__StyledFooterLinkList-sc-1ti814v-0 bBRjeX\">\n",
      "          <div class=\"FooterLinkList__FooterLinkListHeader-sc-1ti814v-1 kACzTK\">\n",
      "           Partners\n",
      "          </div>\n",
      "          <ul>\n",
      "           <li>\n",
      "            <a href=\"https://www.optimum.com/\">\n",
      "             Optimum\n",
      "            </a>\n",
      "           </li>\n",
      "          </ul>\n",
      "         </div>\n",
      "        </div>\n",
      "        <div class=\"AnimatedFlexContainer__StyledAnimatedFlexContainer-sc-1uw0dlp-0 eiPJLZ FooterCopyright__StyledCopyright-sc-1g3eanm-0 drLSaz\">\n",
      "         <a class=\"FooterLogo__StyledLogo-sc-162o9sw-0 dzQHgc\" href=\"/\">\n",
      "          <img alt=\"Logo\" src=\"/static/media/small_rmp_logo_white.4d5ff7fa.svg\"/>\n",
      "         </a>\n",
      "         <div class=\"SocialLinks__StyledSocialLinks-bn65ay-0 cAWnKB\">\n",
      "          <a class=\"SocialIconLink__StyledSocialIconLink-sc-1iq78in-1 mvKHB\" href=\"https://www.facebook.com/RateMyProfessor\">\n",
      "           <img alt=\"RateMyProfessors on Facebook\" class=\"SocialIconLink__SocialIcon-sc-1iq78in-0 dxsWZe\" src=\"/static/media/facebook-white.5840155b.svg\"/>\n",
      "          </a>\n",
      "          <a class=\"SocialIconLink__StyledSocialIconLink-sc-1iq78in-1 mvKHB\" href=\"https://www.instagram.com/ratemyprofessors/\">\n",
      "           <img alt=\"RateMyProfessors on Instagram\" class=\"SocialIconLink__SocialIcon-sc-1iq78in-0 dxsWZe\" src=\"/static/media/twitter-white.133cb50f.svg\"/>\n",
      "          </a>\n",
      "          <a class=\"SocialIconLink__StyledSocialIconLink-sc-1iq78in-1 mvKHB\" href=\"https://twitter.com/ratemyprofessor\">\n",
      "           <img alt=\"RateMyProfessors on Twitter\" class=\"SocialIconLink__SocialIcon-sc-1iq78in-0 dxsWZe\" src=\"/static/media/instagram-white.45d739c1.svg\"/>\n",
      "          </a>\n",
      "         </div>\n",
      "         <div class=\"FooterCopyright__CopyrightText-sc-1g3eanm-1 iUNNGZ\">\n",
      "          ©\n",
      "          <!-- -->\n",
      "          2023\n",
      "          <!-- -->\n",
      "          Altice USA News, Inc. All Rights Reserved\n",
      "         </div>\n",
      "        </div>\n",
      "       </div>\n",
      "      </div>\n",
      "     </div>\n",
      "    </div>\n",
      "   </div>\n",
      "  </div>\n",
      "  <script>\n",
      "   window.__RELAY_STORE__ = {\"client:root\":{\"__id\":\"client:root\",\"__typename\":\"__Root\",\"newSearch\":{\"__ref\":\"client:root:newSearch\"},\"node(id:\\\"U2Nob29sLTEwNzM=\\\")\":{\"__ref\":\"U2Nob29sLTEwNzM=\"}},\"client:root:newSearch\":{\"__id\":\"client:root:newSearch\",\"__typename\":\"newSearch\",\"teachers(after:\\\"\\\",first:8,query:{\\\"fallback\\\":true,\\\"schoolID\\\":\\\"U2Nob29sLTEwNzM=\\\",\\\"text\\\":\\\"\\\"})\":{\"__ref\":\"client:root:newSearch:teachers(after:\\\"\\\",first:8,query:{\\\"fallback\\\":true,\\\"schoolID\\\":\\\"U2Nob29sLTEwNzM=\\\",\\\"text\\\":\\\"\\\"})\"},\"__TeacherSearchPagination_teachers_connection(query:{\\\"fallback\\\":true,\\\"schoolID\\\":\\\"U2Nob29sLTEwNzM=\\\",\\\"text\\\":\\\"\\\"})\":{\"__ref\":\"client:root:newSearch:__TeacherSearchPagination_teachers_connection(query:{\\\"fallback\\\":true,\\\"schoolID\\\":\\\"U2Nob29sLTEwNzM=\\\",\\\"text\\\":\\\"\\\"})\"}},\"client:root:newSearch:teachers(after:\\\"\\\",first:8,query:{\\\"fallback\\\":true,\\\"schoolID\\\":\\\"U2Nob29sLTEwNzM=\\\",\\\"text\\\":\\\"\\\"})\":{\"__id\":\"client:root:newSearch:teachers(after:\\\"\\\",first:8,query:{\\\"fallback\\\":true,\\\"schoolID\\\":\\\"U2Nob29sLTEwNzM=\\\",\\\"text\\\":\\\"\\\"})\",\"__typename\":\"TeacherSearchConnectionConnection\",\"didFallback\":false,\"edges\":{\"__refs\":[\"client:root:newSearch:teachers(after:\\\"\\\",first:8,query:{\\\"fallback\\\":true,\\\"schoolID\\\":\\\"U2Nob29sLTEwNzM=\\\",\\\"text\\\":\\\"\\\"}):edges:0\",\"client:root:newSearch:teachers(after:\\\"\\\",first:8,query:{\\\"fallback\\\":true,\\\"schoolID\\\":\\\"U2Nob29sLTEwNzM=\\\",\\\"text\\\":\\\"\\\"}):edges:1\",\"client:root:newSearch:teachers(after:\\\"\\\",first:8,query:{\\\"fallback\\\":true,\\\"schoolID\\\":\\\"U2Nob29sLTEwNzM=\\\",\\\"text\\\":\\\"\\\"}):edges:2\",\"client:root:newSearch:teachers(after:\\\"\\\",first:8,query:{\\\"fallback\\\":true,\\\"schoolID\\\":\\\"U2Nob29sLTEwNzM=\\\",\\\"text\\\":\\\"\\\"}):edges:3\",\"client:root:newSearch:teachers(after:\\\"\\\",first:8,query:{\\\"fallback\\\":true,\\\"schoolID\\\":\\\"U2Nob29sLTEwNzM=\\\",\\\"text\\\":\\\"\\\"}):edges:4\",\"client:root:newSearch:teachers(after:\\\"\\\",first:8,query:{\\\"fallback\\\":true,\\\"schoolID\\\":\\\"U2Nob29sLTEwNzM=\\\",\\\"text\\\":\\\"\\\"}):edges:5\",\"client:root:newSearch:teachers(after:\\\"\\\",first:8,query:{\\\"fallback\\\":true,\\\"schoolID\\\":\\\"U2Nob29sLTEwNzM=\\\",\\\"text\\\":\\\"\\\"}):edges:6\",\"client:root:newSearch:teachers(after:\\\"\\\",first:8,query:{\\\"fallback\\\":true,\\\"schoolID\\\":\\\"U2Nob29sLTEwNzM=\\\",\\\"text\\\":\\\"\\\"}):edges:7\"]},\"pageInfo\":{\"__ref\":\"client:root:newSearch:teachers(after:\\\"\\\",first:8,query:{\\\"fallback\\\":true,\\\"schoolID\\\":\\\"U2Nob29sLTEwNzM=\\\",\\\"text\\\":\\\"\\\"}):pageInfo\"},\"resultCount\":4690,\"filters\":{\"__refs\":[\"client:root:newSearch:teachers(after:\\\"\\\",first:8,query:{\\\"fallback\\\":true,\\\"schoolID\\\":\\\"U2Nob29sLTEwNzM=\\\",\\\"text\\\":\\\"\\\"}):filters:0\"]}},\"client:root:newSearch:teachers(after:\\\"\\\",first:8,query:{\\\"fallback\\\":true,\\\"schoolID\\\":\\\"U2Nob29sLTEwNzM=\\\",\\\"text\\\":\\\"\\\"}):edges:0\":{\"__id\":\"client:root:newSearch:teachers(after:\\\"\\\",first:8,query:{\\\"fallback\\\":true,\\\"schoolID\\\":\\\"U2Nob29sLTEwNzM=\\\",\\\"text\\\":\\\"\\\"}):edges:0\",\"__typename\":\"TeacherSearchConnectionEdge\",\"cursor\":\"YXJyYXljb25uZWN0aW9uOjA=\",\"node\":{\"__ref\":\"VGVhY2hlci05NTY2\"}},\"VGVhY2hlci05NTY2\":{\"__id\":\"VGVhY2hlci05NTY2\",\"__typename\":\"Teacher\",\"id\":\"VGVhY2hlci05NTY2\",\"legacyId\":9566,\"avgRating\":3.3,\"numRatings\":39,\"wouldTakeAgainPercent\":-1,\"avgDifficulty\":2.9,\"department\":\"Languages\",\"school\":{\"__ref\":\"U2Nob29sLTEwNzM=\"},\"firstName\":\"Robert\",\"lastName\":\"Borgen\",\"isSaved\":false},\"U2Nob29sLTEwNzM=\":{\"__id\":\"U2Nob29sLTEwNzM=\",\"__typename\":\"School\",\"name\":\"University of California Davis\",\"id\":\"U2Nob29sLTEwNzM=\"},\"client:root:newSearch:teachers(after:\\\"\\\",first:8,query:{\\\"fallback\\\":true,\\\"schoolID\\\":\\\"U2Nob29sLTEwNzM=\\\",\\\"text\\\":\\\"\\\"}):edges:1\":{\"__id\":\"client:root:newSearch:teachers(after:\\\"\\\",first:8,query:{\\\"fallback\\\":true,\\\"schoolID\\\":\\\"U2Nob29sLTEwNzM=\\\",\\\"text\\\":\\\"\\\"}):edges:1\",\"__typename\":\"TeacherSearchConnectionEdge\",\"cursor\":\"YXJyYXljb25uZWN0aW9uOjE=\",\"node\":{\"__ref\":\"VGVhY2hlci05NTY4\"}},\"VGVhY2hlci05NTY4\":{\"__id\":\"VGVhY2hlci05NTY4\",\"__typename\":\"Teacher\",\"id\":\"VGVhY2hlci05NTY4\",\"legacyId\":9568,\"avgRating\":2.6,\"numRatings\":47,\"wouldTakeAgainPercent\":-1,\"avgDifficulty\":2.7,\"department\":\"Anthropology\",\"school\":{\"__ref\":\"U2Nob29sLTEwNzM=\"},\"firstName\":\"Aram\",\"lastName\":\"Yengoyan\",\"isSaved\":false},\"client:root:newSearch:teachers(after:\\\"\\\",first:8,query:{\\\"fallback\\\":true,\\\"schoolID\\\":\\\"U2Nob29sLTEwNzM=\\\",\\\"text\\\":\\\"\\\"}):edges:2\":{\"__id\":\"client:root:newSearch:teachers(after:\\\"\\\",first:8,query:{\\\"fallback\\\":true,\\\"schoolID\\\":\\\"U2Nob29sLTEwNzM=\\\",\\\"text\\\":\\\"\\\"}):edges:2\",\"__typename\":\"TeacherSearchConnectionEdge\",\"cursor\":\"YXJyYXljb25uZWN0aW9uOjI=\",\"node\":{\"__ref\":\"VGVhY2hlci05NTcw\"}},\"VGVhY2hlci05NTcw\":{\"__id\":\"VGVhY2hlci05NTcw\",\"__typename\":\"Teacher\",\"id\":\"VGVhY2hlci05NTcw\",\"legacyId\":9570,\"avgRating\":3.2,\"numRatings\":13,\"wouldTakeAgainPercent\":-1,\"avgDifficulty\":3.1,\"department\":\"Social Science\",\"school\":{\"__ref\":\"U2Nob29sLTEwNzM=\"},\"firstName\":\"Patrick\",\"lastName\":\"Carroll-Burke\",\"isSaved\":false},\"client:root:newSearch:teachers(after:\\\"\\\",first:8,query:{\\\"fallback\\\":true,\\\"schoolID\\\":\\\"U2Nob29sLTEwNzM=\\\",\\\"text\\\":\\\"\\\"}):edges:3\":{\"__id\":\"client:root:newSearch:teachers(after:\\\"\\\",first:8,query:{\\\"fallback\\\":true,\\\"schoolID\\\":\\\"U2Nob29sLTEwNzM=\\\",\\\"text\\\":\\\"\\\"}):edges:3\",\"__typename\":\"TeacherSearchConnectionEdge\",\"cursor\":\"YXJyYXljb25uZWN0aW9uOjM=\",\"node\":{\"__ref\":\"VGVhY2hlci0xMzQ4MQ==\"}},\"VGVhY2hlci0xMzQ4MQ==\":{\"__id\":\"VGVhY2hlci0xMzQ4MQ==\",\"__typename\":\"Teacher\",\"id\":\"VGVhY2hlci0xMzQ4MQ==\",\"legacyId\":13481,\"avgRating\":4.5,\"numRatings\":124,\"wouldTakeAgainPercent\":-1,\"avgDifficulty\":2.5,\"department\":\"Anthropology\",\"school\":{\"__ref\":\"U2Nob29sLTEwNzM=\"},\"firstName\":\"Henry\",\"lastName\":\"McHenry\",\"isSaved\":false},\"client:root:newSearch:teachers(after:\\\"\\\",first:8,query:{\\\"fallback\\\":true,\\\"schoolID\\\":\\\"U2Nob29sLTEwNzM=\\\",\\\"text\\\":\\\"\\\"}):edges:4\":{\"__id\":\"client:root:newSearch:teachers(after:\\\"\\\",first:8,query:{\\\"fallback\\\":true,\\\"schoolID\\\":\\\"U2Nob29sLTEwNzM=\\\",\\\"text\\\":\\\"\\\"}):edges:4\",\"__typename\":\"TeacherSearchConnectionEdge\",\"cursor\":\"YXJyYXljb25uZWN0aW9uOjQ=\",\"node\":{\"__ref\":\"VGVhY2hlci0yMjIzMA==\"}},\"VGVhY2hlci0yMjIzMA==\":{\"__id\":\"VGVhY2hlci0yMjIzMA==\",\"__typename\":\"Teacher\",\"id\":\"VGVhY2hlci0yMjIzMA==\",\"legacyId\":22230,\"avgRating\":3.8,\"numRatings\":73,\"wouldTakeAgainPercent\":-1,\"avgDifficulty\":3.6,\"department\":\"Anthropology\",\"school\":{\"__ref\":\"U2Nob29sLTEwNzM=\"},\"firstName\":\"Peter\",\"lastName\":\"Rodman\",\"isSaved\":false},\"client:root:newSearch:teachers(after:\\\"\\\",first:8,query:{\\\"fallback\\\":true,\\\"schoolID\\\":\\\"U2Nob29sLTEwNzM=\\\",\\\"text\\\":\\\"\\\"}):edges:5\":{\"__id\":\"client:root:newSearch:teachers(after:\\\"\\\",first:8,query:{\\\"fallback\\\":true,\\\"schoolID\\\":\\\"U2Nob29sLTEwNzM=\\\",\\\"text\\\":\\\"\\\"}):edges:5\",\"__typename\":\"TeacherSearchConnectionEdge\",\"cursor\":\"YXJyYXljb25uZWN0aW9uOjU=\",\"node\":{\"__ref\":\"VGVhY2hlci0yNDE4MQ==\"}},\"VGVhY2hlci0yNDE4MQ==\":{\"__id\":\"VGVhY2hlci0yNDE4MQ==\",\"__typename\":\"Teacher\",\"id\":\"VGVhY2hlci0yNDE4MQ==\",\"legacyId\":24181,\"avgRating\":2.5,\"numRatings\":45,\"wouldTakeAgainPercent\":-1,\"avgDifficulty\":3.2,\"department\":\"History\",\"school\":{\"__ref\":\"U2Nob29sLTEwNzM=\"},\"firstName\":\"Bill\",\"lastName\":\"Hagen\",\"isSaved\":false},\"client:root:newSearch:teachers(after:\\\"\\\",first:8,query:{\\\"fallback\\\":true,\\\"schoolID\\\":\\\"U2Nob29sLTEwNzM=\\\",\\\"text\\\":\\\"\\\"}):edges:6\":{\"__id\":\"client:root:newSearch:teachers(after:\\\"\\\",first:8,query:{\\\"fallback\\\":true,\\\"schoolID\\\":\\\"U2Nob29sLTEwNzM=\\\",\\\"text\\\":\\\"\\\"}):edges:6\",\"__typename\":\"TeacherSearchConnectionEdge\",\"cursor\":\"YXJyYXljb25uZWN0aW9uOjY=\",\"node\":{\"__ref\":\"VGVhY2hlci0yNDE4Mg==\"}},\"VGVhY2hlci0yNDE4Mg==\":{\"__id\":\"VGVhY2hlci0yNDE4Mg==\",\"__typename\":\"Teacher\",\"id\":\"VGVhY2hlci0yNDE4Mg==\",\"legacyId\":24182,\"avgRating\":4.4,\"numRatings\":37,\"wouldTakeAgainPercent\":80,\"avgDifficulty\":2.5,\"department\":\"History\",\"school\":{\"__ref\":\"U2Nob29sLTEwNzM=\"},\"firstName\":\"Charles\",\"lastName\":\"Walker\",\"isSaved\":false},\"client:root:newSearch:teachers(after:\\\"\\\",first:8,query:{\\\"fallback\\\":true,\\\"schoolID\\\":\\\"U2Nob29sLTEwNzM=\\\",\\\"text\\\":\\\"\\\"}):edges:7\":{\"__id\":\"client:root:newSearch:teachers(after:\\\"\\\",first:8,query:{\\\"fallback\\\":true,\\\"schoolID\\\":\\\"U2Nob29sLTEwNzM=\\\",\\\"text\\\":\\\"\\\"}):edges:7\",\"__typename\":\"TeacherSearchConnectionEdge\",\"cursor\":\"YXJyYXljb25uZWN0aW9uOjc=\",\"node\":{\"__ref\":\"VGVhY2hlci0yNDE4Mw==\"}},\"VGVhY2hlci0yNDE4Mw==\":{\"__id\":\"VGVhY2hlci0yNDE4Mw==\",\"__typename\":\"Teacher\",\"id\":\"VGVhY2hlci0yNDE4Mw==\",\"legacyId\":24183,\"avgRating\":3.3,\"numRatings\":76,\"wouldTakeAgainPercent\":40,\"avgDifficulty\":3.2,\"department\":\"Art & Art History\",\"school\":{\"__ref\":\"U2Nob29sLTEwNzM=\"},\"firstName\":\"Lynn\",\"lastName\":\"Roller\",\"isSaved\":false},\"client:root:newSearch:teachers(after:\\\"\\\",first:8,query:{\\\"fallback\\\":true,\\\"schoolID\\\":\\\"U2Nob29sLTEwNzM=\\\",\\\"text\\\":\\\"\\\"}):pageInfo\":{\"__id\":\"client:root:newSearch:teachers(after:\\\"\\\",first:8,query:{\\\"fallback\\\":true,\\\"schoolID\\\":\\\"U2Nob29sLTEwNzM=\\\",\\\"text\\\":\\\"\\\"}):pageInfo\",\"__typename\":\"PageInfo\",\"hasNextPage\":true,\"endCursor\":\"YXJyYXljb25uZWN0aW9uOjc=\"},\"client:root:newSearch:teachers(after:\\\"\\\",first:8,query:{\\\"fallback\\\":true,\\\"schoolID\\\":\\\"U2Nob29sLTEwNzM=\\\",\\\"text\\\":\\\"\\\"}):filters:0\":{\"__id\":\"client:root:newSearch:teachers(after:\\\"\\\",first:8,query:{\\\"fallback\\\":true,\\\"schoolID\\\":\\\"U2Nob29sLTEwNzM=\\\",\\\"text\\\":\\\"\\\"}):filters:0\",\"__typename\":\"Filter\",\"field\":\"teacherdepartment_s\",\"options\":{\"__refs\":[\"RGVwYXJ0bWVudC0xMTM2\",\"RGVwYXJ0bWVudC0yNDA=\",\"RGVwYXJ0bWVudC0yODE0\",\"RGVwYXJ0bWVudC0xNTI3\",\"RGVwYXJ0bWVudC0y\",\"RGVwYXJ0bWVudC0xMjU=\",\"RGVwYXJ0bWVudC05MQ==\",\"RGVwYXJ0bWVudC0z\",\"RGVwYXJ0bWVudC0xMTM=\",\"RGVwYXJ0bWVudC0xNjYx\",\"RGVwYXJ0bWVudC01\",\"RGVwYXJ0bWVudC0xNTEw\",\"RGVwYXJ0bWVudC0xNzc=\",\"RGVwYXJ0bWVudC05Mw==\",\"RGVwYXJ0bWVudC0xODk=\",\"RGVwYXJ0bWVudC02\",\"RGVwYXJ0bWVudC0xMDcz\",\"RGVwYXJ0bWVudC0xMjMw\",\"RGVwYXJ0bWVudC02MQ==\",\"RGVwYXJ0bWVudC04\",\"RGVwYXJ0bWVudC0xMzkw\",\"RGVwYXJ0bWVudC02OA==\",\"RGVwYXJ0bWVudC02Mg==\",\"RGVwYXJ0bWVudC05\",\"RGVwYXJ0bWVudC0xMA==\",\"RGVwYXJ0bWVudC0yMTI=\",\"RGVwYXJ0bWVudC0xMQ==\",\"RGVwYXJ0bWVudC0zNDY=\",\"RGVwYXJ0bWVudC0xNA==\",\"RGVwYXJ0bWVudC01NjI=\",\"RGVwYXJ0bWVudC0xNQ==\",\"RGVwYXJ0bWVudC0xNg==\",\"client:root:newSearch:teachers(after:\\\"\\\",first:8,query:{\\\"fallback\\\":true,\\\"schoolID\\\":\\\"U2Nob29sLTEwNzM=\\\",\\\"text\\\":\\\"\\\"}):filters:0:options:32\",\"RGVwYXJ0bWVudC0xNzM4\",\"RGVwYXJ0bWVudC0xMDc=\",\"RGVwYXJ0bWVudC0xNw==\",\"RGVwYXJ0bWVudC0xOA==\",\"RGVwYXJ0bWVudC0xMDU=\",\"RGVwYXJ0bWVudC0xMDg=\",\"RGVwYXJ0bWVudC0yOTQ2\",\"RGVwYXJ0bWVudC0xNDc3\",\"RGVwYXJ0bWVudC0xOQ==\",\"RGVwYXJ0bWVudC0yMA==\",\"RGVwYXJ0bWVudC0yMg==\",\"RGVwYXJ0bWVudC0xMTE=\",\"RGVwYXJ0bWVudC0xNzg3\",\"RGVwYXJ0bWVudC03MA==\",\"RGVwYXJ0bWVudC0xNjQ5\",\"RGVwYXJ0bWVudC0yNA==\",\"RGVwYXJ0bWVudC02NQ==\",\"RGVwYXJ0bWVudC0yNg==\",\"RGVwYXJ0bWVudC0yNw==\",\"RGVwYXJ0bWVudC05OTk=\",\"RGVwYXJ0bWVudC05NDU=\",\"RGVwYXJ0bWVudC0yOQ==\",\"RGVwYXJ0bWVudC04MQ==\",\"RGVwYXJ0bWVudC0xNzA=\",\"RGVwYXJ0bWVudC0xMjQ=\",\"RGVwYXJ0bWVudC0zMw==\",\"RGVwYXJ0bWVudC0zNA==\",\"RGVwYXJ0bWVudC0xMjk=\",\"RGVwYXJ0bWVudC0zNQ==\",\"RGVwYXJ0bWVudC0zNg==\",\"RGVwYXJ0bWVudC02Nw==\",\"RGVwYXJ0bWVudC0zOA==\",\"RGVwYXJ0bWVudC02OQ==\",\"RGVwYXJ0bWVudC0zOQ==\",\"RGVwYXJ0bWVudC0xMzQ=\",\"RGVwYXJ0bWVudC00MA==\",\"RGVwYXJ0bWVudC0xMzUz\",\"RGVwYXJ0bWVudC0zNDQ=\",\"client:root:newSearch:teachers(after:\\\"\\\",first:8,query:{\\\"fallback\\\":true,\\\"schoolID\\\":\\\"U2Nob29sLTEwNzM=\\\",\\\"text\\\":\\\"\\\"}):filters:0:options:71\",\"RGVwYXJ0bWVudC0xNjU3\",\"client:root:newSearch:teachers(after:\\\"\\\",first:8,query:{\\\"fallback\\\":true,\\\"schoolID\\\":\\\"U2Nob29sLTEwNzM=\\\",\\\"text\\\":\\\"\\\"}):filters:0:options:73\",\"RGVwYXJ0bWVudC0zNTE=\",\"RGVwYXJ0bWVudC0xMzY5\",\"RGVwYXJ0bWVudC00Mg==\",\"client:root:newSearch:teachers(after:\\\"\\\",first:8,query:{\\\"fallback\\\":true,\\\"schoolID\\\":\\\"U2Nob29sLTEwNzM=\\\",\\\"text\\\":\\\"\\\"}):filters:0:options:77\",\"RGVwYXJ0bWVudC00Mw==\",\"RGVwYXJ0bWVudC00NA==\",\"client:root:newSearch:teachers(after:\\\"\\\",first:8,query:{\\\"fallback\\\":true,\\\"schoolID\\\":\\\"U2Nob29sLTEwNzM=\\\",\\\"text\\\":\\\"\\\"}):filters:0:options:80\",\"RGVwYXJ0bWVudC0xMDg0\",\"RGVwYXJ0bWVudC0xNzY3\",\"RGVwYXJ0bWVudC00NQ==\",\"RGVwYXJ0bWVudC00Ng==\",\"RGVwYXJ0bWVudC0zMzk=\",\"RGVwYXJ0bWVudC00OA==\",\"RGVwYXJ0bWVudC00OQ==\",\"RGVwYXJ0bWVudC01MQ==\",\"RGVwYXJ0bWVudC04MA==\",\"RGVwYXJ0bWVudC0xNDA=\",\"RGVwYXJ0bWVudC01MzM=\",\"RGVwYXJ0bWVudC0xNDc5\",\"RGVwYXJ0bWVudC01Mg==\",\"RGVwYXJ0bWVudC03NDg=\",\"RGVwYXJ0bWVudC0yMjE3\",\"RGVwYXJ0bWVudC0xNDU=\",\"RGVwYXJ0bWVudC00NTY=\",\"RGVwYXJ0bWVudC01Mw==\",\"RGVwYXJ0bWVudC01NA==\"]}},\"RGVwYXJ0bWVudC0xMTM2\":{\"__id\":\"RGVwYXJ0bWVudC0xMTM2\",\"__typename\":\"FilterOption\",\"value\":\"advisor\",\"id\":\"RGVwYXJ0bWVudC0xMTM2\"},\"RGVwYXJ0bWVudC0yNDA=\":{\"__id\":\"RGVwYXJ0bWVudC0yNDA=\",\"__typename\":\"FilterOption\",\"value\":\"african-american studies\",\"id\":\"RGVwYXJ0bWVudC0yNDA=\"},\"RGVwYXJ0bWVudC0yODE0\":{\"__id\":\"RGVwYXJ0bWVudC0yODE0\",\"__typename\":\"FilterOption\",\"value\":\"agricultural & resource economics\",\"id\":\"RGVwYXJ0bWVudC0yODE0\"},\"RGVwYXJ0bWVudC0xNTI3\":{\"__id\":\"RGVwYXJ0bWVudC0xNTI3\",\"__typename\":\"FilterOption\",\"value\":\"agricultural economics\",\"id\":\"RGVwYXJ0bWVudC0xNTI3\"},\"RGVwYXJ0bWVudC0y\":{\"__id\":\"RGVwYXJ0bWVudC0y\",\"__typename\":\"FilterOption\",\"value\":\"agriculture\",\"id\":\"RGVwYXJ0bWVudC0y\"},\"RGVwYXJ0bWVudC0xMjU=\":{\"__id\":\"RGVwYXJ0bWVudC0xMjU=\",\"__typename\":\"FilterOption\",\"value\":\"american studies\",\"id\":\"RGVwYXJ0bWVudC0xMjU=\"},\"RGVwYXJ0bWVudC05MQ==\":{\"__id\":\"RGVwYXJ0bWVudC05MQ==\",\"__typename\":\"FilterOption\",\"value\":\"animal science\",\"id\":\"RGVwYXJ0bWVudC05MQ==\"},\"RGVwYXJ0bWVudC0z\":{\"__id\":\"RGVwYXJ0bWVudC0z\",\"__typename\":\"FilterOption\",\"value\":\"anthropology\",\"id\":\"RGVwYXJ0bWVudC0z\"},\"RGVwYXJ0bWVudC0xMTM=\":{\"__id\":\"RGVwYXJ0bWVudC0xMTM=\",\"__typename\":\"FilterOption\",\"value\":\"art\",\"id\":\"RGVwYXJ0bWVudC0xMTM=\"},\"RGVwYXJ0bWVudC0xNjYx\":{\"__id\":\"RGVwYXJ0bWVudC0xNjYx\",\"__typename\":\"FilterOption\",\"value\":\"art & art history\",\"id\":\"RGVwYXJ0bWVudC0xNjYx\"},\"RGVwYXJ0bWVudC01\":{\"__id\":\"RGVwYXJ0bWVudC01\",\"__typename\":\"FilterOption\",\"value\":\"art history\",\"id\":\"RGVwYXJ0bWVudC01\"},\"RGVwYXJ0bWVudC0xNTEw\":{\"__id\":\"RGVwYXJ0bWVudC0xNTEw\",\"__typename\":\"FilterOption\",\"value\":\"asian american studies\",\"id\":\"RGVwYXJ0bWVudC0xNTEw\"},\"RGVwYXJ0bWVudC0xNzc=\":{\"__id\":\"RGVwYXJ0bWVudC0xNzc=\",\"__typename\":\"FilterOption\",\"value\":\"asian studies\",\"id\":\"RGVwYXJ0bWVudC0xNzc=\"},\"RGVwYXJ0bWVudC05Mw==\":{\"__id\":\"RGVwYXJ0bWVudC05Mw==\",\"__typename\":\"FilterOption\",\"value\":\"biochemistry\",\"id\":\"RGVwYXJ0bWVudC05Mw==\"},\"RGVwYXJ0bWVudC0xODk=\":{\"__id\":\"RGVwYXJ0bWVudC0xODk=\",\"__typename\":\"FilterOption\",\"value\":\"biological sciences\",\"id\":\"RGVwYXJ0bWVudC0xODk=\"},\"RGVwYXJ0bWVudC02\":{\"__id\":\"RGVwYXJ0bWVudC02\",\"__typename\":\"FilterOption\",\"value\":\"biology\",\"id\":\"RGVwYXJ0bWVudC02\"},\"RGVwYXJ0bWVudC0xMDcz\":{\"__id\":\"RGVwYXJ0bWVudC0xMDcz\",\"__typename\":\"FilterOption\",\"value\":\"biomedical\",\"id\":\"RGVwYXJ0bWVudC0xMDcz\"},\"RGVwYXJ0bWVudC0xMjMw\":{\"__id\":\"RGVwYXJ0bWVudC0xMjMw\",\"__typename\":\"FilterOption\",\"value\":\"biomedical engineering\",\"id\":\"RGVwYXJ0bWVudC0xMjMw\"},\"RGVwYXJ0bWVudC02MQ==\":{\"__id\":\"RGVwYXJ0bWVudC02MQ==\",\"__typename\":\"FilterOption\",\"value\":\"chemical engineering\",\"id\":\"RGVwYXJ0bWVudC02MQ==\"},\"RGVwYXJ0bWVudC04\":{\"__id\":\"RGVwYXJ0bWVudC04\",\"__typename\":\"FilterOption\",\"value\":\"chemistry\",\"id\":\"RGVwYXJ0bWVudC04\"},\"RGVwYXJ0bWVudC0xMzkw\":{\"__id\":\"RGVwYXJ0bWVudC0xMzkw\",\"__typename\":\"FilterOption\",\"value\":\"chicano studies\",\"id\":\"RGVwYXJ0bWVudC0xMzkw\"},\"RGVwYXJ0bWVudC02OA==\":{\"__id\":\"RGVwYXJ0bWVudC02OA==\",\"__typename\":\"FilterOption\",\"value\":\"chinese\",\"id\":\"RGVwYXJ0bWVudC02OA==\"},\"RGVwYXJ0bWVudC02Mg==\":{\"__id\":\"RGVwYXJ0bWVudC02Mg==\",\"__typename\":\"FilterOption\",\"value\":\"civil engineering\",\"id\":\"RGVwYXJ0bWVudC02Mg==\"},\"RGVwYXJ0bWVudC05\":{\"__id\":\"RGVwYXJ0bWVudC05\",\"__typename\":\"FilterOption\",\"value\":\"classics\",\"id\":\"RGVwYXJ0bWVudC05\"},\"RGVwYXJ0bWVudC0xMA==\":{\"__id\":\"RGVwYXJ0bWVudC0xMA==\",\"__typename\":\"FilterOption\",\"value\":\"communication\",\"id\":\"RGVwYXJ0bWVudC0xMA==\"},\"RGVwYXJ0bWVudC0yMTI=\":{\"__id\":\"RGVwYXJ0bWVudC0yMTI=\",\"__typename\":\"FilterOption\",\"value\":\"comparative literature\",\"id\":\"RGVwYXJ0bWVudC0yMTI=\"},\"RGVwYXJ0bWVudC0xMQ==\":{\"__id\":\"RGVwYXJ0bWVudC0xMQ==\",\"__typename\":\"FilterOption\",\"value\":\"computer science\",\"id\":\"RGVwYXJ0bWVudC0xMQ==\"},\"RGVwYXJ0bWVudC0zNDY=\":{\"__id\":\"RGVwYXJ0bWVudC0zNDY=\",\"__typename\":\"FilterOption\",\"value\":\"cultural studies\",\"id\":\"RGVwYXJ0bWVudC0zNDY=\"},\"RGVwYXJ0bWVudC0xNA==\":{\"__id\":\"RGVwYXJ0bWVudC0xNA==\",\"__typename\":\"FilterOption\",\"value\":\"design\",\"id\":\"RGVwYXJ0bWVudC0xNA==\"},\"RGVwYXJ0bWVudC01NjI=\":{\"__id\":\"RGVwYXJ0bWVudC01NjI=\",\"__typename\":\"FilterOption\",\"value\":\"ecology & evolutionary biology\",\"id\":\"RGVwYXJ0bWVudC01NjI=\"},\"RGVwYXJ0bWVudC0xNQ==\":{\"__id\":\"RGVwYXJ0bWVudC0xNQ==\",\"__typename\":\"FilterOption\",\"value\":\"economics\",\"id\":\"RGVwYXJ0bWVudC0xNQ==\"},\"RGVwYXJ0bWVudC0xNg==\":{\"__id\":\"RGVwYXJ0bWVudC0xNg==\",\"__typename\":\"FilterOption\",\"value\":\"education\",\"id\":\"RGVwYXJ0bWVudC0xNg==\"},\"client:root:newSearch:teachers(after:\\\"\\\",first:8,query:{\\\"fallback\\\":true,\\\"schoolID\\\":\\\"U2Nob29sLTEwNzM=\\\",\\\"text\\\":\\\"\\\"}):filters:0:options:32\":{\"__id\":\"client:root:newSearch:teachers(after:\\\"\\\",first:8,query:{\\\"fallback\\\":true,\\\"schoolID\\\":\\\"U2Nob29sLTEwNzM=\\\",\\\"text\\\":\\\"\\\"}):filters:0:options:32\",\"__typename\":\"FilterOption\",\"value\":\"electrical  comp. engineering\",\"id\":\"\"},\"RGVwYXJ0bWVudC0xNzM4\":{\"__id\":\"RGVwYXJ0bWVudC0xNzM4\",\"__typename\":\"FilterOption\",\"value\":\"electrical & comp. engineering\",\"id\":\"RGVwYXJ0bWVudC0xNzM4\"},\"RGVwYXJ0bWVudC0xMDc=\":{\"__id\":\"RGVwYXJ0bWVudC0xMDc=\",\"__typename\":\"FilterOption\",\"value\":\"electrical engineering\",\"id\":\"RGVwYXJ0bWVudC0xMDc=\"},\"RGVwYXJ0bWVudC0xNw==\":{\"__id\":\"RGVwYXJ0bWVudC0xNw==\",\"__typename\":\"FilterOption\",\"value\":\"engineering\",\"id\":\"RGVwYXJ0bWVudC0xNw==\"},\"RGVwYXJ0bWVudC0xOA==\":{\"__id\":\"RGVwYXJ0bWVudC0xOA==\",\"__typename\":\"FilterOption\",\"value\":\"english\",\"id\":\"RGVwYXJ0bWVudC0xOA==\"},\"RGVwYXJ0bWVudC0xMDU=\":{\"__id\":\"RGVwYXJ0bWVudC0xMDU=\",\"__typename\":\"FilterOption\",\"value\":\"entomology\",\"id\":\"RGVwYXJ0bWVudC0xMDU=\"},\"RGVwYXJ0bWVudC0xMDg=\":{\"__id\":\"RGVwYXJ0bWVudC0xMDg=\",\"__typename\":\"FilterOption\",\"value\":\"environmental science\",\"id\":\"RGVwYXJ0bWVudC0xMDg=\"},\"RGVwYXJ0bWVudC0yOTQ2\":{\"__id\":\"RGVwYXJ0bWVudC0yOTQ2\",\"__typename\":\"FilterOption\",\"value\":\"environmental science & policy\",\"id\":\"RGVwYXJ0bWVudC0yOTQ2\"},\"RGVwYXJ0bWVudC0xNDc3\":{\"__id\":\"RGVwYXJ0bWVudC0xNDc3\",\"__typename\":\"FilterOption\",\"value\":\"environmental toxicology\",\"id\":\"RGVwYXJ0bWVudC0xNDc3\"},\"RGVwYXJ0bWVudC0xOQ==\":{\"__id\":\"RGVwYXJ0bWVudC0xOQ==\",\"__typename\":\"FilterOption\",\"value\":\"ethnic studies\",\"id\":\"RGVwYXJ0bWVudC0xOQ==\"},\"RGVwYXJ0bWVudC0yMA==\":{\"__id\":\"RGVwYXJ0bWVudC0yMA==\",\"__typename\":\"FilterOption\",\"value\":\"film\",\"id\":\"RGVwYXJ0bWVudC0yMA==\"},\"RGVwYXJ0bWVudC0yMg==\":{\"__id\":\"RGVwYXJ0bWVudC0yMg==\",\"__typename\":\"FilterOption\",\"value\":\"fine arts\",\"id\":\"RGVwYXJ0bWVudC0yMg==\"},\"RGVwYXJ0bWVudC0xMTE=\":{\"__id\":\"RGVwYXJ0bWVudC0xMTE=\",\"__typename\":\"FilterOption\",\"value\":\"food science\",\"id\":\"RGVwYXJ0bWVudC0xMTE=\"},\"RGVwYXJ0bWVudC0xNzg3\":{\"__id\":\"RGVwYXJ0bWVudC0xNzg3\",\"__typename\":\"FilterOption\",\"value\":\"food science & technology\",\"id\":\"RGVwYXJ0bWVudC0xNzg3\"},\"RGVwYXJ0bWVudC03MA==\":{\"__id\":\"RGVwYXJ0bWVudC03MA==\",\"__typename\":\"FilterOption\",\"value\":\"french\",\"id\":\"RGVwYXJ0bWVudC03MA==\"},\"RGVwYXJ0bWVudC0xNjQ5\":{\"__id\":\"RGVwYXJ0bWVudC0xNjQ5\",\"__typename\":\"FilterOption\",\"value\":\"french & italian\",\"id\":\"RGVwYXJ0bWVudC0xNjQ5\"},\"RGVwYXJ0bWVudC0yNA==\":{\"__id\":\"RGVwYXJ0bWVudC0yNA==\",\"__typename\":\"FilterOption\",\"value\":\"geology\",\"id\":\"RGVwYXJ0bWVudC0yNA==\"},\"RGVwYXJ0bWVudC02NQ==\":{\"__id\":\"RGVwYXJ0bWVudC02NQ==\",\"__typename\":\"FilterOption\",\"value\":\"german\",\"id\":\"RGVwYXJ0bWVudC02NQ==\"},\"RGVwYXJ0bWVudC0yNg==\":{\"__id\":\"RGVwYXJ0bWVudC0yNg==\",\"__typename\":\"FilterOption\",\"value\":\"health science\",\"id\":\"RGVwYXJ0bWVudC0yNg==\"},\"RGVwYXJ0bWVudC0yNw==\":{\"__id\":\"RGVwYXJ0bWVudC0yNw==\",\"__typename\":\"FilterOption\",\"value\":\"history\",\"id\":\"RGVwYXJ0bWVudC0yNw==\"},\"RGVwYXJ0bWVudC05OTk=\":{\"__id\":\"RGVwYXJ0bWVudC05OTk=\",\"__typename\":\"FilterOption\",\"value\":\"human development\",\"id\":\"RGVwYXJ0bWVudC05OTk=\"},\"RGVwYXJ0bWVudC05NDU=\":{\"__id\":\"RGVwYXJ0bWVudC05NDU=\",\"__typename\":\"FilterOption\",\"value\":\"human ecology\",\"id\":\"RGVwYXJ0bWVudC05NDU=\"},\"RGVwYXJ0bWVudC0yOQ==\":{\"__id\":\"RGVwYXJ0bWVudC0yOQ==\",\"__typename\":\"FilterOption\",\"value\":\"humanities\",\"id\":\"RGVwYXJ0bWVudC0yOQ==\"},\"RGVwYXJ0bWVudC04MQ==\":{\"__id\":\"RGVwYXJ0bWVudC04MQ==\",\"__typename\":\"FilterOption\",\"value\":\"italian\",\"id\":\"RGVwYXJ0bWVudC04MQ==\"},\"RGVwYXJ0bWVudC0xNzA=\":{\"__id\":\"RGVwYXJ0bWVudC0xNzA=\",\"__typename\":\"FilterOption\",\"value\":\"japanese\",\"id\":\"RGVwYXJ0bWVudC0xNzA=\"},\"RGVwYXJ0bWVudC0xMjQ=\":{\"__id\":\"RGVwYXJ0bWVudC0xMjQ=\",\"__typename\":\"FilterOption\",\"value\":\"landscape architecture & regional planning\",\"id\":\"RGVwYXJ0bWVudC0xMjQ=\"},\"RGVwYXJ0bWVudC0zMw==\":{\"__id\":\"RGVwYXJ0bWVudC0zMw==\",\"__typename\":\"FilterOption\",\"value\":\"languages\",\"id\":\"RGVwYXJ0bWVudC0zMw==\"},\"RGVwYXJ0bWVudC0zNA==\":{\"__id\":\"RGVwYXJ0bWVudC0zNA==\",\"__typename\":\"FilterOption\",\"value\":\"law\",\"id\":\"RGVwYXJ0bWVudC0zNA==\"},\"RGVwYXJ0bWVudC0xMjk=\":{\"__id\":\"RGVwYXJ0bWVudC0xMjk=\",\"__typename\":\"FilterOption\",\"value\":\"linguistics\",\"id\":\"RGVwYXJ0bWVudC0xMjk=\"},\"RGVwYXJ0bWVudC0zNQ==\":{\"__id\":\"RGVwYXJ0bWVudC0zNQ==\",\"__typename\":\"FilterOption\",\"value\":\"literature\",\"id\":\"RGVwYXJ0bWVudC0zNQ==\"},\"RGVwYXJ0bWVudC0zNg==\":{\"__id\":\"RGVwYXJ0bWVudC0zNg==\",\"__typename\":\"FilterOption\",\"value\":\"management\",\"id\":\"RGVwYXJ0bWVudC0zNg==\"},\"RGVwYXJ0bWVudC02Nw==\":{\"__id\":\"RGVwYXJ0bWVudC02Nw==\",\"__typename\":\"FilterOption\",\"value\":\"materials science\",\"id\":\"RGVwYXJ0bWVudC02Nw==\"},\"RGVwYXJ0bWVudC0zOA==\":{\"__id\":\"RGVwYXJ0bWVudC0zOA==\",\"__typename\":\"FilterOption\",\"value\":\"mathematics\",\"id\":\"RGVwYXJ0bWVudC0zOA==\"},\"RGVwYXJ0bWVudC02OQ==\":{\"__id\":\"RGVwYXJ0bWVudC02OQ==\",\"__typename\":\"FilterOption\",\"value\":\"mechanical engineering\",\"id\":\"RGVwYXJ0bWVudC02OQ==\"},\"RGVwYXJ0bWVudC0zOQ==\":{\"__id\":\"RGVwYXJ0bWVudC0zOQ==\",\"__typename\":\"FilterOption\",\"value\":\"medicine\",\"id\":\"RGVwYXJ0bWVudC0zOQ==\"},\"RGVwYXJ0bWVudC0xMzQ=\":{\"__id\":\"RGVwYXJ0bWVudC0xMzQ=\",\"__typename\":\"FilterOption\",\"value\":\"microbiology\",\"id\":\"RGVwYXJ0bWVudC0xMzQ=\"},\"RGVwYXJ0bWVudC00MA==\":{\"__id\":\"RGVwYXJ0bWVudC00MA==\",\"__typename\":\"FilterOption\",\"value\":\"music\",\"id\":\"RGVwYXJ0bWVudC00MA==\"},\"RGVwYXJ0bWVudC0xMzUz\":{\"__id\":\"RGVwYXJ0bWVudC0xMzUz\",\"__typename\":\"FilterOption\",\"value\":\"native american studies\",\"id\":\"RGVwYXJ0bWVudC0xMzUz\"},\"RGVwYXJ0bWVudC0zNDQ=\":{\"__id\":\"RGVwYXJ0bWVudC0zNDQ=\",\"__typename\":\"FilterOption\",\"value\":\"native studies\",\"id\":\"RGVwYXJ0bWVudC0zNDQ=\"},\"client:root:newSearch:teachers(after:\\\"\\\",first:8,query:{\\\"fallback\\\":true,\\\"schoolID\\\":\\\"U2Nob29sLTEwNzM=\\\",\\\"text\\\":\\\"\\\"}):filters:0:options:71\":{\"__id\":\"client:root:newSearch:teachers(after:\\\"\\\",first:8,query:{\\\"fallback\\\":true,\\\"schoolID\\\":\\\"U2Nob29sLTEwNzM=\\\",\\\"text\\\":\\\"\\\"}):filters:0:options:71\",\"__typename\":\"FilterOption\",\"value\":\"neurobiology  behavior\",\"id\":\"\"},\"RGVwYXJ0bWVudC0xNjU3\":{\"__id\":\"RGVwYXJ0bWVudC0xNjU3\",\"__typename\":\"FilterOption\",\"value\":\"neurobiology & behavior\",\"id\":\"RGVwYXJ0bWVudC0xNjU3\"},\"client:root:newSearch:teachers(after:\\\"\\\",first:8,query:{\\\"fallback\\\":true,\\\"schoolID\\\":\\\"U2Nob29sLTEwNzM=\\\",\\\"text\\\":\\\"\\\"}):filters:0:options:73\":{\"__id\":\"client:root:newSearch:teachers(after:\\\"\\\",first:8,query:{\\\"fallback\\\":true,\\\"schoolID\\\":\\\"U2Nob29sLTEwNzM=\\\",\\\"text\\\":\\\"\\\"}):filters:0:options:73\",\"__typename\":\"FilterOption\",\"value\":\"not specified\",\"id\":\"\"},\"RGVwYXJ0bWVudC0zNTE=\":{\"__id\":\"RGVwYXJ0bWVudC0zNTE=\",\"__typename\":\"FilterOption\",\"value\":\"nutrition\",\"id\":\"RGVwYXJ0bWVudC0zNTE=\"},\"RGVwYXJ0bWVudC0xMzY5\":{\"__id\":\"RGVwYXJ0bWVudC0xMzY5\",\"__typename\":\"FilterOption\",\"value\":\"pathology\",\"id\":\"RGVwYXJ0bWVudC0xMzY5\"},\"RGVwYXJ0bWVudC00Mg==\":{\"__id\":\"RGVwYXJ0bWVudC00Mg==\",\"__typename\":\"FilterOption\",\"value\":\"philosophy\",\"id\":\"RGVwYXJ0bWVudC00Mg==\"},\"client:root:newSearch:teachers(after:\\\"\\\",first:8,query:{\\\"fallback\\\":true,\\\"schoolID\\\":\\\"U2Nob29sLTEwNzM=\\\",\\\"text\\\":\\\"\\\"}):filters:0:options:77\":{\"__id\":\"client:root:newSearch:teachers(after:\\\"\\\",first:8,query:{\\\"fallback\\\":true,\\\"schoolID\\\":\\\"U2Nob29sLTEwNzM=\\\",\\\"text\\\":\\\"\\\"}):filters:0:options:77\",\"__typename\":\"FilterOption\",\"value\":\"physical ed\",\"id\":\"\"},\"RGVwYXJ0bWVudC00Mw==\":{\"__id\":\"RGVwYXJ0bWVudC00Mw==\",\"__typename\":\"FilterOption\",\"value\":\"physical education\",\"id\":\"RGVwYXJ0bWVudC00Mw==\"},\"RGVwYXJ0bWVudC00NA==\":{\"__id\":\"RGVwYXJ0bWVudC00NA==\",\"__typename\":\"FilterOption\",\"value\":\"physics\",\"id\":\"RGVwYXJ0bWVudC00NA==\"},\"client:root:newSearch:teachers(after:\\\"\\\",first:8,query:{\\\"fallback\\\":true,\\\"schoolID\\\":\\\"U2Nob29sLTEwNzM=\\\",\\\"text\\\":\\\"\\\"}):filters:0:options:80\":{\"__id\":\"client:root:newSearch:teachers(after:\\\"\\\",first:8,query:{\\\"fallback\\\":true,\\\"schoolID\\\":\\\"U2Nob29sLTEwNzM=\\\",\\\"text\\\":\\\"\\\"}):filters:0:options:80\",\"__typename\":\"FilterOption\",\"value\":\"plant  soil science\",\"id\":\"\"},\"RGVwYXJ0bWVudC0xMDg0\":{\"__id\":\"RGVwYXJ0bWVudC0xMDg0\",\"__typename\":\"FilterOption\",\"value\":\"plant & soil science\",\"id\":\"RGVwYXJ0bWVudC0xMDg0\"},\"RGVwYXJ0bWVudC0xNzY3\":{\"__id\":\"RGVwYXJ0bWVudC0xNzY3\",\"__typename\":\"FilterOption\",\"value\":\"plant pathology\",\"id\":\"RGVwYXJ0bWVudC0xNzY3\"},\"RGVwYXJ0bWVudC00NQ==\":{\"__id\":\"RGVwYXJ0bWVudC00NQ==\",\"__typename\":\"FilterOption\",\"value\":\"political science\",\"id\":\"RGVwYXJ0bWVudC00NQ==\"},\"RGVwYXJ0bWVudC00Ng==\":{\"__id\":\"RGVwYXJ0bWVudC00Ng==\",\"__typename\":\"FilterOption\",\"value\":\"psychology\",\"id\":\"RGVwYXJ0bWVudC00Ng==\"},\"RGVwYXJ0bWVudC0zMzk=\":{\"__id\":\"RGVwYXJ0bWVudC0zMzk=\",\"__typename\":\"FilterOption\",\"value\":\"religious studies\",\"id\":\"RGVwYXJ0bWVudC0zMzk=\"},\"RGVwYXJ0bWVudC00OA==\":{\"__id\":\"RGVwYXJ0bWVudC00OA==\",\"__typename\":\"FilterOption\",\"value\":\"science\",\"id\":\"RGVwYXJ0bWVudC00OA==\"},\"RGVwYXJ0bWVudC00OQ==\":{\"__id\":\"RGVwYXJ0bWVudC00OQ==\",\"__typename\":\"FilterOption\",\"value\":\"social science\",\"id\":\"RGVwYXJ0bWVudC00OQ==\"},\"RGVwYXJ0bWVudC01MQ==\":{\"__id\":\"RGVwYXJ0bWVudC01MQ==\",\"__typename\":\"FilterOption\",\"value\":\"sociology\",\"id\":\"RGVwYXJ0bWVudC01MQ==\"},\"RGVwYXJ0bWVudC04MA==\":{\"__id\":\"RGVwYXJ0bWVudC04MA==\",\"__typename\":\"FilterOption\",\"value\":\"spanish\",\"id\":\"RGVwYXJ0bWVudC04MA==\"},\"RGVwYXJ0bWVudC0xNDA=\":{\"__id\":\"RGVwYXJ0bWVudC0xNDA=\",\"__typename\":\"FilterOption\",\"value\":\"statistics\",\"id\":\"RGVwYXJ0bWVudC0xNDA=\"},\"RGVwYXJ0bWVudC01MzM=\":{\"__id\":\"RGVwYXJ0bWVudC01MzM=\",\"__typename\":\"FilterOption\",\"value\":\"ta\",\"id\":\"RGVwYXJ0bWVudC01MzM=\"},\"RGVwYXJ0bWVudC0xNDc5\":{\"__id\":\"RGVwYXJ0bWVudC0xNDc5\",\"__typename\":\"FilterOption\",\"value\":\"technoculture studies\",\"id\":\"RGVwYXJ0bWVudC0xNDc5\"},\"RGVwYXJ0bWVudC01Mg==\":{\"__id\":\"RGVwYXJ0bWVudC01Mg==\",\"__typename\":\"FilterOption\",\"value\":\"theater\",\"id\":\"RGVwYXJ0bWVudC01Mg==\"},\"RGVwYXJ0bWVudC03NDg=\":{\"__id\":\"RGVwYXJ0bWVudC03NDg=\",\"__typename\":\"FilterOption\",\"value\":\"theatre & dance\",\"id\":\"RGVwYXJ0bWVudC03NDg=\"},\"RGVwYXJ0bWVudC0yMjE3\":{\"__id\":\"RGVwYXJ0bWVudC0yMjE3\",\"__typename\":\"FilterOption\",\"value\":\"university writing program\",\"id\":\"RGVwYXJ0bWVudC0yMjE3\"},\"RGVwYXJ0bWVudC0xNDU=\":{\"__id\":\"RGVwYXJ0bWVudC0xNDU=\",\"__typename\":\"FilterOption\",\"value\":\"veterinary sciences\",\"id\":\"RGVwYXJ0bWVudC0xNDU=\"},\"RGVwYXJ0bWVudC00NTY=\":{\"__id\":\"RGVwYXJ0bWVudC00NTY=\",\"__typename\":\"FilterOption\",\"value\":\"wildlife\",\"id\":\"RGVwYXJ0bWVudC00NTY=\"},\"RGVwYXJ0bWVudC01Mw==\":{\"__id\":\"RGVwYXJ0bWVudC01Mw==\",\"__typename\":\"FilterOption\",\"value\":\"women's studies\",\"id\":\"RGVwYXJ0bWVudC01Mw==\"},\"RGVwYXJ0bWVudC01NA==\":{\"__id\":\"RGVwYXJ0bWVudC01NA==\",\"__typename\":\"FilterOption\",\"value\":\"writing\",\"id\":\"RGVwYXJ0bWVudC01NA==\"},\"client:root:newSearch:__TeacherSearchPagination_teachers_connection(query:{\\\"fallback\\\":true,\\\"schoolID\\\":\\\"U2Nob29sLTEwNzM=\\\",\\\"text\\\":\\\"\\\"})\":{\"__id\":\"client:root:newSearch:__TeacherSearchPagination_teachers_connection(query:{\\\"fallback\\\":true,\\\"schoolID\\\":\\\"U2Nob29sLTEwNzM=\\\",\\\"text\\\":\\\"\\\"})\",\"__typename\":\"TeacherSearchConnectionConnection\",\"__connection_next_edge_index\":8,\"didFallback\":false,\"edges\":{\"__refs\":[\"client:root:newSearch:__TeacherSearchPagination_teachers_connection(query:{\\\"fallback\\\":true,\\\"schoolID\\\":\\\"U2Nob29sLTEwNzM=\\\",\\\"text\\\":\\\"\\\"}):edges:0\",\"client:root:newSearch:__TeacherSearchPagination_teachers_connection(query:{\\\"fallback\\\":true,\\\"schoolID\\\":\\\"U2Nob29sLTEwNzM=\\\",\\\"text\\\":\\\"\\\"}):edges:1\",\"client:root:newSearch:__TeacherSearchPagination_teachers_connection(query:{\\\"fallback\\\":true,\\\"schoolID\\\":\\\"U2Nob29sLTEwNzM=\\\",\\\"text\\\":\\\"\\\"}):edges:2\",\"client:root:newSearch:__TeacherSearchPagination_teachers_connection(query:{\\\"fallback\\\":true,\\\"schoolID\\\":\\\"U2Nob29sLTEwNzM=\\\",\\\"text\\\":\\\"\\\"}):edges:3\",\"client:root:newSearch:__TeacherSearchPagination_teachers_connection(query:{\\\"fallback\\\":true,\\\"schoolID\\\":\\\"U2Nob29sLTEwNzM=\\\",\\\"text\\\":\\\"\\\"}):edges:4\",\"client:root:newSearch:__TeacherSearchPagination_teachers_connection(query:{\\\"fallback\\\":true,\\\"schoolID\\\":\\\"U2Nob29sLTEwNzM=\\\",\\\"text\\\":\\\"\\\"}):edges:5\",\"client:root:newSearch:__TeacherSearchPagination_teachers_connection(query:{\\\"fallback\\\":true,\\\"schoolID\\\":\\\"U2Nob29sLTEwNzM=\\\",\\\"text\\\":\\\"\\\"}):edges:6\",\"client:root:newSearch:__TeacherSearchPagination_teachers_connection(query:{\\\"fallback\\\":true,\\\"schoolID\\\":\\\"U2Nob29sLTEwNzM=\\\",\\\"text\\\":\\\"\\\"}):edges:7\"]},\"pageInfo\":{\"__ref\":\"client:root:newSearch:__TeacherSearchPagination_teachers_connection(query:{\\\"fallback\\\":true,\\\"schoolID\\\":\\\"U2Nob29sLTEwNzM=\\\",\\\"text\\\":\\\"\\\"}):pageInfo\"},\"resultCount\":4690,\"filters\":{\"__refs\":[\"client:root:newSearch:teachers(after:\\\"\\\",first:8,query:{\\\"fallback\\\":true,\\\"schoolID\\\":\\\"U2Nob29sLTEwNzM=\\\",\\\"text\\\":\\\"\\\"}):filters:0\"]}},\"client:root:newSearch:__TeacherSearchPagination_teachers_connection(query:{\\\"fallback\\\":true,\\\"schoolID\\\":\\\"U2Nob29sLTEwNzM=\\\",\\\"text\\\":\\\"\\\"}):edges:0\":{\"__id\":\"client:root:newSearch:__TeacherSearchPagination_teachers_connection(query:{\\\"fallback\\\":true,\\\"schoolID\\\":\\\"U2Nob29sLTEwNzM=\\\",\\\"text\\\":\\\"\\\"}):edges:0\",\"__typename\":\"TeacherSearchConnectionEdge\",\"cursor\":\"YXJyYXljb25uZWN0aW9uOjA=\",\"node\":{\"__ref\":\"VGVhY2hlci05NTY2\"}},\"client:root:newSearch:__TeacherSearchPagination_teachers_connection(query:{\\\"fallback\\\":true,\\\"schoolID\\\":\\\"U2Nob29sLTEwNzM=\\\",\\\"text\\\":\\\"\\\"}):edges:1\":{\"__id\":\"client:root:newSearch:__TeacherSearchPagination_teachers_connection(query:{\\\"fallback\\\":true,\\\"schoolID\\\":\\\"U2Nob29sLTEwNzM=\\\",\\\"text\\\":\\\"\\\"}):edges:1\",\"__typename\":\"TeacherSearchConnectionEdge\",\"cursor\":\"YXJyYXljb25uZWN0aW9uOjE=\",\"node\":{\"__ref\":\"VGVhY2hlci05NTY4\"}},\"client:root:newSearch:__TeacherSearchPagination_teachers_connection(query:{\\\"fallback\\\":true,\\\"schoolID\\\":\\\"U2Nob29sLTEwNzM=\\\",\\\"text\\\":\\\"\\\"}):edges:2\":{\"__id\":\"client:root:newSearch:__TeacherSearchPagination_teachers_connection(query:{\\\"fallback\\\":true,\\\"schoolID\\\":\\\"U2Nob29sLTEwNzM=\\\",\\\"text\\\":\\\"\\\"}):edges:2\",\"__typename\":\"TeacherSearchConnectionEdge\",\"cursor\":\"YXJyYXljb25uZWN0aW9uOjI=\",\"node\":{\"__ref\":\"VGVhY2hlci05NTcw\"}},\"client:root:newSearch:__TeacherSearchPagination_teachers_connection(query:{\\\"fallback\\\":true,\\\"schoolID\\\":\\\"U2Nob29sLTEwNzM=\\\",\\\"text\\\":\\\"\\\"}):edges:3\":{\"__id\":\"client:root:newSearch:__TeacherSearchPagination_teachers_connection(query:{\\\"fallback\\\":true,\\\"schoolID\\\":\\\"U2Nob29sLTEwNzM=\\\",\\\"text\\\":\\\"\\\"}):edges:3\",\"__typename\":\"TeacherSearchConnectionEdge\",\"cursor\":\"YXJyYXljb25uZWN0aW9uOjM=\",\"node\":{\"__ref\":\"VGVhY2hlci0xMzQ4MQ==\"}},\"client:root:newSearch:__TeacherSearchPagination_teachers_connection(query:{\\\"fallback\\\":true,\\\"schoolID\\\":\\\"U2Nob29sLTEwNzM=\\\",\\\"text\\\":\\\"\\\"}):edges:4\":{\"__id\":\"client:root:newSearch:__TeacherSearchPagination_teachers_connection(query:{\\\"fallback\\\":true,\\\"schoolID\\\":\\\"U2Nob29sLTEwNzM=\\\",\\\"text\\\":\\\"\\\"}):edges:4\",\"__typename\":\"TeacherSearchConnectionEdge\",\"cursor\":\"YXJyYXljb25uZWN0aW9uOjQ=\",\"node\":{\"__ref\":\"VGVhY2hlci0yMjIzMA==\"}},\"client:root:newSearch:__TeacherSearchPagination_teachers_connection(query:{\\\"fallback\\\":true,\\\"schoolID\\\":\\\"U2Nob29sLTEwNzM=\\\",\\\"text\\\":\\\"\\\"}):edges:5\":{\"__id\":\"client:root:newSearch:__TeacherSearchPagination_teachers_connection(query:{\\\"fallback\\\":true,\\\"schoolID\\\":\\\"U2Nob29sLTEwNzM=\\\",\\\"text\\\":\\\"\\\"}):edges:5\",\"__typename\":\"TeacherSearchConnectionEdge\",\"cursor\":\"YXJyYXljb25uZWN0aW9uOjU=\",\"node\":{\"__ref\":\"VGVhY2hlci0yNDE4MQ==\"}},\"client:root:newSearch:__TeacherSearchPagination_teachers_connection(query:{\\\"fallback\\\":true,\\\"schoolID\\\":\\\"U2Nob29sLTEwNzM=\\\",\\\"text\\\":\\\"\\\"}):edges:6\":{\"__id\":\"client:root:newSearch:__TeacherSearchPagination_teachers_connection(query:{\\\"fallback\\\":true,\\\"schoolID\\\":\\\"U2Nob29sLTEwNzM=\\\",\\\"text\\\":\\\"\\\"}):edges:6\",\"__typename\":\"TeacherSearchConnectionEdge\",\"cursor\":\"YXJyYXljb25uZWN0aW9uOjY=\",\"node\":{\"__ref\":\"VGVhY2hlci0yNDE4Mg==\"}},\"client:root:newSearch:__TeacherSearchPagination_teachers_connection(query:{\\\"fallback\\\":true,\\\"schoolID\\\":\\\"U2Nob29sLTEwNzM=\\\",\\\"text\\\":\\\"\\\"}):edges:7\":{\"__id\":\"client:root:newSearch:__TeacherSearchPagination_teachers_connection(query:{\\\"fallback\\\":true,\\\"schoolID\\\":\\\"U2Nob29sLTEwNzM=\\\",\\\"text\\\":\\\"\\\"}):edges:7\",\"__typename\":\"TeacherSearchConnectionEdge\",\"cursor\":\"YXJyYXljb25uZWN0aW9uOjc=\",\"node\":{\"__ref\":\"VGVhY2hlci0yNDE4Mw==\"}},\"client:root:newSearch:__TeacherSearchPagination_teachers_connection(query:{\\\"fallback\\\":true,\\\"schoolID\\\":\\\"U2Nob29sLTEwNzM=\\\",\\\"text\\\":\\\"\\\"}):pageInfo\":{\"__id\":\"client:root:newSearch:__TeacherSearchPagination_teachers_connection(query:{\\\"fallback\\\":true,\\\"schoolID\\\":\\\"U2Nob29sLTEwNzM=\\\",\\\"text\\\":\\\"\\\"}):pageInfo\",\"__typename\":\"PageInfo\",\"hasNextPage\":true,\"hasPreviousPage\":false,\"endCursor\":\"YXJyYXljb25uZWN0aW9uOjc=\",\"startCursor\":null}};\n",
      "          window.process = {}\n",
      "          window.process.env = {\"REACT_APP_GTM_KEY\":\"GTM-5HVQ56V\",\"REACT_APP_USE_OAUTH\":\"true\",\"REACT_APP_OPTIMIZE_KEY\":\"OPT-MLW3VTZ\",\"REACT_APP_GA_PROPERTY\":\"UA-130629720-1\",\"REACT_APP_NEW_FORMS\":\"false\",\"REACT_APP_USE_SITE_TAKEOVER\":\"false\",\"REACT_APP_USE_COMPARE_PROFESSORS\":\"true\",\"REACT_APP_NEW_ADD_RATING\":\"true\",\"REACT_APP_SENTRY_DSN\":\"https://e767add029b840478a18a993f1d8655b@sentry.io/1848324\",\"REACT_APP_SHOW_MCGRAWHILL\":\"false\",\"REACT_APP_GRAPHQL_AUTH\":\"dGVzdDp0ZXN0\",\"REACT_APP_USE_PERMALINK\":\"true\",\"REACT_APP_AD_BUNDLE_URL\":\"//ads.ratemyprofessors.com/adBundle.js?v=5\",\"REACT_APP_RMP_ROOT\":\"https://www.ratemyprofessors.com\",\"REACT_APP_ENV\":\"production\",\"REACT_APP_PENDO_KEY\":\"9d946ee0-d91a-43ad-47cb-16f24a40d567\",\"REACT_APP_SEGMENT_KEY\":\"VWaIjEe7Ot4f3SwOgZq87WUvAsWMqPHf\",\"REACT_APP_HERMIONE_URL\":\"https://www.ratemyprofessors.com\",\"REACT_APP_RECAPTCHA_V3_KEY\":\"6LdkVtEZAAAAAKhKVS339ciry1dTTSH1hLOFAeN6\",\"REACT_APP_USE_COMPARE_SCHOOLS\":\"true\",\"REACT_APP_HOTJAR_KEY\":\"1667000\",\"REACT_APP_SHOW_CENGAGE\":\"false\",\"REACT_APP_NEW_AUTH\":\"true\"};\n",
      "  </script>\n",
      "  <script src=\"/static/js/main.54712119.js\">\n",
      "  </script>\n",
      " </body>\n",
      "</html>\n",
      "\n"
     ]
    }
   ],
   "source": [
    "html = BeautifulSoup(result.text,'lxml')\n",
    "print(html.prettify()) "
   ]
  },
  {
   "cell_type": "code",
   "execution_count": 6,
   "id": "ac5bfc7c",
   "metadata": {},
   "outputs": [
    {
     "data": {
      "text/plain": [
       "50771"
      ]
     },
     "execution_count": 6,
     "metadata": {},
     "output_type": "execute_result"
    }
   ],
   "source": [
    "result.text.find(\"Lynn\")"
   ]
  },
  {
   "cell_type": "code",
   "execution_count": 7,
   "id": "38967705",
   "metadata": {},
   "outputs": [
    {
     "data": {
      "text/plain": [
       "-1"
      ]
     },
     "execution_count": 7,
     "metadata": {},
     "output_type": "execute_result"
    }
   ],
   "source": [
    "result.text.find(\"Stylianos\")"
   ]
  },
  {
   "cell_type": "markdown",
   "id": "383778c4",
   "metadata": {},
   "source": [
    "As we have already seen in the wikipedia example, the website (html) rendered by the browser does not coincide with the html returned by the request. Apparently, some information is fetched while the *browser* executed JS. \n",
    "\n",
    "The running of scripts is a client-side operation run in the browser itself, rather\n",
    "than on a web server. \n",
    "\n",
    "JavaScript is, by far, the most common and most well-supported client-side scripting\n",
    "language on the Web today. It can be used to collect information for user tracking,\n",
    "submit forms without reloading the page, embed multimedia, and even power entire\n",
    "online games. Even deceptively simple-looking pages can often contain multiple\n",
    "pieces of JavaScript. You can find it embedded between `<script>` tags in the page’s\n",
    "source code."
   ]
  },
  {
   "cell_type": "markdown",
   "id": "794bcdb3",
   "metadata": {},
   "source": [
    "Since we are interested in the rendered html displayed by the browser, we have to artificialy render it first, then return the rendered html as a string. This can be achieved with `Selenium`. \n",
    "\n",
    "Selenium is a powerful web scraping tool developed originally for website testing.\n",
    "These days it’s also used when the accurate portrayal of websites—as they appear in a\n",
    "browser—is required. Selenium works by automating browsers to load the website,\n",
    "retrieve the required data, and even take screenshots or assert that certain actions\n",
    "happen on the website."
   ]
  },
  {
   "cell_type": "code",
   "execution_count": 13,
   "id": "c4ece51f",
   "metadata": {},
   "outputs": [],
   "source": [
    "from selenium import webdriver\n",
    "from selenium.webdriver.chrome.service import Service\n",
    "from webdriver_manager.chrome import ChromeDriverManager\n",
    "\n",
    "driver = webdriver.Chrome(service=Service(ChromeDriverManager().install()))"
   ]
  },
  {
   "cell_type": "code",
   "execution_count": 9,
   "id": "7ad2b9b5",
   "metadata": {},
   "outputs": [
    {
     "data": {
      "text/plain": [
       "'https://www.ratemyprofessors.com/search/professors/1073?q=%2A'"
      ]
     },
     "execution_count": 9,
     "metadata": {},
     "output_type": "execute_result"
    }
   ],
   "source": [
    "url = result.url\n",
    "url"
   ]
  },
  {
   "cell_type": "code",
   "execution_count": 11,
   "id": "f9bdfe0e",
   "metadata": {},
   "outputs": [],
   "source": [
    "# driver.get(url)"
   ]
  },
  {
   "cell_type": "markdown",
   "id": "9aea1c65",
   "metadata": {},
   "source": [
    "We have already seen that it takes a while to load the page in the browser. We don't have time for this. "
   ]
  },
  {
   "cell_type": "code",
   "execution_count": 15,
   "id": "00a812ee",
   "metadata": {},
   "outputs": [],
   "source": [
    "from selenium.common.exceptions import TimeoutException\n",
    "driver.set_page_load_timeout(10) # ten seconds should be enough\n",
    "\n",
    "try:\n",
    "    driver.get(url)\n",
    "except TimeoutException:\n",
    "    driver.execute_script(\"window.stop();\")"
   ]
  },
  {
   "cell_type": "markdown",
   "id": "19647c1e",
   "metadata": {},
   "source": [
    "Other professors are not displayed. For that, we have to hit the button `show more`, or, better, specify that we are only interested in stats professors. "
   ]
  },
  {
   "cell_type": "markdown",
   "id": "ae47bc55",
   "metadata": {},
   "source": [
    "How do we navigate on this page? First, we need to get rid of the cookies banner. Using developer tools, we can inspect find the 'close' button for the cookies banner: \n",
    "\n",
    "    \"/html/body/div[5]/div/div/button\""
   ]
  },
  {
   "cell_type": "markdown",
   "id": "32de6faa",
   "metadata": {},
   "source": [
    "See the [docs](https://www.selenium.dev/selenium/docs/api/py/index.html)!"
   ]
  },
  {
   "cell_type": "code",
   "execution_count": 17,
   "id": "5e0483c2",
   "metadata": {},
   "outputs": [],
   "source": [
    "button=driver.find_element(\"xpath\", \"/html/body/div[5]/div/div/button\")\n",
    "button.click()"
   ]
  },
  {
   "cell_type": "markdown",
   "id": "ecd3851f",
   "metadata": {},
   "source": [
    "Next, we should select the stats professors. To do so, we need to access the dropdown menu. From the developer tools, we find that its coded as `div` element, so we cannot use the implemented `select` method to access the dropdown. \n",
    "\n",
    "First, we need to find which `div` actually opens the dropdown. "
   ]
  },
  {
   "cell_type": "code",
   "execution_count": 49,
   "id": "7489d348",
   "metadata": {},
   "outputs": [],
   "source": [
    "driver.find_element(\"xpath\", '//div[@class=\" css-1l6bn5c-control\"]').click()"
   ]
  },
  {
   "cell_type": "markdown",
   "id": "4d6b9077",
   "metadata": {},
   "source": [
    "Lets see how the html looks like in the dropdown menu. "
   ]
  },
  {
   "cell_type": "code",
   "execution_count": 52,
   "id": "77caa54c",
   "metadata": {},
   "outputs": [],
   "source": [
    "import lxml.html as lx\n",
    "from lxml import etree\n",
    "\n",
    "html = lx.fromstring(driver.page_source)\n",
    "dropdown = html.xpath('//div[@class=\" css-1hwfws3\"]')[0]"
   ]
  },
  {
   "cell_type": "code",
   "execution_count": 51,
   "id": "34e308f8",
   "metadata": {},
   "outputs": [
    {
     "data": {
      "text/plain": [
       "[<Element div at 0x7face8976a90>]"
      ]
     },
     "execution_count": 51,
     "metadata": {},
     "output_type": "execute_result"
    }
   ],
   "source": [
    "dropdown"
   ]
  },
  {
   "cell_type": "code",
   "execution_count": 53,
   "id": "a9682ada",
   "metadata": {
    "scrolled": true
   },
   "outputs": [
    {
     "name": "stdout",
     "output_type": "stream",
     "text": [
      "<html>\n",
      " <body>\n",
      "  <div class=\"css-1hwfws3\">\n",
      "   <div class=\"css-1wa3eu0-placeholder\">\n",
      "    Select...\n",
      "   </div>\n",
      "   <input aria-autocomplete=\"list\" class=\"css-62g3xt-dummyInput\" id=\"react-select-3-input\" readonly=\"\" tabindex=\"0\" value=\"\"/>\n",
      "  </div>\n",
      " </body>\n",
      "</html>\n"
     ]
    }
   ],
   "source": [
    "print(BeautifulSoup(etree.tostring(dropdown),'lxml').prettify())"
   ]
  },
  {
   "cell_type": "markdown",
   "id": "a6dbebb1",
   "metadata": {},
   "source": [
    "We ought to select the element with `id=\"react-select-3-option-86\"`. "
   ]
  },
  {
   "cell_type": "code",
   "execution_count": 55,
   "id": "202bf82f",
   "metadata": {},
   "outputs": [],
   "source": [
    "driver.find_element(\"xpath\", '//div[@id=\"react-select-3-option-86\"]').click()"
   ]
  },
  {
   "cell_type": "markdown",
   "id": "fa67ace2",
   "metadata": {},
   "source": [
    "We learn that there are 102 professors in the Statistics department, but only 8 are shown. Further investigation shows that we might use the class attribute that contains `Pagination button`. "
   ]
  },
  {
   "cell_type": "code",
   "execution_count": 60,
   "id": "d6488c62",
   "metadata": {},
   "outputs": [],
   "source": [
    "button=driver.find_element(\"xpath\", \"//button[contains(@class, 'PaginationButton')]\")\n",
    "button.click()"
   ]
  },
  {
   "cell_type": "code",
   "execution_count": 61,
   "id": "cd11fc42",
   "metadata": {},
   "outputs": [],
   "source": [
    "import time"
   ]
  },
  {
   "cell_type": "code",
   "execution_count": 63,
   "id": "179b046a",
   "metadata": {},
   "outputs": [],
   "source": [
    "while True: \n",
    "    try: \n",
    "        time.sleep(0.2)\n",
    "        button=driver.find_element(\"xpath\", \"//button[contains(@class, 'PaginationButton')]\")\n",
    "        button.click()\n",
    "    except: \n",
    "        break"
   ]
  },
  {
   "cell_type": "code",
   "execution_count": 65,
   "id": "db6945f9",
   "metadata": {},
   "outputs": [],
   "source": [
    "html = lx.fromstring(driver.page_source)"
   ]
  },
  {
   "cell_type": "markdown",
   "id": "8892d5b2",
   "metadata": {},
   "source": [
    "We don't need the browser anymore. We can close it. "
   ]
  },
  {
   "cell_type": "code",
   "execution_count": 66,
   "id": "4a5b8bd1",
   "metadata": {},
   "outputs": [],
   "source": [
    "driver.quit()"
   ]
  },
  {
   "cell_type": "markdown",
   "id": "8ebee7a9",
   "metadata": {},
   "source": [
    "Since we do not need visual confimation of what the browser does, we can run it in headless mode as well next time. "
   ]
  },
  {
   "cell_type": "code",
   "execution_count": null,
   "id": "afbf952d",
   "metadata": {},
   "outputs": [],
   "source": [
    "#chrome_options.add_argument(\"--headless\")\n",
    "#browser = webdriver.Chrome('./chromedriver', options=chrome_options)"
   ]
  },
  {
   "cell_type": "markdown",
   "id": "8ec883d2",
   "metadata": {},
   "source": [
    "Lets retrieve name and link for now. Any further analysis can be performed similar to our previous case studies. "
   ]
  },
  {
   "cell_type": "code",
   "execution_count": 67,
   "id": "62c00f6c",
   "metadata": {},
   "outputs": [
    {
     "data": {
      "text/plain": [
       "['/professor/220688',\n",
       " '/professor/346995',\n",
       " '/professor/525108',\n",
       " '/professor/770600',\n",
       " '/professor/776124',\n",
       " '/professor/780398',\n",
       " '/professor/810072',\n",
       " '/professor/810782',\n",
       " '/professor/1109751']"
      ]
     },
     "execution_count": 67,
     "metadata": {},
     "output_type": "execute_result"
    }
   ],
   "source": [
    "links = html.xpath('//a[@class = \"TeacherCard__StyledTeacherCard-syjs0d-0 dLJIlx\"]/@href')\n",
    "links[1:10]"
   ]
  },
  {
   "cell_type": "code",
   "execution_count": 68,
   "id": "c4b3b82e",
   "metadata": {
    "scrolled": true
   },
   "outputs": [
    {
     "data": {
      "text/plain": [
       "['Abdolrahman Azari',\n",
       " 'Prabir Burman',\n",
       " 'Tamara Greasby',\n",
       " 'Rahman Azari',\n",
       " 'Clayton Schupp',\n",
       " 'Greg Wall',\n",
       " 'Lawrence C. Wang',\n",
       " 'Soma Roychowdhury',\n",
       " 'Seung Tae Yi']"
      ]
     },
     "execution_count": 68,
     "metadata": {},
     "output_type": "execute_result"
    }
   ],
   "source": [
    "names = html.xpath('//div[@class = \"CardName__StyledCardName-sc-1gyrgim-0 cJdVEK\"]')\n",
    "names = [name.text for name in names]\n",
    "names[1:10]"
   ]
  },
  {
   "cell_type": "code",
   "execution_count": 69,
   "id": "e2f57af9",
   "metadata": {},
   "outputs": [
    {
     "data": {
      "text/html": [
       "<div>\n",
       "<style scoped>\n",
       "    .dataframe tbody tr th:only-of-type {\n",
       "        vertical-align: middle;\n",
       "    }\n",
       "\n",
       "    .dataframe tbody tr th {\n",
       "        vertical-align: top;\n",
       "    }\n",
       "\n",
       "    .dataframe thead th {\n",
       "        text-align: right;\n",
       "    }\n",
       "</style>\n",
       "<table border=\"1\" class=\"dataframe\">\n",
       "  <thead>\n",
       "    <tr style=\"text-align: right;\">\n",
       "      <th></th>\n",
       "      <th>name</th>\n",
       "      <th>link</th>\n",
       "    </tr>\n",
       "  </thead>\n",
       "  <tbody>\n",
       "    <tr>\n",
       "      <th>0</th>\n",
       "      <td>Francisco Samaniego</td>\n",
       "      <td>/professor/162840</td>\n",
       "    </tr>\n",
       "    <tr>\n",
       "      <th>1</th>\n",
       "      <td>Abdolrahman Azari</td>\n",
       "      <td>/professor/220688</td>\n",
       "    </tr>\n",
       "    <tr>\n",
       "      <th>2</th>\n",
       "      <td>Prabir Burman</td>\n",
       "      <td>/professor/346995</td>\n",
       "    </tr>\n",
       "    <tr>\n",
       "      <th>3</th>\n",
       "      <td>Tamara Greasby</td>\n",
       "      <td>/professor/525108</td>\n",
       "    </tr>\n",
       "    <tr>\n",
       "      <th>4</th>\n",
       "      <td>Rahman Azari</td>\n",
       "      <td>/professor/770600</td>\n",
       "    </tr>\n",
       "    <tr>\n",
       "      <th>...</th>\n",
       "      <td>...</td>\n",
       "      <td>...</td>\n",
       "    </tr>\n",
       "    <tr>\n",
       "      <th>101</th>\n",
       "      <td>Alicia Graziosi</td>\n",
       "      <td>/professor/556414</td>\n",
       "    </tr>\n",
       "    <tr>\n",
       "      <th>102</th>\n",
       "      <td>Michael Klass</td>\n",
       "      <td>/professor/558447</td>\n",
       "    </tr>\n",
       "    <tr>\n",
       "      <th>103</th>\n",
       "      <td>Yinglei Lai</td>\n",
       "      <td>/professor/560315</td>\n",
       "    </tr>\n",
       "    <tr>\n",
       "      <th>104</th>\n",
       "      <td>Selvaratnam Sridharma</td>\n",
       "      <td>/professor/560318</td>\n",
       "    </tr>\n",
       "    <tr>\n",
       "      <th>105</th>\n",
       "      <td>K. Christiansen</td>\n",
       "      <td>/professor/566442</td>\n",
       "    </tr>\n",
       "  </tbody>\n",
       "</table>\n",
       "<p>106 rows × 2 columns</p>\n",
       "</div>"
      ],
      "text/plain": [
       "                      name               link\n",
       "0      Francisco Samaniego  /professor/162840\n",
       "1        Abdolrahman Azari  /professor/220688\n",
       "2            Prabir Burman  /professor/346995\n",
       "3           Tamara Greasby  /professor/525108\n",
       "4             Rahman Azari  /professor/770600\n",
       "..                     ...                ...\n",
       "101        Alicia Graziosi  /professor/556414\n",
       "102          Michael Klass  /professor/558447\n",
       "103            Yinglei Lai  /professor/560315\n",
       "104  Selvaratnam Sridharma  /professor/560318\n",
       "105        K. Christiansen  /professor/566442\n",
       "\n",
       "[106 rows x 2 columns]"
      ]
     },
     "execution_count": 69,
     "metadata": {},
     "output_type": "execute_result"
    }
   ],
   "source": [
    "import pandas as pd\n",
    "\n",
    "df=pd.DataFrame({'name': names, 'link': links})\n",
    "df"
   ]
  },
  {
   "cell_type": "markdown",
   "id": "827ac595",
   "metadata": {},
   "source": [
    "So far so good. Next, we will see how these steps could have been achieved somewhat easier. "
   ]
  },
  {
   "cell_type": "markdown",
   "id": "77f6e38d",
   "metadata": {},
   "source": [
    "We have seen that the html was rendered after some JS code has been executed. However, the information we retrieved must have been retrieved by querying some data base. To see which data base was queried using which script, we can use the performance tab in the developer tools. "
   ]
  },
  {
   "cell_type": "markdown",
   "id": "ad9409e0",
   "metadata": {},
   "source": [
    "As it turns out, the information is fetched via *GraphQL*. GraphQL is an API as we have seen them before, but its not a REST API. Facebook developed it as an internal technology for their versatile applications, and later, publicly released it as open-source. Since then, the software development community has utilized it as one of the favourite technology stacks for developing web services.\n",
    "\n",
    "As a query language, GraphQL defines specifications of how a client application can request the needed data from a remote server. As a result, the server application returns a response to the requested client query. The exciting thing to notice here is that the client application can also query exactly what it needs, without relying on the server-side application to define a query. \n",
    "\n",
    "GraphQL has become fairly common. Its adavantage is that due to specific queries, it avoids some problems of REST APIs, namely \n",
    " - Multiple roundtrips with REST\n",
    " - Over-fetching and Under-fetching Problems with REST"
   ]
  },
  {
   "cell_type": "markdown",
   "id": "c78af287",
   "metadata": {},
   "source": [
    "Lets see how the GraphQL request is made. "
   ]
  },
  {
   "cell_type": "code",
   "execution_count": 70,
   "id": "46e28d4d",
   "metadata": {},
   "outputs": [],
   "source": [
    "endpoint = 'https://www.ratemyprofessors.com/graphql'\n",
    "headers = {\n",
    "    \"Authorization\": \"Basic dGVzdDp0ZXN0\", \n",
    "}"
   ]
  },
  {
   "cell_type": "code",
   "execution_count": 71,
   "id": "fcf7cc22",
   "metadata": {},
   "outputs": [],
   "source": [
    "# first query\n",
    "data = {\n",
    "    \"query\":\"query TeacherSearchResultsPageQuery(\\n  $query: TeacherSearchQuery!\\n  $schoolID: ID\\n) {\\n  search: newSearch {\\n    ...TeacherSearchPagination_search_1ZLmLD\\n  }\\n  school: node(id: $schoolID) {\\n    __typename\\n    ... on School {\\n      name\\n    }\\n    id\\n  }\\n}\\n\\nfragment TeacherSearchPagination_search_1ZLmLD on newSearch {\\n  teachers(query: $query, first: 8, after: \\\"\\\") {\\n    didFallback\\n    edges {\\n      cursor\\n      node {\\n        ...TeacherCard_teacher\\n        id\\n        __typename\\n      }\\n    }\\n    pageInfo {\\n      hasNextPage\\n      endCursor\\n    }\\n    resultCount\\n    filters {\\n      field\\n      options {\\n        value\\n        id\\n      }\\n    }\\n  }\\n}\\n\\nfragment TeacherCard_teacher on Teacher {\\n  id\\n  legacyId\\n  avgRating\\n  numRatings\\n  ...CardFeedback_teacher\\n  ...CardSchool_teacher\\n  ...CardName_teacher\\n  ...TeacherBookmark_teacher\\n}\\n\\nfragment CardFeedback_teacher on Teacher {\\n  wouldTakeAgainPercent\\n  avgDifficulty\\n}\\n\\nfragment CardSchool_teacher on Teacher {\\n  department\\n  school {\\n    name\\n    id\\n  }\\n}\\n\\nfragment CardName_teacher on Teacher {\\n  firstName\\n  lastName\\n}\\n\\nfragment TeacherBookmark_teacher on Teacher {\\n  id\\n  isSaved\\n}\\n\",\n",
    "    \"variables\":{\n",
    "        \"query\":{\n",
    "            \"text\":\"\",\n",
    "            \"schoolID\":\"U2Nob29sLTEwNzM=\",\n",
    "            \"fallback\":True,\n",
    "            \"departmentID\":\"RGVwYXJ0bWVudC0xNDA=\", \n",
    "        },\n",
    "        \"schoolID\":\"U2Nob29sLTEwNzM=\"\n",
    "    }\n",
    "} "
   ]
  },
  {
   "cell_type": "code",
   "execution_count": 72,
   "id": "0c712420",
   "metadata": {
    "scrolled": true
   },
   "outputs": [
    {
     "data": {
      "text/plain": [
       "{'data': {'school': {'__typename': 'School',\n",
       "   'id': 'U2Nob29sLTEwNzM=',\n",
       "   'name': 'University of California Davis'},\n",
       "  'search': {'teachers': {'didFallback': False,\n",
       "    'edges': [{'cursor': 'YXJyYXljb25uZWN0aW9uOjA=',\n",
       "      'node': {'__typename': 'Teacher',\n",
       "       'avgDifficulty': 3.4,\n",
       "       'avgRating': 3.6,\n",
       "       'department': 'Statistics',\n",
       "       'firstName': 'Francisco',\n",
       "       'id': 'VGVhY2hlci0xNjI4NDA=',\n",
       "       'isSaved': False,\n",
       "       'lastName': 'Samaniego',\n",
       "       'legacyId': 162840,\n",
       "       'numRatings': 47,\n",
       "       'school': {'id': 'U2Nob29sLTEwNzM=',\n",
       "        'name': 'University of California Davis'},\n",
       "       'wouldTakeAgainPercent': -1}},\n",
       "     {'cursor': 'YXJyYXljb25uZWN0aW9uOjE=',\n",
       "      'node': {'__typename': 'Teacher',\n",
       "       'avgDifficulty': 3.5,\n",
       "       'avgRating': 3.3,\n",
       "       'department': 'Statistics',\n",
       "       'firstName': 'Abdolrahman',\n",
       "       'id': 'VGVhY2hlci0yMjA2ODg=',\n",
       "       'isSaved': False,\n",
       "       'lastName': 'Azari',\n",
       "       'legacyId': 220688,\n",
       "       'numRatings': 4,\n",
       "       'school': {'id': 'U2Nob29sLTEwNzM=',\n",
       "        'name': 'University of California Davis'},\n",
       "       'wouldTakeAgainPercent': -1}},\n",
       "     {'cursor': 'YXJyYXljb25uZWN0aW9uOjI=',\n",
       "      'node': {'__typename': 'Teacher',\n",
       "       'avgDifficulty': 3,\n",
       "       'avgRating': 3.3,\n",
       "       'department': 'Statistics',\n",
       "       'firstName': 'Prabir',\n",
       "       'id': 'VGVhY2hlci0zNDY5OTU=',\n",
       "       'isSaved': False,\n",
       "       'lastName': 'Burman',\n",
       "       'legacyId': 346995,\n",
       "       'numRatings': 23,\n",
       "       'school': {'id': 'U2Nob29sLTEwNzM=',\n",
       "        'name': 'University of California Davis'},\n",
       "       'wouldTakeAgainPercent': 80}},\n",
       "     {'cursor': 'YXJyYXljb25uZWN0aW9uOjM=',\n",
       "      'node': {'__typename': 'Teacher',\n",
       "       'avgDifficulty': 2.9,\n",
       "       'avgRating': 2.7,\n",
       "       'department': 'Statistics',\n",
       "       'firstName': 'Tamara',\n",
       "       'id': 'VGVhY2hlci01MjUxMDg=',\n",
       "       'isSaved': False,\n",
       "       'lastName': 'Greasby',\n",
       "       'legacyId': 525108,\n",
       "       'numRatings': 27,\n",
       "       'school': {'id': 'U2Nob29sLTEwNzM=',\n",
       "        'name': 'University of California Davis'},\n",
       "       'wouldTakeAgainPercent': -1}},\n",
       "     {'cursor': 'YXJyYXljb25uZWN0aW9uOjQ=',\n",
       "      'node': {'__typename': 'Teacher',\n",
       "       'avgDifficulty': 2.7,\n",
       "       'avgRating': 3.6,\n",
       "       'department': 'Statistics',\n",
       "       'firstName': 'Rahman',\n",
       "       'id': 'VGVhY2hlci03NzA2MDA=',\n",
       "       'isSaved': False,\n",
       "       'lastName': 'Azari',\n",
       "       'legacyId': 770600,\n",
       "       'numRatings': 69,\n",
       "       'school': {'id': 'U2Nob29sLTEwNzM=',\n",
       "        'name': 'University of California Davis'},\n",
       "       'wouldTakeAgainPercent': 69.2308}},\n",
       "     {'cursor': 'YXJyYXljb25uZWN0aW9uOjU=',\n",
       "      'node': {'__typename': 'Teacher',\n",
       "       'avgDifficulty': 2,\n",
       "       'avgRating': 3.5,\n",
       "       'department': 'Statistics',\n",
       "       'firstName': 'Clayton',\n",
       "       'id': 'VGVhY2hlci03NzYxMjQ=',\n",
       "       'isSaved': False,\n",
       "       'lastName': 'Schupp',\n",
       "       'legacyId': 776124,\n",
       "       'numRatings': 55,\n",
       "       'school': {'id': 'U2Nob29sLTEwNzM=',\n",
       "        'name': 'University of California Davis'},\n",
       "       'wouldTakeAgainPercent': -1}},\n",
       "     {'cursor': 'YXJyYXljb25uZWN0aW9uOjY=',\n",
       "      'node': {'__typename': 'Teacher',\n",
       "       'avgDifficulty': 2.2,\n",
       "       'avgRating': 4.7,\n",
       "       'department': 'Statistics',\n",
       "       'firstName': 'Greg',\n",
       "       'id': 'VGVhY2hlci03ODAzOTg=',\n",
       "       'isSaved': False,\n",
       "       'lastName': 'Wall',\n",
       "       'legacyId': 780398,\n",
       "       'numRatings': 30,\n",
       "       'school': {'id': 'U2Nob29sLTEwNzM=',\n",
       "        'name': 'University of California Davis'},\n",
       "       'wouldTakeAgainPercent': -1}},\n",
       "     {'cursor': 'YXJyYXljb25uZWN0aW9uOjc=',\n",
       "      'node': {'__typename': 'Teacher',\n",
       "       'avgDifficulty': 0,\n",
       "       'avgRating': 0,\n",
       "       'department': 'Statistics',\n",
       "       'firstName': 'Lawrence C.',\n",
       "       'id': 'VGVhY2hlci04MTAwNzI=',\n",
       "       'isSaved': False,\n",
       "       'lastName': 'Wang',\n",
       "       'legacyId': 810072,\n",
       "       'numRatings': 0,\n",
       "       'school': {'id': 'U2Nob29sLTEwNzM=',\n",
       "        'name': 'University of California Davis'},\n",
       "       'wouldTakeAgainPercent': -1}}],\n",
       "    'filters': [{'field': 'teacherdepartment_s',\n",
       "      'options': [{'id': 'RGVwYXJ0bWVudC0xNDA=', 'value': 'statistics'}]}],\n",
       "    'pageInfo': {'endCursor': 'YXJyYXljb25uZWN0aW9uOjc=', 'hasNextPage': True},\n",
       "    'resultCount': 104}}}}"
      ]
     },
     "execution_count": 72,
     "metadata": {},
     "output_type": "execute_result"
    }
   ],
   "source": [
    "response = requests.post(endpoint, headers = headers, json=data)\n",
    "response.raise_for_status()\n",
    "result = response.json()\n",
    "result"
   ]
  },
  {
   "cell_type": "code",
   "execution_count": 73,
   "id": "905a49f7",
   "metadata": {},
   "outputs": [
    {
     "data": {
      "text/plain": [
       "[('Francisco Samaniego', '/professor?tid=162840'),\n",
       " ('Abdolrahman Azari', '/professor?tid=220688'),\n",
       " ('Prabir Burman', '/professor?tid=346995'),\n",
       " ('Tamara Greasby', '/professor?tid=525108'),\n",
       " ('Rahman Azari', '/professor?tid=770600'),\n",
       " ('Clayton Schupp', '/professor?tid=776124'),\n",
       " ('Greg Wall', '/professor?tid=780398'),\n",
       " ('Lawrence C. Wang', '/professor?tid=810072')]"
      ]
     },
     "execution_count": 73,
     "metadata": {},
     "output_type": "execute_result"
    }
   ],
   "source": [
    "def fetch_info(dic): \n",
    "    name = dic['node']['firstName'] + \" \" + dic['node']['lastName']\n",
    "    lid = \"/professor?tid=\" + str(dic['node']['legacyId'])\n",
    "    return name, lid\n",
    "    \n",
    "prof_list = result['data']['search']['teachers']['edges']\n",
    "    \n",
    "[fetch_info(prof) for prof in prof_list]"
   ]
  },
  {
   "cell_type": "markdown",
   "id": "57afd69a",
   "metadata": {},
   "source": [
    "Using developer tools, we find the the subsequent requests can be done using a different data layout. Watch out, the `query` value has changed! "
   ]
  },
  {
   "cell_type": "code",
   "execution_count": 74,
   "id": "da71db66",
   "metadata": {},
   "outputs": [
    {
     "data": {
      "text/plain": [
       "'YXJyYXljb25uZWN0aW9uOjc='"
      ]
     },
     "execution_count": 74,
     "metadata": {},
     "output_type": "execute_result"
    }
   ],
   "source": [
    "cursor = result['data']['search']['teachers']['pageInfo']['endCursor']\n",
    "cursor"
   ]
  },
  {
   "cell_type": "code",
   "execution_count": 75,
   "id": "44e69f50",
   "metadata": {},
   "outputs": [],
   "source": [
    "def new_data(cursor):\n",
    "    data = {\n",
    "        \"query\":\"query TeacherSearchPaginationQuery(\\n  $count: Int!\\n  $cursor: String\\n  $query: TeacherSearchQuery!\\n) {\\n  search: newSearch {\\n    ...TeacherSearchPagination_search_1jWD3d\\n  }\\n}\\n\\nfragment TeacherSearchPagination_search_1jWD3d on newSearch {\\n  teachers(query: $query, first: $count, after: $cursor) {\\n    didFallback\\n    edges {\\n      cursor\\n      node {\\n        ...TeacherCard_teacher\\n        id\\n        __typename\\n      }\\n    }\\n    pageInfo {\\n      hasNextPage\\n      endCursor\\n    }\\n    resultCount\\n    filters {\\n      field\\n      options {\\n        value\\n        id\\n      }\\n    }\\n  }\\n}\\n\\nfragment TeacherCard_teacher on Teacher {\\n  id\\n  legacyId\\n  avgRating\\n  numRatings\\n  ...CardFeedback_teacher\\n  ...CardSchool_teacher\\n  ...CardName_teacher\\n  ...TeacherBookmark_teacher\\n}\\n\\nfragment CardFeedback_teacher on Teacher {\\n  wouldTakeAgainPercent\\n  avgDifficulty\\n}\\n\\nfragment CardSchool_teacher on Teacher {\\n  department\\n  school {\\n    name\\n    id\\n  }\\n}\\n\\nfragment CardName_teacher on Teacher {\\n  firstName\\n  lastName\\n}\\n\\nfragment TeacherBookmark_teacher on Teacher {\\n  id\\n  isSaved\\n}\\n\",\n",
    "        \"variables\":{\n",
    "            \"count\":8,\n",
    "            \"cursor\": cursor, \n",
    "            \"query\":{\n",
    "                \"text\":\"\",\n",
    "                \"schoolID\":\"U2Nob29sLTEwNzM=\",\n",
    "                \"fallback\":True,\n",
    "                \"departmentID\":\"RGVwYXJ0bWVudC0xNDA=\", \n",
    "            }\n",
    "        }\n",
    "    } \n",
    "    return data\n",
    "data = new_data(cursor)"
   ]
  },
  {
   "cell_type": "code",
   "execution_count": 76,
   "id": "5e22b3e4",
   "metadata": {},
   "outputs": [
    {
     "data": {
      "text/plain": [
       "{'data': {'search': {'teachers': {'didFallback': False,\n",
       "    'edges': [{'cursor': 'YXJyYXljb25uZWN0aW9uOjg=',\n",
       "      'node': {'__typename': 'Teacher',\n",
       "       'avgDifficulty': 1.4,\n",
       "       'avgRating': 3.9,\n",
       "       'department': 'Statistics',\n",
       "       'firstName': 'Soma',\n",
       "       'id': 'VGVhY2hlci04MTA3ODI=',\n",
       "       'isSaved': False,\n",
       "       'lastName': 'Roychowdhury',\n",
       "       'legacyId': 810782,\n",
       "       'numRatings': 24,\n",
       "       'school': {'id': 'U2Nob29sLTEwNzM=',\n",
       "        'name': 'University of California Davis'},\n",
       "       'wouldTakeAgainPercent': -1}},\n",
       "     {'cursor': 'YXJyYXljb25uZWN0aW9uOjk=',\n",
       "      'node': {'__typename': 'Teacher',\n",
       "       'avgDifficulty': 0,\n",
       "       'avgRating': 0,\n",
       "       'department': 'Statistics',\n",
       "       'firstName': 'Seung Tae',\n",
       "       'id': 'VGVhY2hlci0xMTA5NzUx',\n",
       "       'isSaved': False,\n",
       "       'lastName': 'Yi',\n",
       "       'legacyId': 1109751,\n",
       "       'numRatings': 0,\n",
       "       'school': {'id': 'U2Nob29sLTEwNzM=',\n",
       "        'name': 'University of California Davis'},\n",
       "       'wouldTakeAgainPercent': -1}},\n",
       "     {'cursor': 'YXJyYXljb25uZWN0aW9uOjEw',\n",
       "      'node': {'__typename': 'Teacher',\n",
       "       'avgDifficulty': 3.5,\n",
       "       'avgRating': 4.5,\n",
       "       'department': 'Statistics',\n",
       "       'firstName': 'Mitali',\n",
       "       'id': 'VGVhY2hlci0xMTEyNjYx',\n",
       "       'isSaved': False,\n",
       "       'lastName': 'Das',\n",
       "       'legacyId': 1112661,\n",
       "       'numRatings': 2,\n",
       "       'school': {'id': 'U2Nob29sLTEwNzM=',\n",
       "        'name': 'University of California Davis'},\n",
       "       'wouldTakeAgainPercent': -1}},\n",
       "     {'cursor': 'YXJyYXljb25uZWN0aW9uOjEx',\n",
       "      'node': {'__typename': 'Teacher',\n",
       "       'avgDifficulty': 1.7,\n",
       "       'avgRating': 3.2,\n",
       "       'department': 'Statistics',\n",
       "       'firstName': 'Peter',\n",
       "       'id': 'VGVhY2hlci0xMTMzNjcy',\n",
       "       'isSaved': False,\n",
       "       'lastName': 'Hall',\n",
       "       'legacyId': 1133672,\n",
       "       'numRatings': 3,\n",
       "       'school': {'id': 'U2Nob29sLTEwNzM=',\n",
       "        'name': 'University of California Davis'},\n",
       "       'wouldTakeAgainPercent': -1}},\n",
       "     {'cursor': 'YXJyYXljb25uZWN0aW9uOjEy',\n",
       "      'node': {'__typename': 'Teacher',\n",
       "       'avgDifficulty': 3.5,\n",
       "       'avgRating': 2,\n",
       "       'department': 'Statistics',\n",
       "       'firstName': 'Rudolph',\n",
       "       'id': 'VGVhY2hlci0xMTU1OTU2',\n",
       "       'isSaved': False,\n",
       "       'lastName': 'Beran',\n",
       "       'legacyId': 1155956,\n",
       "       'numRatings': 4,\n",
       "       'school': {'id': 'U2Nob29sLTEwNzM=',\n",
       "        'name': 'University of California Davis'},\n",
       "       'wouldTakeAgainPercent': -1}},\n",
       "     {'cursor': 'YXJyYXljb25uZWN0aW9uOjEz',\n",
       "      'node': {'__typename': 'Teacher',\n",
       "       'avgDifficulty': 1.4,\n",
       "       'avgRating': 4.8,\n",
       "       'department': 'Statistics',\n",
       "       'firstName': 'Travis',\n",
       "       'id': 'VGVhY2hlci0xMTc3NDg3',\n",
       "       'isSaved': False,\n",
       "       'lastName': 'Loux',\n",
       "       'legacyId': 1177487,\n",
       "       'numRatings': 22,\n",
       "       'school': {'id': 'U2Nob29sLTEwNzM=',\n",
       "        'name': 'University of California Davis'},\n",
       "       'wouldTakeAgainPercent': -1}},\n",
       "     {'cursor': 'YXJyYXljb25uZWN0aW9uOjE0',\n",
       "      'node': {'__typename': 'Teacher',\n",
       "       'avgDifficulty': 2.8,\n",
       "       'avgRating': 3.2,\n",
       "       'department': 'Statistics',\n",
       "       'firstName': 'Azari',\n",
       "       'id': 'VGVhY2hlci0xMjM5MjAx',\n",
       "       'isSaved': False,\n",
       "       'lastName': 'Abdolrahman',\n",
       "       'legacyId': 1239201,\n",
       "       'numRatings': 118,\n",
       "       'school': {'id': 'U2Nob29sLTEwNzM=',\n",
       "        'name': 'University of California Davis'},\n",
       "       'wouldTakeAgainPercent': 50}},\n",
       "     {'cursor': 'YXJyYXljb25uZWN0aW9uOjE1',\n",
       "      'node': {'__typename': 'Teacher',\n",
       "       'avgDifficulty': 2.4,\n",
       "       'avgRating': 4.5,\n",
       "       'department': 'Statistics',\n",
       "       'firstName': 'Erin',\n",
       "       'id': 'VGVhY2hlci0xMzEwMDYw',\n",
       "       'isSaved': False,\n",
       "       'lastName': 'Esp',\n",
       "       'legacyId': 1310060,\n",
       "       'numRatings': 14,\n",
       "       'school': {'id': 'U2Nob29sLTEwNzM=',\n",
       "        'name': 'University of California Davis'},\n",
       "       'wouldTakeAgainPercent': -1}}],\n",
       "    'filters': [{'field': 'teacherdepartment_s',\n",
       "      'options': [{'id': 'RGVwYXJ0bWVudC0xNDA=', 'value': 'statistics'}]}],\n",
       "    'pageInfo': {'endCursor': 'YXJyYXljb25uZWN0aW9uOjE1', 'hasNextPage': True},\n",
       "    'resultCount': 104}}}}"
      ]
     },
     "execution_count": 76,
     "metadata": {},
     "output_type": "execute_result"
    }
   ],
   "source": [
    "response = requests.post(endpoint, headers = headers, json=data)\n",
    "response.raise_for_status()\n",
    "result = response.json()\n",
    "result"
   ]
  },
  {
   "cell_type": "code",
   "execution_count": 77,
   "id": "48079b3f",
   "metadata": {},
   "outputs": [
    {
     "data": {
      "text/plain": [
       "[('Soma Roychowdhury', '/professor?tid=810782'),\n",
       " ('Seung Tae Yi', '/professor?tid=1109751'),\n",
       " ('Mitali Das', '/professor?tid=1112661'),\n",
       " ('Peter Hall', '/professor?tid=1133672'),\n",
       " ('Rudolph Beran', '/professor?tid=1155956'),\n",
       " ('Travis Loux', '/professor?tid=1177487'),\n",
       " ('Azari Abdolrahman', '/professor?tid=1239201'),\n",
       " ('Erin Esp', '/professor?tid=1310060')]"
      ]
     },
     "execution_count": 77,
     "metadata": {},
     "output_type": "execute_result"
    }
   ],
   "source": [
    "prof_list = result['data']['search']['teachers']['edges']\n",
    "[fetch_info(prof) for prof in prof_list]"
   ]
  },
  {
   "cell_type": "code",
   "execution_count": 78,
   "id": "9d848833",
   "metadata": {},
   "outputs": [
    {
     "data": {
      "text/plain": [
       "'YXJyYXljb25uZWN0aW9uOjE1'"
      ]
     },
     "execution_count": 78,
     "metadata": {},
     "output_type": "execute_result"
    }
   ],
   "source": [
    "cursor = result['data']['search']['teachers']['pageInfo']['endCursor']\n",
    "cursor"
   ]
  },
  {
   "cell_type": "code",
   "execution_count": 79,
   "id": "1c687e89",
   "metadata": {},
   "outputs": [
    {
     "data": {
      "text/plain": [
       "True"
      ]
     },
     "execution_count": 79,
     "metadata": {},
     "output_type": "execute_result"
    }
   ],
   "source": [
    "flag = result['data']['search']['teachers']['pageInfo']['hasNextPage']\n",
    "flag"
   ]
  },
  {
   "cell_type": "markdown",
   "id": "0a83b800",
   "metadata": {},
   "source": [
    "Lets formalize this. "
   ]
  },
  {
   "cell_type": "code",
   "execution_count": 80,
   "id": "678585a4",
   "metadata": {},
   "outputs": [],
   "source": [
    "def fetch_profs(): \n",
    "    endpoint = 'https://www.ratemyprofessors.com/graphql'\n",
    "    headers = {\n",
    "        \"Authorization\": \"Basic dGVzdDp0ZXN0\", \n",
    "    }\n",
    "    \n",
    "    # first query\n",
    "    data = {\n",
    "        \"query\":\"query TeacherSearchResultsPageQuery(\\n  $query: TeacherSearchQuery!\\n  $schoolID: ID\\n) {\\n  search: newSearch {\\n    ...TeacherSearchPagination_search_1ZLmLD\\n  }\\n  school: node(id: $schoolID) {\\n    __typename\\n    ... on School {\\n      name\\n    }\\n    id\\n  }\\n}\\n\\nfragment TeacherSearchPagination_search_1ZLmLD on newSearch {\\n  teachers(query: $query, first: 8, after: \\\"\\\") {\\n    didFallback\\n    edges {\\n      cursor\\n      node {\\n        ...TeacherCard_teacher\\n        id\\n        __typename\\n      }\\n    }\\n    pageInfo {\\n      hasNextPage\\n      endCursor\\n    }\\n    resultCount\\n    filters {\\n      field\\n      options {\\n        value\\n        id\\n      }\\n    }\\n  }\\n}\\n\\nfragment TeacherCard_teacher on Teacher {\\n  id\\n  legacyId\\n  avgRating\\n  numRatings\\n  ...CardFeedback_teacher\\n  ...CardSchool_teacher\\n  ...CardName_teacher\\n  ...TeacherBookmark_teacher\\n}\\n\\nfragment CardFeedback_teacher on Teacher {\\n  wouldTakeAgainPercent\\n  avgDifficulty\\n}\\n\\nfragment CardSchool_teacher on Teacher {\\n  department\\n  school {\\n    name\\n    id\\n  }\\n}\\n\\nfragment CardName_teacher on Teacher {\\n  firstName\\n  lastName\\n}\\n\\nfragment TeacherBookmark_teacher on Teacher {\\n  id\\n  isSaved\\n}\\n\",\n",
    "        \"variables\":{\n",
    "            \"query\":{\n",
    "                \"text\":\"\",\n",
    "                \"schoolID\":\"U2Nob29sLTEwNzM=\",\n",
    "                \"fallback\":True,\n",
    "                \"departmentID\":\"RGVwYXJ0bWVudC0xNDA=\", \n",
    "            },\n",
    "            \"schoolID\":\"U2Nob29sLTEwNzM=\"\n",
    "        }\n",
    "    } \n",
    "    \n",
    "    response = requests.post(endpoint, headers = headers, json=data)\n",
    "    result = response.json()\n",
    "    \n",
    "    prof_list = result['data']['search']['teachers']['edges']\n",
    "    df = [fetch_info(prof) for prof in prof_list]\n",
    "    \n",
    "    cursor = result['data']['search']['teachers']['pageInfo']['endCursor']\n",
    "    \n",
    "    flag = True\n",
    "    while flag: \n",
    "        data = new_data(cursor)\n",
    "        response = requests.post(endpoint, headers = headers, json=data)\n",
    "        result = response.json()\n",
    "            \n",
    "        prof_list = result['data']['search']['teachers']['edges']\n",
    "        df.extend([fetch_info(prof) for prof in prof_list])\n",
    "        cursor = result['data']['search']['teachers']['pageInfo']['endCursor']\n",
    "\n",
    "        flag = result['data']['search']['teachers']['pageInfo']['hasNextPage']\n",
    "        \n",
    "    return df"
   ]
  },
  {
   "cell_type": "code",
   "execution_count": 81,
   "id": "de5b1f87",
   "metadata": {},
   "outputs": [],
   "source": [
    "df = fetch_profs()"
   ]
  },
  {
   "cell_type": "code",
   "execution_count": 82,
   "id": "e77d6d5a",
   "metadata": {},
   "outputs": [
    {
     "data": {
      "text/html": [
       "<div>\n",
       "<style scoped>\n",
       "    .dataframe tbody tr th:only-of-type {\n",
       "        vertical-align: middle;\n",
       "    }\n",
       "\n",
       "    .dataframe tbody tr th {\n",
       "        vertical-align: top;\n",
       "    }\n",
       "\n",
       "    .dataframe thead th {\n",
       "        text-align: right;\n",
       "    }\n",
       "</style>\n",
       "<table border=\"1\" class=\"dataframe\">\n",
       "  <thead>\n",
       "    <tr style=\"text-align: right;\">\n",
       "      <th></th>\n",
       "      <th>0</th>\n",
       "      <th>1</th>\n",
       "    </tr>\n",
       "  </thead>\n",
       "  <tbody>\n",
       "    <tr>\n",
       "      <th>0</th>\n",
       "      <td>Francisco Samaniego</td>\n",
       "      <td>/professor?tid=162840</td>\n",
       "    </tr>\n",
       "    <tr>\n",
       "      <th>1</th>\n",
       "      <td>Abdolrahman Azari</td>\n",
       "      <td>/professor?tid=220688</td>\n",
       "    </tr>\n",
       "    <tr>\n",
       "      <th>2</th>\n",
       "      <td>Prabir Burman</td>\n",
       "      <td>/professor?tid=346995</td>\n",
       "    </tr>\n",
       "    <tr>\n",
       "      <th>3</th>\n",
       "      <td>Tamara Greasby</td>\n",
       "      <td>/professor?tid=525108</td>\n",
       "    </tr>\n",
       "    <tr>\n",
       "      <th>4</th>\n",
       "      <td>Rahman Azari</td>\n",
       "      <td>/professor?tid=770600</td>\n",
       "    </tr>\n",
       "    <tr>\n",
       "      <th>...</th>\n",
       "      <td>...</td>\n",
       "      <td>...</td>\n",
       "    </tr>\n",
       "    <tr>\n",
       "      <th>6147</th>\n",
       "      <td>Paul Cartledge</td>\n",
       "      <td>/professor?tid=965738</td>\n",
       "    </tr>\n",
       "    <tr>\n",
       "      <th>6148</th>\n",
       "      <td>Pulindu Ratnasekera</td>\n",
       "      <td>/professor?tid=2810585</td>\n",
       "    </tr>\n",
       "    <tr>\n",
       "      <th>6149</th>\n",
       "      <td>John Stockton</td>\n",
       "      <td>/professor?tid=2485678</td>\n",
       "    </tr>\n",
       "    <tr>\n",
       "      <th>6150</th>\n",
       "      <td>Tony Passero</td>\n",
       "      <td>/professor?tid=2791404</td>\n",
       "    </tr>\n",
       "    <tr>\n",
       "      <th>6151</th>\n",
       "      <td>Nathan Sandholtz</td>\n",
       "      <td>/professor?tid=2895858</td>\n",
       "    </tr>\n",
       "  </tbody>\n",
       "</table>\n",
       "<p>6152 rows × 2 columns</p>\n",
       "</div>"
      ],
      "text/plain": [
       "                        0                       1\n",
       "0     Francisco Samaniego   /professor?tid=162840\n",
       "1       Abdolrahman Azari   /professor?tid=220688\n",
       "2           Prabir Burman   /professor?tid=346995\n",
       "3          Tamara Greasby   /professor?tid=525108\n",
       "4            Rahman Azari   /professor?tid=770600\n",
       "...                   ...                     ...\n",
       "6147       Paul Cartledge   /professor?tid=965738\n",
       "6148  Pulindu Ratnasekera  /professor?tid=2810585\n",
       "6149        John Stockton  /professor?tid=2485678\n",
       "6150         Tony Passero  /professor?tid=2791404\n",
       "6151     Nathan Sandholtz  /professor?tid=2895858\n",
       "\n",
       "[6152 rows x 2 columns]"
      ]
     },
     "execution_count": 82,
     "metadata": {},
     "output_type": "execute_result"
    }
   ],
   "source": [
    "pd.DataFrame(df)"
   ]
  },
  {
   "cell_type": "markdown",
   "id": "d554779d",
   "metadata": {},
   "source": [
    "### Summary \n",
    "\n",
    "- `Selenium` is very useful to remote-control a browser\n",
    "- Internally, information is usually handled via APIs anyway"
   ]
  }
 ],
 "metadata": {
  "kernelspec": {
   "display_name": "Python 3 (ipykernel)",
   "language": "python",
   "name": "python3"
  },
  "language_info": {
   "codemirror_mode": {
    "name": "ipython",
    "version": 3
   },
   "file_extension": ".py",
   "mimetype": "text/x-python",
   "name": "python",
   "nbconvert_exporter": "python",
   "pygments_lexer": "ipython3",
   "version": "3.9.12"
  },
  "vscode": {
   "interpreter": {
    "hash": "b2b12ec50b0a525a62abe739e766b0c808eccd181e3f804cedbbca00f4d5b392"
   }
  }
 },
 "nbformat": 4,
 "nbformat_minor": 5
}
