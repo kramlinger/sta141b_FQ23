{
 "cells": [
  {
   "cell_type": "markdown",
   "id": "ff704263",
   "metadata": {
    "slideshow": {
     "slide_type": "slide"
    }
   },
   "source": [
    "# STA 141B Data & Web Technologies for Data Analysis\n",
    "\n",
    "### Lecture 12, 11/21/23, SQL"
   ]
  },
  {
   "cell_type": "markdown",
   "id": "d720fbd5",
   "metadata": {
    "slideshow": {
     "slide_type": "slide"
    }
   },
   "source": [
    "### Announcements\n",
    "\n",
    " - No lecture on Thursday!\n",
    " - Exam is graded and online, if yours is not shown, please alert me on Piazza! "
   ]
  },
  {
   "cell_type": "markdown",
   "id": "8063508f",
   "metadata": {
    "slideshow": {
     "slide_type": "slide"
    }
   },
   "source": [
    "### Last week's topics\n",
    "\n",
    "- NLP: LDA\n",
    "- Selenium"
   ]
  },
  {
   "cell_type": "markdown",
   "id": "7b683b1a",
   "metadata": {
    "slideshow": {
     "slide_type": "slide"
    }
   },
   "source": [
    "### Today's topics\n",
    "- Databases\n",
    "- Structured Query Language\n",
    " \n",
    "### Datasets\n",
    "\n",
    "* The Suppliers Database\n",
    "\n",
    "### References\n",
    "\n",
    "* [W3 Schools SQL Tutorial](https://www.w3schools.com/sql/)\n",
    "* [SQL Cheatsheet](https://www.sqltutorial.org/sql-cheat-sheet/)\n",
    "\n",
    "[PDSH]: https://jakevdp.github.io/PythonDataScienceHandbook/\n",
    "[ProGit]: https://git-scm.com/book/\n",
    "[nlpp]: https://www.nltk.org/book/\n",
    "[atap]: https://search.library.ucdavis.edu/primo-explore/fulldisplay?docid=01UCD_ALMA51320822340003126&context=L&vid=01UCD_V1&search_scope=everything_scope&tab=default_tab&lang=en_US"
   ]
  },
  {
   "cell_type": "markdown",
   "id": "a6f01c43",
   "metadata": {
    "slideshow": {
     "slide_type": "slide"
    }
   },
   "source": [
    "## Databases\n",
    "\n",
    "A _database_ is a collection of data. There are several different models for how to organize data in a database; these are called _database models_. In this context, \"model\" refers to a design or mental model, not a statistical model.\n",
    "\n",
    "The _relational model_ organizes data as a collection of tables. Tables have rows (also called _tuples_ or _records_) and columns (also called _attributes_). Most tables have a _key_ column that is unique for each row and _relates_ the table to other tables. The relational model is the most popular database model by far, and the one we'll focus on in this course.\n",
    "\n",
    "There are also many different software programs for managing databases, called _database management systems_ (DBMS). Each DBMS usually has its own format for storing data on disk, independent of the database model. Some popular DBMSes are:\n",
    "\n",
    "* [SQLite](https://www.sqlite.org/)\n",
    "* [MySQL](https://www.mysql.com/)\n",
    "* [Microsoft SQL Server](https://www.microsoft.com/en-us/sql-server)\n",
    "* [PostgreSQL](https://www.postgresql.org/)\n",
    "\n",
    "Why use a database? There are several reasons:\n",
    "\n",
    "* Your data may already be in a database, so converting to another format is extra work.\n",
    "* Database operations are highly optimized, so they typically take less time and memory than an equivalent operation in Python.\n",
    "* Database operations can run on datasets that are too large to fit in memory. Doing this in Python requires special programming strategies.\n",
    "* Many DBMSes provide built-in version control, multi-user access, and security checks.\n",
    "* Databases can be updated in real time."
   ]
  },
  {
   "cell_type": "markdown",
   "id": "9683db32",
   "metadata": {
    "slideshow": {
     "slide_type": "slide"
    }
   },
   "source": [
    "## Structured Query Language\n",
    "\n",
    "_Structured query language_ (SQL) is a language designed for querying information in relational databases.\n",
    "\n",
    "A free SQL tutorial is available [here](https://www.w3schools.com/sql/).\n",
    "\n",
    "### Getting Connected\n",
    "\n",
    "There are several ways to connect to a database and run SQL queries from Python:\n",
    "\n",
    "* The built-in __sqlite3__ module, which only supports SQLite.\n",
    "* The __sqlalchemy__ package, a unified interface for a variety of different SQL database formats (more than just SQLite). See the [tutorial](http://docs.sqlalchemy.org/en/latest/core/tutorial.html) for more details.\n",
    "\n",
    "We'll use a SQLite database here, since SQLite is possibly [the most-used database engine in the world](https://sqlite.org/mostdeployed.html). SQLite's popularity is partly due to its reliability, easy setup, and broad range of features.\n",
    "\n",
    "Let's connect to the suppliers database:"
   ]
  },
  {
   "cell_type": "code",
   "execution_count": 1,
   "id": "d492acd6",
   "metadata": {
    "scrolled": true,
    "slideshow": {
     "slide_type": "subslide"
    }
   },
   "outputs": [],
   "source": [
    "import numpy as np\n",
    "import pandas as pd"
   ]
  },
  {
   "cell_type": "code",
   "execution_count": 2,
   "id": "fc148aa2",
   "metadata": {
    "scrolled": true
   },
   "outputs": [],
   "source": [
    "import sqlite3 as sql"
   ]
  },
  {
   "cell_type": "markdown",
   "id": "071f5f5a",
   "metadata": {
    "slideshow": {
     "slide_type": "subslide"
    }
   },
   "source": [
    "To connect to a database, use the module's `connect()` function. This is similar to opening a file; you should close the database when you're done using it."
   ]
  },
  {
   "cell_type": "code",
   "execution_count": 3,
   "id": "c195e67e",
   "metadata": {
    "scrolled": true
   },
   "outputs": [],
   "source": [
    "db = sql.connect(\"../data/suppliers.sqlite\")"
   ]
  },
  {
   "cell_type": "code",
   "execution_count": 4,
   "id": "942541ad",
   "metadata": {
    "scrolled": true
   },
   "outputs": [
    {
     "data": {
      "text/plain": [
       "<sqlite3.Connection at 0x7faf9aaf2d50>"
      ]
     },
     "execution_count": 4,
     "metadata": {},
     "output_type": "execute_result"
    }
   ],
   "source": [
    "db"
   ]
  },
  {
   "cell_type": "markdown",
   "id": "10ecfae3",
   "metadata": {
    "slideshow": {
     "slide_type": "subslide"
    }
   },
   "source": [
    "To execute a SQL query, use the connection's `.execute()` method. This returns a _cursor_, which is a pointer to the results in the database (imagine a finger pointing at the results).\n",
    "\n",
    "SQLite databases store metadata in a special table called `sqlite_master`. We can use `sqlite_master` to find out the names of the other tables in the database."
   ]
  },
  {
   "cell_type": "code",
   "execution_count": 5,
   "id": "1994297e",
   "metadata": {
    "scrolled": true
   },
   "outputs": [],
   "source": [
    "cur = db.execute(\"SELECT * FROM sqlite_master\")"
   ]
  },
  {
   "cell_type": "code",
   "execution_count": 6,
   "id": "187b0183",
   "metadata": {
    "scrolled": true
   },
   "outputs": [
    {
     "data": {
      "text/plain": [
       "sqlite3.Cursor"
      ]
     },
     "execution_count": 6,
     "metadata": {},
     "output_type": "execute_result"
    }
   ],
   "source": [
    "type(cur)"
   ]
  },
  {
   "cell_type": "markdown",
   "id": "51a95b69",
   "metadata": {
    "slideshow": {
     "slide_type": "subslide"
    }
   },
   "source": [
    "To get the results from the database, use one of the cursor's fetch methods. The `.fetchall()` method returns all rows in the result."
   ]
  },
  {
   "cell_type": "code",
   "execution_count": 7,
   "id": "d309ffc4",
   "metadata": {
    "scrolled": true
   },
   "outputs": [
    {
     "data": {
      "text/plain": [
       "[('table',\n",
       "  'Suppliers',\n",
       "  'Suppliers',\n",
       "  2,\n",
       "  'CREATE TABLE Suppliers (\\n  SupplierID integer,\\n  SupplierName text,\\n  Status integer,\\n  City text,\\n  PRIMARY KEY(SupplierID)\\n)'),\n",
       " ('table',\n",
       "  'Parts',\n",
       "  'Parts',\n",
       "  3,\n",
       "  'CREATE TABLE Parts (\\n  PartID integer,\\n  PartName text,\\n  Color text,\\n  Weight real,\\n  City text,\\n  PRIMARY KEY(PartID)\\n)'),\n",
       " ('table',\n",
       "  'SupplierParts',\n",
       "  'SupplierParts',\n",
       "  4,\n",
       "  'CREATE TABLE SupplierParts (\\n  PartID integer,\\n  SupplierID integer,\\n  Qty integer,\\n  PRIMARY KEY(PartID, SupplierID)\\n)'),\n",
       " ('index', 'sqlite_autoindex_SupplierParts_1', 'SupplierParts', 5, None)]"
      ]
     },
     "execution_count": 7,
     "metadata": {},
     "output_type": "execute_result"
    }
   ],
   "source": [
    "cur.fetchall()"
   ]
  },
  {
   "cell_type": "markdown",
   "id": "7a15c114",
   "metadata": {
    "slideshow": {
     "slide_type": "subslide"
    }
   },
   "source": [
    "By default, `sqlite3` will return rows as tuples. If you'd rather have the rows as dictionaries indexed by column name, set the `.row_factory` attribute on the database connection."
   ]
  },
  {
   "cell_type": "code",
   "execution_count": 8,
   "id": "8c59eb66",
   "metadata": {
    "scrolled": true
   },
   "outputs": [],
   "source": [
    "db.row_factory = sql.Row"
   ]
  },
  {
   "cell_type": "markdown",
   "id": "7e572556",
   "metadata": {
    "slideshow": {
     "slide_type": "subslide"
    }
   },
   "source": [
    "Now the rows will behave like dictionaries:"
   ]
  },
  {
   "cell_type": "code",
   "execution_count": 9,
   "id": "fdd244d0",
   "metadata": {
    "scrolled": true
   },
   "outputs": [
    {
     "data": {
      "text/plain": [
       "{'type': 'table',\n",
       " 'name': 'Suppliers',\n",
       " 'tbl_name': 'Suppliers',\n",
       " 'rootpage': 2,\n",
       " 'sql': 'CREATE TABLE Suppliers (\\n  SupplierID integer,\\n  SupplierName text,\\n  Status integer,\\n  City text,\\n  PRIMARY KEY(SupplierID)\\n)'}"
      ]
     },
     "execution_count": 9,
     "metadata": {},
     "output_type": "execute_result"
    }
   ],
   "source": [
    "cur = db.execute(\"SELECT * FROM sqlite_master\")\n",
    "rows = cur.fetchall()\n",
    "dict(rows[0])"
   ]
  },
  {
   "cell_type": "code",
   "execution_count": 10,
   "id": "7a698afb",
   "metadata": {
    "scrolled": true
   },
   "outputs": [
    {
     "data": {
      "text/plain": [
       "[<sqlite3.Row at 0x7faf9a08edd0>,\n",
       " <sqlite3.Row at 0x7faf9ab366b0>,\n",
       " <sqlite3.Row at 0x7faf9ab36690>,\n",
       " <sqlite3.Row at 0x7faf9ab367f0>]"
      ]
     },
     "execution_count": 10,
     "metadata": {},
     "output_type": "execute_result"
    }
   ],
   "source": [
    "rows"
   ]
  },
  {
   "cell_type": "markdown",
   "id": "d06887cb",
   "metadata": {
    "slideshow": {
     "slide_type": "subslide"
    }
   },
   "source": [
    "Don't forget to close the database when you're done!"
   ]
  },
  {
   "cell_type": "code",
   "execution_count": 11,
   "id": "e3c6ae00",
   "metadata": {
    "scrolled": true
   },
   "outputs": [],
   "source": [
    "# db.close()"
   ]
  },
  {
   "cell_type": "markdown",
   "id": "27d734c8",
   "metadata": {},
   "source": [
    "We'll generally use the `pd.read_sql()` function in __pandas__ to run our SQL queries. \n",
    "\n",
    "The function takes a SQL query and an open database connection as arguments, so you still need to connect to the database first with `sqlite3` or `sqlalchemy`. The result of the query is returned as a data frame."
   ]
  },
  {
   "cell_type": "markdown",
   "id": "30a332bf",
   "metadata": {
    "slideshow": {
     "slide_type": "slide"
    }
   },
   "source": [
    "### `SELECT`\n",
    "\n",
    "The `SELECT` command selects rows from a table. Most of your SQL queries will start with `SELECT`. The syntax is:\n",
    "\n",
    "```sql\n",
    "SELECT col1, col2, ... FROM my_table;\n",
    "```\n",
    "\n",
    "Here `col1`, `col2`, and so on are column names and `my_table` is a table name. You can select all columns with an asterisk  `*`.\n",
    "\n",
    "SQL is not case-sensitive and ignores whitespace, but the convention is to write SQL keywords in uppercase and column/table names in lowercase. A semicolon `;` marks the end of a SQL query, but this is optional for many tools."
   ]
  },
  {
   "cell_type": "code",
   "execution_count": 13,
   "id": "dbd98af7",
   "metadata": {
    "scrolled": true
   },
   "outputs": [],
   "source": [
    "# db.excute(\"SELECT * FROM file_name\")"
   ]
  },
  {
   "cell_type": "code",
   "execution_count": 14,
   "id": "ac94d45c",
   "metadata": {
    "scrolled": true,
    "slideshow": {
     "slide_type": "subslide"
    }
   },
   "outputs": [
    {
     "data": {
      "text/html": [
       "<div>\n",
       "<style scoped>\n",
       "    .dataframe tbody tr th:only-of-type {\n",
       "        vertical-align: middle;\n",
       "    }\n",
       "\n",
       "    .dataframe tbody tr th {\n",
       "        vertical-align: top;\n",
       "    }\n",
       "\n",
       "    .dataframe thead th {\n",
       "        text-align: right;\n",
       "    }\n",
       "</style>\n",
       "<table border=\"1\" class=\"dataframe\">\n",
       "  <thead>\n",
       "    <tr style=\"text-align: right;\">\n",
       "      <th></th>\n",
       "      <th>type</th>\n",
       "      <th>name</th>\n",
       "      <th>tbl_name</th>\n",
       "      <th>rootpage</th>\n",
       "      <th>sql</th>\n",
       "    </tr>\n",
       "  </thead>\n",
       "  <tbody>\n",
       "    <tr>\n",
       "      <th>0</th>\n",
       "      <td>table</td>\n",
       "      <td>Suppliers</td>\n",
       "      <td>Suppliers</td>\n",
       "      <td>2</td>\n",
       "      <td>CREATE TABLE Suppliers (\\n  SupplierID integer...</td>\n",
       "    </tr>\n",
       "    <tr>\n",
       "      <th>1</th>\n",
       "      <td>table</td>\n",
       "      <td>Parts</td>\n",
       "      <td>Parts</td>\n",
       "      <td>3</td>\n",
       "      <td>CREATE TABLE Parts (\\n  PartID integer,\\n  Par...</td>\n",
       "    </tr>\n",
       "    <tr>\n",
       "      <th>2</th>\n",
       "      <td>table</td>\n",
       "      <td>SupplierParts</td>\n",
       "      <td>SupplierParts</td>\n",
       "      <td>4</td>\n",
       "      <td>CREATE TABLE SupplierParts (\\n  PartID integer...</td>\n",
       "    </tr>\n",
       "    <tr>\n",
       "      <th>3</th>\n",
       "      <td>index</td>\n",
       "      <td>sqlite_autoindex_SupplierParts_1</td>\n",
       "      <td>SupplierParts</td>\n",
       "      <td>5</td>\n",
       "      <td>None</td>\n",
       "    </tr>\n",
       "  </tbody>\n",
       "</table>\n",
       "</div>"
      ],
      "text/plain": [
       "    type                              name       tbl_name  rootpage  \\\n",
       "0  table                         Suppliers      Suppliers         2   \n",
       "1  table                             Parts          Parts         3   \n",
       "2  table                     SupplierParts  SupplierParts         4   \n",
       "3  index  sqlite_autoindex_SupplierParts_1  SupplierParts         5   \n",
       "\n",
       "                                                 sql  \n",
       "0  CREATE TABLE Suppliers (\\n  SupplierID integer...  \n",
       "1  CREATE TABLE Parts (\\n  PartID integer,\\n  Par...  \n",
       "2  CREATE TABLE SupplierParts (\\n  PartID integer...  \n",
       "3                                               None  "
      ]
     },
     "execution_count": 14,
     "metadata": {},
     "output_type": "execute_result"
    }
   ],
   "source": [
    "pd.read_sql(\"SELECT * FROM sqlite_master\", db) # ; is optional but is preferred"
   ]
  },
  {
   "cell_type": "code",
   "execution_count": 15,
   "id": "4d3f61b7",
   "metadata": {
    "scrolled": true,
    "slideshow": {
     "slide_type": "subslide"
    }
   },
   "outputs": [
    {
     "data": {
      "text/html": [
       "<div>\n",
       "<style scoped>\n",
       "    .dataframe tbody tr th:only-of-type {\n",
       "        vertical-align: middle;\n",
       "    }\n",
       "\n",
       "    .dataframe tbody tr th {\n",
       "        vertical-align: top;\n",
       "    }\n",
       "\n",
       "    .dataframe thead th {\n",
       "        text-align: right;\n",
       "    }\n",
       "</style>\n",
       "<table border=\"1\" class=\"dataframe\">\n",
       "  <thead>\n",
       "    <tr style=\"text-align: right;\">\n",
       "      <th></th>\n",
       "      <th>name</th>\n",
       "      <th>type</th>\n",
       "    </tr>\n",
       "  </thead>\n",
       "  <tbody>\n",
       "    <tr>\n",
       "      <th>0</th>\n",
       "      <td>Suppliers</td>\n",
       "      <td>table</td>\n",
       "    </tr>\n",
       "    <tr>\n",
       "      <th>1</th>\n",
       "      <td>Parts</td>\n",
       "      <td>table</td>\n",
       "    </tr>\n",
       "    <tr>\n",
       "      <th>2</th>\n",
       "      <td>SupplierParts</td>\n",
       "      <td>table</td>\n",
       "    </tr>\n",
       "    <tr>\n",
       "      <th>3</th>\n",
       "      <td>sqlite_autoindex_SupplierParts_1</td>\n",
       "      <td>index</td>\n",
       "    </tr>\n",
       "  </tbody>\n",
       "</table>\n",
       "</div>"
      ],
      "text/plain": [
       "                               name   type\n",
       "0                         Suppliers  table\n",
       "1                             Parts  table\n",
       "2                     SupplierParts  table\n",
       "3  sqlite_autoindex_SupplierParts_1  index"
      ]
     },
     "execution_count": 15,
     "metadata": {},
     "output_type": "execute_result"
    }
   ],
   "source": [
    "# select only name and type from the data\n",
    "pd.read_sql(\"SELECT name, type FROM sqlite_master\", db)"
   ]
  },
  {
   "cell_type": "code",
   "execution_count": 16,
   "id": "7ad21f44",
   "metadata": {
    "scrolled": true,
    "slideshow": {
     "slide_type": "subslide"
    }
   },
   "outputs": [
    {
     "data": {
      "text/html": [
       "<div>\n",
       "<style scoped>\n",
       "    .dataframe tbody tr th:only-of-type {\n",
       "        vertical-align: middle;\n",
       "    }\n",
       "\n",
       "    .dataframe tbody tr th {\n",
       "        vertical-align: top;\n",
       "    }\n",
       "\n",
       "    .dataframe thead th {\n",
       "        text-align: right;\n",
       "    }\n",
       "</style>\n",
       "<table border=\"1\" class=\"dataframe\">\n",
       "  <thead>\n",
       "    <tr style=\"text-align: right;\">\n",
       "      <th></th>\n",
       "      <th>SupplierID</th>\n",
       "      <th>SupplierName</th>\n",
       "      <th>Status</th>\n",
       "      <th>City</th>\n",
       "    </tr>\n",
       "  </thead>\n",
       "  <tbody>\n",
       "    <tr>\n",
       "      <th>0</th>\n",
       "      <td>1</td>\n",
       "      <td>Smith</td>\n",
       "      <td>20</td>\n",
       "      <td>London</td>\n",
       "    </tr>\n",
       "    <tr>\n",
       "      <th>1</th>\n",
       "      <td>2</td>\n",
       "      <td>Jones</td>\n",
       "      <td>10</td>\n",
       "      <td>Paris</td>\n",
       "    </tr>\n",
       "    <tr>\n",
       "      <th>2</th>\n",
       "      <td>3</td>\n",
       "      <td>Blake</td>\n",
       "      <td>30</td>\n",
       "      <td>Paris</td>\n",
       "    </tr>\n",
       "    <tr>\n",
       "      <th>3</th>\n",
       "      <td>4</td>\n",
       "      <td>Clark</td>\n",
       "      <td>20</td>\n",
       "      <td>London</td>\n",
       "    </tr>\n",
       "    <tr>\n",
       "      <th>4</th>\n",
       "      <td>5</td>\n",
       "      <td>Adams</td>\n",
       "      <td>30</td>\n",
       "      <td>Athens</td>\n",
       "    </tr>\n",
       "  </tbody>\n",
       "</table>\n",
       "</div>"
      ],
      "text/plain": [
       "   SupplierID SupplierName  Status    City\n",
       "0           1        Smith      20  London\n",
       "1           2        Jones      10   Paris\n",
       "2           3        Blake      30   Paris\n",
       "3           4        Clark      20  London\n",
       "4           5        Adams      30  Athens"
      ]
     },
     "execution_count": 16,
     "metadata": {},
     "output_type": "execute_result"
    }
   ],
   "source": [
    "pd.read_sql(\"SELECT * FROM suppliers;\", db)"
   ]
  },
  {
   "cell_type": "code",
   "execution_count": 17,
   "id": "ee5d934a",
   "metadata": {
    "scrolled": true,
    "slideshow": {
     "slide_type": "subslide"
    }
   },
   "outputs": [
    {
     "data": {
      "text/html": [
       "<div>\n",
       "<style scoped>\n",
       "    .dataframe tbody tr th:only-of-type {\n",
       "        vertical-align: middle;\n",
       "    }\n",
       "\n",
       "    .dataframe tbody tr th {\n",
       "        vertical-align: top;\n",
       "    }\n",
       "\n",
       "    .dataframe thead th {\n",
       "        text-align: right;\n",
       "    }\n",
       "</style>\n",
       "<table border=\"1\" class=\"dataframe\">\n",
       "  <thead>\n",
       "    <tr style=\"text-align: right;\">\n",
       "      <th></th>\n",
       "      <th>PartID</th>\n",
       "      <th>PartName</th>\n",
       "      <th>Color</th>\n",
       "      <th>Weight</th>\n",
       "      <th>City</th>\n",
       "    </tr>\n",
       "  </thead>\n",
       "  <tbody>\n",
       "    <tr>\n",
       "      <th>0</th>\n",
       "      <td>1</td>\n",
       "      <td>Nut</td>\n",
       "      <td>Red</td>\n",
       "      <td>12.0</td>\n",
       "      <td>London</td>\n",
       "    </tr>\n",
       "    <tr>\n",
       "      <th>1</th>\n",
       "      <td>2</td>\n",
       "      <td>Bolt</td>\n",
       "      <td>Green</td>\n",
       "      <td>17.0</td>\n",
       "      <td>Paris</td>\n",
       "    </tr>\n",
       "    <tr>\n",
       "      <th>2</th>\n",
       "      <td>3</td>\n",
       "      <td>Screw</td>\n",
       "      <td>Blue</td>\n",
       "      <td>17.0</td>\n",
       "      <td>Oslo</td>\n",
       "    </tr>\n",
       "    <tr>\n",
       "      <th>3</th>\n",
       "      <td>4</td>\n",
       "      <td>Screw</td>\n",
       "      <td>Red</td>\n",
       "      <td>14.0</td>\n",
       "      <td>London</td>\n",
       "    </tr>\n",
       "    <tr>\n",
       "      <th>4</th>\n",
       "      <td>5</td>\n",
       "      <td>Cam</td>\n",
       "      <td>Blue</td>\n",
       "      <td>12.0</td>\n",
       "      <td>Paris</td>\n",
       "    </tr>\n",
       "    <tr>\n",
       "      <th>5</th>\n",
       "      <td>6</td>\n",
       "      <td>Cog</td>\n",
       "      <td>Red</td>\n",
       "      <td>19.0</td>\n",
       "      <td>London</td>\n",
       "    </tr>\n",
       "  </tbody>\n",
       "</table>\n",
       "</div>"
      ],
      "text/plain": [
       "   PartID PartName  Color  Weight    City\n",
       "0       1      Nut    Red    12.0  London\n",
       "1       2     Bolt  Green    17.0   Paris\n",
       "2       3    Screw   Blue    17.0    Oslo\n",
       "3       4    Screw    Red    14.0  London\n",
       "4       5      Cam   Blue    12.0   Paris\n",
       "5       6      Cog    Red    19.0  London"
      ]
     },
     "execution_count": 17,
     "metadata": {},
     "output_type": "execute_result"
    }
   ],
   "source": [
    "pd.read_sql(\"SELECT * FROM parts;\", db)"
   ]
  },
  {
   "cell_type": "code",
   "execution_count": 18,
   "id": "45a185d2",
   "metadata": {
    "scrolled": true,
    "slideshow": {
     "slide_type": "subslide"
    }
   },
   "outputs": [
    {
     "data": {
      "text/html": [
       "<div>\n",
       "<style scoped>\n",
       "    .dataframe tbody tr th:only-of-type {\n",
       "        vertical-align: middle;\n",
       "    }\n",
       "\n",
       "    .dataframe tbody tr th {\n",
       "        vertical-align: top;\n",
       "    }\n",
       "\n",
       "    .dataframe thead th {\n",
       "        text-align: right;\n",
       "    }\n",
       "</style>\n",
       "<table border=\"1\" class=\"dataframe\">\n",
       "  <thead>\n",
       "    <tr style=\"text-align: right;\">\n",
       "      <th></th>\n",
       "      <th>PartID</th>\n",
       "      <th>SupplierID</th>\n",
       "      <th>Qty</th>\n",
       "    </tr>\n",
       "  </thead>\n",
       "  <tbody>\n",
       "    <tr>\n",
       "      <th>0</th>\n",
       "      <td>1</td>\n",
       "      <td>1</td>\n",
       "      <td>300</td>\n",
       "    </tr>\n",
       "    <tr>\n",
       "      <th>1</th>\n",
       "      <td>1</td>\n",
       "      <td>2</td>\n",
       "      <td>200</td>\n",
       "    </tr>\n",
       "    <tr>\n",
       "      <th>2</th>\n",
       "      <td>1</td>\n",
       "      <td>3</td>\n",
       "      <td>400</td>\n",
       "    </tr>\n",
       "    <tr>\n",
       "      <th>3</th>\n",
       "      <td>1</td>\n",
       "      <td>4</td>\n",
       "      <td>200</td>\n",
       "    </tr>\n",
       "    <tr>\n",
       "      <th>4</th>\n",
       "      <td>1</td>\n",
       "      <td>5</td>\n",
       "      <td>100</td>\n",
       "    </tr>\n",
       "    <tr>\n",
       "      <th>5</th>\n",
       "      <td>1</td>\n",
       "      <td>6</td>\n",
       "      <td>100</td>\n",
       "    </tr>\n",
       "    <tr>\n",
       "      <th>6</th>\n",
       "      <td>2</td>\n",
       "      <td>1</td>\n",
       "      <td>300</td>\n",
       "    </tr>\n",
       "    <tr>\n",
       "      <th>7</th>\n",
       "      <td>2</td>\n",
       "      <td>2</td>\n",
       "      <td>400</td>\n",
       "    </tr>\n",
       "    <tr>\n",
       "      <th>8</th>\n",
       "      <td>3</td>\n",
       "      <td>2</td>\n",
       "      <td>200</td>\n",
       "    </tr>\n",
       "    <tr>\n",
       "      <th>9</th>\n",
       "      <td>4</td>\n",
       "      <td>2</td>\n",
       "      <td>200</td>\n",
       "    </tr>\n",
       "    <tr>\n",
       "      <th>10</th>\n",
       "      <td>4</td>\n",
       "      <td>4</td>\n",
       "      <td>300</td>\n",
       "    </tr>\n",
       "    <tr>\n",
       "      <th>11</th>\n",
       "      <td>4</td>\n",
       "      <td>5</td>\n",
       "      <td>400</td>\n",
       "    </tr>\n",
       "  </tbody>\n",
       "</table>\n",
       "</div>"
      ],
      "text/plain": [
       "    PartID  SupplierID  Qty\n",
       "0        1           1  300\n",
       "1        1           2  200\n",
       "2        1           3  400\n",
       "3        1           4  200\n",
       "4        1           5  100\n",
       "5        1           6  100\n",
       "6        2           1  300\n",
       "7        2           2  400\n",
       "8        3           2  200\n",
       "9        4           2  200\n",
       "10       4           4  300\n",
       "11       4           5  400"
      ]
     },
     "execution_count": 18,
     "metadata": {},
     "output_type": "execute_result"
    }
   ],
   "source": [
    "pd.read_sql(\"SELECT * FROM supplierparts;\", db)"
   ]
  },
  {
   "cell_type": "markdown",
   "id": "55cf3c4a",
   "metadata": {
    "slideshow": {
     "slide_type": "slide"
    }
   },
   "source": [
    "### `LIMIT`\n",
    "\n",
    "The `SELECT` command can be extended with many other keywords.\n",
    "\n",
    "The first of these is `LIMIT`, which limits the number of rows returned. `LIMIT` is the SQL equivalent of Pandas' `.head()` method."
   ]
  },
  {
   "cell_type": "code",
   "execution_count": 19,
   "id": "b2447d74",
   "metadata": {
    "scrolled": true
   },
   "outputs": [
    {
     "data": {
      "text/html": [
       "<div>\n",
       "<style scoped>\n",
       "    .dataframe tbody tr th:only-of-type {\n",
       "        vertical-align: middle;\n",
       "    }\n",
       "\n",
       "    .dataframe tbody tr th {\n",
       "        vertical-align: top;\n",
       "    }\n",
       "\n",
       "    .dataframe thead th {\n",
       "        text-align: right;\n",
       "    }\n",
       "</style>\n",
       "<table border=\"1\" class=\"dataframe\">\n",
       "  <thead>\n",
       "    <tr style=\"text-align: right;\">\n",
       "      <th></th>\n",
       "      <th>PartID</th>\n",
       "      <th>SupplierID</th>\n",
       "      <th>Qty</th>\n",
       "    </tr>\n",
       "  </thead>\n",
       "  <tbody>\n",
       "    <tr>\n",
       "      <th>0</th>\n",
       "      <td>1</td>\n",
       "      <td>1</td>\n",
       "      <td>300</td>\n",
       "    </tr>\n",
       "    <tr>\n",
       "      <th>1</th>\n",
       "      <td>1</td>\n",
       "      <td>2</td>\n",
       "      <td>200</td>\n",
       "    </tr>\n",
       "    <tr>\n",
       "      <th>2</th>\n",
       "      <td>1</td>\n",
       "      <td>3</td>\n",
       "      <td>400</td>\n",
       "    </tr>\n",
       "  </tbody>\n",
       "</table>\n",
       "</div>"
      ],
      "text/plain": [
       "   PartID  SupplierID  Qty\n",
       "0       1           1  300\n",
       "1       1           2  200\n",
       "2       1           3  400"
      ]
     },
     "execution_count": 19,
     "metadata": {},
     "output_type": "execute_result"
    }
   ],
   "source": [
    "pd.read_sql(\"SELECT * FROM supplierparts LIMIT 3\", db)"
   ]
  },
  {
   "cell_type": "markdown",
   "id": "0fbc58b2",
   "metadata": {
    "slideshow": {
     "slide_type": "slide"
    }
   },
   "source": [
    "### `DISTINCT`\n",
    "\n",
    "The `DISTINCT` keyword limits rows to distinct results. `DISTINCT` is the SQL equivalent of Pandas' `.drop_duplicates()` method.\n",
    "\n",
    "Keep in mind that `DISTINCT` applies to all of the selected columns, not just one column."
   ]
  },
  {
   "cell_type": "code",
   "execution_count": 20,
   "id": "1fbff25e",
   "metadata": {
    "scrolled": true
   },
   "outputs": [
    {
     "data": {
      "text/html": [
       "<div>\n",
       "<style scoped>\n",
       "    .dataframe tbody tr th:only-of-type {\n",
       "        vertical-align: middle;\n",
       "    }\n",
       "\n",
       "    .dataframe tbody tr th {\n",
       "        vertical-align: top;\n",
       "    }\n",
       "\n",
       "    .dataframe thead th {\n",
       "        text-align: right;\n",
       "    }\n",
       "</style>\n",
       "<table border=\"1\" class=\"dataframe\">\n",
       "  <thead>\n",
       "    <tr style=\"text-align: right;\">\n",
       "      <th></th>\n",
       "      <th>Color</th>\n",
       "      <th>City</th>\n",
       "    </tr>\n",
       "  </thead>\n",
       "  <tbody>\n",
       "    <tr>\n",
       "      <th>0</th>\n",
       "      <td>Red</td>\n",
       "      <td>London</td>\n",
       "    </tr>\n",
       "    <tr>\n",
       "      <th>1</th>\n",
       "      <td>Green</td>\n",
       "      <td>Paris</td>\n",
       "    </tr>\n",
       "    <tr>\n",
       "      <th>2</th>\n",
       "      <td>Blue</td>\n",
       "      <td>Oslo</td>\n",
       "    </tr>\n",
       "    <tr>\n",
       "      <th>3</th>\n",
       "      <td>Red</td>\n",
       "      <td>London</td>\n",
       "    </tr>\n",
       "    <tr>\n",
       "      <th>4</th>\n",
       "      <td>Blue</td>\n",
       "      <td>Paris</td>\n",
       "    </tr>\n",
       "    <tr>\n",
       "      <th>5</th>\n",
       "      <td>Red</td>\n",
       "      <td>London</td>\n",
       "    </tr>\n",
       "  </tbody>\n",
       "</table>\n",
       "</div>"
      ],
      "text/plain": [
       "   Color    City\n",
       "0    Red  London\n",
       "1  Green   Paris\n",
       "2   Blue    Oslo\n",
       "3    Red  London\n",
       "4   Blue   Paris\n",
       "5    Red  London"
      ]
     },
     "execution_count": 20,
     "metadata": {},
     "output_type": "execute_result"
    }
   ],
   "source": [
    "pd.read_sql(\"SELECT color, city FROM parts\", db)"
   ]
  },
  {
   "cell_type": "code",
   "execution_count": 21,
   "id": "748cbc7f",
   "metadata": {
    "scrolled": true,
    "slideshow": {
     "slide_type": "subslide"
    }
   },
   "outputs": [
    {
     "data": {
      "text/html": [
       "<div>\n",
       "<style scoped>\n",
       "    .dataframe tbody tr th:only-of-type {\n",
       "        vertical-align: middle;\n",
       "    }\n",
       "\n",
       "    .dataframe tbody tr th {\n",
       "        vertical-align: top;\n",
       "    }\n",
       "\n",
       "    .dataframe thead th {\n",
       "        text-align: right;\n",
       "    }\n",
       "</style>\n",
       "<table border=\"1\" class=\"dataframe\">\n",
       "  <thead>\n",
       "    <tr style=\"text-align: right;\">\n",
       "      <th></th>\n",
       "      <th>Color</th>\n",
       "      <th>City</th>\n",
       "    </tr>\n",
       "  </thead>\n",
       "  <tbody>\n",
       "    <tr>\n",
       "      <th>0</th>\n",
       "      <td>Red</td>\n",
       "      <td>London</td>\n",
       "    </tr>\n",
       "    <tr>\n",
       "      <th>1</th>\n",
       "      <td>Green</td>\n",
       "      <td>Paris</td>\n",
       "    </tr>\n",
       "    <tr>\n",
       "      <th>2</th>\n",
       "      <td>Blue</td>\n",
       "      <td>Oslo</td>\n",
       "    </tr>\n",
       "    <tr>\n",
       "      <th>3</th>\n",
       "      <td>Blue</td>\n",
       "      <td>Paris</td>\n",
       "    </tr>\n",
       "  </tbody>\n",
       "</table>\n",
       "</div>"
      ],
      "text/plain": [
       "   Color    City\n",
       "0    Red  London\n",
       "1  Green   Paris\n",
       "2   Blue    Oslo\n",
       "3   Blue   Paris"
      ]
     },
     "execution_count": 21,
     "metadata": {},
     "output_type": "execute_result"
    }
   ],
   "source": [
    "pd.read_sql(\"SELECT DISTINCT color, city FROM parts;\", db)"
   ]
  },
  {
   "cell_type": "markdown",
   "id": "1d8a7666",
   "metadata": {
    "slideshow": {
     "slide_type": "slide"
    }
   },
   "source": [
    "### `ORDER BY`\n",
    "\n",
    "The `ORDER BY` keyword sorts the returned rows. `ORDER BY` is the SQL equivalent of Pandas' `.sort_values()` method."
   ]
  },
  {
   "cell_type": "code",
   "execution_count": 23,
   "id": "3ef00bdc",
   "metadata": {
    "scrolled": true
   },
   "outputs": [
    {
     "data": {
      "text/html": [
       "<div>\n",
       "<style scoped>\n",
       "    .dataframe tbody tr th:only-of-type {\n",
       "        vertical-align: middle;\n",
       "    }\n",
       "\n",
       "    .dataframe tbody tr th {\n",
       "        vertical-align: top;\n",
       "    }\n",
       "\n",
       "    .dataframe thead th {\n",
       "        text-align: right;\n",
       "    }\n",
       "</style>\n",
       "<table border=\"1\" class=\"dataframe\">\n",
       "  <thead>\n",
       "    <tr style=\"text-align: right;\">\n",
       "      <th></th>\n",
       "      <th>PartID</th>\n",
       "      <th>PartName</th>\n",
       "      <th>Color</th>\n",
       "      <th>Weight</th>\n",
       "      <th>City</th>\n",
       "    </tr>\n",
       "  </thead>\n",
       "  <tbody>\n",
       "    <tr>\n",
       "      <th>0</th>\n",
       "      <td>1</td>\n",
       "      <td>Nut</td>\n",
       "      <td>Red</td>\n",
       "      <td>12.0</td>\n",
       "      <td>London</td>\n",
       "    </tr>\n",
       "    <tr>\n",
       "      <th>1</th>\n",
       "      <td>2</td>\n",
       "      <td>Bolt</td>\n",
       "      <td>Green</td>\n",
       "      <td>17.0</td>\n",
       "      <td>Paris</td>\n",
       "    </tr>\n",
       "    <tr>\n",
       "      <th>2</th>\n",
       "      <td>3</td>\n",
       "      <td>Screw</td>\n",
       "      <td>Blue</td>\n",
       "      <td>17.0</td>\n",
       "      <td>Oslo</td>\n",
       "    </tr>\n",
       "    <tr>\n",
       "      <th>3</th>\n",
       "      <td>4</td>\n",
       "      <td>Screw</td>\n",
       "      <td>Red</td>\n",
       "      <td>14.0</td>\n",
       "      <td>London</td>\n",
       "    </tr>\n",
       "    <tr>\n",
       "      <th>4</th>\n",
       "      <td>5</td>\n",
       "      <td>Cam</td>\n",
       "      <td>Blue</td>\n",
       "      <td>12.0</td>\n",
       "      <td>Paris</td>\n",
       "    </tr>\n",
       "  </tbody>\n",
       "</table>\n",
       "</div>"
      ],
      "text/plain": [
       "   PartID PartName  Color  Weight    City\n",
       "0       1      Nut    Red    12.0  London\n",
       "1       2     Bolt  Green    17.0   Paris\n",
       "2       3    Screw   Blue    17.0    Oslo\n",
       "3       4    Screw    Red    14.0  London\n",
       "4       5      Cam   Blue    12.0   Paris"
      ]
     },
     "execution_count": 23,
     "metadata": {},
     "output_type": "execute_result"
    }
   ],
   "source": [
    "pd.read_sql(\"SELECT * FROM parts ORDER BY partid LIMIT 5;\", db)"
   ]
  },
  {
   "cell_type": "markdown",
   "id": "a26c8f5d",
   "metadata": {
    "slideshow": {
     "slide_type": "subslide"
    }
   },
   "source": [
    "Add the suffix `ASC` for an ascending sort (smallest to largest) and `DESC` for a descending sort (largest to smallest).\n",
    "\n",
    "In SQLite, the default is ascending, but other other databases may differ."
   ]
  },
  {
   "cell_type": "code",
   "execution_count": 24,
   "id": "3b7013f8",
   "metadata": {
    "scrolled": true
   },
   "outputs": [
    {
     "data": {
      "text/html": [
       "<div>\n",
       "<style scoped>\n",
       "    .dataframe tbody tr th:only-of-type {\n",
       "        vertical-align: middle;\n",
       "    }\n",
       "\n",
       "    .dataframe tbody tr th {\n",
       "        vertical-align: top;\n",
       "    }\n",
       "\n",
       "    .dataframe thead th {\n",
       "        text-align: right;\n",
       "    }\n",
       "</style>\n",
       "<table border=\"1\" class=\"dataframe\">\n",
       "  <thead>\n",
       "    <tr style=\"text-align: right;\">\n",
       "      <th></th>\n",
       "      <th>PartID</th>\n",
       "      <th>PartName</th>\n",
       "      <th>Color</th>\n",
       "      <th>Weight</th>\n",
       "      <th>City</th>\n",
       "    </tr>\n",
       "  </thead>\n",
       "  <tbody>\n",
       "    <tr>\n",
       "      <th>0</th>\n",
       "      <td>6</td>\n",
       "      <td>Cog</td>\n",
       "      <td>Red</td>\n",
       "      <td>19.0</td>\n",
       "      <td>London</td>\n",
       "    </tr>\n",
       "    <tr>\n",
       "      <th>1</th>\n",
       "      <td>2</td>\n",
       "      <td>Bolt</td>\n",
       "      <td>Green</td>\n",
       "      <td>17.0</td>\n",
       "      <td>Paris</td>\n",
       "    </tr>\n",
       "    <tr>\n",
       "      <th>2</th>\n",
       "      <td>3</td>\n",
       "      <td>Screw</td>\n",
       "      <td>Blue</td>\n",
       "      <td>17.0</td>\n",
       "      <td>Oslo</td>\n",
       "    </tr>\n",
       "    <tr>\n",
       "      <th>3</th>\n",
       "      <td>4</td>\n",
       "      <td>Screw</td>\n",
       "      <td>Red</td>\n",
       "      <td>14.0</td>\n",
       "      <td>London</td>\n",
       "    </tr>\n",
       "    <tr>\n",
       "      <th>4</th>\n",
       "      <td>1</td>\n",
       "      <td>Nut</td>\n",
       "      <td>Red</td>\n",
       "      <td>12.0</td>\n",
       "      <td>London</td>\n",
       "    </tr>\n",
       "    <tr>\n",
       "      <th>5</th>\n",
       "      <td>5</td>\n",
       "      <td>Cam</td>\n",
       "      <td>Blue</td>\n",
       "      <td>12.0</td>\n",
       "      <td>Paris</td>\n",
       "    </tr>\n",
       "  </tbody>\n",
       "</table>\n",
       "</div>"
      ],
      "text/plain": [
       "   PartID PartName  Color  Weight    City\n",
       "0       6      Cog    Red    19.0  London\n",
       "1       2     Bolt  Green    17.0   Paris\n",
       "2       3    Screw   Blue    17.0    Oslo\n",
       "3       4    Screw    Red    14.0  London\n",
       "4       1      Nut    Red    12.0  London\n",
       "5       5      Cam   Blue    12.0   Paris"
      ]
     },
     "execution_count": 24,
     "metadata": {},
     "output_type": "execute_result"
    }
   ],
   "source": [
    "pd.read_sql(\"SELECT * FROM parts ORDER BY weight DESC;\", db)"
   ]
  },
  {
   "cell_type": "code",
   "execution_count": 25,
   "id": "9abe5425",
   "metadata": {
    "scrolled": true,
    "slideshow": {
     "slide_type": "subslide"
    }
   },
   "outputs": [
    {
     "data": {
      "text/html": [
       "<div>\n",
       "<style scoped>\n",
       "    .dataframe tbody tr th:only-of-type {\n",
       "        vertical-align: middle;\n",
       "    }\n",
       "\n",
       "    .dataframe tbody tr th {\n",
       "        vertical-align: top;\n",
       "    }\n",
       "\n",
       "    .dataframe thead th {\n",
       "        text-align: right;\n",
       "    }\n",
       "</style>\n",
       "<table border=\"1\" class=\"dataframe\">\n",
       "  <thead>\n",
       "    <tr style=\"text-align: right;\">\n",
       "      <th></th>\n",
       "      <th>LOG(partid)</th>\n",
       "    </tr>\n",
       "  </thead>\n",
       "  <tbody>\n",
       "    <tr>\n",
       "      <th>0</th>\n",
       "      <td>0.778151</td>\n",
       "    </tr>\n",
       "    <tr>\n",
       "      <th>1</th>\n",
       "      <td>0.477121</td>\n",
       "    </tr>\n",
       "    <tr>\n",
       "      <th>2</th>\n",
       "      <td>0.301030</td>\n",
       "    </tr>\n",
       "    <tr>\n",
       "      <th>3</th>\n",
       "      <td>0.602060</td>\n",
       "    </tr>\n",
       "    <tr>\n",
       "      <th>4</th>\n",
       "      <td>0.000000</td>\n",
       "    </tr>\n",
       "    <tr>\n",
       "      <th>5</th>\n",
       "      <td>0.698970</td>\n",
       "    </tr>\n",
       "  </tbody>\n",
       "</table>\n",
       "</div>"
      ],
      "text/plain": [
       "   LOG(partid)\n",
       "0     0.778151\n",
       "1     0.477121\n",
       "2     0.301030\n",
       "3     0.602060\n",
       "4     0.000000\n",
       "5     0.698970"
      ]
     },
     "execution_count": 25,
     "metadata": {},
     "output_type": "execute_result"
    }
   ],
   "source": [
    "pd.read_sql(\"SELECT LOG(partid) FROM parts ORDER BY weight DESC, city;\", db)"
   ]
  },
  {
   "cell_type": "markdown",
   "id": "24bb6310",
   "metadata": {
    "slideshow": {
     "slide_type": "slide"
    }
   },
   "source": [
    "### `WHERE`\n",
    "\n",
    "`WHERE` puts conditions on the rows returned. `WHERE` is the SQL equivalent of subsetting.\n",
    "\n",
    "You can use `=` to test equality. Other comparison operators, such as `>=`, are also available."
   ]
  },
  {
   "cell_type": "code",
   "execution_count": 26,
   "id": "0212e941",
   "metadata": {
    "scrolled": true
   },
   "outputs": [
    {
     "data": {
      "text/html": [
       "<div>\n",
       "<style scoped>\n",
       "    .dataframe tbody tr th:only-of-type {\n",
       "        vertical-align: middle;\n",
       "    }\n",
       "\n",
       "    .dataframe tbody tr th {\n",
       "        vertical-align: top;\n",
       "    }\n",
       "\n",
       "    .dataframe thead th {\n",
       "        text-align: right;\n",
       "    }\n",
       "</style>\n",
       "<table border=\"1\" class=\"dataframe\">\n",
       "  <thead>\n",
       "    <tr style=\"text-align: right;\">\n",
       "      <th></th>\n",
       "      <th>PartID</th>\n",
       "      <th>PartName</th>\n",
       "      <th>Color</th>\n",
       "      <th>Weight</th>\n",
       "      <th>City</th>\n",
       "    </tr>\n",
       "  </thead>\n",
       "  <tbody>\n",
       "    <tr>\n",
       "      <th>0</th>\n",
       "      <td>1</td>\n",
       "      <td>Nut</td>\n",
       "      <td>Red</td>\n",
       "      <td>12.0</td>\n",
       "      <td>London</td>\n",
       "    </tr>\n",
       "    <tr>\n",
       "      <th>1</th>\n",
       "      <td>2</td>\n",
       "      <td>Bolt</td>\n",
       "      <td>Green</td>\n",
       "      <td>17.0</td>\n",
       "      <td>Paris</td>\n",
       "    </tr>\n",
       "    <tr>\n",
       "      <th>2</th>\n",
       "      <td>3</td>\n",
       "      <td>Screw</td>\n",
       "      <td>Blue</td>\n",
       "      <td>17.0</td>\n",
       "      <td>Oslo</td>\n",
       "    </tr>\n",
       "    <tr>\n",
       "      <th>3</th>\n",
       "      <td>4</td>\n",
       "      <td>Screw</td>\n",
       "      <td>Red</td>\n",
       "      <td>14.0</td>\n",
       "      <td>London</td>\n",
       "    </tr>\n",
       "    <tr>\n",
       "      <th>4</th>\n",
       "      <td>5</td>\n",
       "      <td>Cam</td>\n",
       "      <td>Blue</td>\n",
       "      <td>12.0</td>\n",
       "      <td>Paris</td>\n",
       "    </tr>\n",
       "    <tr>\n",
       "      <th>5</th>\n",
       "      <td>6</td>\n",
       "      <td>Cog</td>\n",
       "      <td>Red</td>\n",
       "      <td>19.0</td>\n",
       "      <td>London</td>\n",
       "    </tr>\n",
       "  </tbody>\n",
       "</table>\n",
       "</div>"
      ],
      "text/plain": [
       "   PartID PartName  Color  Weight    City\n",
       "0       1      Nut    Red    12.0  London\n",
       "1       2     Bolt  Green    17.0   Paris\n",
       "2       3    Screw   Blue    17.0    Oslo\n",
       "3       4    Screw    Red    14.0  London\n",
       "4       5      Cam   Blue    12.0   Paris\n",
       "5       6      Cog    Red    19.0  London"
      ]
     },
     "execution_count": 26,
     "metadata": {},
     "output_type": "execute_result"
    }
   ],
   "source": [
    "pd.read_sql(\"SELECT * FROM parts\", db)"
   ]
  },
  {
   "cell_type": "code",
   "execution_count": 27,
   "id": "c562b6bf",
   "metadata": {
    "scrolled": true,
    "slideshow": {
     "slide_type": "subslide"
    }
   },
   "outputs": [
    {
     "data": {
      "text/html": [
       "<div>\n",
       "<style scoped>\n",
       "    .dataframe tbody tr th:only-of-type {\n",
       "        vertical-align: middle;\n",
       "    }\n",
       "\n",
       "    .dataframe tbody tr th {\n",
       "        vertical-align: top;\n",
       "    }\n",
       "\n",
       "    .dataframe thead th {\n",
       "        text-align: right;\n",
       "    }\n",
       "</style>\n",
       "<table border=\"1\" class=\"dataframe\">\n",
       "  <thead>\n",
       "    <tr style=\"text-align: right;\">\n",
       "      <th></th>\n",
       "      <th>PartID</th>\n",
       "      <th>PartName</th>\n",
       "      <th>Color</th>\n",
       "      <th>Weight</th>\n",
       "      <th>City</th>\n",
       "    </tr>\n",
       "  </thead>\n",
       "  <tbody>\n",
       "    <tr>\n",
       "      <th>0</th>\n",
       "      <td>1</td>\n",
       "      <td>Nut</td>\n",
       "      <td>Red</td>\n",
       "      <td>12.0</td>\n",
       "      <td>London</td>\n",
       "    </tr>\n",
       "    <tr>\n",
       "      <th>1</th>\n",
       "      <td>2</td>\n",
       "      <td>Bolt</td>\n",
       "      <td>Green</td>\n",
       "      <td>17.0</td>\n",
       "      <td>Paris</td>\n",
       "    </tr>\n",
       "    <tr>\n",
       "      <th>2</th>\n",
       "      <td>4</td>\n",
       "      <td>Screw</td>\n",
       "      <td>Red</td>\n",
       "      <td>14.0</td>\n",
       "      <td>London</td>\n",
       "    </tr>\n",
       "    <tr>\n",
       "      <th>3</th>\n",
       "      <td>6</td>\n",
       "      <td>Cog</td>\n",
       "      <td>Red</td>\n",
       "      <td>19.0</td>\n",
       "      <td>London</td>\n",
       "    </tr>\n",
       "  </tbody>\n",
       "</table>\n",
       "</div>"
      ],
      "text/plain": [
       "   PartID PartName  Color  Weight    City\n",
       "0       1      Nut    Red    12.0  London\n",
       "1       2     Bolt  Green    17.0   Paris\n",
       "2       4    Screw    Red    14.0  London\n",
       "3       6      Cog    Red    19.0  London"
      ]
     },
     "execution_count": 27,
     "metadata": {},
     "output_type": "execute_result"
    }
   ],
   "source": [
    "pd.read_sql(\"SELECT * FROM parts WHERE city = 'London' OR color = 'Green';\", db)"
   ]
  },
  {
   "cell_type": "markdown",
   "id": "6532f509",
   "metadata": {
    "slideshow": {
     "slide_type": "subslide"
    }
   },
   "source": [
    "You can use `AND` and `OR` to combine conditions. You can also use parenthesis to indicate the order of operations."
   ]
  },
  {
   "cell_type": "code",
   "execution_count": 28,
   "id": "58bbaf93",
   "metadata": {
    "scrolled": true
   },
   "outputs": [
    {
     "data": {
      "text/html": [
       "<div>\n",
       "<style scoped>\n",
       "    .dataframe tbody tr th:only-of-type {\n",
       "        vertical-align: middle;\n",
       "    }\n",
       "\n",
       "    .dataframe tbody tr th {\n",
       "        vertical-align: top;\n",
       "    }\n",
       "\n",
       "    .dataframe thead th {\n",
       "        text-align: right;\n",
       "    }\n",
       "</style>\n",
       "<table border=\"1\" class=\"dataframe\">\n",
       "  <thead>\n",
       "    <tr style=\"text-align: right;\">\n",
       "      <th></th>\n",
       "      <th>PartID</th>\n",
       "      <th>PartName</th>\n",
       "      <th>Color</th>\n",
       "      <th>Weight</th>\n",
       "      <th>City</th>\n",
       "    </tr>\n",
       "  </thead>\n",
       "  <tbody>\n",
       "  </tbody>\n",
       "</table>\n",
       "</div>"
      ],
      "text/plain": [
       "Empty DataFrame\n",
       "Columns: [PartID, PartName, Color, Weight, City]\n",
       "Index: []"
      ]
     },
     "execution_count": 28,
     "metadata": {},
     "output_type": "execute_result"
    }
   ],
   "source": [
    "pd.read_sql(\"SELECT * FROM parts WHERE city = 'London' AND color = 'Green';\", db)"
   ]
  },
  {
   "cell_type": "markdown",
   "id": "66065f6a",
   "metadata": {
    "slideshow": {
     "slide_type": "subslide"
    }
   },
   "source": [
    "You can use `IN` to check whether a value is in a collection of values."
   ]
  },
  {
   "cell_type": "code",
   "execution_count": 29,
   "id": "1801f8e7",
   "metadata": {
    "scrolled": true
   },
   "outputs": [
    {
     "data": {
      "text/html": [
       "<div>\n",
       "<style scoped>\n",
       "    .dataframe tbody tr th:only-of-type {\n",
       "        vertical-align: middle;\n",
       "    }\n",
       "\n",
       "    .dataframe tbody tr th {\n",
       "        vertical-align: top;\n",
       "    }\n",
       "\n",
       "    .dataframe thead th {\n",
       "        text-align: right;\n",
       "    }\n",
       "</style>\n",
       "<table border=\"1\" class=\"dataframe\">\n",
       "  <thead>\n",
       "    <tr style=\"text-align: right;\">\n",
       "      <th></th>\n",
       "      <th>PartID</th>\n",
       "      <th>PartName</th>\n",
       "      <th>Color</th>\n",
       "      <th>Weight</th>\n",
       "      <th>City</th>\n",
       "    </tr>\n",
       "  </thead>\n",
       "  <tbody>\n",
       "    <tr>\n",
       "      <th>0</th>\n",
       "      <td>1</td>\n",
       "      <td>Nut</td>\n",
       "      <td>Red</td>\n",
       "      <td>12.0</td>\n",
       "      <td>London</td>\n",
       "    </tr>\n",
       "    <tr>\n",
       "      <th>1</th>\n",
       "      <td>2</td>\n",
       "      <td>Bolt</td>\n",
       "      <td>Green</td>\n",
       "      <td>17.0</td>\n",
       "      <td>Paris</td>\n",
       "    </tr>\n",
       "    <tr>\n",
       "      <th>2</th>\n",
       "      <td>4</td>\n",
       "      <td>Screw</td>\n",
       "      <td>Red</td>\n",
       "      <td>14.0</td>\n",
       "      <td>London</td>\n",
       "    </tr>\n",
       "    <tr>\n",
       "      <th>3</th>\n",
       "      <td>5</td>\n",
       "      <td>Cam</td>\n",
       "      <td>Blue</td>\n",
       "      <td>12.0</td>\n",
       "      <td>Paris</td>\n",
       "    </tr>\n",
       "    <tr>\n",
       "      <th>4</th>\n",
       "      <td>6</td>\n",
       "      <td>Cog</td>\n",
       "      <td>Red</td>\n",
       "      <td>19.0</td>\n",
       "      <td>London</td>\n",
       "    </tr>\n",
       "  </tbody>\n",
       "</table>\n",
       "</div>"
      ],
      "text/plain": [
       "   PartID PartName  Color  Weight    City\n",
       "0       1      Nut    Red    12.0  London\n",
       "1       2     Bolt  Green    17.0   Paris\n",
       "2       4    Screw    Red    14.0  London\n",
       "3       5      Cam   Blue    12.0   Paris\n",
       "4       6      Cog    Red    19.0  London"
      ]
     },
     "execution_count": 29,
     "metadata": {},
     "output_type": "execute_result"
    }
   ],
   "source": [
    "pd.read_sql(\"SELECT * FROM parts WHERE city IN ('Paris', 'London');\", db)"
   ]
  },
  {
   "cell_type": "code",
   "execution_count": 30,
   "id": "c841a376",
   "metadata": {
    "scrolled": true,
    "slideshow": {
     "slide_type": "subslide"
    }
   },
   "outputs": [
    {
     "data": {
      "text/html": [
       "<div>\n",
       "<style scoped>\n",
       "    .dataframe tbody tr th:only-of-type {\n",
       "        vertical-align: middle;\n",
       "    }\n",
       "\n",
       "    .dataframe tbody tr th {\n",
       "        vertical-align: top;\n",
       "    }\n",
       "\n",
       "    .dataframe thead th {\n",
       "        text-align: right;\n",
       "    }\n",
       "</style>\n",
       "<table border=\"1\" class=\"dataframe\">\n",
       "  <thead>\n",
       "    <tr style=\"text-align: right;\">\n",
       "      <th></th>\n",
       "      <th>PartID</th>\n",
       "      <th>PartName</th>\n",
       "      <th>Color</th>\n",
       "      <th>Weight</th>\n",
       "      <th>City</th>\n",
       "    </tr>\n",
       "  </thead>\n",
       "  <tbody>\n",
       "    <tr>\n",
       "      <th>0</th>\n",
       "      <td>1</td>\n",
       "      <td>Nut</td>\n",
       "      <td>Red</td>\n",
       "      <td>12.0</td>\n",
       "      <td>London</td>\n",
       "    </tr>\n",
       "    <tr>\n",
       "      <th>1</th>\n",
       "      <td>2</td>\n",
       "      <td>Bolt</td>\n",
       "      <td>Green</td>\n",
       "      <td>17.0</td>\n",
       "      <td>Paris</td>\n",
       "    </tr>\n",
       "    <tr>\n",
       "      <th>2</th>\n",
       "      <td>3</td>\n",
       "      <td>Screw</td>\n",
       "      <td>Blue</td>\n",
       "      <td>17.0</td>\n",
       "      <td>Oslo</td>\n",
       "    </tr>\n",
       "    <tr>\n",
       "      <th>3</th>\n",
       "      <td>4</td>\n",
       "      <td>Screw</td>\n",
       "      <td>Red</td>\n",
       "      <td>14.0</td>\n",
       "      <td>London</td>\n",
       "    </tr>\n",
       "    <tr>\n",
       "      <th>4</th>\n",
       "      <td>5</td>\n",
       "      <td>Cam</td>\n",
       "      <td>Blue</td>\n",
       "      <td>12.0</td>\n",
       "      <td>Paris</td>\n",
       "    </tr>\n",
       "    <tr>\n",
       "      <th>5</th>\n",
       "      <td>6</td>\n",
       "      <td>Cog</td>\n",
       "      <td>Red</td>\n",
       "      <td>19.0</td>\n",
       "      <td>London</td>\n",
       "    </tr>\n",
       "  </tbody>\n",
       "</table>\n",
       "</div>"
      ],
      "text/plain": [
       "   PartID PartName  Color  Weight    City\n",
       "0       1      Nut    Red    12.0  London\n",
       "1       2     Bolt  Green    17.0   Paris\n",
       "2       3    Screw   Blue    17.0    Oslo\n",
       "3       4    Screw    Red    14.0  London\n",
       "4       5      Cam   Blue    12.0   Paris\n",
       "5       6      Cog    Red    19.0  London"
      ]
     },
     "execution_count": 30,
     "metadata": {},
     "output_type": "execute_result"
    }
   ],
   "source": [
    "pd.read_sql(\"SELECT * FROM parts;\", db)"
   ]
  },
  {
   "cell_type": "markdown",
   "id": "8fbad752",
   "metadata": {
    "slideshow": {
     "slide_type": "slide"
    }
   },
   "source": [
    "SQL's `LIKE` keyword does simple pattern-matching language for strings. This is less powerful than regular expressions, but still useful.\n",
    "\n",
    "* `%` matches zero or more of any character, similar to regex (re) `.*`\n",
    "* `_` matches any one character, similar to regex `.`\n",
    "\n",
    "In other databases (but not SQLite):\n",
    "* `[]` matches any one of the characters you put inside the brackets, identical to regex `[]`"
   ]
  },
  {
   "cell_type": "code",
   "execution_count": 31,
   "id": "9111a8fb",
   "metadata": {
    "scrolled": true,
    "slideshow": {
     "slide_type": "subslide"
    }
   },
   "outputs": [
    {
     "data": {
      "text/html": [
       "<div>\n",
       "<style scoped>\n",
       "    .dataframe tbody tr th:only-of-type {\n",
       "        vertical-align: middle;\n",
       "    }\n",
       "\n",
       "    .dataframe tbody tr th {\n",
       "        vertical-align: top;\n",
       "    }\n",
       "\n",
       "    .dataframe thead th {\n",
       "        text-align: right;\n",
       "    }\n",
       "</style>\n",
       "<table border=\"1\" class=\"dataframe\">\n",
       "  <thead>\n",
       "    <tr style=\"text-align: right;\">\n",
       "      <th></th>\n",
       "      <th>PartID</th>\n",
       "      <th>PartName</th>\n",
       "      <th>Color</th>\n",
       "      <th>Weight</th>\n",
       "      <th>City</th>\n",
       "    </tr>\n",
       "  </thead>\n",
       "  <tbody>\n",
       "    <tr>\n",
       "      <th>0</th>\n",
       "      <td>1</td>\n",
       "      <td>Nut</td>\n",
       "      <td>Red</td>\n",
       "      <td>12.0</td>\n",
       "      <td>London</td>\n",
       "    </tr>\n",
       "    <tr>\n",
       "      <th>1</th>\n",
       "      <td>3</td>\n",
       "      <td>Screw</td>\n",
       "      <td>Blue</td>\n",
       "      <td>17.0</td>\n",
       "      <td>Oslo</td>\n",
       "    </tr>\n",
       "    <tr>\n",
       "      <th>2</th>\n",
       "      <td>4</td>\n",
       "      <td>Screw</td>\n",
       "      <td>Red</td>\n",
       "      <td>14.0</td>\n",
       "      <td>London</td>\n",
       "    </tr>\n",
       "    <tr>\n",
       "      <th>3</th>\n",
       "      <td>6</td>\n",
       "      <td>Cog</td>\n",
       "      <td>Red</td>\n",
       "      <td>19.0</td>\n",
       "      <td>London</td>\n",
       "    </tr>\n",
       "  </tbody>\n",
       "</table>\n",
       "</div>"
      ],
      "text/plain": [
       "   PartID PartName Color  Weight    City\n",
       "0       1      Nut   Red    12.0  London\n",
       "1       3    Screw  Blue    17.0    Oslo\n",
       "2       4    Screw   Red    14.0  London\n",
       "3       6      Cog   Red    19.0  London"
      ]
     },
     "execution_count": 31,
     "metadata": {},
     "output_type": "execute_result"
    }
   ],
   "source": [
    "pd.read_sql(\"SELECT * FROM parts WHERE city LIKE '%o%';\", db) #ends with s"
   ]
  },
  {
   "cell_type": "markdown",
   "id": "14481c30",
   "metadata": {
    "slideshow": {
     "slide_type": "subslide"
    }
   },
   "source": [
    "The `BETWEEN` ... `AND` keyword is useful for selecting ranges."
   ]
  },
  {
   "cell_type": "code",
   "execution_count": 32,
   "id": "409a59d9",
   "metadata": {
    "scrolled": true
   },
   "outputs": [
    {
     "data": {
      "text/html": [
       "<div>\n",
       "<style scoped>\n",
       "    .dataframe tbody tr th:only-of-type {\n",
       "        vertical-align: middle;\n",
       "    }\n",
       "\n",
       "    .dataframe tbody tr th {\n",
       "        vertical-align: top;\n",
       "    }\n",
       "\n",
       "    .dataframe thead th {\n",
       "        text-align: right;\n",
       "    }\n",
       "</style>\n",
       "<table border=\"1\" class=\"dataframe\">\n",
       "  <thead>\n",
       "    <tr style=\"text-align: right;\">\n",
       "      <th></th>\n",
       "      <th>PartID</th>\n",
       "      <th>PartName</th>\n",
       "      <th>Color</th>\n",
       "      <th>Weight</th>\n",
       "      <th>City</th>\n",
       "    </tr>\n",
       "  </thead>\n",
       "  <tbody>\n",
       "    <tr>\n",
       "      <th>0</th>\n",
       "      <td>2</td>\n",
       "      <td>Bolt</td>\n",
       "      <td>Green</td>\n",
       "      <td>17.0</td>\n",
       "      <td>Paris</td>\n",
       "    </tr>\n",
       "    <tr>\n",
       "      <th>1</th>\n",
       "      <td>3</td>\n",
       "      <td>Screw</td>\n",
       "      <td>Blue</td>\n",
       "      <td>17.0</td>\n",
       "      <td>Oslo</td>\n",
       "    </tr>\n",
       "    <tr>\n",
       "      <th>2</th>\n",
       "      <td>4</td>\n",
       "      <td>Screw</td>\n",
       "      <td>Red</td>\n",
       "      <td>14.0</td>\n",
       "      <td>London</td>\n",
       "    </tr>\n",
       "    <tr>\n",
       "      <th>3</th>\n",
       "      <td>6</td>\n",
       "      <td>Cog</td>\n",
       "      <td>Red</td>\n",
       "      <td>19.0</td>\n",
       "      <td>London</td>\n",
       "    </tr>\n",
       "  </tbody>\n",
       "</table>\n",
       "</div>"
      ],
      "text/plain": [
       "   PartID PartName  Color  Weight    City\n",
       "0       2     Bolt  Green    17.0   Paris\n",
       "1       3    Screw   Blue    17.0    Oslo\n",
       "2       4    Screw    Red    14.0  London\n",
       "3       6      Cog    Red    19.0  London"
      ]
     },
     "execution_count": 32,
     "metadata": {},
     "output_type": "execute_result"
    }
   ],
   "source": [
    "pd.read_sql(\"SELECT * FROM parts WHERE weight BETWEEN 14 AND 19;\", db)"
   ]
  },
  {
   "cell_type": "markdown",
   "id": "f3039fc9",
   "metadata": {
    "slideshow": {
     "slide_type": "slide"
    }
   },
   "source": [
    "### Operators\n",
    "\n",
    "You can use arithmetic operators `+`, `-`, `*`, `\\`, `%` on SQL columns to perform columnwise computations. These are the SQL equivalent of vectorized arithmetic."
   ]
  },
  {
   "cell_type": "code",
   "execution_count": 33,
   "id": "255aba9a",
   "metadata": {
    "scrolled": true
   },
   "outputs": [
    {
     "data": {
      "text/html": [
       "<div>\n",
       "<style scoped>\n",
       "    .dataframe tbody tr th:only-of-type {\n",
       "        vertical-align: middle;\n",
       "    }\n",
       "\n",
       "    .dataframe tbody tr th {\n",
       "        vertical-align: top;\n",
       "    }\n",
       "\n",
       "    .dataframe thead th {\n",
       "        text-align: right;\n",
       "    }\n",
       "</style>\n",
       "<table border=\"1\" class=\"dataframe\">\n",
       "  <thead>\n",
       "    <tr style=\"text-align: right;\">\n",
       "      <th></th>\n",
       "      <th>weight * weight</th>\n",
       "      <th>PartID</th>\n",
       "      <th>PartName</th>\n",
       "      <th>Color</th>\n",
       "      <th>Weight</th>\n",
       "      <th>City</th>\n",
       "    </tr>\n",
       "  </thead>\n",
       "  <tbody>\n",
       "    <tr>\n",
       "      <th>0</th>\n",
       "      <td>144.0</td>\n",
       "      <td>1</td>\n",
       "      <td>Nut</td>\n",
       "      <td>Red</td>\n",
       "      <td>12.0</td>\n",
       "      <td>London</td>\n",
       "    </tr>\n",
       "    <tr>\n",
       "      <th>1</th>\n",
       "      <td>289.0</td>\n",
       "      <td>2</td>\n",
       "      <td>Bolt</td>\n",
       "      <td>Green</td>\n",
       "      <td>17.0</td>\n",
       "      <td>Paris</td>\n",
       "    </tr>\n",
       "    <tr>\n",
       "      <th>2</th>\n",
       "      <td>289.0</td>\n",
       "      <td>3</td>\n",
       "      <td>Screw</td>\n",
       "      <td>Blue</td>\n",
       "      <td>17.0</td>\n",
       "      <td>Oslo</td>\n",
       "    </tr>\n",
       "    <tr>\n",
       "      <th>3</th>\n",
       "      <td>196.0</td>\n",
       "      <td>4</td>\n",
       "      <td>Screw</td>\n",
       "      <td>Red</td>\n",
       "      <td>14.0</td>\n",
       "      <td>London</td>\n",
       "    </tr>\n",
       "    <tr>\n",
       "      <th>4</th>\n",
       "      <td>144.0</td>\n",
       "      <td>5</td>\n",
       "      <td>Cam</td>\n",
       "      <td>Blue</td>\n",
       "      <td>12.0</td>\n",
       "      <td>Paris</td>\n",
       "    </tr>\n",
       "    <tr>\n",
       "      <th>5</th>\n",
       "      <td>361.0</td>\n",
       "      <td>6</td>\n",
       "      <td>Cog</td>\n",
       "      <td>Red</td>\n",
       "      <td>19.0</td>\n",
       "      <td>London</td>\n",
       "    </tr>\n",
       "  </tbody>\n",
       "</table>\n",
       "</div>"
      ],
      "text/plain": [
       "   weight * weight  PartID PartName  Color  Weight    City\n",
       "0            144.0       1      Nut    Red    12.0  London\n",
       "1            289.0       2     Bolt  Green    17.0   Paris\n",
       "2            289.0       3    Screw   Blue    17.0    Oslo\n",
       "3            196.0       4    Screw    Red    14.0  London\n",
       "4            144.0       5      Cam   Blue    12.0   Paris\n",
       "5            361.0       6      Cog    Red    19.0  London"
      ]
     },
     "execution_count": 33,
     "metadata": {},
     "output_type": "execute_result"
    }
   ],
   "source": [
    "pd.read_sql(\"SELECT weight * weight, * FROM parts\", db)\n",
    "\n",
    "# the first *: multiplication, and the second *: reads all columns."
   ]
  },
  {
   "cell_type": "code",
   "execution_count": 34,
   "id": "f729a2ab",
   "metadata": {
    "scrolled": true,
    "slideshow": {
     "slide_type": "subslide"
    }
   },
   "outputs": [
    {
     "data": {
      "text/html": [
       "<div>\n",
       "<style scoped>\n",
       "    .dataframe tbody tr th:only-of-type {\n",
       "        vertical-align: middle;\n",
       "    }\n",
       "\n",
       "    .dataframe tbody tr th {\n",
       "        vertical-align: top;\n",
       "    }\n",
       "\n",
       "    .dataframe thead th {\n",
       "        text-align: right;\n",
       "    }\n",
       "</style>\n",
       "<table border=\"1\" class=\"dataframe\">\n",
       "  <thead>\n",
       "    <tr style=\"text-align: right;\">\n",
       "      <th></th>\n",
       "      <th>double_weight</th>\n",
       "      <th>PartID</th>\n",
       "      <th>PartName</th>\n",
       "      <th>Color</th>\n",
       "      <th>Weight</th>\n",
       "      <th>City</th>\n",
       "    </tr>\n",
       "  </thead>\n",
       "  <tbody>\n",
       "    <tr>\n",
       "      <th>0</th>\n",
       "      <td>24.0</td>\n",
       "      <td>1</td>\n",
       "      <td>Nut</td>\n",
       "      <td>Red</td>\n",
       "      <td>12.0</td>\n",
       "      <td>London</td>\n",
       "    </tr>\n",
       "    <tr>\n",
       "      <th>1</th>\n",
       "      <td>34.0</td>\n",
       "      <td>2</td>\n",
       "      <td>Bolt</td>\n",
       "      <td>Green</td>\n",
       "      <td>17.0</td>\n",
       "      <td>Paris</td>\n",
       "    </tr>\n",
       "    <tr>\n",
       "      <th>2</th>\n",
       "      <td>34.0</td>\n",
       "      <td>3</td>\n",
       "      <td>Screw</td>\n",
       "      <td>Blue</td>\n",
       "      <td>17.0</td>\n",
       "      <td>Oslo</td>\n",
       "    </tr>\n",
       "    <tr>\n",
       "      <th>3</th>\n",
       "      <td>28.0</td>\n",
       "      <td>4</td>\n",
       "      <td>Screw</td>\n",
       "      <td>Red</td>\n",
       "      <td>14.0</td>\n",
       "      <td>London</td>\n",
       "    </tr>\n",
       "    <tr>\n",
       "      <th>4</th>\n",
       "      <td>24.0</td>\n",
       "      <td>5</td>\n",
       "      <td>Cam</td>\n",
       "      <td>Blue</td>\n",
       "      <td>12.0</td>\n",
       "      <td>Paris</td>\n",
       "    </tr>\n",
       "    <tr>\n",
       "      <th>5</th>\n",
       "      <td>38.0</td>\n",
       "      <td>6</td>\n",
       "      <td>Cog</td>\n",
       "      <td>Red</td>\n",
       "      <td>19.0</td>\n",
       "      <td>London</td>\n",
       "    </tr>\n",
       "  </tbody>\n",
       "</table>\n",
       "</div>"
      ],
      "text/plain": [
       "   double_weight  PartID PartName  Color  Weight    City\n",
       "0           24.0       1      Nut    Red    12.0  London\n",
       "1           34.0       2     Bolt  Green    17.0   Paris\n",
       "2           34.0       3    Screw   Blue    17.0    Oslo\n",
       "3           28.0       4    Screw    Red    14.0  London\n",
       "4           24.0       5      Cam   Blue    12.0   Paris\n",
       "5           38.0       6      Cog    Red    19.0  London"
      ]
     },
     "execution_count": 34,
     "metadata": {},
     "output_type": "execute_result"
    }
   ],
   "source": [
    "pd.read_sql(\"SELECT weight + weight AS double_weight, * FROM parts\", db)"
   ]
  },
  {
   "cell_type": "code",
   "execution_count": 35,
   "id": "e94d7244",
   "metadata": {
    "scrolled": true,
    "slideshow": {
     "slide_type": "subslide"
    }
   },
   "outputs": [
    {
     "data": {
      "text/html": [
       "<div>\n",
       "<style scoped>\n",
       "    .dataframe tbody tr th:only-of-type {\n",
       "        vertical-align: middle;\n",
       "    }\n",
       "\n",
       "    .dataframe tbody tr th {\n",
       "        vertical-align: top;\n",
       "    }\n",
       "\n",
       "    .dataframe thead th {\n",
       "        text-align: right;\n",
       "    }\n",
       "</style>\n",
       "<table border=\"1\" class=\"dataframe\">\n",
       "  <thead>\n",
       "    <tr style=\"text-align: right;\">\n",
       "      <th></th>\n",
       "      <th>weight + weight</th>\n",
       "      <th>PartID</th>\n",
       "      <th>PartName</th>\n",
       "      <th>Color</th>\n",
       "      <th>Weight</th>\n",
       "      <th>City</th>\n",
       "    </tr>\n",
       "  </thead>\n",
       "  <tbody>\n",
       "    <tr>\n",
       "      <th>0</th>\n",
       "      <td>34.0</td>\n",
       "      <td>2</td>\n",
       "      <td>Bolt</td>\n",
       "      <td>Green</td>\n",
       "      <td>17.0</td>\n",
       "      <td>Paris</td>\n",
       "    </tr>\n",
       "    <tr>\n",
       "      <th>1</th>\n",
       "      <td>34.0</td>\n",
       "      <td>3</td>\n",
       "      <td>Screw</td>\n",
       "      <td>Blue</td>\n",
       "      <td>17.0</td>\n",
       "      <td>Oslo</td>\n",
       "    </tr>\n",
       "    <tr>\n",
       "      <th>2</th>\n",
       "      <td>38.0</td>\n",
       "      <td>6</td>\n",
       "      <td>Cog</td>\n",
       "      <td>Red</td>\n",
       "      <td>19.0</td>\n",
       "      <td>London</td>\n",
       "    </tr>\n",
       "  </tbody>\n",
       "</table>\n",
       "</div>"
      ],
      "text/plain": [
       "   weight + weight  PartID PartName  Color  Weight    City\n",
       "0             34.0       2     Bolt  Green    17.0   Paris\n",
       "1             34.0       3    Screw   Blue    17.0    Oslo\n",
       "2             38.0       6      Cog    Red    19.0  London"
      ]
     },
     "execution_count": 35,
     "metadata": {},
     "output_type": "execute_result"
    }
   ],
   "source": [
    "pd.read_sql('''\n",
    "    SELECT weight + weight, \n",
    "    * FROM parts WHERE weight * weight > 200;\n",
    "''', db)"
   ]
  },
  {
   "cell_type": "markdown",
   "id": "bfd0306f",
   "metadata": {
    "slideshow": {
     "slide_type": "subslide"
    }
   },
   "source": [
    "### `AS`\n",
    "\n",
    "You can rename a column with the `AS` keyword. This keyword is especially useful together with SQL arithmetic operators and functions."
   ]
  },
  {
   "cell_type": "code",
   "execution_count": 36,
   "id": "057c7ae5",
   "metadata": {
    "scrolled": true
   },
   "outputs": [
    {
     "data": {
      "text/html": [
       "<div>\n",
       "<style scoped>\n",
       "    .dataframe tbody tr th:only-of-type {\n",
       "        vertical-align: middle;\n",
       "    }\n",
       "\n",
       "    .dataframe tbody tr th {\n",
       "        vertical-align: top;\n",
       "    }\n",
       "\n",
       "    .dataframe thead th {\n",
       "        text-align: right;\n",
       "    }\n",
       "</style>\n",
       "<table border=\"1\" class=\"dataframe\">\n",
       "  <thead>\n",
       "    <tr style=\"text-align: right;\">\n",
       "      <th></th>\n",
       "      <th>weightsum</th>\n",
       "      <th>PartID</th>\n",
       "      <th>PartName</th>\n",
       "      <th>Color</th>\n",
       "      <th>Weight</th>\n",
       "      <th>City</th>\n",
       "    </tr>\n",
       "  </thead>\n",
       "  <tbody>\n",
       "    <tr>\n",
       "      <th>0</th>\n",
       "      <td>34.0</td>\n",
       "      <td>2</td>\n",
       "      <td>Bolt</td>\n",
       "      <td>Green</td>\n",
       "      <td>17.0</td>\n",
       "      <td>Paris</td>\n",
       "    </tr>\n",
       "    <tr>\n",
       "      <th>1</th>\n",
       "      <td>34.0</td>\n",
       "      <td>3</td>\n",
       "      <td>Screw</td>\n",
       "      <td>Blue</td>\n",
       "      <td>17.0</td>\n",
       "      <td>Oslo</td>\n",
       "    </tr>\n",
       "    <tr>\n",
       "      <th>2</th>\n",
       "      <td>38.0</td>\n",
       "      <td>6</td>\n",
       "      <td>Cog</td>\n",
       "      <td>Red</td>\n",
       "      <td>19.0</td>\n",
       "      <td>London</td>\n",
       "    </tr>\n",
       "  </tbody>\n",
       "</table>\n",
       "</div>"
      ],
      "text/plain": [
       "   weightsum  PartID PartName  Color  Weight    City\n",
       "0       34.0       2     Bolt  Green    17.0   Paris\n",
       "1       34.0       3    Screw   Blue    17.0    Oslo\n",
       "2       38.0       6      Cog    Red    19.0  London"
      ]
     },
     "execution_count": 36,
     "metadata": {},
     "output_type": "execute_result"
    }
   ],
   "source": [
    "pd.read_sql('''\n",
    "    SELECT weight + weight AS weightsum, \n",
    "    * FROM parts WHERE weight * weight > 200;\n",
    "''', db)"
   ]
  },
  {
   "cell_type": "markdown",
   "id": "19807ced",
   "metadata": {
    "slideshow": {
     "slide_type": "slide"
    }
   },
   "source": [
    "### Functions & Aggregation\n",
    "\n",
    "SQL has built-in functions, which vary from one DBMS to another. The SQL cheatsheet lists most of the functions supported by SQLite.\n",
    "\n",
    "Most SQL functions aggregate data in a column, summarizing that column somehow."
   ]
  },
  {
   "cell_type": "code",
   "execution_count": 37,
   "id": "84358bc5",
   "metadata": {
    "scrolled": true
   },
   "outputs": [
    {
     "data": {
      "text/html": [
       "<div>\n",
       "<style scoped>\n",
       "    .dataframe tbody tr th:only-of-type {\n",
       "        vertical-align: middle;\n",
       "    }\n",
       "\n",
       "    .dataframe tbody tr th {\n",
       "        vertical-align: top;\n",
       "    }\n",
       "\n",
       "    .dataframe thead th {\n",
       "        text-align: right;\n",
       "    }\n",
       "</style>\n",
       "<table border=\"1\" class=\"dataframe\">\n",
       "  <thead>\n",
       "    <tr style=\"text-align: right;\">\n",
       "      <th></th>\n",
       "      <th>multiplied_weight</th>\n",
       "      <th>PartID</th>\n",
       "      <th>PartName</th>\n",
       "      <th>Color</th>\n",
       "      <th>Weight</th>\n",
       "      <th>City</th>\n",
       "    </tr>\n",
       "  </thead>\n",
       "  <tbody>\n",
       "    <tr>\n",
       "      <th>0</th>\n",
       "      <td>144.0</td>\n",
       "      <td>1</td>\n",
       "      <td>Nut</td>\n",
       "      <td>Red</td>\n",
       "      <td>12.0</td>\n",
       "      <td>London</td>\n",
       "    </tr>\n",
       "    <tr>\n",
       "      <th>1</th>\n",
       "      <td>204.0</td>\n",
       "      <td>2</td>\n",
       "      <td>Bolt</td>\n",
       "      <td>Green</td>\n",
       "      <td>17.0</td>\n",
       "      <td>Paris</td>\n",
       "    </tr>\n",
       "    <tr>\n",
       "      <th>2</th>\n",
       "      <td>204.0</td>\n",
       "      <td>3</td>\n",
       "      <td>Screw</td>\n",
       "      <td>Blue</td>\n",
       "      <td>17.0</td>\n",
       "      <td>Oslo</td>\n",
       "    </tr>\n",
       "    <tr>\n",
       "      <th>3</th>\n",
       "      <td>168.0</td>\n",
       "      <td>4</td>\n",
       "      <td>Screw</td>\n",
       "      <td>Red</td>\n",
       "      <td>14.0</td>\n",
       "      <td>London</td>\n",
       "    </tr>\n",
       "    <tr>\n",
       "      <th>4</th>\n",
       "      <td>144.0</td>\n",
       "      <td>5</td>\n",
       "      <td>Cam</td>\n",
       "      <td>Blue</td>\n",
       "      <td>12.0</td>\n",
       "      <td>Paris</td>\n",
       "    </tr>\n",
       "    <tr>\n",
       "      <th>5</th>\n",
       "      <td>228.0</td>\n",
       "      <td>6</td>\n",
       "      <td>Cog</td>\n",
       "      <td>Red</td>\n",
       "      <td>19.0</td>\n",
       "      <td>London</td>\n",
       "    </tr>\n",
       "  </tbody>\n",
       "</table>\n",
       "</div>"
      ],
      "text/plain": [
       "   multiplied_weight  PartID PartName  Color  Weight    City\n",
       "0              144.0       1      Nut    Red    12.0  London\n",
       "1              204.0       2     Bolt  Green    17.0   Paris\n",
       "2              204.0       3    Screw   Blue    17.0    Oslo\n",
       "3              168.0       4    Screw    Red    14.0  London\n",
       "4              144.0       5      Cam   Blue    12.0   Paris\n",
       "5              228.0       6      Cog    Red    19.0  London"
      ]
     },
     "execution_count": 37,
     "metadata": {},
     "output_type": "execute_result"
    }
   ],
   "source": [
    "pd.read_sql('''\n",
    "    SELECT weight * 12 AS multiplied_weight, \n",
    "    * FROM parts;\n",
    "''', db)"
   ]
  },
  {
   "cell_type": "code",
   "execution_count": 39,
   "id": "47ffba66",
   "metadata": {
    "scrolled": true,
    "slideshow": {
     "slide_type": "subslide"
    }
   },
   "outputs": [
    {
     "data": {
      "text/html": [
       "<div>\n",
       "<style scoped>\n",
       "    .dataframe tbody tr th:only-of-type {\n",
       "        vertical-align: middle;\n",
       "    }\n",
       "\n",
       "    .dataframe tbody tr th {\n",
       "        vertical-align: top;\n",
       "    }\n",
       "\n",
       "    .dataframe thead th {\n",
       "        text-align: right;\n",
       "    }\n",
       "</style>\n",
       "<table border=\"1\" class=\"dataframe\">\n",
       "  <thead>\n",
       "    <tr style=\"text-align: right;\">\n",
       "      <th></th>\n",
       "      <th>avg_multiplied_weight</th>\n",
       "    </tr>\n",
       "  </thead>\n",
       "  <tbody>\n",
       "    <tr>\n",
       "      <th>0</th>\n",
       "      <td>182.0</td>\n",
       "    </tr>\n",
       "  </tbody>\n",
       "</table>\n",
       "</div>"
      ],
      "text/plain": [
       "   avg_multiplied_weight\n",
       "0                  182.0"
      ]
     },
     "execution_count": 39,
     "metadata": {},
     "output_type": "execute_result"
    }
   ],
   "source": [
    "pd.read_sql(\"SELECT AVG(weight * 12) AS avg_multiplied_weight FROM parts;\", db)"
   ]
  },
  {
   "cell_type": "code",
   "execution_count": 40,
   "id": "404a07ce",
   "metadata": {
    "scrolled": true
   },
   "outputs": [
    {
     "data": {
      "text/html": [
       "<div>\n",
       "<style scoped>\n",
       "    .dataframe tbody tr th:only-of-type {\n",
       "        vertical-align: middle;\n",
       "    }\n",
       "\n",
       "    .dataframe tbody tr th {\n",
       "        vertical-align: top;\n",
       "    }\n",
       "\n",
       "    .dataframe thead th {\n",
       "        text-align: right;\n",
       "    }\n",
       "</style>\n",
       "<table border=\"1\" class=\"dataframe\">\n",
       "  <thead>\n",
       "    <tr style=\"text-align: right;\">\n",
       "      <th></th>\n",
       "      <th>countcolumn</th>\n",
       "    </tr>\n",
       "  </thead>\n",
       "  <tbody>\n",
       "    <tr>\n",
       "      <th>0</th>\n",
       "      <td>6</td>\n",
       "    </tr>\n",
       "  </tbody>\n",
       "</table>\n",
       "</div>"
      ],
      "text/plain": [
       "   countcolumn\n",
       "0            6"
      ]
     },
     "execution_count": 40,
     "metadata": {},
     "output_type": "execute_result"
    }
   ],
   "source": [
    "pd.read_sql(\"SELECT COUNT(*) AS countcolumn FROM parts;\", db)"
   ]
  },
  {
   "cell_type": "code",
   "execution_count": 41,
   "id": "2f93ce31",
   "metadata": {
    "scrolled": true,
    "slideshow": {
     "slide_type": "subslide"
    }
   },
   "outputs": [
    {
     "data": {
      "text/html": [
       "<div>\n",
       "<style scoped>\n",
       "    .dataframe tbody tr th:only-of-type {\n",
       "        vertical-align: middle;\n",
       "    }\n",
       "\n",
       "    .dataframe tbody tr th {\n",
       "        vertical-align: top;\n",
       "    }\n",
       "\n",
       "    .dataframe thead th {\n",
       "        text-align: right;\n",
       "    }\n",
       "</style>\n",
       "<table border=\"1\" class=\"dataframe\">\n",
       "  <thead>\n",
       "    <tr style=\"text-align: right;\">\n",
       "      <th></th>\n",
       "      <th>uppercity</th>\n",
       "      <th>PartID</th>\n",
       "      <th>PartName</th>\n",
       "      <th>Color</th>\n",
       "      <th>Weight</th>\n",
       "      <th>City</th>\n",
       "    </tr>\n",
       "  </thead>\n",
       "  <tbody>\n",
       "    <tr>\n",
       "      <th>0</th>\n",
       "      <td>LONDON</td>\n",
       "      <td>1</td>\n",
       "      <td>Nut</td>\n",
       "      <td>Red</td>\n",
       "      <td>12.0</td>\n",
       "      <td>London</td>\n",
       "    </tr>\n",
       "    <tr>\n",
       "      <th>1</th>\n",
       "      <td>PARIS</td>\n",
       "      <td>2</td>\n",
       "      <td>Bolt</td>\n",
       "      <td>Green</td>\n",
       "      <td>17.0</td>\n",
       "      <td>Paris</td>\n",
       "    </tr>\n",
       "    <tr>\n",
       "      <th>2</th>\n",
       "      <td>OSLO</td>\n",
       "      <td>3</td>\n",
       "      <td>Screw</td>\n",
       "      <td>Blue</td>\n",
       "      <td>17.0</td>\n",
       "      <td>Oslo</td>\n",
       "    </tr>\n",
       "    <tr>\n",
       "      <th>3</th>\n",
       "      <td>LONDON</td>\n",
       "      <td>4</td>\n",
       "      <td>Screw</td>\n",
       "      <td>Red</td>\n",
       "      <td>14.0</td>\n",
       "      <td>London</td>\n",
       "    </tr>\n",
       "    <tr>\n",
       "      <th>4</th>\n",
       "      <td>PARIS</td>\n",
       "      <td>5</td>\n",
       "      <td>Cam</td>\n",
       "      <td>Blue</td>\n",
       "      <td>12.0</td>\n",
       "      <td>Paris</td>\n",
       "    </tr>\n",
       "    <tr>\n",
       "      <th>5</th>\n",
       "      <td>LONDON</td>\n",
       "      <td>6</td>\n",
       "      <td>Cog</td>\n",
       "      <td>Red</td>\n",
       "      <td>19.0</td>\n",
       "      <td>London</td>\n",
       "    </tr>\n",
       "  </tbody>\n",
       "</table>\n",
       "</div>"
      ],
      "text/plain": [
       "  uppercity  PartID PartName  Color  Weight    City\n",
       "0    LONDON       1      Nut    Red    12.0  London\n",
       "1     PARIS       2     Bolt  Green    17.0   Paris\n",
       "2      OSLO       3    Screw   Blue    17.0    Oslo\n",
       "3    LONDON       4    Screw    Red    14.0  London\n",
       "4     PARIS       5      Cam   Blue    12.0   Paris\n",
       "5    LONDON       6      Cog    Red    19.0  London"
      ]
     },
     "execution_count": 41,
     "metadata": {},
     "output_type": "execute_result"
    }
   ],
   "source": [
    "pd.read_sql(\"SELECT upper(city) AS uppercity, * FROM parts;\", db)"
   ]
  },
  {
   "cell_type": "markdown",
   "id": "e632f19c",
   "metadata": {
    "slideshow": {
     "slide_type": "slide"
    }
   },
   "source": [
    "### `GROUP BY`\n",
    "\n",
    "The `GROUP BY` keyword groups rows before they are aggregated. `GROUP BY` is the SQL equivalent of Pandas' `.groupby()` method."
   ]
  },
  {
   "cell_type": "code",
   "execution_count": 42,
   "id": "6a6fb4d3",
   "metadata": {
    "scrolled": true
   },
   "outputs": [
    {
     "data": {
      "text/html": [
       "<div>\n",
       "<style scoped>\n",
       "    .dataframe tbody tr th:only-of-type {\n",
       "        vertical-align: middle;\n",
       "    }\n",
       "\n",
       "    .dataframe tbody tr th {\n",
       "        vertical-align: top;\n",
       "    }\n",
       "\n",
       "    .dataframe thead th {\n",
       "        text-align: right;\n",
       "    }\n",
       "</style>\n",
       "<table border=\"1\" class=\"dataframe\">\n",
       "  <thead>\n",
       "    <tr style=\"text-align: right;\">\n",
       "      <th></th>\n",
       "      <th>AVG(weight)</th>\n",
       "    </tr>\n",
       "  </thead>\n",
       "  <tbody>\n",
       "    <tr>\n",
       "      <th>0</th>\n",
       "      <td>15.166667</td>\n",
       "    </tr>\n",
       "  </tbody>\n",
       "</table>\n",
       "</div>"
      ],
      "text/plain": [
       "   AVG(weight)\n",
       "0    15.166667"
      ]
     },
     "execution_count": 42,
     "metadata": {},
     "output_type": "execute_result"
    }
   ],
   "source": [
    "pd.read_sql(\"SELECT AVG(weight) FROM parts;\", db)"
   ]
  },
  {
   "cell_type": "code",
   "execution_count": 43,
   "id": "be2969b4",
   "metadata": {
    "scrolled": true
   },
   "outputs": [
    {
     "data": {
      "text/html": [
       "<div>\n",
       "<style scoped>\n",
       "    .dataframe tbody tr th:only-of-type {\n",
       "        vertical-align: middle;\n",
       "    }\n",
       "\n",
       "    .dataframe tbody tr th {\n",
       "        vertical-align: top;\n",
       "    }\n",
       "\n",
       "    .dataframe thead th {\n",
       "        text-align: right;\n",
       "    }\n",
       "</style>\n",
       "<table border=\"1\" class=\"dataframe\">\n",
       "  <thead>\n",
       "    <tr style=\"text-align: right;\">\n",
       "      <th></th>\n",
       "      <th>AVG(weight)</th>\n",
       "      <th>City</th>\n",
       "    </tr>\n",
       "  </thead>\n",
       "  <tbody>\n",
       "    <tr>\n",
       "      <th>0</th>\n",
       "      <td>15.0</td>\n",
       "      <td>London</td>\n",
       "    </tr>\n",
       "    <tr>\n",
       "      <th>1</th>\n",
       "      <td>17.0</td>\n",
       "      <td>Oslo</td>\n",
       "    </tr>\n",
       "    <tr>\n",
       "      <th>2</th>\n",
       "      <td>14.5</td>\n",
       "      <td>Paris</td>\n",
       "    </tr>\n",
       "  </tbody>\n",
       "</table>\n",
       "</div>"
      ],
      "text/plain": [
       "   AVG(weight)    City\n",
       "0         15.0  London\n",
       "1         17.0    Oslo\n",
       "2         14.5   Paris"
      ]
     },
     "execution_count": 43,
     "metadata": {},
     "output_type": "execute_result"
    }
   ],
   "source": [
    "pd.read_sql(\"SELECT AVG(weight), city FROM parts GROUP BY city;\", db)"
   ]
  },
  {
   "cell_type": "code",
   "execution_count": 44,
   "id": "24128a02",
   "metadata": {
    "scrolled": true,
    "slideshow": {
     "slide_type": "subslide"
    }
   },
   "outputs": [
    {
     "data": {
      "text/html": [
       "<div>\n",
       "<style scoped>\n",
       "    .dataframe tbody tr th:only-of-type {\n",
       "        vertical-align: middle;\n",
       "    }\n",
       "\n",
       "    .dataframe tbody tr th {\n",
       "        vertical-align: top;\n",
       "    }\n",
       "\n",
       "    .dataframe thead th {\n",
       "        text-align: right;\n",
       "    }\n",
       "</style>\n",
       "<table border=\"1\" class=\"dataframe\">\n",
       "  <thead>\n",
       "    <tr style=\"text-align: right;\">\n",
       "      <th></th>\n",
       "      <th>AVG(weight)</th>\n",
       "      <th>City</th>\n",
       "      <th>PartName</th>\n",
       "    </tr>\n",
       "  </thead>\n",
       "  <tbody>\n",
       "    <tr>\n",
       "      <th>0</th>\n",
       "      <td>19.0</td>\n",
       "      <td>London</td>\n",
       "      <td>Cog</td>\n",
       "    </tr>\n",
       "    <tr>\n",
       "      <th>1</th>\n",
       "      <td>12.0</td>\n",
       "      <td>London</td>\n",
       "      <td>Nut</td>\n",
       "    </tr>\n",
       "    <tr>\n",
       "      <th>2</th>\n",
       "      <td>14.0</td>\n",
       "      <td>London</td>\n",
       "      <td>Screw</td>\n",
       "    </tr>\n",
       "    <tr>\n",
       "      <th>3</th>\n",
       "      <td>17.0</td>\n",
       "      <td>Oslo</td>\n",
       "      <td>Screw</td>\n",
       "    </tr>\n",
       "    <tr>\n",
       "      <th>4</th>\n",
       "      <td>17.0</td>\n",
       "      <td>Paris</td>\n",
       "      <td>Bolt</td>\n",
       "    </tr>\n",
       "    <tr>\n",
       "      <th>5</th>\n",
       "      <td>12.0</td>\n",
       "      <td>Paris</td>\n",
       "      <td>Cam</td>\n",
       "    </tr>\n",
       "  </tbody>\n",
       "</table>\n",
       "</div>"
      ],
      "text/plain": [
       "   AVG(weight)    City PartName\n",
       "0         19.0  London      Cog\n",
       "1         12.0  London      Nut\n",
       "2         14.0  London    Screw\n",
       "3         17.0    Oslo    Screw\n",
       "4         17.0   Paris     Bolt\n",
       "5         12.0   Paris      Cam"
      ]
     },
     "execution_count": 44,
     "metadata": {},
     "output_type": "execute_result"
    }
   ],
   "source": [
    "pd.read_sql(\"SELECT AVG(weight), city, partname FROM parts GROUP BY city, partname;\", db)"
   ]
  },
  {
   "cell_type": "markdown",
   "id": "ef71642f",
   "metadata": {
    "slideshow": {
     "slide_type": "slide"
    }
   },
   "source": [
    "### `HAVING`\n",
    "\n",
    "The `WHERE` keyword puts conditions on the rows returned _before computing any aggregate functions._ So use `WHERE` to remove rows before aggregation.\n",
    "\n",
    "The `HAVING` keyword puts conditions on the rows returned _after computing any aggregate functions._ So use `HAVING` to remove rows after aggregation. `HAVING` is most useful for conditions on the result of an aggregate."
   ]
  },
  {
   "cell_type": "code",
   "execution_count": 45,
   "id": "4146c191",
   "metadata": {
    "scrolled": true
   },
   "outputs": [
    {
     "data": {
      "text/html": [
       "<div>\n",
       "<style scoped>\n",
       "    .dataframe tbody tr th:only-of-type {\n",
       "        vertical-align: middle;\n",
       "    }\n",
       "\n",
       "    .dataframe tbody tr th {\n",
       "        vertical-align: top;\n",
       "    }\n",
       "\n",
       "    .dataframe thead th {\n",
       "        text-align: right;\n",
       "    }\n",
       "</style>\n",
       "<table border=\"1\" class=\"dataframe\">\n",
       "  <thead>\n",
       "    <tr style=\"text-align: right;\">\n",
       "      <th></th>\n",
       "      <th>avg_weight</th>\n",
       "      <th>City</th>\n",
       "    </tr>\n",
       "  </thead>\n",
       "  <tbody>\n",
       "    <tr>\n",
       "      <th>0</th>\n",
       "      <td>19.0</td>\n",
       "      <td>London</td>\n",
       "    </tr>\n",
       "    <tr>\n",
       "      <th>1</th>\n",
       "      <td>17.0</td>\n",
       "      <td>Oslo</td>\n",
       "    </tr>\n",
       "    <tr>\n",
       "      <th>2</th>\n",
       "      <td>17.0</td>\n",
       "      <td>Paris</td>\n",
       "    </tr>\n",
       "  </tbody>\n",
       "</table>\n",
       "</div>"
      ],
      "text/plain": [
       "   avg_weight    City\n",
       "0        19.0  London\n",
       "1        17.0    Oslo\n",
       "2        17.0   Paris"
      ]
     },
     "execution_count": 45,
     "metadata": {},
     "output_type": "execute_result"
    }
   ],
   "source": [
    "# It's an error to use WHERE to put a condition on an aggregated column.\n",
    "pd.read_sql('''\n",
    "    SELECT AVG(weight) AS avg_weight, city \n",
    "    FROM parts WHERE weight > 15 GROUP BY city HAVING avg_weight = 17 OR avg_weight = 19\n",
    "''', db)"
   ]
  },
  {
   "cell_type": "code",
   "execution_count": 46,
   "id": "309fbb9e",
   "metadata": {
    "scrolled": true,
    "slideshow": {
     "slide_type": "subslide"
    }
   },
   "outputs": [
    {
     "data": {
      "text/html": [
       "<div>\n",
       "<style scoped>\n",
       "    .dataframe tbody tr th:only-of-type {\n",
       "        vertical-align: middle;\n",
       "    }\n",
       "\n",
       "    .dataframe tbody tr th {\n",
       "        vertical-align: top;\n",
       "    }\n",
       "\n",
       "    .dataframe thead th {\n",
       "        text-align: right;\n",
       "    }\n",
       "</style>\n",
       "<table border=\"1\" class=\"dataframe\">\n",
       "  <thead>\n",
       "    <tr style=\"text-align: right;\">\n",
       "      <th></th>\n",
       "      <th>avg_weight</th>\n",
       "      <th>City</th>\n",
       "    </tr>\n",
       "  </thead>\n",
       "  <tbody>\n",
       "    <tr>\n",
       "      <th>0</th>\n",
       "      <td>17.0</td>\n",
       "      <td>Oslo</td>\n",
       "    </tr>\n",
       "  </tbody>\n",
       "</table>\n",
       "</div>"
      ],
      "text/plain": [
       "   avg_weight  City\n",
       "0        17.0  Oslo"
      ]
     },
     "execution_count": 46,
     "metadata": {},
     "output_type": "execute_result"
    }
   ],
   "source": [
    "pd.read_sql(\"SELECT AVG(weight) AS avg_weight, city FROM parts GROUP BY city HAVING avg_weight > 15\", db)"
   ]
  },
  {
   "cell_type": "markdown",
   "id": "93154a27",
   "metadata": {
    "slideshow": {
     "slide_type": "slide"
    }
   },
   "source": [
    "### Joins\n",
    "\n",
    "A `JOIN` combines two tables using a column they have in common. `JOIN` is the SQL equivalent of Pandas' `.join()` method and `pd.merge()` function."
   ]
  },
  {
   "cell_type": "code",
   "execution_count": 47,
   "id": "e49e6871",
   "metadata": {
    "scrolled": true
   },
   "outputs": [
    {
     "data": {
      "text/html": [
       "<div>\n",
       "<style scoped>\n",
       "    .dataframe tbody tr th:only-of-type {\n",
       "        vertical-align: middle;\n",
       "    }\n",
       "\n",
       "    .dataframe tbody tr th {\n",
       "        vertical-align: top;\n",
       "    }\n",
       "\n",
       "    .dataframe thead th {\n",
       "        text-align: right;\n",
       "    }\n",
       "</style>\n",
       "<table border=\"1\" class=\"dataframe\">\n",
       "  <thead>\n",
       "    <tr style=\"text-align: right;\">\n",
       "      <th></th>\n",
       "      <th>PartID</th>\n",
       "      <th>SupplierID</th>\n",
       "      <th>Qty</th>\n",
       "    </tr>\n",
       "  </thead>\n",
       "  <tbody>\n",
       "    <tr>\n",
       "      <th>0</th>\n",
       "      <td>1</td>\n",
       "      <td>1</td>\n",
       "      <td>300</td>\n",
       "    </tr>\n",
       "    <tr>\n",
       "      <th>1</th>\n",
       "      <td>1</td>\n",
       "      <td>2</td>\n",
       "      <td>200</td>\n",
       "    </tr>\n",
       "    <tr>\n",
       "      <th>2</th>\n",
       "      <td>1</td>\n",
       "      <td>3</td>\n",
       "      <td>400</td>\n",
       "    </tr>\n",
       "    <tr>\n",
       "      <th>3</th>\n",
       "      <td>1</td>\n",
       "      <td>4</td>\n",
       "      <td>200</td>\n",
       "    </tr>\n",
       "    <tr>\n",
       "      <th>4</th>\n",
       "      <td>1</td>\n",
       "      <td>5</td>\n",
       "      <td>100</td>\n",
       "    </tr>\n",
       "    <tr>\n",
       "      <th>5</th>\n",
       "      <td>1</td>\n",
       "      <td>6</td>\n",
       "      <td>100</td>\n",
       "    </tr>\n",
       "    <tr>\n",
       "      <th>6</th>\n",
       "      <td>2</td>\n",
       "      <td>1</td>\n",
       "      <td>300</td>\n",
       "    </tr>\n",
       "    <tr>\n",
       "      <th>7</th>\n",
       "      <td>2</td>\n",
       "      <td>2</td>\n",
       "      <td>400</td>\n",
       "    </tr>\n",
       "    <tr>\n",
       "      <th>8</th>\n",
       "      <td>3</td>\n",
       "      <td>2</td>\n",
       "      <td>200</td>\n",
       "    </tr>\n",
       "    <tr>\n",
       "      <th>9</th>\n",
       "      <td>4</td>\n",
       "      <td>2</td>\n",
       "      <td>200</td>\n",
       "    </tr>\n",
       "    <tr>\n",
       "      <th>10</th>\n",
       "      <td>4</td>\n",
       "      <td>4</td>\n",
       "      <td>300</td>\n",
       "    </tr>\n",
       "    <tr>\n",
       "      <th>11</th>\n",
       "      <td>4</td>\n",
       "      <td>5</td>\n",
       "      <td>400</td>\n",
       "    </tr>\n",
       "  </tbody>\n",
       "</table>\n",
       "</div>"
      ],
      "text/plain": [
       "    PartID  SupplierID  Qty\n",
       "0        1           1  300\n",
       "1        1           2  200\n",
       "2        1           3  400\n",
       "3        1           4  200\n",
       "4        1           5  100\n",
       "5        1           6  100\n",
       "6        2           1  300\n",
       "7        2           2  400\n",
       "8        3           2  200\n",
       "9        4           2  200\n",
       "10       4           4  300\n",
       "11       4           5  400"
      ]
     },
     "execution_count": 47,
     "metadata": {},
     "output_type": "execute_result"
    }
   ],
   "source": [
    "pd.read_sql(\"SELECT * FROM supplierparts\", db)"
   ]
  },
  {
   "cell_type": "code",
   "execution_count": 48,
   "id": "3e3ac69b",
   "metadata": {
    "scrolled": true,
    "slideshow": {
     "slide_type": "subslide"
    }
   },
   "outputs": [
    {
     "data": {
      "text/html": [
       "<div>\n",
       "<style scoped>\n",
       "    .dataframe tbody tr th:only-of-type {\n",
       "        vertical-align: middle;\n",
       "    }\n",
       "\n",
       "    .dataframe tbody tr th {\n",
       "        vertical-align: top;\n",
       "    }\n",
       "\n",
       "    .dataframe thead th {\n",
       "        text-align: right;\n",
       "    }\n",
       "</style>\n",
       "<table border=\"1\" class=\"dataframe\">\n",
       "  <thead>\n",
       "    <tr style=\"text-align: right;\">\n",
       "      <th></th>\n",
       "      <th>PartID</th>\n",
       "      <th>SupplierID</th>\n",
       "      <th>Qty</th>\n",
       "      <th>PartID</th>\n",
       "      <th>PartName</th>\n",
       "      <th>Color</th>\n",
       "      <th>Weight</th>\n",
       "      <th>City</th>\n",
       "    </tr>\n",
       "  </thead>\n",
       "  <tbody>\n",
       "    <tr>\n",
       "      <th>0</th>\n",
       "      <td>1</td>\n",
       "      <td>1</td>\n",
       "      <td>300</td>\n",
       "      <td>1</td>\n",
       "      <td>Nut</td>\n",
       "      <td>Red</td>\n",
       "      <td>12.0</td>\n",
       "      <td>London</td>\n",
       "    </tr>\n",
       "    <tr>\n",
       "      <th>1</th>\n",
       "      <td>1</td>\n",
       "      <td>2</td>\n",
       "      <td>200</td>\n",
       "      <td>1</td>\n",
       "      <td>Nut</td>\n",
       "      <td>Red</td>\n",
       "      <td>12.0</td>\n",
       "      <td>London</td>\n",
       "    </tr>\n",
       "    <tr>\n",
       "      <th>2</th>\n",
       "      <td>1</td>\n",
       "      <td>3</td>\n",
       "      <td>400</td>\n",
       "      <td>1</td>\n",
       "      <td>Nut</td>\n",
       "      <td>Red</td>\n",
       "      <td>12.0</td>\n",
       "      <td>London</td>\n",
       "    </tr>\n",
       "    <tr>\n",
       "      <th>3</th>\n",
       "      <td>1</td>\n",
       "      <td>4</td>\n",
       "      <td>200</td>\n",
       "      <td>1</td>\n",
       "      <td>Nut</td>\n",
       "      <td>Red</td>\n",
       "      <td>12.0</td>\n",
       "      <td>London</td>\n",
       "    </tr>\n",
       "    <tr>\n",
       "      <th>4</th>\n",
       "      <td>1</td>\n",
       "      <td>5</td>\n",
       "      <td>100</td>\n",
       "      <td>1</td>\n",
       "      <td>Nut</td>\n",
       "      <td>Red</td>\n",
       "      <td>12.0</td>\n",
       "      <td>London</td>\n",
       "    </tr>\n",
       "    <tr>\n",
       "      <th>5</th>\n",
       "      <td>1</td>\n",
       "      <td>6</td>\n",
       "      <td>100</td>\n",
       "      <td>1</td>\n",
       "      <td>Nut</td>\n",
       "      <td>Red</td>\n",
       "      <td>12.0</td>\n",
       "      <td>London</td>\n",
       "    </tr>\n",
       "    <tr>\n",
       "      <th>6</th>\n",
       "      <td>2</td>\n",
       "      <td>1</td>\n",
       "      <td>300</td>\n",
       "      <td>2</td>\n",
       "      <td>Bolt</td>\n",
       "      <td>Green</td>\n",
       "      <td>17.0</td>\n",
       "      <td>Paris</td>\n",
       "    </tr>\n",
       "    <tr>\n",
       "      <th>7</th>\n",
       "      <td>2</td>\n",
       "      <td>2</td>\n",
       "      <td>400</td>\n",
       "      <td>2</td>\n",
       "      <td>Bolt</td>\n",
       "      <td>Green</td>\n",
       "      <td>17.0</td>\n",
       "      <td>Paris</td>\n",
       "    </tr>\n",
       "    <tr>\n",
       "      <th>8</th>\n",
       "      <td>3</td>\n",
       "      <td>2</td>\n",
       "      <td>200</td>\n",
       "      <td>3</td>\n",
       "      <td>Screw</td>\n",
       "      <td>Blue</td>\n",
       "      <td>17.0</td>\n",
       "      <td>Oslo</td>\n",
       "    </tr>\n",
       "    <tr>\n",
       "      <th>9</th>\n",
       "      <td>4</td>\n",
       "      <td>2</td>\n",
       "      <td>200</td>\n",
       "      <td>4</td>\n",
       "      <td>Screw</td>\n",
       "      <td>Red</td>\n",
       "      <td>14.0</td>\n",
       "      <td>London</td>\n",
       "    </tr>\n",
       "    <tr>\n",
       "      <th>10</th>\n",
       "      <td>4</td>\n",
       "      <td>4</td>\n",
       "      <td>300</td>\n",
       "      <td>4</td>\n",
       "      <td>Screw</td>\n",
       "      <td>Red</td>\n",
       "      <td>14.0</td>\n",
       "      <td>London</td>\n",
       "    </tr>\n",
       "    <tr>\n",
       "      <th>11</th>\n",
       "      <td>4</td>\n",
       "      <td>5</td>\n",
       "      <td>400</td>\n",
       "      <td>4</td>\n",
       "      <td>Screw</td>\n",
       "      <td>Red</td>\n",
       "      <td>14.0</td>\n",
       "      <td>London</td>\n",
       "    </tr>\n",
       "  </tbody>\n",
       "</table>\n",
       "</div>"
      ],
      "text/plain": [
       "    PartID  SupplierID  Qty  PartID PartName  Color  Weight    City\n",
       "0        1           1  300       1      Nut    Red    12.0  London\n",
       "1        1           2  200       1      Nut    Red    12.0  London\n",
       "2        1           3  400       1      Nut    Red    12.0  London\n",
       "3        1           4  200       1      Nut    Red    12.0  London\n",
       "4        1           5  100       1      Nut    Red    12.0  London\n",
       "5        1           6  100       1      Nut    Red    12.0  London\n",
       "6        2           1  300       2     Bolt  Green    17.0   Paris\n",
       "7        2           2  400       2     Bolt  Green    17.0   Paris\n",
       "8        3           2  200       3    Screw   Blue    17.0    Oslo\n",
       "9        4           2  200       4    Screw    Red    14.0  London\n",
       "10       4           4  300       4    Screw    Red    14.0  London\n",
       "11       4           5  400       4    Screw    Red    14.0  London"
      ]
     },
     "execution_count": 48,
     "metadata": {},
     "output_type": "execute_result"
    }
   ],
   "source": [
    "pd.read_sql(\"\"\"\n",
    "    SELECT * FROM\n",
    "    supplierparts\n",
    "    LEFT JOIN\n",
    "    parts\n",
    "    ON supplierparts.partid = parts.partid\n",
    "\"\"\", db)"
   ]
  },
  {
   "cell_type": "markdown",
   "id": "0929c91f",
   "metadata": {
    "slideshow": {
     "slide_type": "subslide"
    }
   },
   "source": [
    "SQLite supports two kinds of joins:\n",
    "* Left join (`LEFT JOIN`): Keep all rows from the left table, merging rows from the right.\n",
    "* Inner join (`INNER JOIN`): Keep only rows where there is a match.\n",
    "\n",
    "Other DBMSes sometimes support two more kinds of joins:\n",
    "* Right join: Keep all rows from the right table, merging rows from the left.\n",
    "* Full join: Keep all rows from both tables, merging where there are matches."
   ]
  },
  {
   "cell_type": "code",
   "execution_count": 49,
   "id": "902939f4",
   "metadata": {
    "scrolled": true,
    "slideshow": {
     "slide_type": "subslide"
    }
   },
   "outputs": [
    {
     "data": {
      "text/html": [
       "<div>\n",
       "<style scoped>\n",
       "    .dataframe tbody tr th:only-of-type {\n",
       "        vertical-align: middle;\n",
       "    }\n",
       "\n",
       "    .dataframe tbody tr th {\n",
       "        vertical-align: top;\n",
       "    }\n",
       "\n",
       "    .dataframe thead th {\n",
       "        text-align: right;\n",
       "    }\n",
       "</style>\n",
       "<table border=\"1\" class=\"dataframe\">\n",
       "  <thead>\n",
       "    <tr style=\"text-align: right;\">\n",
       "      <th></th>\n",
       "      <th>PartID</th>\n",
       "      <th>SupplierID</th>\n",
       "      <th>Qty</th>\n",
       "    </tr>\n",
       "  </thead>\n",
       "  <tbody>\n",
       "    <tr>\n",
       "      <th>0</th>\n",
       "      <td>1</td>\n",
       "      <td>1</td>\n",
       "      <td>300</td>\n",
       "    </tr>\n",
       "    <tr>\n",
       "      <th>1</th>\n",
       "      <td>1</td>\n",
       "      <td>2</td>\n",
       "      <td>200</td>\n",
       "    </tr>\n",
       "    <tr>\n",
       "      <th>2</th>\n",
       "      <td>1</td>\n",
       "      <td>3</td>\n",
       "      <td>400</td>\n",
       "    </tr>\n",
       "    <tr>\n",
       "      <th>3</th>\n",
       "      <td>1</td>\n",
       "      <td>4</td>\n",
       "      <td>200</td>\n",
       "    </tr>\n",
       "    <tr>\n",
       "      <th>4</th>\n",
       "      <td>1</td>\n",
       "      <td>5</td>\n",
       "      <td>100</td>\n",
       "    </tr>\n",
       "    <tr>\n",
       "      <th>5</th>\n",
       "      <td>1</td>\n",
       "      <td>6</td>\n",
       "      <td>100</td>\n",
       "    </tr>\n",
       "    <tr>\n",
       "      <th>6</th>\n",
       "      <td>2</td>\n",
       "      <td>1</td>\n",
       "      <td>300</td>\n",
       "    </tr>\n",
       "    <tr>\n",
       "      <th>7</th>\n",
       "      <td>2</td>\n",
       "      <td>2</td>\n",
       "      <td>400</td>\n",
       "    </tr>\n",
       "    <tr>\n",
       "      <th>8</th>\n",
       "      <td>3</td>\n",
       "      <td>2</td>\n",
       "      <td>200</td>\n",
       "    </tr>\n",
       "    <tr>\n",
       "      <th>9</th>\n",
       "      <td>4</td>\n",
       "      <td>2</td>\n",
       "      <td>200</td>\n",
       "    </tr>\n",
       "    <tr>\n",
       "      <th>10</th>\n",
       "      <td>4</td>\n",
       "      <td>4</td>\n",
       "      <td>300</td>\n",
       "    </tr>\n",
       "    <tr>\n",
       "      <th>11</th>\n",
       "      <td>4</td>\n",
       "      <td>5</td>\n",
       "      <td>400</td>\n",
       "    </tr>\n",
       "  </tbody>\n",
       "</table>\n",
       "</div>"
      ],
      "text/plain": [
       "    PartID  SupplierID  Qty\n",
       "0        1           1  300\n",
       "1        1           2  200\n",
       "2        1           3  400\n",
       "3        1           4  200\n",
       "4        1           5  100\n",
       "5        1           6  100\n",
       "6        2           1  300\n",
       "7        2           2  400\n",
       "8        3           2  200\n",
       "9        4           2  200\n",
       "10       4           4  300\n",
       "11       4           5  400"
      ]
     },
     "execution_count": 49,
     "metadata": {},
     "output_type": "execute_result"
    }
   ],
   "source": [
    "pd.read_sql(\"SELECT * FROM supplierparts\", db)"
   ]
  },
  {
   "cell_type": "code",
   "execution_count": 50,
   "id": "16505230",
   "metadata": {
    "scrolled": true,
    "slideshow": {
     "slide_type": "subslide"
    }
   },
   "outputs": [
    {
     "data": {
      "text/html": [
       "<div>\n",
       "<style scoped>\n",
       "    .dataframe tbody tr th:only-of-type {\n",
       "        vertical-align: middle;\n",
       "    }\n",
       "\n",
       "    .dataframe tbody tr th {\n",
       "        vertical-align: top;\n",
       "    }\n",
       "\n",
       "    .dataframe thead th {\n",
       "        text-align: right;\n",
       "    }\n",
       "</style>\n",
       "<table border=\"1\" class=\"dataframe\">\n",
       "  <thead>\n",
       "    <tr style=\"text-align: right;\">\n",
       "      <th></th>\n",
       "      <th>PartID</th>\n",
       "      <th>SupplierID</th>\n",
       "      <th>Qty</th>\n",
       "      <th>SupplierID</th>\n",
       "      <th>SupplierName</th>\n",
       "      <th>Status</th>\n",
       "      <th>City</th>\n",
       "    </tr>\n",
       "  </thead>\n",
       "  <tbody>\n",
       "    <tr>\n",
       "      <th>0</th>\n",
       "      <td>1</td>\n",
       "      <td>1</td>\n",
       "      <td>300</td>\n",
       "      <td>1.0</td>\n",
       "      <td>Smith</td>\n",
       "      <td>20.0</td>\n",
       "      <td>London</td>\n",
       "    </tr>\n",
       "    <tr>\n",
       "      <th>1</th>\n",
       "      <td>1</td>\n",
       "      <td>2</td>\n",
       "      <td>200</td>\n",
       "      <td>2.0</td>\n",
       "      <td>Jones</td>\n",
       "      <td>10.0</td>\n",
       "      <td>Paris</td>\n",
       "    </tr>\n",
       "    <tr>\n",
       "      <th>2</th>\n",
       "      <td>1</td>\n",
       "      <td>3</td>\n",
       "      <td>400</td>\n",
       "      <td>3.0</td>\n",
       "      <td>Blake</td>\n",
       "      <td>30.0</td>\n",
       "      <td>Paris</td>\n",
       "    </tr>\n",
       "    <tr>\n",
       "      <th>3</th>\n",
       "      <td>1</td>\n",
       "      <td>4</td>\n",
       "      <td>200</td>\n",
       "      <td>4.0</td>\n",
       "      <td>Clark</td>\n",
       "      <td>20.0</td>\n",
       "      <td>London</td>\n",
       "    </tr>\n",
       "    <tr>\n",
       "      <th>4</th>\n",
       "      <td>1</td>\n",
       "      <td>5</td>\n",
       "      <td>100</td>\n",
       "      <td>5.0</td>\n",
       "      <td>Adams</td>\n",
       "      <td>30.0</td>\n",
       "      <td>Athens</td>\n",
       "    </tr>\n",
       "    <tr>\n",
       "      <th>5</th>\n",
       "      <td>1</td>\n",
       "      <td>6</td>\n",
       "      <td>100</td>\n",
       "      <td>NaN</td>\n",
       "      <td>None</td>\n",
       "      <td>NaN</td>\n",
       "      <td>None</td>\n",
       "    </tr>\n",
       "    <tr>\n",
       "      <th>6</th>\n",
       "      <td>2</td>\n",
       "      <td>1</td>\n",
       "      <td>300</td>\n",
       "      <td>1.0</td>\n",
       "      <td>Smith</td>\n",
       "      <td>20.0</td>\n",
       "      <td>London</td>\n",
       "    </tr>\n",
       "    <tr>\n",
       "      <th>7</th>\n",
       "      <td>2</td>\n",
       "      <td>2</td>\n",
       "      <td>400</td>\n",
       "      <td>2.0</td>\n",
       "      <td>Jones</td>\n",
       "      <td>10.0</td>\n",
       "      <td>Paris</td>\n",
       "    </tr>\n",
       "    <tr>\n",
       "      <th>8</th>\n",
       "      <td>3</td>\n",
       "      <td>2</td>\n",
       "      <td>200</td>\n",
       "      <td>2.0</td>\n",
       "      <td>Jones</td>\n",
       "      <td>10.0</td>\n",
       "      <td>Paris</td>\n",
       "    </tr>\n",
       "    <tr>\n",
       "      <th>9</th>\n",
       "      <td>4</td>\n",
       "      <td>2</td>\n",
       "      <td>200</td>\n",
       "      <td>2.0</td>\n",
       "      <td>Jones</td>\n",
       "      <td>10.0</td>\n",
       "      <td>Paris</td>\n",
       "    </tr>\n",
       "    <tr>\n",
       "      <th>10</th>\n",
       "      <td>4</td>\n",
       "      <td>4</td>\n",
       "      <td>300</td>\n",
       "      <td>4.0</td>\n",
       "      <td>Clark</td>\n",
       "      <td>20.0</td>\n",
       "      <td>London</td>\n",
       "    </tr>\n",
       "    <tr>\n",
       "      <th>11</th>\n",
       "      <td>4</td>\n",
       "      <td>5</td>\n",
       "      <td>400</td>\n",
       "      <td>5.0</td>\n",
       "      <td>Adams</td>\n",
       "      <td>30.0</td>\n",
       "      <td>Athens</td>\n",
       "    </tr>\n",
       "  </tbody>\n",
       "</table>\n",
       "</div>"
      ],
      "text/plain": [
       "    PartID  SupplierID  Qty  SupplierID SupplierName  Status    City\n",
       "0        1           1  300         1.0        Smith    20.0  London\n",
       "1        1           2  200         2.0        Jones    10.0   Paris\n",
       "2        1           3  400         3.0        Blake    30.0   Paris\n",
       "3        1           4  200         4.0        Clark    20.0  London\n",
       "4        1           5  100         5.0        Adams    30.0  Athens\n",
       "5        1           6  100         NaN         None     NaN    None\n",
       "6        2           1  300         1.0        Smith    20.0  London\n",
       "7        2           2  400         2.0        Jones    10.0   Paris\n",
       "8        3           2  200         2.0        Jones    10.0   Paris\n",
       "9        4           2  200         2.0        Jones    10.0   Paris\n",
       "10       4           4  300         4.0        Clark    20.0  London\n",
       "11       4           5  400         5.0        Adams    30.0  Athens"
      ]
     },
     "execution_count": 50,
     "metadata": {},
     "output_type": "execute_result"
    }
   ],
   "source": [
    "pd.read_sql(\"\"\"\n",
    "    SELECT * FROM\n",
    "    supplierparts AS l\n",
    "    LEFT JOIN\n",
    "    suppliers AS r\n",
    "    ON l.supplierid = r.supplierid;\n",
    "\"\"\", db)"
   ]
  },
  {
   "cell_type": "code",
   "execution_count": 51,
   "id": "2fe2aa8b",
   "metadata": {
    "scrolled": true,
    "slideshow": {
     "slide_type": "subslide"
    }
   },
   "outputs": [
    {
     "data": {
      "text/html": [
       "<div>\n",
       "<style scoped>\n",
       "    .dataframe tbody tr th:only-of-type {\n",
       "        vertical-align: middle;\n",
       "    }\n",
       "\n",
       "    .dataframe tbody tr th {\n",
       "        vertical-align: top;\n",
       "    }\n",
       "\n",
       "    .dataframe thead th {\n",
       "        text-align: right;\n",
       "    }\n",
       "</style>\n",
       "<table border=\"1\" class=\"dataframe\">\n",
       "  <thead>\n",
       "    <tr style=\"text-align: right;\">\n",
       "      <th></th>\n",
       "      <th>Qty</th>\n",
       "      <th>SupplierID</th>\n",
       "      <th>SupplierName</th>\n",
       "      <th>Status</th>\n",
       "      <th>City</th>\n",
       "    </tr>\n",
       "  </thead>\n",
       "  <tbody>\n",
       "    <tr>\n",
       "      <th>0</th>\n",
       "      <td>300</td>\n",
       "      <td>1.0</td>\n",
       "      <td>Smith</td>\n",
       "      <td>20.0</td>\n",
       "      <td>London</td>\n",
       "    </tr>\n",
       "    <tr>\n",
       "      <th>1</th>\n",
       "      <td>200</td>\n",
       "      <td>2.0</td>\n",
       "      <td>Jones</td>\n",
       "      <td>10.0</td>\n",
       "      <td>Paris</td>\n",
       "    </tr>\n",
       "    <tr>\n",
       "      <th>2</th>\n",
       "      <td>400</td>\n",
       "      <td>3.0</td>\n",
       "      <td>Blake</td>\n",
       "      <td>30.0</td>\n",
       "      <td>Paris</td>\n",
       "    </tr>\n",
       "    <tr>\n",
       "      <th>3</th>\n",
       "      <td>200</td>\n",
       "      <td>4.0</td>\n",
       "      <td>Clark</td>\n",
       "      <td>20.0</td>\n",
       "      <td>London</td>\n",
       "    </tr>\n",
       "    <tr>\n",
       "      <th>4</th>\n",
       "      <td>100</td>\n",
       "      <td>5.0</td>\n",
       "      <td>Adams</td>\n",
       "      <td>30.0</td>\n",
       "      <td>Athens</td>\n",
       "    </tr>\n",
       "    <tr>\n",
       "      <th>5</th>\n",
       "      <td>100</td>\n",
       "      <td>NaN</td>\n",
       "      <td>None</td>\n",
       "      <td>NaN</td>\n",
       "      <td>None</td>\n",
       "    </tr>\n",
       "    <tr>\n",
       "      <th>6</th>\n",
       "      <td>300</td>\n",
       "      <td>1.0</td>\n",
       "      <td>Smith</td>\n",
       "      <td>20.0</td>\n",
       "      <td>London</td>\n",
       "    </tr>\n",
       "    <tr>\n",
       "      <th>7</th>\n",
       "      <td>400</td>\n",
       "      <td>2.0</td>\n",
       "      <td>Jones</td>\n",
       "      <td>10.0</td>\n",
       "      <td>Paris</td>\n",
       "    </tr>\n",
       "    <tr>\n",
       "      <th>8</th>\n",
       "      <td>200</td>\n",
       "      <td>2.0</td>\n",
       "      <td>Jones</td>\n",
       "      <td>10.0</td>\n",
       "      <td>Paris</td>\n",
       "    </tr>\n",
       "    <tr>\n",
       "      <th>9</th>\n",
       "      <td>200</td>\n",
       "      <td>2.0</td>\n",
       "      <td>Jones</td>\n",
       "      <td>10.0</td>\n",
       "      <td>Paris</td>\n",
       "    </tr>\n",
       "    <tr>\n",
       "      <th>10</th>\n",
       "      <td>300</td>\n",
       "      <td>4.0</td>\n",
       "      <td>Clark</td>\n",
       "      <td>20.0</td>\n",
       "      <td>London</td>\n",
       "    </tr>\n",
       "    <tr>\n",
       "      <th>11</th>\n",
       "      <td>400</td>\n",
       "      <td>5.0</td>\n",
       "      <td>Adams</td>\n",
       "      <td>30.0</td>\n",
       "      <td>Athens</td>\n",
       "    </tr>\n",
       "  </tbody>\n",
       "</table>\n",
       "</div>"
      ],
      "text/plain": [
       "    Qty  SupplierID SupplierName  Status    City\n",
       "0   300         1.0        Smith    20.0  London\n",
       "1   200         2.0        Jones    10.0   Paris\n",
       "2   400         3.0        Blake    30.0   Paris\n",
       "3   200         4.0        Clark    20.0  London\n",
       "4   100         5.0        Adams    30.0  Athens\n",
       "5   100         NaN         None     NaN    None\n",
       "6   300         1.0        Smith    20.0  London\n",
       "7   400         2.0        Jones    10.0   Paris\n",
       "8   200         2.0        Jones    10.0   Paris\n",
       "9   200         2.0        Jones    10.0   Paris\n",
       "10  300         4.0        Clark    20.0  London\n",
       "11  400         5.0        Adams    30.0  Athens"
      ]
     },
     "execution_count": 51,
     "metadata": {},
     "output_type": "execute_result"
    }
   ],
   "source": [
    "pd.read_sql(\"\"\"\n",
    "    SELECT l.qty, r.* FROM\n",
    "    supplierparts AS l\n",
    "    LEFT JOIN\n",
    "    suppliers AS r\n",
    "    ON l.supplierid = r.supplierid;\n",
    "\"\"\", db)"
   ]
  },
  {
   "cell_type": "markdown",
   "id": "e7d89981",
   "metadata": {
    "slideshow": {
     "slide_type": "subslide"
    }
   },
   "source": [
    "### Subqueries\n",
    "\n",
    "You can write one or more `SELECT` queries within another:"
   ]
  },
  {
   "cell_type": "code",
   "execution_count": 52,
   "id": "f5a776ae",
   "metadata": {
    "scrolled": true
   },
   "outputs": [
    {
     "data": {
      "text/html": [
       "<div>\n",
       "<style scoped>\n",
       "    .dataframe tbody tr th:only-of-type {\n",
       "        vertical-align: middle;\n",
       "    }\n",
       "\n",
       "    .dataframe tbody tr th {\n",
       "        vertical-align: top;\n",
       "    }\n",
       "\n",
       "    .dataframe thead th {\n",
       "        text-align: right;\n",
       "    }\n",
       "</style>\n",
       "<table border=\"1\" class=\"dataframe\">\n",
       "  <thead>\n",
       "    <tr style=\"text-align: right;\">\n",
       "      <th></th>\n",
       "      <th>PartID</th>\n",
       "      <th>PartName</th>\n",
       "      <th>Color</th>\n",
       "      <th>Weight</th>\n",
       "      <th>City</th>\n",
       "      <th>supplierid</th>\n",
       "      <th>qty</th>\n",
       "      <th>SupplierID</th>\n",
       "      <th>SupplierName</th>\n",
       "      <th>Status</th>\n",
       "      <th>City</th>\n",
       "    </tr>\n",
       "  </thead>\n",
       "  <tbody>\n",
       "    <tr>\n",
       "      <th>0</th>\n",
       "      <td>1</td>\n",
       "      <td>Nut</td>\n",
       "      <td>Red</td>\n",
       "      <td>12.0</td>\n",
       "      <td>London</td>\n",
       "      <td>1</td>\n",
       "      <td>300</td>\n",
       "      <td>1</td>\n",
       "      <td>Smith</td>\n",
       "      <td>20</td>\n",
       "      <td>London</td>\n",
       "    </tr>\n",
       "    <tr>\n",
       "      <th>1</th>\n",
       "      <td>1</td>\n",
       "      <td>Nut</td>\n",
       "      <td>Red</td>\n",
       "      <td>12.0</td>\n",
       "      <td>London</td>\n",
       "      <td>3</td>\n",
       "      <td>400</td>\n",
       "      <td>3</td>\n",
       "      <td>Blake</td>\n",
       "      <td>30</td>\n",
       "      <td>Paris</td>\n",
       "    </tr>\n",
       "    <tr>\n",
       "      <th>2</th>\n",
       "      <td>1</td>\n",
       "      <td>Nut</td>\n",
       "      <td>Red</td>\n",
       "      <td>12.0</td>\n",
       "      <td>London</td>\n",
       "      <td>4</td>\n",
       "      <td>200</td>\n",
       "      <td>4</td>\n",
       "      <td>Clark</td>\n",
       "      <td>20</td>\n",
       "      <td>London</td>\n",
       "    </tr>\n",
       "    <tr>\n",
       "      <th>3</th>\n",
       "      <td>1</td>\n",
       "      <td>Nut</td>\n",
       "      <td>Red</td>\n",
       "      <td>12.0</td>\n",
       "      <td>London</td>\n",
       "      <td>5</td>\n",
       "      <td>100</td>\n",
       "      <td>5</td>\n",
       "      <td>Adams</td>\n",
       "      <td>30</td>\n",
       "      <td>Athens</td>\n",
       "    </tr>\n",
       "    <tr>\n",
       "      <th>4</th>\n",
       "      <td>2</td>\n",
       "      <td>Bolt</td>\n",
       "      <td>Green</td>\n",
       "      <td>17.0</td>\n",
       "      <td>Paris</td>\n",
       "      <td>1</td>\n",
       "      <td>300</td>\n",
       "      <td>1</td>\n",
       "      <td>Smith</td>\n",
       "      <td>20</td>\n",
       "      <td>London</td>\n",
       "    </tr>\n",
       "    <tr>\n",
       "      <th>5</th>\n",
       "      <td>4</td>\n",
       "      <td>Screw</td>\n",
       "      <td>Red</td>\n",
       "      <td>14.0</td>\n",
       "      <td>London</td>\n",
       "      <td>4</td>\n",
       "      <td>300</td>\n",
       "      <td>4</td>\n",
       "      <td>Clark</td>\n",
       "      <td>20</td>\n",
       "      <td>London</td>\n",
       "    </tr>\n",
       "    <tr>\n",
       "      <th>6</th>\n",
       "      <td>4</td>\n",
       "      <td>Screw</td>\n",
       "      <td>Red</td>\n",
       "      <td>14.0</td>\n",
       "      <td>London</td>\n",
       "      <td>5</td>\n",
       "      <td>400</td>\n",
       "      <td>5</td>\n",
       "      <td>Adams</td>\n",
       "      <td>30</td>\n",
       "      <td>Athens</td>\n",
       "    </tr>\n",
       "  </tbody>\n",
       "</table>\n",
       "</div>"
      ],
      "text/plain": [
       "   PartID PartName  Color  Weight    City  supplierid  qty  SupplierID  \\\n",
       "0       1      Nut    Red    12.0  London           1  300           1   \n",
       "1       1      Nut    Red    12.0  London           3  400           3   \n",
       "2       1      Nut    Red    12.0  London           4  200           4   \n",
       "3       1      Nut    Red    12.0  London           5  100           5   \n",
       "4       2     Bolt  Green    17.0   Paris           1  300           1   \n",
       "5       4    Screw    Red    14.0  London           4  300           4   \n",
       "6       4    Screw    Red    14.0  London           5  400           5   \n",
       "\n",
       "  SupplierName  Status    City  \n",
       "0        Smith      20  London  \n",
       "1        Blake      30   Paris  \n",
       "2        Clark      20  London  \n",
       "3        Adams      30  Athens  \n",
       "4        Smith      20  London  \n",
       "5        Clark      20  London  \n",
       "6        Adams      30  Athens  "
      ]
     },
     "execution_count": 52,
     "metadata": {},
     "output_type": "execute_result"
    }
   ],
   "source": [
    "pd.read_sql(\"\"\"\n",
    "    SELECT * FROM\n",
    "        (SELECT l.*, r.supplierid, r.qty FROM\n",
    "        parts AS l\n",
    "        INNER JOIN\n",
    "        supplierparts AS r\n",
    "        ON l.partid = r.partid) AS a\n",
    "    INNER JOIN\n",
    "        (SELECT * FROM suppliers\n",
    "        WHERE status > 10) AS b\n",
    "    ON a.supplierid = b.supplierid;\n",
    "\"\"\", db)"
   ]
  },
  {
   "cell_type": "markdown",
   "id": "d4db5dd3",
   "metadata": {
    "slideshow": {
     "slide_type": "slide"
    }
   },
   "source": [
    "You can paste strings into SQL queries, but make sure the string you paste in isn't compromised (e.g., user input)"
   ]
  },
  {
   "cell_type": "markdown",
   "id": "78959c57",
   "metadata": {
    "slideshow": {
     "slide_type": "-"
    }
   },
   "source": [
    "![Drag Racing](https://imgs.xkcd.com/comics/exploits_of_a_mom_2x.png)"
   ]
  },
  {
   "cell_type": "code",
   "execution_count": 53,
   "id": "26d9970d",
   "metadata": {
    "scrolled": true,
    "slideshow": {
     "slide_type": "subslide"
    }
   },
   "outputs": [
    {
     "data": {
      "text/plain": [
       "15.166666666666666"
      ]
     },
     "execution_count": 53,
     "metadata": {},
     "output_type": "execute_result"
    }
   ],
   "source": [
    "val = pd.read_sql(\"SELECT AVG(weight) FROM parts\", db).iloc[0, 0]\n",
    "val"
   ]
  },
  {
   "cell_type": "code",
   "execution_count": 56,
   "id": "3f400808",
   "metadata": {
    "scrolled": true,
    "slideshow": {
     "slide_type": "-"
    }
   },
   "outputs": [
    {
     "data": {
      "text/plain": [
       "'SELECT * FROM parts WHERE weight > 15.166666666666666'"
      ]
     },
     "execution_count": 56,
     "metadata": {},
     "output_type": "execute_result"
    }
   ],
   "source": [
    "query = \"SELECT * FROM parts WHERE weight > \" + format(val) #+ \"; NEW QUERY\"\n",
    "query"
   ]
  },
  {
   "cell_type": "code",
   "execution_count": 57,
   "id": "fedabe47",
   "metadata": {
    "scrolled": true
   },
   "outputs": [
    {
     "data": {
      "text/html": [
       "<div>\n",
       "<style scoped>\n",
       "    .dataframe tbody tr th:only-of-type {\n",
       "        vertical-align: middle;\n",
       "    }\n",
       "\n",
       "    .dataframe tbody tr th {\n",
       "        vertical-align: top;\n",
       "    }\n",
       "\n",
       "    .dataframe thead th {\n",
       "        text-align: right;\n",
       "    }\n",
       "</style>\n",
       "<table border=\"1\" class=\"dataframe\">\n",
       "  <thead>\n",
       "    <tr style=\"text-align: right;\">\n",
       "      <th></th>\n",
       "      <th>PartID</th>\n",
       "      <th>PartName</th>\n",
       "      <th>Color</th>\n",
       "      <th>Weight</th>\n",
       "      <th>City</th>\n",
       "    </tr>\n",
       "  </thead>\n",
       "  <tbody>\n",
       "    <tr>\n",
       "      <th>0</th>\n",
       "      <td>2</td>\n",
       "      <td>Bolt</td>\n",
       "      <td>Green</td>\n",
       "      <td>17.0</td>\n",
       "      <td>Paris</td>\n",
       "    </tr>\n",
       "    <tr>\n",
       "      <th>1</th>\n",
       "      <td>3</td>\n",
       "      <td>Screw</td>\n",
       "      <td>Blue</td>\n",
       "      <td>17.0</td>\n",
       "      <td>Oslo</td>\n",
       "    </tr>\n",
       "    <tr>\n",
       "      <th>2</th>\n",
       "      <td>6</td>\n",
       "      <td>Cog</td>\n",
       "      <td>Red</td>\n",
       "      <td>19.0</td>\n",
       "      <td>London</td>\n",
       "    </tr>\n",
       "  </tbody>\n",
       "</table>\n",
       "</div>"
      ],
      "text/plain": [
       "   PartID PartName  Color  Weight    City\n",
       "0       2     Bolt  Green    17.0   Paris\n",
       "1       3    Screw   Blue    17.0    Oslo\n",
       "2       6      Cog    Red    19.0  London"
      ]
     },
     "execution_count": 57,
     "metadata": {},
     "output_type": "execute_result"
    }
   ],
   "source": [
    "pd.read_sql(query, db)"
   ]
  },
  {
   "cell_type": "markdown",
   "id": "dda0413c",
   "metadata": {
    "slideshow": {
     "slide_type": "slide"
    }
   },
   "source": [
    "### Database Operations: CRUD\n",
    "\n",
    "So far we've only learned 1/4 of the basic operations most databases support. They are:\n",
    "\n",
    "* Create (`CREATE`): Create a new table.\n",
    "* Read (`SELECT`): Read some rows from a table.\n",
    "* Update (`UPDATE`): Update rows in a table.\n",
    "* Delete (`DROP`): Delete a table.\n",
    "\n",
    "For data analysis, you'll usually only need to read data.\n",
    "\n",
    "Once in a while, it can be useful to create tables to store complicated results. We have to go back to __sqlite3__ to run SQL commands other than `SELECT`."
   ]
  },
  {
   "cell_type": "code",
   "execution_count": 59,
   "id": "39b967ba",
   "metadata": {
    "scrolled": true,
    "slideshow": {
     "slide_type": "subslide"
    }
   },
   "outputs": [
    {
     "ename": "OperationalError",
     "evalue": "table table2 already exists",
     "output_type": "error",
     "traceback": [
      "\u001b[0;31m---------------------------------------------------------------------------\u001b[0m",
      "\u001b[0;31mOperationalError\u001b[0m                          Traceback (most recent call last)",
      "\u001b[0;32m/var/folders/fh/hvkm2z9n7631q5058px_kqg80000gr/T/ipykernel_53562/3652221253.py\u001b[0m in \u001b[0;36m<module>\u001b[0;34m\u001b[0m\n\u001b[0;32m----> 1\u001b[0;31m result = db.execute(\"\"\"\n\u001b[0m\u001b[1;32m      2\u001b[0m     \u001b[0mCREATE\u001b[0m \u001b[0mTABLE\u001b[0m \u001b[0mtable2\u001b[0m \u001b[0mAS\u001b[0m\u001b[0;34m\u001b[0m\u001b[0;34m\u001b[0m\u001b[0m\n\u001b[1;32m      3\u001b[0m         \u001b[0mSELECT\u001b[0m \u001b[0ml\u001b[0m\u001b[0;34m.\u001b[0m\u001b[0;34m*\u001b[0m\u001b[0;34m,\u001b[0m \u001b[0mr\u001b[0m\u001b[0;34m.\u001b[0m\u001b[0mqty\u001b[0m\u001b[0;34m,\u001b[0m \u001b[0mr\u001b[0m\u001b[0;34m.\u001b[0m\u001b[0msupplierid\u001b[0m \u001b[0mFROM\u001b[0m\u001b[0;34m\u001b[0m\u001b[0;34m\u001b[0m\u001b[0m\n\u001b[1;32m      4\u001b[0m             \u001b[0mparts\u001b[0m \u001b[0mAS\u001b[0m \u001b[0ml\u001b[0m\u001b[0;34m\u001b[0m\u001b[0;34m\u001b[0m\u001b[0m\n\u001b[1;32m      5\u001b[0m         \u001b[0mINNER\u001b[0m \u001b[0mJOIN\u001b[0m\u001b[0;34m\u001b[0m\u001b[0;34m\u001b[0m\u001b[0m\n",
      "\u001b[0;31mOperationalError\u001b[0m: table table2 already exists"
     ]
    }
   ],
   "source": [
    "result = db.execute(\"\"\"\n",
    "    CREATE TABLE table2 AS\n",
    "        SELECT l.*, r.qty, r.supplierid FROM\n",
    "            parts AS l\n",
    "        INNER JOIN\n",
    "            supplierparts AS r\n",
    "        ON l.partid = r.partid\n",
    "\"\"\")\n",
    "\n",
    "# Force the database to run (\"commit\") the query.\n",
    "# Otherwise the database evaluates queries lazily, so the table will not show up.\n",
    "db.commit()"
   ]
  },
  {
   "cell_type": "code",
   "execution_count": 60,
   "id": "883dbc25",
   "metadata": {
    "scrolled": true,
    "slideshow": {
     "slide_type": "subslide"
    }
   },
   "outputs": [
    {
     "data": {
      "text/html": [
       "<div>\n",
       "<style scoped>\n",
       "    .dataframe tbody tr th:only-of-type {\n",
       "        vertical-align: middle;\n",
       "    }\n",
       "\n",
       "    .dataframe tbody tr th {\n",
       "        vertical-align: top;\n",
       "    }\n",
       "\n",
       "    .dataframe thead th {\n",
       "        text-align: right;\n",
       "    }\n",
       "</style>\n",
       "<table border=\"1\" class=\"dataframe\">\n",
       "  <thead>\n",
       "    <tr style=\"text-align: right;\">\n",
       "      <th></th>\n",
       "      <th>PartID</th>\n",
       "      <th>PartName</th>\n",
       "      <th>Color</th>\n",
       "      <th>Weight</th>\n",
       "      <th>City</th>\n",
       "      <th>Qty</th>\n",
       "      <th>SupplierID</th>\n",
       "    </tr>\n",
       "  </thead>\n",
       "  <tbody>\n",
       "    <tr>\n",
       "      <th>0</th>\n",
       "      <td>1</td>\n",
       "      <td>Nut</td>\n",
       "      <td>Red</td>\n",
       "      <td>12.0</td>\n",
       "      <td>London</td>\n",
       "      <td>300</td>\n",
       "      <td>1</td>\n",
       "    </tr>\n",
       "    <tr>\n",
       "      <th>1</th>\n",
       "      <td>1</td>\n",
       "      <td>Nut</td>\n",
       "      <td>Red</td>\n",
       "      <td>12.0</td>\n",
       "      <td>London</td>\n",
       "      <td>200</td>\n",
       "      <td>2</td>\n",
       "    </tr>\n",
       "    <tr>\n",
       "      <th>2</th>\n",
       "      <td>1</td>\n",
       "      <td>Nut</td>\n",
       "      <td>Red</td>\n",
       "      <td>12.0</td>\n",
       "      <td>London</td>\n",
       "      <td>400</td>\n",
       "      <td>3</td>\n",
       "    </tr>\n",
       "    <tr>\n",
       "      <th>3</th>\n",
       "      <td>1</td>\n",
       "      <td>Nut</td>\n",
       "      <td>Red</td>\n",
       "      <td>12.0</td>\n",
       "      <td>London</td>\n",
       "      <td>200</td>\n",
       "      <td>4</td>\n",
       "    </tr>\n",
       "    <tr>\n",
       "      <th>4</th>\n",
       "      <td>1</td>\n",
       "      <td>Nut</td>\n",
       "      <td>Red</td>\n",
       "      <td>12.0</td>\n",
       "      <td>London</td>\n",
       "      <td>100</td>\n",
       "      <td>5</td>\n",
       "    </tr>\n",
       "    <tr>\n",
       "      <th>5</th>\n",
       "      <td>1</td>\n",
       "      <td>Nut</td>\n",
       "      <td>Red</td>\n",
       "      <td>12.0</td>\n",
       "      <td>London</td>\n",
       "      <td>100</td>\n",
       "      <td>6</td>\n",
       "    </tr>\n",
       "    <tr>\n",
       "      <th>6</th>\n",
       "      <td>2</td>\n",
       "      <td>Bolt</td>\n",
       "      <td>Green</td>\n",
       "      <td>17.0</td>\n",
       "      <td>Paris</td>\n",
       "      <td>300</td>\n",
       "      <td>1</td>\n",
       "    </tr>\n",
       "    <tr>\n",
       "      <th>7</th>\n",
       "      <td>2</td>\n",
       "      <td>Bolt</td>\n",
       "      <td>Green</td>\n",
       "      <td>17.0</td>\n",
       "      <td>Paris</td>\n",
       "      <td>400</td>\n",
       "      <td>2</td>\n",
       "    </tr>\n",
       "    <tr>\n",
       "      <th>8</th>\n",
       "      <td>3</td>\n",
       "      <td>Screw</td>\n",
       "      <td>Blue</td>\n",
       "      <td>17.0</td>\n",
       "      <td>Oslo</td>\n",
       "      <td>200</td>\n",
       "      <td>2</td>\n",
       "    </tr>\n",
       "    <tr>\n",
       "      <th>9</th>\n",
       "      <td>4</td>\n",
       "      <td>Screw</td>\n",
       "      <td>Red</td>\n",
       "      <td>14.0</td>\n",
       "      <td>London</td>\n",
       "      <td>200</td>\n",
       "      <td>2</td>\n",
       "    </tr>\n",
       "    <tr>\n",
       "      <th>10</th>\n",
       "      <td>4</td>\n",
       "      <td>Screw</td>\n",
       "      <td>Red</td>\n",
       "      <td>14.0</td>\n",
       "      <td>London</td>\n",
       "      <td>300</td>\n",
       "      <td>4</td>\n",
       "    </tr>\n",
       "    <tr>\n",
       "      <th>11</th>\n",
       "      <td>4</td>\n",
       "      <td>Screw</td>\n",
       "      <td>Red</td>\n",
       "      <td>14.0</td>\n",
       "      <td>London</td>\n",
       "      <td>400</td>\n",
       "      <td>5</td>\n",
       "    </tr>\n",
       "  </tbody>\n",
       "</table>\n",
       "</div>"
      ],
      "text/plain": [
       "    PartID PartName  Color  Weight    City  Qty  SupplierID\n",
       "0        1      Nut    Red    12.0  London  300           1\n",
       "1        1      Nut    Red    12.0  London  200           2\n",
       "2        1      Nut    Red    12.0  London  400           3\n",
       "3        1      Nut    Red    12.0  London  200           4\n",
       "4        1      Nut    Red    12.0  London  100           5\n",
       "5        1      Nut    Red    12.0  London  100           6\n",
       "6        2     Bolt  Green    17.0   Paris  300           1\n",
       "7        2     Bolt  Green    17.0   Paris  400           2\n",
       "8        3    Screw   Blue    17.0    Oslo  200           2\n",
       "9        4    Screw    Red    14.0  London  200           2\n",
       "10       4    Screw    Red    14.0  London  300           4\n",
       "11       4    Screw    Red    14.0  London  400           5"
      ]
     },
     "execution_count": 60,
     "metadata": {},
     "output_type": "execute_result"
    }
   ],
   "source": [
    "pd.read_sql(\"SELECT * FROM table2\", db)"
   ]
  },
  {
   "cell_type": "code",
   "execution_count": 61,
   "id": "44877a4c",
   "metadata": {
    "scrolled": true,
    "slideshow": {
     "slide_type": "subslide"
    }
   },
   "outputs": [
    {
     "data": {
      "text/html": [
       "<div>\n",
       "<style scoped>\n",
       "    .dataframe tbody tr th:only-of-type {\n",
       "        vertical-align: middle;\n",
       "    }\n",
       "\n",
       "    .dataframe tbody tr th {\n",
       "        vertical-align: top;\n",
       "    }\n",
       "\n",
       "    .dataframe thead th {\n",
       "        text-align: right;\n",
       "    }\n",
       "</style>\n",
       "<table border=\"1\" class=\"dataframe\">\n",
       "  <thead>\n",
       "    <tr style=\"text-align: right;\">\n",
       "      <th></th>\n",
       "      <th>type</th>\n",
       "      <th>name</th>\n",
       "      <th>tbl_name</th>\n",
       "      <th>rootpage</th>\n",
       "      <th>sql</th>\n",
       "    </tr>\n",
       "  </thead>\n",
       "  <tbody>\n",
       "    <tr>\n",
       "      <th>0</th>\n",
       "      <td>table</td>\n",
       "      <td>Suppliers</td>\n",
       "      <td>Suppliers</td>\n",
       "      <td>2</td>\n",
       "      <td>CREATE TABLE Suppliers (\\n  SupplierID integer...</td>\n",
       "    </tr>\n",
       "    <tr>\n",
       "      <th>1</th>\n",
       "      <td>table</td>\n",
       "      <td>Parts</td>\n",
       "      <td>Parts</td>\n",
       "      <td>3</td>\n",
       "      <td>CREATE TABLE Parts (\\n  PartID integer,\\n  Par...</td>\n",
       "    </tr>\n",
       "    <tr>\n",
       "      <th>2</th>\n",
       "      <td>table</td>\n",
       "      <td>SupplierParts</td>\n",
       "      <td>SupplierParts</td>\n",
       "      <td>4</td>\n",
       "      <td>CREATE TABLE SupplierParts (\\n  PartID integer...</td>\n",
       "    </tr>\n",
       "    <tr>\n",
       "      <th>3</th>\n",
       "      <td>index</td>\n",
       "      <td>sqlite_autoindex_SupplierParts_1</td>\n",
       "      <td>SupplierParts</td>\n",
       "      <td>5</td>\n",
       "      <td>None</td>\n",
       "    </tr>\n",
       "    <tr>\n",
       "      <th>4</th>\n",
       "      <td>table</td>\n",
       "      <td>table2</td>\n",
       "      <td>table2</td>\n",
       "      <td>6</td>\n",
       "      <td>CREATE TABLE table2(\\n  PartID INT,\\n  PartNam...</td>\n",
       "    </tr>\n",
       "  </tbody>\n",
       "</table>\n",
       "</div>"
      ],
      "text/plain": [
       "    type                              name       tbl_name  rootpage  \\\n",
       "0  table                         Suppliers      Suppliers         2   \n",
       "1  table                             Parts          Parts         3   \n",
       "2  table                     SupplierParts  SupplierParts         4   \n",
       "3  index  sqlite_autoindex_SupplierParts_1  SupplierParts         5   \n",
       "4  table                            table2         table2         6   \n",
       "\n",
       "                                                 sql  \n",
       "0  CREATE TABLE Suppliers (\\n  SupplierID integer...  \n",
       "1  CREATE TABLE Parts (\\n  PartID integer,\\n  Par...  \n",
       "2  CREATE TABLE SupplierParts (\\n  PartID integer...  \n",
       "3                                               None  \n",
       "4  CREATE TABLE table2(\\n  PartID INT,\\n  PartNam...  "
      ]
     },
     "execution_count": 61,
     "metadata": {},
     "output_type": "execute_result"
    }
   ],
   "source": [
    "pd.read_sql(\"SELECT * FROM sqlite_master\", db)"
   ]
  },
  {
   "cell_type": "code",
   "execution_count": 62,
   "id": "df42eda2",
   "metadata": {
    "scrolled": true,
    "slideshow": {
     "slide_type": "subslide"
    }
   },
   "outputs": [],
   "source": [
    "db.execute(\"DROP TABLE table2;\")\n",
    "db.commit()"
   ]
  },
  {
   "cell_type": "code",
   "execution_count": 63,
   "id": "580ce4b9",
   "metadata": {
    "scrolled": true
   },
   "outputs": [],
   "source": [
    "db.close()"
   ]
  },
  {
   "cell_type": "markdown",
   "id": "d12aafca",
   "metadata": {
    "slideshow": {
     "slide_type": "slide"
    }
   },
   "source": [
    "## Other Databases\n",
    "\n",
    "You can use the __sqlalchemy__ package to connect to many different kinds of databases (not only SQLite).\n",
    "\n",
    "The `sqlalchemy.create_engine()` function creates an _engine_ to connect to a database. The `.raw_connection()` method on the returned engine opens a connection compatible with Pandas.\n",
    "\n",
    "See the __sqlalchemy__ documentation for more info about [how to write a database URL](https://docs.sqlalchemy.org/en/latest/core/engines.html#database-urls)."
   ]
  },
  {
   "cell_type": "code",
   "execution_count": null,
   "id": "c358c9f9",
   "metadata": {
    "scrolled": true
   },
   "outputs": [],
   "source": [
    "import sqlalchemy\n",
    "\n",
    "engine = sqlalchemy.create_engine(\"sqlite:///../data/suppliers.sqlite\")\n",
    "conn = engine.raw_connection()"
   ]
  },
  {
   "cell_type": "code",
   "execution_count": null,
   "id": "8d8688b1",
   "metadata": {
    "scrolled": true
   },
   "outputs": [],
   "source": [
    "conn"
   ]
  },
  {
   "cell_type": "code",
   "execution_count": null,
   "id": "635b4285",
   "metadata": {
    "scrolled": true,
    "slideshow": {
     "slide_type": "subslide"
    }
   },
   "outputs": [],
   "source": [
    "pd.read_sql(\"SELECT * FROM sqlite_master\", conn)"
   ]
  },
  {
   "cell_type": "code",
   "execution_count": null,
   "id": "2b4f53a5",
   "metadata": {
    "scrolled": true
   },
   "outputs": [],
   "source": [
    "engine.table_names()"
   ]
  },
  {
   "cell_type": "code",
   "execution_count": null,
   "id": "b47cc760",
   "metadata": {
    "scrolled": true
   },
   "outputs": [],
   "source": [
    "conn.close()"
   ]
  },
  {
   "cell_type": "markdown",
   "id": "0888e883",
   "metadata": {
    "slideshow": {
     "slide_type": "subslide"
    }
   },
   "source": [
    "Unlike SQLite, most databases:\n",
    "\n",
    "* Are not stored in a single file.\n",
    "* Have a client-server design, where you connect to the database by logging in with a username and password."
   ]
  }
 ],
 "metadata": {
  "celltoolbar": "Slideshow",
  "kernelspec": {
   "display_name": "Python 3 (ipykernel)",
   "language": "python",
   "name": "python3"
  },
  "language_info": {
   "codemirror_mode": {
    "name": "ipython",
    "version": 3
   },
   "file_extension": ".py",
   "mimetype": "text/x-python",
   "name": "python",
   "nbconvert_exporter": "python",
   "pygments_lexer": "ipython3",
   "version": "3.9.12"
  },
  "vscode": {
   "interpreter": {
    "hash": "b2b12ec50b0a525a62abe739e766b0c808eccd181e3f804cedbbca00f4d5b392"
   }
  }
 },
 "nbformat": 4,
 "nbformat_minor": 5
}
