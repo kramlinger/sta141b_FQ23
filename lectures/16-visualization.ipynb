{
 "cells": [
  {
   "cell_type": "markdown",
   "id": "ff704263",
   "metadata": {
    "slideshow": {
     "slide_type": "slide"
    }
   },
   "source": [
    "# STA 141B Data & Web Technologies for Data Analysis\n",
    "\n",
    "### Lecture 16, 11/28/23, Visualization"
   ]
  },
  {
   "cell_type": "markdown",
   "id": "d720fbd5",
   "metadata": {
    "slideshow": {
     "slide_type": "slide"
    }
   },
   "source": [
    "### Announcements\n",
    "\n",
    " - No lecture on Thursday!\n",
    " - Exam is graded and online, if yours is not shown, please alert me on Piazza! "
   ]
  },
  {
   "cell_type": "markdown",
   "id": "8063508f",
   "metadata": {
    "slideshow": {
     "slide_type": "slide"
    }
   },
   "source": [
    "### Last week's topics\n",
    "\n",
    "- SQL"
   ]
  },
  {
   "cell_type": "markdown",
   "id": "d7c886a9",
   "metadata": {
    "slideshow": {
     "slide_type": "slide"
    }
   },
   "source": [
    "### Today's topics\n",
    "\n",
    " - Plotnine\n",
    " - Matplotlib and Seaborn\n",
    " - Maps\n",
    " \n",
    " ### Data Sets\n",
    "\n",
    " - `dogs_full.csv`\n",
    " - `fluidmilk.xlsx`\n",
    " - `yolo_food.feather`"
   ]
  },
  {
   "cell_type": "markdown",
   "id": "8bc65f9e",
   "metadata": {
    "slideshow": {
     "slide_type": "slide"
    }
   },
   "source": [
    "## Plotnine\n",
    "\n",
    "We will use the plotnine package, an implementation of ggplot2 for Python. Unlike packages we've seen so far, plotnine is not included with Anaconda. To install the package:\n",
    "\n",
    "* On Windows, run `conda install -c conda-forge plotnine` in an Anaconda Prompt (find it in the start menu)\n",
    "* On MacOS or Linux, run `conda install -c conda-forge plotnine` in the Terminal\n",
    "\n",
    "You may have to restart Jupyter after installing. "
   ]
  },
  {
   "cell_type": "code",
   "execution_count": null,
   "id": "7c885e86",
   "metadata": {},
   "outputs": [],
   "source": [
    "import plotnine as p9\n",
    "\n",
    "p9.__version__"
   ]
  },
  {
   "cell_type": "markdown",
   "id": "d66593bd",
   "metadata": {
    "slideshow": {
     "slide_type": "slide"
    }
   },
   "source": [
    "Our focus right now is _static_ visualization, where the visualization is a still image. So what packages should you actually use?\n",
    "\n",
    "* __plotnine__ is convenient if you already know ggplot2. It's relatively new, so there are some bugs and missing features.\n",
    "\n",
    "* __seaborn__ is designed specifically for making statistical plots. It's well-documented and stable. Most of the package's functions expect tidy data as input.\n",
    "\n",
    "* __matplotlib__ is useful to know, since many other packages use matplotlib under the hood. That said, using matplotlib alone to create plots is painful; matplotlib is _low-level_, so it's flexible but simple plots may take [5 lines of code or more][ex]. The matplotlib PyPlot tools may be convenient if you already know MATLAB.\n",
    "\n",
    "* __pandas__ provides built-in plotting functions, which can be convenient but are more limited than the packages above. They're also inconsistent about the expected format of the data.\n",
    "\n",
    "We don't have time to exhaustively cover visualization packages for Python. You're welcome to explore other packages while doing the assignments for this class.\n",
    "\n",
    "Next week, we'll see some of Python's _interactive_ visualization packages.\n",
    "\n",
    "[ex]: https://dsaber.com/2016/10/02/a-dramatic-tour-through-pythons-data-visualization-landscape-including-ggplot-and-altair/"
   ]
  },
  {
   "cell_type": "markdown",
   "id": "b6a2bec6",
   "metadata": {
    "slideshow": {
     "slide_type": "subslide"
    }
   },
   "source": [
    "See the [plotnine documentation](https://plotnine.readthedocs.io/en/latest/)! Also see the [ggplot2 documentation](https://ggplot2.tidyverse.org/reference/) and the [ggplot2 cheatsheet](https://www.maths.usyd.edu.au/u/UG/SM/STAT3022/r/current/Misc/data-visualization-2.1.pdf). If you run into a bug, you may want to check for a work-around on the [plotnine bug tracker](https://github.com/has2k1/plotnine/issues)."
   ]
  },
  {
   "cell_type": "code",
   "execution_count": null,
   "id": "e0b62b31",
   "metadata": {
    "slideshow": {
     "slide_type": "subslide"
    }
   },
   "outputs": [],
   "source": [
    "import numpy as np\n",
    "import pandas as pd\n",
    "\n",
    "milk = pd.read_excel(\"../data/fluidmilk.xlsx\", skiprows = 1)\n",
    "milk.head(4)"
   ]
  },
  {
   "cell_type": "code",
   "execution_count": null,
   "id": "db55a048",
   "metadata": {
    "slideshow": {
     "slide_type": "subslide"
    }
   },
   "outputs": [],
   "source": [
    "milk.columns = milk.columns.str.replace('\\n', '')\n",
    "milk = milk.rename(columns=lambda df: df.strip(' 12'))\n",
    "milk.columns.values[[0,2,3,5,6]] = np.array(['Year', 'Reduced', 'Low', \n",
    "                                             'Flavored Whole', 'Flavored Other'])\n",
    "milk = milk[:-4] # get rid of the last four rows\n",
    "milk = milk.drop(columns = 'Total')\n",
    "\n",
    "milk['Year'] = pd.to_numeric(milk['Year'])\n",
    "\n",
    "milk = milk.set_index(\"Year\") \n",
    "\n",
    "milk1 = milk.stack()\n",
    "milk1 = milk1.reset_index()\n",
    "milk1.columns.values[[False, True, True]] = np.array([\"Kind\", \"Sales\"])"
   ]
  },
  {
   "cell_type": "code",
   "execution_count": null,
   "id": "8556ff87",
   "metadata": {
    "slideshow": {
     "slide_type": "subslide"
    }
   },
   "outputs": [],
   "source": [
    "milk1.head(10)"
   ]
  },
  {
   "cell_type": "code",
   "execution_count": null,
   "id": "2aae50cd",
   "metadata": {
    "slideshow": {
     "slide_type": "subslide"
    }
   },
   "outputs": [],
   "source": [
    "milk2 = milk[['Whole', 'Reduced']]\n",
    "milk2 = milk2.reset_index()\n",
    "milk2.head()"
   ]
  },
  {
   "cell_type": "markdown",
   "id": "2d25813b",
   "metadata": {
    "slideshow": {
     "slide_type": "subslide"
    }
   },
   "source": [
    "The syntax of plotnine closely follows the syntax of R's ggplot2. In R, we would write\n",
    "\n",
    "```r\n",
    "ggplot(milk, aes(x = Year, y = Sales, color = Kind)) + geom_line() \n",
    "```\n",
    "\n",
    "One important difference is that plotnine requires that we quote variable names."
   ]
  },
  {
   "cell_type": "code",
   "execution_count": null,
   "id": "418f4247",
   "metadata": {},
   "outputs": [],
   "source": [
    "(\n",
    "    p9.ggplot(milk1, p9.aes(x = \"Year\", y = \"Sales\", color = \"Kind\")) \n",
    "    + p9.geom_line()\n",
    "    + p9.labs(title = \"US Milk Sales\", y = \"Sales (millions of pounds)\")\n",
    ")"
   ]
  },
  {
   "cell_type": "code",
   "execution_count": null,
   "id": "f298253a",
   "metadata": {
    "slideshow": {
     "slide_type": "subslide"
    }
   },
   "outputs": [],
   "source": [
    "(\n",
    "    p9.ggplot(milk2, p9.aes(x = \"Whole\", y = \"Reduced\"))\n",
    "    + p9.theme_classic() \n",
    "    + p9.geom_path(p9.aes(color = \"Year\", size = \"Whole + Reduced\"), linejoin = 'mitre')\n",
    "    + p9.labs(title = \"Whole per Reduced Milk Sales in US\")\n",
    ")"
   ]
  },
  {
   "cell_type": "markdown",
   "id": "0f847676",
   "metadata": {
    "slideshow": {
     "slide_type": "subslide"
    }
   },
   "source": [
    "`plotnine` includes the familiar `p9.ggsave()` function for saving a visualization to an image file."
   ]
  },
  {
   "cell_type": "markdown",
   "id": "db118f4f",
   "metadata": {
    "slideshow": {
     "slide_type": "slide"
    }
   },
   "source": [
    "## Jupyter and matplotlib\n",
    "\n",
    "Jupyter notebooks can display most static visualizations and some interactive visualizations. If you're going to use visualization packages that depend on matplotlib, it's a good idea to set up your notebook by running:"
   ]
  },
  {
   "cell_type": "code",
   "execution_count": null,
   "id": "38a23b02",
   "metadata": {},
   "outputs": [],
   "source": [
    "# Initialize matplotlib for jupyter: \n",
    "%matplotlib inline \n",
    "\n",
    "import matplotlib.pyplot as plt\n",
    "\n",
    "# Change the size of the plot\n",
    "plt.rcParams[\"figure.figsize\"] = [5, 5]"
   ]
  },
  {
   "cell_type": "markdown",
   "id": "da58531c",
   "metadata": {},
   "source": [
    "Matplot cheat sheet [see here][link1] \n",
    "\n",
    "[link1]:https://s3.amazonaws.com/assets.datacamp.com/blog_assets/Python_Matplotlib_Cheat_Sheet.pdf"
   ]
  },
  {
   "cell_type": "markdown",
   "id": "9de0467c",
   "metadata": {
    "slideshow": {
     "slide_type": "slide"
    }
   },
   "source": [
    "## Plotting the Milk Dataset with seaborn\n",
    "\n",
    "Seaborn is a Python data visualization library based on matplotlib. It provides a high-level interface for drawing attractive and informative statistical graphics.\n",
    "\n",
    "Seaborn library is included as part of the Anaconda distribution.\n",
    "\n",
    "See the [seaborn documentation](https://seaborn.pydata.org/)!"
   ]
  },
  {
   "cell_type": "code",
   "execution_count": null,
   "id": "137f3810",
   "metadata": {},
   "outputs": [],
   "source": [
    "import seaborn as sns\n",
    "\n",
    "sns.__version__"
   ]
  },
  {
   "cell_type": "markdown",
   "id": "a41cd1bd",
   "metadata": {
    "slideshow": {
     "slide_type": "subslide"
    }
   },
   "source": [
    "In seaborn, the __hue__ parameter determines which column in the data frame should be used for colour encoding. "
   ]
  },
  {
   "cell_type": "code",
   "execution_count": null,
   "id": "dc1a85af",
   "metadata": {},
   "outputs": [],
   "source": [
    "ax = sns.lineplot(x = \"Year\", y = \"Sales\", hue = \"Kind\", data = milk1)\n",
    "ax.set_title(\"US Milk Sales\")"
   ]
  },
  {
   "cell_type": "markdown",
   "id": "7d8807c7",
   "metadata": {
    "slideshow": {
     "slide_type": "subslide"
    }
   },
   "source": [
    "If we want to adjust the size and layout, we have to learn more about matplotlib."
   ]
  },
  {
   "cell_type": "markdown",
   "id": "6c268cf3",
   "metadata": {
    "slideshow": {
     "slide_type": "slide"
    }
   },
   "source": [
    "## The Basics of matplotlib\n",
    "\n",
    "See the [matplotlib documentation](https://matplotlib.org/stable/users/index.html)!\n",
    "\n",
    "First, let's change the size of the figures in the notebook. To do that, we need to go back to the code we used to initialize matplotlib, and adjust `rcParams`, matplotlib's default settings."
   ]
  },
  {
   "cell_type": "markdown",
   "id": "49758b72",
   "metadata": {
    "slideshow": {
     "slide_type": "subslide"
    }
   },
   "source": [
    "### Jargon\n",
    "\n",
    "The most important thing to know is matplotlib's jargon:\n",
    "\n",
    "* _Figure_: Container for plots.\n",
    "* _Axes_: Container for components of a plot (\"primitives\"). In other words, an axes is a single plot.\n",
    "* _Axis_: Container for components of an axis. An axis is a single axis.\n",
    "* _Tick_: A container for tick marks on an axis.\n",
    "\n",
    "All of the containers and the primitives are called _Artists_."
   ]
  },
  {
   "cell_type": "markdown",
   "id": "c617bce6",
   "metadata": {
    "slideshow": {
     "slide_type": "subslide"
    }
   },
   "source": [
    "### Saving Figures\n",
    "\n",
    "You can save figures to an image file with the `.savefig()` method.\n",
    "\n",
    "You can also get the Figure that contains an Axes with the `.get_figure()` method. So to save our seaborn plot:"
   ]
  },
  {
   "cell_type": "code",
   "execution_count": null,
   "id": "c0596a50",
   "metadata": {
    "slideshow": {
     "slide_type": "subslide"
    }
   },
   "outputs": [],
   "source": [
    "ax = sns.lineplot(x = \"Year\", y = \"Sales\", hue = \"Kind\", data = milk1)\n",
    "ax.set_title(\"US Milk Sales\")"
   ]
  },
  {
   "cell_type": "code",
   "execution_count": null,
   "id": "5806cfef",
   "metadata": {
    "slideshow": {
     "slide_type": "subslide"
    }
   },
   "outputs": [],
   "source": [
    "# plt.savefig('seabornplot.png') # saves current plot via matplotlib\n",
    "# ax.get_figure().savefig('output.png') # saves with seaborn"
   ]
  },
  {
   "cell_type": "markdown",
   "id": "b54c36b2",
   "metadata": {
    "slideshow": {
     "slide_type": "slide"
    }
   },
   "source": [
    "## Comparing Packages\n",
    "\n",
    "Let's use the familiar dogs dataset to further compare the different plotting packages."
   ]
  },
  {
   "cell_type": "code",
   "execution_count": null,
   "id": "d7f0d8a0",
   "metadata": {},
   "outputs": [],
   "source": [
    "dogs = pd.read_csv(\"../data/dogs_full.csv\")\n",
    "dogs.head()"
   ]
  },
  {
   "cell_type": "code",
   "execution_count": null,
   "id": "04137676",
   "metadata": {
    "slideshow": {
     "slide_type": "subslide"
    }
   },
   "outputs": [],
   "source": [
    "dogs.tail()"
   ]
  },
  {
   "cell_type": "markdown",
   "id": "c4f1b0c3",
   "metadata": {
    "slideshow": {
     "slide_type": "slide"
    }
   },
   "source": [
    "### Scatter Plots\n",
    "\n",
    "Plot the number of dogs in each category."
   ]
  },
  {
   "cell_type": "code",
   "execution_count": null,
   "id": "ee72d911",
   "metadata": {
    "slideshow": {
     "slide_type": "subslide"
    }
   },
   "outputs": [],
   "source": [
    "# Plotnine\n",
    "\n",
    "p = (p9.ggplot(dogs, p9.aes(x = \"group\"))\n",
    "+ p9.geom_point(stat = \"count\"))\n",
    "p + p9.labs(title = \"Dog Groups\", x = \"Group\", y = \"Count\")"
   ]
  },
  {
   "cell_type": "code",
   "execution_count": null,
   "id": "5884c2e2",
   "metadata": {
    "slideshow": {
     "slide_type": "subslide"
    }
   },
   "outputs": [],
   "source": [
    "# Seaborn\n",
    "counts = dogs[\"group\"].value_counts()\n",
    "counts"
   ]
  },
  {
   "cell_type": "code",
   "execution_count": null,
   "id": "a4f599d9",
   "metadata": {
    "slideshow": {
     "slide_type": "subslide"
    }
   },
   "outputs": [],
   "source": [
    "ax = sns.stripplot(x = counts.index, y = counts)\n",
    "ax.set(title = \"Dog Groups\", xlabel = \"Group\", ylabel = \"Count\") # prints and returns list \n",
    "ax.set_xticklabels(ax.get_xticklabels(), rotation = 45)"
   ]
  },
  {
   "cell_type": "code",
   "execution_count": null,
   "id": "d39db282",
   "metadata": {
    "scrolled": false,
    "slideshow": {
     "slide_type": "subslide"
    }
   },
   "outputs": [],
   "source": [
    "ax = counts.plot(style = \"x\", rot = 90)\n",
    "ax.set(title = \"Dog Groups\", xlabel = \"Group\", ylabel = \"Count\")"
   ]
  },
  {
   "cell_type": "markdown",
   "id": "cda6964b",
   "metadata": {
    "slideshow": {
     "slide_type": "subslide"
    }
   },
   "source": [
    "### Box Plots\n",
    "\n",
    "Plot the distribution of dog longevity, grouped by category."
   ]
  },
  {
   "cell_type": "code",
   "execution_count": null,
   "id": "84b97697",
   "metadata": {
    "scrolled": false,
    "slideshow": {
     "slide_type": "subslide"
    }
   },
   "outputs": [],
   "source": [
    "# Plotnine\n",
    "( \n",
    "    p9.ggplot(dogs, p9.aes(\"group\", \"longevity\")) \n",
    "    + p9.geom_boxplot()\n",
    "    + p9.labs(title = \"Dog Longevity\", x = \"\", y = \"Years\")\n",
    ")"
   ]
  },
  {
   "cell_type": "code",
   "execution_count": null,
   "id": "74d668aa",
   "metadata": {
    "slideshow": {
     "slide_type": "subslide"
    }
   },
   "outputs": [],
   "source": [
    "# Seaborn\n",
    "\n",
    "ax = sns.boxplot(x = \"group\", y = \"longevity\", data = dogs)\n",
    "ax.set(title = \"Dog Longevity\", xlabel = \"\", ylabel = \"Years\")\n",
    "ax.set_xticklabels(ax.get_xticklabels(), rotation = 45)"
   ]
  },
  {
   "cell_type": "code",
   "execution_count": null,
   "id": "3ba16472",
   "metadata": {
    "slideshow": {
     "slide_type": "subslide"
    }
   },
   "outputs": [],
   "source": [
    "# Pandas\n",
    "\n",
    "ax = dogs.boxplot(by = \"group\", column = \"longevity\", rot = 45)\n",
    "ax.set(title = \"Dog Longevity\", xlabel = \"\", ylabel = \"Years\")\n",
    "# Hide grouping title Pandas adds.\n",
    "ax.get_figure().suptitle(\"\")"
   ]
  },
  {
   "cell_type": "markdown",
   "id": "b00791c2",
   "metadata": {
    "slideshow": {
     "slide_type": "slide"
    }
   },
   "source": [
    "### Scatter Plots\n",
    "\n",
    "Plot popularity against datadog score."
   ]
  },
  {
   "cell_type": "code",
   "execution_count": null,
   "id": "545c3c76",
   "metadata": {
    "slideshow": {
     "slide_type": "subslide"
    }
   },
   "outputs": [],
   "source": [
    "# Plotnine\n",
    "\n",
    "(\n",
    "    p9.ggplot(dogs, p9.aes(\"datadog\", \"popularity\"))\n",
    "    + p9.geom_point()\n",
    "    + p9.labs(title = \"Best in Show\", x = \"DataDog Score\", y = \"Popularity Rank\")\n",
    "    + p9.ylim(95, -5)\n",
    ")"
   ]
  },
  {
   "cell_type": "code",
   "execution_count": null,
   "id": "ca38392d",
   "metadata": {
    "slideshow": {
     "slide_type": "subslide"
    }
   },
   "outputs": [],
   "source": [
    "# Seaborn\n",
    "ax = sns.regplot(x = \"datadog\", y = \"popularity\", data = dogs, \n",
    "                 fit_reg = False)\n",
    "ax.set(title = \"Best in Show\", xlabel = \"DataDog Score\", ylabel = \"Popularity Rank\")\n",
    "ax.set_ylim(reversed(ax.get_ylim()))"
   ]
  },
  {
   "cell_type": "code",
   "execution_count": null,
   "id": "c7666624",
   "metadata": {
    "slideshow": {
     "slide_type": "subslide"
    }
   },
   "outputs": [],
   "source": [
    "# Pandas\n",
    "\n",
    "ax = dogs.plot.scatter(x = \"datadog\", y = \"popularity\")\n",
    "ax.set(title = \"Best in Show\", xlabel = \"DataDog Score\", ylabel = \"Popularity Rank\")\n",
    "ax.set_ylim(reversed(ax.get_ylim()))"
   ]
  },
  {
   "cell_type": "markdown",
   "id": "8df65864",
   "metadata": {
    "slideshow": {
     "slide_type": "slide"
    }
   },
   "source": [
    "## Maps\n",
    "\n",
    "The __folium__ package uses the Leaflet JavaScript library to make interactive maps.\n",
    "\n",
    "The function to create a map is `folium.Map()`. The function's parameters control the position, style, and initial zoom of the map.\n",
    "\n",
    "If you want to change the size of the map, you first need to create a `folium.Figure()`, and then add the map to the figure with `.add_child()`."
   ]
  },
  {
   "cell_type": "code",
   "execution_count": null,
   "id": "3b4f9a33",
   "metadata": {
    "scrolled": false,
    "slideshow": {
     "slide_type": "subslide"
    }
   },
   "outputs": [],
   "source": [
    "import folium\n",
    "\n",
    "# Make a map.\n",
    "m = folium.Map(location = [38.54132868466938, -121.75125428735232], zoom_start = 10)\n",
    "# Davis: 38.5449, -121.7405\n",
    "\n",
    "# optional: set up a Figure to control the size of the map\n",
    "fig = folium.Figure(width = 900, height = 400)\n",
    "fig.add_child(m)\n",
    "\n",
    "\n",
    "# fig.save(\"MY_MAP.html\")"
   ]
  },
  {
   "cell_type": "markdown",
   "id": "5b2b704a",
   "metadata": {
    "slideshow": {
     "slide_type": "subslide"
    }
   },
   "source": [
    "The [Yolo County Restuarants Dataset](http://anson.ucdavis.edu/~nulle/yolo_food.feather) contains locations and health inspector scores for all restaurants in Yolo County, California.\n",
    "\n",
    "Let's use __folium__ to display the restaurants on a map."
   ]
  },
  {
   "cell_type": "code",
   "execution_count": null,
   "id": "21b86586",
   "metadata": {
    "slideshow": {
     "slide_type": "subslide"
    }
   },
   "outputs": [],
   "source": [
    "import pandas as pd \n",
    "\n",
    "food = pd.read_feather(\"../data/yolo_food.feather\")\n",
    "food.head()"
   ]
  },
  {
   "cell_type": "markdown",
   "id": "c47ca07b",
   "metadata": {
    "slideshow": {
     "slide_type": "subslide"
    }
   },
   "source": [
    "Unlike most of the plotting packages we used before, __folium__ does not automatically handle missing values. So in order to make our map, we first need to remove the missing values from our dataset."
   ]
  },
  {
   "cell_type": "code",
   "execution_count": null,
   "id": "618d74b0",
   "metadata": {},
   "outputs": [],
   "source": [
    "food_cp = food.copy()"
   ]
  },
  {
   "cell_type": "code",
   "execution_count": null,
   "id": "4532cbbb",
   "metadata": {},
   "outputs": [],
   "source": [
    "food_cp = food_cp[food_cp.lat.notna() & food_cp.lng.notna()]"
   ]
  },
  {
   "cell_type": "code",
   "execution_count": null,
   "id": "d8be5362",
   "metadata": {},
   "outputs": [],
   "source": [
    "food_cp.shape"
   ]
  },
  {
   "cell_type": "code",
   "execution_count": null,
   "id": "23c35fdf",
   "metadata": {},
   "outputs": [],
   "source": [
    "food.shape"
   ]
  },
  {
   "cell_type": "markdown",
   "id": "a2da175d",
   "metadata": {
    "slideshow": {
     "slide_type": "subslide"
    }
   },
   "source": [
    "Now we can make the map. For each restaurant, we have to create a circle and add it to the map."
   ]
  },
  {
   "cell_type": "code",
   "execution_count": null,
   "id": "2f672116",
   "metadata": {
    "slideshow": {
     "slide_type": "subslide"
    }
   },
   "outputs": [],
   "source": [
    "m = folium.Map(location = [38.5449, -121.7405], zoom_start = 11)\n",
    "\n",
    "cols = [\"FacilityName\", \"lat\", \"lng\"]\n",
    "for name, lat, lng in food_cp[cols].itertuples(index = False):\n",
    "    popup = folium.Popup(name, parse_html = True)\n",
    "    circle = folium.Circle([float(lat), float(lng)], color = \"red\", radius = 10, popup = popup)\n",
    "    m.add_child(circle)\n",
    "    \n",
    "fig = folium.Figure(width = 900, height = 400)\n",
    "fig.add_child(m)"
   ]
  },
  {
   "cell_type": "markdown",
   "id": "6959d787",
   "metadata": {
    "slideshow": {
     "slide_type": "subslide"
    }
   },
   "source": [
    "Folium can also display boundaries stored in GeoJSON files. See [the documentation](https://python-visualization.github.io/folium/index.html) for more info."
   ]
  }
 ],
 "metadata": {
  "celltoolbar": "Slideshow",
  "kernelspec": {
   "display_name": "Python 3 (ipykernel)",
   "language": "python",
   "name": "python3"
  },
  "language_info": {
   "codemirror_mode": {
    "name": "ipython",
    "version": 3
   },
   "file_extension": ".py",
   "mimetype": "text/x-python",
   "name": "python",
   "nbconvert_exporter": "python",
   "pygments_lexer": "ipython3",
   "version": "3.9.12"
  },
  "vscode": {
   "interpreter": {
    "hash": "b2b12ec50b0a525a62abe739e766b0c808eccd181e3f804cedbbca00f4d5b392"
   }
  }
 },
 "nbformat": 4,
 "nbformat_minor": 5
}
