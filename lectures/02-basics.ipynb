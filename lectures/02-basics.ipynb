{
 "cells": [
  {
   "cell_type": "markdown",
   "id": "ff704263",
   "metadata": {
    "slideshow": {
     "slide_type": "slide"
    }
   },
   "source": [
    "# STA 141B Data & Web Technologies for Data Analysis\n",
    "\n",
    "### Lecture 2, 10/3/23, Basics of Python"
   ]
  },
  {
   "cell_type": "markdown",
   "id": "af2b3608",
   "metadata": {
    "slideshow": {
     "slide_type": "slide"
    }
   },
   "source": [
    "### Announcements \n",
    "\n",
    "- Wait list. \n",
    "- HW 1 is online and due October 13, 2023 by 11:59 PM\n",
    "- [HackDavis](https://hackdavis.io/)! \n",
    "- Office hours: \n",
    "    * Peter Kramlinger\tR\t10:45-11:45 AM\n",
    "    * Xiangbo Mo\tT\t7-8 PM ([Zoom](https://ucdstats.zoom.us/j/96433938896?pwd=cmFiTVN6RzI4TDRaVnU5aVFxWVlqZz09))\n",
    "    * Jingwei Xiong\tF\t1-2 PM ([Zoom](https://canvas.ucdavis.edu/courses/823714/external_tools/8022))"
   ]
  },
  {
   "cell_type": "markdown",
   "id": "522b9f25",
   "metadata": {
    "slideshow": {
     "slide_type": "slide"
    }
   },
   "source": [
    "### Last week's topics\n",
    "\n",
    "- Course Organization\n",
    "- Basics of Python"
   ]
  },
  {
   "cell_type": "markdown",
   "id": "424a6b81",
   "metadata": {
    "slideshow": {
     "slide_type": "slide"
    }
   },
   "source": [
    "#### Types\n",
    "- Numeric: <kbd>int</kbd>, <kbd>floats</kbd>, <kbd>complex</kbd>\n",
    "- Boolean: <kbd>bool</kbd>\n",
    "- String: <kbd>str</kbd>\n",
    "- Sequence: <kbd>list</kbd>, <kbd>tuple</kbd>, <kbd>range</kbd>\n",
    "- Mapping: <kbd>dict</kbd>"
   ]
  },
  {
   "cell_type": "code",
   "execution_count": 48,
   "id": "ad8ecac9",
   "metadata": {
    "slideshow": {
     "slide_type": "-"
    }
   },
   "outputs": [],
   "source": [
    "x = {\"key\": \"value\", 5: \"value\", 5.0: 4}"
   ]
  },
  {
   "cell_type": "code",
   "execution_count": 52,
   "id": "c4db7b31",
   "metadata": {
    "slideshow": {
     "slide_type": "-"
    }
   },
   "outputs": [
    {
     "data": {
      "text/plain": [
       "True"
      ]
     },
     "execution_count": 52,
     "metadata": {},
     "output_type": "execute_result"
    }
   ],
   "source": [
    "5.0 == 5"
   ]
  },
  {
   "cell_type": "code",
   "execution_count": 30,
   "id": "5f08fc92",
   "metadata": {
    "slideshow": {
     "slide_type": "-"
    }
   },
   "outputs": [
    {
     "data": {
      "text/plain": [
       "[3, 2, 5, 2.5, 4]"
      ]
     },
     "execution_count": 30,
     "metadata": {},
     "output_type": "execute_result"
    }
   ],
   "source": [
    "x"
   ]
  },
  {
   "cell_type": "code",
   "execution_count": 33,
   "id": "dc7df3f8",
   "metadata": {
    "slideshow": {
     "slide_type": "-"
    }
   },
   "outputs": [
    {
     "data": {
      "text/plain": [
       "tuple"
      ]
     },
     "execution_count": 33,
     "metadata": {},
     "output_type": "execute_result"
    }
   ],
   "source": [
    "type(x)"
   ]
  },
  {
   "cell_type": "code",
   "execution_count": null,
   "id": "6fd412a4",
   "metadata": {
    "slideshow": {
     "slide_type": "-"
    }
   },
   "outputs": [],
   "source": []
  },
  {
   "cell_type": "code",
   "execution_count": 8,
   "id": "e3ed5e79",
   "metadata": {
    "slideshow": {
     "slide_type": "-"
    }
   },
   "outputs": [],
   "source": []
  },
  {
   "cell_type": "markdown",
   "id": "1ea1e282",
   "metadata": {
    "slideshow": {
     "slide_type": "slide"
    }
   },
   "source": []
  },
  {
   "cell_type": "markdown",
   "id": "aa71cabb",
   "metadata": {
    "slideshow": {
     "slide_type": "slide"
    }
   },
   "source": [
    "__Adhere to the principles of proper programming!__\n",
    "\n",
    "- K.I.S.S. (Keep It Simple, Stupid): Functions should perform one task, and one task only. \n",
    "- Rule of Three (avoid code duplication): Duplication is a bad programming habit because it makes code harder to maintain. \n",
    "- Clarity before Efficiency: Never sacrifice clarity for some perceived efficiency. Donald Knuth: \"Premature optimization is the root of all evil.\"\n",
    "- Naming: Stick to consistency and conventions. "
   ]
  },
  {
   "cell_type": "code",
   "execution_count": null,
   "id": "462e2e00",
   "metadata": {
    "slideshow": {
     "slide_type": "-"
    }
   },
   "outputs": [],
   "source": []
  },
  {
   "cell_type": "markdown",
   "id": "e4bbee5f",
   "metadata": {
    "slideshow": {
     "slide_type": "slide"
    }
   },
   "source": [
    "### Today's topics\n",
    "\n",
    "<style>\n",
    "    font-size: 40x;\n",
    "</style>\n",
    "\n",
    "- Basics of Python (cont.)"
   ]
  },
  {
   "cell_type": "markdown",
   "id": "39ea22bd",
   "metadata": {
    "slideshow": {
     "slide_type": "slide"
    }
   },
   "source": [
    "#### Set\n",
    "\n",
    "A <kbd>set</kbd> is an unordered collection of unique items. It is instantiated with curly brackets. Since the items are unique, they must be inmutable!"
   ]
  },
  {
   "cell_type": "code",
   "execution_count": 53,
   "id": "f870f2dd",
   "metadata": {},
   "outputs": [
    {
     "data": {
      "text/plain": [
       "{2, True, 'apple'}"
      ]
     },
     "execution_count": 53,
     "metadata": {},
     "output_type": "execute_result"
    }
   ],
   "source": [
    "x = {\"apple\", True, 2} # display order changed, they are unordered\n",
    "x"
   ]
  },
  {
   "cell_type": "code",
   "execution_count": 55,
   "id": "a09bd6bf",
   "metadata": {},
   "outputs": [
    {
     "data": {
      "text/plain": [
       "{(2, 3), 2, 'apple'}"
      ]
     },
     "execution_count": 55,
     "metadata": {},
     "output_type": "execute_result"
    }
   ],
   "source": [
    "{\"apple\", (2,3), 2}"
   ]
  },
  {
   "cell_type": "markdown",
   "id": "b9e94168",
   "metadata": {
    "slideshow": {
     "slide_type": "slide"
    }
   },
   "source": [
    "Sets are unordered. Hence, they do not support indexing. "
   ]
  },
  {
   "cell_type": "code",
   "execution_count": 56,
   "id": "968ca1ce",
   "metadata": {},
   "outputs": [
    {
     "ename": "TypeError",
     "evalue": "'set' object is not subscriptable",
     "output_type": "error",
     "traceback": [
      "\u001b[0;31m---------------------------------------------------------------------------\u001b[0m",
      "\u001b[0;31mTypeError\u001b[0m                                 Traceback (most recent call last)",
      "\u001b[0;32m/var/folders/fh/hvkm2z9n7631q5058px_kqg80000gr/T/ipykernel_13305/1219259887.py\u001b[0m in \u001b[0;36m<module>\u001b[0;34m\u001b[0m\n\u001b[0;32m----> 1\u001b[0;31m \u001b[0mx\u001b[0m\u001b[0;34m[\u001b[0m\u001b[0;36m1\u001b[0m\u001b[0;34m]\u001b[0m\u001b[0;34m\u001b[0m\u001b[0;34m\u001b[0m\u001b[0m\n\u001b[0m",
      "\u001b[0;31mTypeError\u001b[0m: 'set' object is not subscriptable"
     ]
    }
   ],
   "source": [
    "x[1]    "
   ]
  },
  {
   "cell_type": "code",
   "execution_count": 58,
   "id": "f63d38c9",
   "metadata": {
    "slideshow": {
     "slide_type": "slide"
    }
   },
   "outputs": [
    {
     "data": {
      "text/plain": [
       "{2, 4, True, 'apple', 'new item'}"
      ]
     },
     "execution_count": 58,
     "metadata": {},
     "output_type": "execute_result"
    }
   ],
   "source": [
    "x.add(4)\n",
    "x"
   ]
  },
  {
   "cell_type": "code",
   "execution_count": 62,
   "id": "32b82355",
   "metadata": {},
   "outputs": [
    {
     "data": {
      "text/plain": [
       "{2, 4, True, 'apple', 'new item'}"
      ]
     },
     "execution_count": 62,
     "metadata": {},
     "output_type": "execute_result"
    }
   ],
   "source": [
    "x.add(\"new item\") # the items are unique\n",
    "x"
   ]
  },
  {
   "cell_type": "code",
   "execution_count": 63,
   "id": "747f4113",
   "metadata": {
    "scrolled": true
   },
   "outputs": [
    {
     "data": {
      "text/plain": [
       "{2, 4, True, 'apple'}"
      ]
     },
     "execution_count": 63,
     "metadata": {},
     "output_type": "execute_result"
    }
   ],
   "source": [
    "x.remove(\"new item\")\n",
    "x"
   ]
  },
  {
   "cell_type": "markdown",
   "id": "977a3732",
   "metadata": {
    "slideshow": {
     "slide_type": "slide"
    }
   },
   "source": [
    "#### Functions\n",
    "\n",
    "We have defined functions already in the previous lecture. The function name follows `def`, and an optional return argument is passed via `return`. "
   ]
  },
  {
   "cell_type": "code",
   "execution_count": 68,
   "id": "a13df872",
   "metadata": {},
   "outputs": [],
   "source": [
    "def myfun(x): \n",
    "    return x**2"
   ]
  },
  {
   "cell_type": "code",
   "execution_count": 69,
   "id": "512501aa",
   "metadata": {},
   "outputs": [
    {
     "data": {
      "text/plain": [
       "9"
      ]
     },
     "execution_count": 69,
     "metadata": {},
     "output_type": "execute_result"
    }
   ],
   "source": [
    "myfun(3)"
   ]
  },
  {
   "cell_type": "markdown",
   "id": "6844e7e5",
   "metadata": {
    "slideshow": {
     "slide_type": "slide"
    }
   },
   "source": [
    "Default values for arguments are passed in the function definition: "
   ]
  },
  {
   "cell_type": "code",
   "execution_count": 70,
   "id": "364c303a",
   "metadata": {},
   "outputs": [],
   "source": [
    "def myfun(x, n = 2): \n",
    "    return x**n"
   ]
  },
  {
   "cell_type": "code",
   "execution_count": 71,
   "id": "5cf5620d",
   "metadata": {},
   "outputs": [
    {
     "data": {
      "text/plain": [
       "9"
      ]
     },
     "execution_count": 71,
     "metadata": {},
     "output_type": "execute_result"
    }
   ],
   "source": [
    "myfun(3)"
   ]
  },
  {
   "cell_type": "code",
   "execution_count": 72,
   "id": "b4b9f8d1",
   "metadata": {},
   "outputs": [
    {
     "data": {
      "text/plain": [
       "9"
      ]
     },
     "execution_count": 72,
     "metadata": {},
     "output_type": "execute_result"
    }
   ],
   "source": [
    "myfun(3,2)"
   ]
  },
  {
   "cell_type": "code",
   "execution_count": 75,
   "id": "56f73629",
   "metadata": {},
   "outputs": [
    {
     "data": {
      "text/plain": [
       "27"
      ]
     },
     "execution_count": 75,
     "metadata": {},
     "output_type": "execute_result"
    }
   ],
   "source": [
    "myfun(n=3, x=3)"
   ]
  },
  {
   "cell_type": "markdown",
   "id": "931f148d",
   "metadata": {
    "slideshow": {
     "slide_type": "slide"
    }
   },
   "source": [
    "A well-written function contains a *docstring* that explains what the function does: "
   ]
  },
  {
   "cell_type": "code",
   "execution_count": 86,
   "id": "a50ad1f3",
   "metadata": {},
   "outputs": [],
   "source": [
    "def myfun(x, n = 2): \n",
    "    '''Takes in a number x, returns the n-th power of n\n",
    "    \n",
    "    I can not add another line'''\n",
    "    return x**n"
   ]
  },
  {
   "cell_type": "code",
   "execution_count": 87,
   "id": "2d542c5d",
   "metadata": {},
   "outputs": [
    {
     "name": "stdout",
     "output_type": "stream",
     "text": [
      "Help on function myfun in module __main__:\n",
      "\n",
      "myfun(x, n=2)\n",
      "    Takes in a number x, returns the n-th power of n\n",
      "    \n",
      "    I can not add another line\n",
      "\n"
     ]
    }
   ],
   "source": [
    "help(myfun)"
   ]
  },
  {
   "cell_type": "markdown",
   "id": "6c7e2607",
   "metadata": {
    "slideshow": {
     "slide_type": "slide"
    }
   },
   "source": [
    "(Short) anonymous functions in Python are calles *lambda expressions*. They can be used when function objects are required, e.g., when a function is to evaluate comprehension (see below). "
   ]
  },
  {
   "cell_type": "code",
   "execution_count": null,
   "id": "52bdddcb",
   "metadata": {},
   "outputs": [],
   "source": [
    "def make_power(n): \n",
    "    return lambda x, m = 2: x**n + m"
   ]
  },
  {
   "cell_type": "code",
   "execution_count": 99,
   "id": "9853e2b0",
   "metadata": {},
   "outputs": [],
   "source": [
    "def make_power2(n):\n",
    "    def f(x, m=2): x**n + m\n",
    "    return f"
   ]
  },
  {
   "cell_type": "code",
   "execution_count": 90,
   "id": "63dd608a",
   "metadata": {},
   "outputs": [
    {
     "data": {
      "text/plain": [
       "function"
      ]
     },
     "execution_count": 90,
     "metadata": {},
     "output_type": "execute_result"
    }
   ],
   "source": [
    "f2 = make_power(2)\n",
    "type(f2)"
   ]
  },
  {
   "cell_type": "code",
   "execution_count": null,
   "id": "00c2dd64",
   "metadata": {},
   "outputs": [],
   "source": [
    "g = make_power(2)"
   ]
  },
  {
   "cell_type": "code",
   "execution_count": 103,
   "id": "5730328b",
   "metadata": {},
   "outputs": [
    {
     "data": {
      "text/plain": [
       "function"
      ]
     },
     "execution_count": 103,
     "metadata": {},
     "output_type": "execute_result"
    }
   ],
   "source": [
    "type(g)"
   ]
  },
  {
   "cell_type": "markdown",
   "id": "1f269cff",
   "metadata": {
    "slideshow": {
     "slide_type": "slide"
    }
   },
   "source": [
    "In the example below, the lambda expression ensures that the ordering is on the item value, not the key value!"
   ]
  },
  {
   "cell_type": "code",
   "execution_count": 104,
   "id": "a5da0916",
   "metadata": {},
   "outputs": [
    {
     "data": {
      "text/plain": [
       "list"
      ]
     },
     "execution_count": 104,
     "metadata": {},
     "output_type": "execute_result"
    }
   ],
   "source": [
    "pairs = [(1, 'one'), (2, 'two'), (3, 'three'), (4, 'four')]\n",
    "type(pairs)"
   ]
  },
  {
   "cell_type": "code",
   "execution_count": 105,
   "id": "bc9aceb8",
   "metadata": {},
   "outputs": [
    {
     "data": {
      "text/plain": [
       "tuple"
      ]
     },
     "execution_count": 105,
     "metadata": {},
     "output_type": "execute_result"
    }
   ],
   "source": [
    "type(pairs[0])"
   ]
  },
  {
   "cell_type": "code",
   "execution_count": null,
   "id": "a8ae9894",
   "metadata": {},
   "outputs": [],
   "source": []
  },
  {
   "cell_type": "code",
   "execution_count": 107,
   "id": "eb4235fd",
   "metadata": {},
   "outputs": [
    {
     "data": {
      "text/plain": [
       "[(4, 'four'), (1, 'one'), (3, 'three'), (2, 'two')]"
      ]
     },
     "execution_count": 107,
     "metadata": {},
     "output_type": "execute_result"
    }
   ],
   "source": [
    "pairs.sort(key=lambda pair: pair[1])\n",
    "pairs"
   ]
  },
  {
   "cell_type": "code",
   "execution_count": 108,
   "id": "8b77063f",
   "metadata": {
    "slideshow": {
     "slide_type": "slide"
    }
   },
   "outputs": [
    {
     "data": {
      "text/plain": [
       "[(4, 'four'), (1, 'one'), (3, 'three'), (2, 'two')]"
      ]
     },
     "execution_count": 108,
     "metadata": {},
     "output_type": "execute_result"
    }
   ],
   "source": [
    "def mysort(pair): \n",
    "    return pair[1]\n",
    "pairs.sort(key=mysort)\n",
    "pairs"
   ]
  },
  {
   "cell_type": "code",
   "execution_count": 109,
   "id": "02a736df",
   "metadata": {},
   "outputs": [
    {
     "data": {
      "text/plain": [
       "['four', 'one', 'three', 'two']"
      ]
     },
     "execution_count": 109,
     "metadata": {},
     "output_type": "execute_result"
    }
   ],
   "source": [
    "lst = ['one', 'two', 'three', 'four']\n",
    "lst.sort()\n",
    "lst"
   ]
  },
  {
   "cell_type": "markdown",
   "id": "633efc3c",
   "metadata": {
    "slideshow": {
     "slide_type": "slide"
    }
   },
   "source": [
    "#####  `if`\n",
    "\n",
    "Python's `if` statement allows us to change the behavior of our code depending on whether a condition is met. Conditions must be Boolean expressions (<kbd>bool</kbd>).\n",
    "\n",
    "Indentation determines whether code is inside or outside of a control flow statement! Be careful to get it right!"
   ]
  },
  {
   "cell_type": "code",
   "execution_count": 110,
   "id": "1b489f9d",
   "metadata": {},
   "outputs": [
    {
     "name": "stdout",
     "output_type": "stream",
     "text": [
      "x is one!\n"
     ]
    }
   ],
   "source": [
    "x = 1.0\n",
    "if x > 10:\n",
    "    print(\"x is greater than 10\")\n",
    "elif x == 1:\n",
    "    print(\"x is one!\")\n",
    "else:\n",
    "    print(\"x is less than or equal to 10, and not 1\")\n"
   ]
  },
  {
   "cell_type": "markdown",
   "id": "05ad865a",
   "metadata": {
    "slideshow": {
     "slide_type": "slide"
    }
   },
   "source": [
    "#####  `for`\n",
    "\n",
    "Python's `for` loop allows us to iterate over elements of a string, tuple, list, or other object.\n",
    "\n",
    "Objects that can be iterated over are iterable. We'll learn more about iterables later."
   ]
  },
  {
   "cell_type": "code",
   "execution_count": 113,
   "id": "d236947a",
   "metadata": {},
   "outputs": [
    {
     "name": "stdout",
     "output_type": "stream",
     "text": [
      "1\n",
      "2\n",
      "3\n"
     ]
    }
   ],
   "source": [
    "for i in range(1, 4, 1):\n",
    "    print(i)"
   ]
  },
  {
   "cell_type": "code",
   "execution_count": 127,
   "id": "106b8b3a",
   "metadata": {
    "slideshow": {
     "slide_type": "slide"
    }
   },
   "outputs": [
    {
     "name": "stdout",
     "output_type": "stream",
     "text": [
      "sta 141b"
     ]
    }
   ],
   "source": [
    "# A weird way to convert to lowercase that shows a non-trivial loop:\n",
    "for letter in 'STA 141B':\n",
    "    # Computers compute on numbers, so each letter is represented by a number in memory.\n",
    "    # ord() gets the number that represents a letter\n",
    "    num = ord(letter)\n",
    "    if 65 <= num <= 90: # A-Z are represented by 65-90\n",
    "        # a-z are represented by 97-122, so a 32 number offset\n",
    "        new_letter = num + 32\n",
    "        # chr() converts a number that represents a letter back to the letter\n",
    "        new_letter = chr(new_letter)\n",
    "    else:\n",
    "        new_letter = letter\n",
    "        \n",
    "    print(new_letter, end = \"\") # replaces default line break at end"
   ]
  },
  {
   "cell_type": "code",
   "execution_count": 126,
   "id": "b0c55221",
   "metadata": {
    "slideshow": {
     "slide_type": "-"
    }
   },
   "outputs": [
    {
     "data": {
      "text/plain": [
       "32"
      ]
     },
     "execution_count": 126,
     "metadata": {},
     "output_type": "execute_result"
    }
   ],
   "source": [
    "ord(' ')"
   ]
  },
  {
   "cell_type": "code",
   "execution_count": 124,
   "id": "9fd5d91f",
   "metadata": {},
   "outputs": [
    {
     "data": {
      "text/plain": [
       "'a'"
      ]
     },
     "execution_count": 124,
     "metadata": {},
     "output_type": "execute_result"
    }
   ],
   "source": [
    "chr(65 + 32)"
   ]
  },
  {
   "cell_type": "code",
   "execution_count": 129,
   "id": "4ed482ca",
   "metadata": {
    "slideshow": {
     "slide_type": "slide"
    }
   },
   "outputs": [
    {
     "data": {
      "text/plain": [
       "'sta 141b'"
      ]
     },
     "execution_count": 129,
     "metadata": {},
     "output_type": "execute_result"
    }
   ],
   "source": [
    "# In practice, we can just use a built-in method to convert to lowercase\n",
    "'STA 141B'.lower()"
   ]
  },
  {
   "cell_type": "code",
   "execution_count": 131,
   "id": "a250ced0",
   "metadata": {
    "slideshow": {
     "slide_type": "slide"
    }
   },
   "outputs": [
    {
     "data": {
      "text/plain": [
       "'STA 141B'"
      ]
     },
     "execution_count": 131,
     "metadata": {},
     "output_type": "execute_result"
    }
   ],
   "source": [
    "'sta 141b'.upper()\n",
    "# Behind the scenes, .lower() is implemented in pretty much the same way as our loop above."
   ]
  },
  {
   "cell_type": "markdown",
   "id": "00260acf",
   "metadata": {
    "slideshow": {
     "slide_type": "slide"
    }
   },
   "source": [
    "### Iterables\n",
    "\n",
    "The four most important methods to repeat code for identical or similar tasks are:\n",
    "\n",
    " 1. Loops (`while` and `for`)\n",
    " 2. Recurson\n",
    " 3. Comprehensions, Generators, and `map()`\n",
    " 4. Vectorization (`NumPy` arrays and functions)\n",
    "    \n",
    "These methods have tradeoffs. In general:\n",
    "\n",
    " 1. Loops are the most flexible -- particularly `while` loops\n",
    " 2. Complicated code and suscebtible to infinite recursion\n",
    " 3. Generators tend to use the least memory\n",
    " 4. Vectorization tends to be fastest "
   ]
  },
  {
   "cell_type": "markdown",
   "id": "48b9c609",
   "metadata": {
    "slideshow": {
     "slide_type": "slide"
    }
   },
   "source": [
    "#### 1. Loop tips and tricks\n",
    "\n",
    "An iteratable object is a object that can be iterated over, element-by-element, like <kbd>tuple</kbd>, <kbd>list</kbd>, <kbd>range</kbd>, <kbd>string</kbd>.\n",
    "\n",
    "Python's `for`-loops can automatically retrieve elements from iterable objects."
   ]
  },
  {
   "cell_type": "code",
   "execution_count": 132,
   "id": "d685c340",
   "metadata": {},
   "outputs": [
    {
     "name": "stdout",
     "output_type": "stream",
     "text": [
      "hello"
     ]
    }
   ],
   "source": [
    "# bad code\n",
    "x = 'hello'\n",
    "for i in [0, 1, 2, 3, 4]:\n",
    "    print(x[i], end = '')"
   ]
  },
  {
   "cell_type": "code",
   "execution_count": 134,
   "id": "c1994802",
   "metadata": {},
   "outputs": [
    {
     "name": "stdout",
     "output_type": "stream",
     "text": [
      "hello"
     ]
    }
   ],
   "source": [
    "# good code\n",
    "for x in 'hello':\n",
    "    print(x, end = '') # we can use .index method for strings! "
   ]
  },
  {
   "cell_type": "code",
   "execution_count": 136,
   "id": "4744a6d2",
   "metadata": {},
   "outputs": [
    {
     "data": {
      "text/plain": [
       "2"
      ]
     },
     "execution_count": 136,
     "metadata": {},
     "output_type": "execute_result"
    }
   ],
   "source": [
    "'hello'.index('l')"
   ]
  },
  {
   "cell_type": "markdown",
   "id": "1e37f7f1",
   "metadata": {
    "slideshow": {
     "slide_type": "slide"
    }
   },
   "source": [
    "You can use `list` to recast <kbd>range</kbd> objects to <kbd>list</kbd> objects. As we have already established, this is computationally intensive and should generally avoided. You may only need to do this for visual inspection. "
   ]
  },
  {
   "cell_type": "code",
   "execution_count": 137,
   "id": "82e28430",
   "metadata": {},
   "outputs": [
    {
     "data": {
      "text/plain": [
       "[0, 1, 2, 3, 4]"
      ]
     },
     "execution_count": 137,
     "metadata": {},
     "output_type": "execute_result"
    }
   ],
   "source": [
    "list(range(5))"
   ]
  },
  {
   "cell_type": "markdown",
   "id": "7730e4dc",
   "metadata": {
    "slideshow": {
     "slide_type": "slide"
    }
   },
   "source": [
    "You can make the keys and values in a <kbd>dict</kbd> objtect iterable with the `items()` method."
   ]
  },
  {
   "cell_type": "code",
   "execution_count": 138,
   "id": "bd7ba196",
   "metadata": {},
   "outputs": [
    {
     "name": "stdout",
     "output_type": "stream",
     "text": [
      "hello 1\n",
      "goodbye 2\n"
     ]
    }
   ],
   "source": [
    "x = {'hello': 1, \"goodbye\": 2}\n",
    "\n",
    "for i in x:\n",
    "    print(i, x[i])"
   ]
  },
  {
   "cell_type": "code",
   "execution_count": 139,
   "id": "7f6548dc",
   "metadata": {},
   "outputs": [
    {
     "data": {
      "text/plain": [
       "dict_items([('hello', 1), ('goodbye', 2)])"
      ]
     },
     "execution_count": 139,
     "metadata": {},
     "output_type": "execute_result"
    }
   ],
   "source": [
    "x.items()"
   ]
  },
  {
   "cell_type": "code",
   "execution_count": 140,
   "id": "f892269a",
   "metadata": {},
   "outputs": [
    {
     "name": "stdout",
     "output_type": "stream",
     "text": [
      "hello 1\n",
      "goodbye 2\n"
     ]
    }
   ],
   "source": [
    "for key, val in x.items():\n",
    "    print(key, val)"
   ]
  },
  {
   "cell_type": "markdown",
   "id": "f5e638ab",
   "metadata": {
    "slideshow": {
     "slide_type": "slide"
    }
   },
   "source": [
    "*Zipping* two sequences together means combining them into a <kbd>list</kbd> objtect of <kbd>tuble</kbd> objtects where:\n",
    "\n",
    "- The first element of each tuple is an element from the first sequence\n",
    "- The second element of each tuple is an element from the second sequence\n",
    "\n",
    "Usually it only makes sense to zip sequences that are the same length.\n",
    "\n",
    "The `zip` function zips two or more sequences. Use it to iterate over multiple sequences at the same time."
   ]
  },
  {
   "cell_type": "code",
   "execution_count": 142,
   "id": "641da67f",
   "metadata": {
    "slideshow": {
     "slide_type": "-"
    }
   },
   "outputs": [],
   "source": [
    "x = [1, 2, 3, 4]\n",
    "y = 'days'"
   ]
  },
  {
   "cell_type": "code",
   "execution_count": null,
   "id": "abf29fbb",
   "metadata": {
    "slideshow": {
     "slide_type": "-"
    }
   },
   "outputs": [],
   "source": [
    "z = zip(x, y)\n",
    "type(z)"
   ]
  },
  {
   "cell_type": "code",
   "execution_count": 144,
   "id": "313a4b54",
   "metadata": {
    "slideshow": {
     "slide_type": "-"
    }
   },
   "outputs": [
    {
     "data": {
      "text/plain": [
       "<zip at 0x7fee000d6080>"
      ]
     },
     "execution_count": 144,
     "metadata": {},
     "output_type": "execute_result"
    }
   ],
   "source": [
    "z"
   ]
  },
  {
   "cell_type": "code",
   "execution_count": 145,
   "id": "4a7caa63",
   "metadata": {
    "slideshow": {
     "slide_type": "-"
    }
   },
   "outputs": [
    {
     "data": {
      "text/plain": [
       "[(1, 'd'), (2, 'a'), (3, 'y'), (4, 's')]"
      ]
     },
     "execution_count": 145,
     "metadata": {},
     "output_type": "execute_result"
    }
   ],
   "source": [
    "list(z)"
   ]
  },
  {
   "cell_type": "code",
   "execution_count": 146,
   "id": "a8d69b0f",
   "metadata": {
    "slideshow": {
     "slide_type": "slide"
    }
   },
   "outputs": [
    {
     "name": "stdout",
     "output_type": "stream",
     "text": [
      "1 d\n",
      "2 a\n",
      "3 y\n"
     ]
    }
   ],
   "source": [
    "x = [1, 2, 3]\n",
    "y = 'day'\n",
    "\n",
    "for x_elt, y_elt in zip(x, y):\n",
    "    print(x_elt, y_elt)"
   ]
  },
  {
   "cell_type": "code",
   "execution_count": 147,
   "id": "c687e70a",
   "metadata": {},
   "outputs": [
    {
     "data": {
      "text/plain": [
       "[(1, 'd', 7), (2, 'a', 8), (3, 'y', 9)]"
      ]
     },
     "execution_count": 147,
     "metadata": {},
     "output_type": "execute_result"
    }
   ],
   "source": [
    "list(zip(x, y, [7, 8, 9]))"
   ]
  },
  {
   "cell_type": "code",
   "execution_count": 149,
   "id": "82fff396",
   "metadata": {},
   "outputs": [
    {
     "data": {
      "text/plain": [
       "[(1, 4), (2, 5)]"
      ]
     },
     "execution_count": 149,
     "metadata": {},
     "output_type": "execute_result"
    }
   ],
   "source": [
    "x = [1, 2, 3]\n",
    "y = [4, 5]\n",
    "list(zip(x, y))"
   ]
  },
  {
   "cell_type": "code",
   "execution_count": 150,
   "id": "98961a82",
   "metadata": {},
   "outputs": [
    {
     "name": "stdout",
     "output_type": "stream",
     "text": [
      "1 4\n",
      "2 5\n"
     ]
    }
   ],
   "source": [
    "for x_elt, y_elt in zip(x, y):\n",
    "    print(x_elt, y_elt)"
   ]
  },
  {
   "cell_type": "markdown",
   "id": "bc6730b8",
   "metadata": {
    "slideshow": {
     "slide_type": "slide"
    }
   },
   "source": [
    "The `enumerate` function zips together index numbers and a sequence. In other words, the function enumerates a sequence."
   ]
  },
  {
   "cell_type": "code",
   "execution_count": 153,
   "id": "5f7ac40b",
   "metadata": {},
   "outputs": [
    {
     "data": {
      "text/plain": [
       "<enumerate at 0x7fee000dc680>"
      ]
     },
     "execution_count": 153,
     "metadata": {},
     "output_type": "execute_result"
    }
   ],
   "source": [
    "# If you absolutely must use index numbers, at least use enumerate() to get them\n",
    "x = 'hello'\n",
    "\n",
    "enumerate(x)"
   ]
  },
  {
   "cell_type": "code",
   "execution_count": 154,
   "id": "6ffee201",
   "metadata": {},
   "outputs": [
    {
     "data": {
      "text/plain": [
       "2"
      ]
     },
     "execution_count": 154,
     "metadata": {},
     "output_type": "execute_result"
    }
   ],
   "source": [
    "x.index('l')"
   ]
  },
  {
   "cell_type": "code",
   "execution_count": 152,
   "id": "17fe6765",
   "metadata": {},
   "outputs": [
    {
     "data": {
      "text/plain": [
       "[(0, 'h'), (1, 'e'), (2, 'l'), (3, 'l'), (4, 'o')]"
      ]
     },
     "execution_count": 152,
     "metadata": {},
     "output_type": "execute_result"
    }
   ],
   "source": [
    "list(enumerate(x))"
   ]
  },
  {
   "cell_type": "code",
   "execution_count": 155,
   "id": "dbb3358e",
   "metadata": {},
   "outputs": [
    {
     "name": "stdout",
     "output_type": "stream",
     "text": [
      "Position 0 is h\n",
      "Position 1 is e\n",
      "Position 2 is l\n",
      "Position 3 is l\n",
      "Position 4 is o\n"
     ]
    }
   ],
   "source": [
    "for i, x_elt in enumerate(x):\n",
    "    print(\"Position\", i, \"is\", x_elt)"
   ]
  },
  {
   "cell_type": "markdown",
   "id": "57ae60c8",
   "metadata": {
    "slideshow": {
     "slide_type": "slide"
    }
   },
   "source": [
    "#### 2. Recursion\n",
    "\n",
    "A recursion occurs if a function calls itself. It is useful for iterative processes. "
   ]
  },
  {
   "cell_type": "code",
   "execution_count": 162,
   "id": "eceef013",
   "metadata": {},
   "outputs": [],
   "source": [
    "def factorial(n): \n",
    "    '''This function computes the factorial of n via recursion.'''\n",
    "    if n <= 0: \n",
    "        return 1\n",
    "    else: \n",
    "        recurse = factorial(n-1)\n",
    "        result = n * recurse\n",
    "        return result"
   ]
  },
  {
   "cell_type": "code",
   "execution_count": 159,
   "id": "3c2f8a4b",
   "metadata": {},
   "outputs": [
    {
     "name": "stdout",
     "output_type": "stream",
     "text": [
      "Help on function factorial in module __main__:\n",
      "\n",
      "factorial(n)\n",
      "    This function computes the factorial of n via recursion.\n",
      "\n"
     ]
    }
   ],
   "source": [
    "help(factorial)"
   ]
  },
  {
   "cell_type": "code",
   "execution_count": 160,
   "id": "d44c735b",
   "metadata": {},
   "outputs": [
    {
     "data": {
      "text/plain": [
       "6"
      ]
     },
     "execution_count": 160,
     "metadata": {},
     "output_type": "execute_result"
    }
   ],
   "source": [
    "factorial(3) # 1 * 1 * 2 * 3"
   ]
  },
  {
   "cell_type": "markdown",
   "id": "aad50da9",
   "metadata": {
    "slideshow": {
     "slide_type": "slide"
    }
   },
   "source": [
    "Here, infinite recursion is can occur. Luckily, my Python interpreter guards against it.  "
   ]
  },
  {
   "cell_type": "code",
   "execution_count": 163,
   "id": "122029b9",
   "metadata": {},
   "outputs": [
    {
     "data": {
      "text/plain": [
       "12.728429999999989"
      ]
     },
     "execution_count": 163,
     "metadata": {},
     "output_type": "execute_result"
    }
   ],
   "source": [
    "factorial(4.3)"
   ]
  },
  {
   "cell_type": "markdown",
   "id": "df2973ff",
   "metadata": {
    "slideshow": {
     "slide_type": "slide"
    }
   },
   "source": [
    "#### 3. Comprehensions and generators\n",
    "\n",
    "A comprehension is a Python expression that transforms a sequence, element-by-element."
   ]
  },
  {
   "cell_type": "code",
   "execution_count": 165,
   "id": "616bea00",
   "metadata": {},
   "outputs": [
    {
     "data": {
      "text/plain": [
       "[0, 1, 4, 9, 16]"
      ]
     },
     "execution_count": 165,
     "metadata": {},
     "output_type": "execute_result"
    }
   ],
   "source": [
    "[x**2 for x in range(5)]"
   ]
  },
  {
   "cell_type": "code",
   "execution_count": 169,
   "id": "b3725c28",
   "metadata": {},
   "outputs": [],
   "source": [
    "x = [4, 3, 1]"
   ]
  },
  {
   "cell_type": "code",
   "execution_count": 171,
   "id": "e00c38e5",
   "metadata": {},
   "outputs": [
    {
     "data": {
      "text/plain": [
       "[16, 15, 13]"
      ]
     },
     "execution_count": 171,
     "metadata": {},
     "output_type": "execute_result"
    }
   ],
   "source": [
    "[y + 12 for y in x]"
   ]
  },
  {
   "cell_type": "markdown",
   "id": "a543caf9",
   "metadata": {
    "slideshow": {
     "slide_type": "slide"
    }
   },
   "source": [
    "Think of this as Pythons `lapply`. You can include a condition in a comprehension:"
   ]
  },
  {
   "cell_type": "code",
   "execution_count": 172,
   "id": "5eb6934a",
   "metadata": {},
   "outputs": [
    {
     "data": {
      "text/plain": [
       "[0, 4, 16, 36, 64, 100]"
      ]
     },
     "execution_count": 172,
     "metadata": {},
     "output_type": "execute_result"
    }
   ],
   "source": [
    "# Get all squares of even numbers from 0...10\n",
    "# [x for x in Z if W]\n",
    "\n",
    "y = [x**2 for x in range(11) if x % 2 == 0]\n",
    "y"
   ]
  },
  {
   "cell_type": "markdown",
   "id": "7209c9af",
   "metadata": {
    "slideshow": {
     "slide_type": "slide"
    }
   },
   "source": [
    "You can also iterate over subelements."
   ]
  },
  {
   "cell_type": "code",
   "execution_count": null,
   "id": "002c9361",
   "metadata": {},
   "outputs": [],
   "source": [
    "x = [[1, 2, 3], [4, 5, 6]] # print 1, 2, 3, 4, 5, 6"
   ]
  },
  {
   "cell_type": "code",
   "execution_count": null,
   "id": "b8c42aca",
   "metadata": {},
   "outputs": [],
   "source": [
    "# somewhat clumsy\n",
    "for sublist in x:\n",
    "    for elt in sublist:\n",
    "        print(elt)"
   ]
  },
  {
   "cell_type": "code",
   "execution_count": null,
   "id": "9691eb20",
   "metadata": {},
   "outputs": [],
   "source": [
    "[y for sublist in x for y in sublist]"
   ]
  },
  {
   "cell_type": "markdown",
   "id": "dc81f2bb",
   "metadata": {
    "slideshow": {
     "slide_type": "-"
    }
   },
   "source": [
    "Be aware that `sublist in x` is the top loop and subloops are right thereof. In other words, the outermost iterables always come first in the comprehension."
   ]
  },
  {
   "cell_type": "markdown",
   "id": "92b3dfb2",
   "metadata": {
    "slideshow": {
     "slide_type": "slide"
    }
   },
   "source": [
    "A comprehension surrounded by `[ ]` is called a list comprehension and produces a <kbd>list</kbd>. A comprehension surrounded by `{ }` and including `:` is called a dictionary comprehension and produces a <kbd>dict</kbd>. Else it is called set comprehension. "
   ]
  },
  {
   "cell_type": "code",
   "execution_count": null,
   "id": "d1a9738f",
   "metadata": {},
   "outputs": [],
   "source": [
    "x = [\"hello\", \"goodbye\"]\n",
    "\n",
    "lens = {len(name): (name) for name in x} # print the length of names\n",
    "lens"
   ]
  },
  {
   "cell_type": "markdown",
   "id": "85e2df2e",
   "metadata": {
    "slideshow": {
     "slide_type": "slide"
    }
   },
   "source": [
    "Remember that <kbd>dict</kbd> does not support equal keys and <kbd>set</kbd> does not support equal items, but <kbd>list</kbd> does. "
   ]
  },
  {
   "cell_type": "code",
   "execution_count": null,
   "id": "82014cf5",
   "metadata": {},
   "outputs": [],
   "source": [
    "{x**2 for x in [-1, 0, 1]} # set # uniqueness of sets is checked with ==, not is"
   ]
  },
  {
   "cell_type": "markdown",
   "id": "bfe9988c",
   "metadata": {
    "slideshow": {
     "slide_type": "slide"
    }
   },
   "source": [
    "There's no such thing as a tuple comprehension. Instead, a comprehension surrounded by `( )` is called a generator expression."
   ]
  },
  {
   "cell_type": "code",
   "execution_count": null,
   "id": "b9d17fcf",
   "metadata": {},
   "outputs": [],
   "source": [
    "y = (x**2 for x in range(1001) if x % 2 == 0)\n",
    "type(y)"
   ]
  },
  {
   "cell_type": "code",
   "execution_count": null,
   "id": "fe8aa5c0",
   "metadata": {},
   "outputs": [],
   "source": [
    "import sys\n",
    "sys.getsizeof(y)"
   ]
  },
  {
   "cell_type": "code",
   "execution_count": null,
   "id": "257069fe",
   "metadata": {},
   "outputs": [],
   "source": [
    "sys.getsizeof([x**2 for x in range(1001) if x % 2 == 0]) # produces a list, i.e., is evaluated"
   ]
  },
  {
   "cell_type": "markdown",
   "id": "5fea0960",
   "metadata": {
    "slideshow": {
     "slide_type": "slide"
    }
   },
   "source": [
    "Operating on a generator forces its evaluation. "
   ]
  },
  {
   "cell_type": "code",
   "execution_count": null,
   "id": "3af194d2",
   "metadata": {},
   "outputs": [],
   "source": [
    "sum(y)"
   ]
  },
  {
   "cell_type": "markdown",
   "id": "1b73144f",
   "metadata": {
    "slideshow": {
     "slide_type": "slide"
    }
   },
   "source": [
    "This code does not produce any sensible result, because *a generator can only be used once*. Once iterated through, it is exhausted. Since this saves memory it is *much* more efficient than <kbd>list</kbd>."
   ]
  },
  {
   "cell_type": "code",
   "execution_count": null,
   "id": "fb85c2c5",
   "metadata": {
    "slideshow": {
     "slide_type": "-"
    }
   },
   "outputs": [],
   "source": [
    "for i in y:\n",
    "    print(i, end=\" \")"
   ]
  },
  {
   "cell_type": "code",
   "execution_count": null,
   "id": "be018018",
   "metadata": {},
   "outputs": [],
   "source": [
    "y = (x**2 for x in range(101) if x % 2 == 0)"
   ]
  },
  {
   "cell_type": "code",
   "execution_count": null,
   "id": "aff1d46b",
   "metadata": {},
   "outputs": [],
   "source": [
    "for i in y:\n",
    "    print(i, end=\" \")"
   ]
  },
  {
   "cell_type": "markdown",
   "id": "2f3828f6",
   "metadata": {
    "slideshow": {
     "slide_type": "slide"
    }
   },
   "source": [
    " The economics of memory show when we time operations. "
   ]
  },
  {
   "cell_type": "code",
   "execution_count": null,
   "id": "48cbb2d6",
   "metadata": {},
   "outputs": [],
   "source": [
    "import timeit"
   ]
  },
  {
   "cell_type": "code",
   "execution_count": null,
   "id": "76df9d15",
   "metadata": {},
   "outputs": [],
   "source": [
    "print(timeit.timeit('''list_com = [i for i in range(100) if i % 2 == 0]''', number=1000000))\n",
    "print(timeit.timeit('''gen_exp = (i for i in range(100) if i % 2 == 0)''', number=1000000))"
   ]
  },
  {
   "cell_type": "markdown",
   "id": "f73ad4e5",
   "metadata": {
    "slideshow": {
     "slide_type": "slide"
    }
   },
   "source": [
    "A generator is a special kind of iterable which computes its elements on demand. Examples are ranges and generator expressions. \n",
    "Generators are especially useful for working with data that are __too large__ to fit in memory. While making a huge list (say $10^9$ elements) might use enough memory to crash Python, making a generator with the same number of elements uses almost no memory. See more examples [here](https://zacks.one/python-generators/). \n",
    "\n",
    "Python's `itertools` module has functions for manipulating generators and iterable objects"
   ]
  }
 ],
 "metadata": {
  "celltoolbar": "Slideshow",
  "kernelspec": {
   "display_name": "Python 3 (ipykernel)",
   "language": "python",
   "name": "python3"
  },
  "language_info": {
   "codemirror_mode": {
    "name": "ipython",
    "version": 3
   },
   "file_extension": ".py",
   "mimetype": "text/x-python",
   "name": "python",
   "nbconvert_exporter": "python",
   "pygments_lexer": "ipython3",
   "version": "3.9.12"
  },
  "rise": {
   "progress": true,
   "scroll": true,
   "theme": "white"
  }
 },
 "nbformat": 4,
 "nbformat_minor": 5
}
