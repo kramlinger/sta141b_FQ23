{
 "cells": [
  {
   "cell_type": "markdown",
   "metadata": {},
   "source": [
    "# STA 141B Assignment 3\n",
    "\n",
    "Due __Nov 10, 2023__ by __11:59pm__. Submit your work by uploading it to Gradescope through Canvas.\n",
    "\n",
    "Please rename this file as __\"LastName_FirstName_hw3\"__ and export it as as pdf-file. \n",
    "\n",
    "The objective of this assignment is to solidify your understanding of programming fundamentals: defining functions, conditional statements, loops, and recursion. Subsequent assignments will delve deeper into data science topics.\n",
    "\n",
    "Instructions:\n",
    "\n",
    "1. Provide your solutions in new cells following each exercise description. Create as many new cells as necessary. Use code cells for your Python scripts and Markdown cells for explanatory text or answers to non-coding questions. Answer all textual questions in complete sentences.\n",
    "\n",
    "2. Prioritize code readability. Just as in writing a book, the clarity of each line matters. Adopt the __one-statement-per-line__ rule. If you have a lengthy code statement, consider breaking it into multiple lines for clarity. (Please note: violating the one-statement-per-line rule will result in a one-point deduction for each offending line.)\n",
    "\n",
    "3. To help understand and maintain code, you should always add comments to explain your code. Use the hash symbol (#) to start writing a comment (homework without any comments will automatically receive 0 points).\n",
    "\n",
    "4. Submit your final work as a __.pdf__ file on __Gradescope__. To convert your .ipynb file into one of these formats, navigate to \"File\", select \"Download as\", and then choose either \"PDF via LaTeX\" or \"HTML\". If \"PDF via LaTeX\" does not work for you, export to \"HTML\", and then use Chrome to print the .html file into PDF. Gradescope only accepts PDF files.\n",
    "\n",
    "5. This assignment will be graded on your proficiency in programming. Be sure to demonstrate your abilities and submit your own, correct and readable solutions. "
   ]
  },
  {
   "cell_type": "markdown",
   "metadata": {
    "slideshow": {
     "slide_type": "-"
    },
    "tags": [
     "exercise"
    ]
   },
   "source": [
    "### Problem 1: Delphi’s Epidata API [2 Points]\n",
    "\n",
    "In order to query a public API, it is important to carefully read the documentation. Consider Delphi’s Epidata API, which - amongst others - tracks and provides data about the Covid-19 disease. We are interested in querying from the COVIDcast Epidata API. "
   ]
  },
  {
   "cell_type": "markdown",
   "metadata": {
    "slideshow": {
     "slide_type": "-"
    },
    "tags": [
     "exercise"
    ]
   },
   "source": [
    "#### Exercise\n",
    "\n",
    "a) Make three requests, retrieving the signal `smoothed_wcli` and `smoothed_whh_cmnty_cli` from the `fb-survey` datasource as well as the `confirmed_7dav_incidence_prop` signal from the `jhu-csse` on `2022-01-01` for all states. Transform the response to `pandas.DataFrame`. \n",
    "\n",
    "b) Next, create a new table with three columns with the signals `smoothed_wcli`, `smoothed_whh_cmnty_cli` and `confirmed_7dav_incidence_prop`. Drop missing values and compute the sample correlation matrix."
   ]
  },
  {
   "cell_type": "markdown",
   "metadata": {},
   "source": [
    "<span style=\"color:#F00\">Grading</span>\n",
    "* 1.a\n",
    "    * Write code for the procedure: - 0.25 incorrect/ -0.5 empty\n",
    "    * conf_jhu.info() result: -0.25 incorrect / -0.5 missing\n",
    "* 1.b\n",
    "    * Pandas processing: -0.25 incorrect / -0.5 missing\n",
    "    * Correlation result: -0.25 incorrect / -0.5 missing"
   ]
  },
  {
   "cell_type": "code",
   "execution_count": 1,
   "metadata": {
    "slideshow": {
     "slide_type": "-"
    },
    "tags": [
     "exercise"
    ]
   },
   "outputs": [],
   "source": [
    "# a)\n",
    "\n",
    "import requests\n",
    "import pandas as pd\n",
    "\n",
    "def fetch(data_source, signal): \n",
    "    url = 'https://api.covidcast.cmu.edu/epidata/covidcast?' # endpoint from example in docs\n",
    "    params = {'data_source': data_source,\n",
    "             'signal': signal,\n",
    "             'time_type': 'day',\n",
    "             'geo_type': 'state',\n",
    "             'time_values': '20220101',\n",
    "             'geo_values': '*'}\n",
    "    results = requests.get(url, params)\n",
    "    table = pd.DataFrame(results.json()['epidata'])\n",
    "    return(table)\n",
    "\n",
    "scl_fb = fetch('fb-survey', 'smoothed_wcli')\n",
    "shccl_fb = fetch('fb-survey', 'smoothed_whh_cmnty_cli')\n",
    "conf_jhu = fetch('jhu-csse', 'confirmed_7dav_incidence_prop')"
   ]
  },
  {
   "cell_type": "code",
   "execution_count": 7,
   "metadata": {},
   "outputs": [
    {
     "name": "stdout",
     "output_type": "stream",
     "text": [
      "<class 'pandas.core.frame.DataFrame'>\n",
      "RangeIndex: 56 entries, 0 to 55\n",
      "Data columns (total 15 columns):\n",
      " #   Column               Non-Null Count  Dtype  \n",
      "---  ------               --------------  -----  \n",
      " 0   geo_value            56 non-null     object \n",
      " 1   signal               56 non-null     object \n",
      " 2   source               56 non-null     object \n",
      " 3   geo_type             56 non-null     object \n",
      " 4   time_type            56 non-null     object \n",
      " 5   time_value           56 non-null     int64  \n",
      " 6   direction            0 non-null      object \n",
      " 7   issue                56 non-null     int64  \n",
      " 8   lag                  56 non-null     int64  \n",
      " 9   missing_value        56 non-null     int64  \n",
      " 10  missing_stderr       56 non-null     int64  \n",
      " 11  missing_sample_size  56 non-null     int64  \n",
      " 12  value                56 non-null     float64\n",
      " 13  stderr               0 non-null      object \n",
      " 14  sample_size          0 non-null      object \n",
      "dtypes: float64(1), int64(6), object(8)\n",
      "memory usage: 6.7+ KB\n"
     ]
    }
   ],
   "source": [
    "conf_jhu.info()"
   ]
  },
  {
   "cell_type": "code",
   "execution_count": 8,
   "metadata": {
    "slideshow": {
     "slide_type": "-"
    },
    "tags": [
     "exercise"
    ]
   },
   "outputs": [
    {
     "data": {
      "text/html": [
       "<div>\n",
       "<style scoped>\n",
       "    .dataframe tbody tr th:only-of-type {\n",
       "        vertical-align: middle;\n",
       "    }\n",
       "\n",
       "    .dataframe tbody tr th {\n",
       "        vertical-align: top;\n",
       "    }\n",
       "\n",
       "    .dataframe thead th {\n",
       "        text-align: right;\n",
       "    }\n",
       "</style>\n",
       "<table border=\"1\" class=\"dataframe\">\n",
       "  <thead>\n",
       "    <tr style=\"text-align: right;\">\n",
       "      <th></th>\n",
       "      <th>value_conf_jhu</th>\n",
       "      <th>value_shccl_fb</th>\n",
       "      <th>value_scl_fb</th>\n",
       "    </tr>\n",
       "  </thead>\n",
       "  <tbody>\n",
       "    <tr>\n",
       "      <th>value_conf_jhu</th>\n",
       "      <td>1.000000</td>\n",
       "      <td>0.541672</td>\n",
       "      <td>0.458741</td>\n",
       "    </tr>\n",
       "    <tr>\n",
       "      <th>value_shccl_fb</th>\n",
       "      <td>0.541672</td>\n",
       "      <td>1.000000</td>\n",
       "      <td>0.788089</td>\n",
       "    </tr>\n",
       "    <tr>\n",
       "      <th>value_scl_fb</th>\n",
       "      <td>0.458741</td>\n",
       "      <td>0.788089</td>\n",
       "      <td>1.000000</td>\n",
       "    </tr>\n",
       "  </tbody>\n",
       "</table>\n",
       "</div>"
      ],
      "text/plain": [
       "                value_conf_jhu  value_shccl_fb  value_scl_fb\n",
       "value_conf_jhu        1.000000        0.541672      0.458741\n",
       "value_shccl_fb        0.541672        1.000000      0.788089\n",
       "value_scl_fb          0.458741        0.788089      1.000000"
      ]
     },
     "execution_count": 8,
     "metadata": {},
     "output_type": "execute_result"
    }
   ],
   "source": [
    "# b)\n",
    "\n",
    "# sort by geo value to join\n",
    "scl_fb.set_index('geo_value', inplace=True)\n",
    "shccl_fb.set_index('geo_value', inplace=True)\n",
    "conf_jhu.set_index('geo_value', inplace=True)\n",
    "\n",
    "# join to one data frame\n",
    "df = conf_jhu.join(shccl_fb[['value']], rsuffix='_shccl_fb')\n",
    "df = df.join(scl_fb[['value']], rsuffix='_scl_fb')\n",
    "\n",
    "# reduce and rename columns in data frame\n",
    "df = df[['value', 'value_shccl_fb', 'value_scl_fb']]\n",
    "df.columns = ['value_conf_jhu', 'value_shccl_fb', 'value_scl_fb']\n",
    "\n",
    "# drop missings\n",
    "df = df.dropna()\n",
    "\n",
    "df.corr()"
   ]
  },
  {
   "cell_type": "markdown",
   "metadata": {},
   "source": [
    "### Problem 2: University of California Employee Pay [6 Points]\n",
    "\n",
    "As a public organization, the compensations of employees of all institutions of the University of California are freely accessible. These reports cover UC's career faculty and staff employees, as well as part-time, temporary and student employees. It is accessible [here](https://ucannualwage.ucop.edu). Internally, the data requested by the search mask is queried using an undocumented API. We are interested to compare the gross pay to the number of units actually taught. To this end, we use the [UCD registry](https://registrar-apps.ucdavis.edu/courses/search/index.cfm). "
   ]
  },
  {
   "cell_type": "markdown",
   "metadata": {},
   "source": [
    "__Hint__: The University of California Employee Pay API returns an object that is not in json format, since it includes single instead of double quotation marks. Instead of the method `.json`, the data can be accessed using the function `json.loads` from the `json` module, after replacing the quotation marks: \n",
    "\n",
    "    result = requests. ... # this is the request\n",
    "    import json\n",
    "    json.loads(result.text.replace(\"\\'\", \"\\\"\")) # this returns a dict\n",
    "    \n",
    "Also, throughout this exercise, we will extracts digits from strings. This can be achieved using the `re` package: \n",
    "\n",
    "    import re\n",
    "    re.findall('\\d+', \"this is a test 12 string with some 23, 0 digits in it!\") # returns ['12', '23', '0']    "
   ]
  },
  {
   "cell_type": "markdown",
   "metadata": {},
   "source": [
    "#### Exercise\n",
    "\n",
    "a) Query the wage API to obtain the annual wage data of 2021 of all UC Davis professors. Remove all privaticed names and return a `pandas.DataFrame` with the first name, last name and gross pay, sorted in descending order. Print the first __six__ rows. The first three are: \n",
    "\n",
    "```\n",
    "> wage_table.head(3)\n",
    "\tFirstName\tLastName\tPay\n",
    "1124\tGRIFFITH\tHARSH\t1197167.0\n",
    "1503\tCHRISTOPHER\tKREULEN\t1174990.0\n",
    "1136\tBRIAN\tHAUS\t926743.0\n",
    "\n",
    "```\n",
    "\n",
    "b) Next, find out how many _units_ each person of this data frame has taught. To reduce effort, only consider the first 100 rows of `wage_table`. Query these employees in the UCD registry. If courses were taught, those will be displayed here. For example `KRAMLINGER` and `Fall Quarter 2023` gives six courses. Each has a link with additional information (e.g., `view 50589`). From there, additional information can be accessed. Here, we are interested in the value of __Units__, for all courses taught. \n",
    "\n",
    "Aggregate the units for all courses taught in all terms in 2021 for the 100 largest entries from a). Create a new data set, `full_table`, that contains these 100 largest entries from a) and the total units. Add another column that calculates the pay per unit and re-sort the vector. Print the first __six__ rows.\n",
    "\n",
    "```\n",
    "> full_table.head(3) \n",
    "\tFirstName\tLastName\tPay\tUnits\tPayPerUnit\n",
    "1749\tRICHARD\tMARDER\t552965.0\t3\t184321.666667\n",
    "299\tRICHARD\tBOLD\t532720.0\t5\t106544.000000\n",
    "1270\tSAMUEL\tHWANG\t732169.0\t8\t91521.125000\n",
    "```\n"
   ]
  },
  {
   "cell_type": "markdown",
   "metadata": {},
   "source": [
    "<span style=\"color:#F00\">Grading</span>\n",
    "\n",
    "* a) Fetch wage data for UC Davis professors\n",
    "    * API calling setup: 0.5 points\n",
    "    * Function to fetch data: 1 points\n",
    "    * Data processing with Pandas: 0.5 points\n",
    "    * Final output (printing of top 6 rows): 1 points\n",
    "\n",
    "* b) Fetch wage data for UC Davis professors\n",
    "    * Function to fetch CRN: 0.5 points\n",
    "    * Function to fetch units: 0.5 points\n",
    "    * Threading for request: 0.5 points\n",
    "    * Post-processing: 0.5 points\n",
    "    * Final output (printing of top 6 rows): 1 points"
   ]
  },
  {
   "cell_type": "code",
   "execution_count": 6,
   "metadata": {},
   "outputs": [],
   "source": [
    "# a) \n",
    "\n",
    "import json\n",
    "import pandas as pd\n",
    "import requests\n",
    "import time\n",
    "\n",
    "def fetch_wage_single_page(page):\n",
    "    '''\n",
    "    Queries a single page given the parameters. \n",
    "    '''\n",
    "    result=requests.post('https://ucannualwage.ucop.edu/wage/search.action?', params = {\n",
    "        '_search': 'false',\n",
    "        'nd': '1666118385533',\n",
    "        'rows': '1000', # uff, turns out that the API takes this... \n",
    "        'page': page,\n",
    "        'sidx': 'EAW_LST_NAM',\n",
    "        'sord': 'asc',\n",
    "        'year': '2021',\n",
    "        'location': 'Davis',\n",
    "        'firstname': '',\n",
    "        'lastname': '',\n",
    "        'title': 'Prof',\n",
    "        'startSal': '',\n",
    "        'endSal': '',\n",
    "    })\n",
    "    result.raise_for_status()\n",
    "    results = json.loads(result.text.replace(\"\\'\", \"\\\"\"))\n",
    "    return(results)\n",
    "\n",
    "def fetch_wage_all_pages(): \n",
    "    '''\n",
    "    Queries all pages given the parameters. \n",
    "    '''\n",
    "    results = fetch_wage_single_page(1)\n",
    "    total_pages = int(results['total']) #first get total number of pages to query\n",
    "    \n",
    "    wage = [x['cell'] for x in results['rows']] # return the results as list\n",
    "    \n",
    "    for page in range(2, total_pages + 1): \n",
    "        time.sleep(0.05)\n",
    "        results = fetch_wage_single_page(page)\n",
    "        wage.extend([x['cell'] for x in results['rows']])\n",
    "    \n",
    "    return(wage)"
   ]
  },
  {
   "cell_type": "code",
   "execution_count": 12,
   "metadata": {},
   "outputs": [
    {
     "data": {
      "text/html": [
       "<div>\n",
       "<style scoped>\n",
       "    .dataframe tbody tr th:only-of-type {\n",
       "        vertical-align: middle;\n",
       "    }\n",
       "\n",
       "    .dataframe tbody tr th {\n",
       "        vertical-align: top;\n",
       "    }\n",
       "\n",
       "    .dataframe thead th {\n",
       "        text-align: right;\n",
       "    }\n",
       "</style>\n",
       "<table border=\"1\" class=\"dataframe\">\n",
       "  <thead>\n",
       "    <tr style=\"text-align: right;\">\n",
       "      <th></th>\n",
       "      <th>FirstName</th>\n",
       "      <th>LastName</th>\n",
       "      <th>Pay</th>\n",
       "    </tr>\n",
       "  </thead>\n",
       "  <tbody>\n",
       "    <tr>\n",
       "      <th>1124</th>\n",
       "      <td>GRIFFITH</td>\n",
       "      <td>HARSH</td>\n",
       "      <td>1197167.0</td>\n",
       "    </tr>\n",
       "    <tr>\n",
       "      <th>1503</th>\n",
       "      <td>CHRISTOPHER</td>\n",
       "      <td>KREULEN</td>\n",
       "      <td>1174990.0</td>\n",
       "    </tr>\n",
       "    <tr>\n",
       "      <th>1136</th>\n",
       "      <td>BRIAN</td>\n",
       "      <td>HAUS</td>\n",
       "      <td>926743.0</td>\n",
       "    </tr>\n",
       "    <tr>\n",
       "      <th>808</th>\n",
       "      <td>CHRISTOPHER</td>\n",
       "      <td>EVANS</td>\n",
       "      <td>912962.0</td>\n",
       "    </tr>\n",
       "    <tr>\n",
       "      <th>2261</th>\n",
       "      <td>ROBERT</td>\n",
       "      <td>RANDALL</td>\n",
       "      <td>909825.0</td>\n",
       "    </tr>\n",
       "    <tr>\n",
       "      <th>2321</th>\n",
       "      <td>ROLANDO</td>\n",
       "      <td>ROBERTO</td>\n",
       "      <td>901841.0</td>\n",
       "    </tr>\n",
       "  </tbody>\n",
       "</table>\n",
       "</div>"
      ],
      "text/plain": [
       "        FirstName LastName        Pay\n",
       "1124     GRIFFITH    HARSH  1197167.0\n",
       "1503  CHRISTOPHER  KREULEN  1174990.0\n",
       "1136        BRIAN     HAUS   926743.0\n",
       "808   CHRISTOPHER    EVANS   912962.0\n",
       "2261       ROBERT  RANDALL   909825.0\n",
       "2321      ROLANDO  ROBERTO   901841.0"
      ]
     },
     "execution_count": 12,
     "metadata": {},
     "output_type": "execute_result"
    }
   ],
   "source": [
    "wage = fetch_wage_all_pages()\n",
    "wage_table = pd.DataFrame(wage)[[3,4,6]]\n",
    "\n",
    "wage_table.columns = ['FirstName', 'LastName', 'Pay'] # rename columns \n",
    "wage_table = wage_table.query(\"LastName != '*****'\") # remove private data\n",
    "wage_table['FirstName'] = list(map(lambda x: x.split()[0], wage_table['FirstName'])) # process first names\n",
    "wage_table = wage_table.astype({'Pay':'float'})\n",
    "wage_table = wage_table.sort_values(by = 'Pay', ascending = False)\n",
    "\n",
    "wage_table.head(n = 6)"
   ]
  },
  {
   "cell_type": "code",
   "execution_count": null,
   "metadata": {},
   "outputs": [],
   "source": [
    "# b) \n",
    "\n",
    "import re\n",
    "import lxml.html as lx\n",
    "\n",
    "def get_CRN(instructor, termCode): \n",
    "    url = \"https://registrar-apps.ucdavis.edu/courses/search/course_search_results.cfm\"\n",
    "    data = {\n",
    "        'termCode': termCode,\n",
    "        'instructor': instructor\n",
    "    }\n",
    "    session = get_session()\n",
    "    response = session.post(url, data = data)\n",
    "    response.raise_for_status()\n",
    "    html = lx.fromstring(response.text)\n",
    "    \n",
    "    # we need to see if the instructor taught anything \n",
    "    if \"No courses found with the following search parameters\" in response.text: \n",
    "        return set()\n",
    "    \n",
    "    # strong selects the bold entries\n",
    "    # the first two are not CRNs\n",
    "    # 'set' makes CRNs unique\n",
    "    table = [i.text_content() for i in html.xpath('//strong')]\n",
    "    table = [re.findall('\\d+', t) for t in table]\n",
    "    table = set([t[0] for t in table if t != []])\n",
    "    return table"
   ]
  },
  {
   "cell_type": "code",
   "execution_count": null,
   "metadata": {},
   "outputs": [],
   "source": [
    "def get_units(crn, termCode): \n",
    "    url = \"https://registrar-apps.ucdavis.edu/courses/search/course.cfm\"\n",
    "    data = {\n",
    "        'crn': crn,\n",
    "        'termCode': termCode\n",
    "    }\n",
    "    session = get_session()\n",
    "    response = session.post(url, data = data)\n",
    "    response.raise_for_status()\n",
    "    html = lx.fromstring(response.text)\n",
    "    \n",
    "    table = [i.text_content() for i in html.xpath('//td')] # extract table contents\n",
    "\n",
    "    #findall finds all digits \n",
    "    #in the in the table under section with characters \"Units\"\n",
    "    #returns only list of one, so retrieve [0]'s entry\n",
    "    units = [int(re.findall('\\d+', t)[0]) for t in table if \"Units\" in t][0]\n",
    "    return units"
   ]
  },
  {
   "cell_type": "code",
   "execution_count": null,
   "metadata": {},
   "outputs": [],
   "source": [
    "def get_total_units(instructor): \n",
    "    # find the term codes using manual inspection\n",
    "    termCodes = ['20210' + str(i) for i in range(10)]\n",
    "    termCodes[0] = '202110'\n",
    "    \n",
    "    units = 0\n",
    "    for termCode in termCodes: \n",
    "        CRN = get_CRN(instructor, termCode)\n",
    "        units += sum([get_units(crn, termCode) for crn in CRN])\n",
    "    \n",
    "    return units"
   ]
  },
  {
   "cell_type": "code",
   "execution_count": null,
   "metadata": {},
   "outputs": [],
   "source": [
    "# Use threading, as we are making 3000 requests\n",
    "\n",
    "import concurrent.futures, threading\n",
    "thread_local = threading.local() \n",
    "\n",
    "def get_all_units(names): \n",
    "    with concurrent.futures.ThreadPoolExecutor(10) as executor:\n",
    "        units = executor.map(get_total_units, names)\n",
    "    return(units)\n",
    "\n",
    "def get_session():\n",
    "    if not hasattr(thread_local, \"session\"): \n",
    "        thread_local.session = requests.Session()\n",
    "    return thread_local.session"
   ]
  },
  {
   "cell_type": "code",
   "execution_count": null,
   "metadata": {},
   "outputs": [],
   "source": [
    "names = wage_table['LastName'].iloc[0:100]\n",
    "units = [int(i) for i in get_all_units(names)] # takes a while (2 minutes)"
   ]
  },
  {
   "cell_type": "code",
   "execution_count": null,
   "metadata": {},
   "outputs": [
    {
     "name": "stderr",
     "output_type": "stream",
     "text": [
      "C:\\Users\\my\\AppData\\Local\\Temp\\ipykernel_2816\\2986942827.py:2: SettingWithCopyWarning: \n",
      "A value is trying to be set on a copy of a slice from a DataFrame.\n",
      "Try using .loc[row_indexer,col_indexer] = value instead\n",
      "\n",
      "See the caveats in the documentation: https://pandas.pydata.org/pandas-docs/stable/user_guide/indexing.html#returning-a-view-versus-a-copy\n",
      "  full_table[\"Units\"] = units\n"
     ]
    },
    {
     "data": {
      "text/html": [
       "<div>\n",
       "<style scoped>\n",
       "    .dataframe tbody tr th:only-of-type {\n",
       "        vertical-align: middle;\n",
       "    }\n",
       "\n",
       "    .dataframe tbody tr th {\n",
       "        vertical-align: top;\n",
       "    }\n",
       "\n",
       "    .dataframe thead th {\n",
       "        text-align: right;\n",
       "    }\n",
       "</style>\n",
       "<table border=\"1\" class=\"dataframe\">\n",
       "  <thead>\n",
       "    <tr style=\"text-align: right;\">\n",
       "      <th></th>\n",
       "      <th>FirstName</th>\n",
       "      <th>LastName</th>\n",
       "      <th>Pay</th>\n",
       "      <th>Units</th>\n",
       "      <th>PayPerUnit</th>\n",
       "    </tr>\n",
       "  </thead>\n",
       "  <tbody>\n",
       "    <tr>\n",
       "      <th>1749</th>\n",
       "      <td>RICHARD</td>\n",
       "      <td>MARDER</td>\n",
       "      <td>552965.0</td>\n",
       "      <td>3</td>\n",
       "      <td>184321.666667</td>\n",
       "    </tr>\n",
       "    <tr>\n",
       "      <th>299</th>\n",
       "      <td>RICHARD</td>\n",
       "      <td>BOLD</td>\n",
       "      <td>532720.0</td>\n",
       "      <td>5</td>\n",
       "      <td>106544.000000</td>\n",
       "    </tr>\n",
       "    <tr>\n",
       "      <th>1270</th>\n",
       "      <td>SAMUEL</td>\n",
       "      <td>HWANG</td>\n",
       "      <td>732169.0</td>\n",
       "      <td>8</td>\n",
       "      <td>91521.125000</td>\n",
       "    </tr>\n",
       "    <tr>\n",
       "      <th>3034</th>\n",
       "      <td>THEODORE</td>\n",
       "      <td>WUN</td>\n",
       "      <td>535838.0</td>\n",
       "      <td>6</td>\n",
       "      <td>89306.333333</td>\n",
       "    </tr>\n",
       "    <tr>\n",
       "      <th>1555</th>\n",
       "      <td>PRIMO</td>\n",
       "      <td>LARA</td>\n",
       "      <td>591362.0</td>\n",
       "      <td>8</td>\n",
       "      <td>73920.250000</td>\n",
       "    </tr>\n",
       "    <tr>\n",
       "      <th>1348</th>\n",
       "      <td>JAYNE</td>\n",
       "      <td>JOO</td>\n",
       "      <td>537232.0</td>\n",
       "      <td>10</td>\n",
       "      <td>53723.200000</td>\n",
       "    </tr>\n",
       "  </tbody>\n",
       "</table>\n",
       "</div>"
      ],
      "text/plain": [
       "     FirstName LastName       Pay  Units     PayPerUnit\n",
       "1749   RICHARD   MARDER  552965.0      3  184321.666667\n",
       "299    RICHARD     BOLD  532720.0      5  106544.000000\n",
       "1270    SAMUEL    HWANG  732169.0      8   91521.125000\n",
       "3034  THEODORE      WUN  535838.0      6   89306.333333\n",
       "1555     PRIMO     LARA  591362.0      8   73920.250000\n",
       "1348     JAYNE      JOO  537232.0     10   53723.200000"
      ]
     },
     "metadata": {},
     "output_type": "display_data"
    }
   ],
   "source": [
    "full_table = wage_table.iloc[0:100, :]\n",
    "full_table[\"Units\"] = units\n",
    "full_table = full_table[full_table['Units']!=0] # remove zero cases\n",
    "full_table[\"PayPerUnit\"] = full_table[\"Pay\"] / full_table[\"Units\"]\n",
    "full_table = full_table.sort_values(by = 'PayPerUnit', ascending = False)\n",
    "full_table.head(n = 6)"
   ]
  },
  {
   "cell_type": "markdown",
   "metadata": {},
   "source": [
    "### Problem 3 : S&P 500 Market Cap [2 Points]\n",
    "\n",
    "It is of great interest to infer about the behaviour of econometric time series. Here, we want to scrape the historical S&P 500 market capitalization that is publicly available at [ycharts](https://ycharts.com/indicators/sp_500_market_cap). We will be extracting the market capitalization data from Dec 2016 to Dec 2022 using the package `BeautifulSoup`. "
   ]
  },
  {
   "cell_type": "markdown",
   "metadata": {
    "tags": [
     "exercise"
    ]
   },
   "source": [
    "#### Exercise\n",
    "\n",
    "a) Find the table that is displayed in your browser using the `find_all` method. Next, load the `BeautifulSoup` package and display the html for this table using \n",
    "`print(table_found.prettify())`, where `table_found` is the `BeautifulSoup` object corresponding to the table of interest."
   ]
  },
  {
   "cell_type": "markdown",
   "metadata": {
    "tags": [
     "exercise"
    ]
   },
   "source": [
    "__Hint:__ The first few lines after you type `print(table_found.prettify())` should looks like this:\n",
    "\n",
    "\n",
    "    <table class=\"table\">\n",
    "     <thead>\n",
    "      <tr>\n",
    "       <th>\n",
    "        Date\n",
    "       </th>\n",
    "       <th class=\"text-right\">\n",
    "        Value\n",
    "       </th>\n",
    "      </tr>\n",
    "      ..."
   ]
  },
  {
   "cell_type": "markdown",
   "metadata": {
    "tags": [
     "exercise"
    ]
   },
   "source": [
    "b) Find all of the table rows in this table that contain the market cap data from Dec 2016 to Dec 2022. Convert this into a `pandas.DataFrame` that contains a `date` variable and `market_cap` variable where `date` is a datetime object, and `market_cap` is a float. Plot this timeseries. The plot must have x-axis and y-axis and a title."
   ]
  },
  {
   "cell_type": "markdown",
   "metadata": {},
   "source": [
    "<span style=\"color:#F00\">Grading</span>\n",
    "\n",
    "* a) Fetch wage data for UC Davis professors\n",
    "    * Final output: 1 points\n",
    "\n",
    "* b) Fetch wage data for UC Davis professors\n",
    "    * Final output: 1 points"
   ]
  },
  {
   "cell_type": "code",
   "execution_count": 4,
   "metadata": {
    "tags": [
     "exercise"
    ]
   },
   "outputs": [
    {
     "name": "stdout",
     "output_type": "stream",
     "text": [
      "<table class=\"table\">\n",
      " <thead>\n",
      "  <tr>\n",
      "   <th>\n",
      "    Date\n",
      "   </th>\n",
      "   <th class=\"text-right\">\n",
      "    Value\n",
      "   </th>\n",
      "  </tr>\n",
      " </thead>\n",
      " <tbody>\n",
      "  <tr>\n",
      "   <td>\n",
      "    September 30, 2023\n",
      "   </td>\n",
      "   <td class=\"text-right\">\n",
      "    35.94T\n",
      "   </td>\n",
      "  </tr>\n",
      "  <tr>\n",
      "   <td>\n",
      "    June 30, 2023\n",
      "   </td>\n",
      "   <td class=\"text-right\">\n",
      "    37.16T\n",
      "   </td>\n",
      "  </tr>\n",
      "  <tr>\n",
      "   <td>\n",
      "    March 31, 2023\n",
      "   </td>\n",
      "   <td class=\"text-right\">\n",
      "    34.34T\n",
      "   </td>\n",
      "  </tr>\n",
      "  <tr>\n",
      "   <td>\n",
      "    December 31, 2022\n",
      "   </td>\n",
      "   <td class=\"text-right\">\n",
      "    32.13T\n",
      "   </td>\n",
      "  </tr>\n",
      "  <tr>\n",
      "   <td>\n",
      "    September 30, 2022\n",
      "   </td>\n",
      "   <td class=\"text-right\">\n",
      "    30.12T\n",
      "   </td>\n",
      "  </tr>\n",
      "  <tr>\n",
      "   <td>\n",
      "    June 30, 2022\n",
      "   </td>\n",
      "   <td class=\"text-right\">\n",
      "    31.90T\n",
      "   </td>\n",
      "  </tr>\n",
      "  <tr>\n",
      "   <td>\n",
      "    March 31, 2022\n",
      "   </td>\n",
      "   <td class=\"text-right\">\n",
      "    38.29T\n",
      "   </td>\n",
      "  </tr>\n",
      "  <tr>\n",
      "   <td>\n",
      "    December 31, 2021\n",
      "   </td>\n",
      "   <td class=\"text-right\">\n",
      "    40.36T\n",
      "   </td>\n",
      "  </tr>\n",
      "  <tr>\n",
      "   <td>\n",
      "    September 30, 2021\n",
      "   </td>\n",
      "   <td class=\"text-right\">\n",
      "    36.54T\n",
      "   </td>\n",
      "  </tr>\n",
      "  <tr>\n",
      "   <td>\n",
      "    June 30, 2021\n",
      "   </td>\n",
      "   <td class=\"text-right\">\n",
      "    36.32T\n",
      "   </td>\n",
      "  </tr>\n",
      "  <tr>\n",
      "   <td>\n",
      "    March 31, 2021\n",
      "   </td>\n",
      "   <td class=\"text-right\">\n",
      "    33.62T\n",
      "   </td>\n",
      "  </tr>\n",
      "  <tr>\n",
      "   <td>\n",
      "    December 31, 2020\n",
      "   </td>\n",
      "   <td class=\"text-right\">\n",
      "    31.66T\n",
      "   </td>\n",
      "  </tr>\n",
      "  <tr>\n",
      "   <td>\n",
      "    September 30, 2020\n",
      "   </td>\n",
      "   <td class=\"text-right\">\n",
      "    27.87T\n",
      "   </td>\n",
      "  </tr>\n",
      "  <tr>\n",
      "   <td>\n",
      "    June 30, 2020\n",
      "   </td>\n",
      "   <td class=\"text-right\">\n",
      "    25.64T\n",
      "   </td>\n",
      "  </tr>\n",
      "  <tr>\n",
      "   <td>\n",
      "    March 31, 2020\n",
      "   </td>\n",
      "   <td class=\"text-right\">\n",
      "    21.42T\n",
      "   </td>\n",
      "  </tr>\n",
      "  <tr>\n",
      "   <td>\n",
      "    December 31, 2019\n",
      "   </td>\n",
      "   <td class=\"text-right\">\n",
      "    26.76T\n",
      "   </td>\n",
      "  </tr>\n",
      "  <tr>\n",
      "   <td>\n",
      "    September 30, 2019\n",
      "   </td>\n",
      "   <td class=\"text-right\">\n",
      "    24.71T\n",
      "   </td>\n",
      "  </tr>\n",
      "  <tr>\n",
      "   <td>\n",
      "    June 30, 2019\n",
      "   </td>\n",
      "   <td class=\"text-right\">\n",
      "    24.42T\n",
      "   </td>\n",
      "  </tr>\n",
      "  <tr>\n",
      "   <td>\n",
      "    March 31, 2019\n",
      "   </td>\n",
      "   <td class=\"text-right\">\n",
      "    23.62T\n",
      "   </td>\n",
      "  </tr>\n",
      "  <tr>\n",
      "   <td>\n",
      "    December 31, 2018\n",
      "   </td>\n",
      "   <td class=\"text-right\">\n",
      "    21.03T\n",
      "   </td>\n",
      "  </tr>\n",
      "  <tr>\n",
      "   <td>\n",
      "    September 30, 2018\n",
      "   </td>\n",
      "   <td class=\"text-right\">\n",
      "    24.58T\n",
      "   </td>\n",
      "  </tr>\n",
      "  <tr>\n",
      "   <td>\n",
      "    June 30, 2018\n",
      "   </td>\n",
      "   <td class=\"text-right\">\n",
      "    23.04T\n",
      "   </td>\n",
      "  </tr>\n",
      "  <tr>\n",
      "   <td>\n",
      "    March 31, 2018\n",
      "   </td>\n",
      "   <td class=\"text-right\">\n",
      "    22.50T\n",
      "   </td>\n",
      "  </tr>\n",
      "  <tr>\n",
      "   <td>\n",
      "    December 31, 2017\n",
      "   </td>\n",
      "   <td class=\"text-right\">\n",
      "    22.82T\n",
      "   </td>\n",
      "  </tr>\n",
      "  <tr>\n",
      "   <td>\n",
      "    September 30, 2017\n",
      "   </td>\n",
      "   <td class=\"text-right\">\n",
      "    21.58T\n",
      "   </td>\n",
      "  </tr>\n",
      " </tbody>\n",
      "</table>\n",
      "\n"
     ]
    }
   ],
   "source": [
    "# a) \n",
    "import requests\n",
    "import lxml\n",
    "import numpy as np\n",
    "import pandas as pd\n",
    "from bs4 import BeautifulSoup\n",
    "\n",
    "headers = {'User-Agent': 'Mozilla/5.0 (Macintosh; Intel Mac OS X 10_11_5) AppleWebKit/537.36 (KHTML, like Gecko) Chrome/50.0.2661.102 Safari/537.36'}\n",
    "req = requests.get('https://ycharts.com/indicators/sp_500_market_cap', headers = headers)\n",
    "\n",
    "market_cap = BeautifulSoup(req.text,'lxml')\n",
    "table_found = market_cap.find_all('table')[5]\n",
    "\n",
    "print(table_found.prettify())"
   ]
  },
  {
   "cell_type": "code",
   "execution_count": 5,
   "metadata": {
    "tags": [
     "exercise"
    ]
   },
   "outputs": [
    {
     "data": {
      "text/plain": [
       "<AxesSubplot:title={'center':'Market cap since Dec 2016'}, xlabel='date'>"
      ]
     },
     "execution_count": 5,
     "metadata": {},
     "output_type": "execute_result"
    },
    {
     "data": {
      "image/png": "[encoded data removed]",
      "text/plain": [
       "<Figure size 640x480 with 1 Axes>"
      ]
     },
     "metadata": {},
     "output_type": "display_data"
    }
   ],
   "source": [
    "# b) \n",
    "\n",
    "tr_list = table_found.find_all('tr')\n",
    "\n",
    "def proc_tr(tr_val):\n",
    "    td_vals = tr_val.find_all('td')\n",
    "    date_val = pd.Timestamp(td_vals[0].text)\n",
    "    cap_val = float(td_vals[1].text.strip()[:-1])\n",
    "    return {'date': date_val, 'market_cap': cap_val}\n",
    "\n",
    "cap_data = pd.DataFrame(proc_tr(tr_val) for tr_val in tr_list[1:])\n",
    "\n",
    "cap_data.plot('date','market_cap', title = 'Market cap since Dec 2016')"
   ]
  }
 ],
 "metadata": {
  "kernelspec": {
   "display_name": "Python 3 (ipykernel)",
   "language": "python",
   "name": "python3"
  },
  "language_info": {
   "codemirror_mode": {
    "name": "ipython",
    "version": 3
   },
   "file_extension": ".py",
   "mimetype": "text/x-python",
   "name": "python",
   "nbconvert_exporter": "python",
   "pygments_lexer": "ipython3",
   "version": "3.9.13"
  }
 },
 "nbformat": 4,
 "nbformat_minor": 2
}
