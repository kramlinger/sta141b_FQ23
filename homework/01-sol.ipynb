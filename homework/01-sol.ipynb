{
 "cells": [
  {
   "cell_type": "markdown",
   "metadata": {},
   "source": [
    "# STA 141B Assignment 1\n",
    "\n",
    "Due __October 13, 2023__ by __11:59pm__. Submit your work by uploading it to Gradescope through Canvas.\n",
    "\n",
    "Please rename this file as __\"LastName_FirstName_hw1\"__ and export it as as pdf-file. \n",
    "\n",
    "The objective of this assignment is to solidify your understanding of programming fundamentals: defining functions, conditional statements, loops, and recursion. Subsequent assignments will delve deeper into data science topics.\n",
    "\n",
    "Instructions:\n",
    "\n",
    "1. Provide your solutions in new cells following each exercise description. Create as many new cells as necessary. Use code cells for your Python scripts and Markdown cells for explanatory text or answers to non-coding questions. Answer all textual questions in complete sentences.\n",
    "\n",
    "2. Prioritize code readability. Just as in writing a book, the clarity of each line matters. Adopt the __one-statement-per-line__ rule. If you have a lengthy code statement, consider breaking it into multiple lines for clarity. (Please note: violating the one-statement-per-line rule will result in a one-point deduction for each offending line.)\n",
    "\n",
    "3. To help understand and maintain code, you should always add comments to explain your code. Use the hash symbol (#) to start writing a comment (homework without any comments will automatically receive 0 points).\n",
    "\n",
    "4. Submit your final work as a __.pdf__ file on __Gradescope__. To convert your .ipynb file into one of these formats, navigate to \"File\", select \"Download as\", and then choose either \"PDF via LaTeX\" or \"HTML\". If \"PDF via LaTeX\" does not work for you, export to \"HTML\", and then use Chrome to print the .html file into PDF. Gradescope only accepts PDF files.\n",
    "\n",
    "5. This assignment will be graded on your proficiency in programming. Be sure to demonstrate your abilities and submit your own, correct and readable solutions. "
   ]
  },
  {
   "cell_type": "markdown",
   "metadata": {},
   "source": [
    "## Writing Functions\n",
    "\n",
    "__Exercise 1.a (2 points).__ Write a function `my_quantile` that takes a list of numbers as input and returns their 0.75-quantile (third quartile) as output. The 0.75-quantile is the value below which 75% of the data falls.\n",
    "\n",
    "Use the following method to implement the quantile:\n",
    "\n",
    "* Use the [median](https://en.wikipedia.org/wiki/Median) to divide the ordered data set into two-halves. Implement this fuction by yourself. \n",
    "* If there is an odd number of data points in the original ordered data set, '''do not include''' the median (the central value in the ordered list) in either half.\n",
    "* If there is an even number of data points in the original ordered data set, split this data set exactly in half.\n",
    "* The lower quartile value is the median of the lower half of the data. The upper quartile value is the median of the upper half of the data.\n",
    "\n",
    "_Hint: You may want to use the `sorted` function and appropriate indexing._\n",
    "\n",
    "__Exercise 1.b (2 points).__ For the function you wrote in Exercise 1.a, what happens if the input list is empty or contains non-numeric elements? Modify your function to handle these cases. Your updated function, named `better_quantile`, should return `None` for these unusual cases. Ensure that the function doesn't print the string \"None\" – the output should be genuinely empty in these cases.\n",
    "\n",
    "_Hint: Think about how you can check the type of each element in the list. A similar problem is discussed in [Section 6.8](http://greenteapress.com/thinkpython2/html/thinkpython2007.html#sec77) of Think Python._\n",
    "\n",
    "__Exercise 1.c (1 point).__ Familiarize yourself with writing docstrings by reading [Section 4.9](http://greenteapress.com/thinkpython2/html/thinkpython2005.html#sec50) of Think Python. Enhance your function from Exercise 1.b by adding a docstring that elucidates its purpose, input, and output. Name this function `best_quantile`. Illustrate that your docstring can be accessed using Python's inbuilt `help` function.\n"
   ]
  },
  {
   "cell_type": "markdown",
   "metadata": {},
   "source": [
    "---\n",
    "1.a\n",
    "\n",
    "<span style=\"color:#F00\">Grading</span>\n",
    "* function: -0.5 incorrect / -1.5 missing\n",
    "* two examples: -0.25 per missing"
   ]
  },
  {
   "cell_type": "code",
   "execution_count": 1,
   "metadata": {},
   "outputs": [
    {
     "name": "stdout",
     "output_type": "stream",
     "text": [
      "3.5\n",
      "8.0\n",
      "5\n"
     ]
    }
   ],
   "source": [
    "def my_quantile(x):\n",
    "    \"\"\"\n",
    "    Calculate the 0.75-quantile (third quartile) for a list of numbers.\n",
    "\n",
    "    Parameters:\n",
    "        x (list): List of numbers.\n",
    "\n",
    "    Returns:\n",
    "        float: The 0.75-quantile of the given numbers.\n",
    "    \"\"\"\n",
    "\n",
    "    x = sorted(x)\n",
    "    i = len(x) // 2\n",
    "\n",
    "    # If odd number of data points, remove the median\n",
    "    if len(x) % 2 != 0:\n",
    "        upper_half = x[i+1:]\n",
    "    else:\n",
    "        upper_half = x[i:]\n",
    "\n",
    "    # Calculate the median of the upper half\n",
    "    j = len(upper_half) // 2\n",
    "    if len(upper_half) % 2 == 0:\n",
    "        return (upper_half[j - 1] + upper_half[j]) / 2\n",
    "    else:\n",
    "        return upper_half[j]\n",
    "\n",
    "# Testing the function\n",
    "print(my_quantile([1, 2, 3, 4]))        # Upper half = [3,4], Median = 3.5\n",
    "print(my_quantile([1, 3, 5, 7, 9]))    # Upper half = [7,9], Median = 8.0\n",
    "print(my_quantile([1, 2, 3, 4, 5, 6])) # Upper half = [4,5,6], Median = 5\n"
   ]
  },
  {
   "cell_type": "markdown",
   "metadata": {},
   "source": [
    "---\n",
    "1.b\n",
    "\n",
    "<span style=\"color:#F00\">Grading</span>\n",
    "* -0.75 does not handle empty lists/tuples\n",
    "* -0.75 does not handle lists/tuples with non-numeric elements\n",
    "* -0.25 prints `\"None\"` instead of returning `None`\n",
    "* -0.25 returns `\"None\"` (the string) instead of `None`"
   ]
  },
  {
   "cell_type": "code",
   "execution_count": 2,
   "metadata": {},
   "outputs": [
    {
     "name": "stdout",
     "output_type": "stream",
     "text": [
      "None\n",
      "None\n",
      "6.0\n"
     ]
    }
   ],
   "source": [
    "def better_quantile(x):\n",
    "    \"\"\"\n",
    "    Calculate the 0.75-quantile (third quartile) for a list of numbers,\n",
    "    while handling cases where the list might be empty or contain non-numeric elements.\n",
    "\n",
    "    Parameters:\n",
    "        x (list): List of numbers.\n",
    "\n",
    "    Returns:\n",
    "        float or None: The 0.75-quantile of the given numbers or None for invalid input.\n",
    "    \"\"\"\n",
    "\n",
    "    # Check for an empty list\n",
    "    if not x:\n",
    "        return None\n",
    "\n",
    "    # Check for non-numeric elements in x.\n",
    "    for element in x:\n",
    "        if not (isinstance(element, int) or isinstance(element, float)):\n",
    "            return None\n",
    "\n",
    "    x = sorted(x)\n",
    "    i = len(x) // 2\n",
    "\n",
    "    # If odd number of data points, exclude the median\n",
    "    if len(x) % 2 != 0:\n",
    "        upper_half = x[i+1:]\n",
    "    else:\n",
    "        upper_half = x[i:]\n",
    "\n",
    "    # Calculate the median of the upper half\n",
    "    j = len(upper_half) // 2\n",
    "    if len(upper_half) % 2 == 0:\n",
    "        return (upper_half[j - 1] + upper_half[j]) / 2\n",
    "    else:\n",
    "        return upper_half[j]\n",
    "\n",
    "# Testing the function\n",
    "print(better_quantile([]))               # Should return None\n",
    "print(better_quantile(\"apple\"))          # Should return None\n",
    "print(better_quantile([1, 3, 5, 7]))    # Should return the 0.75-quantile of the list\n"
   ]
  },
  {
   "cell_type": "code",
   "execution_count": 3,
   "metadata": {},
   "outputs": [
    {
     "ename": "IndexError",
     "evalue": "list index out of range",
     "output_type": "error",
     "traceback": [
      "\u001b[1;31m---------------------------------------------------------------------------\u001b[0m",
      "\u001b[1;31mIndexError\u001b[0m                                Traceback (most recent call last)",
      "\u001b[1;32m~\\AppData\\Local\\Temp\\ipykernel_15940\\761864268.py\u001b[0m in \u001b[0;36m<module>\u001b[1;34m\u001b[0m\n\u001b[1;32m----> 1\u001b[1;33m \u001b[0mmy_quantile\u001b[0m\u001b[1;33m(\u001b[0m\u001b[1;33m[\u001b[0m\u001b[1;33m]\u001b[0m\u001b[1;33m)\u001b[0m\u001b[1;33m\u001b[0m\u001b[1;33m\u001b[0m\u001b[0m\n\u001b[0m",
      "\u001b[1;32m~\\AppData\\Local\\Temp\\ipykernel_15940\\4159725698.py\u001b[0m in \u001b[0;36mmy_quantile\u001b[1;34m(x)\u001b[0m\n\u001b[0;32m     22\u001b[0m     \u001b[0mj\u001b[0m \u001b[1;33m=\u001b[0m \u001b[0mlen\u001b[0m\u001b[1;33m(\u001b[0m\u001b[0mupper_half\u001b[0m\u001b[1;33m)\u001b[0m \u001b[1;33m//\u001b[0m \u001b[1;36m2\u001b[0m\u001b[1;33m\u001b[0m\u001b[1;33m\u001b[0m\u001b[0m\n\u001b[0;32m     23\u001b[0m     \u001b[1;32mif\u001b[0m \u001b[0mlen\u001b[0m\u001b[1;33m(\u001b[0m\u001b[0mupper_half\u001b[0m\u001b[1;33m)\u001b[0m \u001b[1;33m%\u001b[0m \u001b[1;36m2\u001b[0m \u001b[1;33m==\u001b[0m \u001b[1;36m0\u001b[0m\u001b[1;33m:\u001b[0m\u001b[1;33m\u001b[0m\u001b[1;33m\u001b[0m\u001b[0m\n\u001b[1;32m---> 24\u001b[1;33m         \u001b[1;32mreturn\u001b[0m \u001b[1;33m(\u001b[0m\u001b[0mupper_half\u001b[0m\u001b[1;33m[\u001b[0m\u001b[0mj\u001b[0m \u001b[1;33m-\u001b[0m \u001b[1;36m1\u001b[0m\u001b[1;33m]\u001b[0m \u001b[1;33m+\u001b[0m \u001b[0mupper_half\u001b[0m\u001b[1;33m[\u001b[0m\u001b[0mj\u001b[0m\u001b[1;33m]\u001b[0m\u001b[1;33m)\u001b[0m \u001b[1;33m/\u001b[0m \u001b[1;36m2\u001b[0m\u001b[1;33m\u001b[0m\u001b[1;33m\u001b[0m\u001b[0m\n\u001b[0m\u001b[0;32m     25\u001b[0m     \u001b[1;32melse\u001b[0m\u001b[1;33m:\u001b[0m\u001b[1;33m\u001b[0m\u001b[1;33m\u001b[0m\u001b[0m\n\u001b[0;32m     26\u001b[0m         \u001b[1;32mreturn\u001b[0m \u001b[0mupper_half\u001b[0m\u001b[1;33m[\u001b[0m\u001b[0mj\u001b[0m\u001b[1;33m]\u001b[0m\u001b[1;33m\u001b[0m\u001b[1;33m\u001b[0m\u001b[0m\n",
      "\u001b[1;31mIndexError\u001b[0m: list index out of range"
     ]
    }
   ],
   "source": [
    "my_quantile([])"
   ]
  },
  {
   "cell_type": "markdown",
   "metadata": {},
   "source": [
    "---\n",
    "1.c\n",
    "\n",
    "<span style=\"color:#F00\">Grading</span>\n",
    "* docstring: -0.25 incorrect / -0.5 missing\n",
    "* example: -0.25 for using anything other than `help()` or `?` to show the docstring / -0.5 missing"
   ]
  },
  {
   "cell_type": "code",
   "execution_count": null,
   "metadata": {},
   "outputs": [
    {
     "name": "stdout",
     "output_type": "stream",
     "text": [
      "Help on function best_quantile in module __main__:\n",
      "\n",
      "best_quantile(x)\n",
      "    Calculate the 0.75-quantile (third quartile) of a list of numbers.\n",
      "    \n",
      "    This function determines the 0.75-quantile of a list of numbers, \n",
      "    taking into consideration edge cases where the list might be empty \n",
      "    or contains non-numeric elements. In such scenarios, the function \n",
      "    returns None.\n",
      "    \n",
      "    Parameters:\n",
      "        x (list): List of numbers for which the 0.75-quantile is desired.\n",
      "    \n",
      "    Returns:\n",
      "        float or None: The 0.75-quantile of the given numbers or None for invalid input.\n",
      "    \n",
      "    Examples:\n",
      "    >>> best_quantile([1, 2, 3, 4])\n",
      "    3.5\n",
      "    >>> best_quantile([])\n",
      "    None\n",
      "    >>> best_quantile(\"apple\")\n",
      "    None\n",
      "\n"
     ]
    }
   ],
   "source": [
    "def best_quantile(x):\n",
    "    \"\"\"\n",
    "    Calculate the 0.75-quantile (third quartile) of a list of numbers.\n",
    "\n",
    "    This function determines the 0.75-quantile of a list of numbers,\n",
    "    taking into consideration edge cases where the list might be empty\n",
    "    or contains non-numeric elements. In such scenarios, the function\n",
    "    returns None.\n",
    "\n",
    "    Parameters:\n",
    "        x (list): List of numbers for which the 0.75-quantile is desired.\n",
    "\n",
    "    Returns:\n",
    "        float or None: The 0.75-quantile of the given numbers or None for invalid input.\n",
    "\n",
    "    Examples:\n",
    "    >>> best_quantile([1, 2, 3, 4])\n",
    "    3.5\n",
    "    >>> best_quantile([])\n",
    "    None\n",
    "    >>> best_quantile(\"apple\")\n",
    "    None\n",
    "    \"\"\"\n",
    "\n",
    "    # Check for an empty list\n",
    "    if not x:\n",
    "        return None\n",
    "\n",
    "    # Check for non-numeric elements in x.\n",
    "    for elt in x:\n",
    "        if not (isinstance(elt, int) or isinstance(elt, float)):\n",
    "            return None\n",
    "\n",
    "    x = sorted(x)\n",
    "    i = len(x) // 2\n",
    "\n",
    "    # If odd number of data points, exclude the median\n",
    "    if len(x) % 2 != 0:\n",
    "        upper_half = x[i+1:]\n",
    "    else:\n",
    "        upper_half = x[i:]\n",
    "\n",
    "    # Calculate the median of the upper half\n",
    "    j = len(upper_half) // 2\n",
    "    if len(upper_half) % 2 == 0:\n",
    "        return (upper_half[j - 1] + upper_half[j]) / 2\n",
    "    else:\n",
    "        return upper_half[j]\n",
    "\n",
    "# Accessing the docstring using Python's built-in help function\n",
    "help(best_quantile)\n"
   ]
  },
  {
   "cell_type": "markdown",
   "metadata": {
    "tags": [
     "exercise"
    ]
   },
   "source": [
    "## Fibonacci Words\n",
    "\n",
    "A [Fibonacci word](https://en.wikipedia.org/wiki/Fibonacci_word) is a specific sequence of 0s and 1s constructed by concatenating strings in a unique manner. The generation starts with:\n",
    "\n",
    "```\n",
    "S0 = \"0\"\n",
    "S1 = \"01\"\n",
    "```\n",
    "\n",
    "Subsequent sequences are produced by concatenating the previous two sequences. For instance, `S2` is derived from concatenating `S1` and `S0`, which results in:\n",
    "\n",
    "```\n",
    "S2 = \"010\"\n",
    "S3 = \"01001\"\n",
    "... and so forth.\n",
    "```\n",
    "\n",
    "__Exercise 2 (3 points).__\n",
    "\n",
    "**Task**: Write a function named `fib` that computes the Fibonacci words. Your function should accept an argument `n`, where `n` indicates the position of the Fibonacci word to compute. The command `fib(3)` should return `'01001'`.\n",
    "\n",
    "**Output**: Use your function to display the first 10 Fibonacci words. \n",
    "\n",
    "*Hint: You may find it helpful to use multiple assignment to swap the values of variables.*"
   ]
  },
  {
   "cell_type": "markdown",
   "metadata": {},
   "source": [
    "<span style=\"color:#F00\">Grading</span>\n",
    "* Function design:\n",
    "  * -0.5 for incorrect parameters.\n",
    "  * -1 for bugs in the function.\n",
    "  * -3 if missing entirely.\n",
    "* Example output:\n",
    "  * -0.5 for incorrect arguments.\n",
    "  * -1 if the first five words are displayed incorrectly.\n",
    "  * -3 if the example output is missing."
   ]
  },
  {
   "cell_type": "code",
   "execution_count": null,
   "metadata": {},
   "outputs": [],
   "source": [
    "def fib(n):\n",
    "    if n == 0:\n",
    "        return \"0\"\n",
    "    elif n == 1:\n",
    "        return \"01\"\n",
    "\n",
    "    prev = \"0\"\n",
    "    curr = \"01\"\n",
    "\n",
    "    for _ in range(2, n+1):\n",
    "        prev, curr = curr, curr + prev\n",
    "\n",
    "    return curr\n",
    "\n",
    "# Display the first 10 Fibonacci words\n",
    "for x in range(10):\n",
    "    print(f\"S{x} = {fib(x)}\")"
   ]
  },
  {
   "cell_type": "markdown",
   "metadata": {},
   "source": [
    "## Finding Exponential Roots\n",
    "\n",
    "The Newton-Raphson algorithm is an algorithm for finding the zeroes of a mathematical function. We can use the Newton-Raphson algorithm to find zeroes of the function\n",
    "\n",
    "$$\n",
    "f(x) = x^p e^x - c\n",
    "$$\n",
    "\n",
    "where $p$ and $c$ are constants. For example, if we choose $p = 2$ and $c = 5$, the Newton-Raphson algorithm finds solutions to\n",
    "\n",
    "$$\n",
    "0 = x^2e^x - 5\n",
    "$$\n",
    "\n",
    "In other words, we can use the algorithm to find square roots. By changing $p$, we can also find other kinds of exponential roots.\n",
    "\n",
    "\n",
    "The algorithm works by starting from an initial guess $x_0$ and then iteratively evaluating\n",
    "\n",
    "$$\n",
    "x_{n+1} = x_n - \\frac{f(x_n)}{f'(x_n)}\n",
    "$$\n",
    "\n",
    "for $n = 0, 1, 2, \\dots, N$ until reaching a result $X_{N+1}$ with acceptable accuracy. The initial guess does not need to be an excellent guess, but can affect which zero is found.\n",
    "\n",
    "For our specific function $f$, note that $f'(x) = (x+p)x^{p-1}e^x$.\n",
    "\n",
    "__Exercise 3 (7 points).__ Write a function `root` that uses the Newton-Raphson algorithm to compute one of the $p$-th roots for a constant $c$. Your function does not need to find complex roots, only real roots. Your function should have arguments\n",
    "\n",
    "* `c`, the constant,\n",
    "* `p`, the power,\n",
    "* `x0`, the initial guess,\n",
    "* `tol = 10e-4`, the tolerance with provided default value and \n",
    "* `N`, the maximum number of iterations. \n",
    "\n",
    "The function should iterate until converence, where we define convergence as `abs(x_new - x_old) < tol`. If no convergence occurs in `N` iterations, the function should print a warning. \n",
    "\n",
    "`root` should return the approximated x-value and the number of iterations in a tuple. \n",
    "\n",
    "__Test:__\n",
    "\n",
    "```\n",
    "> root(5, 2, -8)\n",
    "No convergence attained!\n",
    "(202.97084459397027, 100)\n",
    "```\n",
    "\n",
    "```\n",
    "> root(5, 2, -1)\n",
    "(1.2168715486319333, 8)\n",
    "```\n",
    "\n",
    "```\n",
    "> root(5, 2, 1)\n",
    "(1.2168714891788939, 4)\n",
    "```\n",
    "\n",
    "\n",
    "```\n",
    "> root(2, 2, 100, 0.1, 200)\n",
    "(0.9020685461433838, 110)\n",
    "```\n",
    "\n",
    "```\n",
    "> root(10, 10, -8)\n",
    "(-32.51417697618235, 14)\n",
    "```\n",
    "\n",
    "```\n",
    "> root(10, 10, -1)\n",
    "(1.1249754478019025, 10)\n",
    "```\n",
    "\n",
    "Run the test cases and report the return of the calls: `root(1, 2, 1)`, `root(0, 1, 1)` and `root(2, 1, -7)`. \n",
    "\n",
    "*Hint: You may find it helpful to define the function and its derivative using `lambda` functions. You may use `import numpy`, and `numpy.exp` and `numpy.log`. Also, remember that log-transforming can improve numerical stability!*\n"
   ]
  },
  {
   "cell_type": "markdown",
   "metadata": {},
   "source": [
    "<span style=\"color:#F00\">Grading</span>\n",
    "* Function design:\n",
    "  * -1 for incorrect parameters.\n",
    "  * -1.5 for bugs in the function.\n",
    "  * -1 for missing log-transforming derivative\n",
    "  * -3.5 if missing entirely.\n",
    "* Example output:\n",
    "  * -0.5 if the example output is missing.\n",
    "* Explanation:\n",
    "  * -1 if the explanation is missing."
   ]
  },
  {
   "cell_type": "markdown",
   "metadata": {},
   "source": [
    "We are looking for the root $x'$ such that $f(x')=0$. Since $f(x)\\overset{x\\rightarrow\\infty}{\\longrightarrow}\\infty$, $f(x)/f'(x)$ is positive for $x>x'$."
   ]
  },
  {
   "cell_type": "code",
   "execution_count": 596,
   "metadata": {},
   "outputs": [],
   "source": [
    "import numpy \n",
    "def root(c, p, x0, tol = 10e-6, N = 100):\n",
    "    f = lambda x: x**p*numpy.exp(x) - c\n",
    "    df = lambda x: x**(p-1)*(x+p)*(numpy.exp(x))\n",
    "    \n",
    "    # Initial guess\n",
    "    x = x0\n",
    "    xold = x + 2*tol\n",
    "    \n",
    "    counter = 0 \n",
    "    while abs(x - xold) > tol: \n",
    "        xold = x \n",
    "        if abs(df(x)) < 10e-6 or counter == N: # only update if derivative is not too close to zero\n",
    "            print('No convergence attained!')\n",
    "            break\n",
    "        else: \n",
    "            x = x - f(x) / df(x)\n",
    "            counter += 1\n",
    "\n",
    "    return (x, counter)"
   ]
  },
  {
   "cell_type": "code",
   "execution_count": 597,
   "metadata": {},
   "outputs": [],
   "source": [
    "import numpy\n",
    "def root2(c, p, x0, tol = 10e-4, N = 100):\n",
    "    \n",
    "    \n",
    "    # Define the function and its derivative\n",
    "    f = lambda x: x**p*numpy.exp(x) - c\n",
    "    lf = lambda x: np.log(abs(f(x)))\n",
    "    ldf = lambda x: (p-1)*numpy.log(abs(x)) + numpy.log(abs(x+p)) + x \n",
    "    \n",
    "    # first, establish the domain whether the algorithm goes right or left. \n",
    "    # This depends on whether p is even/odd. \n",
    "    def sign(x): # returns -1 for left, +1 for right\n",
    "        if f(x) > 0: return -1 # we go right if we have passed the root\n",
    "        if p % 2: # true if p is odd. Then, unique min at -p\n",
    "            if x>-p: return 1\n",
    "            else: return -1\n",
    "        else: # for p odd, f decreasing only on (-p,0)\n",
    "            if -p < x < 0: return -1\n",
    "            else: return 1\n",
    "        \n",
    "        \n",
    "        \n",
    "\n",
    "    # Initial guess\n",
    "    x = x0\n",
    "    xold = x + 2*tol\n",
    "    \n",
    "    counter = 0 \n",
    "    while abs(x - xold) > tol: \n",
    "        xold = x \n",
    "        if ldf(x) < numpy.log(10e-6) or counter == N: # only update if derivative is not too close to zero\n",
    "            print('No convergence attained!')\n",
    "            break\n",
    "        else: \n",
    "            x = x + sign(x) * numpy.exp(lf(x) - ldf(x))\n",
    "            counter += 1\n",
    "        #print(x)\n",
    "            \n",
    "    return (x, counter)"
   ]
  },
  {
   "cell_type": "code",
   "execution_count": 613,
   "metadata": {},
   "outputs": [
    {
     "name": "stdout",
     "output_type": "stream",
     "text": [
      "No convergence attained!\n"
     ]
    },
    {
     "data": {
      "text/plain": [
       "(-82.82147728061642, 3)"
      ]
     },
     "execution_count": 613,
     "metadata": {},
     "output_type": "execute_result"
    }
   ],
   "source": [
    "root(2, 5, -6)"
   ]
  },
  {
   "cell_type": "code",
   "execution_count": 599,
   "metadata": {},
   "outputs": [
    {
     "data": {
      "text/plain": [
       "(0.7034674225142582, 10)"
      ]
     },
     "execution_count": 599,
     "metadata": {},
     "output_type": "execute_result"
    }
   ],
   "source": [
    "root(1, 2, -5)"
   ]
  },
  {
   "cell_type": "code",
   "execution_count": 600,
   "metadata": {},
   "outputs": [
    {
     "name": "stdout",
     "output_type": "stream",
     "text": [
      "No convergence attained!\n"
     ]
    },
    {
     "data": {
      "text/plain": [
       "(-2, 0)"
      ]
     },
     "execution_count": 600,
     "metadata": {},
     "output_type": "execute_result"
    }
   ],
   "source": [
    "root(1, 2, -2)"
   ]
  },
  {
   "cell_type": "code",
   "execution_count": 601,
   "metadata": {},
   "outputs": [
    {
     "name": "stdout",
     "output_type": "stream",
     "text": [
      "No convergence attained!\n"
     ]
    },
    {
     "data": {
      "text/plain": [
       "(95.60130130868826, 100)"
      ]
     },
     "execution_count": 601,
     "metadata": {},
     "output_type": "execute_result"
    }
   ],
   "source": [
    "root(1, 2, -1.8)"
   ]
  },
  {
   "cell_type": "code",
   "execution_count": 612,
   "metadata": {},
   "outputs": [
    {
     "data": {
      "text/plain": [
       "(0.7034674225028554, 208)"
      ]
     },
     "execution_count": 612,
     "metadata": {},
     "output_type": "execute_result"
    }
   ],
   "source": [
    "root(1, 2, -1.8, N = 1_000)"
   ]
  },
  {
   "cell_type": "markdown",
   "metadata": {},
   "source": [
    "Other cases:"
   ]
  },
  {
   "cell_type": "code",
   "execution_count": 614,
   "metadata": {},
   "outputs": [
    {
     "data": {
      "text/plain": [
       "(0.7034674224983921, 5)"
      ]
     },
     "execution_count": 614,
     "metadata": {},
     "output_type": "execute_result"
    }
   ],
   "source": [
    "root(1, 2, 1)"
   ]
  },
  {
   "cell_type": "code",
   "execution_count": 615,
   "metadata": {},
   "outputs": [
    {
     "data": {
      "text/plain": [
       "(9.389621148813321e-14, 6)"
      ]
     },
     "execution_count": 615,
     "metadata": {},
     "output_type": "execute_result"
    }
   ],
   "source": [
    "root(0, 1, 1)"
   ]
  },
  {
   "cell_type": "code",
   "execution_count": 616,
   "metadata": {},
   "outputs": [
    {
     "name": "stdout",
     "output_type": "stream",
     "text": [
      "No convergence attained!\n"
     ]
    },
    {
     "data": {
      "text/plain": [
       "(-373.7110528094862, 1)"
      ]
     },
     "execution_count": 616,
     "metadata": {},
     "output_type": "execute_result"
    }
   ],
   "source": [
    "root(2, 1, -7)"
   ]
  }
 ],
 "metadata": {
  "celltoolbar": "Tags",
  "kernelspec": {
   "display_name": "Python 3 (ipykernel)",
   "language": "python",
   "name": "python3"
  },
  "language_info": {
   "codemirror_mode": {
    "name": "ipython",
    "version": 3
   },
   "file_extension": ".py",
   "mimetype": "text/x-python",
   "name": "python",
   "nbconvert_exporter": "python",
   "pygments_lexer": "ipython3",
   "version": "3.9.12"
  }
 },
 "nbformat": 4,
 "nbformat_minor": 2
}
