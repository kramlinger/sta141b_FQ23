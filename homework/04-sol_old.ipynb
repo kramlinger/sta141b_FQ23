{
 "cells": [
  {
   "cell_type": "markdown",
   "metadata": {},
   "source": [
    "<img src=\"../source/images/kandinsky.png\" alt=\"\" width=\"400\"/>\n",
    "\n",
    "# STA 220 Data & Web Technologies for Data Analysis\n",
    "\n",
    "## Homework 3\n",
    "\n",
    "\n",
    "Due __February 19 (Sunday), 2023__ by 11:59pm. Submit by editing this file, rename it to __\"LastName_FirstName_hw1\"__ and then uploading to Canvas twice, in __ipynb and html__ format! \n",
    "\n",
    "---\n",
    "Instructions: \n",
    "1. Put your answers in new cells after each exercise. You can make as many new cells as you like. Use code cells for code and Markdown cells for text. Answer all questions with complete sentences.\n",
    "\n",
    "2. Your code should be readable; writing a piece of code should be compared to writing a page of a book. Adopt the *one-statement-per-line* rule. The lenghth of your code may not exceed the maximum length of each cell for display. If your code is too long, split it into multiple lines to improve readability. \n",
    "\n",
    "3. To help understand and maintain code, you should always add comments to explain your code. Use the hash symbol (#) to start writing a comment. Uncommented solutions will not be graded. If you are writing a function, consider using a _docstring_ to add explanation. \n",
    "\n",
    "4. Do not clear your output so that we can see your answers without running all of the cells."
   ]
  },
  {
   "cell_type": "markdown",
   "metadata": {},
   "source": [
    "### Problem 1 : Getting to Philosophy [10 Points]\n",
    "\n",
    "Lets play a variation of the [wiki game](https://en.wikipedia.org/wiki/Wikipedia:Wiki_Game) to learn about [this](https://en.wikipedia.org/wiki/Wikipedia:Getting_to_Philosophy) phenomenon. The rules are as follows: \n",
    " - Start using the random article link (wiki menu on the left hand side)\n",
    " - Click on the first non-italicized link outside of parentheses \n",
    " - Ignore external links (e.g., `/wiki/File:...` or `/wiki/Category:...`), links to the current page\n",
    " - Stop when reaching \"Philosophy\", a dead end (page with no links) or when a loop occurs"
   ]
  },
  {
   "cell_type": "markdown",
   "metadata": {},
   "source": [
    "#### Exercise\n",
    "\n",
    "Write a function `play` that plays the game and stops if \"Philosophy\" is not reached after `maxiter = 1000` steps. This function should return information to compute the quantities below. \n",
    "\n",
    "Play the game $200$ times. Report \n",
    " - the mean number of sites visited per game, \n",
    " - the maximum number of sites visited per game,\n",
    " - and number of convergences to \"Philosophy\" and \n",
    " - the 20 most visited sites over all 200 games. \n",
    " \n",
    "You may want to use the module `lxml.html` and the function `tostring` `lxml.etree` or similar packages to to parse the html. Besides these, you are allowed to use `requests`, `re`, and `time`. To display the results, you may use `pandas` and its method `pandas.Series.value_counts()` or similar packages. You might find [regexr.com](https://regexr.com/) helpful. "
   ]
  },
  {
   "cell_type": "markdown",
   "metadata": {},
   "source": [
    "__Hint:__ Consider the results below from the function `play`, which takes the wiki-style url as argument and returns a dictionary. "
   ]
  },
  {
   "cell_type": "code",
   "execution_count": 38,
   "metadata": {},
   "outputs": [
    {
     "data": {
      "text/plain": [
       "['/wiki/Robert_Alfred_Tarlton',\n",
       " '/wiki/Birmingham',\n",
       " '/wiki/City_status_in_the_United_Kingdom',\n",
       " '/wiki/The_Crown',\n",
       " '/wiki/State_(polity)',\n",
       " '/wiki/Politics',\n",
       " '/wiki/Decision-making',\n",
       " '/wiki/Psychology',\n",
       " '/wiki/Science',\n",
       " '/wiki/Scientific_method',\n",
       " '/wiki/Empirical_evidence',\n",
       " '/wiki/Proposition',\n",
       " '/wiki/Philosophy_of_language',\n",
       " '/wiki/Analytic_philosophy',\n",
       " '/wiki/Academic_discipline',\n",
       " '/wiki/Knowledge',\n",
       " '/wiki/Descriptive_knowledge',\n",
       " '/wiki/Epistemology',\n",
       " '/wiki/Outline_of_philosophy',\n",
       " '/wiki/Philosophy']"
      ]
     },
     "execution_count": 38,
     "metadata": {},
     "output_type": "execute_result"
    }
   ],
   "source": [
    "play('/wiki/Robert_Alfred_Tarlton')['pages']"
   ]
  },
  {
   "cell_type": "code",
   "execution_count": 39,
   "metadata": {},
   "outputs": [
    {
     "data": {
      "text/plain": [
       "['/wiki/Riku_Morgan',\n",
       " '/wiki/Nigerian_Airforce',\n",
       " '/wiki/Nigerian_Armed_Forces',\n",
       " '/wiki/Military',\n",
       " '/wiki/Warfare',\n",
       " '/wiki/State_(polity)',\n",
       " '/wiki/Politics',\n",
       " '/wiki/Decision-making',\n",
       " '/wiki/Psychology',\n",
       " '/wiki/Science',\n",
       " '/wiki/Scientific_method',\n",
       " '/wiki/Empirical_evidence',\n",
       " '/wiki/Proposition',\n",
       " '/wiki/Philosophy_of_language',\n",
       " '/wiki/Analytic_philosophy',\n",
       " '/wiki/Academic_discipline',\n",
       " '/wiki/Knowledge',\n",
       " '/wiki/Descriptive_knowledge',\n",
       " '/wiki/Epistemology',\n",
       " '/wiki/Outline_of_philosophy',\n",
       " '/wiki/Philosophy']"
      ]
     },
     "execution_count": 39,
     "metadata": {},
     "output_type": "execute_result"
    }
   ],
   "source": [
    "play('/wiki/Riku_Morgan')['pages']"
   ]
  },
  {
   "cell_type": "code",
   "execution_count": 40,
   "metadata": {},
   "outputs": [
    {
     "data": {
      "text/plain": [
       "['/wiki/Brigade_Commander_(video_game)',\n",
       " '/wiki/Amiga_Action',\n",
       " '/wiki/Amiga',\n",
       " '/wiki/Personal_computer',\n",
       " '/wiki/Microcomputer',\n",
       " '/wiki/Computer',\n",
       " '/wiki/Machine',\n",
       " '/wiki/Power_(physics)',\n",
       " '/wiki/Physics',\n",
       " '/wiki/Natural_science',\n",
       " '/wiki/Branches_of_science',\n",
       " '/wiki/Sciences',\n",
       " '/wiki/Scientific_method',\n",
       " '/wiki/Empirical_evidence',\n",
       " '/wiki/Proposition',\n",
       " '/wiki/Philosophy_of_language',\n",
       " '/wiki/Analytic_philosophy',\n",
       " '/wiki/Academic_discipline',\n",
       " '/wiki/Knowledge',\n",
       " '/wiki/Descriptive_knowledge',\n",
       " '/wiki/Epistemology',\n",
       " '/wiki/Outline_of_philosophy',\n",
       " '/wiki/Philosophy']"
      ]
     },
     "execution_count": 40,
     "metadata": {},
     "output_type": "execute_result"
    }
   ],
   "source": [
    "play('/wiki/Brigade_Commander_(video_game)')['pages']"
   ]
  },
  {
   "cell_type": "code",
   "execution_count": 41,
   "metadata": {},
   "outputs": [
    {
     "data": {
      "text/plain": [
       "['/wiki/Exclusive_(TV_series)', '/wiki/Double_Vision_(company)']"
      ]
     },
     "execution_count": 41,
     "metadata": {},
     "output_type": "execute_result"
    }
   ],
   "source": [
    "play('/wiki/Exclusive_(TV_series)')['pages']"
   ]
  },
  {
   "cell_type": "markdown",
   "metadata": {},
   "source": [
    "__Solution:__ First, retrieve the `html`. Then, select all text paragraphs (there might be no link in the first one) and parse them back to text. Remove everything inside brackets/ italics in the string using `re`. Then, parse back to `html`. Safely search for the first link. Check if link is valid and points to a new wiki page. "
   ]
  },
  {
   "cell_type": "code",
   "execution_count": 1,
   "metadata": {},
   "outputs": [],
   "source": [
    "import lxml.html as lx\n",
    "import requests\n",
    "from lxml.etree import tostring\n",
    "import re \n",
    "import time\n",
    "\n",
    "def remove_italics_and_brackets(html_list): \n",
    "    'Removes everything between (...) or <i>...<\\/i>.'\n",
    "    processed_text = ''\n",
    "    for html in html_list: \n",
    "        text = tostring(html).decode('utf-8')\n",
    "        text = re.sub('(<i>.*?<\\/i>)', '', text) #remove italics\n",
    "\n",
    "        # iteratively remove all brackets with no other brackets inside\n",
    "        oldtext = ''\n",
    "        while oldtext != text: \n",
    "            oldtext = text\n",
    "            text = re.sub('(?<=[^_])\\(([^\\(]*?\\))', '', text) \n",
    "        # regex explanation: \n",
    "        # (?<=[^_])     matches only those strings who are not preceded by _, as in a wikilink\n",
    "        #    \\(         matches opening bracket, that... \n",
    "        #      (\n",
    "        #       [^\\(]*? does match an arbitrary number of non-opening bracket characters\n",
    "        #         \\)    and concludes with a closing bracket\n",
    "        #      )   \n",
    "        processed_text += text\n",
    "    return processed_text\n",
    "\n",
    "def first_anchor(html, url): \n",
    "    '''\n",
    "    Returns first link outside of (...) or <i>...<\\/i>, that does \n",
    "    not refer outside of wikipedia or to the same page. \n",
    "    '''\n",
    "    text = remove_italics_and_brackets(html)\n",
    "    html = lx.fromstring(text)\n",
    "    try: # there might be no link at all\n",
    "        links = html.xpath('//a/@href') # these links might not be valid! \n",
    "        for link in links:  \n",
    "            # check if the link goes outside of wikipedia or to, e.g., wiki/File:, ... \n",
    "            # regex explanation: Match everything that is \n",
    "            # (?<!org)      not preceded by org (this would link to wikimedia.org, ect),   \n",
    "            #   \\/wiki\\/     matches /wiki/,\n",
    "            #       (?!.*:)  that is not followed by an arbitrary amount of letters and ':'\n",
    "            if re.search('(?<!org)\\/wiki\\/(?!.*:)', link) is not None:  \n",
    "                # check if link links to same page (then link = url#something)\n",
    "                if url not in link: \n",
    "                    return link\n",
    "    except: \n",
    "        return None\n",
    "\n",
    "def get_link(url): \n",
    "    'Fetches first link on wiki page. '\n",
    "    response = requests.get('https://en.wikipedia.org' + url) # in wiki format \n",
    "    response.raise_for_status()\n",
    "    html = lx.fromstring(response.text) # Parse the HTML\n",
    "    try: #this should be all paragraphs, if existing\n",
    "        paras = html.xpath('//*[@id=\"mw-content-text\"]/div[1]/p|//*[@id=\"mw-content-text\"]/div[1]/ul')\n",
    "        link = first_anchor(paras, url)\n",
    "    except: # apparently, no para exists\n",
    "        link = None\n",
    "    return link\n",
    "    \n",
    "def get_first_link(): \n",
    "    'Return link from first random page in wiki format.'\n",
    "    response = requests.get('https://en.wikipedia.org/wiki/Special:Random')\n",
    "    return re.sub('https://en.wikipedia.org', '', response.url)\n",
    "\n",
    "def play(url = None, maxiter = 1000):\n",
    "    # start page\n",
    "    if url is None: \n",
    "        url = get_first_link()\n",
    "    pages = [url]\n",
    "    \n",
    "    exitcode = None\n",
    "    for i in range(0, maxiter): \n",
    "        time.sleep(0.05)\n",
    "        # get next link\n",
    "        link = get_link(url)\n",
    "        # no links to a page\n",
    "        if link is None:  \n",
    "            exitcode = 'deadend'\n",
    "            break\n",
    "        # loop \n",
    "        if pages.count(link) > 0: \n",
    "            exitcode = 'loop'\n",
    "            break \n",
    "        if link == '/wiki/Philosophy':\n",
    "            pages.append(link)\n",
    "            exitcode = 'philosophy'\n",
    "            break \n",
    "        url = link\n",
    "        pages.append(url)\n",
    "        \n",
    "    if exitcode is None: \n",
    "        exitcode = 'maxiter'\n",
    "\n",
    "    return {'pages': pages, 'exitcode': exitcode}\n",
    "\n",
    "def sim(nsim = 200): \n",
    "    'Plays the game nsim times. '\n",
    "    allpages = []\n",
    "    lengths = [None] * nsim\n",
    "    exitcodes = [None] * nsim\n",
    "    for i in range(0, nsim): \n",
    "        result = play()\n",
    "        allpages.extend(result['pages'])\n",
    "        lengths[i] = len(result['pages'])\n",
    "        exitcodes[i] = result['exitcode']\n",
    "    return [allpages, lengths, exitcodes]"
   ]
  },
  {
   "cell_type": "code",
   "execution_count": 3,
   "metadata": {},
   "outputs": [],
   "source": [
    "result = sim() # takes ~ 20 min, use sim(1) for a single result"
   ]
  },
  {
   "cell_type": "code",
   "execution_count": 6,
   "metadata": {},
   "outputs": [
    {
     "name": "stdout",
     "output_type": "stream",
     "text": [
      "18.595\n"
     ]
    }
   ],
   "source": [
    "import pandas as pd \n",
    "print(pd.Series(result[1]).mean()) "
   ]
  },
  {
   "cell_type": "code",
   "execution_count": 7,
   "metadata": {},
   "outputs": [
    {
     "name": "stdout",
     "output_type": "stream",
     "text": [
      "31\n"
     ]
    }
   ],
   "source": [
    "print(pd.Series(result[1]).max())"
   ]
  },
  {
   "cell_type": "code",
   "execution_count": 8,
   "metadata": {},
   "outputs": [
    {
     "data": {
      "text/plain": [
       "philosophy    186\n",
       "loop           13\n",
       "deadend         1\n",
       "dtype: int64"
      ]
     },
     "execution_count": 8,
     "metadata": {},
     "output_type": "execute_result"
    }
   ],
   "source": [
    "pd.Series(result[2]).value_counts()"
   ]
  },
  {
   "cell_type": "code",
   "execution_count": 9,
   "metadata": {},
   "outputs": [
    {
     "data": {
      "text/plain": [
       "/wiki/Philosophy                186\n",
       "/wiki/Outline_of_philosophy     167\n",
       "/wiki/Epistemology              167\n",
       "/wiki/Descriptive_knowledge     167\n",
       "/wiki/Knowledge                 167\n",
       "/wiki/Academic_discipline       143\n",
       "/wiki/Analytic_philosophy       142\n",
       "/wiki/Philosophy_of_language    142\n",
       "/wiki/Proposition               142\n",
       "/wiki/Empirical_evidence        142\n",
       "/wiki/Scientific_method         139\n",
       "/wiki/Science                   135\n",
       "/wiki/Branches_of_science        59\n",
       "/wiki/Psychology                 42\n",
       "/wiki/Politics                   31\n",
       "/wiki/Decision-making            31\n",
       "/wiki/Social_science             31\n",
       "/wiki/Physics                    28\n",
       "/wiki/Natural_science            28\n",
       "/wiki/Social_group               26\n",
       "dtype: int64"
      ]
     },
     "execution_count": 9,
     "metadata": {},
     "output_type": "execute_result"
    }
   ],
   "source": [
    "pd.Series(result[0]).value_counts().head(20)"
   ]
  }
 ],
 "metadata": {
  "kernelspec": {
   "display_name": "Python 3 (ipykernel)",
   "language": "python",
   "name": "python3"
  },
  "language_info": {
   "codemirror_mode": {
    "name": "ipython",
    "version": 3
   },
   "file_extension": ".py",
   "mimetype": "text/x-python",
   "name": "python",
   "nbconvert_exporter": "python",
   "pygments_lexer": "ipython3",
   "version": "3.9.13"
  }
 },
 "nbformat": 4,
 "nbformat_minor": 2
}
