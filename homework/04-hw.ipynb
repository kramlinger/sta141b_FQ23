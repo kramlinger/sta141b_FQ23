{
 "cells": [
  {
   "cell_type": "markdown",
   "metadata": {},
   "source": [
    "\n",
    "# STA 141B Assignment 3\n",
    "\n",
    "Due __Nov 24, 2023__ by __11:59pm__. Submit your work by uploading it to Gradescope through Canvas.\n",
    "\n",
    "Please rename this file as __\"LastName_FirstName_hw3\"__ and export it as as pdf-file. \n",
    "\n",
    "The objective of this assignment is acquire data via web APIs.  \n",
    "\n",
    "Instructions:\n",
    "\n",
    "1. Provide your solutions in new cells following each exercise description. Create as many new cells as necessary. Use code cells for your Python scripts and Markdown cells for explanatory text or answers to non-coding questions. Answer all textual questions in complete sentences.\n",
    "\n",
    "2. Prioritize code readability. Just as in writing a book, the clarity of each line matters. Adopt the __one-statement-per-line__ rule. If you have a lengthy code statement, consider breaking it into multiple lines for clarity. (Please note: violating the one-statement-per-line rule will result in a one-point deduction for each offending line.)\n",
    "\n",
    "3. To help understand and maintain code, you should always add comments to explain your code. Use the hash symbol (#) to start writing a comment (homework without any comments will automatically receive 0 points).\n",
    "\n",
    "4. Submit your final work as a __.pdf__ file on __Gradescope__. To convert your .ipynb file into one of these formats, navigate to \"File\", select \"Download as\", and then choose either \"PDF via LaTeX\" or \"HTML\". If \"PDF via LaTeX\" does not work for you, export to \"HTML\", and then use Chrome to print the .html file into PDF. Gradescope only accepts PDF files.\n",
    "\n",
    "5. On gradescope, mark the locations of your answers on your submission in order to facilitate grading.\n",
    "\n",
    "6. This assignment will be graded on your proficiency in programming. Be sure to demonstrate your abilities and submit your own, correct and readable solutions. "
   ]
  },
  {
   "cell_type": "markdown",
   "metadata": {},
   "source": [
    "### Problem 1 : Getting to Philosophy [10 Points]\n",
    "\n",
    "Lets play a variation of the [wiki game](https://en.wikipedia.org/wiki/Wikipedia:Wiki_Game) to learn about [this](https://en.wikipedia.org/wiki/Wikipedia:Getting_to_Philosophy) phenomenon. The rules are as follows: \n",
    " - Start using the random article link (wiki menu on the left hand side)\n",
    " - Click on the first non-italicized link outside of parentheses \n",
    " - Ignore external links (e.g., `/wiki/File:...` or `/wiki/Category:...`), links to the current page\n",
    " - Stop when reaching \"Philosophy\", a dead end (page with no links) or when a loop occurs"
   ]
  },
  {
   "cell_type": "markdown",
   "metadata": {},
   "source": [
    "#### Exercise\n",
    "\n",
    "Write a function `play` that plays the game and stops if \"Philosophy\" is not reached after `maxiter = 1000` steps. This function should return information to compute the quantities below. \n",
    "\n",
    "Play the game $200$ times. Then Report:\n",
    " - the mean number of sites visited per game, \n",
    " - the maximum number of sites visited per game,\n",
    " - and number of convergences to \"Philosophy\" and \n",
    " - the 20 most visited sites over all 200 games. \n",
    "\n",
    " __(The sample output does not include the results you need to report)__\n",
    " \n",
    "You may want to use the module `lxml.html` and the function `tostring` `lxml.etree` or similar packages to to parse the html. Besides these, you are allowed to use `requests`, `re`, and `time`. To display the results, you may use `pandas` and its method `pandas.Series.value_counts()` or similar packages. You might find [regexr.com](https://regexr.com/) helpful. "
   ]
  },
  {
   "cell_type": "markdown",
   "metadata": {},
   "source": [
    "__Hint for writing this function:__\n",
    "\n",
    "1. **Function Definition**: Define the `play` function that accepts a starting URL and a maximum number of iterations (`maxiter`).\n",
    "\n",
    "2. **HTTP Request**: Use the `requests` module to perform a GET request on the given URL.\n",
    "\n",
    "3. **HTML Parsing**: Parse the returned HTML content using `lxml.html` to find links.\n",
    "\n",
    "4. **Link Selection**: Define a regular expression using the `re` module to match the first non-italicized link outside of parentheses that is not an external link, a file link, a category link, or a link to the current page. This part is the most difficult part of this problem.\n",
    "\n",
    "5. **Game Loop**: Implement a loop that follows the selected link and repeats the process, while keeping track of visited sites and checking for \"Philosophy\", dead ends, or loops. Use a counter to ensure the loop stops after `maxiter` iterations.\n",
    "\n",
    "__Sample output for play() function:__"
   ]
  },
  {
   "cell_type": "code",
   "execution_count": 4,
   "metadata": {},
   "outputs": [
    {
     "data": {
      "text/plain": [
       "['/wiki/Robert_Alfred_Tarlton',\n",
       " '/wiki/Birmingham',\n",
       " '/wiki/City_status_in_the_United_Kingdom',\n",
       " '/wiki/The_Crown',\n",
       " '/wiki/State_(polity)',\n",
       " '/wiki/Politics',\n",
       " '/wiki/Decision-making',\n",
       " '/wiki/Psychology',\n",
       " '/wiki/Mind',\n",
       " '/wiki/Thought',\n",
       " '/wiki/Consciousness',\n",
       " '/wiki/Awareness',\n",
       " '/wiki/Philosophy']"
      ]
     },
     "execution_count": 4,
     "metadata": {},
     "output_type": "execute_result"
    }
   ],
   "source": [
    "play('/wiki/Robert_Alfred_Tarlton')['pages']"
   ]
  },
  {
   "cell_type": "code",
   "execution_count": 5,
   "metadata": {},
   "outputs": [
    {
     "data": {
      "text/plain": [
       "['/wiki/Riku_Morgan',\n",
       " '/wiki/Nigerian_Airforce',\n",
       " '/wiki/Nigerian_Armed_Forces',\n",
       " '/wiki/Military',\n",
       " '/wiki/Warfare',\n",
       " '/wiki/State_(polity)',\n",
       " '/wiki/Politics',\n",
       " '/wiki/Decision-making',\n",
       " '/wiki/Psychology',\n",
       " '/wiki/Mind',\n",
       " '/wiki/Thought',\n",
       " '/wiki/Consciousness',\n",
       " '/wiki/Awareness',\n",
       " '/wiki/Philosophy']"
      ]
     },
     "execution_count": 5,
     "metadata": {},
     "output_type": "execute_result"
    }
   ],
   "source": [
    "play('/wiki/Riku_Morgan')['pages']"
   ]
  },
  {
   "cell_type": "code",
   "execution_count": 6,
   "metadata": {},
   "outputs": [
    {
     "data": {
      "text/plain": [
       "['/wiki/Brigade_Commander_(video_game)',\n",
       " '/wiki/Amiga_Action',\n",
       " '/wiki/Amiga',\n",
       " '/wiki/Personal_computer',\n",
       " '/wiki/Microcomputer',\n",
       " '/wiki/Computer',\n",
       " '/wiki/Machine',\n",
       " '/wiki/Power_(physics)',\n",
       " '/wiki/Physics',\n",
       " '/wiki/Natural_science',\n",
       " '/wiki/Branches_of_science',\n",
       " '/wiki/Sciences',\n",
       " '/wiki/Scientific_method',\n",
       " '/wiki/Empirical_evidence',\n",
       " '/wiki/Proposition',\n",
       " '/wiki/Philosophy_of_language',\n",
       " '/wiki/Analytic_philosophy',\n",
       " '/wiki/Philosophical_tradition',\n",
       " '/wiki/Philosophy']"
      ]
     },
     "execution_count": 6,
     "metadata": {},
     "output_type": "execute_result"
    }
   ],
   "source": [
    "play('/wiki/Brigade_Commander_(video_game)')['pages']"
   ]
  },
  {
   "cell_type": "code",
   "execution_count": 7,
   "metadata": {},
   "outputs": [
    {
     "data": {
      "text/plain": [
       "['/wiki/Exclusive_(TV_series)', '/wiki/Double_Vision_(company)']"
      ]
     },
     "execution_count": 7,
     "metadata": {},
     "output_type": "execute_result"
    }
   ],
   "source": [
    "play('/wiki/Exclusive_(TV_series)')['pages']"
   ]
  }
 ],
 "metadata": {
  "kernelspec": {
   "display_name": "Python 3 (ipykernel)",
   "language": "python",
   "name": "python3"
  },
  "language_info": {
   "codemirror_mode": {
    "name": "ipython",
    "version": 3
   },
   "file_extension": ".py",
   "mimetype": "text/x-python",
   "name": "python",
   "nbconvert_exporter": "python",
   "pygments_lexer": "ipython3",
   "version": "3.9.12"
  }
 },
 "nbformat": 4,
 "nbformat_minor": 2
}
