{
 "cells": [
  {
   "cell_type": "markdown",
   "id": "9677a800",
   "metadata": {},
   "source": [
    "# Lab7 RegEx\n",
    "\n",
    "_TA:Xiangbo Mo_\n",
    "    \n",
    "_11/15/2023_"
   ]
  },
  {
   "cell_type": "markdown",
   "id": "2352d931",
   "metadata": {},
   "source": [
    "# RegEx\n",
    "\n",
    "A **RegEx**, or **Regular Expression**, is a sequence of characters that forms a search pattern.\n",
    "\n",
    "RegEx can be used to check if a string contains the specified search pattern."
   ]
  },
  {
   "cell_type": "code",
   "execution_count": 1,
   "id": "8f70b4e1",
   "metadata": {},
   "outputs": [],
   "source": [
    "import re"
   ]
  },
  {
   "cell_type": "code",
   "execution_count": 2,
   "id": "71d5d50e",
   "metadata": {},
   "outputs": [],
   "source": [
    "txt = \"To be, or not to be, that is the question.\\n\""
   ]
  },
  {
   "cell_type": "markdown",
   "id": "493d95e4",
   "metadata": {},
   "source": [
    "## 1 RegEx Functions"
   ]
  },
  {
   "cell_type": "markdown",
   "id": "1f784d7a",
   "metadata": {},
   "source": [
    "`findall()` returns a list containing all matches."
   ]
  },
  {
   "cell_type": "code",
   "execution_count": 3,
   "id": "8ed663c3",
   "metadata": {
    "scrolled": true
   },
   "outputs": [
    {
     "data": {
      "text/plain": [
       "['be', 'be']"
      ]
     },
     "execution_count": 3,
     "metadata": {},
     "output_type": "execute_result"
    }
   ],
   "source": [
    "# return a list containing every occurrence of \"be\"\n",
    "re.findall(\"be\", txt)"
   ]
  },
  {
   "cell_type": "markdown",
   "id": "05496293",
   "metadata": {},
   "source": [
    "`search()` searches the string for a match, and returns a Match object if there is a match. If there is more than one match, only the first occurrence of the match will be returned.\n",
    "\n",
    "The Match object has properties and methods used to retrieve information about the search.\n",
    "\n",
    "- `.start()` return the start position of the match\n",
    "\n",
    "- `.end()` return the end position of the match\n",
    "\n",
    "- `.span()` returns a tuple containing the start-, and end positions of the match\n",
    "\n",
    "- `.string` returns the string passed into the function\n",
    "\n",
    "- `.group()` returns the part of the string where there was a match\n"
   ]
  },
  {
   "cell_type": "code",
   "execution_count": 4,
   "id": "028bc608",
   "metadata": {
    "scrolled": false
   },
   "outputs": [
    {
     "data": {
      "text/plain": [
       "(33, 41)"
      ]
     },
     "execution_count": 4,
     "metadata": {},
     "output_type": "execute_result"
    }
   ],
   "source": [
    "# find the start and end position of the word \"question\"\n",
    "re.search(\"question\", txt).span()"
   ]
  },
  {
   "cell_type": "code",
   "execution_count": 5,
   "id": "a58088e7",
   "metadata": {},
   "outputs": [
    {
     "data": {
      "text/plain": [
       "'To be, or not to be, that is the question.\\n'"
      ]
     },
     "execution_count": 5,
     "metadata": {},
     "output_type": "execute_result"
    }
   ],
   "source": [
    "re.search(\"question\", txt).string"
   ]
  },
  {
   "cell_type": "code",
   "execution_count": 6,
   "id": "b489f5a5",
   "metadata": {
    "scrolled": true
   },
   "outputs": [
    {
     "data": {
      "text/plain": [
       "'question'"
      ]
     },
     "execution_count": 6,
     "metadata": {},
     "output_type": "execute_result"
    }
   ],
   "source": [
    "re.search(\"question\", txt).group()"
   ]
  },
  {
   "cell_type": "markdown",
   "id": "e1fd47cc",
   "metadata": {},
   "source": [
    "`split()` function returns a list where the string has been split at each match"
   ]
  },
  {
   "cell_type": "code",
   "execution_count": 7,
   "id": "7b543de7",
   "metadata": {},
   "outputs": [
    {
     "data": {
      "text/plain": [
       "['To be', ' or not to be', ' that is the question', '', '']"
      ]
     },
     "execution_count": 7,
     "metadata": {},
     "output_type": "execute_result"
    }
   ],
   "source": [
    "# split the string at every comma, period, and newline character\n",
    "re.split(\"[,.\\n]\", txt)"
   ]
  },
  {
   "cell_type": "markdown",
   "id": "ebadc98b",
   "metadata": {},
   "source": [
    "`sub()` function replaces the matches with the text of your choice"
   ]
  },
  {
   "cell_type": "code",
   "execution_count": 8,
   "id": "3de1c5f4",
   "metadata": {},
   "outputs": [
    {
     "data": {
      "text/plain": [
       "'To be\\n or not to be\\n that is the question.\\n'"
      ]
     },
     "execution_count": 8,
     "metadata": {},
     "output_type": "execute_result"
    }
   ],
   "source": [
    "# replace all commas with newline character\n",
    "re.sub(\",\", \"\\n\", txt)"
   ]
  },
  {
   "cell_type": "markdown",
   "id": "1dc09116",
   "metadata": {},
   "source": [
    "## 2 Metacharacters\n",
    "\n",
    "Metacharacters are characters with a special meaning."
   ]
  },
  {
   "cell_type": "markdown",
   "id": "0aab2365",
   "metadata": {},
   "source": [
    "- `[]`: A set of characters\n",
    "\n",
    "*Note*: In sets, `+`, `*`, `.`, `|`, `()`, `{}` has no special meaning."
   ]
  },
  {
   "cell_type": "code",
   "execution_count": 9,
   "id": "e85b9b13",
   "metadata": {},
   "outputs": [
    {
     "data": {
      "text/plain": [
       "['b', 'e', ',', 'b', 'e', ',', 'a', 'e', 'e', '.', '\\n']"
      ]
     },
     "execution_count": 9,
     "metadata": {},
     "output_type": "execute_result"
    }
   ],
   "source": [
    "# find all lower case characters between \"a\" and \"e\", comma \",\", period \".\" and newline character \"\\n\"\n",
    "re.findall(\"[a-e,.\\n]\", txt)"
   ]
  },
  {
   "cell_type": "code",
   "execution_count": 10,
   "id": "cc16120d",
   "metadata": {},
   "outputs": [
    {
     "data": {
      "text/plain": [
       "['T',\n",
       " 'o',\n",
       " ' ',\n",
       " ' ',\n",
       " 'o',\n",
       " 'r',\n",
       " ' ',\n",
       " 'n',\n",
       " 'o',\n",
       " 't',\n",
       " ' ',\n",
       " 't',\n",
       " 'o',\n",
       " ' ',\n",
       " ' ',\n",
       " 't',\n",
       " 'h',\n",
       " 't',\n",
       " ' ',\n",
       " 'i',\n",
       " 's',\n",
       " ' ',\n",
       " 't',\n",
       " 'h',\n",
       " ' ',\n",
       " 'q',\n",
       " 'u',\n",
       " 's',\n",
       " 't',\n",
       " 'i',\n",
       " 'o',\n",
       " 'n']"
      ]
     },
     "execution_count": 10,
     "metadata": {},
     "output_type": "execute_result"
    }
   ],
   "source": [
    "# find all matches that are not lower case characters between \"a\" and \"e\", comma \",\", period \".\", newline character \"\\n\"\n",
    "re.findall(\"[^a-e,.\\n]\", txt)"
   ]
  },
  {
   "cell_type": "markdown",
   "id": "be613e1d",
   "metadata": {},
   "source": [
    "- `.`: Any character (except newline character `\\n`)"
   ]
  },
  {
   "cell_type": "code",
   "execution_count": 11,
   "id": "e3f594d4",
   "metadata": {
    "scrolled": true
   },
   "outputs": [
    {
     "data": {
      "text/plain": [
       "['question']"
      ]
     },
     "execution_count": 11,
     "metadata": {},
     "output_type": "execute_result"
    }
   ],
   "source": [
    "# search for a sequence that starts with \"qu\", followed by 2 (any) characters, and ends with \"tion\"\n",
    "re.findall(\"qu..tion\", txt)"
   ]
  },
  {
   "cell_type": "markdown",
   "id": "f36a5dc3",
   "metadata": {},
   "source": [
    "- `*`: Zero or more occurrences\n",
    "\n",
    "- `+`: One or more occurrences\n",
    "\n",
    "- `?`: Zero or one occurrence\n",
    "\n",
    "- `{}`: Exactly the specified number of occurrences"
   ]
  },
  {
   "cell_type": "code",
   "execution_count": 12,
   "id": "a1e6f268",
   "metadata": {},
   "outputs": [
    {
     "data": {
      "text/plain": [
       "['question']"
      ]
     },
     "execution_count": 12,
     "metadata": {},
     "output_type": "execute_result"
    }
   ],
   "source": [
    "# search for a sequence that starts with \"qu\", followed by 0 or more (any) characters, and ends with \"tion\"\n",
    "re.findall(\"qu.*tion\", txt)"
   ]
  },
  {
   "cell_type": "code",
   "execution_count": 13,
   "id": "78a323fa",
   "metadata": {},
   "outputs": [
    {
     "data": {
      "text/plain": [
       "['question']"
      ]
     },
     "execution_count": 13,
     "metadata": {},
     "output_type": "execute_result"
    }
   ],
   "source": [
    "# search for a sequence that starts with \"qu\", followed by 1 or more (any) characters, and ends with \"tion\"\n",
    "re.findall(\"qu.+tion\", txt)"
   ]
  },
  {
   "cell_type": "code",
   "execution_count": 14,
   "id": "f1af52c3",
   "metadata": {},
   "outputs": [
    {
     "data": {
      "text/plain": [
       "[]"
      ]
     },
     "execution_count": 14,
     "metadata": {},
     "output_type": "execute_result"
    }
   ],
   "source": [
    "# search for a sequence that starts with \"qu\", followed by 0 or 1 (any) character, and ends with \"tion\"\n",
    "re.findall(\"qu.?tion\", txt)"
   ]
  },
  {
   "cell_type": "code",
   "execution_count": 15,
   "id": "05c0bbba",
   "metadata": {},
   "outputs": [
    {
     "data": {
      "text/plain": [
       "['question']"
      ]
     },
     "execution_count": 15,
     "metadata": {},
     "output_type": "execute_result"
    }
   ],
   "source": [
    "# search for a sequence that starts with \"qu\", followed by 2 (any) characters, and ends with \"tion\"\n",
    "re.findall(\"qu.{2}tion\", txt)"
   ]
  },
  {
   "cell_type": "markdown",
   "id": "786f7dfb",
   "metadata": {},
   "source": [
    "- `|`: Either or"
   ]
  },
  {
   "cell_type": "code",
   "execution_count": 16,
   "id": "9c10ed7e",
   "metadata": {},
   "outputs": [
    {
     "data": {
      "text/plain": [
       "['that', 'the']"
      ]
     },
     "execution_count": 16,
     "metadata": {},
     "output_type": "execute_result"
    }
   ],
   "source": [
    "# search for \"this\", \"that\", or \"the\"\n",
    "re.findall(\"this|that|the\", txt)"
   ]
  },
  {
   "cell_type": "markdown",
   "id": "abe26850",
   "metadata": {},
   "source": [
    "- `()`: Group constructs\n",
    "\n",
    "    + `(...)`: A _capturing group_ allows you to match a group and capture it in the result.\n",
    "    \n",
    "    + `(?:...)`: A _non-capturing group_ allows you to match a group without including it in the result.\n",
    "    \n",
    "    + `(?=...)`: A _positive lookahead_ allow you to match a group after the main expression without including it in the result.\n",
    "    \n",
    "    + `(?!...)`: A _negative lookahead_ specifies a group that can not be matched after the main expression.\n",
    "    \n",
    "    + `(?<=...)`: A _positive lookbehind_ allow you to match a group before the main expression without including it in the result.\n",
    "    \n",
    "    + `(?<!...)`: A _negative lookbehind_ specifies a group that can not be matched before the main expression."
   ]
  },
  {
   "cell_type": "code",
   "execution_count": 17,
   "id": "0e21a89e",
   "metadata": {
    "scrolled": true
   },
   "outputs": [
    {
     "data": {
      "text/plain": [
       "[('To be', 'not to be')]"
      ]
     },
     "execution_count": 17,
     "metadata": {},
     "output_type": "execute_result"
    }
   ],
   "source": [
    "# match and return \"To be\" and \"not to be\"\n",
    "re.findall(\"(To be).*(not to be)\", txt)"
   ]
  },
  {
   "cell_type": "code",
   "execution_count": 18,
   "id": "d7f56f4b",
   "metadata": {
    "scrolled": true
   },
   "outputs": [
    {
     "data": {
      "text/plain": [
       "['To be']"
      ]
     },
     "execution_count": 18,
     "metadata": {},
     "output_type": "execute_result"
    }
   ],
   "source": [
    "# match and return \"To be\", match but not return \"not to be\"\n",
    "re.findall(\"(To be).*(?:not to be)\", txt)"
   ]
  },
  {
   "cell_type": "code",
   "execution_count": 19,
   "id": "b660e963",
   "metadata": {
    "scrolled": false
   },
   "outputs": [
    {
     "data": {
      "text/plain": [
       "['question']"
      ]
     },
     "execution_count": 19,
     "metadata": {},
     "output_type": "execute_result"
    }
   ],
   "source": [
    "# find the word before the period \n",
    "re.findall(\"(\\w+)(?=\\.)\", txt) "
   ]
  },
  {
   "cell_type": "code",
   "execution_count": 20,
   "id": "7045274f",
   "metadata": {},
   "outputs": [
    {
     "data": {
      "text/plain": [
       "['be, that is the question.\\n']"
      ]
     },
     "execution_count": 20,
     "metadata": {},
     "output_type": "execute_result"
    }
   ],
   "source": [
    "# find the part of string that starts with \"be\" where this \"be\" is not following \"To \"\n",
    "re.findall(\"(?<!To )(be.*\\n)\", txt)"
   ]
  },
  {
   "cell_type": "markdown",
   "id": "3b9e933c",
   "metadata": {},
   "source": [
    "## 3 Special Sequences\n",
    "\n",
    "A special sequence is a `\\` followed by one of the characters, and has a special meaning."
   ]
  },
  {
   "cell_type": "markdown",
   "id": "b4912175",
   "metadata": {},
   "source": [
    "`\\d` returns a match where the string contains digits (0-9)\n",
    "\n",
    "`\\D` returns a match where the string does not contain digits"
   ]
  },
  {
   "cell_type": "code",
   "execution_count": 21,
   "id": "ffa8b931",
   "metadata": {},
   "outputs": [
    {
     "data": {
      "text/plain": [
       "['1', '8', '5', '3']"
      ]
     },
     "execution_count": 21,
     "metadata": {},
     "output_type": "execute_result"
    }
   ],
   "source": [
    "# find all digits \n",
    "re.findall(\"\\d\", \"Vincent van Gogh was born in 1853.\")"
   ]
  },
  {
   "cell_type": "markdown",
   "id": "5594c45e",
   "metadata": {},
   "source": [
    "`\\s` returns a match where the string contains a whitespace character (equivalent to `[\\r\\n\\t\\f\\v ]`)\n",
    "\n",
    "`\\S` returns a match where the string does not contain a whitespace character"
   ]
  },
  {
   "cell_type": "code",
   "execution_count": 22,
   "id": "e88928ec",
   "metadata": {
    "scrolled": true
   },
   "outputs": [
    {
     "data": {
      "text/plain": [
       "[' ', ' ', ' ', ' ', ' ', ' ', ' ', ' ', ' ', '\\n']"
      ]
     },
     "execution_count": 22,
     "metadata": {},
     "output_type": "execute_result"
    }
   ],
   "source": [
    "# find all whitespace characters\n",
    "re.findall(\"\\s\", txt)"
   ]
  },
  {
   "cell_type": "markdown",
   "id": "90d47ca3",
   "metadata": {},
   "source": [
    "`\\w` returns a match where the string contains any word character (characters from \"a\" to \"z\", \"A\" to \"Z\", digits 0-9, and the underscore character \"_\")\n",
    "\n",
    "`\\W` returns a match where the string does not contain any word character"
   ]
  },
  {
   "cell_type": "code",
   "execution_count": 23,
   "id": "e442965f",
   "metadata": {
    "scrolled": true
   },
   "outputs": [
    {
     "data": {
      "text/plain": [
       "['V',\n",
       " 'i',\n",
       " 'n',\n",
       " 'c',\n",
       " 'e',\n",
       " 'n',\n",
       " 't',\n",
       " 'v',\n",
       " 'a',\n",
       " 'n',\n",
       " 'G',\n",
       " 'o',\n",
       " 'g',\n",
       " 'h',\n",
       " 'w',\n",
       " 'a',\n",
       " 's',\n",
       " 'b',\n",
       " 'o',\n",
       " 'r',\n",
       " 'n',\n",
       " 'i',\n",
       " 'n',\n",
       " '1',\n",
       " '8',\n",
       " '5',\n",
       " '3']"
      ]
     },
     "execution_count": 23,
     "metadata": {},
     "output_type": "execute_result"
    }
   ],
   "source": [
    "# find all word characters\n",
    "re.findall(\"\\w\", \"Vincent van Gogh was born in 1853.\")"
   ]
  },
  {
   "cell_type": "markdown",
   "id": "7d06a1a1",
   "metadata": {},
   "source": [
    "## 4 Greedy and Lazy"
   ]
  },
  {
   "cell_type": "code",
   "execution_count": 24,
   "id": "9d3ba53f",
   "metadata": {},
   "outputs": [],
   "source": [
    "txt2 = 'a \"witch\" and her \"broom\" is one'"
   ]
  },
  {
   "cell_type": "markdown",
   "id": "6ed680a9",
   "metadata": {},
   "source": [
    "### Greedy mode\n",
    "\n",
    "In the greedy mode (by default) a quantified character is repeated as many times as possible."
   ]
  },
  {
   "cell_type": "code",
   "execution_count": 25,
   "id": "0ce3f9b5",
   "metadata": {
    "scrolled": false
   },
   "outputs": [
    {
     "data": {
      "text/plain": [
       "['witch\" and her \"broom']"
      ]
     },
     "execution_count": 25,
     "metadata": {},
     "output_type": "execute_result"
    }
   ],
   "source": [
    "re.findall('\"(.+)\"', txt2)"
   ]
  },
  {
   "cell_type": "code",
   "execution_count": 26,
   "id": "18c646a9",
   "metadata": {},
   "outputs": [],
   "source": [
    "from IPython.display import SVG\n",
    "\n",
    "def show_svg(url):\n",
    "    return SVG(url)"
   ]
  },
  {
   "cell_type": "code",
   "execution_count": 27,
   "id": "0af020b8",
   "metadata": {},
   "outputs": [
    {
     "data": {
      "image/svg+xml": [
       "<svg xmlns=\"http://www.w3.org/2000/svg\" width=\"463\" height=\"130\" viewBox=\"0 0 463 130\"><defs><style>@import url(https://fonts.googleapis.com/css?family=Open+Sans:bold,italic,bolditalic%7CPT+Mono);@font-face{font-family:'PT Mono';font-weight:700;font-style:normal;src:local('PT MonoBold'),url(/font/PTMonoBold.woff2) format('woff2'),url(/font/PTMonoBold.woff) format('woff'),url(/font/PTMonoBold.ttf) format('truetype')}</style></defs><g id=\"regexp\" fill=\"none\" fill-rule=\"evenodd\" stroke=\"none\" stroke-width=\"1\"><g id=\"witch_greedy1.svg\"><text id=\"a-&quot;witch&quot;-and-her-&quot;b\" fill=\"#AF6E24\" font-family=\"PTMono-Regular, PT Mono\" font-size=\"22\" font-weight=\"normal\"><tspan x=\"20\" y=\"112\">a &quot;witch&quot; and her &quot;broom&quot; is one</tspan></text><path id=\"Rectangle-1\" stroke=\"#DBAF88\" d=\"M45.5 50.5h14v76h-14z\"/><path id=\"--&quot;-----------------\" fill=\"#A7333A\" d=\"M52.004 60.441l-.328 5.496h-1.922l-.34-5.496h2.59zm4.559 0l-.329 5.496h-1.922l-.34-5.496h2.59z\"/><path id=\"Line\" fill=\"#C06334\" fill-rule=\"nonzero\" d=\"M53.5 8.5v22h6l-7 14-7-14h6v-22h2z\"/></g></g></svg>"
      ],
      "text/plain": [
       "<IPython.core.display.SVG object>"
      ]
     },
     "execution_count": 27,
     "metadata": {},
     "output_type": "execute_result"
    }
   ],
   "source": [
    "show_svg(\"https://javascript.info/article/regexp-greedy-and-lazy/witch_greedy1.svg\")"
   ]
  },
  {
   "cell_type": "code",
   "execution_count": 28,
   "id": "e209372f",
   "metadata": {},
   "outputs": [
    {
     "data": {
      "image/svg+xml": [
       "<svg xmlns=\"http://www.w3.org/2000/svg\" width=\"463\" height=\"130\" viewBox=\"0 0 463 130\"><defs><style>@import url(https://fonts.googleapis.com/css?family=Open+Sans:bold,italic,bolditalic%7CPT+Mono);@font-face{font-family:'PT Mono';font-weight:700;font-style:normal;src:local('PT MonoBold'),url(/font/PTMonoBold.woff2) format('woff2'),url(/font/PTMonoBold.woff) format('woff'),url(/font/PTMonoBold.ttf) format('truetype')}</style></defs><g id=\"regexp\" fill=\"none\" fill-rule=\"evenodd\" stroke=\"none\" stroke-width=\"1\"><g id=\"witch_greedy2.svg\"><text id=\"a-&quot;witch&quot;-and-her-&quot;b\" fill=\"#AF6E24\" font-family=\"PTMono-Regular, PT Mono\" font-size=\"22\" font-weight=\"normal\"><tspan x=\"20\" y=\"107\">a &quot;witch&quot; and her &quot;broom&quot; is one</tspan></text><path id=\"Rectangle-1\" stroke=\"#DBAF88\" d=\"M45.5 45.5h28v76h-28z\"/><path id=\"--&quot;.----------------\" fill=\"#A7333A\" d=\"M52.004 55.441l-.328 5.496h-1.922l-.34-5.496h2.59zm4.559 0l-.329 5.496h-1.922l-.34-5.496h2.59zM66.09 68.31c.265 0 .517.05.756.152.238.102.445.242.62.422.177.18.315.388.417.627.101.238.152.494.152.767 0 .266-.05.516-.152.75a1.95 1.95 0 01-1.793 1.184c-.274 0-.527-.05-.762-.152a1.967 1.967 0 01-1.031-1.032 1.866 1.866 0 01-.152-.75c0-.273.05-.529.152-.767a2.02 2.02 0 01.416-.627 1.895 1.895 0 011.377-.574z\"/><path id=\"Line\" fill=\"#C06334\" fill-rule=\"nonzero\" d=\"M55.5 25.5l14 7-14 7v-6h-8v-2h8v-6z\"/></g></g></svg>"
      ],
      "text/plain": [
       "<IPython.core.display.SVG object>"
      ]
     },
     "execution_count": 28,
     "metadata": {},
     "output_type": "execute_result"
    }
   ],
   "source": [
    "show_svg(\"https://javascript.info/article/regexp-greedy-and-lazy/witch_greedy2.svg\")"
   ]
  },
  {
   "cell_type": "code",
   "execution_count": 29,
   "id": "2f823c52",
   "metadata": {},
   "outputs": [
    {
     "data": {
      "image/svg+xml": [
       "<svg xmlns=\"http://www.w3.org/2000/svg\" width=\"463\" height=\"130\" viewBox=\"0 0 463 130\"><defs><style>@import url(https://fonts.googleapis.com/css?family=Open+Sans:bold,italic,bolditalic%7CPT+Mono);@font-face{font-family:'PT Mono';font-weight:700;font-style:normal;src:local('PT MonoBold'),url(/font/PTMonoBold.woff2) format('woff2'),url(/font/PTMonoBold.woff) format('woff'),url(/font/PTMonoBold.ttf) format('truetype')}</style></defs><g id=\"regexp\" fill=\"none\" fill-rule=\"evenodd\" stroke=\"none\" stroke-width=\"1\"><g id=\"witch_greedy3.svg\"><text id=\"a-&quot;witch&quot;-and-her-&quot;b\" fill=\"#AF6E24\" font-family=\"PTMono-Regular, PT Mono\" font-size=\"22\" font-weight=\"normal\"><tspan x=\"20\" y=\"107\">a &quot;witch&quot; and her &quot;broom&quot; is one</tspan></text><path id=\"Rectangle-1\" stroke=\"#DBAF88\" d=\"M45.5 45.5h401v76h-401z\"/><path id=\"--&quot;.................\" fill=\"#A7333A\" d=\"M52.004 55.441l-.328 5.496h-1.922l-.34-5.496h2.59zm4.559 0l-.329 5.496h-1.922l-.34-5.496h2.59zM66.09 68.31c.265 0 .517.05.756.152.238.102.445.242.62.422.177.18.315.388.417.627.101.238.152.494.152.767 0 .266-.05.516-.152.75a1.95 1.95 0 01-1.793 1.184c-.274 0-.527-.05-.762-.152a1.967 1.967 0 01-1.031-1.032 1.866 1.866 0 01-.152-.75c0-.273.05-.529.152-.767a2.02 2.02 0 01.416-.627 1.895 1.895 0 011.377-.574zm13.195 0c.266 0 .518.05.756.152s.445.242.621.422.315.388.416.627c.102.238.152.494.152.767 0 .266-.05.516-.152.75a1.95 1.95 0 01-1.793 1.184c-.273 0-.527-.05-.762-.152a1.967 1.967 0 01-1.03-1.032 1.866 1.866 0 01-.153-.75c0-.273.05-.529.152-.767a2.02 2.02 0 01.416-.627 1.895 1.895 0 011.377-.574zm13.195 0c.266 0 .518.05.756.152.239.102.446.242.621.422.176.18.315.388.416.627.102.238.153.494.153.767 0 .266-.051.516-.153.75a1.95 1.95 0 01-1.793 1.184c-.273 0-.527-.05-.761-.152a1.967 1.967 0 01-1.031-1.032 1.866 1.866 0 01-.153-.75c0-.273.05-.529.153-.767a2.02 2.02 0 01.416-.627 1.895 1.895 0 011.377-.574zm13.196 0c.265 0 .517.05.756.152.238.102.445.242.62.422.177.18.315.388.417.627.101.238.152.494.152.767 0 .266-.05.516-.152.75a1.95 1.95 0 01-1.793 1.184c-.274 0-.528-.05-.762-.152a1.967 1.967 0 01-1.031-1.032 1.866 1.866 0 01-.153-.75c0-.273.051-.529.153-.767a2.02 2.02 0 01.416-.627 1.895 1.895 0 011.377-.574zm13.195 0c.266 0 .518.05.756.152s.445.242.621.422.314.388.416.627c.102.238.152.494.152.767 0 .266-.05.516-.152.75a1.95 1.95 0 01-1.793 1.184c-.273 0-.527-.05-.762-.152a1.967 1.967 0 01-1.03-1.032 1.866 1.866 0 01-.153-.75c0-.273.05-.529.152-.767a2.02 2.02 0 01.416-.627 1.895 1.895 0 011.377-.574zm13.195 0c.266 0 .518.05.756.152.239.102.446.242.621.422.176.18.315.388.416.627.102.238.153.494.153.767 0 .266-.051.516-.153.75a1.95 1.95 0 01-1.793 1.184c-.273 0-.527-.05-.761-.152a1.967 1.967 0 01-1.032-1.032 1.866 1.866 0 01-.152-.75c0-.273.05-.529.152-.767a2.02 2.02 0 01.416-.627 1.895 1.895 0 011.377-.574zm13.196 0c.265 0 .517.05.756.152.238.102.445.242.62.422.176.18.315.388.417.627.101.238.152.494.152.767 0 .266-.05.516-.152.75a1.95 1.95 0 01-1.793 1.184c-.274 0-.528-.05-.762-.152a1.967 1.967 0 01-1.031-1.032 1.866 1.866 0 01-.153-.75c0-.273.051-.529.153-.767a2.02 2.02 0 01.416-.627 1.895 1.895 0 011.377-.574zm13.195 0c.266 0 .518.05.756.152s.445.242.621.422.314.388.416.627c.102.238.152.494.152.767 0 .266-.05.516-.152.75a1.95 1.95 0 01-1.793 1.184c-.273 0-.527-.05-.762-.152a1.967 1.967 0 01-1.03-1.032 1.866 1.866 0 01-.153-.75c0-.273.05-.529.152-.767a2.02 2.02 0 01.416-.627 1.895 1.895 0 011.377-.574zm13.195 0c.266 0 .518.05.756.152s.446.242.621.422c.176.18.315.388.416.627.102.238.153.494.153.767 0 .266-.051.516-.153.75a1.95 1.95 0 01-1.793 1.184c-.273 0-.527-.05-.761-.152a1.967 1.967 0 01-1.032-1.032 1.866 1.866 0 01-.152-.75c0-.273.05-.529.152-.767a2.02 2.02 0 01.416-.627 1.895 1.895 0 011.377-.574zm13.196 0c.265 0 .517.05.756.152.238.102.445.242.62.422.176.18.315.388.417.627.101.238.152.494.152.767 0 .266-.05.516-.152.75a1.95 1.95 0 01-1.793 1.184c-.274 0-.528-.05-.762-.152a1.967 1.967 0 01-1.031-1.032 1.866 1.866 0 01-.153-.75c0-.273.051-.529.153-.767a2.02 2.02 0 01.416-.627 1.895 1.895 0 011.377-.574zm13.195 0c.266 0 .518.05.756.152s.445.242.62.422c.177.18.315.388.417.627.102.238.152.494.152.767 0 .266-.05.516-.152.75a1.95 1.95 0 01-1.793 1.184c-.273 0-.527-.05-.762-.152a1.967 1.967 0 01-1.031-1.032 1.866 1.866 0 01-.152-.75c0-.273.05-.529.152-.767a2.02 2.02 0 01.416-.627 1.895 1.895 0 011.377-.574zm13.195 0c.266 0 .518.05.756.152s.445.242.621.422.315.388.416.627c.102.238.153.494.153.767 0 .266-.051.516-.153.75a1.95 1.95 0 01-1.793 1.184c-.273 0-.527-.05-.761-.152a1.967 1.967 0 01-1.032-1.032 1.866 1.866 0 01-.152-.75c0-.273.05-.529.152-.767a2.02 2.02 0 01.416-.627 1.895 1.895 0 011.377-.574zm13.196 0c.265 0 .517.05.755.152.239.102.446.242.622.422.175.18.314.388.416.627.101.238.152.494.152.767 0 .266-.05.516-.152.75a1.95 1.95 0 01-1.793 1.184c-.274 0-.528-.05-.762-.152a1.967 1.967 0 01-1.031-1.032 1.866 1.866 0 01-.153-.75c0-.273.051-.529.153-.767a2.02 2.02 0 01.416-.627 1.895 1.895 0 011.377-.574zm13.195 0c.266 0 .517.05.756.152.238.102.445.242.62.422.177.18.315.388.417.627.101.238.152.494.152.767 0 .266-.05.516-.152.75a1.95 1.95 0 01-1.793 1.184c-.274 0-.527-.05-.762-.152a1.967 1.967 0 01-1.031-1.032 1.866 1.866 0 01-.152-.75c0-.273.05-.529.152-.767a2.02 2.02 0 01.416-.627 1.895 1.895 0 011.377-.574zm13.195 0c.266 0 .518.05.756.152s.445.242.621.422.315.388.416.627c.102.238.153.494.153.767 0 .266-.051.516-.153.75a1.95 1.95 0 01-1.793 1.184c-.273 0-.527-.05-.761-.152a1.967 1.967 0 01-1.032-1.032 1.866 1.866 0 01-.152-.75c0-.273.05-.529.152-.767a2.02 2.02 0 01.416-.627 1.895 1.895 0 011.377-.574zm13.196 0c.265 0 .517.05.755.152.239.102.446.242.621.422.176.18.315.388.416.627.102.238.153.494.153.767 0 .266-.05.516-.152.75a1.95 1.95 0 01-1.793 1.184c-.274 0-.528-.05-.762-.152a1.967 1.967 0 01-1.031-1.032 1.866 1.866 0 01-.153-.75c0-.273.051-.529.153-.767a2.02 2.02 0 01.416-.627 1.895 1.895 0 011.377-.574zm13.195 0c.265 0 .517.05.756.152.238.102.445.242.62.422.177.18.315.388.417.627.101.238.152.494.152.767 0 .266-.05.516-.152.75a1.95 1.95 0 01-1.793 1.184c-.274 0-.527-.05-.762-.152a1.967 1.967 0 01-1.031-1.032 1.866 1.866 0 01-.152-.75c0-.273.05-.529.152-.767a2.02 2.02 0 01.416-.627 1.895 1.895 0 011.377-.574zm13.195 0c.266 0 .518.05.756.152s.445.242.621.422.315.388.416.627c.102.238.152.494.152.767 0 .266-.05.516-.152.75a1.95 1.95 0 01-1.793 1.184c-.273 0-.527-.05-.762-.152a1.967 1.967 0 01-1.03-1.032 1.866 1.866 0 01-.153-.75c0-.273.05-.529.152-.767a2.02 2.02 0 01.416-.627 1.895 1.895 0 011.377-.574zm13.195 0c.266 0 .518.05.756.152.239.102.446.242.621.422.176.18.315.388.416.627.102.238.153.494.153.767 0 .266-.051.516-.153.75a1.95 1.95 0 01-1.793 1.184c-.273 0-.527-.05-.761-.152a1.967 1.967 0 01-1.031-1.032 1.866 1.866 0 01-.153-.75c0-.273.05-.529.152-.767a2.02 2.02 0 01.417-.627 1.895 1.895 0 011.377-.574zm13.196 0c.265 0 .517.05.756.152.238.102.445.242.62.422.177.18.315.388.417.627.101.238.152.494.152.767 0 .266-.05.516-.152.75a1.95 1.95 0 01-1.793 1.184c-.274 0-.528-.05-.762-.152a1.967 1.967 0 01-1.031-1.032 1.866 1.866 0 01-.153-.75c0-.273.051-.529.153-.767a2.02 2.02 0 01.416-.627 1.895 1.895 0 011.377-.574zm13.195 0c.266 0 .518.05.756.152s.445.242.621.422.314.388.416.627c.102.238.152.494.152.767 0 .266-.05.516-.152.75a1.95 1.95 0 01-1.793 1.184c-.273 0-.527-.05-.762-.152a1.967 1.967 0 01-1.03-1.032 1.866 1.866 0 01-.153-.75c0-.273.05-.529.152-.767a2.02 2.02 0 01.416-.627 1.895 1.895 0 011.377-.574zm13.195 0c.266 0 .518.05.756.152.239.102.446.242.621.422.176.18.315.388.416.627.102.238.153.494.153.767 0 .266-.051.516-.153.75a1.95 1.95 0 01-1.793 1.184c-.273 0-.527-.05-.761-.152a1.967 1.967 0 01-1.032-1.032 1.866 1.866 0 01-.152-.75c0-.273.05-.529.152-.767a2.02 2.02 0 01.416-.627 1.895 1.895 0 011.377-.574zm13.196 0c.265 0 .517.05.756.152.238.102.445.242.62.422.176.18.315.388.417.627.101.238.152.494.152.767 0 .266-.05.516-.152.75a1.95 1.95 0 01-1.793 1.184c-.274 0-.528-.05-.762-.152a1.967 1.967 0 01-1.031-1.032 1.866 1.866 0 01-.153-.75c0-.273.051-.529.153-.767a2.02 2.02 0 01.416-.627 1.895 1.895 0 011.377-.574zm13.195 0c.266 0 .518.05.756.152s.445.242.621.422.314.388.416.627c.102.238.152.494.152.767 0 .266-.05.516-.152.75a1.95 1.95 0 01-1.793 1.184c-.273 0-.527-.05-.762-.152a1.967 1.967 0 01-1.03-1.032 1.866 1.866 0 01-.153-.75c0-.273.05-.529.152-.767a2.02 2.02 0 01.416-.627 1.895 1.895 0 011.377-.574zm13.195 0c.266 0 .518.05.756.152s.446.242.621.422c.176.18.315.388.416.627.102.238.153.494.153.767 0 .266-.051.516-.153.75a1.95 1.95 0 01-1.793 1.184c-.273 0-.527-.05-.761-.152a1.967 1.967 0 01-1.032-1.032 1.866 1.866 0 01-.152-.75c0-.273.05-.529.152-.767a2.02 2.02 0 01.416-.627 1.895 1.895 0 011.377-.574zm13.196 0c.265 0 .517.05.756.152.238.102.445.242.62.422.176.18.315.388.417.627.101.238.152.494.152.767 0 .266-.05.516-.152.75a1.95 1.95 0 01-1.793 1.184c-.274 0-.528-.05-.762-.152a1.967 1.967 0 01-1.031-1.032 1.866 1.866 0 01-.153-.75c0-.273.051-.529.153-.767a2.02 2.02 0 01.416-.627 1.895 1.895 0 011.377-.574zm13.195 0c.266 0 .518.05.756.152s.445.242.62.422c.177.18.315.388.417.627.102.238.152.494.152.767 0 .266-.05.516-.152.75a1.95 1.95 0 01-1.793 1.184c-.273 0-.527-.05-.762-.152a1.967 1.967 0 01-1.031-1.032 1.866 1.866 0 01-.152-.75c0-.273.05-.529.152-.767a2.02 2.02 0 01.416-.627 1.895 1.895 0 011.377-.574zm13.195 0c.266 0 .518.05.756.152s.445.242.621.422.315.388.416.627c.102.238.153.494.153.767 0 .266-.051.516-.153.75a1.95 1.95 0 01-1.793 1.184c-.273 0-.527-.05-.761-.152a1.967 1.967 0 01-1.032-1.032 1.866 1.866 0 01-.152-.75c0-.273.05-.529.152-.767a2.02 2.02 0 01.416-.627 1.895 1.895 0 011.377-.574zm13.196 0c.265 0 .517.05.755.152.239.102.446.242.622.422.175.18.314.388.416.627.101.238.152.494.152.767 0 .266-.05.516-.152.75a1.95 1.95 0 01-1.793 1.184c-.274 0-.528-.05-.762-.152a1.967 1.967 0 01-1.031-1.032 1.866 1.866 0 01-.153-.75c0-.273.051-.529.153-.767a2.02 2.02 0 01.416-.627 1.895 1.895 0 011.377-.574z\"/><path id=\"Line\" fill=\"#C06334\" fill-rule=\"nonzero\" d=\"M425.5 19.5l14 7-14 7v-6h-375v-2h375v-6z\"/></g></g></svg>"
      ],
      "text/plain": [
       "<IPython.core.display.SVG object>"
      ]
     },
     "execution_count": 29,
     "metadata": {},
     "output_type": "execute_result"
    }
   ],
   "source": [
    "show_svg(\"https://javascript.info/article/regexp-greedy-and-lazy/witch_greedy3.svg\")"
   ]
  },
  {
   "cell_type": "code",
   "execution_count": 30,
   "id": "3488de67",
   "metadata": {},
   "outputs": [
    {
     "data": {
      "image/svg+xml": [
       "<svg xmlns=\"http://www.w3.org/2000/svg\" width=\"463\" height=\"130\" viewBox=\"0 0 463 130\"><defs><style>@import url(https://fonts.googleapis.com/css?family=Open+Sans:bold,italic,bolditalic%7CPT+Mono);@font-face{font-family:'PT Mono';font-weight:700;font-style:normal;src:local('PT MonoBold'),url(/font/PTMonoBold.woff2) format('woff2'),url(/font/PTMonoBold.woff) format('woff'),url(/font/PTMonoBold.ttf) format('truetype')}</style></defs><g id=\"regexp\" fill=\"none\" fill-rule=\"evenodd\" stroke=\"none\" stroke-width=\"1\"><g id=\"witch_greedy4.svg\"><text id=\"a-&quot;witch&quot;-and-her-&quot;b\" fill=\"#AF6E24\" font-family=\"PTMono-Regular, PT Mono\" font-size=\"22\" font-weight=\"normal\"><tspan x=\"20\" y=\"107\">a &quot;witch&quot; and her &quot;broom&quot; is one</tspan></text><path id=\"Rectangle-1\" stroke=\"#DBAF88\" d=\"M45.5 45.5h383v76h-383z\"/><path id=\"--&quot;.................\" fill=\"#A7333A\" d=\"M52.004 55.441l-.328 5.496h-1.922l-.34-5.496h2.59zm4.559 0l-.329 5.496h-1.922l-.34-5.496h2.59zM66.09 68.31c.265 0 .517.05.756.152.238.102.445.242.62.422.177.18.315.388.417.627.101.238.152.494.152.767 0 .266-.05.516-.152.75a1.95 1.95 0 01-1.793 1.184c-.274 0-.527-.05-.762-.152a1.967 1.967 0 01-1.031-1.032 1.866 1.866 0 01-.152-.75c0-.273.05-.529.152-.767a2.02 2.02 0 01.416-.627 1.895 1.895 0 011.377-.574zm13.195 0c.266 0 .518.05.756.152s.445.242.621.422.315.388.416.627c.102.238.152.494.152.767 0 .266-.05.516-.152.75a1.95 1.95 0 01-1.793 1.184c-.273 0-.527-.05-.762-.152a1.967 1.967 0 01-1.03-1.032 1.866 1.866 0 01-.153-.75c0-.273.05-.529.152-.767a2.02 2.02 0 01.416-.627 1.895 1.895 0 011.377-.574zm13.195 0c.266 0 .518.05.756.152.239.102.446.242.621.422.176.18.315.388.416.627.102.238.153.494.153.767 0 .266-.051.516-.153.75a1.95 1.95 0 01-1.793 1.184c-.273 0-.527-.05-.761-.152a1.967 1.967 0 01-1.031-1.032 1.866 1.866 0 01-.153-.75c0-.273.05-.529.153-.767a2.02 2.02 0 01.416-.627 1.895 1.895 0 011.377-.574zm13.196 0c.265 0 .517.05.756.152.238.102.445.242.62.422.177.18.315.388.417.627.101.238.152.494.152.767 0 .266-.05.516-.152.75a1.95 1.95 0 01-1.793 1.184c-.274 0-.528-.05-.762-.152a1.967 1.967 0 01-1.031-1.032 1.866 1.866 0 01-.153-.75c0-.273.051-.529.153-.767a2.02 2.02 0 01.416-.627 1.895 1.895 0 011.377-.574zm13.195 0c.266 0 .518.05.756.152s.445.242.621.422.314.388.416.627c.102.238.152.494.152.767 0 .266-.05.516-.152.75a1.95 1.95 0 01-1.793 1.184c-.273 0-.527-.05-.762-.152a1.967 1.967 0 01-1.03-1.032 1.866 1.866 0 01-.153-.75c0-.273.05-.529.152-.767a2.02 2.02 0 01.416-.627 1.895 1.895 0 011.377-.574zm13.195 0c.266 0 .518.05.756.152.239.102.446.242.621.422.176.18.315.388.416.627.102.238.153.494.153.767 0 .266-.051.516-.153.75a1.95 1.95 0 01-1.793 1.184c-.273 0-.527-.05-.761-.152a1.967 1.967 0 01-1.032-1.032 1.866 1.866 0 01-.152-.75c0-.273.05-.529.152-.767a2.02 2.02 0 01.416-.627 1.895 1.895 0 011.377-.574zm13.196 0c.265 0 .517.05.756.152.238.102.445.242.62.422.176.18.315.388.417.627.101.238.152.494.152.767 0 .266-.05.516-.152.75a1.95 1.95 0 01-1.793 1.184c-.274 0-.528-.05-.762-.152a1.967 1.967 0 01-1.031-1.032 1.866 1.866 0 01-.153-.75c0-.273.051-.529.153-.767a2.02 2.02 0 01.416-.627 1.895 1.895 0 011.377-.574zm13.195 0c.266 0 .518.05.756.152s.445.242.621.422.314.388.416.627c.102.238.152.494.152.767 0 .266-.05.516-.152.75a1.95 1.95 0 01-1.793 1.184c-.273 0-.527-.05-.762-.152a1.967 1.967 0 01-1.03-1.032 1.866 1.866 0 01-.153-.75c0-.273.05-.529.152-.767a2.02 2.02 0 01.416-.627 1.895 1.895 0 011.377-.574zm13.195 0c.266 0 .518.05.756.152s.446.242.621.422c.176.18.315.388.416.627.102.238.153.494.153.767 0 .266-.051.516-.153.75a1.95 1.95 0 01-1.793 1.184c-.273 0-.527-.05-.761-.152a1.967 1.967 0 01-1.032-1.032 1.866 1.866 0 01-.152-.75c0-.273.05-.529.152-.767a2.02 2.02 0 01.416-.627 1.895 1.895 0 011.377-.574zm13.196 0c.265 0 .517.05.756.152.238.102.445.242.62.422.176.18.315.388.417.627.101.238.152.494.152.767 0 .266-.05.516-.152.75a1.95 1.95 0 01-1.793 1.184c-.274 0-.528-.05-.762-.152a1.967 1.967 0 01-1.031-1.032 1.866 1.866 0 01-.153-.75c0-.273.051-.529.153-.767a2.02 2.02 0 01.416-.627 1.895 1.895 0 011.377-.574zm13.195 0c.266 0 .518.05.756.152s.445.242.62.422c.177.18.315.388.417.627.102.238.152.494.152.767 0 .266-.05.516-.152.75a1.95 1.95 0 01-1.793 1.184c-.273 0-.527-.05-.762-.152a1.967 1.967 0 01-1.031-1.032 1.866 1.866 0 01-.152-.75c0-.273.05-.529.152-.767a2.02 2.02 0 01.416-.627 1.895 1.895 0 011.377-.574zm13.195 0c.266 0 .518.05.756.152s.445.242.621.422.315.388.416.627c.102.238.153.494.153.767 0 .266-.051.516-.153.75a1.95 1.95 0 01-1.793 1.184c-.273 0-.527-.05-.761-.152a1.967 1.967 0 01-1.032-1.032 1.866 1.866 0 01-.152-.75c0-.273.05-.529.152-.767a2.02 2.02 0 01.416-.627 1.895 1.895 0 011.377-.574zm13.196 0c.265 0 .517.05.755.152.239.102.446.242.622.422.175.18.314.388.416.627.101.238.152.494.152.767 0 .266-.05.516-.152.75a1.95 1.95 0 01-1.793 1.184c-.274 0-.528-.05-.762-.152a1.967 1.967 0 01-1.031-1.032 1.866 1.866 0 01-.153-.75c0-.273.051-.529.153-.767a2.02 2.02 0 01.416-.627 1.895 1.895 0 011.377-.574zm13.195 0c.266 0 .517.05.756.152.238.102.445.242.62.422.177.18.315.388.417.627.101.238.152.494.152.767 0 .266-.05.516-.152.75a1.95 1.95 0 01-1.793 1.184c-.274 0-.527-.05-.762-.152a1.967 1.967 0 01-1.031-1.032 1.866 1.866 0 01-.152-.75c0-.273.05-.529.152-.767a2.02 2.02 0 01.416-.627 1.895 1.895 0 011.377-.574zm13.195 0c.266 0 .518.05.756.152s.445.242.621.422.315.388.416.627c.102.238.153.494.153.767 0 .266-.051.516-.153.75a1.95 1.95 0 01-1.793 1.184c-.273 0-.527-.05-.761-.152a1.967 1.967 0 01-1.032-1.032 1.866 1.866 0 01-.152-.75c0-.273.05-.529.152-.767a2.02 2.02 0 01.416-.627 1.895 1.895 0 011.377-.574zm13.196 0c.265 0 .517.05.755.152.239.102.446.242.621.422.176.18.315.388.416.627.102.238.153.494.153.767 0 .266-.05.516-.152.75a1.95 1.95 0 01-1.793 1.184c-.274 0-.528-.05-.762-.152a1.967 1.967 0 01-1.031-1.032 1.866 1.866 0 01-.153-.75c0-.273.051-.529.153-.767a2.02 2.02 0 01.416-.627 1.895 1.895 0 011.377-.574zm13.195 0c.265 0 .517.05.756.152.238.102.445.242.62.422.177.18.315.388.417.627.101.238.152.494.152.767 0 .266-.05.516-.152.75a1.95 1.95 0 01-1.793 1.184c-.274 0-.527-.05-.762-.152a1.967 1.967 0 01-1.031-1.032 1.866 1.866 0 01-.152-.75c0-.273.05-.529.152-.767a2.02 2.02 0 01.416-.627 1.895 1.895 0 011.377-.574zm13.195 0c.266 0 .518.05.756.152s.445.242.621.422.315.388.416.627c.102.238.152.494.152.767 0 .266-.05.516-.152.75a1.95 1.95 0 01-1.793 1.184c-.273 0-.527-.05-.762-.152a1.967 1.967 0 01-1.03-1.032 1.866 1.866 0 01-.153-.75c0-.273.05-.529.152-.767a2.02 2.02 0 01.416-.627 1.895 1.895 0 011.377-.574zm13.195 0c.266 0 .518.05.756.152.239.102.446.242.621.422.176.18.315.388.416.627.102.238.153.494.153.767 0 .266-.051.516-.153.75a1.95 1.95 0 01-1.793 1.184c-.273 0-.527-.05-.761-.152a1.967 1.967 0 01-1.031-1.032 1.866 1.866 0 01-.153-.75c0-.273.05-.529.152-.767a2.02 2.02 0 01.417-.627 1.895 1.895 0 011.377-.574zm13.196 0c.265 0 .517.05.756.152.238.102.445.242.62.422.177.18.315.388.417.627.101.238.152.494.152.767 0 .266-.05.516-.152.75a1.95 1.95 0 01-1.793 1.184c-.274 0-.528-.05-.762-.152a1.967 1.967 0 01-1.031-1.032 1.866 1.866 0 01-.153-.75c0-.273.051-.529.153-.767a2.02 2.02 0 01.416-.627 1.895 1.895 0 011.377-.574zm13.195 0c.266 0 .518.05.756.152s.445.242.621.422.314.388.416.627c.102.238.152.494.152.767 0 .266-.05.516-.152.75a1.95 1.95 0 01-1.793 1.184c-.273 0-.527-.05-.762-.152a1.967 1.967 0 01-1.03-1.032 1.866 1.866 0 01-.153-.75c0-.273.05-.529.152-.767a2.02 2.02 0 01.416-.627 1.895 1.895 0 011.377-.574zm13.195 0c.266 0 .518.05.756.152.239.102.446.242.621.422.176.18.315.388.416.627.102.238.153.494.153.767 0 .266-.051.516-.153.75a1.95 1.95 0 01-1.793 1.184c-.273 0-.527-.05-.761-.152a1.967 1.967 0 01-1.032-1.032 1.866 1.866 0 01-.152-.75c0-.273.05-.529.152-.767a2.02 2.02 0 01.416-.627 1.895 1.895 0 011.377-.574zm13.196 0c.265 0 .517.05.756.152.238.102.445.242.62.422.176.18.315.388.417.627.101.238.152.494.152.767 0 .266-.05.516-.152.75a1.95 1.95 0 01-1.793 1.184c-.274 0-.528-.05-.762-.152a1.967 1.967 0 01-1.031-1.032 1.866 1.866 0 01-.153-.75c0-.273.051-.529.153-.767a2.02 2.02 0 01.416-.627 1.895 1.895 0 011.377-.574zm13.195 0c.266 0 .518.05.756.152s.445.242.621.422.314.388.416.627c.102.238.152.494.152.767 0 .266-.05.516-.152.75a1.95 1.95 0 01-1.793 1.184c-.273 0-.527-.05-.762-.152a1.967 1.967 0 01-1.03-1.032 1.866 1.866 0 01-.153-.75c0-.273.05-.529.152-.767a2.02 2.02 0 01.416-.627 1.895 1.895 0 011.377-.574zm13.195 0c.266 0 .518.05.756.152s.446.242.621.422c.176.18.315.388.416.627.102.238.153.494.153.767 0 .266-.051.516-.153.75a1.95 1.95 0 01-1.793 1.184c-.273 0-.527-.05-.761-.152a1.967 1.967 0 01-1.032-1.032 1.866 1.866 0 01-.152-.75c0-.273.05-.529.152-.767a2.02 2.02 0 01.416-.627 1.895 1.895 0 011.377-.574zm13.196 0c.265 0 .517.05.756.152.238.102.445.242.62.422.176.18.315.388.417.627.101.238.152.494.152.767 0 .266-.05.516-.152.75a1.95 1.95 0 01-1.793 1.184c-.274 0-.528-.05-.762-.152a1.967 1.967 0 01-1.031-1.032 1.866 1.866 0 01-.153-.75c0-.273.051-.529.153-.767a2.02 2.02 0 01.416-.627 1.895 1.895 0 011.377-.574zm13.195 0c.266 0 .518.05.756.152s.445.242.62.422c.177.18.315.388.417.627.102.238.152.494.152.767 0 .266-.05.516-.152.75a1.95 1.95 0 01-1.793 1.184c-.273 0-.527-.05-.762-.152a1.967 1.967 0 01-1.031-1.032 1.866 1.866 0 01-.152-.75c0-.273.05-.529.152-.767a2.02 2.02 0 01.416-.627 1.895 1.895 0 011.377-.574zm13.195 0c.266 0 .518.05.756.152s.445.242.621.422.315.388.416.627c.102.238.153.494.153.767 0 .266-.051.516-.153.75a1.95 1.95 0 01-1.793 1.184c-.273 0-.527-.05-.761-.152a1.967 1.967 0 01-1.032-1.032 1.866 1.866 0 01-.152-.75c0-.273.05-.529.152-.767a2.02 2.02 0 01.416-.627 1.895 1.895 0 011.377-.574z\"/><path id=\"Path\" fill=\"#478964\" d=\"M434.668 55.441l-.328 5.496h-1.922l-.34-5.496zM439.227 55.441l-.329 5.496h-1.921l-.34-5.496z\"/><path id=\"Line\" fill=\"#C06334\" fill-rule=\"nonzero\" d=\"M408.5 23.5l14 7-14 7v-6h-344v-2h344v-6z\"/><path id=\"Line\" stroke=\"#D1CFCD\" stroke-linecap=\"square\" d=\"M423.5 30.5h16\"/></g></g></svg>"
      ],
      "text/plain": [
       "<IPython.core.display.SVG object>"
      ]
     },
     "execution_count": 30,
     "metadata": {},
     "output_type": "execute_result"
    }
   ],
   "source": [
    "show_svg(\"https://javascript.info/article/regexp-greedy-and-lazy/witch_greedy4.svg\")"
   ]
  },
  {
   "cell_type": "code",
   "execution_count": 31,
   "id": "71b22c9d",
   "metadata": {},
   "outputs": [
    {
     "data": {
      "image/svg+xml": [
       "<svg xmlns=\"http://www.w3.org/2000/svg\" width=\"463\" height=\"130\" viewBox=\"0 0 463 130\"><defs><style>@import url(https://fonts.googleapis.com/css?family=Open+Sans:bold,italic,bolditalic%7CPT+Mono);@font-face{font-family:'PT Mono';font-weight:700;font-style:normal;src:local('PT MonoBold'),url(/font/PTMonoBold.woff2) format('woff2'),url(/font/PTMonoBold.woff) format('woff'),url(/font/PTMonoBold.ttf) format('truetype')}</style></defs><g id=\"regexp\" fill=\"none\" fill-rule=\"evenodd\" stroke=\"none\" stroke-width=\"1\"><g id=\"witch_greedy5.svg\"><text id=\"a-&quot;witch&quot;-and-her-&quot;b\" fill=\"#AF6E24\" font-family=\"PTMono-Regular, PT Mono\" font-size=\"22\" font-weight=\"normal\"><tspan x=\"20\" y=\"107\">a &quot;witch&quot; and her &quot;broom&quot; is one</tspan></text><path id=\"Rectangle-1\" stroke=\"#DBAF88\" d=\"M45.5 45.5h370v76h-370z\"/><path id=\"--&quot;.................\" fill=\"#A7333A\" d=\"M52.004 55.441l-.328 5.496h-1.922l-.34-5.496h2.59zm4.559 0l-.329 5.496h-1.922l-.34-5.496h2.59zM66.09 68.31c.265 0 .517.05.756.152.238.102.445.242.62.422.177.18.315.388.417.627.101.238.152.494.152.767 0 .266-.05.516-.152.75a1.95 1.95 0 01-1.793 1.184c-.274 0-.527-.05-.762-.152a1.967 1.967 0 01-1.031-1.032 1.866 1.866 0 01-.152-.75c0-.273.05-.529.152-.767a2.02 2.02 0 01.416-.627 1.895 1.895 0 011.377-.574zm13.195 0c.266 0 .518.05.756.152s.445.242.621.422.315.388.416.627c.102.238.152.494.152.767 0 .266-.05.516-.152.75a1.95 1.95 0 01-1.793 1.184c-.273 0-.527-.05-.762-.152a1.967 1.967 0 01-1.03-1.032 1.866 1.866 0 01-.153-.75c0-.273.05-.529.152-.767a2.02 2.02 0 01.416-.627 1.895 1.895 0 011.377-.574zm13.195 0c.266 0 .518.05.756.152.239.102.446.242.621.422.176.18.315.388.416.627.102.238.153.494.153.767 0 .266-.051.516-.153.75a1.95 1.95 0 01-1.793 1.184c-.273 0-.527-.05-.761-.152a1.967 1.967 0 01-1.031-1.032 1.866 1.866 0 01-.153-.75c0-.273.05-.529.153-.767a2.02 2.02 0 01.416-.627 1.895 1.895 0 011.377-.574zm13.196 0c.265 0 .517.05.756.152.238.102.445.242.62.422.177.18.315.388.417.627.101.238.152.494.152.767 0 .266-.05.516-.152.75a1.95 1.95 0 01-1.793 1.184c-.274 0-.528-.05-.762-.152a1.967 1.967 0 01-1.031-1.032 1.866 1.866 0 01-.153-.75c0-.273.051-.529.153-.767a2.02 2.02 0 01.416-.627 1.895 1.895 0 011.377-.574zm13.195 0c.266 0 .518.05.756.152s.445.242.621.422.314.388.416.627c.102.238.152.494.152.767 0 .266-.05.516-.152.75a1.95 1.95 0 01-1.793 1.184c-.273 0-.527-.05-.762-.152a1.967 1.967 0 01-1.03-1.032 1.866 1.866 0 01-.153-.75c0-.273.05-.529.152-.767a2.02 2.02 0 01.416-.627 1.895 1.895 0 011.377-.574zm13.195 0c.266 0 .518.05.756.152.239.102.446.242.621.422.176.18.315.388.416.627.102.238.153.494.153.767 0 .266-.051.516-.153.75a1.95 1.95 0 01-1.793 1.184c-.273 0-.527-.05-.761-.152a1.967 1.967 0 01-1.032-1.032 1.866 1.866 0 01-.152-.75c0-.273.05-.529.152-.767a2.02 2.02 0 01.416-.627 1.895 1.895 0 011.377-.574zm13.196 0c.265 0 .517.05.756.152.238.102.445.242.62.422.176.18.315.388.417.627.101.238.152.494.152.767 0 .266-.05.516-.152.75a1.95 1.95 0 01-1.793 1.184c-.274 0-.528-.05-.762-.152a1.967 1.967 0 01-1.031-1.032 1.866 1.866 0 01-.153-.75c0-.273.051-.529.153-.767a2.02 2.02 0 01.416-.627 1.895 1.895 0 011.377-.574zm13.195 0c.266 0 .518.05.756.152s.445.242.621.422.314.388.416.627c.102.238.152.494.152.767 0 .266-.05.516-.152.75a1.95 1.95 0 01-1.793 1.184c-.273 0-.527-.05-.762-.152a1.967 1.967 0 01-1.03-1.032 1.866 1.866 0 01-.153-.75c0-.273.05-.529.152-.767a2.02 2.02 0 01.416-.627 1.895 1.895 0 011.377-.574zm13.195 0c.266 0 .518.05.756.152s.446.242.621.422c.176.18.315.388.416.627.102.238.153.494.153.767 0 .266-.051.516-.153.75a1.95 1.95 0 01-1.793 1.184c-.273 0-.527-.05-.761-.152a1.967 1.967 0 01-1.032-1.032 1.866 1.866 0 01-.152-.75c0-.273.05-.529.152-.767a2.02 2.02 0 01.416-.627 1.895 1.895 0 011.377-.574zm13.196 0c.265 0 .517.05.756.152.238.102.445.242.62.422.176.18.315.388.417.627.101.238.152.494.152.767 0 .266-.05.516-.152.75a1.95 1.95 0 01-1.793 1.184c-.274 0-.528-.05-.762-.152a1.967 1.967 0 01-1.031-1.032 1.866 1.866 0 01-.153-.75c0-.273.051-.529.153-.767a2.02 2.02 0 01.416-.627 1.895 1.895 0 011.377-.574zm13.195 0c.266 0 .518.05.756.152s.445.242.62.422c.177.18.315.388.417.627.102.238.152.494.152.767 0 .266-.05.516-.152.75a1.95 1.95 0 01-1.793 1.184c-.273 0-.527-.05-.762-.152a1.967 1.967 0 01-1.031-1.032 1.866 1.866 0 01-.152-.75c0-.273.05-.529.152-.767a2.02 2.02 0 01.416-.627 1.895 1.895 0 011.377-.574zm13.195 0c.266 0 .518.05.756.152s.445.242.621.422.315.388.416.627c.102.238.153.494.153.767 0 .266-.051.516-.153.75a1.95 1.95 0 01-1.793 1.184c-.273 0-.527-.05-.761-.152a1.967 1.967 0 01-1.032-1.032 1.866 1.866 0 01-.152-.75c0-.273.05-.529.152-.767a2.02 2.02 0 01.416-.627 1.895 1.895 0 011.377-.574zm13.196 0c.265 0 .517.05.755.152.239.102.446.242.622.422.175.18.314.388.416.627.101.238.152.494.152.767 0 .266-.05.516-.152.75a1.95 1.95 0 01-1.793 1.184c-.274 0-.528-.05-.762-.152a1.967 1.967 0 01-1.031-1.032 1.866 1.866 0 01-.153-.75c0-.273.051-.529.153-.767a2.02 2.02 0 01.416-.627 1.895 1.895 0 011.377-.574zm13.195 0c.266 0 .517.05.756.152.238.102.445.242.62.422.177.18.315.388.417.627.101.238.152.494.152.767 0 .266-.05.516-.152.75a1.95 1.95 0 01-1.793 1.184c-.274 0-.527-.05-.762-.152a1.967 1.967 0 01-1.031-1.032 1.866 1.866 0 01-.152-.75c0-.273.05-.529.152-.767a2.02 2.02 0 01.416-.627 1.895 1.895 0 011.377-.574zm13.195 0c.266 0 .518.05.756.152s.445.242.621.422.315.388.416.627c.102.238.153.494.153.767 0 .266-.051.516-.153.75a1.95 1.95 0 01-1.793 1.184c-.273 0-.527-.05-.761-.152a1.967 1.967 0 01-1.032-1.032 1.866 1.866 0 01-.152-.75c0-.273.05-.529.152-.767a2.02 2.02 0 01.416-.627 1.895 1.895 0 011.377-.574zm13.196 0c.265 0 .517.05.755.152.239.102.446.242.621.422.176.18.315.388.416.627.102.238.153.494.153.767 0 .266-.05.516-.152.75a1.95 1.95 0 01-1.793 1.184c-.274 0-.528-.05-.762-.152a1.967 1.967 0 01-1.031-1.032 1.866 1.866 0 01-.153-.75c0-.273.051-.529.153-.767a2.02 2.02 0 01.416-.627 1.895 1.895 0 011.377-.574zm13.195 0c.265 0 .517.05.756.152.238.102.445.242.62.422.177.18.315.388.417.627.101.238.152.494.152.767 0 .266-.05.516-.152.75a1.95 1.95 0 01-1.793 1.184c-.274 0-.527-.05-.762-.152a1.967 1.967 0 01-1.031-1.032 1.866 1.866 0 01-.152-.75c0-.273.05-.529.152-.767a2.02 2.02 0 01.416-.627 1.895 1.895 0 011.377-.574zm13.195 0c.266 0 .518.05.756.152s.445.242.621.422.315.388.416.627c.102.238.152.494.152.767 0 .266-.05.516-.152.75a1.95 1.95 0 01-1.793 1.184c-.273 0-.527-.05-.762-.152a1.967 1.967 0 01-1.03-1.032 1.866 1.866 0 01-.153-.75c0-.273.05-.529.152-.767a2.02 2.02 0 01.416-.627 1.895 1.895 0 011.377-.574zm13.195 0c.266 0 .518.05.756.152.239.102.446.242.621.422.176.18.315.388.416.627.102.238.153.494.153.767 0 .266-.051.516-.153.75a1.95 1.95 0 01-1.793 1.184c-.273 0-.527-.05-.761-.152a1.967 1.967 0 01-1.031-1.032 1.866 1.866 0 01-.153-.75c0-.273.05-.529.152-.767a2.02 2.02 0 01.417-.627 1.895 1.895 0 011.377-.574zm13.196 0c.265 0 .517.05.756.152.238.102.445.242.62.422.177.18.315.388.417.627.101.238.152.494.152.767 0 .266-.05.516-.152.75a1.95 1.95 0 01-1.793 1.184c-.274 0-.528-.05-.762-.152a1.967 1.967 0 01-1.031-1.032 1.866 1.866 0 01-.153-.75c0-.273.051-.529.153-.767a2.02 2.02 0 01.416-.627 1.895 1.895 0 011.377-.574zm13.195 0c.266 0 .518.05.756.152s.445.242.621.422.314.388.416.627c.102.238.152.494.152.767 0 .266-.05.516-.152.75a1.95 1.95 0 01-1.793 1.184c-.273 0-.527-.05-.762-.152a1.967 1.967 0 01-1.03-1.032 1.866 1.866 0 01-.153-.75c0-.273.05-.529.152-.767a2.02 2.02 0 01.416-.627 1.895 1.895 0 011.377-.574zm13.195 0c.266 0 .518.05.756.152.239.102.446.242.621.422.176.18.315.388.416.627.102.238.153.494.153.767 0 .266-.051.516-.153.75a1.95 1.95 0 01-1.793 1.184c-.273 0-.527-.05-.761-.152a1.967 1.967 0 01-1.032-1.032 1.866 1.866 0 01-.152-.75c0-.273.05-.529.152-.767a2.02 2.02 0 01.416-.627 1.895 1.895 0 011.377-.574zm13.196 0c.265 0 .517.05.756.152.238.102.445.242.62.422.176.18.315.388.417.627.101.238.152.494.152.767 0 .266-.05.516-.152.75a1.95 1.95 0 01-1.793 1.184c-.274 0-.528-.05-.762-.152a1.967 1.967 0 01-1.031-1.032 1.866 1.866 0 01-.153-.75c0-.273.051-.529.153-.767a2.02 2.02 0 01.416-.627 1.895 1.895 0 011.377-.574zm13.195 0c.266 0 .518.05.756.152s.445.242.621.422.314.388.416.627c.102.238.152.494.152.767 0 .266-.05.516-.152.75a1.95 1.95 0 01-1.793 1.184c-.273 0-.527-.05-.762-.152a1.967 1.967 0 01-1.03-1.032 1.866 1.866 0 01-.153-.75c0-.273.05-.529.152-.767a2.02 2.02 0 01.416-.627 1.895 1.895 0 011.377-.574zm13.195 0c.266 0 .518.05.756.152s.446.242.621.422c.176.18.315.388.416.627.102.238.153.494.153.767 0 .266-.051.516-.153.75a1.95 1.95 0 01-1.793 1.184c-.273 0-.527-.05-.761-.152a1.967 1.967 0 01-1.032-1.032 1.866 1.866 0 01-.152-.75c0-.273.05-.529.152-.767a2.02 2.02 0 01.416-.627 1.895 1.895 0 011.377-.574zm13.196 0c.265 0 .517.05.756.152.238.102.445.242.62.422.176.18.315.388.417.627.101.238.152.494.152.767 0 .266-.05.516-.152.75a1.95 1.95 0 01-1.793 1.184c-.274 0-.528-.05-.762-.152a1.967 1.967 0 01-1.031-1.032 1.866 1.866 0 01-.153-.75c0-.273.051-.529.153-.767a2.02 2.02 0 01.416-.627 1.895 1.895 0 011.377-.574zm13.195 0c.266 0 .518.05.756.152s.445.242.62.422c.177.18.315.388.417.627.102.238.152.494.152.767 0 .266-.05.516-.152.75a1.95 1.95 0 01-1.793 1.184c-.273 0-.527-.05-.762-.152a1.967 1.967 0 01-1.031-1.032 1.866 1.866 0 01-.152-.75c0-.273.05-.529.152-.767a2.02 2.02 0 01.416-.627 1.895 1.895 0 011.377-.574z\"/><path id=\"Path\" fill=\"#478964\" d=\"M421.473 55.441l-.328 5.496h-1.922l-.34-5.496zM426.031 55.441l-.328 5.496h-1.922l-.34-5.496z\"/><path id=\"Line\" fill=\"#C06334\" fill-rule=\"nonzero\" d=\"M395.5 22.5l14 7-14 7v-6h-343v-2h343v-6z\"/><path id=\"Line\" stroke=\"#D1CFCD\" stroke-linecap=\"square\" d=\"M410.5 29.5h25\"/></g></g></svg>"
      ],
      "text/plain": [
       "<IPython.core.display.SVG object>"
      ]
     },
     "execution_count": 31,
     "metadata": {},
     "output_type": "execute_result"
    }
   ],
   "source": [
    "show_svg(\"https://javascript.info/article/regexp-greedy-and-lazy/witch_greedy5.svg\")"
   ]
  },
  {
   "cell_type": "code",
   "execution_count": 32,
   "id": "c7c251bd",
   "metadata": {},
   "outputs": [
    {
     "data": {
      "image/svg+xml": [
       "<svg xmlns=\"http://www.w3.org/2000/svg\" width=\"463\" height=\"130\" viewBox=\"0 0 463 130\"><defs><style>@import url(https://fonts.googleapis.com/css?family=Open+Sans:bold,italic,bolditalic%7CPT+Mono);@font-face{font-family:'PT Mono';font-weight:700;font-style:normal;src:local('PT MonoBold'),url(/font/PTMonoBold.woff2) format('woff2'),url(/font/PTMonoBold.woff) format('woff'),url(/font/PTMonoBold.ttf) format('truetype')}</style></defs><g id=\"regexp\" fill=\"none\" fill-rule=\"evenodd\" stroke=\"none\" stroke-width=\"1\"><g id=\"witch_greedy6.svg\"><text id=\"a-&quot;witch&quot;-and-her-&quot;b\" fill=\"#AF6E24\" font-family=\"PTMono-Regular, PT Mono\" font-size=\"22\" font-weight=\"normal\"><tspan x=\"20\" y=\"107\">a &quot;witch&quot; and her &quot;broom&quot; is one</tspan></text><path id=\"Rectangle-1\" stroke=\"#DBAF88\" d=\"M45.5 45.5h305v76h-305z\"/><path id=\"--&quot;.................\" fill=\"#A7333A\" d=\"M52.004 55.441l-.328 5.496h-1.922l-.34-5.496h2.59zm4.559 0l-.329 5.496h-1.922l-.34-5.496h2.59zM66.09 68.31c.265 0 .517.05.756.152.238.102.445.242.62.422.177.18.315.388.417.627.101.238.152.494.152.767 0 .266-.05.516-.152.75a1.95 1.95 0 01-1.793 1.184c-.274 0-.527-.05-.762-.152a1.967 1.967 0 01-1.031-1.032 1.866 1.866 0 01-.152-.75c0-.273.05-.529.152-.767a2.02 2.02 0 01.416-.627 1.895 1.895 0 011.377-.574zm13.195 0c.266 0 .518.05.756.152s.445.242.621.422.315.388.416.627c.102.238.152.494.152.767 0 .266-.05.516-.152.75a1.95 1.95 0 01-1.793 1.184c-.273 0-.527-.05-.762-.152a1.967 1.967 0 01-1.03-1.032 1.866 1.866 0 01-.153-.75c0-.273.05-.529.152-.767a2.02 2.02 0 01.416-.627 1.895 1.895 0 011.377-.574zm13.195 0c.266 0 .518.05.756.152.239.102.446.242.621.422.176.18.315.388.416.627.102.238.153.494.153.767 0 .266-.051.516-.153.75a1.95 1.95 0 01-1.793 1.184c-.273 0-.527-.05-.761-.152a1.967 1.967 0 01-1.031-1.032 1.866 1.866 0 01-.153-.75c0-.273.05-.529.153-.767a2.02 2.02 0 01.416-.627 1.895 1.895 0 011.377-.574zm13.196 0c.265 0 .517.05.756.152.238.102.445.242.62.422.177.18.315.388.417.627.101.238.152.494.152.767 0 .266-.05.516-.152.75a1.95 1.95 0 01-1.793 1.184c-.274 0-.528-.05-.762-.152a1.967 1.967 0 01-1.031-1.032 1.866 1.866 0 01-.153-.75c0-.273.051-.529.153-.767a2.02 2.02 0 01.416-.627 1.895 1.895 0 011.377-.574zm13.195 0c.266 0 .518.05.756.152s.445.242.621.422.314.388.416.627c.102.238.152.494.152.767 0 .266-.05.516-.152.75a1.95 1.95 0 01-1.793 1.184c-.273 0-.527-.05-.762-.152a1.967 1.967 0 01-1.03-1.032 1.866 1.866 0 01-.153-.75c0-.273.05-.529.152-.767a2.02 2.02 0 01.416-.627 1.895 1.895 0 011.377-.574zm13.195 0c.266 0 .518.05.756.152.239.102.446.242.621.422.176.18.315.388.416.627.102.238.153.494.153.767 0 .266-.051.516-.153.75a1.95 1.95 0 01-1.793 1.184c-.273 0-.527-.05-.761-.152a1.967 1.967 0 01-1.032-1.032 1.866 1.866 0 01-.152-.75c0-.273.05-.529.152-.767a2.02 2.02 0 01.416-.627 1.895 1.895 0 011.377-.574zm13.196 0c.265 0 .517.05.756.152.238.102.445.242.62.422.176.18.315.388.417.627.101.238.152.494.152.767 0 .266-.05.516-.152.75a1.95 1.95 0 01-1.793 1.184c-.274 0-.528-.05-.762-.152a1.967 1.967 0 01-1.031-1.032 1.866 1.866 0 01-.153-.75c0-.273.051-.529.153-.767a2.02 2.02 0 01.416-.627 1.895 1.895 0 011.377-.574zm13.195 0c.266 0 .518.05.756.152s.445.242.621.422.314.388.416.627c.102.238.152.494.152.767 0 .266-.05.516-.152.75a1.95 1.95 0 01-1.793 1.184c-.273 0-.527-.05-.762-.152a1.967 1.967 0 01-1.03-1.032 1.866 1.866 0 01-.153-.75c0-.273.05-.529.152-.767a2.02 2.02 0 01.416-.627 1.895 1.895 0 011.377-.574zm13.195 0c.266 0 .518.05.756.152s.446.242.621.422c.176.18.315.388.416.627.102.238.153.494.153.767 0 .266-.051.516-.153.75a1.95 1.95 0 01-1.793 1.184c-.273 0-.527-.05-.761-.152a1.967 1.967 0 01-1.032-1.032 1.866 1.866 0 01-.152-.75c0-.273.05-.529.152-.767a2.02 2.02 0 01.416-.627 1.895 1.895 0 011.377-.574zm13.196 0c.265 0 .517.05.756.152.238.102.445.242.62.422.176.18.315.388.417.627.101.238.152.494.152.767 0 .266-.05.516-.152.75a1.95 1.95 0 01-1.793 1.184c-.274 0-.528-.05-.762-.152a1.967 1.967 0 01-1.031-1.032 1.866 1.866 0 01-.153-.75c0-.273.051-.529.153-.767a2.02 2.02 0 01.416-.627 1.895 1.895 0 011.377-.574zm13.195 0c.266 0 .518.05.756.152s.445.242.62.422c.177.18.315.388.417.627.102.238.152.494.152.767 0 .266-.05.516-.152.75a1.95 1.95 0 01-1.793 1.184c-.273 0-.527-.05-.762-.152a1.967 1.967 0 01-1.031-1.032 1.866 1.866 0 01-.152-.75c0-.273.05-.529.152-.767a2.02 2.02 0 01.416-.627 1.895 1.895 0 011.377-.574zm13.195 0c.266 0 .518.05.756.152s.445.242.621.422.315.388.416.627c.102.238.153.494.153.767 0 .266-.051.516-.153.75a1.95 1.95 0 01-1.793 1.184c-.273 0-.527-.05-.761-.152a1.967 1.967 0 01-1.032-1.032 1.866 1.866 0 01-.152-.75c0-.273.05-.529.152-.767a2.02 2.02 0 01.416-.627 1.895 1.895 0 011.377-.574zm13.196 0c.265 0 .517.05.755.152.239.102.446.242.622.422.175.18.314.388.416.627.101.238.152.494.152.767 0 .266-.05.516-.152.75a1.95 1.95 0 01-1.793 1.184c-.274 0-.528-.05-.762-.152a1.967 1.967 0 01-1.031-1.032 1.866 1.866 0 01-.153-.75c0-.273.051-.529.153-.767a2.02 2.02 0 01.416-.627 1.895 1.895 0 011.377-.574zm13.195 0c.266 0 .517.05.756.152.238.102.445.242.62.422.177.18.315.388.417.627.101.238.152.494.152.767 0 .266-.05.516-.152.75a1.95 1.95 0 01-1.793 1.184c-.274 0-.527-.05-.762-.152a1.967 1.967 0 01-1.031-1.032 1.866 1.866 0 01-.152-.75c0-.273.05-.529.152-.767a2.02 2.02 0 01.416-.627 1.895 1.895 0 011.377-.574zm13.195 0c.266 0 .518.05.756.152s.445.242.621.422.315.388.416.627c.102.238.153.494.153.767 0 .266-.051.516-.153.75a1.95 1.95 0 01-1.793 1.184c-.273 0-.527-.05-.761-.152a1.967 1.967 0 01-1.032-1.032 1.866 1.866 0 01-.152-.75c0-.273.05-.529.152-.767a2.02 2.02 0 01.416-.627 1.895 1.895 0 011.377-.574zm13.196 0c.265 0 .517.05.755.152.239.102.446.242.621.422.176.18.315.388.416.627.102.238.153.494.153.767 0 .266-.05.516-.152.75a1.95 1.95 0 01-1.793 1.184c-.274 0-.528-.05-.762-.152a1.967 1.967 0 01-1.031-1.032 1.866 1.866 0 01-.153-.75c0-.273.051-.529.153-.767a2.02 2.02 0 01.416-.627 1.895 1.895 0 011.377-.574zm13.195 0c.265 0 .517.05.756.152.238.102.445.242.62.422.177.18.315.388.417.627.101.238.152.494.152.767 0 .266-.05.516-.152.75a1.95 1.95 0 01-1.793 1.184c-.274 0-.527-.05-.762-.152a1.967 1.967 0 01-1.031-1.032 1.866 1.866 0 01-.152-.75c0-.273.05-.529.152-.767a2.02 2.02 0 01.416-.627 1.895 1.895 0 011.377-.574zm13.195 0c.266 0 .518.05.756.152s.445.242.621.422.315.388.416.627c.102.238.152.494.152.767 0 .266-.05.516-.152.75a1.95 1.95 0 01-1.793 1.184c-.273 0-.527-.05-.762-.152a1.967 1.967 0 01-1.03-1.032 1.866 1.866 0 01-.153-.75c0-.273.05-.529.152-.767a2.02 2.02 0 01.416-.627 1.895 1.895 0 011.377-.574zm13.195 0c.266 0 .518.05.756.152.239.102.446.242.621.422.176.18.315.388.416.627.102.238.153.494.153.767 0 .266-.051.516-.153.75a1.95 1.95 0 01-1.793 1.184c-.273 0-.527-.05-.761-.152a1.967 1.967 0 01-1.031-1.032 1.866 1.866 0 01-.153-.75c0-.273.05-.529.152-.767a2.02 2.02 0 01.417-.627 1.895 1.895 0 011.377-.574zm13.196 0c.265 0 .517.05.756.152.238.102.445.242.62.422.177.18.315.388.417.627.101.238.152.494.152.767 0 .266-.05.516-.152.75a1.95 1.95 0 01-1.793 1.184c-.274 0-.528-.05-.762-.152a1.967 1.967 0 01-1.031-1.032 1.866 1.866 0 01-.153-.75c0-.273.051-.529.153-.767a2.02 2.02 0 01.416-.627 1.895 1.895 0 011.377-.574zm13.195 0c.266 0 .518.05.756.152s.445.242.621.422.314.388.416.627c.102.238.152.494.152.767 0 .266-.05.516-.152.75a1.95 1.95 0 01-1.793 1.184c-.273 0-.527-.05-.762-.152a1.967 1.967 0 01-1.03-1.032 1.866 1.866 0 01-.153-.75c0-.273.05-.529.152-.767a2.02 2.02 0 01.416-.627 1.895 1.895 0 011.377-.574zm12.305-12.868l-.328 5.496h-1.922l-.34-5.496h2.59zm4.558 0l-.328 5.496h-1.922l-.34-5.496h2.59z\"/><path id=\"Line\" fill=\"#C06334\" fill-rule=\"nonzero\" d=\"M331.5 23.5l14 7-14 7v-6h-281v-2h281v-6z\"/><path id=\"Line\" stroke=\"#D1CFCD\" stroke-linecap=\"square\" d=\"M346.5 30.5h91\"/></g></g></svg>"
      ],
      "text/plain": [
       "<IPython.core.display.SVG object>"
      ]
     },
     "execution_count": 32,
     "metadata": {},
     "output_type": "execute_result"
    }
   ],
   "source": [
    "show_svg(\"https://javascript.info/article/regexp-greedy-and-lazy/witch_greedy6.svg\")"
   ]
  },
  {
   "cell_type": "markdown",
   "id": "e4a16501",
   "metadata": {},
   "source": [
    "### Lazy mode\n",
    "\n",
    "The lazy mode of quantifiers is an opposite to the greedy mode. It means: \"repeat minimal number of times\".\n",
    "\n",
    "We can enable it by putting a question mark `?` after the quantifier, so that it becomes `*?` or `+?` or even `??`."
   ]
  },
  {
   "cell_type": "code",
   "execution_count": 33,
   "id": "6d23dad8",
   "metadata": {
    "scrolled": true
   },
   "outputs": [
    {
     "data": {
      "text/plain": [
       "['witch', 'broom']"
      ]
     },
     "execution_count": 33,
     "metadata": {},
     "output_type": "execute_result"
    }
   ],
   "source": [
    "re.findall('\"(.+?)\"', txt2)"
   ]
  },
  {
   "cell_type": "code",
   "execution_count": 34,
   "id": "90ae7374",
   "metadata": {},
   "outputs": [
    {
     "data": {
      "image/svg+xml": [
       "<svg xmlns=\"http://www.w3.org/2000/svg\" width=\"463\" height=\"130\" viewBox=\"0 0 463 130\"><defs><style>@import url(https://fonts.googleapis.com/css?family=Open+Sans:bold,italic,bolditalic%7CPT+Mono);@font-face{font-family:'PT Mono';font-weight:700;font-style:normal;src:local('PT MonoBold'),url(/font/PTMonoBold.woff2) format('woff2'),url(/font/PTMonoBold.woff) format('woff'),url(/font/PTMonoBold.ttf) format('truetype')}</style></defs><g id=\"regexp\" fill=\"none\" fill-rule=\"evenodd\" stroke=\"none\" stroke-width=\"1\"><g id=\"witch_greedy1.svg\"><text id=\"a-&quot;witch&quot;-and-her-&quot;b\" fill=\"#AF6E24\" font-family=\"PTMono-Regular, PT Mono\" font-size=\"22\" font-weight=\"normal\"><tspan x=\"20\" y=\"112\">a &quot;witch&quot; and her &quot;broom&quot; is one</tspan></text><path id=\"Rectangle-1\" stroke=\"#DBAF88\" d=\"M45.5 50.5h14v76h-14z\"/><path id=\"--&quot;-----------------\" fill=\"#A7333A\" d=\"M52.004 60.441l-.328 5.496h-1.922l-.34-5.496h2.59zm4.559 0l-.329 5.496h-1.922l-.34-5.496h2.59z\"/><path id=\"Line\" fill=\"#C06334\" fill-rule=\"nonzero\" d=\"M53.5 8.5v22h6l-7 14-7-14h6v-22h2z\"/></g></g></svg>"
      ],
      "text/plain": [
       "<IPython.core.display.SVG object>"
      ]
     },
     "execution_count": 34,
     "metadata": {},
     "output_type": "execute_result"
    }
   ],
   "source": [
    "show_svg(\"https://javascript.info/article/regexp-greedy-and-lazy/witch_greedy1.svg\")"
   ]
  },
  {
   "cell_type": "code",
   "execution_count": 35,
   "id": "a2a57f63",
   "metadata": {},
   "outputs": [
    {
     "data": {
      "image/svg+xml": [
       "<svg xmlns=\"http://www.w3.org/2000/svg\" width=\"463\" height=\"130\" viewBox=\"0 0 463 130\"><defs><style>@import url(https://fonts.googleapis.com/css?family=Open+Sans:bold,italic,bolditalic%7CPT+Mono);@font-face{font-family:'PT Mono';font-weight:700;font-style:normal;src:local('PT MonoBold'),url(/font/PTMonoBold.woff2) format('woff2'),url(/font/PTMonoBold.woff) format('woff'),url(/font/PTMonoBold.ttf) format('truetype')}</style></defs><g id=\"regexp\" fill=\"none\" fill-rule=\"evenodd\" stroke=\"none\" stroke-width=\"1\"><g id=\"witch_greedy2.svg\"><text id=\"a-&quot;witch&quot;-and-her-&quot;b\" fill=\"#AF6E24\" font-family=\"PTMono-Regular, PT Mono\" font-size=\"22\" font-weight=\"normal\"><tspan x=\"20\" y=\"107\">a &quot;witch&quot; and her &quot;broom&quot; is one</tspan></text><path id=\"Rectangle-1\" stroke=\"#DBAF88\" d=\"M45.5 45.5h28v76h-28z\"/><path id=\"--&quot;.----------------\" fill=\"#A7333A\" d=\"M52.004 55.441l-.328 5.496h-1.922l-.34-5.496h2.59zm4.559 0l-.329 5.496h-1.922l-.34-5.496h2.59zM66.09 68.31c.265 0 .517.05.756.152.238.102.445.242.62.422.177.18.315.388.417.627.101.238.152.494.152.767 0 .266-.05.516-.152.75a1.95 1.95 0 01-1.793 1.184c-.274 0-.527-.05-.762-.152a1.967 1.967 0 01-1.031-1.032 1.866 1.866 0 01-.152-.75c0-.273.05-.529.152-.767a2.02 2.02 0 01.416-.627 1.895 1.895 0 011.377-.574z\"/><path id=\"Line\" fill=\"#C06334\" fill-rule=\"nonzero\" d=\"M55.5 25.5l14 7-14 7v-6h-8v-2h8v-6z\"/></g></g></svg>"
      ],
      "text/plain": [
       "<IPython.core.display.SVG object>"
      ]
     },
     "execution_count": 35,
     "metadata": {},
     "output_type": "execute_result"
    }
   ],
   "source": [
    "show_svg(\"https://javascript.info/article/regexp-greedy-and-lazy/witch_greedy2.svg\")"
   ]
  },
  {
   "cell_type": "code",
   "execution_count": 36,
   "id": "56c3b08a",
   "metadata": {},
   "outputs": [
    {
     "data": {
      "image/svg+xml": [
       "<svg xmlns=\"http://www.w3.org/2000/svg\" width=\"463\" height=\"130\" viewBox=\"0 0 463 130\"><defs><style>@import url(https://fonts.googleapis.com/css?family=Open+Sans:bold,italic,bolditalic%7CPT+Mono);@font-face{font-family:'PT Mono';font-weight:700;font-style:normal;src:local('PT MonoBold'),url(/font/PTMonoBold.woff2) format('woff2'),url(/font/PTMonoBold.woff) format('woff'),url(/font/PTMonoBold.ttf) format('truetype')}</style></defs><g id=\"regexp\" fill=\"none\" fill-rule=\"evenodd\" stroke=\"none\" stroke-width=\"1\"><g id=\"witch_lazy3.svg\"><text id=\"a-&quot;witch&quot;-and-her-&quot;b\" fill=\"#AF6E24\" font-family=\"PTMono-Regular, PT Mono\" font-size=\"22\" font-weight=\"normal\"><tspan x=\"20\" y=\"105\">a &quot;witch&quot; and her &quot;broom&quot; is one</tspan></text><path id=\"Rectangle-1\" stroke=\"#DBAF88\" d=\"M45.5 43.5h28v76h-28z\"/><path id=\"--&quot;.&quot;---------------\" fill=\"#A7333A\" d=\"M52.004 53.441l-.328 5.496h-1.922l-.34-5.496h2.59zm4.559 0l-.329 5.496h-1.922l-.34-5.496h2.59zM66.09 66.31c.265 0 .517.05.756.152.238.102.445.242.62.422.177.18.315.388.417.627.101.238.152.494.152.767 0 .266-.05.516-.152.75a1.95 1.95 0 01-1.793 1.184c-.274 0-.527-.05-.762-.152a1.967 1.967 0 01-1.031-1.032 1.866 1.866 0 01-.152-.75c0-.273.05-.529.152-.767a2.02 2.02 0 01.416-.627 1.895 1.895 0 011.377-.574z\"/><path id=\"Path\" fill=\"#478964\" d=\"M78.395 53.441l-.329 5.496h-1.921l-.34-5.496zM82.953 53.441l-.328 5.496h-1.922l-.34-5.496z\"/><path id=\"Line\" fill=\"#C06334\" fill-rule=\"nonzero\" d=\"M60 26.5l14 7-14 7v-6H45v-2h15v-6z\"/></g></g></svg>"
      ],
      "text/plain": [
       "<IPython.core.display.SVG object>"
      ]
     },
     "execution_count": 36,
     "metadata": {},
     "output_type": "execute_result"
    }
   ],
   "source": [
    "show_svg(\"https://javascript.info/article/regexp-greedy-and-lazy/witch_lazy3.svg\")"
   ]
  },
  {
   "cell_type": "code",
   "execution_count": 37,
   "id": "833fb137",
   "metadata": {},
   "outputs": [
    {
     "data": {
      "image/svg+xml": [
       "<svg xmlns=\"http://www.w3.org/2000/svg\" width=\"463\" height=\"130\" viewBox=\"0 0 463 130\"><defs><style>@import url(https://fonts.googleapis.com/css?family=Open+Sans:bold,italic,bolditalic%7CPT+Mono);@font-face{font-family:'PT Mono';font-weight:700;font-style:normal;src:local('PT MonoBold'),url(/font/PTMonoBold.woff2) format('woff2'),url(/font/PTMonoBold.woff) format('woff'),url(/font/PTMonoBold.ttf) format('truetype')}</style></defs><g id=\"regexp\" fill=\"none\" fill-rule=\"evenodd\" stroke=\"none\" stroke-width=\"1\"><g id=\"witch_lazy4.svg\"><text id=\"a-&quot;witch&quot;-and-her-&quot;b\" fill=\"#AF6E24\" font-family=\"PTMono-Regular, PT Mono\" font-size=\"22\" font-weight=\"normal\"><tspan x=\"20\" y=\"105\">a &quot;witch&quot; and her &quot;broom&quot; is one</tspan></text><path id=\"Rectangle-1\" stroke=\"#DBAF88\" d=\"M45.5 43.5h40v76h-40z\"/><path id=\"--&quot;..&quot;--------------\" fill=\"#A7333A\" d=\"M52.004 53.441l-.328 5.496h-1.922l-.34-5.496h2.59zm4.559 0l-.329 5.496h-1.922l-.34-5.496h2.59zM66.09 66.31c.265 0 .517.05.756.152.238.102.445.242.62.422.177.18.315.388.417.627.101.238.152.494.152.767 0 .266-.05.516-.152.75a1.95 1.95 0 01-1.793 1.184c-.274 0-.527-.05-.762-.152a1.967 1.967 0 01-1.031-1.032 1.866 1.866 0 01-.152-.75c0-.273.05-.529.152-.767a2.02 2.02 0 01.416-.627 1.895 1.895 0 011.377-.574zm13.195 0c.266 0 .518.05.756.152s.445.242.621.422.315.388.416.627c.102.238.152.494.152.767 0 .266-.05.516-.152.75a1.95 1.95 0 01-1.793 1.184c-.273 0-.527-.05-.762-.152a1.967 1.967 0 01-1.03-1.032 1.866 1.866 0 01-.153-.75c0-.273.05-.529.152-.767a2.02 2.02 0 01.416-.627 1.895 1.895 0 011.377-.574z\"/><path id=\"Path\" fill=\"#478964\" d=\"M91.59 53.441l-.328 5.496H89.34L89 53.441zM96.148 53.441l-.328 5.496h-1.922l-.34-5.496z\"/><path id=\"Line\" fill=\"#C06334\" fill-rule=\"nonzero\" d=\"M70 22.5l14 7-14 7-.001-6H46v-2h23.999l.001-6z\"/></g></g></svg>"
      ],
      "text/plain": [
       "<IPython.core.display.SVG object>"
      ]
     },
     "execution_count": 37,
     "metadata": {},
     "output_type": "execute_result"
    }
   ],
   "source": [
    "show_svg(\"https://javascript.info/article/regexp-greedy-and-lazy/witch_lazy4.svg\")"
   ]
  },
  {
   "cell_type": "code",
   "execution_count": 38,
   "id": "28a359b0",
   "metadata": {},
   "outputs": [
    {
     "data": {
      "image/svg+xml": [
       "<svg xmlns=\"http://www.w3.org/2000/svg\" width=\"463\" height=\"130\" viewBox=\"0 0 463 130\"><defs><style>@import url(https://fonts.googleapis.com/css?family=Open+Sans:bold,italic,bolditalic%7CPT+Mono);@font-face{font-family:'PT Mono';font-weight:700;font-style:normal;src:local('PT MonoBold'),url(/font/PTMonoBold.woff2) format('woff2'),url(/font/PTMonoBold.woff) format('woff'),url(/font/PTMonoBold.ttf) format('truetype')}</style></defs><g id=\"regexp\" fill=\"none\" fill-rule=\"evenodd\" stroke=\"none\" stroke-width=\"1\"><g id=\"witch_lazy5.svg\"><text id=\"a-&quot;witch&quot;-and-her-&quot;b\" fill=\"#AF6E24\" font-family=\"PTMono-Regular, PT Mono\" font-size=\"22\" font-weight=\"normal\"><tspan x=\"20\" y=\"105\">a &quot;witch&quot; and her &quot;broom&quot; is one</tspan></text><path id=\"Rectangle-1\" stroke=\"#DBAF88\" d=\"M45.5 43.5h94v76h-94z\"/><path id=\"--&quot;.....&quot;---------&quot;.\" fill=\"#A7333A\" d=\"M52.004 53.441l-.328 5.496h-1.922l-.34-5.496h2.59zm4.559 0l-.329 5.496h-1.922l-.34-5.496h2.59zM66.09 66.31c.265 0 .517.05.756.152.238.102.445.242.62.422.177.18.315.388.417.627.101.238.152.494.152.767 0 .266-.05.516-.152.75a1.95 1.95 0 01-1.793 1.184c-.274 0-.527-.05-.762-.152a1.967 1.967 0 01-1.031-1.032 1.866 1.866 0 01-.152-.75c0-.273.05-.529.152-.767a2.02 2.02 0 01.416-.627 1.895 1.895 0 011.377-.574zm13.195 0c.266 0 .518.05.756.152s.445.242.621.422.315.388.416.627c.102.238.152.494.152.767 0 .266-.05.516-.152.75a1.95 1.95 0 01-1.793 1.184c-.273 0-.527-.05-.762-.152a1.967 1.967 0 01-1.03-1.032 1.866 1.866 0 01-.153-.75c0-.273.05-.529.152-.767a2.02 2.02 0 01.416-.627 1.895 1.895 0 011.377-.574zm13.195 0c.266 0 .518.05.756.152.239.102.446.242.621.422.176.18.315.388.416.627.102.238.153.494.153.767 0 .266-.051.516-.153.75a1.95 1.95 0 01-1.793 1.184c-.273 0-.527-.05-.761-.152a1.967 1.967 0 01-1.031-1.032 1.866 1.866 0 01-.153-.75c0-.273.05-.529.153-.767a2.02 2.02 0 01.416-.627 1.895 1.895 0 011.377-.574zm13.196 0c.265 0 .517.05.756.152.238.102.445.242.62.422.177.18.315.388.417.627.101.238.152.494.152.767 0 .266-.05.516-.152.75a1.95 1.95 0 01-1.793 1.184c-.274 0-.528-.05-.762-.152a1.967 1.967 0 01-1.031-1.032 1.866 1.866 0 01-.153-.75c0-.273.051-.529.153-.767a2.02 2.02 0 01.416-.627 1.895 1.895 0 011.377-.574zm13.195 0c.266 0 .518.05.756.152s.445.242.621.422.314.388.416.627c.102.238.152.494.152.767 0 .266-.05.516-.152.75a1.95 1.95 0 01-1.793 1.184c-.273 0-.527-.05-.762-.152a1.967 1.967 0 01-1.03-1.032 1.866 1.866 0 01-.153-.75c0-.273.05-.529.152-.767a2.02 2.02 0 01.416-.627 1.895 1.895 0 011.377-.574zm12.305-12.868l-.328 5.496h-1.922l-.34-5.496h2.59zm4.558 0l-.328 5.496h-1.922l-.34-5.496h2.59z\"/><path id=\"Line\" fill=\"#C06334\" fill-rule=\"nonzero\" d=\"M120.5 23.5l14 7-14 7v-6h-69v-2h69v-6z\"/></g></g></svg>"
      ],
      "text/plain": [
       "<IPython.core.display.SVG object>"
      ]
     },
     "execution_count": 38,
     "metadata": {},
     "output_type": "execute_result"
    }
   ],
   "source": [
    "show_svg(\"https://javascript.info/article/regexp-greedy-and-lazy/witch_lazy5.svg\")"
   ]
  },
  {
   "cell_type": "code",
   "execution_count": 39,
   "id": "b2da3ecd",
   "metadata": {},
   "outputs": [
    {
     "data": {
      "image/svg+xml": [
       "<svg xmlns=\"http://www.w3.org/2000/svg\" width=\"463\" height=\"130\" viewBox=\"0 0 463 130\"><defs><style>@import url(https://fonts.googleapis.com/css?family=Open+Sans:bold,italic,bolditalic%7CPT+Mono);@font-face{font-family:'PT Mono';font-weight:700;font-style:normal;src:local('PT MonoBold'),url(/font/PTMonoBold.woff2) format('woff2'),url(/font/PTMonoBold.woff) format('woff'),url(/font/PTMonoBold.ttf) format('truetype')}</style></defs><g id=\"regexp\" fill=\"none\" fill-rule=\"evenodd\" stroke=\"none\" stroke-width=\"1\"><g id=\"witch_lazy6.svg\"><text id=\"a-&quot;witch&quot;-and-her-&quot;b\" fill=\"#AF6E24\" font-family=\"PTMono-Regular, PT Mono\" font-size=\"22\" font-weight=\"normal\"><tspan x=\"20\" y=\"105\">a &quot;witch&quot; and her &quot;broom&quot; is one</tspan></text><path id=\"Rectangle-1\" stroke=\"#DBAF88\" d=\"M45.5 43.5h94v76h-94z\"/><path id=\"Rectangle-2\" stroke=\"#DBAF88\" d=\"M256.5 43.5h94v76h-94z\"/><path id=\"--&quot;.....&quot;---------&quot;.\" fill=\"#A7333A\" d=\"M52.004 53.441l-.328 5.496h-1.922l-.34-5.496h2.59zm4.559 0l-.329 5.496h-1.922l-.34-5.496h2.59zM66.09 66.31c.265 0 .517.05.756.152.238.102.445.242.62.422.177.18.315.388.417.627.101.238.152.494.152.767 0 .266-.05.516-.152.75a1.95 1.95 0 01-1.793 1.184c-.274 0-.527-.05-.762-.152a1.967 1.967 0 01-1.031-1.032 1.866 1.866 0 01-.152-.75c0-.273.05-.529.152-.767a2.02 2.02 0 01.416-.627 1.895 1.895 0 011.377-.574zm13.195 0c.266 0 .518.05.756.152s.445.242.621.422.315.388.416.627c.102.238.152.494.152.767 0 .266-.05.516-.152.75a1.95 1.95 0 01-1.793 1.184c-.273 0-.527-.05-.762-.152a1.967 1.967 0 01-1.03-1.032 1.866 1.866 0 01-.153-.75c0-.273.05-.529.152-.767a2.02 2.02 0 01.416-.627 1.895 1.895 0 011.377-.574zm13.195 0c.266 0 .518.05.756.152.239.102.446.242.621.422.176.18.315.388.416.627.102.238.153.494.153.767 0 .266-.051.516-.153.75a1.95 1.95 0 01-1.793 1.184c-.273 0-.527-.05-.761-.152a1.967 1.967 0 01-1.031-1.032 1.866 1.866 0 01-.153-.75c0-.273.05-.529.153-.767a2.02 2.02 0 01.416-.627 1.895 1.895 0 011.377-.574zm13.196 0c.265 0 .517.05.756.152.238.102.445.242.62.422.177.18.315.388.417.627.101.238.152.494.152.767 0 .266-.05.516-.152.75a1.95 1.95 0 01-1.793 1.184c-.274 0-.528-.05-.762-.152a1.967 1.967 0 01-1.031-1.032 1.866 1.866 0 01-.153-.75c0-.273.051-.529.153-.767a2.02 2.02 0 01.416-.627 1.895 1.895 0 011.377-.574zm13.195 0c.266 0 .518.05.756.152s.445.242.621.422.314.388.416.627c.102.238.152.494.152.767 0 .266-.05.516-.152.75a1.95 1.95 0 01-1.793 1.184c-.273 0-.527-.05-.762-.152a1.967 1.967 0 01-1.03-1.032 1.866 1.866 0 01-.153-.75c0-.273.05-.529.152-.767a2.02 2.02 0 01.416-.627 1.895 1.895 0 011.377-.574zm12.305-12.868l-.328 5.496h-1.922l-.34-5.496h2.59zm4.558 0l-.328 5.496h-1.922l-.34-5.496h2.59zm127.395 0l-.328 5.496h-1.922l-.34-5.496h2.59zm4.558 0l-.328 5.496h-1.921l-.34-5.496h2.59zm9.528 12.868c.265 0 .517.05.756.152.238.102.445.242.62.422.177.18.315.388.417.627.101.238.152.494.152.767 0 .266-.05.516-.152.75a1.95 1.95 0 01-1.793 1.184c-.274 0-.527-.05-.762-.152a1.967 1.967 0 01-1.031-1.032 1.866 1.866 0 01-.152-.75c0-.273.05-.529.152-.767a2.02 2.02 0 01.416-.627 1.895 1.895 0 011.377-.574zm13.195 0c.266 0 .518.05.756.152s.445.242.621.422.315.388.416.627c.102.238.152.494.152.767 0 .266-.05.516-.152.75a1.95 1.95 0 01-1.793 1.184c-.273 0-.527-.05-.762-.152a1.967 1.967 0 01-1.03-1.032 1.866 1.866 0 01-.153-.75c0-.273.05-.529.152-.767a2.02 2.02 0 01.416-.627 1.895 1.895 0 011.377-.574zm13.195 0c.266 0 .518.05.756.152.239.102.446.242.621.422.176.18.315.388.416.627.102.238.153.494.153.767 0 .266-.051.516-.153.75a1.95 1.95 0 01-1.793 1.184c-.273 0-.527-.05-.761-.152a1.967 1.967 0 01-1.031-1.032 1.866 1.866 0 01-.153-.75c0-.273.05-.529.152-.767a2.02 2.02 0 01.417-.627 1.895 1.895 0 011.377-.574zm13.196 0c.265 0 .517.05.756.152.238.102.445.242.62.422.177.18.315.388.417.627.101.238.152.494.152.767 0 .266-.05.516-.152.75a1.95 1.95 0 01-1.793 1.184c-.274 0-.528-.05-.762-.152a1.967 1.967 0 01-1.031-1.032 1.866 1.866 0 01-.153-.75c0-.273.051-.529.153-.767a2.02 2.02 0 01.416-.627 1.895 1.895 0 011.377-.574zm13.195 0c.266 0 .518.05.756.152s.445.242.621.422.314.388.416.627c.102.238.152.494.152.767 0 .266-.05.516-.152.75a1.95 1.95 0 01-1.793 1.184c-.273 0-.527-.05-.762-.152a1.967 1.967 0 01-1.03-1.032 1.866 1.866 0 01-.153-.75c0-.273.05-.529.152-.767a2.02 2.02 0 01.416-.627 1.895 1.895 0 011.377-.574zm12.305-12.868l-.328 5.496h-1.922l-.34-5.496h2.59zm4.558 0l-.328 5.496h-1.922l-.34-5.496h2.59z\"/><path id=\"Line\" fill=\"#C06334\" fill-rule=\"nonzero\" d=\"M331.5 27.5l14 7-14 7v-6h-70v-2h70v-6zM118.5 27.5l14 7-14 7v-6h-65v-2h65v-6z\"/></g></g></svg>"
      ],
      "text/plain": [
       "<IPython.core.display.SVG object>"
      ]
     },
     "execution_count": 39,
     "metadata": {},
     "output_type": "execute_result"
    }
   ],
   "source": [
    "show_svg(\"https://javascript.info/article/regexp-greedy-and-lazy/witch_lazy6.svg\")"
   ]
  }
 ],
 "metadata": {
  "kernelspec": {
   "display_name": "Python 3 (ipykernel)",
   "language": "python",
   "name": "python3"
  },
  "language_info": {
   "codemirror_mode": {
    "name": "ipython",
    "version": 3
   },
   "file_extension": ".py",
   "mimetype": "text/x-python",
   "name": "python",
   "nbconvert_exporter": "python",
   "pygments_lexer": "ipython3",
   "version": "3.11.1"
  }
 },
 "nbformat": 4,
 "nbformat_minor": 5
}
