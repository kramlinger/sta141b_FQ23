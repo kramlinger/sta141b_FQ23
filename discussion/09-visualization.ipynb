{
 "cells": [
  {
   "cell_type": "markdown",
   "metadata": {
    "tags": [
     "exercise"
    ]
   },
   "source": [
    "__Which state is the best in baseball?__ Since only states have two letter keywords, lets get the total home runs per state by all players. "
   ]
  },
  {
   "cell_type": "markdown",
   "metadata": {
    "tags": [
     "exercise"
    ]
   },
   "source": [
    "Write a function `total_home_runs` that takes a string `state` as argument and returns the total number of home runs of all players from this state. Next, query the `batting` table to obtain a `pandas.Series` object `birthState` containing unique copies of all `state`s in that table. Finally, use a suitable parallelization technique to call `total_home_runs` with each entry of `states`. "
   ]
  },
  {
   "cell_type": "code",
   "execution_count": 27,
   "metadata": {},
   "outputs": [],
   "source": [
    "import sqlite3 as sql\n",
    "import pandas as pd"
   ]
  },
  {
   "cell_type": "code",
   "execution_count": 28,
   "metadata": {
    "tags": [
     "exercise"
    ]
   },
   "outputs": [],
   "source": [
    "db = sql.connect('../data/lahmansbaseballdb.sqlite', check_same_thread=False)"
   ]
  },
  {
   "cell_type": "code",
   "execution_count": 29,
   "metadata": {
    "tags": [
     "exercise"
    ]
   },
   "outputs": [
    {
     "data": {
      "text/plain": [
       "0    AB\n",
       "1    AK\n",
       "2    AL\n",
       "Name: birthState, dtype: object"
      ]
     },
     "execution_count": 29,
     "metadata": {},
     "output_type": "execute_result"
    }
   ],
   "source": [
    "states = pd.read_sql('''\n",
    "    SELECT DISTINCT birthState \n",
    "    FROM people\n",
    "    WHERE LENGTH(birthstate)=2\n",
    "    ORDER BY birthState\n",
    "''' , db)['birthState']\n",
    "states.head(3)"
   ]
  },
  {
   "cell_type": "code",
   "execution_count": 30,
   "metadata": {
    "tags": [
     "exercise"
    ]
   },
   "outputs": [
    {
     "data": {
      "text/html": [
       "<div>\n",
       "<style scoped>\n",
       "    .dataframe tbody tr th:only-of-type {\n",
       "        vertical-align: middle;\n",
       "    }\n",
       "\n",
       "    .dataframe tbody tr th {\n",
       "        vertical-align: top;\n",
       "    }\n",
       "\n",
       "    .dataframe thead th {\n",
       "        text-align: right;\n",
       "    }\n",
       "</style>\n",
       "<table border=\"1\" class=\"dataframe\">\n",
       "  <thead>\n",
       "    <tr style=\"text-align: right;\">\n",
       "      <th></th>\n",
       "      <th>total</th>\n",
       "      <th>birthState</th>\n",
       "    </tr>\n",
       "  </thead>\n",
       "  <tbody>\n",
       "    <tr>\n",
       "      <th>0</th>\n",
       "      <td>26</td>\n",
       "      <td>AB</td>\n",
       "    </tr>\n",
       "  </tbody>\n",
       "</table>\n",
       "</div>"
      ],
      "text/plain": [
       "   total birthState\n",
       "0     26         AB"
      ]
     },
     "execution_count": 30,
     "metadata": {},
     "output_type": "execute_result"
    }
   ],
   "source": [
    "def total_home_runs(state): \n",
    "    '''Returs the total number of home runs of all players from that state'''\n",
    "    query = '''\n",
    "    SELECT SUM(hr) AS total, birthState\n",
    "    FROM batting AS b\n",
    "    LEFT JOIN people AS p\n",
    "    ON b.playerid = p.playerid\n",
    "    WHERE birthState = ''' + \"'\" + state + \"'\" + '''\n",
    "    '''\n",
    "    return(pd.read_sql(query , db))\n",
    "total_home_runs('AB')"
   ]
  },
  {
   "cell_type": "markdown",
   "metadata": {
    "tags": [
     "exercise"
    ]
   },
   "source": [
    "_(yes, that query could be improved to the point of not needing concurrency - see below -, this is just for demonstration...)_"
   ]
  },
  {
   "cell_type": "code",
   "execution_count": 31,
   "metadata": {
    "tags": [
     "exercise"
    ]
   },
   "outputs": [],
   "source": [
    "import concurrent.futures, threading\n",
    "\n",
    "with concurrent.futures.ThreadPoolExecutor(max_workers=5) as executor:\n",
    "        result = executor.map(total_home_runs, states)\n",
    "        "
   ]
  },
  {
   "cell_type": "code",
   "execution_count": 32,
   "metadata": {
    "tags": [
     "exercise"
    ]
   },
   "outputs": [],
   "source": [
    "homeruns = [i.iloc[0] for i in result]"
   ]
  },
  {
   "cell_type": "code",
   "execution_count": 33,
   "metadata": {
    "tags": [
     "exercise"
    ]
   },
   "outputs": [
    {
     "data": {
      "text/plain": [
       "birthState\n",
       "CA    52477\n",
       "TX    15449\n",
       "FL    14918\n",
       "Name: total, dtype: int64"
      ]
     },
     "execution_count": 33,
     "metadata": {},
     "output_type": "execute_result"
    }
   ],
   "source": [
    "pd.DataFrame(homeruns).set_index('birthState').squeeze().sort_values(ascending=False).head(3)"
   ]
  },
  {
   "cell_type": "markdown",
   "metadata": {
    "tags": [
     "exercise"
    ]
   },
   "source": [
    "Yay California! We should account for the number of players in the data set. This time, we can ignore concurrency. "
   ]
  },
  {
   "cell_type": "code",
   "execution_count": 39,
   "metadata": {
    "tags": [
     "exercise"
    ]
   },
   "outputs": [
    {
     "data": {
      "text/plain": [
       "birthState\n",
       "MB    6.944444\n",
       "NM    5.842767\n",
       "BC    5.151659\n",
       "Name: total, dtype: float64"
      ]
     },
     "execution_count": 39,
     "metadata": {},
     "output_type": "execute_result"
    }
   ],
   "source": [
    "pd.read_sql('''\n",
    "    SELECT AVG(hr) AS total, birthState\n",
    "    FROM batting AS b\n",
    "    LEFT JOIN people AS p\n",
    "    ON b.playerid = p.playerid\n",
    "    GROUP BY birthState\n",
    "    HAVING LENGTH(birthstate)=2\n",
    "    ORDER BY total DESC\n",
    "    ''', db).set_index('birthState').squeeze().head(3)"
   ]
  },
  {
   "cell_type": "markdown",
   "metadata": {
    "tags": [
     "exercise"
    ]
   },
   "source": [
    "[MB](https://en.wikipedia.org/wiki/Manitoba), [BC](https://en.wikipedia.org/wiki/British_Columbia). Maybe <span>&#x1f1e8;&#x1f1e6;</span> is better in baseball than <span>&#x1f1fa;&#x1f1f8;</span>? "
   ]
  }
 ],
 "metadata": {
  "kernelspec": {
   "display_name": "Python 3 (ipykernel)",
   "language": "python",
   "name": "python3"
  },
  "language_info": {
   "codemirror_mode": {
    "name": "ipython",
    "version": 3
   },
   "file_extension": ".py",
   "mimetype": "text/x-python",
   "name": "python",
   "nbconvert_exporter": "python",
   "pygments_lexer": "ipython3",
   "version": "3.9.12"
  }
 },
 "nbformat": 4,
 "nbformat_minor": 2
}
